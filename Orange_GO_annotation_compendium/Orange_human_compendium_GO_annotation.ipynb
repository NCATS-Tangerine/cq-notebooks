{
 "cells": [
  {
   "cell_type": "code",
   "execution_count": 1,
   "metadata": {
    "collapsed": true
   },
   "outputs": [],
   "source": [
    "###setup\n",
    "\n",
    "import urllib.request\n",
    "import json \n",
    "import datetime\n",
    "import pandas as pd\n",
    "import numpy as np\n",
    "import array\n",
    "import matplotlib\n",
    "import seaborn\n"
   ]
  },
  {
   "cell_type": "code",
   "execution_count": 5,
   "metadata": {},
   "outputs": [
    {
     "name": "stdout",
     "output_type": "stream",
     "text": [
      "16:01:22.767628\n",
      "16:01:37.276831\n"
     ]
    }
   ],
   "source": [
    "print(datetime.datetime.now().time())\n",
    "\n",
    "###get human gene GO term associations\n",
    "#curl -X GET --header 'Accept: application/json' 'https://api.monarchinitiative.org/api/mart/gene/phenotype/NCBITaxon:9606'\n",
    "GO_data = []\n",
    "with urllib.request.urlopen(\"https://api.monarchinitiative.org/api/mart/gene/function/NCBITaxon:9606\") as url:\n",
    "    GO_data.append(json.loads(url.read().decode()))\n",
    "\n",
    "print(datetime.datetime.now().time())"
   ]
  },
  {
   "cell_type": "code",
   "execution_count": 6,
   "metadata": {},
   "outputs": [
    {
     "name": "stdout",
     "output_type": "stream",
     "text": [
      "21480\n",
      "{'objects': ['GO:0006357', 'GO:0006359', 'GO:0005634', 'GO:0001228', 'GO:0043565', 'GO:0006366', 'GO:0045944', 'GO:0046872'], 'subject': 'UniProtKB:P36508', 'subject_label': 'ZNF76', 'relation': None}\n"
     ]
    }
   ],
   "source": [
    "print(len(GO_data[0]))\n",
    "print(GO_data[0][1])"
   ]
  },
  {
   "cell_type": "code",
   "execution_count": 7,
   "metadata": {},
   "outputs": [
    {
     "name": "stdout",
     "output_type": "stream",
     "text": [
      "16:02:14.710402\n",
      "100\tUniProtKB:Q9H2S6\n",
      "200\tUniProtKB:O75715\n",
      "300\tUniProtKB:P05109\n",
      "400\tUniProtKB:Q14139\n",
      "500\tUniProtKB:O94851\n",
      "600\tUniProtKB:P13866\n",
      "700\tUniProtKB:Q9Y3I0\n",
      "800\tUniProtKB:O00287\n",
      "900\tUniProtKB:Q8NC44\n",
      "1000\tUniProtKB:Q9UBP4\n",
      "1100\tUniProtKB:P84095\n",
      "1200\tUniProtKB:Q9H832\n",
      "1300\tUniProtKB:Q9Y4Y9\n",
      "1400\tUniProtKB:Q8NC42\n",
      "1500\tUniProtKB:Q53GL7\n",
      "1600\tUniProtKB:A6NLU5\n",
      "1700\tUniProtKB:A0A096LNP1\n",
      "1800\tUniProtKB:O60894\n",
      "1900\tUniProtKB:Q9NYD6\n",
      "2000\tUniProtKB:Q6NSI4\n",
      "2100\tUniProtKB:P56962\n",
      "2200\tUniProtKB:Q9Y2K9\n",
      "2300\tUniProtKB:Q9UN86\n",
      "2400\tUniProtKB:Q86WA9\n",
      "2500\tUniProtKB:Q8NFW5\n",
      "2600\tUniProtKB:Q8N1Q8\n",
      "2700\tUniProtKB:Q9BQS6\n",
      "2800\tUniProtKB:Q14244\n",
      "2900\tUniProtKB:P23280\n",
      "3000\tUniProtKB:Q07343\n",
      "3100\tUniProtKB:Q15475\n",
      "3200\tUniProtKB:Q6P499\n",
      "3300\tUniProtKB:O75344\n",
      "3400\tUniProtKB:Q9UNX9\n",
      "3500\tUniProtKB:Q16718\n",
      "3600\tUniProtKB:Q4KMG9\n",
      "3700\tUniProtKB:Q9HBF4\n",
      "3800\tUniProtKB:Q5HY92\n",
      "3900\tUniProtKB:Q96I24\n",
      "4000\tUniProtKB:Q5XKL5\n",
      "4100\tUniProtKB:Q9Y5P8\n",
      "4200\tUniProtKB:A8MTL0\n",
      "4300\tUniProtKB:Q14676\n",
      "4400\tUniProtKB:Q9C026\n",
      "4500\tUniProtKB:P40925\n",
      "4600\tUniProtKB:Q7Z4W2\n",
      "4700\tUniProtKB:Q8NGS1\n",
      "4800\tUniProtKB:Q92686\n",
      "4900\tUniProtKB:P36873\n",
      "5000\tUniProtKB:Q9UKW6\n",
      "5100\tUniProtKB:Q9UHQ7\n",
      "5200\tUniProtKB:Q499Z4\n",
      "5300\tUniProtKB:P04049\n",
      "5400\tUniProtKB:P51570\n",
      "5500\tUniProtKB:Q86XR8\n",
      "5600\tUniProtKB:A0A0A0MT36\n",
      "5700\tUniProtKB:Q05519\n",
      "5800\tUniProtKB:Q8N8K9\n",
      "5900\tUniProtKB:Q13087\n",
      "6000\tUniProtKB:P04054\n",
      "6100\tUniProtKB:Q6NVU6\n",
      "6200\tUniProtKB:O00631\n",
      "6300\tUniProtKB:Q9GZR5\n",
      "6400\tUniProtKB:O60583\n",
      "6500\tUniProtKB:Q92729\n",
      "6600\tUniProtKB:Q9HA72\n",
      "6700\tUniProtKB:Q9BT78\n",
      "6800\tUniProtKB:Q96C12\n",
      "6900\tUniProtKB:P42704\n",
      "7000\tUniProtKB:Q9UKY0\n",
      "7100\tUniProtKB:P24588\n",
      "7200\tUniProtKB:O95822\n",
      "7300\tUniProtKB:O75608\n",
      "7400\tUniProtKB:O00591\n",
      "7500\tUniProtKB:Q9Y6V0\n",
      "7600\tUniProtKB:Q07890\n",
      "7700\tUniProtKB:Q9ULR0\n",
      "7800\tUniProtKB:P52952\n",
      "7900\tUniProtKB:O14828\n",
      "8000\tUniProtKB:Q9UPY8\n",
      "8100\tUniProtKB:Q9H9Y4\n",
      "8200\tUniProtKB:Q16537\n",
      "8300\tUniProtKB:P78356\n",
      "8400\tUniProtKB:Q15326\n",
      "8500\tUniProtKB:Q9BRJ2\n",
      "8600\tUniProtKB:Q9H492\n",
      "8700\tUniProtKB:Q9P0T7\n",
      "8800\tUniProtKB:Q96CK0\n",
      "8900\tUniProtKB:Q9Y4X0\n",
      "9000\tUniProtKB:Q5QJE6\n",
      "9100\tUniProtKB:Q7Z7C8\n",
      "9200\tUniProtKB:Q8WYJ6\n",
      "9300\tUniProtKB:Q99595\n",
      "9400\tUniProtKB:Q9Y388\n",
      "9500\tUniProtKB:A6NP11\n",
      "9600\tUniProtKB:Q8NGN6\n",
      "9700\tUniProtKB:P37023\n",
      "9800\tUniProtKB:Q9BYQ6\n",
      "9900\tUniProtKB:Q9GIP4\n",
      "10000\tUniProtKB:A0A024R161\n",
      "10100\tUniProtKB:P54855\n",
      "10200\tUniProtKB:Q9UBD3\n",
      "10300\tUniProtKB:Q9UDW1\n",
      "10400\tUniProtKB:Q05952\n",
      "10500\tUniProtKB:Q5TAP6\n",
      "10600\tUniProtKB:Q9BPU9\n",
      "10700\tUniProtKB:P62877\n",
      "10800\tUniProtKB:Q8N112\n",
      "10900\tUniProtKB:O95219\n",
      "11000\tUniProtKB:O75427\n",
      "11100\tUniProtKB:Q3MIR4\n",
      "11200\tUniProtKB:Q5CZA5\n",
      "11300\tUniProtKB:O15151\n",
      "11400\tUniProtKB:O75319\n",
      "11500\tUniProtKB:A0A075B6J9\n",
      "11600\tUniProtKB:P46087\n",
      "11700\tUniProtKB:Q8NCM8\n",
      "11800\tUniProtKB:Q9P2K3\n",
      "11900\tUniProtKB:Q8TEK3\n",
      "12000\tUniProtKB:Q14764\n",
      "12100\tUniProtKB:O95402\n",
      "12200\tUniProtKB:Q02318\n",
      "12300\tIntAct:EBI-9990131\n",
      "12400\tUniProtKB:Q9ULC4\n",
      "12500\tUniProtKB:Q9UQK1\n",
      "12600\tUniProtKB:Q96S99\n",
      "12700\tUniProtKB:Q8WXG8\n",
      "12800\tUniProtKB:Q8N5B7\n",
      "12900\tUniProtKB:A6NC86\n",
      "13000\tUniProtKB:Q6ZRS4\n",
      "13100\tRNAcentral:URS000075A4E8_9606\n",
      "13200\tUniProtKB:Q9H649\n",
      "13300\tUniProtKB:P12980\n",
      "13400\tUniProtKB:Q9UN81\n",
      "13500\tUniProtKB:Q9Y6E7\n",
      "13600\tUniProtKB:P27658\n",
      "13700\tUniProtKB:Q16635\n",
      "13800\tUniProtKB:P15421\n",
      "13900\tRNAcentral:URS00005E651E_9606\n",
      "14000\tUniProtKB:Q495T6\n",
      "14100\tUniProtKB:Q9NVK5\n",
      "14200\tIntAct:EBI-9637198\n",
      "14300\tUniProtKB:Q8WTV0\n",
      "14400\tUniProtKB:Q9P031\n",
      "14500\tUniProtKB:P08648\n",
      "14600\tUniProtKB:Q16134\n",
      "14700\tUniProtKB:Q96QG7\n",
      "14800\tUniProtKB:Q5SRI9\n",
      "14900\tUniProtKB:P19099\n",
      "15000\tUniProtKB:Q86XF7\n",
      "15100\tUniProtKB:Q9UKK3\n",
      "15200\tUniProtKB:Q86VQ6\n",
      "15300\tUniProtKB:Q00056\n",
      "15400\tUniProtKB:Q9NVM9\n",
      "15500\tUniProtKB:Q9Y5M6\n",
      "15600\tUniProtKB:A6NFI3\n",
      "15700\tUniProtKB:P13498\n",
      "15800\tUniProtKB:Q06481\n",
      "15900\tUniProtKB:Q14678\n",
      "16000\tUniProtKB:Q6P1S2\n",
      "16100\tUniProtKB:Q494R4\n",
      "16200\tUniProtKB:Q5FBB7\n",
      "16300\tUniProtKB:Q7L8A9\n",
      "16400\tUniProtKB:P0CJ74\n",
      "16500\tUniProtKB:P15408\n",
      "16600\tUniProtKB:Q14566\n",
      "16700\tUniProtKB:Q9Y2G7\n",
      "16800\tUniProtKB:P67809\n",
      "16900\tUniProtKB:Q7Z460\n",
      "17000\tUniProtKB:Q9BZE3\n",
      "17100\tUniProtKB:Q96FB5\n",
      "17200\tUniProtKB:Q15546\n",
      "17300\tUniProtKB:O75477\n",
      "17400\tUniProtKB:Q8TAA5\n",
      "17500\tUniProtKB:O75311\n",
      "17600\tUniProtKB:Q99543\n",
      "17700\tUniProtKB:Q8N239\n",
      "17800\tUniProtKB:Q8NHU6\n",
      "17900\tUniProtKB:A3QJZ7\n",
      "18000\tUniProtKB:A8MVW5\n",
      "18100\tRNAcentral:URS00001D6BAE_9606\n",
      "18200\tUniProtKB:P11177\n",
      "18300\tUniProtKB:A4D256\n",
      "18400\tUniProtKB:P02675\n",
      "18500\tUniProtKB:P40261\n",
      "18600\tUniProtKB:Q6IC98\n",
      "18700\tUniProtKB:Q8N8E3\n",
      "18800\tUniProtKB:A0A1B0GU03\n",
      "18900\tUniProtKB:P49591\n",
      "19000\tRNAcentral:URS00000EEE35_9606\n",
      "19100\tUniProtKB:P11441\n",
      "19200\tUniProtKB:Q8NGK0\n",
      "19300\tRNAcentral:URS000075B8B8_9606\n",
      "19400\tUniProtKB:Q9UQ16\n",
      "19500\tUniProtKB:Q92564\n",
      "19600\tUniProtKB:Q13950\n",
      "19700\tUniProtKB:Q99742\n",
      "19800\tUniProtKB:Q2WEN9\n",
      "19900\tUniProtKB:Q8NGL6\n",
      "20000\tUniProtKB:Q9UHR4\n",
      "20100\tUniProtKB:Q15825\n",
      "20200\tUniProtKB:P46934\n",
      "20300\tUniProtKB:Q53H54\n",
      "20400\tUniProtKB:Q9H5V8\n",
      "20500\tUniProtKB:Q9Y2H9\n",
      "20600\tUniProtKB:P04798\n",
      "20700\tUniProtKB:Q9P0V9\n",
      "20800\tUniProtKB:Q16600\n",
      "20900\tUniProtKB:Q8IWP9\n",
      "21000\tUniProtKB:P17026\n",
      "21100\tUniProtKB:P0C7M4\n",
      "21200\tUniProtKB:P29376\n",
      "21300\tUniProtKB:Q52LA3\n",
      "21400\tUniProtKB:Q9UBN4\n",
      "19864\n",
      "16:02:14.742773\n"
     ]
    }
   ],
   "source": [
    "###Create gene - multi-term dictionary\n",
    "\n",
    "print(datetime.datetime.now().time())\n",
    "\n",
    "go_annot = dict()\n",
    "for i in range(1,len(GO_data[0])):\n",
    "    if i % 100 == 0 :\n",
    "        print(str(i)+\"\\t\"+GO_data[0][i]['subject'])\n",
    "        \n",
    "    go_annot[GO_data[0][i]['subject']] = GO_data[0][i]['objects'] \n",
    "                 \n",
    "keys = go_annot.keys()\n",
    "print(len(keys))\n",
    "\n",
    "print(datetime.datetime.now().time())\n"
   ]
  },
  {
   "cell_type": "code",
   "execution_count": 8,
   "metadata": {},
   "outputs": [
    {
     "name": "stdout",
     "output_type": "stream",
     "text": [
      "16:02:19.664252\n",
      "['GO:0045766', 'GO:0006958', 'GO:0001701', 'GO:0001970', 'GO:0030449', 'GO:0045087', 'GO:0006956', 'GO:0005579', 'GO:0005576', 'GO:0005515', 'GO:0070062', 'GO:0019835']\n",
      "16:02:19.761041\n"
     ]
    }
   ],
   "source": [
    "###Build dataframe with GO term presence/absence for all human genes\n",
    "###Currently something is very SLOW\n",
    "###Probably too many .index() calls?\n",
    "\n",
    "print(datetime.datetime.now().time())\n",
    "\n",
    "print(go_annot['UniProtKB:P13671'])\n",
    "\n",
    "###count dictionary for all GO terms with human gene coverage\n",
    "go_total = dict()\n",
    "for k in keys:\n",
    "    curgo = go_annot[k]\n",
    "    for g in curgo:\n",
    "        if(g not in go_total) :\n",
    "            go_total[g] = 1\n",
    "        else :\n",
    "            val = go_total[g]\n",
    "            go_total[g] = val+1\n",
    "    \n",
    "go_annot_ref_list = list(go_total.keys())\n",
    "\n",
    "print(datetime.datetime.now().time())\n"
   ]
  },
  {
   "cell_type": "code",
   "execution_count": 9,
   "metadata": {},
   "outputs": [
    {
     "name": "stdout",
     "output_type": "stream",
     "text": [
      "16:02:23.030204\n",
      "16:02:23.034928\n"
     ]
    }
   ],
   "source": [
    "###column index lookup dict\n",
    "print(datetime.datetime.now().time())\n",
    "\n",
    "go_annot_ref_index = dict()\n",
    "\n",
    "for i in range(0, len(go_annot_ref_list)):\n",
    "    go_annot_ref_index[go_annot_ref_list[i]] = i\n",
    "               \n",
    "print(datetime.datetime.now().time())"
   ]
  },
  {
   "cell_type": "code",
   "execution_count": 10,
   "metadata": {},
   "outputs": [
    {
     "name": "stdout",
     "output_type": "stream",
     "text": [
      "16:02:25.597254\n",
      "0\n",
      "1000\n",
      "2000\n",
      "3000\n",
      "4000\n",
      "5000\n",
      "6000\n",
      "7000\n",
      "8000\n",
      "9000\n",
      "10000\n",
      "11000\n",
      "12000\n",
      "13000\n",
      "14000\n",
      "15000\n",
      "16000\n",
      "17000\n",
      "18000\n",
      "19000\n",
      "(19864, 16828)\n",
      "16:02:26.047267\n"
     ]
    }
   ],
   "source": [
    "print(datetime.datetime.now().time())\n",
    "\n",
    "#go_annot_df = pd.DataFrame(index=np.arange(0, len(keys)),columns=go_annot_list)\n",
    "\n",
    "go_annot_mat = np.zeros(shape = (len(keys), len(go_annot_ref_list)))\n",
    "\n",
    "count = 0\n",
    "lengo = len(go_annot_ref_list)\n",
    "for k in keys:\n",
    "    curgo = go_annot[k]\n",
    "    for g in curgo:\n",
    "        go_annot_mat[count][go_annot_ref_index[g]] = 1\n",
    "    #print(len(curgo))\n",
    "    if count % 1000 == 0:\n",
    "        print (count)\n",
    "    count = count+1\n",
    "\n",
    "go_annot_df = pd.DataFrame(go_annot_mat,columns=go_annot_ref_list, index=keys)\n",
    "\n",
    "print(go_annot_df.shape)\n",
    "\n",
    "print(datetime.datetime.now().time())"
   ]
  },
  {
   "cell_type": "code",
   "execution_count": 11,
   "metadata": {},
   "outputs": [
    {
     "name": "stdout",
     "output_type": "stream",
     "text": [
      "16:02:28.147218\n",
      "16:07:08.795863\n"
     ]
    }
   ],
   "source": [
    "###output full annotation matrix to file, for the record\n",
    "print(datetime.datetime.now().time())\n",
    "#np.savetxt(r'./human_GO_annotation_matrix.txt', go_annot_df.values, fmt='%d')\n",
    "go_annot_df.to_csv(r'human_GO_annotation_matrix.txt', sep='\\t')\n",
    "print(datetime.datetime.now().time())\n"
   ]
  },
  {
   "cell_type": "code",
   "execution_count": 12,
   "metadata": {},
   "outputs": [
    {
     "name": "stdout",
     "output_type": "stream",
     "text": [
      "GO:0006357     386.0\n",
      "GO:0006359      12.0\n",
      "GO:0005634    4821.0\n",
      "GO:0001228     115.0\n",
      "GO:0043565     349.0\n",
      "GO:0006366     517.0\n",
      "GO:0045944     939.0\n",
      "GO:0046872    2176.0\n",
      "GO:0009611      59.0\n",
      "GO:0005654    2722.0\n",
      "GO:0006351    1694.0\n",
      "GO:0001525     196.0\n",
      "GO:0005667     163.0\n",
      "GO:0060743       3.0\n",
      "GO:0040008      45.0\n",
      "GO:0008544      78.0\n",
      "GO:0006355    1274.0\n",
      "GO:0060527       5.0\n",
      "GO:0033574      32.0\n",
      "GO:0005783     806.0\n",
      "GO:0048193       9.0\n",
      "GO:0030008       7.0\n",
      "GO:0005794     787.0\n",
      "GO:0045836       5.0\n",
      "GO:0051260     185.0\n",
      "GO:0007338      51.0\n",
      "GO:0006338      73.0\n",
      "GO:0045740      39.0\n",
      "GO:0000789       1.0\n",
      "GO:0009790      35.0\n",
      "               ...  \n",
      "GO:0009628       1.0\n",
      "GO:0016590       1.0\n",
      "GO:1904045       1.0\n",
      "GO:0032831       1.0\n",
      "GO:0002362       1.0\n",
      "GO:0002851       1.0\n",
      "GO:0048613       1.0\n",
      "GO:0060446       1.0\n",
      "GO:0060461       1.0\n",
      "GO:0014822       1.0\n",
      "GO:0048371       1.0\n",
      "GO:0004102       1.0\n",
      "GO:0032401       1.0\n",
      "GO:0044268       1.0\n",
      "GO:0019319       1.0\n",
      "GO:0019249       1.0\n",
      "GO:0045819       1.0\n",
      "GO:0035786       1.0\n",
      "GO:0015292       1.0\n",
      "GO:0050104       1.0\n",
      "GO:0031279       1.0\n",
      "GO:0010855       1.0\n",
      "GO:0001642       1.0\n",
      "GO:0098850       1.0\n",
      "GO:1900117       1.0\n",
      "GO:0003218       1.0\n",
      "GO:0060980       1.0\n",
      "GO:0016866       1.0\n",
      "GO:0019242       1.0\n",
      "GO:0031626       1.0\n",
      "dtype: float64\n"
     ]
    }
   ],
   "source": [
    "###GO annotation column sums, for enrichment analysis bg etc.\n",
    "go_col_sum = go_annot_df[go_annot_ref_list].sum()\n",
    "\n",
    "print(go_col_sum)"
   ]
  },
  {
   "cell_type": "code",
   "execution_count": 13,
   "metadata": {},
   "outputs": [
    {
     "name": "stdout",
     "output_type": "stream",
     "text": [
      "(19864, 16828)\n",
      "(19864, 11637)\n"
     ]
    }
   ],
   "source": [
    "print(go_annot_df.shape)\n",
    "#go_annot_df_filter = go_annot_df.loc[(go_annot_df!=0).any(0)]\n",
    "#go_annot_df_filter = go_annot_df.loc[(go_col_sum>1).any(0)]\n",
    "go_annot_df_filter = go_annot_df.drop([col for col, val in go_annot_df.sum().iteritems() if val < 2], axis=1, inplace=False)\n",
    "#go_col_sum\n",
    "print(go_annot_df_filter.shape)"
   ]
  },
  {
   "cell_type": "code",
   "execution_count": 14,
   "metadata": {},
   "outputs": [
    {
     "name": "stdout",
     "output_type": "stream",
     "text": [
      "16:07:36.813652\n",
      "16:10:25.589641\n"
     ]
    }
   ],
   "source": [
    "###output filtered annotation matrix to file, for the record\n",
    "print(datetime.datetime.now().time())\n",
    "#np.savetxt(r'./human_GO_annotation_matrix.txt', go_annot_df.values, fmt='%d')\n",
    "go_annot_df_filter.to_csv(r'human_GO_annotation_matrix_great1.txt', sep='\\t')\n",
    "print(datetime.datetime.now().time())"
   ]
  },
  {
   "cell_type": "code",
   "execution_count": 15,
   "metadata": {},
   "outputs": [
    {
     "name": "stdout",
     "output_type": "stream",
     "text": [
      "16:11:09.365562\n"
     ]
    },
    {
     "name": "stderr",
     "output_type": "stream",
     "text": [
      "/Users/marcin/anaconda/lib/python3.6/site-packages/matplotlib/cbook.py:136: MatplotlibDeprecationWarning: The axisbg attribute was deprecated in version 2.0. Use facecolor instead.\n",
      "  warnings.warn(message, mplDeprecation, stacklevel=1)\n"
     ]
    },
    {
     "ename": "RecursionError",
     "evalue": "maximum recursion depth exceeded while calling a Python object",
     "output_type": "error",
     "traceback": [
      "\u001b[0;31m---------------------------------------------------------------------------\u001b[0m",
      "\u001b[0;31mRecursionError\u001b[0m                            Traceback (most recent call last)",
      "\u001b[0;32m<ipython-input-15-dfd55b1ca82f>\u001b[0m in \u001b[0;36m<module>\u001b[0;34m()\u001b[0m\n\u001b[1;32m      1\u001b[0m \u001b[0;31m###creata clustered heatmap visualization\u001b[0m\u001b[0;34m\u001b[0m\u001b[0;34m\u001b[0m\u001b[0m\n\u001b[1;32m      2\u001b[0m \u001b[0mprint\u001b[0m\u001b[0;34m(\u001b[0m\u001b[0mdatetime\u001b[0m\u001b[0;34m.\u001b[0m\u001b[0mdatetime\u001b[0m\u001b[0;34m.\u001b[0m\u001b[0mnow\u001b[0m\u001b[0;34m(\u001b[0m\u001b[0;34m)\u001b[0m\u001b[0;34m.\u001b[0m\u001b[0mtime\u001b[0m\u001b[0;34m(\u001b[0m\u001b[0;34m)\u001b[0m\u001b[0;34m)\u001b[0m\u001b[0;34m\u001b[0m\u001b[0m\n\u001b[0;32m----> 3\u001b[0;31m \u001b[0mg\u001b[0m \u001b[0;34m=\u001b[0m \u001b[0mseaborn\u001b[0m\u001b[0;34m.\u001b[0m\u001b[0mclustermap\u001b[0m\u001b[0;34m(\u001b[0m\u001b[0mgo_annot_df_filter\u001b[0m\u001b[0;34m,\u001b[0m \u001b[0mmetric\u001b[0m\u001b[0;34m=\u001b[0m\u001b[0;34m\"Hamming\"\u001b[0m\u001b[0;34m,\u001b[0m \u001b[0mlinkage\u001b[0m\u001b[0;34m=\u001b[0m\u001b[0;34m\"single\"\u001b[0m\u001b[0;34m)\u001b[0m\u001b[0;34m\u001b[0m\u001b[0m\n\u001b[0m\u001b[1;32m      4\u001b[0m \u001b[0mprint\u001b[0m\u001b[0;34m(\u001b[0m\u001b[0mdatetime\u001b[0m\u001b[0;34m.\u001b[0m\u001b[0mdatetime\u001b[0m\u001b[0;34m.\u001b[0m\u001b[0mnow\u001b[0m\u001b[0;34m(\u001b[0m\u001b[0;34m)\u001b[0m\u001b[0;34m.\u001b[0m\u001b[0mtime\u001b[0m\u001b[0;34m(\u001b[0m\u001b[0;34m)\u001b[0m\u001b[0;34m)\u001b[0m\u001b[0;34m\u001b[0m\u001b[0m\n",
      "\u001b[0;32m/Users/marcin/anaconda/lib/python3.6/site-packages/seaborn/matrix.py\u001b[0m in \u001b[0;36mclustermap\u001b[0;34m(data, pivot_kws, method, metric, z_score, standard_scale, figsize, cbar_kws, row_cluster, col_cluster, row_linkage, col_linkage, row_colors, col_colors, mask, **kwargs)\u001b[0m\n\u001b[1;32m   1250\u001b[0m                         \u001b[0mrow_cluster\u001b[0m\u001b[0;34m=\u001b[0m\u001b[0mrow_cluster\u001b[0m\u001b[0;34m,\u001b[0m \u001b[0mcol_cluster\u001b[0m\u001b[0;34m=\u001b[0m\u001b[0mcol_cluster\u001b[0m\u001b[0;34m,\u001b[0m\u001b[0;34m\u001b[0m\u001b[0m\n\u001b[1;32m   1251\u001b[0m                         \u001b[0mrow_linkage\u001b[0m\u001b[0;34m=\u001b[0m\u001b[0mrow_linkage\u001b[0m\u001b[0;34m,\u001b[0m \u001b[0mcol_linkage\u001b[0m\u001b[0;34m=\u001b[0m\u001b[0mcol_linkage\u001b[0m\u001b[0;34m,\u001b[0m\u001b[0;34m\u001b[0m\u001b[0m\n\u001b[0;32m-> 1252\u001b[0;31m                         **kwargs)\n\u001b[0m",
      "\u001b[0;32m/Users/marcin/anaconda/lib/python3.6/site-packages/seaborn/matrix.py\u001b[0m in \u001b[0;36mplot\u001b[0;34m(self, metric, method, colorbar_kws, row_cluster, col_cluster, row_linkage, col_linkage, **kws)\u001b[0m\n\u001b[1;32m   1085\u001b[0m         \u001b[0mcolorbar_kws\u001b[0m \u001b[0;34m=\u001b[0m \u001b[0;34m{\u001b[0m\u001b[0;34m}\u001b[0m \u001b[0;32mif\u001b[0m \u001b[0mcolorbar_kws\u001b[0m \u001b[0;32mis\u001b[0m \u001b[0;32mNone\u001b[0m \u001b[0;32melse\u001b[0m \u001b[0mcolorbar_kws\u001b[0m\u001b[0;34m\u001b[0m\u001b[0m\n\u001b[1;32m   1086\u001b[0m         self.plot_dendrograms(row_cluster, col_cluster, metric, method,\n\u001b[0;32m-> 1087\u001b[0;31m                               row_linkage=row_linkage, col_linkage=col_linkage)\n\u001b[0m\u001b[1;32m   1088\u001b[0m         \u001b[0;32mtry\u001b[0m\u001b[0;34m:\u001b[0m\u001b[0;34m\u001b[0m\u001b[0m\n\u001b[1;32m   1089\u001b[0m             \u001b[0mxind\u001b[0m \u001b[0;34m=\u001b[0m \u001b[0mself\u001b[0m\u001b[0;34m.\u001b[0m\u001b[0mdendrogram_col\u001b[0m\u001b[0;34m.\u001b[0m\u001b[0mreordered_ind\u001b[0m\u001b[0;34m\u001b[0m\u001b[0m\n",
      "\u001b[0;32m/Users/marcin/anaconda/lib/python3.6/site-packages/seaborn/matrix.py\u001b[0m in \u001b[0;36mplot_dendrograms\u001b[0;34m(self, row_cluster, col_cluster, metric, method, row_linkage, col_linkage)\u001b[0m\n\u001b[1;32m    989\u001b[0m             self.dendrogram_row = dendrogram(\n\u001b[1;32m    990\u001b[0m                 \u001b[0mself\u001b[0m\u001b[0;34m.\u001b[0m\u001b[0mdata2d\u001b[0m\u001b[0;34m,\u001b[0m \u001b[0mmetric\u001b[0m\u001b[0;34m=\u001b[0m\u001b[0mmetric\u001b[0m\u001b[0;34m,\u001b[0m \u001b[0mmethod\u001b[0m\u001b[0;34m=\u001b[0m\u001b[0mmethod\u001b[0m\u001b[0;34m,\u001b[0m \u001b[0mlabel\u001b[0m\u001b[0;34m=\u001b[0m\u001b[0;32mFalse\u001b[0m\u001b[0;34m,\u001b[0m \u001b[0maxis\u001b[0m\u001b[0;34m=\u001b[0m\u001b[0;36m0\u001b[0m\u001b[0;34m,\u001b[0m\u001b[0;34m\u001b[0m\u001b[0m\n\u001b[0;32m--> 991\u001b[0;31m                 ax=self.ax_row_dendrogram, rotate=True, linkage=row_linkage)\n\u001b[0m\u001b[1;32m    992\u001b[0m         \u001b[0;32melse\u001b[0m\u001b[0;34m:\u001b[0m\u001b[0;34m\u001b[0m\u001b[0m\n\u001b[1;32m    993\u001b[0m             \u001b[0mself\u001b[0m\u001b[0;34m.\u001b[0m\u001b[0max_row_dendrogram\u001b[0m\u001b[0;34m.\u001b[0m\u001b[0mset_xticks\u001b[0m\u001b[0;34m(\u001b[0m\u001b[0;34m[\u001b[0m\u001b[0;34m]\u001b[0m\u001b[0;34m)\u001b[0m\u001b[0;34m\u001b[0m\u001b[0m\n",
      "\u001b[0;32m/Users/marcin/anaconda/lib/python3.6/site-packages/seaborn/matrix.py\u001b[0m in \u001b[0;36mdendrogram\u001b[0;34m(data, linkage, axis, label, metric, method, rotate, ax)\u001b[0m\n\u001b[1;32m    715\u001b[0m     plotter = _DendrogramPlotter(data, linkage=linkage, axis=axis,\n\u001b[1;32m    716\u001b[0m                                  \u001b[0mmetric\u001b[0m\u001b[0;34m=\u001b[0m\u001b[0mmetric\u001b[0m\u001b[0;34m,\u001b[0m \u001b[0mmethod\u001b[0m\u001b[0;34m=\u001b[0m\u001b[0mmethod\u001b[0m\u001b[0;34m,\u001b[0m\u001b[0;34m\u001b[0m\u001b[0m\n\u001b[0;32m--> 717\u001b[0;31m                                  label=label, rotate=rotate)\n\u001b[0m\u001b[1;32m    718\u001b[0m     \u001b[0;32mif\u001b[0m \u001b[0max\u001b[0m \u001b[0;32mis\u001b[0m \u001b[0;32mNone\u001b[0m\u001b[0;34m:\u001b[0m\u001b[0;34m\u001b[0m\u001b[0m\n\u001b[1;32m    719\u001b[0m         \u001b[0max\u001b[0m \u001b[0;34m=\u001b[0m \u001b[0mplt\u001b[0m\u001b[0;34m.\u001b[0m\u001b[0mgca\u001b[0m\u001b[0;34m(\u001b[0m\u001b[0;34m)\u001b[0m\u001b[0;34m\u001b[0m\u001b[0m\n",
      "\u001b[0;32m/Users/marcin/anaconda/lib/python3.6/site-packages/seaborn/matrix.py\u001b[0m in \u001b[0;36m__init__\u001b[0;34m(self, data, linkage, metric, method, axis, label, rotate)\u001b[0m\n\u001b[1;32m    533\u001b[0m         \u001b[0;32melse\u001b[0m\u001b[0;34m:\u001b[0m\u001b[0;34m\u001b[0m\u001b[0m\n\u001b[1;32m    534\u001b[0m             \u001b[0mself\u001b[0m\u001b[0;34m.\u001b[0m\u001b[0mlinkage\u001b[0m \u001b[0;34m=\u001b[0m \u001b[0mlinkage\u001b[0m\u001b[0;34m\u001b[0m\u001b[0m\n\u001b[0;32m--> 535\u001b[0;31m         \u001b[0mself\u001b[0m\u001b[0;34m.\u001b[0m\u001b[0mdendrogram\u001b[0m \u001b[0;34m=\u001b[0m \u001b[0mself\u001b[0m\u001b[0;34m.\u001b[0m\u001b[0mcalculate_dendrogram\u001b[0m\u001b[0;34m(\u001b[0m\u001b[0;34m)\u001b[0m\u001b[0;34m\u001b[0m\u001b[0m\n\u001b[0m\u001b[1;32m    536\u001b[0m \u001b[0;34m\u001b[0m\u001b[0m\n\u001b[1;32m    537\u001b[0m         \u001b[0;31m# Dendrogram ends are always at multiples of 5, who knows why\u001b[0m\u001b[0;34m\u001b[0m\u001b[0;34m\u001b[0m\u001b[0m\n",
      "\u001b[0;32m/Users/marcin/anaconda/lib/python3.6/site-packages/seaborn/matrix.py\u001b[0m in \u001b[0;36mcalculate_dendrogram\u001b[0;34m(self)\u001b[0m\n\u001b[1;32m    613\u001b[0m         \"\"\"\n\u001b[1;32m    614\u001b[0m         return hierarchy.dendrogram(self.linkage, no_plot=True,\n\u001b[0;32m--> 615\u001b[0;31m                                     color_threshold=-np.inf)\n\u001b[0m\u001b[1;32m    616\u001b[0m \u001b[0;34m\u001b[0m\u001b[0m\n\u001b[1;32m    617\u001b[0m     \u001b[0;34m@\u001b[0m\u001b[0mproperty\u001b[0m\u001b[0;34m\u001b[0m\u001b[0m\n",
      "\u001b[0;32m/Users/marcin/anaconda/lib/python3.6/site-packages/scipy/cluster/hierarchy.py\u001b[0m in \u001b[0;36mdendrogram\u001b[0;34m(Z, p, truncate_mode, color_threshold, get_leaves, orientation, labels, count_sort, distance_sort, show_leaf_counts, no_plot, no_labels, leaf_font_size, leaf_rotation, leaf_label_func, show_contracted, link_color_func, ax, above_threshold_color)\u001b[0m\n\u001b[1;32m   2363\u001b[0m         \u001b[0mcontraction_marks\u001b[0m\u001b[0;34m=\u001b[0m\u001b[0mcontraction_marks\u001b[0m\u001b[0;34m,\u001b[0m\u001b[0;34m\u001b[0m\u001b[0m\n\u001b[1;32m   2364\u001b[0m         \u001b[0mlink_color_func\u001b[0m\u001b[0;34m=\u001b[0m\u001b[0mlink_color_func\u001b[0m\u001b[0;34m,\u001b[0m\u001b[0;34m\u001b[0m\u001b[0m\n\u001b[0;32m-> 2365\u001b[0;31m         above_threshold_color=above_threshold_color)\n\u001b[0m\u001b[1;32m   2366\u001b[0m \u001b[0;34m\u001b[0m\u001b[0m\n\u001b[1;32m   2367\u001b[0m     \u001b[0;32mif\u001b[0m \u001b[0;32mnot\u001b[0m \u001b[0mno_plot\u001b[0m\u001b[0;34m:\u001b[0m\u001b[0;34m\u001b[0m\u001b[0m\n",
      "\u001b[0;32m/Users/marcin/anaconda/lib/python3.6/site-packages/scipy/cluster/hierarchy.py\u001b[0m in \u001b[0;36m_dendrogram_calculate_info\u001b[0;34m(Z, p, truncate_mode, color_threshold, get_leaves, orientation, labels, count_sort, distance_sort, show_leaf_counts, i, iv, ivl, n, icoord_list, dcoord_list, lvs, mhr, current_color, color_list, currently_below_threshold, leaf_label_func, level, contraction_marks, link_color_func, above_threshold_color)\u001b[0m\n\u001b[1;32m   2649\u001b[0m             \u001b[0mlevel\u001b[0m\u001b[0;34m=\u001b[0m\u001b[0mlevel\u001b[0m \u001b[0;34m+\u001b[0m \u001b[0;36m1\u001b[0m\u001b[0;34m,\u001b[0m \u001b[0mcontraction_marks\u001b[0m\u001b[0;34m=\u001b[0m\u001b[0mcontraction_marks\u001b[0m\u001b[0;34m,\u001b[0m\u001b[0;34m\u001b[0m\u001b[0m\n\u001b[1;32m   2650\u001b[0m             \u001b[0mlink_color_func\u001b[0m\u001b[0;34m=\u001b[0m\u001b[0mlink_color_func\u001b[0m\u001b[0;34m,\u001b[0m\u001b[0;34m\u001b[0m\u001b[0m\n\u001b[0;32m-> 2651\u001b[0;31m             above_threshold_color=above_threshold_color)\n\u001b[0m\u001b[1;32m   2652\u001b[0m \u001b[0;34m\u001b[0m\u001b[0m\n\u001b[1;32m   2653\u001b[0m     \u001b[0mmax_dist\u001b[0m \u001b[0;34m=\u001b[0m \u001b[0mmax\u001b[0m\u001b[0;34m(\u001b[0m\u001b[0muamd\u001b[0m\u001b[0;34m,\u001b[0m \u001b[0mubmd\u001b[0m\u001b[0;34m,\u001b[0m \u001b[0mh\u001b[0m\u001b[0;34m)\u001b[0m\u001b[0;34m\u001b[0m\u001b[0m\n",
      "... last 1 frames repeated, from the frame below ...\n",
      "\u001b[0;32m/Users/marcin/anaconda/lib/python3.6/site-packages/scipy/cluster/hierarchy.py\u001b[0m in \u001b[0;36m_dendrogram_calculate_info\u001b[0;34m(Z, p, truncate_mode, color_threshold, get_leaves, orientation, labels, count_sort, distance_sort, show_leaf_counts, i, iv, ivl, n, icoord_list, dcoord_list, lvs, mhr, current_color, color_list, currently_below_threshold, leaf_label_func, level, contraction_marks, link_color_func, above_threshold_color)\u001b[0m\n\u001b[1;32m   2649\u001b[0m             \u001b[0mlevel\u001b[0m\u001b[0;34m=\u001b[0m\u001b[0mlevel\u001b[0m \u001b[0;34m+\u001b[0m \u001b[0;36m1\u001b[0m\u001b[0;34m,\u001b[0m \u001b[0mcontraction_marks\u001b[0m\u001b[0;34m=\u001b[0m\u001b[0mcontraction_marks\u001b[0m\u001b[0;34m,\u001b[0m\u001b[0;34m\u001b[0m\u001b[0m\n\u001b[1;32m   2650\u001b[0m             \u001b[0mlink_color_func\u001b[0m\u001b[0;34m=\u001b[0m\u001b[0mlink_color_func\u001b[0m\u001b[0;34m,\u001b[0m\u001b[0;34m\u001b[0m\u001b[0m\n\u001b[0;32m-> 2651\u001b[0;31m             above_threshold_color=above_threshold_color)\n\u001b[0m\u001b[1;32m   2652\u001b[0m \u001b[0;34m\u001b[0m\u001b[0m\n\u001b[1;32m   2653\u001b[0m     \u001b[0mmax_dist\u001b[0m \u001b[0;34m=\u001b[0m \u001b[0mmax\u001b[0m\u001b[0;34m(\u001b[0m\u001b[0muamd\u001b[0m\u001b[0;34m,\u001b[0m \u001b[0mubmd\u001b[0m\u001b[0;34m,\u001b[0m \u001b[0mh\u001b[0m\u001b[0;34m)\u001b[0m\u001b[0;34m\u001b[0m\u001b[0m\n",
      "\u001b[0;31mRecursionError\u001b[0m: maximum recursion depth exceeded while calling a Python object"
     ]
    }
   ],
   "source": [
    "###creata clustered heatmap visualization\n",
    "print(datetime.datetime.now().time())\n",
    "g = seaborn.clustermap(go_annot_df_filter, metric=\"Hamming\", linkage=\"single\")\n",
    "print(datetime.datetime.now().time())"
   ]
  }
 ],
 "metadata": {
  "kernelspec": {
   "display_name": "Python 3",
   "language": "python",
   "name": "python3"
  },
  "language_info": {
   "codemirror_mode": {
    "name": "ipython",
    "version": 3
   },
   "file_extension": ".py",
   "mimetype": "text/x-python",
   "name": "python",
   "nbconvert_exporter": "python",
   "pygments_lexer": "ipython3",
   "version": "3.6.1"
  }
 },
 "nbformat": 4,
 "nbformat_minor": 2
}
