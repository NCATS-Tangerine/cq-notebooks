{
 "cells": [
  {
   "cell_type": "markdown",
   "metadata": {
    "deletable": true,
    "editable": true
   },
   "source": [
    "# Orange Team CQ#1.7\n",
    "\n",
    "**Query:** What genes show high phenotypic similarity to the 11 Fanconi Anemia core complex genes (set FA-core)?\n",
    "\n",
    "## Workflow:\n",
    "\n",
    "\n",
    "**Input:** NCBIGene identifiers for 11 human FA-core genes\n",
    "\n",
    "1. Retrieve orthologs of FA-core genes and add to human FA-core set\n",
    "2. Retrieve phenotype terms associated genes in this set\n",
    "3. Execute PhenoSim analysis to return ranked list of phenotypically similar genes\n",
    "4. Select subset of genes meeting some defined threshhold\n",
    "5. Retrieve human orthologs of all non-human genes in this set\n",
    "\n",
    "**Output:** GeneSetQ7 (phenotypically similar human genes based on cross-species PhenoSim analysis)\n",
    "\n",
    "### Contributors:\n",
    "\n",
    "- Greg Stupp\n",
    "- Tong Shu Li\n",
    "- Michael Yu"
   ]
  },
  {
   "cell_type": "markdown",
   "metadata": {
    "deletable": true,
    "editable": true
   },
   "source": [
    "## Part 1\n",
    "\n",
    "Retrieve orthologs of FA-core genes and add to human FA-core set."
   ]
  },
  {
   "cell_type": "code",
   "execution_count": 1,
   "metadata": {
    "collapsed": true,
    "deletable": true,
    "editable": true
   },
   "outputs": [],
   "source": [
    "import requests\n",
    "from itertools import chain\n",
    "from io import StringIO\n",
    "from tqdm import tqdm\n",
    "import numpy as np\n",
    "\n",
    "from scipy.sparse import coo_matrix\n",
    "import seaborn as sns\n",
    "import pandas as pd\n",
    "\n",
    "%matplotlib inline"
   ]
  },
  {
   "cell_type": "code",
   "execution_count": 2,
   "metadata": {
    "collapsed": false,
    "deletable": true,
    "editable": true
   },
   "outputs": [
    {
     "data": {
      "text/html": [
       "<div>\n",
       "<table border=\"1\" class=\"dataframe\">\n",
       "  <thead>\n",
       "    <tr style=\"text-align: right;\">\n",
       "      <th></th>\n",
       "      <th>ncbi</th>\n",
       "      <th>gene</th>\n",
       "    </tr>\n",
       "  </thead>\n",
       "  <tbody>\n",
       "    <tr>\n",
       "      <th>0</th>\n",
       "      <td>NCBIGene:2175</td>\n",
       "      <td>FANCA</td>\n",
       "    </tr>\n",
       "    <tr>\n",
       "      <th>1</th>\n",
       "      <td>NCBIGene:2187</td>\n",
       "      <td>FANCB</td>\n",
       "    </tr>\n",
       "    <tr>\n",
       "      <th>2</th>\n",
       "      <td>NCBIGene:2176</td>\n",
       "      <td>FANCC</td>\n",
       "    </tr>\n",
       "    <tr>\n",
       "      <th>3</th>\n",
       "      <td>NCBIGene:2178</td>\n",
       "      <td>FANCE</td>\n",
       "    </tr>\n",
       "    <tr>\n",
       "      <th>4</th>\n",
       "      <td>NCBIGene:2188</td>\n",
       "      <td>FANCF</td>\n",
       "    </tr>\n",
       "  </tbody>\n",
       "</table>\n",
       "</div>"
      ],
      "text/plain": [
       "            ncbi   gene\n",
       "0  NCBIGene:2175  FANCA\n",
       "1  NCBIGene:2187  FANCB\n",
       "2  NCBIGene:2176  FANCC\n",
       "3  NCBIGene:2178  FANCE\n",
       "4  NCBIGene:2188  FANCF"
      ]
     },
     "execution_count": 2,
     "metadata": {},
     "output_type": "execute_result"
    }
   ],
   "source": [
    "gene_list = \"https://raw.githubusercontent.com/NCATS-Tangerine/cq-notebooks/\" \\\n",
    "            \"master/OrangeQ1.5_Regulatory_Motif_Signature/FA_NCBIGene_symbol.txt\"\n",
    "df = pd.read_csv(gene_list, sep='\\t', names=['ncbi','gene'])\n",
    "df.head()"
   ]
  },
  {
   "cell_type": "markdown",
   "metadata": {
    "deletable": true,
    "editable": true
   },
   "source": [
    "### Get Wikidata ids for these HGNC symbols from wikidata using garbanzo"
   ]
  },
  {
   "cell_type": "code",
   "execution_count": 3,
   "metadata": {
    "collapsed": false,
    "deletable": true,
    "editable": true
   },
   "outputs": [],
   "source": [
    "api_url = \"http://garbanzo.sulab.org/\"\n",
    "c = ' '.join([x.upper() for x in df.ncbi])\n",
    "endpoint = \"exactmatches/\"\n",
    "params = {'c': c}\n",
    "r = requests.get(api_url + endpoint, params=params)\n",
    "qids = [x for x in r.json() if \"wd\" in x]"
   ]
  },
  {
   "cell_type": "markdown",
   "metadata": {
    "deletable": true,
    "editable": true
   },
   "source": [
    "### Get all orthologs from wikidata using garbanzo"
   ]
  },
  {
   "cell_type": "code",
   "execution_count": 4,
   "metadata": {
    "collapsed": false,
    "deletable": true,
    "editable": true
   },
   "outputs": [],
   "source": [
    "endpoint = 'statements/'\n",
    "params = {'c': ','.join(qids[:12])}\n",
    "r = requests.get(api_url + endpoint, params=params)\n",
    "d = r.json()\n",
    "params = {'c': ','.join(qids[12:])}\n",
    "r = requests.get(api_url + endpoint, params=params)\n",
    "d.extend(r.json())"
   ]
  },
  {
   "cell_type": "code",
   "execution_count": 5,
   "metadata": {
    "collapsed": false,
    "deletable": true,
    "editable": true
   },
   "outputs": [
    {
     "name": "stdout",
     "output_type": "stream",
     "text": [
      "103\n"
     ]
    }
   ],
   "source": [
    "ortholog_statements = [x for x in d if x['predicate']['name'] == \"ortholog\"]\n",
    "ortholog_qids = set(chain(*[(x['object']['id'], x['subject']['id']) for x in ortholog_statements]))\n",
    "print(len(ortholog_qids))"
   ]
  },
  {
   "cell_type": "markdown",
   "metadata": {
    "deletable": true,
    "editable": true
   },
   "source": [
    "### Convert to NCBI gene ids"
   ]
  },
  {
   "cell_type": "code",
   "execution_count": 6,
   "metadata": {
    "collapsed": false,
    "deletable": true,
    "editable": true
   },
   "outputs": [],
   "source": [
    "endpoint = \"exactmatches/\"\n",
    "params = {'c': ' '.join(ortholog_qids)}\n",
    "r = requests.get(api_url + endpoint, params=params)\n",
    "ncbi = [x for x in r.json() if \"NCBI\" in x]"
   ]
  },
  {
   "cell_type": "code",
   "execution_count": 89,
   "metadata": {
    "collapsed": false,
    "deletable": true,
    "editable": true,
    "scrolled": true
   },
   "outputs": [
    {
     "data": {
      "text/plain": [
       "{'NCBIGene:100001169',\n",
       " 'NCBIGene:100360594',\n",
       " 'NCBIGene:100534597',\n",
       " 'NCBIGene:12190',\n",
       " 'NCBIGene:14088',\n",
       " 'NCBIGene:177914',\n",
       " 'NCBIGene:19361',\n",
       " 'NCBIGene:199990',\n",
       " 'NCBIGene:2072',\n",
       " 'NCBIGene:2175',\n",
       " 'NCBIGene:2177',\n",
       " 'NCBIGene:2178',\n",
       " 'NCBIGene:2187',\n",
       " 'NCBIGene:233826',\n",
       " 'NCBIGene:293452',\n",
       " 'NCBIGene:305600',\n",
       " 'NCBIGene:312641',\n",
       " 'NCBIGene:327322',\n",
       " 'NCBIGene:360465',\n",
       " 'NCBIGene:360588',\n",
       " 'NCBIGene:362678',\n",
       " 'NCBIGene:394241',\n",
       " 'NCBIGene:406487',\n",
       " 'NCBIGene:497672',\n",
       " 'NCBIGene:497976',\n",
       " 'NCBIGene:499966',\n",
       " 'NCBIGene:501552',\n",
       " 'NCBIGene:550258',\n",
       " 'NCBIGene:55120',\n",
       " 'NCBIGene:55215',\n",
       " 'NCBIGene:553395',\n",
       " 'NCBIGene:559470',\n",
       " 'NCBIGene:565685',\n",
       " 'NCBIGene:5888',\n",
       " 'NCBIGene:5889',\n",
       " 'NCBIGene:60534',\n",
       " 'NCBIGene:672',\n",
       " 'NCBIGene:675',\n",
       " 'NCBIGene:67513',\n",
       " 'NCBIGene:688314',\n",
       " 'NCBIGene:691105',\n",
       " 'NCBIGene:692125',\n",
       " 'NCBIGene:692127',\n",
       " 'NCBIGene:71885',\n",
       " 'NCBIGene:72775',\n",
       " 'NCBIGene:768152',\n",
       " 'NCBIGene:79728',\n",
       " 'NCBIGene:83990',\n",
       " 'NCBIGene:84464',\n",
       " 'NCBIGene:856831'}"
      ]
     },
     "execution_count": 89,
     "metadata": {},
     "output_type": "execute_result"
    }
   ],
   "source": [
    "fa_ncbi = set([x.replace(\"NCBIGENE\", \"NCBIGene\") for x in ncbi])\n",
    "fa_ncbi"
   ]
  },
  {
   "cell_type": "markdown",
   "metadata": {
    "deletable": true,
    "editable": true
   },
   "source": [
    "## Part 2: Retrieve phenotype terms associated with all genes"
   ]
  },
  {
   "cell_type": "code",
   "execution_count": 8,
   "metadata": {
    "collapsed": false,
    "deletable": true,
    "editable": true
   },
   "outputs": [],
   "source": [
    "# get phenotypes associated with all human genes\n",
    "url = \"https://api.monarchinitiative.org/api/mart/gene/phenotype/NCBITaxon:9606\"\n",
    "d = requests.get(url).json()"
   ]
  },
  {
   "cell_type": "code",
   "execution_count": 9,
   "metadata": {
    "collapsed": false,
    "deletable": true,
    "editable": true
   },
   "outputs": [],
   "source": [
    "phenos = {x['subject']:set(x['objects']) for x in d}"
   ]
  },
  {
   "cell_type": "code",
   "execution_count": 10,
   "metadata": {
    "collapsed": false,
    "deletable": true,
    "editable": true
   },
   "outputs": [
    {
     "data": {
      "text/plain": [
       "('NCBIGene:549',\n",
       " {'HP:0000020',\n",
       "  'HP:0000252',\n",
       "  'HP:0000648',\n",
       "  'HP:0000736',\n",
       "  'HP:0000750',\n",
       "  'HP:0001250',\n",
       "  'HP:0001251',\n",
       "  'HP:0001259',\n",
       "  'HP:0001260',\n",
       "  'HP:0001263',\n",
       "  'HP:0001270',\n",
       "  'HP:0001285',\n",
       "  'HP:0001332',\n",
       "  'HP:0001347',\n",
       "  'HP:0001508',\n",
       "  'HP:0001942',\n",
       "  'HP:0001943',\n",
       "  'HP:0002059',\n",
       "  'HP:0002073',\n",
       "  'HP:0002134',\n",
       "  'HP:0002240',\n",
       "  'HP:0002305',\n",
       "  'HP:0002352',\n",
       "  'HP:0002373',\n",
       "  'HP:0002510',\n",
       "  'HP:0003535',\n",
       "  'HP:0100543'})"
      ]
     },
     "execution_count": 10,
     "metadata": {},
     "output_type": "execute_result"
    }
   ],
   "source": [
    "list(phenos.items())[2]"
   ]
  },
  {
   "cell_type": "code",
   "execution_count": 11,
   "metadata": {
    "collapsed": false,
    "deletable": true,
    "editable": true
   },
   "outputs": [
    {
     "data": {
      "text/plain": [
       "4946"
      ]
     },
     "execution_count": 11,
     "metadata": {},
     "output_type": "execute_result"
    }
   ],
   "source": [
    "len(phenos)"
   ]
  },
  {
   "cell_type": "code",
   "execution_count": 12,
   "metadata": {
    "collapsed": true,
    "deletable": true,
    "editable": true
   },
   "outputs": [],
   "source": [
    "##  and then add in the phenotypes of other non-human genes"
   ]
  },
  {
   "cell_type": "code",
   "execution_count": 13,
   "metadata": {
    "collapsed": false,
    "deletable": true,
    "editable": true
   },
   "outputs": [],
   "source": [
    "def get_phenotypes(gene_id):\n",
    "    \"\"\"Query Monarch to determine the phenotypes associated with a NCBI gene id.\"\"\"\n",
    "    url = \"https://api.monarchinitiative.org/api/bioentity/gene/{}/phenotypes/\".format(gene_id)\n",
    "    res = requests.get(url)\n",
    "    return set(res.json()[\"objects\"])"
   ]
  },
  {
   "cell_type": "code",
   "execution_count": 14,
   "metadata": {
    "collapsed": false,
    "deletable": true,
    "editable": true
   },
   "outputs": [
    {
     "name": "stdout",
     "output_type": "stream",
     "text": [
      "35\n"
     ]
    }
   ],
   "source": [
    "other_genes = set(fa_ncbi)-set(df.ncbi)\n",
    "print(len(other_genes))\n",
    "for gene in other_genes:\n",
    "    phenos[gene] = get_phenotypes(gene)"
   ]
  },
  {
   "cell_type": "code",
   "execution_count": 15,
   "metadata": {
    "collapsed": false,
    "deletable": true,
    "editable": true
   },
   "outputs": [
    {
     "name": "stdout",
     "output_type": "stream",
     "text": [
      "8\n"
     ]
    }
   ],
   "source": [
    "print(len([x for x in other_genes if phenos[x]]))"
   ]
  },
  {
   "cell_type": "code",
   "execution_count": 16,
   "metadata": {
    "collapsed": true,
    "deletable": true,
    "editable": true
   },
   "outputs": [],
   "source": [
    "phenos = {k:v for k,v in phenos.items() if v}"
   ]
  },
  {
   "cell_type": "code",
   "execution_count": 17,
   "metadata": {
    "collapsed": true,
    "deletable": true,
    "editable": true
   },
   "outputs": [],
   "source": [
    "## 35 extra non-human genes, 8 have one or more phenotypes"
   ]
  },
  {
   "cell_type": "markdown",
   "metadata": {
    "deletable": true,
    "editable": true
   },
   "source": [
    "## Part 3: Execute PhenoSim analysis to return ranked list of phenotypically similar genes"
   ]
  },
  {
   "cell_type": "markdown",
   "metadata": {
    "deletable": true,
    "editable": true
   },
   "source": [
    "### Create a similarity matrix of all_genes by all_genes based on a Jaccard similarity of the associated phenotype sets"
   ]
  },
  {
   "cell_type": "code",
   "execution_count": 18,
   "metadata": {
    "collapsed": true,
    "deletable": true,
    "editable": true
   },
   "outputs": [],
   "source": [
    "all_phenotypes = sorted(np.unique(list(chain(*phenos.values()))))\n",
    "phenotype_idx = {b : a for a, b in enumerate(all_phenotypes)}\n",
    "all_genes = sorted(phenos.keys())\n",
    "gene_idx = {b : a for a, b in enumerate(all_genes)}"
   ]
  },
  {
   "cell_type": "code",
   "execution_count": 19,
   "metadata": {
    "collapsed": false,
    "deletable": true,
    "editable": true,
    "scrolled": true
   },
   "outputs": [
    {
     "name": "stderr",
     "output_type": "stream",
     "text": [
      "100%|██████████| 4954/4954 [01:20<00:00, 61.38it/s]\n"
     ]
    }
   ],
   "source": [
    "def get_similarity(x,y):\n",
    "    x_set = phenos[x]\n",
    "    y_set = phenos[y]\n",
    "    return len(x_set & y_set) / float(len(x_set | y_set))\n",
    "\n",
    "data_ij = [(get_similarity(x,y), gene_idx[x], gene_idx[y]) for x in tqdm(all_genes, mininterval=5) for y in all_genes]"
   ]
  },
  {
   "cell_type": "code",
   "execution_count": 20,
   "metadata": {
    "collapsed": false,
    "deletable": true,
    "editable": true
   },
   "outputs": [],
   "source": [
    "data, i_list, j_list = zip(*data_ij)\n",
    "data, i_list, j_list = np.array(data), np.array(i_list), np.array(j_list)\n",
    "g2g = coo_matrix((data, (i_list, j_list)), shape=(len(all_genes), len(all_genes)))\n",
    "g2g = g2g.toarray()"
   ]
  },
  {
   "cell_type": "code",
   "execution_count": 24,
   "metadata": {
    "collapsed": false,
    "deletable": true,
    "editable": true
   },
   "outputs": [
    {
     "data": {
      "text/plain": [
       "<matplotlib.axes._subplots.AxesSubplot at 0x7fc18923c780>"
      ]
     },
     "execution_count": 24,
     "metadata": {},
     "output_type": "execute_result"
    },
    {
     "data": {
      "image/png": "[encoded data removed]",
      "text/plain": [
       "<matplotlib.figure.Figure at 0x7fc1892a2da0>"
      ]
     },
     "metadata": {},
     "output_type": "display_data"
    }
   ],
   "source": [
    "sns.heatmap(g2g[::50,::50])"
   ]
  },
  {
   "cell_type": "code",
   "execution_count": 38,
   "metadata": {
    "collapsed": false
   },
   "outputs": [
    {
     "data": {
      "text/plain": [
       "24542116"
      ]
     },
     "execution_count": 38,
     "metadata": {},
     "output_type": "execute_result"
    }
   ],
   "source": [
    "values=list(chain(*[list(x) for x in g2g]))\n",
    "len(values)"
   ]
  },
  {
   "cell_type": "code",
   "execution_count": null,
   "metadata": {
    "collapsed": true
   },
   "outputs": [],
   "source": [
    "# plot of distribution of ALL similarities"
   ]
  },
  {
   "cell_type": "code",
   "execution_count": 39,
   "metadata": {
    "collapsed": false
   },
   "outputs": [
    {
     "data": {
      "text/plain": [
       "<matplotlib.axes._subplots.AxesSubplot at 0x7fc1889efd68>"
      ]
     },
     "execution_count": 39,
     "metadata": {},
     "output_type": "execute_result"
    },
    {
     "data": {
      "image/png": "[encoded data removed]",
      "text/plain": [
       "<matplotlib.figure.Figure at 0x7fc188906f98>"
      ]
     },
     "metadata": {},
     "output_type": "display_data"
    }
   ],
   "source": [
    "sns.distplot([x for x in values if x])"
   ]
  },
  {
   "cell_type": "markdown",
   "metadata": {
    "deletable": true,
    "editable": true
   },
   "source": [
    "### Identify all genes that have a Jaccard similarity  > 0.2 with at least one of the FA genes"
   ]
  },
  {
   "cell_type": "code",
   "execution_count": 40,
   "metadata": {
    "collapsed": false,
    "deletable": true,
    "editable": true
   },
   "outputs": [
    {
     "data": {
      "text/plain": [
       "1.0"
      ]
     },
     "execution_count": 40,
     "metadata": {},
     "output_type": "execute_result"
    }
   ],
   "source": [
    "# sanity check. gene vs itself should be 1\n",
    "g2g[gene_idx['NCBIGene:2175']][gene_idx['NCBIGene:2175']]"
   ]
  },
  {
   "cell_type": "code",
   "execution_count": 48,
   "metadata": {
    "collapsed": false,
    "deletable": true,
    "editable": true
   },
   "outputs": [
    {
     "data": {
      "text/plain": [
       "{'NCBIGene:10459',\n",
       " 'NCBIGene:2072',\n",
       " 'NCBIGene:2175',\n",
       " 'NCBIGene:2176',\n",
       " 'NCBIGene:2177',\n",
       " 'NCBIGene:2178',\n",
       " 'NCBIGene:2187',\n",
       " 'NCBIGene:2188',\n",
       " 'NCBIGene:2189',\n",
       " 'NCBIGene:29089',\n",
       " 'NCBIGene:55120',\n",
       " 'NCBIGene:55215',\n",
       " 'NCBIGene:57697',\n",
       " 'NCBIGene:5888',\n",
       " 'NCBIGene:5889',\n",
       " 'NCBIGene:675',\n",
       " 'NCBIGene:7516',\n",
       " 'NCBIGene:79728',\n",
       " 'NCBIGene:83990',\n",
       " 'NCBIGene:84464'}"
      ]
     },
     "execution_count": 48,
     "metadata": {},
     "output_type": "execute_result"
    }
   ],
   "source": [
    "# one of the FA genes vs all genes\n",
    "this_gene_sim = set(np.array(all_genes)[g2g[gene_idx['NCBIGene:2175']] > 0.2])\n",
    "this_gene_sim"
   ]
  },
  {
   "cell_type": "code",
   "execution_count": 49,
   "metadata": {
    "collapsed": false
   },
   "outputs": [
    {
     "data": {
      "text/plain": [
       "{'NCBIGene:10459',\n",
       " 'NCBIGene:2176',\n",
       " 'NCBIGene:2188',\n",
       " 'NCBIGene:2189',\n",
       " 'NCBIGene:29089',\n",
       " 'NCBIGene:57697',\n",
       " 'NCBIGene:7516'}"
      ]
     },
     "execution_count": 49,
     "metadata": {},
     "output_type": "execute_result"
    }
   ],
   "source": [
    "# and some of them are non FA genes!\n",
    "this_gene_sim - set(fa_ncbi)"
   ]
  },
  {
   "cell_type": "code",
   "execution_count": 101,
   "metadata": {
    "collapsed": false,
    "deletable": true,
    "editable": true
   },
   "outputs": [],
   "source": [
    "similar_d = dict()\n",
    "for g in fa_ncbi:\n",
    "    if g in gene_idx:\n",
    "        this_sim = set(list(np.array(all_genes)[g2g[gene_idx[g]] > 0.2]))\n",
    "        similar_d[g] = this_sim"
   ]
  },
  {
   "cell_type": "code",
   "execution_count": 102,
   "metadata": {
    "collapsed": false,
    "deletable": true,
    "editable": true
   },
   "outputs": [
    {
     "data": {
      "text/plain": [
       "22"
      ]
     },
     "execution_count": 102,
     "metadata": {},
     "output_type": "execute_result"
    }
   ],
   "source": [
    "len(similar_d)"
   ]
  },
  {
   "cell_type": "code",
   "execution_count": 105,
   "metadata": {
    "collapsed": false
   },
   "outputs": [
    {
     "data": {
      "text/plain": [
       "{'NCBIGene:12190': {'NCBIGene:12190'},\n",
       " 'NCBIGene:14088': {'NCBIGene:14088'},\n",
       " 'NCBIGene:177914': {'NCBIGene:177914'},\n",
       " 'NCBIGene:19361': {'NCBIGene:19361'},\n",
       " 'NCBIGene:2072': {'NCBIGene:10459',\n",
       "  'NCBIGene:1643',\n",
       "  'NCBIGene:2068',\n",
       "  'NCBIGene:2071',\n",
       "  'NCBIGene:2072',\n",
       "  'NCBIGene:2073',\n",
       "  'NCBIGene:2175',\n",
       "  'NCBIGene:2176',\n",
       "  'NCBIGene:2177',\n",
       "  'NCBIGene:2178',\n",
       "  'NCBIGene:2187',\n",
       "  'NCBIGene:2188',\n",
       "  'NCBIGene:2189',\n",
       "  'NCBIGene:29089',\n",
       "  'NCBIGene:55120',\n",
       "  'NCBIGene:55215',\n",
       "  'NCBIGene:57697',\n",
       "  'NCBIGene:5888',\n",
       "  'NCBIGene:5889',\n",
       "  'NCBIGene:675',\n",
       "  'NCBIGene:7507',\n",
       "  'NCBIGene:7508',\n",
       "  'NCBIGene:7516',\n",
       "  'NCBIGene:79728',\n",
       "  'NCBIGene:83990',\n",
       "  'NCBIGene:84464'},\n",
       " 'NCBIGene:2175': {'NCBIGene:10459',\n",
       "  'NCBIGene:2072',\n",
       "  'NCBIGene:2175',\n",
       "  'NCBIGene:2176',\n",
       "  'NCBIGene:2177',\n",
       "  'NCBIGene:2178',\n",
       "  'NCBIGene:2187',\n",
       "  'NCBIGene:2188',\n",
       "  'NCBIGene:2189',\n",
       "  'NCBIGene:29089',\n",
       "  'NCBIGene:55120',\n",
       "  'NCBIGene:55215',\n",
       "  'NCBIGene:57697',\n",
       "  'NCBIGene:5888',\n",
       "  'NCBIGene:5889',\n",
       "  'NCBIGene:675',\n",
       "  'NCBIGene:7516',\n",
       "  'NCBIGene:79728',\n",
       "  'NCBIGene:83990',\n",
       "  'NCBIGene:84464'},\n",
       " 'NCBIGene:2177': {'NCBIGene:10459',\n",
       "  'NCBIGene:2072',\n",
       "  'NCBIGene:2175',\n",
       "  'NCBIGene:2176',\n",
       "  'NCBIGene:2177',\n",
       "  'NCBIGene:2178',\n",
       "  'NCBIGene:2187',\n",
       "  'NCBIGene:2188',\n",
       "  'NCBIGene:2189',\n",
       "  'NCBIGene:29089',\n",
       "  'NCBIGene:55120',\n",
       "  'NCBIGene:55215',\n",
       "  'NCBIGene:57697',\n",
       "  'NCBIGene:5888',\n",
       "  'NCBIGene:5889',\n",
       "  'NCBIGene:675',\n",
       "  'NCBIGene:7516',\n",
       "  'NCBIGene:79728',\n",
       "  'NCBIGene:83990',\n",
       "  'NCBIGene:84464'},\n",
       " 'NCBIGene:2178': {'NCBIGene:10459',\n",
       "  'NCBIGene:2072',\n",
       "  'NCBIGene:2175',\n",
       "  'NCBIGene:2176',\n",
       "  'NCBIGene:2177',\n",
       "  'NCBIGene:2178',\n",
       "  'NCBIGene:2187',\n",
       "  'NCBIGene:2188',\n",
       "  'NCBIGene:2189',\n",
       "  'NCBIGene:29089',\n",
       "  'NCBIGene:55120',\n",
       "  'NCBIGene:55215',\n",
       "  'NCBIGene:57697',\n",
       "  'NCBIGene:5888',\n",
       "  'NCBIGene:5889',\n",
       "  'NCBIGene:675',\n",
       "  'NCBIGene:7516',\n",
       "  'NCBIGene:79728',\n",
       "  'NCBIGene:83990',\n",
       "  'NCBIGene:84464'},\n",
       " 'NCBIGene:2187': {'NCBIGene:10459',\n",
       "  'NCBIGene:2072',\n",
       "  'NCBIGene:2175',\n",
       "  'NCBIGene:2176',\n",
       "  'NCBIGene:2177',\n",
       "  'NCBIGene:2178',\n",
       "  'NCBIGene:2187',\n",
       "  'NCBIGene:2188',\n",
       "  'NCBIGene:2189',\n",
       "  'NCBIGene:29089',\n",
       "  'NCBIGene:55120',\n",
       "  'NCBIGene:55215',\n",
       "  'NCBIGene:57697',\n",
       "  'NCBIGene:5888',\n",
       "  'NCBIGene:5889',\n",
       "  'NCBIGene:675',\n",
       "  'NCBIGene:7516',\n",
       "  'NCBIGene:79728',\n",
       "  'NCBIGene:83990',\n",
       "  'NCBIGene:84464'},\n",
       " 'NCBIGene:233826': {'NCBIGene:233826'},\n",
       " 'NCBIGene:406487': {'NCBIGene:406487'},\n",
       " 'NCBIGene:55120': {'NCBIGene:10459',\n",
       "  'NCBIGene:2072',\n",
       "  'NCBIGene:2175',\n",
       "  'NCBIGene:2176',\n",
       "  'NCBIGene:2177',\n",
       "  'NCBIGene:2178',\n",
       "  'NCBIGene:2187',\n",
       "  'NCBIGene:2188',\n",
       "  'NCBIGene:2189',\n",
       "  'NCBIGene:29089',\n",
       "  'NCBIGene:55120',\n",
       "  'NCBIGene:55215',\n",
       "  'NCBIGene:57697',\n",
       "  'NCBIGene:5888',\n",
       "  'NCBIGene:5889',\n",
       "  'NCBIGene:675',\n",
       "  'NCBIGene:7516',\n",
       "  'NCBIGene:79728',\n",
       "  'NCBIGene:83990',\n",
       "  'NCBIGene:84464'},\n",
       " 'NCBIGene:55215': {'NCBIGene:10459',\n",
       "  'NCBIGene:2072',\n",
       "  'NCBIGene:2175',\n",
       "  'NCBIGene:2176',\n",
       "  'NCBIGene:2177',\n",
       "  'NCBIGene:2178',\n",
       "  'NCBIGene:2187',\n",
       "  'NCBIGene:2188',\n",
       "  'NCBIGene:2189',\n",
       "  'NCBIGene:29089',\n",
       "  'NCBIGene:55120',\n",
       "  'NCBIGene:55215',\n",
       "  'NCBIGene:57697',\n",
       "  'NCBIGene:5888',\n",
       "  'NCBIGene:5889',\n",
       "  'NCBIGene:675',\n",
       "  'NCBIGene:7516',\n",
       "  'NCBIGene:79728',\n",
       "  'NCBIGene:83990',\n",
       "  'NCBIGene:84464'},\n",
       " 'NCBIGene:5888': {'NCBIGene:10459',\n",
       "  'NCBIGene:2072',\n",
       "  'NCBIGene:2175',\n",
       "  'NCBIGene:2176',\n",
       "  'NCBIGene:2177',\n",
       "  'NCBIGene:2178',\n",
       "  'NCBIGene:2187',\n",
       "  'NCBIGene:2188',\n",
       "  'NCBIGene:2189',\n",
       "  'NCBIGene:29089',\n",
       "  'NCBIGene:55120',\n",
       "  'NCBIGene:55215',\n",
       "  'NCBIGene:57697',\n",
       "  'NCBIGene:5888',\n",
       "  'NCBIGene:5889',\n",
       "  'NCBIGene:675',\n",
       "  'NCBIGene:7516',\n",
       "  'NCBIGene:79728',\n",
       "  'NCBIGene:83990',\n",
       "  'NCBIGene:84464'},\n",
       " 'NCBIGene:5889': {'NCBIGene:10459',\n",
       "  'NCBIGene:2072',\n",
       "  'NCBIGene:2175',\n",
       "  'NCBIGene:2176',\n",
       "  'NCBIGene:2177',\n",
       "  'NCBIGene:2178',\n",
       "  'NCBIGene:2187',\n",
       "  'NCBIGene:2188',\n",
       "  'NCBIGene:2189',\n",
       "  'NCBIGene:29089',\n",
       "  'NCBIGene:55120',\n",
       "  'NCBIGene:55215',\n",
       "  'NCBIGene:57697',\n",
       "  'NCBIGene:5888',\n",
       "  'NCBIGene:5889',\n",
       "  'NCBIGene:675',\n",
       "  'NCBIGene:7516',\n",
       "  'NCBIGene:79728',\n",
       "  'NCBIGene:83990',\n",
       "  'NCBIGene:84464'},\n",
       " 'NCBIGene:60534': {'NCBIGene:60534'},\n",
       " 'NCBIGene:672': {'NCBIGene:10481',\n",
       "  'NCBIGene:11200',\n",
       "  'NCBIGene:115795',\n",
       "  'NCBIGene:2048',\n",
       "  'NCBIGene:4477',\n",
       "  'NCBIGene:4481',\n",
       "  'NCBIGene:4683',\n",
       "  'NCBIGene:5157',\n",
       "  'NCBIGene:6041',\n",
       "  'NCBIGene:60528',\n",
       "  'NCBIGene:672',\n",
       "  'NCBIGene:675',\n",
       "  'NCBIGene:6928'},\n",
       " 'NCBIGene:675': {'NCBIGene:10459',\n",
       "  'NCBIGene:10481',\n",
       "  'NCBIGene:11200',\n",
       "  'NCBIGene:2048',\n",
       "  'NCBIGene:2072',\n",
       "  'NCBIGene:2175',\n",
       "  'NCBIGene:2176',\n",
       "  'NCBIGene:2177',\n",
       "  'NCBIGene:2178',\n",
       "  'NCBIGene:2187',\n",
       "  'NCBIGene:2188',\n",
       "  'NCBIGene:2189',\n",
       "  'NCBIGene:29089',\n",
       "  'NCBIGene:4477',\n",
       "  'NCBIGene:4481',\n",
       "  'NCBIGene:4683',\n",
       "  'NCBIGene:55120',\n",
       "  'NCBIGene:55215',\n",
       "  'NCBIGene:57697',\n",
       "  'NCBIGene:5888',\n",
       "  'NCBIGene:5889',\n",
       "  'NCBIGene:5925',\n",
       "  'NCBIGene:6041',\n",
       "  'NCBIGene:60528',\n",
       "  'NCBIGene:672',\n",
       "  'NCBIGene:675',\n",
       "  'NCBIGene:6928',\n",
       "  'NCBIGene:7516',\n",
       "  'NCBIGene:79728',\n",
       "  'NCBIGene:83990',\n",
       "  'NCBIGene:84464'},\n",
       " 'NCBIGene:67513': {'NCBIGene:67513'},\n",
       " 'NCBIGene:79728': {'NCBIGene:10459',\n",
       "  'NCBIGene:2072',\n",
       "  'NCBIGene:2175',\n",
       "  'NCBIGene:2176',\n",
       "  'NCBIGene:2177',\n",
       "  'NCBIGene:2178',\n",
       "  'NCBIGene:2187',\n",
       "  'NCBIGene:2188',\n",
       "  'NCBIGene:2189',\n",
       "  'NCBIGene:29089',\n",
       "  'NCBIGene:55120',\n",
       "  'NCBIGene:55215',\n",
       "  'NCBIGene:57697',\n",
       "  'NCBIGene:5888',\n",
       "  'NCBIGene:5889',\n",
       "  'NCBIGene:675',\n",
       "  'NCBIGene:7516',\n",
       "  'NCBIGene:79728',\n",
       "  'NCBIGene:83990',\n",
       "  'NCBIGene:84464'},\n",
       " 'NCBIGene:83990': {'NCBIGene:10459',\n",
       "  'NCBIGene:2072',\n",
       "  'NCBIGene:2175',\n",
       "  'NCBIGene:2176',\n",
       "  'NCBIGene:2177',\n",
       "  'NCBIGene:2178',\n",
       "  'NCBIGene:2187',\n",
       "  'NCBIGene:2188',\n",
       "  'NCBIGene:2189',\n",
       "  'NCBIGene:29089',\n",
       "  'NCBIGene:55120',\n",
       "  'NCBIGene:55215',\n",
       "  'NCBIGene:57697',\n",
       "  'NCBIGene:5888',\n",
       "  'NCBIGene:5889',\n",
       "  'NCBIGene:675',\n",
       "  'NCBIGene:7516',\n",
       "  'NCBIGene:79728',\n",
       "  'NCBIGene:83990',\n",
       "  'NCBIGene:84464'},\n",
       " 'NCBIGene:84464': {'NCBIGene:10459',\n",
       "  'NCBIGene:2072',\n",
       "  'NCBIGene:2175',\n",
       "  'NCBIGene:2176',\n",
       "  'NCBIGene:2177',\n",
       "  'NCBIGene:2178',\n",
       "  'NCBIGene:2187',\n",
       "  'NCBIGene:2188',\n",
       "  'NCBIGene:2189',\n",
       "  'NCBIGene:29089',\n",
       "  'NCBIGene:55120',\n",
       "  'NCBIGene:55215',\n",
       "  'NCBIGene:57697',\n",
       "  'NCBIGene:5888',\n",
       "  'NCBIGene:5889',\n",
       "  'NCBIGene:675',\n",
       "  'NCBIGene:7516',\n",
       "  'NCBIGene:79728',\n",
       "  'NCBIGene:83990',\n",
       "  'NCBIGene:84464'}}"
      ]
     },
     "execution_count": 105,
     "metadata": {},
     "output_type": "execute_result"
    }
   ],
   "source": [
    "similar_d"
   ]
  },
  {
   "cell_type": "code",
   "execution_count": 103,
   "metadata": {
    "collapsed": false,
    "deletable": true,
    "editable": true
   },
   "outputs": [
    {
     "name": "stdout",
     "output_type": "stream",
     "text": [
      "47\n"
     ]
    }
   ],
   "source": [
    "all_similar_genes = set(chain(*similar_d.values()))\n",
    "print(len(all_similar_genes))"
   ]
  },
  {
   "cell_type": "code",
   "execution_count": 104,
   "metadata": {
    "collapsed": false
   },
   "outputs": [
    {
     "data": {
      "text/plain": [
       "25"
      ]
     },
     "execution_count": 104,
     "metadata": {},
     "output_type": "execute_result"
    }
   ],
   "source": [
    "# 25 of the 47 are not in the FA set or orthologs\n",
    "# # genes that are phenotypically similar to FA genes (but not including the FA genes or FA orthologs)\n",
    "similar = all_similar_genes-set(fa_ncbi)\n",
    "len(similar)"
   ]
  },
  {
   "cell_type": "markdown",
   "metadata": {
    "deletable": true,
    "editable": true
   },
   "source": [
    "## Step 5: Retrieve human orthologs of all non-human genes in this set"
   ]
  },
  {
   "cell_type": "code",
   "execution_count": 57,
   "metadata": {
    "collapsed": false,
    "deletable": true,
    "editable": true
   },
   "outputs": [],
   "source": [
    "def is_gene_human(gene_id):\n",
    "    url = \"https://api.monarchinitiative.org/api/bioentity/gene/{}\".format(gene_id)\n",
    "    res = requests.get(url)\n",
    "    taxon = res.json()['taxon']['id']\n",
    "    return True if taxon == \"NCBITaxon:9606\" else False"
   ]
  },
  {
   "cell_type": "code",
   "execution_count": 58,
   "metadata": {
    "collapsed": true,
    "deletable": true,
    "editable": true
   },
   "outputs": [],
   "source": [
    "def query_human_orthologs(gene_id):\n",
    "    \"\"\"Query Monarch to determine the human orthologs of a gene.\"\"\"\n",
    "    \n",
    "    url = \"https://api.monarchinitiative.org/api/bioentity/gene/{}/homologs/\".format(gene_id)\n",
    "    res = requests.get(url)\n",
    "    d = res.json()\n",
    "    return [x['object']['id'] for x in d['associations'] if x['object']['taxon']['id'] == 'NCBITaxon:9606']"
   ]
  },
  {
   "cell_type": "code",
   "execution_count": 77,
   "metadata": {
    "collapsed": false,
    "deletable": true,
    "editable": true,
    "scrolled": true
   },
   "outputs": [
    {
     "name": "stderr",
     "output_type": "stream",
     "text": [
      "\n",
      "  0%|          | 0/25 [00:00<?, ?it/s]\u001b[A\n",
      "  4%|▍         | 1/25 [00:01<00:30,  1.28s/it]\u001b[A\n",
      "  8%|▊         | 2/25 [00:02<00:27,  1.21s/it]\u001b[A\n",
      " 12%|█▏        | 3/25 [00:03<00:28,  1.31s/it]\u001b[A\n",
      " 16%|█▌        | 4/25 [00:04<00:26,  1.24s/it]\u001b[A\n",
      " 20%|██        | 5/25 [00:05<00:22,  1.12s/it]\u001b[A\n",
      " 24%|██▍       | 6/25 [00:06<00:19,  1.02s/it]\u001b[A\n",
      " 28%|██▊       | 7/25 [00:07<00:17,  1.05it/s]\u001b[A\n",
      " 32%|███▏      | 8/25 [00:08<00:15,  1.12it/s]\u001b[A\n",
      " 36%|███▌      | 9/25 [00:08<00:13,  1.15it/s]\u001b[A\n",
      " 40%|████      | 10/25 [00:09<00:13,  1.10it/s]\u001b[A\n",
      " 44%|████▍     | 11/25 [00:10<00:12,  1.08it/s]\u001b[A\n",
      " 48%|████▊     | 12/25 [00:11<00:11,  1.09it/s]\u001b[A\n",
      " 52%|█████▏    | 13/25 [00:12<00:10,  1.13it/s]\u001b[A\n",
      " 56%|█████▌    | 14/25 [00:13<00:10,  1.03it/s]\u001b[A\n",
      " 60%|██████    | 15/25 [00:14<00:08,  1.12it/s]\u001b[A\n",
      " 64%|██████▍   | 16/25 [00:15<00:07,  1.13it/s]\u001b[A\n",
      " 68%|██████▊   | 17/25 [00:16<00:07,  1.10it/s]\u001b[A\n",
      " 72%|███████▏  | 18/25 [00:17<00:06,  1.15it/s]\u001b[A\n",
      " 76%|███████▌  | 19/25 [00:17<00:05,  1.15it/s]\u001b[A\n",
      " 80%|████████  | 20/25 [00:18<00:04,  1.24it/s]\u001b[A\n",
      " 84%|████████▍ | 21/25 [00:19<00:03,  1.05it/s]\u001b[A\n",
      " 88%|████████▊ | 22/25 [00:20<00:02,  1.07it/s]\u001b[A\n",
      " 92%|█████████▏| 23/25 [00:21<00:01,  1.09it/s]\u001b[A\n",
      " 96%|█████████▌| 24/25 [00:22<00:00,  1.05it/s]\u001b[A\n",
      "100%|██████████| 25/25 [00:23<00:00,  1.10it/s]\u001b[A\n",
      "\u001b[A"
     ]
    }
   ],
   "source": [
    "igh = {x:is_gene_human(x) for x in tqdm(similar)}"
   ]
  },
  {
   "cell_type": "code",
   "execution_count": 78,
   "metadata": {
    "collapsed": false,
    "deletable": true,
    "editable": true
   },
   "outputs": [
    {
     "data": {
      "text/plain": [
       "{True}"
      ]
     },
     "execution_count": 78,
     "metadata": {},
     "output_type": "execute_result"
    }
   ],
   "source": [
    "# all similar genes are human, so don't bother\n",
    "set(igh.values())"
   ]
  },
  {
   "cell_type": "code",
   "execution_count": 66,
   "metadata": {
    "collapsed": false,
    "deletable": true,
    "editable": true
   },
   "outputs": [],
   "source": [
    "#non_human = [x for x in all_similar_genes if not igh[x]]\n",
    "#human_orthologs = {x:query_human_orthologs(x) for x in non_human}"
   ]
  },
  {
   "cell_type": "markdown",
   "metadata": {
    "deletable": true,
    "editable": true
   },
   "source": [
    "## Output: GeneSetQ7 (phenotypically similar genes based on cross-species PhenoSim analysis)"
   ]
  },
  {
   "cell_type": "code",
   "execution_count": 79,
   "metadata": {
    "collapsed": false
   },
   "outputs": [
    {
     "data": {
      "text/plain": [
       "{'NCBIGene:10459',\n",
       " 'NCBIGene:10481',\n",
       " 'NCBIGene:11200',\n",
       " 'NCBIGene:115795',\n",
       " 'NCBIGene:1643',\n",
       " 'NCBIGene:2048',\n",
       " 'NCBIGene:2068',\n",
       " 'NCBIGene:2071',\n",
       " 'NCBIGene:2073',\n",
       " 'NCBIGene:2176',\n",
       " 'NCBIGene:2188',\n",
       " 'NCBIGene:2189',\n",
       " 'NCBIGene:29089',\n",
       " 'NCBIGene:4477',\n",
       " 'NCBIGene:4481',\n",
       " 'NCBIGene:4683',\n",
       " 'NCBIGene:5157',\n",
       " 'NCBIGene:57697',\n",
       " 'NCBIGene:5925',\n",
       " 'NCBIGene:6041',\n",
       " 'NCBIGene:60528',\n",
       " 'NCBIGene:6928',\n",
       " 'NCBIGene:7507',\n",
       " 'NCBIGene:7508',\n",
       " 'NCBIGene:7516'}"
      ]
     },
     "execution_count": 79,
     "metadata": {},
     "output_type": "execute_result"
    }
   ],
   "source": [
    "similar"
   ]
  }
 ],
 "metadata": {
  "kernelspec": {
   "display_name": "Python 3",
   "language": "python",
   "name": "python3"
  },
  "language_info": {
   "codemirror_mode": {
    "name": "ipython",
    "version": 3
   },
   "file_extension": ".py",
   "mimetype": "text/x-python",
   "name": "python",
   "nbconvert_exporter": "python",
   "pygments_lexer": "ipython3",
   "version": "3.5.2"
  }
 },
 "nbformat": 4,
 "nbformat_minor": 2
}
