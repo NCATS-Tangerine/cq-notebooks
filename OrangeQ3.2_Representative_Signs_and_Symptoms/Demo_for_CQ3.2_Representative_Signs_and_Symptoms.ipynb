{
 "cells": [
  {
   "cell_type": "markdown",
   "metadata": {},
   "source": [
    "**Required**\n",
    "* Connect to FHIR Synthetic Patient Data\n",
    "* Connect to OHDSI Synthetic Patient Data\n",
    "* Connect to HUSH+ Synthetic Patient Data\n",
    "\n",
    "**Questions**\n",
    "* What are potentially diagnostic cluster groups to inform drug selection?\n",
    "* Are there differences in exposures among patients diagnosed with Asthma during childhood vs during adulthood?\n",
    "* Are there differences in medications prescribed off-label by patients diagnosed with Asthma during childhood vs during adulthood?"
   ]
  },
  {
   "cell_type": "code",
   "execution_count": 2,
   "metadata": {},
   "outputs": [
    {
     "name": "stdout",
     "output_type": "stream",
     "text": [
      "[['MeSH Symptom Term', 'MeSH Disease Term', 'PubMed occurrence', 'TFIDF score'], ['Aging, Premature', 'Respiratory Syncytial Virus Infections', '1', '3.4645514895379677'], ['Aging, Premature', 'Orthomyxoviridae Infections', '1', '3.4645514895379677'], ['Aging, Premature', 'HIV Infections', '3', '10.393654468613903'], ['Aging, Premature', 'Acquired Immunodeficiency Syndrome', '3', '10.393654468613903']]\n"
     ]
    }
   ],
   "source": [
    "## All the imports we need\n",
    "from urllib2 import Request, urlopen, URLError\n",
    "from urllib import quote_plus\n",
    "\n",
    "import mysql.connector\n",
    "\n",
    "import pprint, json, requests\n",
    "\n",
    "from datetime import datetime, timedelta\n",
    "from dateutil.parser import parse as parse_date\n",
    "from greentranslator.api import GreenTranslator\n",
    "\n",
    "import dateutil\n",
    "\n",
    "DISEASE2SYMPTOMS = [x.split(\"\\t\") for x in urlopen(\"https://www.nature.com/article-assets/npg/ncomms/2014/140626/ncomms5212/extref/ncomms5212-s4.txt\").read().split(\"\\n\")]\n",
    "DISEASE2SYMPTOMS = filter(lambda x: len(x) == 4, DISEASE2SYMPTOMS)\n",
    "print DISEASE2SYMPTOMS[:5]"
   ]
  },
  {
   "cell_type": "code",
   "execution_count": 3,
   "metadata": {},
   "outputs": [
    {
     "name": "stdout",
     "output_type": "stream",
     "text": [
      "\n"
     ]
    }
   ],
   "source": [
    "#connect to UMLS\n",
    "try:\n",
    "    cnx = mysql.connector.connect(user='tadmin',\n",
    "                                password='ncats_translator!',\n",
    "                                database='umls',\n",
    "                                host='translator.ceyknq0yekb3.us-east-1.rds.amazonaws.com')\n",
    "except mysql.connector.Error as err:\n",
    "    if err.errno == errorcode.ER_ACCESS_DENIED_ERROR:\n",
    "        print(\"Something is wrong with your user name or password\")\n",
    "    elif err.errno == errorcode.ER_BAD_DB_ERROR:\n",
    "        print(\"Database does not exist\")\n",
    "    else:\n",
    "        print(err)\n",
    "else:\n",
    "    print\n",
    "    #cnx.close()"
   ]
  },
  {
   "cell_type": "code",
   "execution_count": 4,
   "metadata": {
    "collapsed": true
   },
   "outputs": [],
   "source": [
    "#Define functions to use UMLS\n",
    "def findICD10(name):\n",
    "    cursor = cnx.cursor()\n",
    "    query = (\"SELECT CUI FROM umls.MRCONSO WHERE STR='\"+name+\"'\")\n",
    "    cursor.execute(query, ())\n",
    "    res = \"Undef\"\n",
    "    for code in cursor:\n",
    "        if res==\"Undef\":\n",
    "            res = code\n",
    "    if res != \"Undef\":\n",
    "        query = (\"SELECT CODE FROM umls.MRCONSO WHERE SAB='ICD10' AND CUI='\"+res[0]+\"'\")\n",
    "        cursor.execute(query, ())\n",
    "        icd10 = \"Undef\"\n",
    "        for code in cursor:\n",
    "            icd10 = code\n",
    "        return (icd10[0])\n",
    "    return (\"Undef\")\n",
    "\n",
    "def findICD9(name):\n",
    "    cursor = cnx.cursor()\n",
    "    query = (\"SELECT CUI FROM umls.MRCONSO WHERE STR='\"+name+\"'\")\n",
    "    cursor.execute(query, ())\n",
    "    res = \"Undef\"\n",
    "    for code in cursor:\n",
    "        if res==\"Undef\":\n",
    "            res = code\n",
    "    if res != \"Undef\":\n",
    "        query = (\"SELECT CODE FROM umls.MRCONSO WHERE SAB='ICD9CM' AND CUI='\"+res[0]+\"'\")\n",
    "        cursor.execute(query, ())\n",
    "        icd9 = \"Undef\"\n",
    "        for code in cursor:\n",
    "            icd9 = code\n",
    "        return (icd9[0])\n",
    "    return (\"Undef\")"
   ]
  },
  {
   "cell_type": "markdown",
   "metadata": {},
   "source": [
    "**Question: What are potentially diagnostic cluster groups to inform drug selection?**\n",
    "* Find patients diagnosed with Asthma\n",
    "* Find symptoms for Asthma\n",
    "* Find occurences of symptoms in Asthma patients\n",
    "* Find symptom clusters among Asthma patients"
   ]
  },
  {
   "cell_type": "code",
   "execution_count": 5,
   "metadata": {},
   "outputs": [
    {
     "name": "stdout",
     "output_type": "stream",
     "text": [
      "[u'E945.7', u'493', u'493.9', u'493.90', u'493.92', u'493.91', u'493.2', u'493.20', u'493.22', u'493.21', u'493.82', u'493.0', u'493.00', u'493.02', u'493.01', u'V17.5', u'493.1', u'493.10', u'493.12', u'493.11', u'493.8', u'975.7']\n"
     ]
    }
   ],
   "source": [
    "## Given disease/condition term, get back ICD codes\n",
    "def txt2icd(txt):\n",
    "    url_con = \"http://api.ohdsi.org/WebAPI/vocabulary/search\"\n",
    "    headers = {'content-type': 'application/json'}\n",
    "    params = {\"QUERY\": \"Asthma\",\n",
    "              \"VOCABULARY_ID\": [\"ICD9CM\"]\n",
    "    }\n",
    "    response = requests.post(url_con, data=json.dumps(params), headers=headers)\n",
    "    data= json.loads(response.text.decode('utf-8'))\n",
    "    icd9arr=[]\n",
    "    for d in data:\n",
    "        icd9arr.append(d[\"CONCEPT_CODE\"])\n",
    "    return icd9arr\n",
    "print txt2icd('asthma')"
   ]
  },
  {
   "cell_type": "code",
   "execution_count": 6,
   "metadata": {
    "collapsed": true
   },
   "outputs": [],
   "source": [
    "#Find symptoms for Asthma\n",
    "DISEASE2SYMPTOMS = [x.split(\"\\t\") for x in urlopen(\"https://www.nature.com/article-assets/npg/ncomms/2014/140626/ncomms5212/extref/ncomms5212-s4.txt\").read().split(\"\\n\")]\n",
    "DISEASE2SYMPTOMS = filter(lambda x: len(x) == 4, DISEASE2SYMPTOMS)\n",
    "#print DISEASE2SYMPTOMS"
   ]
  },
  {
   "cell_type": "code",
   "execution_count": 7,
   "metadata": {},
   "outputs": [
    {
     "data": {
      "text/plain": [
       "u'780.60'"
      ]
     },
     "execution_count": 7,
     "metadata": {},
     "output_type": "execute_result"
    }
   ],
   "source": [
    "# Find Asthma ICD10 codes\n",
    "asthmaCodes = findICD10('Asthma')\n",
    "#findICD10('Asthma')\n",
    "findICD9('Fever')"
   ]
  },
  {
   "cell_type": "code",
   "execution_count": 8,
   "metadata": {},
   "outputs": [
    {
     "name": "stdout",
     "output_type": "stream",
     "text": [
      "Found 206 symptom MeSH terms for Asthma\n"
     ]
    }
   ],
   "source": [
    "## Given disease name, get back symptoms (defined using MeSH terms) along with TFIDF scores\n",
    "## Taken from https://www.nature.com/articles/ncomms5212\n",
    "def disease2symptom(txt):\n",
    "    s = filter(lambda x: txt.lower() in x[1].lower(), DISEASE2SYMPTOMS)\n",
    "    return([(x[0], x[3]) for x in s])\n",
    "disease = \"Asthma\"\n",
    "symps = disease2symptom(disease)\n",
    "print 'Found %s symptom MeSH terms for %s' % (len(symps), disease)\n",
    "\n",
    "#for s in symps:\n",
    " #   findICD9(s)"
   ]
  },
  {
   "cell_type": "code",
   "execution_count": null,
   "metadata": {
    "collapsed": true
   },
   "outputs": [],
   "source": [
    "## Pull JHU FHIR patients matching an ICD code\n",
    "import requests\n",
    "import urllib2\n",
    "import json\n",
    "\n",
    "#base_url = 'http://ictrweb.johnshopkins.edu/rest/synthetic'\n",
    "#patients = base_url+\"/Patient\"+\"?_count=50\"\n",
    "\n",
    "#req = requests.get(patients)\n",
    "\n",
    "def findPatients(code):\n",
    "    try:\n",
    "        response = urllib2.urlopen(\"http://ictrweb.johnshopkins.edu/rest/synthetic/Condition?icd_10=\"+code+\"\")\n",
    "    except:\n",
    "        print \"I can't find patients\"\n",
    "        exit()\n",
    "    html = response.read()\n",
    "    return (html)"
   ]
  },
  {
   "cell_type": "code",
   "execution_count": null,
   "metadata": {
    "collapsed": true
   },
   "outputs": [],
   "source": [
    "## Pull HUSH+ patients matching a list of ICD codes\n",
    "query = GreenTranslator ().get_query ()\n",
    "\n",
    "HUSHpluspatients = query.clinical_get_patients (age='8', sex='male', \n",
    "                                        race='white', location='OUTPATIENT')\n",
    "##pprint.pprint (HUSHpluspatients)"
   ]
  },
  {
   "cell_type": "markdown",
   "metadata": {},
   "source": [
    "**Question: Are there differences in exposures among patients diagnosed with Asthma during childhood vs during adulthood?**\n",
    "* Find age of diagosis for Asthma patients\n",
    "* Find zipcode for Asthma patients\n",
    "* Find exposures by zipcode for Asthma patients\n",
    "* Compare exposures of patients diagnosed with Asthma during childhood vs during adulthood"
   ]
  },
  {
   "cell_type": "code",
   "execution_count": null,
   "metadata": {
    "collapsed": true
   },
   "outputs": [],
   "source": [
    "#Define functions needed to connect patients with exposures\n",
    "def findAgeZipcode(stuff):\n",
    "    res = []\n",
    "    for p in stuff['entry']:\n",
    "        d1 = p['assertedDate']\n",
    "        id = p['subject']['reference'][8:]\n",
    "        url = 'http://ictrweb.johnshopkins.edu/rest/synthetic/Patient/'+id\n",
    "        txt = urlopen(url).read()\n",
    "        st = json.loads(txt)\n",
    "        #pprint.pprint(st)\n",
    "        d2 = st['birthDate']\n",
    "        zip = st['address'][0]['postalCode']\n",
    "        d1 = dateutil.parser.parse(d1)\n",
    "        d2 = dateutil.parser.parse(d2)\n",
    "        #print d1\n",
    "        #print d2\n",
    "        diff = d1 - d2\n",
    "        #print diff\n",
    "        url = 'https://www.zipcodeapi.com/rest/lPMf5jmnBdclCZWkQwlFPJO6HkolG4N1TzgZSDnuRAPtzLOqi957STdzeBVVFIWz/multi-info.json/'+zip+'/degrees'\n",
    "        txt = urlopen(url).read()\n",
    "        st = json.loads(txt)\n",
    "        #pprint.pprint(st)\n",
    "        lat = st[zip]['lat']\n",
    "        lng = st[zip]['lng']\n",
    "        #print lat\n",
    "        #print lng\n",
    "        #print diff.days\n",
    "        t = (id,d2,d1,diff.days,zip,lat,lng)\n",
    "        res.append(t)\n",
    "    return(res)"
   ]
  },
  {
   "cell_type": "code",
   "execution_count": null,
   "metadata": {},
   "outputs": [],
   "source": [
    "## Find age and zipcode for FHIR patients with asthma diagnoses\n",
    "for c in asthmaCodes:\n",
    "    \n",
    "    ## Get asthma patients\n",
    "    url = \"http://ictrweb.johnshopkins.edu/rest/synthetic/Condition?icd_10=\"+c+\"&_count=1000\"\n",
    "    txt = urlopen(url).read()\n",
    "    stuff = json.loads(txt)\n",
    "    pprint.pprint(findAgeZipcode(stuff)) \n",
    "    "
   ]
  },
  {
   "cell_type": "markdown",
   "metadata": {},
   "source": [
    "**Question: Are there differences in medications prescribed off-label by patients diagnosed with Asthma during childhood vs during adulthood?**\n",
    "* Find age of diagosis for Asthma patients\n",
    "* Find medications taken by Asthma patients\n",
    "* Find medication classes for medications taken by Asthma patients\n",
    "* Compare medication classes taken by patients diagosed with Asthma during childhood vs during adulthood"
   ]
  },
  {
   "cell_type": "code",
   "execution_count": 78,
   "metadata": {},
   "outputs": [
    {
     "name": "stdout",
     "output_type": "stream",
     "text": [
      "{None: 9,\n",
      " u'0.3 ML Epinephrine 1 MG/ML Auto-Injector [Epipen]': 1,\n",
      " u'120 ACTUAT Fluticasone propionate 0.05 MG/ACTUAT Nasal Inhaler': 2,\n",
      " u'24 HR Methylphenidate Hydrochloride 10 MG Extended Release Oral Capsule [Ritalin]': 1,\n",
      " u'ACYCLOVIR 5 % TOPICAL OINTMENT': 1,\n",
      " u'ADVAIR HFA 230-21 MCG INHALER': 1,\n",
      " u'ALBUTEROL 90 MCG INHALER': 1,\n",
      " u'ALBUTEROL SULF HFA 90 MCG INH': 7,\n",
      " u'ALBUTEROL SULFATE 2.5 MG/3 ML (0.083 %) SOLUTION FOR NEBULIZATION': 9,\n",
      " u'ALBUTEROL SULFATE HFA 90 MCG/ACTUATION AEROSOL INHALER': 19,\n",
      " u'AMOXICILLIN 250 MG CHEWABLE TABLET': 1,\n",
      " u'AMOXICILLIN 875 MG TABLET': 1,\n",
      " u'AUGMENTIN 400-57 MG/5 ML': 1,\n",
      " u'AUGMENTIN ES-600 SUSPENSION': 3,\n",
      " u'AZITHROMYCIN 250 MG TABLET': 11,\n",
      " u'Acetaminophen 21.7 MG/ML / Hydrocodone Bitartrate 0.5 MG/ML Oral Solution': 1,\n",
      " u'Acetaminophen 32 MG/ML Oral Suspension': 1,\n",
      " u'Albuterol 0.83 MG/ML Inhalant Solution': 3,\n",
      " u'Amitriptyline Hydrochloride 10 MG Oral Tablet': 1,\n",
      " u'Amoxicillin 120 MG/ML / Clavulanate 8.58 MG/ML Oral Suspension': 4,\n",
      " u'Amoxicillin 250 MG Chewable Tablet': 1,\n",
      " u'Amoxicillin 500 MG Oral Capsule': 4,\n",
      " u'Amoxicillin 80 MG/ML / Clavulanate 11.4 MG/ML Oral Suspension': 1,\n",
      " u'Amoxicillin 80 MG/ML Oral Suspension': 23,\n",
      " u'Antipyrine 54 MG/ML / Benzocaine 14 MG/ML Otic Solution': 2,\n",
      " u'Azithromycin 40 MG/ML Oral Suspension': 30,\n",
      " u'BACTROBAN 2% OINTMENT': 2,\n",
      " u'BECLOMETHASONE DIPROPIONATE 40 MCG/ACTUATION AEROSOL INHALER': 7,\n",
      " u'BECLOMETHASONE DIPROPIONATE 80 MCG/ACTUATION AEROSOL INHALER': 4,\n",
      " u'CHILD ZYRTEC 1 MG/ML SOLUTION': 1,\n",
      " u'CLARITHROMYCIN 250 MG TABLET': 1,\n",
      " u'CLARITIN 5 MG/5 ML SYRUP': 1,\n",
      " u'CLEOCIN 75 MG/5 ML GRANULES': 1,\n",
      " u'CLINDAMYCIN 150 MG/ML INJECTION SOLUTION': 1,\n",
      " u'CLONIDINE HCL ER 0.1 MG TABLET,EXTENDED RELEASE,12 HR': 4,\n",
      " u'CONCERTA ER 18 MG TABLET': 4,\n",
      " u'CONCERTA ER 27 MG TABLET': 2,\n",
      " u'CORTEF 5 MG TABLET': 1,\n",
      " u'Calcium Chloride 0.0014 MEQ/ML / Potassium Chloride 0.004 MEQ/ML / Sodium Chloride 0.103 MEQ/ML / Sodium Lactate 0.028 MEQ/ML Injectable Solution': 3,\n",
      " u'Cephalexin 25 MG/ML Oral Suspension': 1,\n",
      " u'Cephalexin 50 MG/ML Oral Suspension': 6,\n",
      " u'Cephalexin 500 MG Oral Capsule': 1,\n",
      " u'Clindamycin 15 MG/ML Oral Solution': 1,\n",
      " u'Clindamycin 150 MG Oral Capsule': 1,\n",
      " u'Clobetasol Propionate 0.0005 MG/MG Topical Ointment': 1,\n",
      " u'Clonidine Hydrochloride 0.1 MG Oral Tablet': 3,\n",
      " u'Cyproheptadine hydrochloride 4 MG Oral Tablet': 5,\n",
      " u'DAYTRANA 10 MG/9 HR PATCH': 1,\n",
      " u'DDAVP 0.2 MG TABLET': 1,\n",
      " u'DIAZEPAM 2 MG TABLET': 1,\n",
      " u'Dexamethasone': 2,\n",
      " u'Dextroamphetamine saccharate': 31,\n",
      " u'Diphenhydramine Hydrochloride 25 MG Oral Capsule': 1,\n",
      " u'EFUDEX 5% CREAM': 1,\n",
      " u'ELIDEL 1% CREAM': 1,\n",
      " u'EPINEPHRINE 0.15 MG/0.3 ML (1:2,000) INJECTION,AUTO-INJECTOR': 1,\n",
      " u'EPINEPHRINE 0.3 MG/0.3 ML (1:1,000) INJECTION,AUTO-INJECTOR': 1,\n",
      " u'ESOMEPRAZOLE MAGNESIUM 40 MG CAPSULE,DELAYED RELEASE': 1,\n",
      " u'FLONASE 0.05% NASAL SPRAY': 2,\n",
      " u'FLOVENT HFA 110 MCG INHALER': 1,\n",
      " u'FLUOROURACIL 5 % TOPICAL CREAM': 1,\n",
      " u'FLUTICASONE 110 MCG/ACTUATION HFA AEROSOL INHALER': 2,\n",
      " u'FLUTICASONE 44 MCG/ACTUATION HFA AEROSOL INHALER': 3,\n",
      " u'FLUTICASONE 50 MCG/ACTUATION NASAL SPRAY,SUSPENSION': 6,\n",
      " u'FOCALIN XR 5 MG CAPSULE': 1,\n",
      " u'FUNGOID SOLN,TOP': 1,\n",
      " u'Fexofenadine hydrochloride 30 MG Oral Tablet': 1,\n",
      " u'Fluocinonide 0.0005 MG/MG Topical Ointment': 2,\n",
      " u'GUANFACINE ER 2 MG TABLET,EXTENDED RELEASE 24 HR': 1,\n",
      " u'Gentamicin Sulfate (USP) 3 MG/ML Ophthalmic Solution': 1,\n",
      " u'Glucose 50 MG/ML / Sodium Chloride 0.154 MEQ/ML Injectable Solution': 2,\n",
      " u'HYDROCODONE 7.5 MG-ACETAMINOPHEN 500 MG/15 ML ORAL SOLUTION': 1,\n",
      " u'HYDROCORTISONE VAL 0.2% CREAM': 2,\n",
      " u'Hydroxyzine Hydrochloride 2 MG/ML Oral Solution': 2,\n",
      " u'INTUNIV ER 1 MG TABLET': 1,\n",
      " u'Ivermectin 5 MG/ML Topical Lotion': 1,\n",
      " u'KETOCONAZOLE 2 % TOPICAL CREAM': 1,\n",
      " u'KETOROLAC 30 MG/ML (1 ML) INJECTION SOLUTION': 1,\n",
      " u'LIDEX 0.05% OINTMENT': 1,\n",
      " u'LORATADINE 10 MG TABLET': 4,\n",
      " u'LORATADINE 5 MG/5 ML ORAL SOLUTION': 1,\n",
      " u'LORTAB 7.5-500 MG/15 ML ELIXIR': 1,\n",
      " u'Lidocaine Hydrochloride 20 MG/ML Mucous Membrane Topical Solution': 1,\n",
      " u'MAGNESIUM CITRATE ORAL SOLUTION': 1,\n",
      " u'MELATONIN 1 MG TABLET': 1,\n",
      " u'METHYLPHENIDATE ER 27 MG TABLET,EXTENDED RELEASE 24 HR': 18,\n",
      " u'METHYLPHENIDATE ER 54 MG TABLET,EXTENDED RELEASE 24 HR': 7,\n",
      " u'MONTELUKAST 5 MG CHEWABLE TABLET': 1,\n",
      " u'MUPIROCIN 2 % TOPICAL OINTMENT': 2,\n",
      " u'Mebendazole 100 MG Chewable Tablet': 1,\n",
      " u'Methylphenidate Hydrochloride 10 MG Oral Tablet': 1,\n",
      " u'Morphine Sulfate': 1,\n",
      " u'Mupirocin 0.02 MG/MG Topical Ointment': 1,\n",
      " u'NEOSTIGMINE METHYLSULFATE 0.5 MG/ML INJECTION SOLUTION': 1,\n",
      " u'Nystatin 100000 UNT/ML Oral Suspension': 2,\n",
      " u'Nystatin 100000 UNT/ML Topical Cream': 1,\n",
      " u'OMALIZUMAB 150 MG SUBCUTANEOUS SOLUTION': 1,\n",
      " u'OMNICEF 250 MG/5 ML SUSPENSION': 5,\n",
      " u'ONDANSETRON 4 MG DISINTEGRATING TABLET': 9,\n",
      " u'ORAPRED 15 MG/5 ML SOLUTION': 13,\n",
      " u'OSELTAMIVIR 12 MG/ML ORAL SUSPENSION': 1,\n",
      " u'Ofloxacin 3 MG/ML Ophthalmic Solution': 1,\n",
      " u'Ofloxacin 3 MG/ML Otic Solution': 3,\n",
      " u'Oseltamivir 30 MG Oral Capsule': 1,\n",
      " u'PATANOL 0.1% EYE DROPS': 1,\n",
      " u'PENICILLIN V POTASSIUM 250 MG TABLET': 2,\n",
      " u'PENICILLIN V POTASSIUM 500 MG TABLET': 1,\n",
      " u'PERMETHRIN 5 % TOPICAL CREAM': 2,\n",
      " u'POLYETHYLENE GLYCOL 3350 142 MG/ML Oral Solution': 1,\n",
      " u'POLYTRIM EYE DROPS': 2,\n",
      " u'PREDNISOLONE SODIUM PHOSPHATE 15 MG/5 ML ORAL SOLUTION': 4,\n",
      " u'PREDNISONE 20 MG TABLET': 2,\n",
      " u'PROAIR HFA 90 MCG INHALER': 2,\n",
      " u'PROAIR HFA 90 MCG/ACTUATION AEROSOL INHALER': 1,\n",
      " u'PROZAC 10 MG PULVULE': 1,\n",
      " u'PULMICORT 0.5 MG/2 ML RESPULE': 2,\n",
      " u'Penicillin V Potassium 50 MG/ML Oral Solution': 2,\n",
      " u'Permethrin 50 MG/ML Topical Cream': 2,\n",
      " u'Polymyxin B': 1,\n",
      " u'QVAR 40 MCG ORAL INHALER': 4,\n",
      " u'QVAR 40 MCG/ACTUATION METERED AEROSOL ORAL INHALER': 1,\n",
      " u'QVAR 80 MCG ORAL INHALER': 1,\n",
      " u'RANITIDINE 15 MG/ML ORAL SUSPENSION': 1,\n",
      " u'RITALIN 10 MG TABLET': 4,\n",
      " u'SERTRALINE 25 MG TABLET': 6,\n",
      " u'SINGULAIR 5 MG TABLET CHEW': 1,\n",
      " u'SODIUM CHLORIDE 0.9 % INJECTION SYRINGE': 2,\n",
      " u'SODIUM CHLORIDE 0.9 % IRRIGATION SOLUTION': 1,\n",
      " u'STRATTERA 10 MG CAPSULE': 3,\n",
      " u'SUPRAX 200 MG/5 ML SUSPENSION': 1,\n",
      " u'Salicylic Acid 275 MG/ML Topical Solution': 1,\n",
      " u'Salmeterol': 11,\n",
      " u'Sulfamethoxazole 40 MG/ML / Trimethoprim 8 MG/ML Oral Suspension': 1,\n",
      " u'TAMIFLU 12 MG/ML SUSPENSION': 1,\n",
      " u'TAMIFLU 6 MG/ML SUSPENSION': 1,\n",
      " u'TRIAMCINOLONE ACETONIDE 0.1 % TOPICAL OINTMENT': 1,\n",
      " u'TUMS TABLET CHEWABLE': 1,\n",
      " u'Trazodone Hydrochloride 50 MG Oral Tablet': 1,\n",
      " u'Triamcinolone Acetonide 0.001 MG/MG Topical Ointment': 2,\n",
      " u'Triamcinolone Acetonide 1 MG/ML Topical Cream': 3,\n",
      " u'Trimethoprim': 2,\n",
      " u'VENTOLIN HFA 90 MCG INHALER': 2,\n",
      " u'VENTOLIN HFA 90 MCG/ACTUATION AEROSOL INHALER': 1,\n",
      " u'VIGAMOX 0.5% EYE DROPS': 1,\n",
      " u'VYVANSE 20 MG CAPSULE': 2,\n",
      " u'VYVANSE 40 MG CAPSULE': 1,\n",
      " u'WESTCORT 0.2% CREAM': 2,\n",
      " u'XOPENEX 0.63 MG/3 ML SOLUTION': 1,\n",
      " u'XOPENEX CONC 1.25 MG/0.5 ML': 1,\n",
      " u'XOPENEX HFA 45 MCG INHALER': 2,\n",
      " u'ZITHROMAX 200 MG/5 ML SUSP': 6,\n",
      " u'ZOFRAN 4 MG/5 ML ORAL SOLN': 1,\n",
      " u'atomoxetine 10 MG Oral Capsule': 4,\n",
      " u'cefdinir 300 MG Oral Capsule': 1,\n",
      " u'cefdinir 50 MG/ML Oral Suspension': 14,\n",
      " u'cefprozil 50 MG/ML Oral Suspension': 1,\n",
      " u'cetirizine hydrochloride 1 MG/ML Oral Solution': 8,\n",
      " u'cetirizine hydrochloride 10 MG Oral Tablet': 4,\n",
      " u'clavulanate potassium': 9,\n",
      " u'gadoterate meglumine': 1,\n",
      " u'lansoprazole 30 MG Delayed Release Oral Capsule': 1,\n",
      " u'levocetirizine dihydrochloride 0.5 MG/ML Oral Solution': 6,\n",
      " u'levocetirizine dihydrochloride 5 MG Oral Tablet': 2,\n",
      " u'lisdexamfetamine dimesylate 50 MG Oral Capsule': 1,\n",
      " u'lisdexamfetamine dimesylate 60 MG Oral Capsule': 1,\n",
      " u'mometasone furoate 0.001 MG/MG Topical Ointment': 1,\n",
      " u'moxifloxacin 5 MG/ML Ophthalmic Solution': 3,\n",
      " u'prednisolone 3 MG/ML Oral Solution': 3}\n"
     ]
    }
   ],
   "source": [
    "## Pull meds for HUSH+ patients\n",
    "meds = {}\n",
    "for x in HUSHpluspatients:\n",
    "    medList = x['medList']\n",
    "    # Collect the unique meds\n",
    "    for m in medList.keys():\n",
    "        found = False\n",
    "        try:\n",
    "            meds[medList[m]] = meds[medList[m]]+1\n",
    "        except KeyError:\n",
    "            meds[medList[m]] = 1\n",
    "pprint.pprint(meds)"
   ]
  },
  {
   "cell_type": "code",
   "execution_count": 79,
   "metadata": {},
   "outputs": [
    {
     "name": "stdout",
     "output_type": "stream",
     "text": [
      "[u'CLINDAMYCIN 15 MG/ML ORAL SOLUTION', u'CLINDAMYCIN 15 MG/ML', u'CLINDAMYCIN', u'ORAL SOLUTION']\n"
     ]
    }
   ],
   "source": [
    "## For a given medication string get NCBO annotations\n",
    "## We let NCBO match any ontology since just using RxNORM doesn't\n",
    "## always give us just the drug name (e.g., \"CLINDAMYCIN 15 MG/ML ORAL SOLUTION\" is\n",
    "## a valid RxNORM term)\n",
    "def med2rxnorm(txt):\n",
    "    url = 'http://data.bioontology.org/annotator?text=%s&apikey=b792dd1b-cdc2-4cc8-aaf2-4fa4fbf47e4e'\n",
    "    txt = urlopen(url % quote_plus(txt)).read()\n",
    "    resp = json.loads(txt)\n",
    "    if len(resp) == 0: return([])\n",
    "    annos = []\n",
    "    for aresp in resp:\n",
    "        annos.extend([ x['text'] for x in aresp['annotations'] ])\n",
    "    ##annos = filter(lambda x: not any(d in x for d in'0123456789'), annos)\n",
    "    return(annos)\n",
    "print med2rxnorm(\"CLINDAMYCIN 15 MG/ML ORAL SOLUTION\")        \n"
   ]
  },
  {
   "cell_type": "code",
   "execution_count": null,
   "metadata": {},
   "outputs": [
    {
     "name": "stdout",
     "output_type": "stream",
     "text": [
      "Processing HYDROCORTISONE VAL 0.2% CREAM and found 1 annotations\n",
      "Processing CLARITIN 5 MG/5 ML SYRUP and found 1 annotations\n",
      "Processing CLINDAMYCIN 150 MG/ML INJECTION SOLUTION and found 4 annotations\n",
      "Processing PROAIR HFA 90 MCG INHALER and found 1 annotations\n",
      "Processing ALBUTEROL SULFATE 2.5 MG/3 ML (0.083 %) SOLUTION FOR NEBULIZATION and found 2 annotations\n",
      "Processing Fexofenadine hydrochloride 30 MG Oral Tablet and found 5 annotations\n",
      "Processing ADVAIR HFA 230-21 MCG INHALER and found 1 annotations\n",
      "Processing Ofloxacin 3 MG/ML Ophthalmic Solution and found 4 annotations\n",
      "Processing levocetirizine dihydrochloride 5 MG Oral Tablet and found 5 annotations\n",
      "Processing DIAZEPAM 2 MG TABLET and found 2 annotations\n",
      "Processing Clonidine Hydrochloride 0.1 MG Oral Tablet and found 5 annotations\n",
      "Processing LIDEX 0.05% OINTMENT and found 0 annotations\n",
      "Processing KETOCONAZOLE 2 % TOPICAL CREAM and found 3 annotations\n",
      "Processing BACTROBAN 2% OINTMENT and found 1 annotations\n",
      "Processing FOCALIN XR 5 MG CAPSULE and found 1 annotations\n",
      "Processing Salicylic Acid 275 MG/ML Topical Solution and found 4 annotations\n",
      "Processing Clindamycin 15 MG/ML Oral Solution and found 4 annotations\n",
      "Processing WESTCORT 0.2% CREAM and found 1 annotations\n",
      "Processing ONDANSETRON 4 MG DISINTEGRATING TABLET and found 2 annotations\n",
      "Processing Lidocaine Hydrochloride 20 MG/ML Mucous Membrane Topical Solution and found 6 annotations\n",
      "Processing Clindamycin 150 MG Oral Capsule and found 4 annotations\n",
      "Processing Amoxicillin 120 MG/ML / Clavulanate 8.58 MG/ML Oral Suspension and found 6 annotations\n",
      "Processing PATANOL 0.1% EYE DROPS and found 2 annotations\n",
      "Processing DDAVP 0.2 MG TABLET and found 1 annotations\n",
      "Processing POLYTRIM EYE DROPS and found 2 annotations\n",
      "Processing PREDNISOLONE SODIUM PHOSPHATE 15 MG/5 ML ORAL SOLUTION and found 5 annotations\n",
      "Processing ZITHROMAX 200 MG/5 ML SUSP and found 1 annotations\n",
      "Processing LORATADINE 5 MG/5 ML ORAL SOLUTION and found 3 annotations\n",
      "Processing MUPIROCIN 2 % TOPICAL OINTMENT and found 3 annotations\n",
      "Processing Cephalexin 25 MG/ML Oral Suspension and found 4 annotations\n",
      "Processing SERTRALINE 25 MG TABLET and found 2 annotations\n",
      "Processing VYVANSE 20 MG CAPSULE and found 1 annotations\n",
      "Processing CHILD ZYRTEC 1 MG/ML SOLUTION and found 1 annotations\n",
      "Processing Hydroxyzine Hydrochloride 2 MG/ML Oral Solution and found 5 annotations\n",
      "Processing AUGMENTIN 400-57 MG/5 ML and found 1 annotations\n",
      "Processing ALBUTEROL SULF HFA 90 MCG INH and found 1 annotations\n"
     ]
    }
   ],
   "source": [
    "## Get RxNORM codes for medication strings\n",
    "medrxnorm = {}\n",
    "for med in meds.keys():\n",
    "    if med is None: continue    \n",
    "    annos = med2rxnorm(med)\n",
    "    print 'Processing %s and found %d annotations' % (med, len(annos))\n",
    "    medrxnorm[med] = {'count':meds[med], 'annos':annos}    "
   ]
  },
  {
   "cell_type": "code",
   "execution_count": 50,
   "metadata": {
    "collapsed": true
   },
   "outputs": [],
   "source": [
    "## Given a drug (identified by RXNORM), get conditions that the drug has a \n",
    "## status (approved, phase 3) for, via NDK API\n",
    "def drug2conditions(drug):\n",
    "    import urllib\n",
    "    url = \"https://tripod.nih.gov/ndk/treatment/%s/conditions\" % (drug)\n",
    "    page = urllib.urlopen(url).read().strip()\n",
    "    if page == \"\": return []\n",
    "    resp = json.loads(page)\n",
    "    conds = []\n",
    "    for aresp in resp:\n",
    "        condname = aresp['name']\n",
    "        if 'ICD10' in aresp.keys():\n",
    "            condicd10 = aresp['ICD10']\n",
    "        else: condicd10 = []\n",
    "        conds.append( (aresp['status'], condname, condicd10) )\n",
    "    return(conds)"
   ]
  },
  {
   "cell_type": "code",
   "execution_count": 53,
   "metadata": {},
   "outputs": [
    {
     "name": "stdout",
     "output_type": "stream",
     "text": [
      "## Salicylic Acid 275 MG/ML Topical Solution ## [(u'Approved', u'Psoriasis', [u'L40']), (u'Approved', u'Keratoderma blennorrhagicum', []), (u'Approved', u'Pityriasis rubra pilaris', [u'L44.0']), (u'Approved', u'Folliculitis ulerythematosa reticulata', [u'L66.4']), (u'Approved', u'Congenital ichthyosis', [u'Q80']), (u'Approved', u'Wart', []), (u'Approved', u'Corns and callosities', [u'L84']), (u'Approved', u'Acne', [u'L70']), (u'Approved', u'Pyoderma', [u'L08.0']), (u'Approved', u'Inflammation', [])]\n"
     ]
    }
   ],
   "source": [
    "keys = list(medrxnorm.keys())\n",
    "n = 10\n",
    "annos = medrxnorm[keys[n]]['annos']\n",
    "conds = []\n",
    "for anno in annos:\n",
    "    conds.extend(drug2conditions(anno))\n",
    "print \"##\", keys[n], \"##\", conds"
   ]
  },
  {
   "cell_type": "code",
   "execution_count": null,
   "metadata": {
    "collapsed": true
   },
   "outputs": [],
   "source": []
  }
 ],
 "metadata": {
  "kernelspec": {
   "display_name": "Python 2",
   "language": "python",
   "name": "python2"
  },
  "language_info": {
   "codemirror_mode": {
    "name": "ipython",
    "version": 2
   },
   "file_extension": ".py",
   "mimetype": "text/x-python",
   "name": "python",
   "nbconvert_exporter": "python",
   "pygments_lexer": "ipython2",
   "version": "2.7.9"
  }
 },
 "nbformat": 4,
 "nbformat_minor": 2
}
