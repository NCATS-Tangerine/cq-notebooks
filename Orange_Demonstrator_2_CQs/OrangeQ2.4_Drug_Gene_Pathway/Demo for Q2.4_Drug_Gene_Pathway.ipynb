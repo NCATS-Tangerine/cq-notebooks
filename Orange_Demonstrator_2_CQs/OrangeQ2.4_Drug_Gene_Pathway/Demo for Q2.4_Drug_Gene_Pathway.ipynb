{
 "cells": [
  {
   "cell_type": "markdown",
   "metadata": {
    "deletable": true,
    "editable": true
   },
   "source": [
    "# Query"
   ]
  },
  {
   "cell_type": "markdown",
   "metadata": {
    "deletable": true,
    "editable": true
   },
   "source": [
    "What genes and pathways are uniquely targeted by HSCT conditioning drugs that are well- vs poorly- tolerated by FA patients?"
   ]
  },
  {
   "cell_type": "markdown",
   "metadata": {
    "deletable": true,
    "editable": true
   },
   "source": [
    "# Workflow"
   ]
  },
  {
   "cell_type": "markdown",
   "metadata": {
    "deletable": true,
    "editable": true
   },
   "source": [
    "**Input**: [Two HSCT conditioning drug sets: (1) well-tolerated by FA patients (Set1d); (2) poorly-tolerated by FA patients (Set2d)](#input)\n",
    "\n",
    "**Step 1.** [Retrieve proteins targeted by set of well-tolerated HSCT conditioning drugs --> Set1p](#step1)\n",
    "\n",
    "**Step 2.** [Retrieve proteins targeted by set of poorly-tolerated HSCT conditioning drugs --> Set2p](#step2)\n",
    "\n",
    "**Step 3.** [Retrieve genes encoding proteins in Set1p vs Set2p --> Set1g, Set2g](#step3)\n",
    "\n",
    "**Step 4.** [Retrieve pathways associated with genes in Set1g vs Set2g --> Set1pw, Set2pw](#step4)\n",
    "\n",
    "**Step 5.** [Retreive other genes involved in pathways in Set1pw vs Set2pw --> Set1g', Set2g'](#step5)\n",
    "\n",
    "**Step 6.** [Execute set comparison analysis to return the set of genes that is uniquely targetd by poorly tolerated drugs (i.e. effected directly or indirectly by poorly tolerated drugs, but not affected by well-tolerated drugs)](#step6)\n",
    "\n",
    "**Output**: Set of genes that may be uniquely targeted by pre-conditioning drugs that are poorly tolerated by FA patients."
   ]
  },
  {
   "cell_type": "markdown",
   "metadata": {
    "deletable": true,
    "editable": true
   },
   "source": [
    "# Required packages"
   ]
  },
  {
   "cell_type": "markdown",
   "metadata": {
    "deletable": true,
    "editable": true
   },
   "source": [
    "1. [**biothings-client**](https://pypi.python.org/pypi/biothings-client) (pip install biothings-client)\n",
    "2. [**biothings-explorer**](https://pypi.python.org/pypi/biothings-explorer/0.1.0) (pip install biothings-explorer)\n",
    "\n",
    "\n",
    "**biothings_explorer** Python package is designed based on JSON-LD, and could be utilized to connect information from different biological entities, e.g. drug-protein-gene-pathway. Currently, it integrates API resource from MyGene.info, MyVariant.info, Drug and Compound API, etc.\n",
    "\n",
    "**biothings_client** Python package is an easy-to-use Python wrapper to access any Biothings.api-based backend service.\n"
   ]
  },
  {
   "cell_type": "markdown",
   "metadata": {
    "deletable": true,
    "editable": true
   },
   "source": [
    "# Demo\n"
   ]
  },
  {
   "cell_type": "markdown",
   "metadata": {
    "deletable": true,
    "editable": true
   },
   "source": [
    "<a id='input'></a>\n",
    "**Input**: Two HSCT conditioning drug sets: (1) well-tolerated by FA patients (Set1d); (2) poorly-tolerated by FA patients (Set2d)"
   ]
  },
  {
   "cell_type": "code",
   "execution_count": 30,
   "metadata": {
    "collapsed": true,
    "deletable": true,
    "editable": true
   },
   "outputs": [],
   "source": [
    "'''\n",
    "Assume well-tolerated drugs: Fludarabine, Carmustine\n",
    "Assume poorly-tolerated drugs: Etoposide, Tacrolimus\n",
    "'''\n",
    "drug_set1 = ['Fludarabine', 'Carmustine']\n",
    "drug_set2 = ['Etoposide', 'Tacrolimus']"
   ]
  },
  {
   "cell_type": "code",
   "execution_count": 31,
   "metadata": {
    "collapsed": false,
    "deletable": true,
    "editable": true
   },
   "outputs": [],
   "source": [
    "'''\n",
    "load biothings_client and biothings_explorer\n",
    "'''\n",
    "from biothings_client import get_client\n",
    "from biothings_explorer import IdListHandler\n",
    "md = get_client('drug')\n",
    "ih = IdListHandler()"
   ]
  },
  {
   "cell_type": "code",
   "execution_count": 32,
   "metadata": {
    "collapsed": false,
    "deletable": true,
    "editable": true
   },
   "outputs": [
    {
     "name": "stdout",
     "output_type": "stream",
     "text": [
      "querying 1-2...done.\n",
      "Finished.\n",
      "Drugbank ID list for Set1: ['DB01073', 'DB00262']\n",
      "querying 1-2...done.\n",
      "Finished.\n",
      "Drugbank ID list for Set2: ['DB00773', 'DB00864']\n"
     ]
    }
   ],
   "source": [
    "'''\n",
    "Transform drug name to drugbank ID using biothings_client python package\n",
    "'''\n",
    "results_drug_set1 = md.querymany(drug_set1, scopes='drugbank.name', fields='drugbank.accession_number')\n",
    "set1d = [_record['drugbank']['accession_number'] for _record in results_drug_set1]\n",
    "print('Drugbank ID list for Set1: {}'.format(set1d))\n",
    "results_drug_set2 = md.querymany(drug_set2, scopes='drugbank.name', fields='drugbank.accession_number')\n",
    "set2d = [_record['drugbank']['accession_number'] for _record in results_drug_set2]\n",
    "print('Drugbank ID list for Set2: {}'.format(set2d))"
   ]
  },
  {
   "cell_type": "markdown",
   "metadata": {
    "deletable": true,
    "editable": true
   },
   "source": [
    "<a id='step1'></a>\n",
    "**Step 1**. Retrieve proteins (*uniprot_id*) targeted by set of well-tolerated HSCT conditioning drugs --> Set1p"
   ]
  },
  {
   "cell_type": "code",
   "execution_count": 33,
   "metadata": {
    "collapsed": false,
    "deletable": true,
    "editable": true
   },
   "outputs": [
    {
     "name": "stdout",
     "output_type": "stream",
     "text": [
      "Protein Uniprot IDs related to Drugs in Drug Set 1 is: ['P09884', 'P00390', 'P23921', 'P27707']\n"
     ]
    }
   ],
   "source": [
    "'''\n",
    "Use IdListHandler to retrieve a list of Uniprot_IDs correponding to Drugbank_IDs for Drug Set 1\n",
    "'''\n",
    "set1p = ih.list_handler(input_id_list=set1d, input_type='drugbank_id', output_type='uniprot_id', relation='oban:is_Target_of')\n",
    "print('Protein Uniprot IDs related to Drugs in Drug Set 1 is: {}'.format(set1p))"
   ]
  },
  {
   "cell_type": "markdown",
   "metadata": {
    "deletable": true,
    "editable": true
   },
   "source": [
    "<a id='step2'></a>\n",
    "**Step 2.** Retrieve proteins targeted by set of well-tolerated HSCT conditioning drugs --> Set2p"
   ]
  },
  {
   "cell_type": "code",
   "execution_count": 34,
   "metadata": {
    "collapsed": false,
    "deletable": true,
    "editable": true
   },
   "outputs": [
    {
     "name": "stdout",
     "output_type": "stream",
     "text": [
      "Protein Uniprot IDs related to Drugs in Drug Set 2 is: ['P11388', 'P62942', 'Q02880']\n"
     ]
    }
   ],
   "source": [
    "'''\n",
    "Use IdListHandler to retrieve a list of Uniprot_IDs correponding to Drugbank_IDs for Drug Set 2\n",
    "'''\n",
    "set2p = ih.list_handler(input_id_list=set2d, input_type='drugbank_id', output_type='uniprot_id', relation='oban:is_Target_of')\n",
    "print('Protein Uniprot IDs related to Drugs in Drug Set 2 is: {}'.format(set2p))"
   ]
  },
  {
   "cell_type": "markdown",
   "metadata": {
    "deletable": true,
    "editable": true
   },
   "source": [
    "<a id='step3'></a>\n",
    "**Step 3**. Retrieve genes encoding proteins in Set1p vs Set2p --> Set1g, Set2g"
   ]
  },
  {
   "cell_type": "code",
   "execution_count": 35,
   "metadata": {
    "collapsed": false,
    "deletable": true,
    "editable": true
   },
   "outputs": [
    {
     "name": "stdout",
     "output_type": "stream",
     "text": [
      "['uniprot.Swiss-Prot']\n",
      "uniprot.Swiss-Prot:P09884\n",
      "Fetching 1 gene(s) . . .\n",
      "Number of IDs from mygene.info related to this query uniprot.Swiss-Prot:P09884 is : 1\n",
      "['uniprot.Swiss-Prot']\n",
      "uniprot.Swiss-Prot:P00390\n",
      "Fetching 1 gene(s) . . .\n",
      "Number of IDs from mygene.info related to this query uniprot.Swiss-Prot:P00390 is : 1\n",
      "['uniprot.Swiss-Prot']\n",
      "uniprot.Swiss-Prot:P23921\n",
      "Fetching 1 gene(s) . . .\n",
      "Number of IDs from mygene.info related to this query uniprot.Swiss-Prot:P23921 is : 1\n",
      "['uniprot.Swiss-Prot']\n",
      "uniprot.Swiss-Prot:P27707\n",
      "Fetching 1 gene(s) . . .\n",
      "Number of IDs from mygene.info related to this query uniprot.Swiss-Prot:P27707 is : 1\n",
      "Entrez Gene IDs related to Drugs in Drug Set 1 is: ['1633', '6240', '5422', '2936']\n"
     ]
    }
   ],
   "source": [
    "'''\n",
    "Use IdListHandler to retrieve a list of Entrez_Gene_IDs correponding to Uniprot_IDs for Drug Set 1\n",
    "'''\n",
    "set1g = ih.list_handler(input_id_list=set1p, input_type='uniprot_id', output_type='entrez_gene_id')\n",
    "print('Entrez Gene IDs related to Drugs in Drug Set 1 is: {}'.format(set1g))"
   ]
  },
  {
   "cell_type": "code",
   "execution_count": 36,
   "metadata": {
    "collapsed": false,
    "deletable": true,
    "editable": true
   },
   "outputs": [
    {
     "name": "stdout",
     "output_type": "stream",
     "text": [
      "['uniprot.Swiss-Prot']\n",
      "uniprot.Swiss-Prot:P11388\n",
      "Fetching 1 gene(s) . . .\n",
      "Number of IDs from mygene.info related to this query uniprot.Swiss-Prot:P11388 is : 1\n",
      "['uniprot.Swiss-Prot']\n",
      "uniprot.Swiss-Prot:P62942\n",
      "Fetching 1 gene(s) . . .\n",
      "Number of IDs from mygene.info related to this query uniprot.Swiss-Prot:P62942 is : 1\n",
      "['uniprot.Swiss-Prot']\n",
      "uniprot.Swiss-Prot:Q02880\n",
      "Fetching 1 gene(s) . . .\n",
      "Number of IDs from mygene.info related to this query uniprot.Swiss-Prot:Q02880 is : 1\n",
      "Entrez Gene IDs related to Drugs in Drug Set 1 is: ['2280', '7155', '7153']\n"
     ]
    }
   ],
   "source": [
    "'''\n",
    "Use IdListHandler to retrieve a list of Entrez_Gene_IDs correponding to Uniprot_IDs for Drug Set 1\n",
    "'''\n",
    "set2g = ih.list_handler(input_id_list=set2p, input_type='uniprot_id', output_type='entrez_gene_id')\n",
    "print('Entrez Gene IDs related to Drugs in Drug Set 1 is: {}'.format(set2g))"
   ]
  },
  {
   "cell_type": "markdown",
   "metadata": {
    "deletable": true,
    "editable": true
   },
   "source": [
    "<a id='step4'></a>\n",
    "**Step 4.** Retrieve pathways associated with genes in Set1g vs Set2g --> Set1pw, Set2pw"
   ]
  },
  {
   "cell_type": "code",
   "execution_count": 37,
   "metadata": {
    "collapsed": false,
    "deletable": true,
    "editable": true
   },
   "outputs": [
    {
     "name": "stdout",
     "output_type": "stream",
     "text": [
      "Wikipathway IDs related to Drugs in Drug Set 1 is: ['WP692', 'WP100', 'WP2882', 'WP408', 'WP2884', 'WP702', 'WP404', 'WP2377', 'WP466', 'WP15', 'WP3925', 'WP1601', 'WP2446', 'WP3940']\n"
     ]
    }
   ],
   "source": [
    "'''\n",
    "Use IdListHandler to retrieve a list of Wikipathway_IDs correponding to Entrez_Gene_IDs for Drug Set 1\n",
    "'''\n",
    "set1pw = ih.list_handler(input_id_list=set1g, input_type='entrez_gene_id', output_type='wikipathway_id')\n",
    "print('Wikipathway IDs related to Drugs in Drug Set 1 is: {}'.format(set1pw))"
   ]
  },
  {
   "cell_type": "code",
   "execution_count": 38,
   "metadata": {
    "collapsed": false,
    "deletable": true,
    "editable": true
   },
   "outputs": [
    {
     "name": "stdout",
     "output_type": "stream",
     "text": [
      "Wikipathway IDs related to Drugs in Drug Set 2 is: ['WP2431', 'WP2363', 'WP2377', 'WP1471', 'WP2361', 'WP560', 'WP536', 'WP2446']\n"
     ]
    }
   ],
   "source": [
    "'''\n",
    "Use IdListHandler to retrieve a list of Wikipathway_IDs correponding to Entrez_Gene_IDs for Drug Set 2\n",
    "'''\n",
    "set2pw = ih.list_handler(input_id_list=set2g, input_type='entrez_gene_id', output_type='wikipathway_id')\n",
    "print('Wikipathway IDs related to Drugs in Drug Set 2 is: {}'.format(set2pw))"
   ]
  },
  {
   "cell_type": "markdown",
   "metadata": {
    "deletable": true,
    "editable": true
   },
   "source": [
    "<a id='step5'></a>\n",
    "**Step 5.** Retrieve other genes involved in pathways in Set1pw vs Set2pw --> Set1g', Set2g'"
   ]
  },
  {
   "cell_type": "code",
   "execution_count": 39,
   "metadata": {
    "collapsed": false,
    "deletable": true,
    "editable": true
   },
   "outputs": [
    {
     "name": "stdout",
     "output_type": "stream",
     "text": [
      "['pathway.wikipathways.id']\n",
      "pathway.wikipathways.id:WP692\n",
      "Fetching 17 gene(s) . . .\n",
      "Number of IDs from mygene.info related to this query pathway.wikipathways.id:WP692 is : 17\n",
      "['pathway.wikipathways.id']\n",
      "pathway.wikipathways.id:WP100\n",
      "Fetching 20 gene(s) . . .\n",
      "Number of IDs from mygene.info related to this query pathway.wikipathways.id:WP100 is : 20\n",
      "['pathway.wikipathways.id']\n",
      "pathway.wikipathways.id:WP2882\n",
      "Fetching 316 gene(s) . . .\n",
      "Number of IDs from mygene.info related to this query pathway.wikipathways.id:WP2882 is : 316\n",
      "['pathway.wikipathways.id']\n",
      "pathway.wikipathways.id:WP408\n",
      "Fetching 30 gene(s) . . .\n",
      "Number of IDs from mygene.info related to this query pathway.wikipathways.id:WP408 is : 30\n",
      "['pathway.wikipathways.id']\n",
      "pathway.wikipathways.id:WP2884\n",
      "Fetching 142 gene(s) . . .\n",
      "Number of IDs from mygene.info related to this query pathway.wikipathways.id:WP2884 is : 142\n",
      "['pathway.wikipathways.id']\n",
      "pathway.wikipathways.id:WP702\n",
      "Fetching 177 gene(s) . . .\n",
      "Number of IDs from mygene.info related to this query pathway.wikipathways.id:WP702 is : 177\n",
      "['pathway.wikipathways.id']\n",
      "pathway.wikipathways.id:WP404\n",
      "Fetching 19 gene(s) . . .\n",
      "Number of IDs from mygene.info related to this query pathway.wikipathways.id:WP404 is : 19\n",
      "['pathway.wikipathways.id']\n",
      "pathway.wikipathways.id:WP2377\n",
      "Fetching 170 gene(s) . . .\n",
      "Number of IDs from mygene.info related to this query pathway.wikipathways.id:WP2377 is : 170\n",
      "['pathway.wikipathways.id']\n",
      "pathway.wikipathways.id:WP466\n",
      "Fetching 42 gene(s) . . .\n",
      "Number of IDs from mygene.info related to this query pathway.wikipathways.id:WP466 is : 42\n",
      "['pathway.wikipathways.id']\n",
      "pathway.wikipathways.id:WP15\n",
      "Fetching 83 gene(s) . . .\n",
      "Number of IDs from mygene.info related to this query pathway.wikipathways.id:WP15 is : 83\n",
      "['pathway.wikipathways.id']\n",
      "pathway.wikipathways.id:WP3925\n",
      "Fetching 91 gene(s) . . .\n",
      "Number of IDs from mygene.info related to this query pathway.wikipathways.id:WP3925 is : 91\n",
      "['pathway.wikipathways.id']\n",
      "pathway.wikipathways.id:WP1601\n",
      "Fetching 34 gene(s) . . .\n",
      "Number of IDs from mygene.info related to this query pathway.wikipathways.id:WP1601 is : 34\n",
      "['pathway.wikipathways.id']\n",
      "pathway.wikipathways.id:WP2446\n",
      "Fetching 89 gene(s) . . .\n",
      "Number of IDs from mygene.info related to this query pathway.wikipathways.id:WP2446 is : 89\n",
      "['pathway.wikipathways.id']\n",
      "pathway.wikipathways.id:WP3940\n",
      "Fetching 49 gene(s) . . .\n",
      "Number of IDs from mygene.info related to this query pathway.wikipathways.id:WP3940 is : 49\n",
      "Other Entrez Gene IDs related to Drugs in Drug Set 1 is: ['158', '5917', '2189', '51126', '1558', '441481', '6286', '5054', '3065', '7546', '3939', '7173', '2326', '56262', '3275', '117283', '4837', '9965', '5424', '283848', '3553', '595', '672', '2878', '219970', '8714', '2330', '6723', '7132', '7272', '6596', '10062', '2308', '7372', '1589', '7498', '7124', '873', '8802', '6898', '1581', '8140', '3558', '23516', '949', '6783', '4175', '1021', '1401', '4199', '5423', '1555', '26151', '2908', '5601', '990', '1586', '54657', '836', '2068', '1559', '1431', '55334', '9446', '9486', '5105', '47', '3084', '1572', '201266', '3630', '3043', '8660', '10249', '7150', '983', '5914', '55500', '51719', '5091', '5327', '7378', '5360', '114112', '1831', '4485', '6822', '3162', '1728', '240', '6720', '3320', '1017', '5058', '4831', '6469', '6117', '8534', '5983', '6718', '140606', '7166', '4143', '2287', '3417', '1839', '9468', '54716', '3569', '580', '1026', '7039', '10714', '23491', '7083', '64579', '9052', '100526830', '5982', '5591', '85465', '2040', '6009', '11112', '6502', '2247', '6527', '2155', '51733', '283375', '351', '55829', '177', '376497', '9', '54658', '55388', '10797', '3146', '2952', '8772', '8647', '6540', '80308', '8819', '4174', '7295', '57016', '6647', '9955', '5877', '126', '5428', '4863', '5009', '8204', '153218', '54600', '8639', '5578', '10411', '10056', '1621', '1962', '6608', '6774', '27173', '166012', '1376', '54578', '5906', '2729', '55117', '1553', '1543', '2879', '6776', '4128', '472', '121512', '1743', '26509', '9126', '122830', '8318', '6799', '196', '2328', '22928', '8564', '6518', '23594', '2939', '2260', '356', '9792', '4191', '5604', '131', '2258', '83539', '10720', '7153', '221223', '4217', '60482', '151742', '8030', '7040', '7001', '280636', '2931', '10486', '3949', '6536', '151531', '7029', '7042', '843', '4953', '8431', '7296', '1109', '115584', '1312', '2885', '9152', '11254', '2730', '3172', '6817', '6534', '23764', '66002', '27190', '373156', '7298', '211', '3592', '6342', '384', '3562', '7367', '5915', '6414', '84951', '874', '407026', '5272', '90161', '10549', '7027', '6526', '79056', '1571', '23411', '3624', '7057', '11182', '2280', '5984', '79027', '1579', '27113', '574537', '207', '27063', '6554', '58515', '3593', '126410', '317', '5981', '51380', '5290', '4998', '2064', '8856', '3034', '57678', '1582', '5156', '335', '4594', '54575', '4790', '89795', '6288', '7422', '26275', '6118', '2058', '994', '1733', '1592', '1244', '57834', '840', '8317', '5558', '2571', '266722', '120227', '993', '5244', '1719', '5925', '55226', '4548', '3727', '23395', '9134', '1562', '6303', '645', '4173', '57404', '7316', '2353', '1735', '23649', '154091', '406991', '9821', '5595', '1373', '6649', '2938', '5831', '3376', '2877', '10560', '92935', '50', '4999', '2281', '8836', '1557', '64241', '701', '8884', '6667', '387509', '6529', '3978', '8644', '2289', '1646', '3925', '6397', '221357', '1870', '50515', '23595', '10891', '9951', '6523', '4780', '9953', '113189', '3039', '2880', '3383', '5130', '5985', '5347', '6291', '1956', '10400', '144195', '8050', '4257', '10602', '7363', '29103', '7186', '301', '815', '19', '1807', '847', '84618', '100506742', '5426', '54490', '6290', '586', '5315', '200895', '445329', '221079', '3082', '5467', '10993', '1958', '1580', '6530', '5001', '8514', '5552', '9514', '6514', '64711', '55501', '9196', '25828', '9957', '1111', '5833', '2746', '5879', '644314', '29986', '5602', '348303', '790', '51302', '25942', '1759', '27306', '2940', '8436', '1622', '7407', '2956', '57181', '25', '1633', '10811', '10637', '9653', '4216', '7049', '257202', '3614', '570', '1890', '1871', '7421', '3554', '3015', '216', '6999', '10858', '1584', '1028', '1398', '4171', '1548', '8507', '29785', '2539', '9817', '5933', '1645', '4524', '1869', '2882', '8850', '875', '2512', '4259', '57106', '10941', '5052', '596', '27233', '5460', '391365', '9061', '9982', '54905', '2100', '1030', '1545', '10935', '355', '247', '89792', '5427', '336', '6535', '6908', '8553', '1738', '5155', '340665', '8509', '4791', '8454', '56548', '5422', '2972', '637', '10468', '23054', '10257', '9403', '6595', '24137', '7157', '5308', '6256', '6538', '3726', '5375', '5166', '1019', '25800', '7881', '375', '2246', '10499', '1591', '383', '4176', '10926', '51426', '5142', '675', '3155', '127', '5350', '22977', '1583', '51053', '4967', '34', '9420', '445', '2042', '1605', '1677', '55630', '1374', '56603', '29958', '91252', '1491', '79807', '8554', '898', '57190', '1757', '81706', '27286', '340024', '2168', '1066', '2033', '84532', '2099', '25824', '2053', '627', '92737', '2329', '1499', '80218', '2356', '114134', '5728', '10599', '3895', '1535', '2953', '9049', '7031', '5371', '9133', '1644', '8648', '1027', '155184', '5154', '6996', '2805', '9469', '3326', '54659', '1573', '54577', '4609', '890', '10733', '6472', '51714', '4097', '5947', '842', '7465', '23563', '79829', '1836', '5596', '4946', '10327', '2147', '54566', '1385', '6648', '7048', '66035', '9588', '5705', '4357', '5265', '51', '241', '6533', '218', '1950', '3280', '27284', '10164', '79571', '841', '6654', '23657', '4501', '2950', '5634', '7266', '6839', '2030', '6591', '5893', '84002', '10864', '8574', '1786', '6364', '1577', '338', '29988', '6524', '3176', '51734', '2944', '1630', '26873', '125206', '56994', '10390', '7128', '442038', '7922', '7490', '6517', '6819', '7056', '6241', '2876', '56606', '9971', '3732', '653689', '9956', '5970', '2687', '1432', '128', '51129', '10768', '7054', '7517', '5163', '6119', '549', '159963', '5465', '57804', '3589', '9348', '6240', '12', '10769', '79799', '84706', '23583', '2954', '113612', '221393', '635', '1120', '1907', '5563', '3067', '28968', '4661', '231', '405', '407025', '3158', '64377', '1565', '330', '572', '4091', '5340', '7453', '29985', '5425', '55349', '6515', '50484', '3148', '27232', '978', '30', '10111', '54579', '3845', '2572', '823', '1576', '3033', '2744', '896', '8202', '1969', '57007', '8824', '4051', '6794', '213', '3643', '7364', '4172', '9435', '4258', '3375', '43', '2937', '2948', '3337', '11057', '1585', '5997', '4089', '5599', '2949', '3251', '7046', '2146', '4087', '5273', '1551', '4908', '55312', '1874', '260293', '641', '4784', '329', '11283', '4690', '3458', '339983', '1036', '339761', '6531', '8529', '4914', '2327', '5471', '4240', '54443', '2941', '4193', '6594', '64240', '2947', '55869', '2194', '7486', '5111', '7311', '5631', '1676', '10', '64116', '116519', '7172', '80315', '5931', '8878', '1734', '5524', '64816', '2806', '3479', '160728', '4144', '1594', '92292', '5928', '221074', '2678', '8974', '22949', '119391', '345', '1788', '6532', '9060', '1588', '4942', '6470', '6415', '2052', '1806', '6820', '5409', '1119', '5894', '8942', '290', '501', '5160', '199974', '6611', '6714', '4616', '6319', '8243', '81620', '5557', '23743', '2946', '200010', '10728', '5226', '2752', '5888', '3725', '55163', '55224', '5598', '348932', '5243', '6337', '4166', '4052', '9232', '50507', '83642', '57491', '3484', '25830', '5742', '10592', '820', '5603', '64090', '11140', '6513', '1595', '6347', '5337', '5000', '55554', '10555', '6389', '347902', '29935', '7371', '891', '1544', '6528', '5055', '10057', '159', '9429', '4190', '5594', '324', '3303', '2271', '10998', '1616', '10252', '6289', '10841', '440', '83549', '581', '81031', '79690', '1593', '6772', '3340', '995', '56922', '9394', '11309', '285440', '4353', '2184', '57818', '2936', '4838', '2495', '11124', '5832', '10587', '9970', '1549', '11214', '5321', '388662', '5743', '9027']\n"
     ]
    }
   ],
   "source": [
    "'''\n",
    "Use IdListHandler to retrieve a list of Entrez_Gene_IDs correponding to Wikipathway_IDs for Drug Set 1\n",
    "'''\n",
    "set1g_other = ih.list_handler(input_id_list=set1pw, input_type='wikipathway_id', output_type='entrez_gene_id')\n",
    "print('Other Entrez Gene IDs related to Drugs in Drug Set 1 is: {}'.format(set1g_other))"
   ]
  },
  {
   "cell_type": "code",
   "execution_count": 40,
   "metadata": {
    "collapsed": false,
    "deletable": true,
    "editable": true
   },
   "outputs": [
    {
     "name": "stdout",
     "output_type": "stream",
     "text": [
      "['pathway.wikipathways.id']\n",
      "pathway.wikipathways.id:WP2431\n",
      "Fetching 117 gene(s) . . .\n",
      "Number of IDs from mygene.info related to this query pathway.wikipathways.id:WP2431 is : 117\n",
      "['pathway.wikipathways.id']\n",
      "pathway.wikipathways.id:WP2363\n",
      "Fetching 32 gene(s) . . .\n",
      "Number of IDs from mygene.info related to this query pathway.wikipathways.id:WP2363 is : 32\n",
      "['pathway.wikipathways.id']\n",
      "pathway.wikipathways.id:WP2377\n",
      "Fetching 170 gene(s) . . .\n",
      "Number of IDs from mygene.info related to this query pathway.wikipathways.id:WP2377 is : 170\n",
      "['pathway.wikipathways.id']\n",
      "pathway.wikipathways.id:WP1471\n",
      "Fetching 36 gene(s) . . .\n",
      "Number of IDs from mygene.info related to this query pathway.wikipathways.id:WP1471 is : 36\n",
      "['pathway.wikipathways.id']\n",
      "pathway.wikipathways.id:WP2361\n",
      "Fetching 29 gene(s) . . .\n",
      "Number of IDs from mygene.info related to this query pathway.wikipathways.id:WP2361 is : 29\n",
      "['pathway.wikipathways.id']\n",
      "pathway.wikipathways.id:WP560\n",
      "Fetching 55 gene(s) . . .\n",
      "Number of IDs from mygene.info related to this query pathway.wikipathways.id:WP560 is : 55\n",
      "['pathway.wikipathways.id']\n",
      "pathway.wikipathways.id:WP536\n",
      "Fetching 149 gene(s) . . .\n",
      "Number of IDs from mygene.info related to this query pathway.wikipathways.id:WP536 is : 149\n",
      "['pathway.wikipathways.id']\n",
      "pathway.wikipathways.id:WP2446\n",
      "Fetching 89 gene(s) . . .\n",
      "Number of IDs from mygene.info related to this query pathway.wikipathways.id:WP2446 is : 89\n",
      "Other Entrez Gene IDs related to Drugs in Drug Set 1 is: ['8408', '2189', '5587', '5573', '6286', '5054', '801', '3065', '1463', '3275', '713', '2702', '409', '3553', '595', '672', '7044', '1948', '6596', '7132', '7272', '7533', '7124', '3710', '3930', '2022', '3558', '4175', '1021', '860', '9585', '5601', '836', '5542', '2782', '5590', '4974', '3760', '10153', '814', '388', '2920', '8928', '7150', '5914', '983', '51719', '3745', '818', '64094', '4485', '4321', '79899', '9423', '1017', '5058', '8209', '7050', '5581', '6469', '6117', '5983', '2287', '2705', '4099', '3576', '2783', '3569', '580', '1026', '10714', '9052', '808', '53632', '10670', '5591', '6009', '6502', '1464', '2247', '351', '3708', '6263', '84823', '3716', '4092', '64407', '6547', '2870', '3146', '8772', '5562', '1978', '8398', '8819', '2697', '3156', '3422', '5877', '9475', '4863', '4090', '2700', '5578', '10411', '57165', '6608', '6774', '2785', '153', '5906', '4605', '6776', '3762', '472', '7248', '107', '22974', '155', '482', '5575', '9126', '8318', '54476', '389', '2776', '729230', '3164', '2810', '489', '2260', '1297', '356', '5604', '7153', '1282', '2919', '4217', '8030', '255488', '7040', '5322', '2931', '5577', '1647', '4842', '6277', '7029', '843', '845', '8900', '2885', '3172', '148', '3627', '5588', '5583', '7298', '3709', '1133', '3694', '27101', '3562', '5915', '2709', '147', '2596', '5571', '3020', '361', '7027', '23411', '5331', '3624', '2902', '2280', '5984', '7057', '79027', '27113', '1128', '207', '2703', '56963', '317', '2773', '773', '5290', '4998', '2064', '5156', '5530', '7532', '4790', '2475', '7422', '6696', '11082', '6118', '2791', '994', '6586', '816', '29089', '840', '8317', '993', '1719', '5925', '5576', '3727', '8786', '5884', '9134', '4173', '2353', '1875', '10804', '109', '1129', '2236', '406991', '9821', '486', '5595', '488', '65078', '54891', '64223', '480', '2281', '5362', '7249', '10325', '701', '406887', '6667', '3978', '3925', '11025', '9628', '1870', '6098', '50515', '1387', '253260', '92140', '5570', '3383', '811', '57369', '5347', '5985', '1956', '55593', '58528', '6198', '4093', '7186', '301', '815', '5786', '1131', '358', '481', '5996', '84618', '100506742', '154', '5426', '9706', '51764', '4050', '328', '54921', '1958', '8787', '6498', '64131', '57122', '492', '1111', '490', '11065', '483', '10636', '5879', '25942', '4282', '2781', '27306', '7099', '1241', '55125', '5569', '2956', '25', '1633', '10811', '63922', '10637', '4216', '7049', '1871', '7030', '5320', '3554', '3015', '26575', '54541', '962', '1398', '961', '54331', '79075', '5567', '7531', '1869', '5933', '4318', '2512', '652', '8490', '596', '59345', '775', '57521', '1030', '2100', '6662', '2668', '355', '5427', '6908', '844', '6261', '5422', '2972', '637', '8741', '10468', '6595', '24137', '7157', '5308', '5580', '6256', '3726', '5566', '1019', '375', '383', '2246', '4176', '675', '5350', '144455', '51316', '55615', '1605', '8926', '1677', '79109', '10681', '6262', '5998', '8554', '898', '5582', '57142', '2788', '2033', '2099', '51176', '627', '25909', '1499', '5728', '6585', '4155', '7031', '5371', '9133', '1027', '5154', '2767', '3326', '727', '64121', '4609', '890', '86', '112', '2787', '8607', '407028', '10733', '5947', '7465', '842', '491', '176', '29028', '5596', '1385', '7048', '55299', '1950', '7471', '7538', '1299', '841', '6654', '4843', '10673', '1894', '6004', '6839', '407011', '5893', '2309', '3958', '776', '6403', '1462', '9372', '1786', '5564', '1630', '8536', '2770', '7490', '6241', '9353', '57556', '3732', '784', '8601', '6000', '3552', '1432', '2707', '2869', '115', '10971', '5163', '2784', '5579', '309', '1063', '6119', '3589', '6240', '286826', '111', '2043', '25989', '11202', '3565', '5563', '5565', '4661', '2786', '407025', '572', '4091', '3148', '10111', '5173', '3845', '823', '896', '7832', '6794', '146', '4172', '94235', '81025', '3375', '387', '43', '4089', '5599', '5997', '7046', '805', '2146', '4087', '5273', '4908', '1874', '641', '84335', '10287', '113', '4690', '3458', '408', '352954', '3265', '864', '4914', '54443', '4193', '55869', '782', '7486', '5111', '7534', '3976', '4088', '7431', '1676', '6497', '5931', '55970', '6869', '55215', '2868', '157769', '5803', '3479', '5999', '779', '5928', '56992', '6546', '9839', '196883', '4804', '5894', '2670', '817', '6714', '777', '2792', '774', '5557', '8243', '81620', '5888', '3725', '11142', '114', '5598', '4052', '25805', '127534', '9232', '50507', '121504', '998', '10592', '820', '6790', '10052', '4086', '1132', '5603', '6347', '10555', '23090', '891', '6001', '1280', '4851', '5594', '324', '2771', '7529', '1616', '63827', '108', '2212', '581', '2701', '2775', '900', '6772', '995', '2706', '51422', '115265', '199', '11124', '4838', '9241', '3952', '5321', '64006', '5743', '2778']\n"
     ]
    }
   ],
   "source": [
    "'''\n",
    "Use IdListHandler to retrieve a list of Entrez_Gene_IDs correponding to Wikipathway_IDs for Drug Set 2\n",
    "'''\n",
    "set2g_other = ih.list_handler(input_id_list=set2pw, input_type='wikipathway_id', output_type='entrez_gene_id')\n",
    "print('Other Entrez Gene IDs related to Drugs in Drug Set 1 is: {}'.format(set2g_other))"
   ]
  },
  {
   "cell_type": "markdown",
   "metadata": {
    "deletable": true,
    "editable": true
   },
   "source": [
    "<a id='step6'></a>\n",
    "**Step 6.** Execute set comparison analysis to return the set of genes that is uniquely targeted by poorly tolerated drugs (i.e. affected directly or indirectly by poorly tolerated drugs, but not affected by well-tolerated drugs)"
   ]
  },
  {
   "cell_type": "code",
   "execution_count": 41,
   "metadata": {
    "collapsed": false,
    "deletable": true,
    "editable": true
   },
   "outputs": [
    {
     "name": "stdout",
     "output_type": "stream",
     "text": [
      "Total number of unique genes in gene set 1: 913\n",
      "Total number of unique genes in gene set 2: 592\n"
     ]
    }
   ],
   "source": [
    "'''\n",
    "Get Unique Entrez Gene IDs for both sets\n",
    "'''\n",
    "set1g_other_unique = set(set1g_other)\n",
    "set2g_other_unique = set(set2g_other)\n",
    "print('Total number of unique genes in gene set 1: {}'.format(len(set1g_other_unique)))\n",
    "print('Total number of unique genes in gene set 2: {}'.format(len(set2g_other_unique)))"
   ]
  },
  {
   "cell_type": "code",
   "execution_count": 42,
   "metadata": {
    "collapsed": false,
    "deletable": true,
    "editable": true
   },
   "outputs": [
    {
     "name": "stdout",
     "output_type": "stream",
     "text": [
      "Total number of genes uniquely targeted by poorly tolerated drugs: 334\n"
     ]
    }
   ],
   "source": [
    "'''\n",
    "Find the set of genes that is uniquely targeted by poorly tolerated drugs (e.g. only present in set2g_other_unique)\n",
    "'''\n",
    "set2g_only = set2g_other_unique - set1g_other_unique\n",
    "print('Total number of genes uniquely targeted by poorly tolerated drugs: {}'.format(len(set2g_only)))"
   ]
  }
 ],
 "metadata": {
  "kernelspec": {
   "display_name": "Python 3",
   "language": "python",
   "name": "python3"
  },
  "language_info": {
   "codemirror_mode": {
    "name": "ipython",
    "version": 3
   },
   "file_extension": ".py",
   "mimetype": "text/x-python",
   "name": "python",
   "nbconvert_exporter": "python",
   "pygments_lexer": "ipython3",
   "version": "3.5.2"
  }
 },
 "nbformat": 4,
 "nbformat_minor": 0
}
