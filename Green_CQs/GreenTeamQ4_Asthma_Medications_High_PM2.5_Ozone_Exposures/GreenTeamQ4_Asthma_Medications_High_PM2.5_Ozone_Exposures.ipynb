{
 "cells": [
  {
   "cell_type": "code",
   "execution_count": 2,
   "metadata": {
    "collapsed": true
   },
   "outputs": [],
   "source": [
    "# Import Green Translator API\n",
    "import pprint\n",
    "from greentranslator.api import GreenTranslator\n",
    "query = GreenTranslator ().get_query ()"
   ]
  },
  {
   "cell_type": "code",
   "execution_count": 4,
   "metadata": {},
   "outputs": [
    {
     "name": "stdout",
     "output_type": "stream",
     "text": [
      "31\n",
      "[{'end_time': datetime.datetime(2010, 1, 1, 23, 0, tzinfo=tzlocal()),\n",
      " 'exposure_type': 'pm25',\n",
      " 'latitude': '35.9131996',\n",
      " 'longitude': '-79.0558445',\n",
      " 'start_time': datetime.datetime(2010, 1, 1, 0, 0, tzinfo=tzlocal()),\n",
      " 'units': '7dayrisk',\n",
      " 'value': ''},\n",
      " {'end_time': datetime.datetime(2010, 1, 2, 23, 0, tzinfo=tzlocal()),\n",
      " 'exposure_type': 'pm25',\n",
      " 'latitude': '35.9131996',\n",
      " 'longitude': '-79.0558445',\n",
      " 'start_time': datetime.datetime(2010, 1, 2, 0, 0, tzinfo=tzlocal()),\n",
      " 'units': '7dayrisk',\n",
      " 'value': ''}]\n"
     ]
    }
   ],
   "source": [
    "# Question 4: Which medications are currently prescribed to pediatric patients with an asthma-like phenotype\n",
    "#             who are responsive to treatment despite high levels of exposure to particulate matter <=2.5 \n",
    "#             micrometers in diameter (PM2.5) and ozone?\n",
    "\n",
    "# TODO: \n",
    "#   1. Use clinical API to determine medications prescribed wrt phenotype/responsiveness criteria.\n",
    "#   2. Correlate to exposure scores\n",
    "\n",
    "exposures = query.expo_get_scores (exposure_type = 'pm25',\n",
    "                                    start_date = '2010-01-01',\n",
    "                                    end_date = '2010-01-31',\n",
    "                                    exposure_point = '35.9131996,-79.0558445')\n",
    "print (len(exposures))\n",
    "pprint.pprint (exposures[:2])\n"
   ]
  },
  {
   "cell_type": "code",
   "execution_count": 3,
   "metadata": {},
   "outputs": [
    {
     "name": "stdout",
     "output_type": "stream",
     "text": [
      "{\n",
      "  \"entity\": {\n",
      "    \"expo\": {\n",
      "      \"TODO:id\": \"http://id.org/e1c1a10b-d5a2-4f33-bc93-2dc01b455b8f\",\n",
      "      \"src\": \"expo\",\n",
      "      \"prov:type\": \"expo\"\n",
      "    },\n",
      "    \"TODO:schema\": {\n",
      "      \"TODO:id\": \"http://id.org/e1c1a10b-d5a2-4f33-bc93-2dc01b455b8f\",\n",
      "      \"expo:score\": \"expo_get_scores((){'exposure_type': 'pm25', 'end_date': '2010-01-31', 'exposure_point': '35.9131996,-79.0558445', 'start_date': '2010-01-07'})\",\n",
      "      \"prov:type\": \"expo_get_scores\"\n",
      "    }\n",
      "  },\n",
      "  \"prefix\": {\n",
      "    \"expo\": \"http://purl.translator.org/prov/expo\",\n",
      "    \"clinical.med.prescribed\": \"http://purl.translator.org/prov/clinical.med.prescribed\",\n",
      "    \"blazegraph\": \"http://purl.translator.org/prov/blazegraph\",\n",
      "    \"biochem\": \"http://purl.translator.org/prov/biochem\",\n",
      "    \"TODO\": \"http://purl.translator.org/prov/TODO\",\n",
      "    \"expo.pm25-o3\": \"http://purl.translator.org/prov/expo.pm25-o3\",\n",
      "    \"default\": \"http://purl.translator.org/prov/\"\n",
      "  },\n",
      "  \"activity\": {\n",
      "    \"expo_get_scores\": {\n",
      "      \"prov:endTime\": \"2017-05-04T15:49:59\",\n",
      "      \"prov:startTime\": \"2017-05-04T15:49:59\",\n",
      "      \"TODO:id\": \"http://id.org/e1c1a10b-d5a2-4f33-bc93-2dc01b455b8f\"\n",
      "    }\n",
      "  }\n",
      "}\n"
     ]
    }
   ],
   "source": [
    "print (query.prov_json ())"
   ]
  }
 ],
 "metadata": {
  "kernelspec": {
   "display_name": "Python 3",
   "language": "python",
   "name": "python3"
  },
  "language_info": {
   "codemirror_mode": {
    "name": "ipython",
    "version": 3
   },
   "file_extension": ".py",
   "mimetype": "text/x-python",
   "name": "python",
   "nbconvert_exporter": "python",
   "pygments_lexer": "ipython3",
   "version": "3.4.2"
  }
 },
 "nbformat": 4,
 "nbformat_minor": 2
}
