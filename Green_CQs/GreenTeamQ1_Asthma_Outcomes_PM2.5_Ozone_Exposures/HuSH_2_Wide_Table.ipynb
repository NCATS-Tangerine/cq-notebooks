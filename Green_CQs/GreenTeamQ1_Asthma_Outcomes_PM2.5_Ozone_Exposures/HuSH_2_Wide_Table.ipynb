{
 "cells": [
  {
   "cell_type": "code",
   "execution_count": 1,
   "metadata": {
    "collapsed": true
   },
   "outputs": [],
   "source": [
    "import pandas as pd\n",
    "import numpy as np"
   ]
  },
  {
   "cell_type": "code",
   "execution_count": 2,
   "metadata": {},
   "outputs": [
    {
     "name": "stdout",
     "output_type": "stream",
     "text": [
      "{'concept_cd': dtype('O'), 'location_cd': dtype('O'), 'provider_id': dtype('O'), 'end_date': dtype('O'), 'nval_num': dtype('float64'), 'instance_num': dtype('int64'), 'valueflag_cd': dtype('O'), 'units_cd': dtype('O'), 'patient_num': dtype('int64'), 'tval_char': dtype('O'), 'valtype_cd': dtype('O'), 'modifier_cd': dtype('O'), 'start_date': dtype('O'), 'quantity_num': dtype('float64'), 'encounter_num': dtype('int64')}\n"
     ]
    },
    {
     "name": "stderr",
     "output_type": "stream",
     "text": [
      "/home/mikeyu/anaconda2/lib/python2.7/site-packages/IPython/core/interactiveshell.py:2718: DtypeWarning: Columns (10) have mixed types. Specify dtype option on import or set low_memory=False.\n",
      "  interactivity=interactivity, compiler=compiler, result=result)\n"
     ]
    }
   ],
   "source": [
    "df = pd.read_table('/projects/datatrans/krobasky/output/observation_fact.tsv', sep='\\t',\n",
    "                   header=0, index_col=False, nrows=10)\n",
    "obs_columns = df.columns[:15]\n",
    "df = pd.read_table('/projects/datatrans/krobasky/output/observation_fact.tsv',\n",
    "                   header=0, index_col=False, nrows=100000, usecols=obs_columns)\n",
    "col_dtypes = df.dtypes.to_dict()\n",
    "col_dtypes['location_cd'] = np.dtype('O')\n",
    "print col_dtypes"
   ]
  },
  {
   "cell_type": "code",
   "execution_count": 3,
   "metadata": {},
   "outputs": [],
   "source": [
    "# df = pd.read_table('/projects/datatrans/krobasky/output/observation_fact.tsv', sep='\\t',\n",
    "#                    dtype=col_dtypes, header=0, usecols=obs_columns, index_col=False)"
   ]
  },
  {
   "cell_type": "code",
   "execution_count": 4,
   "metadata": {},
   "outputs": [
    {
     "name": "stdout",
     "output_type": "stream",
     "text": [
      "(54683532, 15)\n"
     ]
    }
   ],
   "source": [
    "%%time\n",
    "\n",
    "obs_df = pd.read_table('/projects/datatrans/krobasky/output/observation_fact.tsv', sep='\\t', low_memory=True,\n",
    "                   dtype=np.dtype('O'), header=0, usecols=obs_columns, index_col=False, skiprows)\n",
    "print obs_df.shape"
   ]
  },
  {
   "cell_type": "code",
   "execution_count": 7,
   "metadata": {},
   "outputs": [
    {
     "name": "stdout",
     "output_type": "stream",
     "text": [
      "(54683531, 15)\n"
     ]
    }
   ],
   "source": [
    "obs_df.dropna(subset=['patient_num'], inplace=True)\n",
    "print obs_df.shape"
   ]
  },
  {
   "cell_type": "code",
   "execution_count": 12,
   "metadata": {},
   "outputs": [
    {
     "name": "stdout",
     "output_type": "stream",
     "text": [
      "encounter_num 0 54683531\n",
      "patient_num 0 54683531\n",
      "concept_cd 0 54683531\n",
      "provider_id 1069120 53614411\n",
      "start_date 0 54683531\n",
      "modifier_cd 0 54683531\n",
      "instance_num 0 54683531\n",
      "valtype_cd 25268486 29415045\n",
      "tval_char 25253285 29430246\n",
      "nval_num 31473951 23209580\n",
      "valueflag_cd 50201096 4482435\n",
      "quantity_num 54683531 0\n",
      "units_cd 33299626 21383905\n",
      "end_date 41666759 13016772\n",
      "location_cd 54683301 230\n"
     ]
    }
   ],
   "source": [
    "print 'column', 'null', 'not_null'\n",
    "for col in obs_df.columns:\n",
    "    x = obs_df[col].isnull().sum()\n",
    "    print col, x, df.shape[0] - x"
   ]
  },
  {
   "cell_type": "code",
   "execution_count": 17,
   "metadata": {},
   "outputs": [
    {
     "name": "stdout",
     "output_type": "stream",
     "text": [
      "CPU times: user 3min 40s, sys: 13.1 s, total: 3min 53s\n",
      "Wall time: 3min 53s\n"
     ]
    }
   ],
   "source": [
    "%%time\n",
    "\n",
    "obs_df.to_pickle('/home/mikeyu/observation_fact.tsv.pkl', compression=None)"
   ]
  },
  {
   "cell_type": "code",
   "execution_count": 114,
   "metadata": {},
   "outputs": [],
   "source": [
    "obs_df.reset_index(drop=True, inplace=True)"
   ]
  },
  {
   "cell_type": "code",
   "execution_count": 21,
   "metadata": {},
   "outputs": [],
   "source": [
    "obs_df['start_date'] = pd.to_datetime(obs_df['start_date'])"
   ]
  },
  {
   "cell_type": "code",
   "execution_count": 96,
   "metadata": {
    "collapsed": true
   },
   "outputs": [],
   "source": [
    "obs_df['patient_num'] = obs_df['patient_num'].astype(np.int64)"
   ]
  },
  {
   "cell_type": "code",
   "execution_count": 23,
   "metadata": {
    "collapsed": true
   },
   "outputs": [],
   "source": [
    "obs_df.sort_values(['patient_num', 'start_date'], inplace=True)"
   ]
  },
  {
   "cell_type": "code",
   "execution_count": 139,
   "metadata": {},
   "outputs": [
    {
     "name": "stderr",
     "output_type": "stream",
     "text": [
      "/home/mikeyu/anaconda2/lib/python2.7/site-packages/pandas/core/indexing.py:179: SettingWithCopyWarning: \n",
      "A value is trying to be set on a copy of a slice from a DataFrame\n",
      "\n",
      "See the caveats in the documentation: http://pandas.pydata.org/pandas-docs/stable/indexing.html#indexing-view-versus-copy\n",
      "  self._setitem_with_indexer(indexer, value)\n"
     ]
    }
   ],
   "source": [
    "tmp2 = obs_df['start_date']\n",
    "obs_df['timedelta'].iloc[1:] = tmp2.iloc[1:].values - tmp2.iloc[:-1].values\n",
    "obs_df.loc[0, 'timedelta'] = pd.Timedelta(0)"
   ]
  },
  {
   "cell_type": "code",
   "execution_count": 84,
   "metadata": {},
   "outputs": [
    {
     "data": {
      "text/plain": [
       "False    54675967\n",
       "True         7564\n",
       "Name: start_date, dtype: int64"
      ]
     },
     "execution_count": 84,
     "metadata": {},
     "output_type": "execute_result"
    }
   ],
   "source": [
    "(obs_df['start_date'] > pd.Timestamp('2017-10-27')).value_counts()"
   ]
  },
  {
   "cell_type": "code",
   "execution_count": 168,
   "metadata": {},
   "outputs": [
    {
     "name": "stdout",
     "output_type": "stream",
     "text": [
      "Unique (patient, time-window) pairs 49503863\n"
     ]
    }
   ],
   "source": [
    "# gap = pd.Timedelta(1, unit='D')\n",
    "gap = pd.Timedelta(5, unit='D')\n",
    "tmp = obs_df['patient_num'].values + np.cumsum((obs_df['timedelta'] <= gap).values)\n",
    "obs_df['groupby_index'] = tmp\n",
    "print 'Unique (patient, time-window) pairs', obs_df['groupby_index'].unique().size"
   ]
  },
  {
   "cell_type": "code",
   "execution_count": 176,
   "metadata": {},
   "outputs": [],
   "source": [
    "tmp = obs_df[['patient_num', 'timedelta']].groupby(by='patient_num')\n",
    "tmp2 = tmp.aggregate(lambda x: np.unique(x['patient_num'].values + np.cumsum((x['timedelta'] <= gap).values)).size)"
   ]
  },
  {
   "cell_type": "code",
   "execution_count": null,
   "metadata": {
    "collapsed": true
   },
   "outputs": [],
   "source": []
  },
  {
   "cell_type": "code",
   "execution_count": 170,
   "metadata": {},
   "outputs": [
    {
     "data": {
      "text/plain": [
       "8769"
      ]
     },
     "execution_count": 170,
     "metadata": {},
     "output_type": "execute_result"
    }
   ],
   "source": [
    "obs_df['timedelta'].unique().size"
   ]
  },
  {
   "cell_type": "code",
   "execution_count": 75,
   "metadata": {},
   "outputs": [
    {
     "name": "stdout",
     "output_type": "stream",
     "text": [
      "100003190 True\n",
      "100003190 True\n",
      "100003190 True\n",
      "100003190 True\n",
      "100003190 True\n",
      "100003190 True\n",
      "100003190 True\n",
      "100003190 True\n",
      "100003190 True\n",
      "100003190 True\n",
      "100003190 True\n",
      "100003190 True\n",
      "100003190 True\n",
      "100003190 True\n",
      "100003190 True\n",
      "100003190 True\n",
      "100003190 True\n",
      "100003190 True\n",
      "100003190 True\n",
      "100003190 True\n",
      "100003190 True\n",
      "100003190 True\n",
      "100003190 True\n",
      "100003190 True\n",
      "100003190 True\n",
      "100003190 True\n",
      "100003190 True\n",
      "100003190 True\n",
      "100003190 True\n",
      "100003190 True\n",
      "100003190 True\n",
      "100003190 True\n",
      "100003190 True\n",
      "100003190 True\n",
      "100003190 True\n",
      "100003190 True\n",
      "100003190 True\n",
      "100003190 True\n",
      "100003190 True\n",
      "100003190 True\n",
      "100003190 True\n",
      "100003190 True\n",
      "100003190 True\n",
      "100003190 True\n",
      "100003190 True\n",
      "100003190 True\n",
      "100003190 True\n",
      "100003190 True\n",
      "100003190 True\n",
      "100003190 True\n"
     ]
    }
   ],
   "source": [
    "tmp = obs_df.head(50).reset_index(drop=True)\n",
    "gap = pd.Timedelta(1, unit='D')\n",
    "\n",
    "for x, y in zip(tmp['patient_num'], tmp['timedelta'][:100] <= gap):\n",
    "    print x, y"
   ]
  }
 ],
 "metadata": {
  "kernelspec": {
   "display_name": "Python 2",
   "language": "python",
   "name": "python2"
  },
  "language_info": {
   "codemirror_mode": {
    "name": "ipython",
    "version": 2
   },
   "file_extension": ".py",
   "mimetype": "text/x-python",
   "name": "python",
   "nbconvert_exporter": "python",
   "pygments_lexer": "ipython2",
   "version": "2.7.14"
  }
 },
 "nbformat": 4,
 "nbformat_minor": 2
}
