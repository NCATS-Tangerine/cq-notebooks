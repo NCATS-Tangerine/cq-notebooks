{
 "cells": [
  {
   "cell_type": "markdown",
   "metadata": {},
   "source": [
    "# Query:\n",
    "For Drug X that treats Disease Y, find other diseases Drug X might be re-purposed for based on phenotype similarity with Disease Y."
   ]
  },
  {
   "cell_type": "markdown",
   "metadata": {},
   "source": [
    "# Proposed Sub-Queries/Tasks:\n",
    "1. **Traversal**: Retreive diseases that are indictions for Drug X\n",
    "\n",
    "    Drug -[drug_used_for_treatement] -> SNOMED ID (DrugCentral, MyChem.info) -> Disease Ontology ID (DrugCentral)\n",
    "    \n",
    "2. **Traversal**: Retreive all phenotypes for each disease in this set\n",
    "\n",
    "    Disease Ontology ID -[has_phenotype]-> Human Phenotype Onotology ID (BioLink)\n",
    "     \n",
    "3. **Computation**: Find most phenotypically similar diseases based on profile of primary indication\n",
    "\n",
    "    Potentially through [hposim](https://www.ncbi.nlm.nih.gov/pmc/articles/PMC4321842/) using their R client"
   ]
  },
  {
   "cell_type": "markdown",
   "metadata": {},
   "source": [
    "## Import BioThings Explorer"
   ]
  },
  {
   "cell_type": "code",
   "execution_count": 1,
   "metadata": {
    "collapsed": true
   },
   "outputs": [],
   "source": [
    "# import biothing explorer (current in local, will make it an independent python package)\n",
    "from visual import pathViewer\n",
    "# pathViewer is a Python class for graphically display API connection maps and explore bio-entity relaitonships\n",
    "k = pathViewer()\n",
    "#Show How APIs/Endpoints/Bio-Entities can be connected together\n",
    "# set display_graph=True to display the api road map\n",
    "k.show_api_road_map(display_graph=False)"
   ]
  },
  {
   "cell_type": "markdown",
   "metadata": {},
   "source": [
    "## Sub-Query 1: Retreive diseases that are indictions for Drug X \n",
    "Here we use 'riluzole' as an example"
   ]
  },
  {
   "cell_type": "markdown",
   "metadata": {},
   "source": [
    "### Find Path from Drug Name to SNOMED ID"
   ]
  },
  {
   "cell_type": "code",
   "execution_count": 3,
   "metadata": {
    "collapsed": false
   },
   "outputs": [
    {
     "name": "stdout",
     "output_type": "stream",
     "text": [
      "Path 0: [{'input': 'Drug Name', 'endpoint': 'http://mychem.info/v1/query', 'output': 'SNOMED CT'}]\n"
     ]
    },
    {
     "data": {
      "text/plain": [
       "[[{'endpoint': 'http://mychem.info/v1/query',\n",
       "   'input': 'Drug Name',\n",
       "   'output': 'SNOMED CT'}]]"
      ]
     },
     "execution_count": 3,
     "metadata": {},
     "output_type": "execute_result"
    }
   ],
   "source": [
    "# this command finds the API Endpoints which connect from the start position (Drug Name) to the end position (SNOMED CT ID)\n",
    "k.find_path(start='Drug Name', end='SNOMED CT', display_graph=False)"
   ]
  },
  {
   "cell_type": "markdown",
   "metadata": {},
   "source": [
    "### Feed Drug Name to the selected path"
   ]
  },
  {
   "cell_type": "code",
   "execution_count": 4,
   "metadata": {
    "collapsed": false
   },
   "outputs": [
    {
     "name": "stdout",
     "output_type": "stream",
     "text": [
      "{'q': 'aeolus.drug_name:riluzole OR chebi.chebi_name:riluzole OR '\n",
      "      'chembl.pref_name:riluzole OR drugbank.name:riluzole'}\n"
     ]
    }
   ],
   "source": [
    "# This command feed drug name 'riluzole' to the path selected, and get 'snomed id' as the output\n",
    "k.find_output(path=k.paths[0], value='riluzole', display_graph=False)"
   ]
  },
  {
   "cell_type": "code",
   "execution_count": 5,
   "metadata": {
    "collapsed": false
   },
   "outputs": [
    {
     "name": "stdout",
     "output_type": "stream",
     "text": [
      "Your exploration starts from Drug Name: riluzole. \n",
      " It goes through 1 API Endpoints. \n",
      " The final output comes from API Endpoint http://mychem.info/v1/query. \n",
      " You can access the final output by calling the 'final_results' object in pathViewer Class.\n",
      "\n"
     ]
    }
   ],
   "source": [
    "# This command summarize the result\n",
    "k.result_summary()"
   ]
  },
  {
   "cell_type": "code",
   "execution_count": 7,
   "metadata": {
    "collapsed": false
   },
   "outputs": [
    {
     "data": {
      "text/plain": [
       "{'riluzole': ['235876009',\n",
       "  '426000000',\n",
       "  '166603001',\n",
       "  '86044005',\n",
       "  '303011007',\n",
       "  '18165001',\n",
       "  '64667001',\n",
       "  '14783006',\n",
       "  '7200002']}"
      ]
     },
     "execution_count": 7,
     "metadata": {},
     "output_type": "execute_result"
    }
   ],
   "source": [
    "# This command printout the results, which are 'SNOMED CT IDs' that are indications for drug 'riluzole'\n",
    "k.final_results"
   ]
  },
  {
   "cell_type": "markdown",
   "metadata": {},
   "source": [
    "### Convert SNOMED ID to DOID using Drugcentral doid_xref file\n",
    "The file could be found in [CQ Notebook Folder](https://raw.githubusercontent.com/NCATS-Tangerine/cq-notebooks/master/Orange_QB2_Other_CQs/Drug_Repurpose_By_Pheno/doid_xref.csv)"
   ]
  },
  {
   "cell_type": "code",
   "execution_count": 8,
   "metadata": {
    "collapsed": false
   },
   "outputs": [
    {
     "name": "stdout",
     "output_type": "stream",
     "text": [
      "['DOID:332', 'DOID:1227', 'DOID:3082', 'DOID:2741']\n"
     ]
    }
   ],
   "source": [
    "# This part reads in the DOID_SNOMED conversion file as a data frame\n",
    "import pandas as pd\n",
    "file_url = 'https://raw.githubusercontent.com/NCATS-Tangerine/cq-notebooks/master/Orange_QB2_Other_CQs/Drug_Repurpose_By_Pheno/doid_xref.csv'\n",
    "df = pd.read_csv(file_url,names=['structure_id', 'doid', 'xref', 'xref_id'])\n",
    "# This part converts snomed id found above to doid\n",
    "doid_list = []\n",
    "for snomed_id in k.final_results['riluzole']:\n",
    "    doid = df.loc[df['xref_id'] == snomed_id]['doid']\n",
    "    for _doid in doid:\n",
    "        doid_list.append(_doid)\n",
    "print(doid_list)"
   ]
  },
  {
   "cell_type": "markdown",
   "metadata": {},
   "source": [
    "## Intermediate Results:\n",
    "Diseases that are indictions for Drug **riluzole** include: **'DOID:332', 'DOID:1227', 'DOID:3082', 'DOID:2741'**.\n",
    "\n",
    "The results come from **'http://mychem.info/v1/query'** endpoint. "
   ]
  },
  {
   "cell_type": "markdown",
   "metadata": {},
   "source": [
    "## Sub-Query 2: Retreive all phenotypes for each disease in this set"
   ]
  },
  {
   "cell_type": "markdown",
   "metadata": {},
   "source": [
    "### Find Path from DOID to HPO ID"
   ]
  },
  {
   "cell_type": "code",
   "execution_count": 9,
   "metadata": {
    "collapsed": false
   },
   "outputs": [
    {
     "name": "stdout",
     "output_type": "stream",
     "text": [
      "Path 0: [{'input': 'Human Disease Ontology', 'endpoint': 'https://api.monarchinitiative.org/api/bioentity/disease/disease_id/phenotypes/', 'output': 'Human Phenotype Ontology'}]\n"
     ]
    },
    {
     "data": {
      "text/plain": [
       "[[{'endpoint': 'https://api.monarchinitiative.org/api/bioentity/disease/disease_id/phenotypes/',\n",
       "   'input': 'Human Disease Ontology',\n",
       "   'output': 'Human Phenotype Ontology'}]]"
      ]
     },
     "execution_count": 9,
     "metadata": {},
     "output_type": "execute_result"
    }
   ],
   "source": [
    "# this command finds the API Endpoints which connect from the start position (DOID) to the end position (HPO ID)\n",
    "k.find_path(start='Human Disease Ontology', end='Human Phenotype Ontology', display_graph=False)"
   ]
  },
  {
   "cell_type": "markdown",
   "metadata": {},
   "source": [
    "### Feed the DOID list found above to the selected path"
   ]
  },
  {
   "cell_type": "code",
   "execution_count": 11,
   "metadata": {
    "collapsed": false
   },
   "outputs": [],
   "source": [
    "# This command feed DOID List ['DOID:332', 'DOID:1227', 'DOID:3082', 'DOID:2741] to the path selected, and get 'HPO ID' as the output\n",
    "k.find_output(path=k.paths[0], value=doid_list, display_graph=False)"
   ]
  },
  {
   "cell_type": "code",
   "execution_count": 12,
   "metadata": {
    "collapsed": false
   },
   "outputs": [
    {
     "name": "stdout",
     "output_type": "stream",
     "text": [
      "Your exploration starts from Human Disease Ontology: ['DOID:332', 'DOID:1227', 'DOID:3082', 'DOID:2741']. \n",
      " It goes through 1 API Endpoints. \n",
      " The final output comes from API Endpoint https://api.monarchinitiative.org/api/bioentity/disease/disease_id/phenotypes/. \n",
      " You can access the final output by calling the 'final_results' object in pathViewer Class.\n",
      "\n"
     ]
    }
   ],
   "source": [
    "# This command summarize the result\n",
    "k.result_summary()"
   ]
  },
  {
   "cell_type": "code",
   "execution_count": 15,
   "metadata": {
    "collapsed": false
   },
   "outputs": [
    {
     "data": {
      "text/plain": [
       "['HP:0009067',\n",
       " 'HP:0001310',\n",
       " 'HP:0003198',\n",
       " 'HP:0001739',\n",
       " 'HP:0001308',\n",
       " 'HP:0002015',\n",
       " 'HP:0003881',\n",
       " 'HP:0002459',\n",
       " 'HP:0000739',\n",
       " 'HP:0001348',\n",
       " 'HP:0002511',\n",
       " 'HP:0002460',\n",
       " 'HP:0003473',\n",
       " 'HP:0003447',\n",
       " 'HP:0002380',\n",
       " 'HP:0000183',\n",
       " 'HP:0002446',\n",
       " 'HP:0002366',\n",
       " 'HP:0001284',\n",
       " 'HP:0003547',\n",
       " 'HP:0002145',\n",
       " 'HP:0000217',\n",
       " 'HP:0000605',\n",
       " 'HP:0002483',\n",
       " 'HP:0002495',\n",
       " 'HP:0000733',\n",
       " 'HP:0002186',\n",
       " 'HP:0003202',\n",
       " 'HP:0001278',\n",
       " 'HP:0100256']"
      ]
     },
     "execution_count": 15,
     "metadata": {},
     "output_type": "execute_result"
    }
   ],
   "source": [
    "# This command printout the results, which are 'HPO IDs' that are phenotypes for the DOIDs list\n",
    "# only print out the first 30 phenotypes for DOID:332 here.\n",
    "HPO_ID_332 = ['HP:' + _result for _result in k.final_results['DOID:332']]\n",
    "HPO_ID_332[0:30]"
   ]
  },
  {
   "cell_type": "markdown",
   "metadata": {},
   "source": [
    "## Final Results\n",
    "For HPO IDs for each of DOID, access it using k.final_results"
   ]
  }
 ],
 "metadata": {
  "kernelspec": {
   "display_name": "Python 3",
   "language": "python",
   "name": "python3"
  },
  "language_info": {
   "codemirror_mode": {
    "name": "ipython",
    "version": 3
   },
   "file_extension": ".py",
   "mimetype": "text/x-python",
   "name": "python",
   "nbconvert_exporter": "python",
   "pygments_lexer": "ipython3",
   "version": "3.5.0"
  }
 },
 "nbformat": 4,
 "nbformat_minor": 2
}
