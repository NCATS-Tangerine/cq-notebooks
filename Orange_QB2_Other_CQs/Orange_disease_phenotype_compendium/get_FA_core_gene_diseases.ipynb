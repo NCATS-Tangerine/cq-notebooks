{
 "cells": [
  {
   "cell_type": "code",
   "execution_count": 16,
   "metadata": {
    "collapsed": true
   },
   "outputs": [],
   "source": [
    "import urllib.request\n",
    "import json \n",
    "import datetime\n",
    "import pandas as pd\n",
    "import numpy as np\n",
    "import array\n",
    "import matplotlib\n",
    "import seaborn\n",
    "import csv\n",
    "\n",
    "import sys\n",
    "\n",
    "if sys.version_info[0] == 3:\n",
    "    from urllib.request import urlopen\n",
    "else:\n",
    "    from urllib import urlopen"
   ]
  },
  {
   "cell_type": "code",
   "execution_count": 43,
   "metadata": {},
   "outputs": [
    {
     "name": "stdout",
     "output_type": "stream",
     "text": [
      "b'NCBIGene:2175\\tFANCA\\nNCBIGene:2187\\tFANCB\\nNCBIGene:2176\\tFANCC\\nNCBIGene:2178\\tFANCE\\nNCBIGene:2188\\tFANCF\\nNCBIGene:2189\\tFANCG\\nNCBIGene:55120\\tFANCL\\nNCBIGene:57697\\tFANCM\\nNCBIGene:2177\\tFANCD2\\nNCBIGene:55215\\tFANCI\\nNCBIGene:29089\\tUBE2T\\n'\n",
      "               id    name\n",
      "0   NCBIGene:2187   FANCB\n",
      "1   NCBIGene:2176   FANCC\n",
      "2   NCBIGene:2178   FANCE\n",
      "3   NCBIGene:2188   FANCF\n",
      "4   NCBIGene:2189   FANCG\n",
      "5  NCBIGene:55120   FANCL\n",
      "6  NCBIGene:57697   FANCM\n",
      "7   NCBIGene:2177  FANCD2\n",
      "8  NCBIGene:55215   FANCI\n",
      "9  NCBIGene:29089   UBE2T\n"
     ]
    }
   ],
   "source": [
    "link = \"https://raw.githubusercontent.com/NCATS-Tangerine/cq-notebooks/master/FA_gene_sets/FA_1_core_complex.txt\"\n",
    "    \n",
    "ustream = urlopen(link)\n",
    "data = ustream.read()\n",
    "print(data)\n",
    "\n",
    "table = csv.reader(ustream)\n",
    "\n",
    "for r in table:\n",
    "    print(r)\n",
    "    \n",
    "data = pd.read_csv(link,sep=\"\\t\",header=0,names=[\"id\",\"name\"])\n",
    "print(data)"
   ]
  },
  {
   "cell_type": "code",
   "execution_count": 35,
   "metadata": {},
   "outputs": [
    {
     "name": "stdout",
     "output_type": "stream",
     "text": [
      "['id', 'name']\n",
      "0     NCBIGene:2187\n",
      "1     NCBIGene:2176\n",
      "2     NCBIGene:2178\n",
      "3     NCBIGene:2188\n",
      "4     NCBIGene:2189\n",
      "5    NCBIGene:55120\n",
      "6    NCBIGene:57697\n",
      "7     NCBIGene:2177\n",
      "8    NCBIGene:55215\n",
      "9    NCBIGene:29089\n",
      "Name: id, dtype: object\n"
     ]
    }
   ],
   "source": [
    "print(data.shape)\n",
    "\n",
    "print(list(data.columns.values))\n",
    "\n",
    "ids = data.loc[:, 'id']\n",
    "\n",
    "print(ids)"
   ]
  },
  {
   "cell_type": "code",
   "execution_count": 42,
   "metadata": {},
   "outputs": [
    {
     "name": "stdout",
     "output_type": "stream",
     "text": [
      "NCBIGene:2187\n",
      "OMIM:189960\n",
      "NCBIGene:2176\n",
      "OMIM:189960\n",
      "NCBIGene:2178\n",
      "NCBIGene:2188\n",
      "OMIM:227650\n",
      "NCBIGene:2189\n",
      "OMIM:227650\n",
      "NCBIGene:55120\n",
      "NCBIGene:57697\n",
      "OMIM:189960\n",
      "NCBIGene:2177\n",
      "OMIM:227650\n",
      "NCBIGene:55215\n",
      "OMIM:189960\n",
      "NCBIGene:29089\n"
     ]
    }
   ],
   "source": [
    "FA_disease_ids = dict()\n",
    "\n",
    "for i in range(0, ids.size):\n",
    "    print(ids[i])\n",
    "    url_gene_diseases = \"https://api.monarchinitiative.org/api/bioentity/gene/\"+ids[i]+\"/diseases/\"\n",
    "\n",
    "    with urllib.request.urlopen(url_gene_diseases) as url:\n",
    "        data = json.loads(url.read().decode())\n",
    "        #print(data)\n",
    "        #print(data['associations'][0]['evidence_graph']['nodes'])\n",
    "        for i in range(0, len(data['associations'][0]['evidence_graph']['nodes'])):\n",
    "            curdata = data['associations'][0]['evidence_graph']['nodes'][i]\n",
    "            #print(curdata)\n",
    "            if curdata['id'].startswith(\"OMIM\"): \n",
    "                FA_disease_ids[curdata['id']] = 1\n",
    "                print(curdata['id'])"
   ]
  }
 ],
 "metadata": {
  "kernelspec": {
   "display_name": "Python 3",
   "language": "python",
   "name": "python3"
  },
  "language_info": {
   "codemirror_mode": {
    "name": "ipython",
    "version": 3
   },
   "file_extension": ".py",
   "mimetype": "text/x-python",
   "name": "python",
   "nbconvert_exporter": "python",
   "pygments_lexer": "ipython3",
   "version": "3.6.1"
  }
 },
 "nbformat": 4,
 "nbformat_minor": 2
}
