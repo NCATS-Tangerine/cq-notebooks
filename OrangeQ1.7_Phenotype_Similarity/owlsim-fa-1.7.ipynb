{
 "cells": [
  {
   "cell_type": "markdown",
   "metadata": {},
   "source": [
    "## Orange Team CQ#1.7\n",
    "\n",
    "### Query: \n",
    "What genes show high phenotypic similarity to the 11 Fanconi Anemia core complex genes (set FA-core)?\n",
    "\n",
    "### Services:\n",
    "BioLink API (Monarch) - https://api.monarchinitiative.org/api/\n",
    "\n",
    "Owlsim - http://owlsim3.monarchinitiative.org/api/docs/\n",
    "\n",
    "### Approach:\n",
    "As a start we will get all human gene - human gene sim scores, this notebook can be adjusted\n",
    "to search for model organism genes instead\n",
    "\n",
    "### Input:\n",
    "Hardcoded tsv file from:\n",
    "\n",
    "https://raw.githubusercontent.com/NCATS-Tangerine/cq-notebooks/master/OrangeQ1.5_Regulatory_Motif_Signature/FA_NCBIGene_symbol.txt"
   ]
  },
  {
   "cell_type": "code",
   "execution_count": 14,
   "metadata": {},
   "outputs": [
    {
     "name": "stdout",
     "output_type": "stream",
     "text": [
      "['EFO:0003924', 'EFO:0003963', 'HP:0000010', 'HP:0000027', 'HP:0000028']\n"
     ]
    }
   ],
   "source": [
    "import biolink_client\n",
    "from biolink_client.api_client import ApiClient\n",
    "from biolink_client.rest import ApiException\n",
    "import requests\n",
    "import pandas as pd\n",
    "from pprint import pprint\n",
    "\n",
    "MONARCH_API = \"https://api.monarchinitiative.org/api\"\n",
    "OWLSIM_API = \"http://owlsim3.monarchinitiative.org/api\"\n",
    "\n",
    "gene_list = \"https://raw.githubusercontent.com/NCATS-Tangerine/cq-notebooks/\" \\\n",
    "            \"master/OrangeQ1.5_Regulatory_Motif_Signature/FA_NCBIGene_symbol.txt\"\n",
    "\n",
    "client = ApiClient(host=MONARCH_API)\n",
    "client.set_default_header('Content-Type', 'text/plain')\n",
    "api_instance = biolink_client.BioentityApi(client)\n",
    "\n",
    "# Get the gene list from github\n",
    "dataframe = pd.read_csv(gene_list, sep='\\t', names=['gene_id', 'symbol'])\n",
    "df = dataframe.set_index('symbol')\n",
    "gene_hpo_map = dict()\n",
    "\n",
    "for index, row in df.iterrows():\n",
    "    api_response = api_instance.get_gene_phenotype_associations(row['gene_id'], rows=500)\n",
    "    # TODO add facet_counts to AssociationResults model\n",
    "    # TODO use facet_counts to check the gene does not have >500 phenotypes\n",
    "    # TODO or better, add pagination\n",
    "    gene_hpo_map[row['gene_id']] = api_response.objects\n",
    "\n",
    "# Get the first five phenotypes for FANCA\n",
    "pprint(gene_hpo_map[df.at['FANCA', 'gene_id']][0:5])"
   ]
  },
  {
   "cell_type": "code",
   "execution_count": 15,
   "metadata": {},
   "outputs": [
    {
     "name": "stdout",
     "output_type": "stream",
     "text": [
      "       query_gene query_symbol      match_gene match_symbol   sim_score\n",
      "0   NCBIGene:2175        FANCA   NCBIGene:2175        FANCA  100.000000\n",
      "1   NCBIGene:2175        FANCA   NCBIGene:2176        FANCC   98.139284\n",
      "2   NCBIGene:2175        FANCA   NCBIGene:2177       FANCD2   98.139284\n",
      "3   NCBIGene:2175        FANCA   NCBIGene:2178        FANCE   98.139284\n",
      "4   NCBIGene:2175        FANCA  NCBIGene:55215        FANCI   90.985447\n",
      "5   NCBIGene:2175        FANCA  NCBIGene:83990        BRIP1   90.690054\n",
      "6   NCBIGene:2175        FANCA  NCBIGene:10459       MAD2L2   89.852884\n",
      "7   NCBIGene:2175        FANCA  NCBIGene:57697        FANCM   89.852884\n",
      "8   NCBIGene:2175        FANCA   NCBIGene:2188        FANCF   89.852884\n",
      "9   NCBIGene:2175        FANCA   NCBIGene:2189        FANCG   89.852884\n",
      "10  NCBIGene:2175        FANCA   NCBIGene:7516        XRCC2   89.852884\n",
      "11  NCBIGene:2175        FANCA  NCBIGene:84464         SLX4   89.785415\n",
      "12  NCBIGene:2175        FANCA   NCBIGene:5888        RAD51   89.703303\n",
      "13  NCBIGene:2175        FANCA  NCBIGene:29089        UBE2T   89.703303\n",
      "14  NCBIGene:2175        FANCA  NCBIGene:79728        PALB2   89.618837\n",
      "15  NCBIGene:2175        FANCA   NCBIGene:2187        FANCB   89.610702\n",
      "16  NCBIGene:2175        FANCA   NCBIGene:5889       RAD51C   89.490906\n",
      "17  NCBIGene:2175        FANCA  NCBIGene:55120        FANCL   89.152347\n",
      "18  NCBIGene:2175        FANCA    NCBIGene:675        BRCA2   81.751789\n",
      "19  NCBIGene:2175        FANCA   NCBIGene:2072        ERCC4   80.027314\n"
     ]
    }
   ],
   "source": [
    "# Search for top human genes\n",
    "# TODO implement prefix or taxon+type filters in owlsim\n",
    "# TODO fix cutoff filter\n",
    "\n",
    "# Note that this notebook takes a few minutes to run\n",
    "\n",
    "# Use phenodigm algorithm, with a cutoff of 70/100\n",
    "matcher = 'phenodigm'\n",
    "score_cutoff = 70\n",
    "\n",
    "result_set = []\n",
    "\n",
    "\n",
    "for index, row in df.iterrows():\n",
    "    params = {\n",
    "        'id': gene_hpo_map[row['gene_id']]\n",
    "    }\n",
    "    url = \"{}/match/{}\".format(OWLSIM_API, matcher)\n",
    "    req = requests.get(url, params=params)\n",
    "    owlsim_results = req.json()\n",
    "    for match in owlsim_results['matches']:\n",
    "        try:\n",
    "            if match['matchId'].startswith(\"NCBIGene\")\\\n",
    "                    and match['rawScore'] >= score_cutoff:\n",
    "                result = [row['gene_id'],index, match['matchId'],\n",
    "                          match['matchLabel'], match['rawScore']]\n",
    "                result_set.append(result)\n",
    "        except TypeError as e:\n",
    "            # TypeError when score is NaN\n",
    "            #print(e)\n",
    "            #print(match)\n",
    "            continue\n",
    "\n",
    "\n",
    "# Create a table of query gene, matched gene, and sim score\n",
    "column_names = ['query_gene', 'query_symbol', 'match_gene', 'match_symbol', 'sim_score']\n",
    "result_frame = pd.DataFrame(data=result_set, columns=column_names)\n",
    "\n",
    "# Get sim scores for FANCA\n",
    "df = result_frame.loc[result_frame['query_symbol'] == 'FANCA']\n",
    "\n",
    "print(df.head(30))"
   ]
  },
  {
   "cell_type": "code",
   "execution_count": 16,
   "metadata": {},
   "outputs": [
    {
     "name": "stdout",
     "output_type": "stream",
     "text": [
      "        query_gene query_symbol      match_gene match_symbol   sim_score\n",
      "320  NCBIGene:2072        ERCC4   NCBIGene:2072        ERCC4  100.000000\n",
      "321  NCBIGene:2072        ERCC4  NCBIGene:10459       MAD2L2   81.281953\n",
      "322  NCBIGene:2072        ERCC4  NCBIGene:57697        FANCM   81.281953\n",
      "323  NCBIGene:2072        ERCC4   NCBIGene:2188        FANCF   81.281953\n",
      "324  NCBIGene:2072        ERCC4   NCBIGene:2189        FANCG   81.281953\n",
      "325  NCBIGene:2072        ERCC4   NCBIGene:7516        XRCC2   81.281953\n",
      "326  NCBIGene:2072        ERCC4   NCBIGene:5888        RAD51   81.181011\n",
      "327  NCBIGene:2072        ERCC4  NCBIGene:29089        UBE2T   81.181011\n",
      "328  NCBIGene:2072        ERCC4  NCBIGene:55215        FANCI   80.980745\n",
      "329  NCBIGene:2072        ERCC4  NCBIGene:55120        FANCL   80.927818\n",
      "330  NCBIGene:2072        ERCC4   NCBIGene:5889       RAD51C   80.918673\n",
      "331  NCBIGene:2072        ERCC4  NCBIGene:83990        BRIP1   80.911740\n",
      "332  NCBIGene:2072        ERCC4  NCBIGene:84464         SLX4   80.820553\n",
      "333  NCBIGene:2072        ERCC4   NCBIGene:2187        FANCB   80.731244\n",
      "334  NCBIGene:2072        ERCC4   NCBIGene:2176        FANCC   79.960236\n",
      "335  NCBIGene:2072        ERCC4   NCBIGene:2177       FANCD2   79.960236\n",
      "336  NCBIGene:2072        ERCC4   NCBIGene:2178        FANCE   79.960236\n",
      "337  NCBIGene:2072        ERCC4  NCBIGene:79728        PALB2   79.948517\n",
      "338  NCBIGene:2072        ERCC4   NCBIGene:2175        FANCA   79.774447\n",
      "339  NCBIGene:2072        ERCC4   NCBIGene:2073        ERCC5   77.792617\n",
      "340  NCBIGene:2072        ERCC4   NCBIGene:2071        ERCC3   77.364768\n",
      "341  NCBIGene:2072        ERCC4    NCBIGene:675        BRCA2   75.561874\n",
      "342  NCBIGene:2072        ERCC4   NCBIGene:2068        ERCC2   75.551625\n",
      "343  NCBIGene:2072        ERCC4   NCBIGene:1643         DDB2   74.510667\n",
      "344  NCBIGene:2072        ERCC4   NCBIGene:7508          XPC   74.098468\n",
      "345  NCBIGene:2072        ERCC4   NCBIGene:7507          XPA   73.973250\n"
     ]
    }
   ],
   "source": [
    "# Get sim scores for ERCC4\n",
    "df = result_frame.loc[result_frame['query_symbol'] == 'ERCC4']\n",
    "\n",
    "print(df.head(30))"
   ]
  },
  {
   "cell_type": "code",
   "execution_count": 17,
   "metadata": {},
   "outputs": [
    {
     "name": "stdout",
     "output_type": "stream",
     "text": [
      "        query_gene query_symbol     match_gene match_symbol  sim_score\n",
      "339  NCBIGene:2072        ERCC4  NCBIGene:2073        ERCC5  77.792617\n",
      "340  NCBIGene:2072        ERCC4  NCBIGene:2071        ERCC3  77.364768\n",
      "342  NCBIGene:2072        ERCC4  NCBIGene:2068        ERCC2  75.551625\n",
      "343  NCBIGene:2072        ERCC4  NCBIGene:1643         DDB2  74.510667\n",
      "344  NCBIGene:2072        ERCC4  NCBIGene:7508          XPC  74.098468\n",
      "345  NCBIGene:2072        ERCC4  NCBIGene:7507          XPA  73.973250\n"
     ]
    }
   ],
   "source": [
    "# Many genes are from our original list\n",
    "# Filter out all genes from the input set\n",
    "\n",
    "filtered_frame = result_frame[~result_frame['match_gene'].isin(gene_hpo_map.keys())]\n",
    "\n",
    "# Get sim scores for ERCC4\n",
    "df = filtered_frame.loc[filtered_frame['query_symbol'] == 'ERCC4']\n",
    "\n",
    "print(df.head(30))"
   ]
  },
  {
   "cell_type": "code",
   "execution_count": 32,
   "metadata": {},
   "outputs": [
    {
     "name": "stdout",
     "output_type": "stream",
     "text": [
      "DDB2      1\n",
      "MSR1      1\n",
      "ERCC2     1\n",
      "EPHB2     1\n",
      "XPC       1\n",
      "ERCC5     1\n",
      "XPA       1\n",
      "ELAC2     1\n",
      "RNASEL    1\n",
      "ERCC3     1\n",
      "HOXB13    1\n",
      "MSMB      1\n",
      "Name: match_symbol, dtype: int64\n"
     ]
    }
   ],
   "source": [
    "# Across the list of gene pairs, which genes show up the most?\n",
    "\n",
    "df = filtered_frame['match_symbol'].value_counts()\n",
    "print(df)"
   ]
  },
  {
   "cell_type": "code",
   "execution_count": 33,
   "metadata": {},
   "outputs": [
    {
     "name": "stdout",
     "output_type": "stream",
     "text": [
      "        query_gene query_symbol      match_gene match_symbol  sim_score\n",
      "339  NCBIGene:2072        ERCC4   NCBIGene:2073        ERCC5  77.792617\n",
      "340  NCBIGene:2072        ERCC4   NCBIGene:2071        ERCC3  77.364768\n",
      "342  NCBIGene:2072        ERCC4   NCBIGene:2068        ERCC2  75.551625\n",
      "343  NCBIGene:2072        ERCC4   NCBIGene:1643         DDB2  74.510667\n",
      "344  NCBIGene:2072        ERCC4   NCBIGene:7508          XPC  74.098468\n",
      "345  NCBIGene:2072        ERCC4   NCBIGene:7507          XPA  73.973250\n",
      "367   NCBIGene:672        BRCA1   NCBIGene:6041       RNASEL  77.521573\n",
      "368   NCBIGene:672        BRCA1  NCBIGene:10481       HOXB13  77.235099\n",
      "369   NCBIGene:672        BRCA1   NCBIGene:4477         MSMB  77.235099\n",
      "370   NCBIGene:672        BRCA1   NCBIGene:2048        EPHB2  77.044791\n",
      "371   NCBIGene:672        BRCA1  NCBIGene:60528        ELAC2  76.385700\n",
      "372   NCBIGene:672        BRCA1   NCBIGene:4481         MSR1  74.561314\n"
     ]
    }
   ],
   "source": [
    "# Apparently this table is not very large, confirm\n",
    "print(filtered_frame)"
   ]
  },
  {
   "cell_type": "markdown",
   "metadata": {},
   "source": [
    "###### Next steps\n",
    "1. Run on model organisms\n",
    "2. Improvements to owlsim service layer: https://github.com/monarch-initiative/owlsim-v3/issues/87\n",
    "3. Add pagination to owlsim services\n",
    "\n",
    "It is possible we are missing gene pairs from pulling sim scores across all types (diseases, model genes)\n"
   ]
  }
 ],
 "metadata": {
  "kernelspec": {
   "display_name": "Python 3",
   "language": "python",
   "name": "python3"
  },
  "language_info": {
   "codemirror_mode": {
    "name": "ipython",
    "version": 3
   },
   "file_extension": ".py",
   "mimetype": "text/x-python",
   "name": "python",
   "nbconvert_exporter": "python",
   "pygments_lexer": "ipython3",
   "version": "3.5.2"
  }
 },
 "nbformat": 4,
 "nbformat_minor": 2
}
