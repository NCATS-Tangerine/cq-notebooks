{
 "cells": [
  {
   "cell_type": "markdown",
   "metadata": {},
   "source": [
    "#### Find genes associated with Ehlers-Danlos syndrome type III via phenotypic similarity\n",
    "\n",
    "Currently EDS III is associated with two genes \n",
    "TNXB - https://www.ncbi.nlm.nih.gov/clinvar/variation/217018/\n",
    "COL3A1 - https://www.omim.org/entry/130020\n",
    "\n",
    "In this notebook we explore finding model organism genes associated with similar phenotypes to those found in EDS III"
   ]
  },
  {
   "cell_type": "code",
   "execution_count": 10,
   "metadata": {},
   "outputs": [
    {
     "data": {
      "text/plain": [
       "56"
      ]
     },
     "execution_count": 10,
     "metadata": {},
     "output_type": "execute_result"
    }
   ],
   "source": [
    "# Get phenotypes associated with EDS III\n",
    "import copy\n",
    "import requests\n",
    "\n",
    "SOLR_URL = 'https://solr.monarchinitiative.org/solr/golr/select'\n",
    "\n",
    "disease = 'MONDO:0007523'\n",
    "\n",
    "def get_solr_results(solr, params):\n",
    "    solr_params = copy.deepcopy(params)\n",
    "    resultCount = solr_params['rows']\n",
    "    while solr_params['start'] < resultCount:\n",
    "        solr_request = requests.get(solr, params=solr_params)\n",
    "        response = solr_request.json()\n",
    "        resultCount = response['response']['numFound']\n",
    "        solr_params['start'] += solr_params['rows']\n",
    "        for doc in response['response']['docs']:\n",
    "            yield doc\n",
    "\n",
    "def get_direct_phenotypes(entity):\n",
    "    phenotype_list = []\n",
    "    params = {\n",
    "        'wt': 'json',\n",
    "        'rows': 100,\n",
    "        'start': 0,\n",
    "        'q': '*:*',\n",
    "        'fl': 'object',\n",
    "        'fq': ['subject:\"{0}\"'.format(entity),\n",
    "               'object_category:\"phenotype\"']\n",
    "    }\n",
    "\n",
    "    for doc in get_solr_results(SOLR_URL, params):\n",
    "        phenotype_list.append(doc['object'])\n",
    "\n",
    "    return phenotype_list\n",
    "\n",
    "\n",
    "phenotypes = get_direct_phenotypes(disease)\n",
    "# Expected: 56\n",
    "len(phenotypes)"
   ]
  },
  {
   "cell_type": "code",
   "execution_count": 31,
   "metadata": {},
   "outputs": [
    {
     "data": {
      "text/plain": [
       "[['MGI:95489', 'Fbn1', 68],\n",
       " ['MGI:98726', 'Tgfb2', 62],\n",
       " ['MGI:88190', 'Braf', 60],\n",
       " ['MGI:1195272', 'Eda', 59],\n",
       " ['MGI:95586', 'Fst', 59]]"
      ]
     },
     "execution_count": 31,
     "metadata": {},
     "output_type": "execute_result"
    }
   ],
   "source": [
    "# Get owlsim results for mouse, zebrafish, fly, worm\n",
    "OWLSIM = 'https://beta.monarchinitiative.org/owlsim/'\n",
    "\n",
    "search_url = OWLSIM + \"searchByAttributeSet\"\n",
    "\n",
    "sim_req = requests.get(search_url, params={'a':phenotypes, 'target':'MGI'})\n",
    "results = sim_req.json()\n",
    "\n",
    "mouse_genes = [[res['j']['id'], res['j']['label'], res['combinedScore']] for res in results['results']]\n",
    "\n",
    "mouse_genes[0:5]"
   ]
  },
  {
   "cell_type": "code",
   "execution_count": 33,
   "metadata": {},
   "outputs": [
    {
     "name": "stdout",
     "output_type": "stream",
     "text": [
      "human genes: 153\n",
      "mouse genes: 1000\n",
      "zebrafish genes: 1000\n",
      "worm genes: 281\n",
      "fly genes: 175\n"
     ]
    }
   ],
   "source": [
    "# get rest of orgs\n",
    "\n",
    "def get_eds_sim(target):\n",
    "    sim_req = requests.get(search_url, params={'a':phenotypes, 'target':target}) \n",
    "    results = sim_req.json()\n",
    "    return [[res['j']['id'], res['j']['label'], res['combinedScore']] for res in results['results']]\n",
    "\n",
    "human_genes = get_eds_sim('HGNC')\n",
    "zebrafish_genes = get_eds_sim('ZFIN')\n",
    "worm_genes = get_eds_sim('WormBase')\n",
    "fly_genes = get_eds_sim('FlyBase')\n",
    "\n",
    "# See if everything has content\n",
    "print('human genes: {}'.format(len(human_genes)))\n",
    "print('mouse genes: {}'.format(len(mouse_genes)))\n",
    "print('zebrafish genes: {}'.format(len(zebrafish_genes)))\n",
    "print('worm genes: {}'.format(len(worm_genes)))\n",
    "print('fly genes: {}'.format(len(fly_genes)))\n"
   ]
  },
  {
   "cell_type": "code",
   "execution_count": 43,
   "metadata": {},
   "outputs": [],
   "source": [
    "# For the non human list get orthologs\n",
    "\n",
    "human_fh = open('eds-human.tsv', 'w')\n",
    "human_fh.write(\"\\t\".join(['id','symbol','score']) + \"\\n\")\n",
    "\n",
    "for row in human_genes[0:100]:\n",
    "    human_fh.write(\"{}\\t{}\\t{}\\n\".format(row[0], row[1], row[2]))\n"
   ]
  },
  {
   "cell_type": "code",
   "execution_count": 52,
   "metadata": {},
   "outputs": [],
   "source": [
    "# Generate ortholog files\n",
    "\n",
    "def get_human_ortholog(solr, gene):\n",
    "    params = {\n",
    "        'wt': 'json',\n",
    "        'rows': 100,\n",
    "        'start': 0,\n",
    "        'q': '*:*',\n",
    "        'fl': 'subject, subject_label,'\n",
    "              'object, object_label',\n",
    "        'fq': ['subject_closure: \"{0}\"'.format(gene),\n",
    "               'relation_closure: \"RO:HOM0000017\"',\n",
    "               'object_taxon: \"NCBITaxon:9606\"'\n",
    "        ]\n",
    "    }\n",
    "    for doc in get_solr_results(solr, params):\n",
    "        yield doc\n",
    "        \n",
    "\n",
    "mouse_fh = open('eds-mouse.tsv', 'w')\n",
    "zfin_fh = open('eds-zebrafish.tsv', 'w')\n",
    "worm_fh = open('eds-worm.tsv', 'w')\n",
    "fly_fh = open('eds-fly.tsv', 'w')\n",
    "\n",
    "def add_ortho_to_sim(owlsim_results, fh):\n",
    "    mod_header = \"\\t\".join(['id','symbol','score','orthlog_id', 'ortholog_symbol']) + \"\\n\"\n",
    "    fh.write(mod_header)\n",
    "    for row in owlsim_results[0:100]:\n",
    "        for ortholog in get_human_ortholog(SOLR_URL, row[0]):\n",
    "            fh.write(\"{}\\t{}\\t{}\\t{}\\t{}\\n\".format(\n",
    "                ortholog['object'],\n",
    "                ortholog['object_label'],\n",
    "                row[2],\n",
    "                row[0],\n",
    "                row[1]\n",
    "            ))\n",
    "\n",
    "add_ortho_to_sim(mouse_genes, mouse_fh)\n",
    "add_ortho_to_sim(zebrafish_genes, zfin_fh)\n",
    "add_ortho_to_sim(worm_genes, worm_fh)\n",
    "add_ortho_to_sim(fly_genes, fly_fh)\n",
    "\n",
    "mouse_fh.close()\n",
    "zfin_fh.close()\n",
    "worm_fh.close()\n",
    "fly_fh.close()\n",
    "human_fh.close()"
   ]
  },
  {
   "cell_type": "code",
   "execution_count": null,
   "metadata": {},
   "outputs": [],
   "source": []
  }
 ],
 "metadata": {
  "kernelspec": {
   "display_name": "Python 3",
   "language": "python",
   "name": "python3"
  },
  "language_info": {
   "codemirror_mode": {
    "name": "ipython",
    "version": 3
   },
   "file_extension": ".py",
   "mimetype": "text/x-python",
   "name": "python",
   "nbconvert_exporter": "python",
   "pygments_lexer": "ipython3",
   "version": "3.5.2"
  }
 },
 "nbformat": 4,
 "nbformat_minor": 2
}
