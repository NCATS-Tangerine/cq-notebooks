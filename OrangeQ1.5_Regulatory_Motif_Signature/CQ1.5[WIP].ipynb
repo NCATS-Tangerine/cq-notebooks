{
 "cells": [
  {
   "cell_type": "markdown",
   "metadata": {},
   "source": [
    "Q1.5 \n",
    "This query aims to expand the FA-ensemblage gene set based on upstream TF binding site motif patterns."
   ]
  },
  {
   "cell_type": "markdown",
   "metadata": {},
   "source": [
    " - FA gene set  'FA_NCBIGene_symbol.txt'\n",
    " - motif simalarity datastore 'jaspar.nt'\n",
    " - \n",
    " "
   ]
  },
  {
   "cell_type": "code",
   "execution_count": 1,
   "metadata": {
    "collapsed": true
   },
   "outputs": [],
   "source": [
    "import csv\n",
    "import yaml\n",
    "import requests\n",
    "import json\n",
    "import re"
   ]
  },
  {
   "cell_type": "markdown",
   "metadata": {},
   "source": [
    "untill the hackathon blazegraph instance is available    \n",
    "I am running a local instance [described here](http://localhost:8888/notebooks/LocalBlazeGraph.ipynb)\n",
    "\n",
    "\n",
    "\n"
   ]
  },
  {
   "cell_type": "code",
   "execution_count": 2,
   "metadata": {
    "collapsed": true
   },
   "outputs": [],
   "source": [
    "bg_host = 'http://localhost:9999'\n",
    "bg = bg_host + '/blazegraph/sparql?format=json&query=' "
   ]
  },
  {
   "cell_type": "markdown",
   "metadata": {},
   "source": [
    "which offers:  \n",
    "\n",
    "    rdf:Description rdf:nodeID=\"service\"\n",
    "        rdf:type \n",
    "            rdf:resource=\"http://www.w3.org/ns/sparql-service-description#Service\"\n",
    "        endpoint \n",
    "            rdf:resource=\"http://localhost:9999/blazegraph/sparql\"\n",
    "        endpoint \n",
    "            rdf:resource=\"http://localhost:9999/bigdata/LBS/sparql\"\n",
    "            \n",
    "Trying the blazegraph/sparql endpoint yields"
   ]
  },
  {
   "cell_type": "code",
   "execution_count": 3,
   "metadata": {},
   "outputs": [
    {
     "name": "stdout",
     "output_type": "stream",
     "text": [
      "{\n",
      "  \"head\" : {\n",
      "    \"vars\" : [ \"g1\" ]\n",
      "  },\n",
      "  \"results\" : {\n",
      "    \"bindings\" : [ {\n",
      "      \"g1\" : {\n",
      "        \"type\" : \"uri\",\n",
      "        \"value\" : \"http://www.ncbi.nlm.nih.gov/gene/27127\"\n",
      "      }\n",
      "    } ]\n",
      "  }\n",
      "}\n"
     ]
    }
   ],
   "source": [
    "x = requests.get(bg + 'SELECT ?g1 WHERE{?g1 <http://purl.obolibrary.org/obo/SO_adjacent_to> ?o} LIMIT 1')\n",
    "print(x.text)"
   ]
  },
  {
   "cell_type": "markdown",
   "metadata": {},
   "source": [
    "Other queries which work in the blazegraph web interface at \n",
    "http://localhost:9999/blazegraph/#query\n",
    "include\n",
    "```\n",
    "PREFIX SO: <http://purl.obolibrary.org/obo/SO_>\n",
    "PREFIX RO: <http://purl.obolibrary.org/obo/RO_>\n",
    "PREFIX SWO: <http://www.ebi.ac.uk/efo/swo/SWO_>\n",
    "PREFIX NCBIGene: <http://www.ncbi.nlm.nih.gov/gene/>\n",
    "\n",
    "SELECT (COUNT(?gene) as ?count)\n",
    "  WHERE {\n",
    "  \t?gene SO:adjacent_to ?region1 .\n",
    "    ?region1 RO:0002350 ?pairwise .\n",
    "    ?region2 RO:0002350 ?pairwise .\n",
    "    FILTER(?region1 != ?region2)\n",
    "    ?gene2 SO:adjacent_to ?region2 .\n",
    "    FILTER(?gene != ?gene2)\n",
    "\t?pairwise SWO:0000425 '1' .\n",
    "  }\n",
    "\n",
    "count\n",
    "19790\n",
    "```\n",
    "SPARQL path notation works\n",
    "\n",
    "```    \n",
    "    select ?g1 ?g2\n",
    "\t    WHERE {\n",
    "        ?g1 SO:adjacent_to/RO:0002350/^RO:0002350/^SO:adjacent_to ?g2 .\n",
    "        FILTER(?g1 != ?g2)\n",
    "      }\n",
    "    LIMIT 10\n",
    "```\n",
    "````\n",
    "g1\t                                        g2\n",
    "<http://www.ncbi.nlm.nih.gov/gene/10200>\t<http://www.ncbi.nlm.nih.gov/gene/3646>\n",
    "<http://www.ncbi.nlm.nih.gov/gene/10200>\t<http://www.ncbi.nlm.nih.gov/gene/23077>\n",
    "<http://www.ncbi.nlm.nih.gov/gene/10200>\t<http://www.ncbi.nlm.nih.gov/gene/55269>\n",
    "<http://www.ncbi.nlm.nih.gov/gene/10200>\t<http://www.ncbi.nlm.nih.gov/gene/168850>\n",
    "<http://www.ncbi.nlm.nih.gov/gene/10200>\t<http://www.ncbi.nlm.nih.gov/gene/5635>\n",
    "<http://www.ncbi.nlm.nih.gov/gene/10200>\t<http://www.ncbi.nlm.nih.gov/gene/11344>\n",
    "<http://www.ncbi.nlm.nih.gov/gene/10200>\t<http://www.ncbi.nlm.nih.gov/gene/29104>\n",
    "<http://www.ncbi.nlm.nih.gov/gene/10200>\t<http://www.ncbi.nlm.nih.gov/gene/9578>\n",
    "<http://www.ncbi.nlm.nih.gov/gene/10200>\t<http://www.ncbi.nlm.nih.gov/gene/4201>\n",
    "<http://www.ncbi.nlm.nih.gov/gene/64854>\t<http://www.ncbi.nlm.nih.gov/gene/7024>\n",
    "```\n",
    "\n",
    "```\n",
    "look for genes related to FANCA\n",
    "\n",
    "select ?g2\n",
    "\tWHERE {\n",
    "  \tNCBIGene:2175 SO:adjacent_to/RO:0002350/^RO:0002350/^SO:adjacent_to ?g2 .\n",
    "    FILTER(NCBIGene:2175 != ?g2)\n",
    "  }\n",
    "```\n",
    "\n",
    "\n",
    "```\n",
    "g2\n",
    "<http://www.ncbi.nlm.nih.gov/gene/8795>\n",
    "<http://www.ncbi.nlm.nih.gov/gene/348995>\n",
    "<http://www.ncbi.nlm.nih.gov/gene/5166>\n",
    "<http://www.ncbi.nlm.nih.gov/gene/23155>\n",
    "<http://www.ncbi.nlm.nih.gov/gene/7568>\n",
    "<http://www.ncbi.nlm.nih.gov/gene/441381>\n",
    "<http://www.ncbi.nlm.nih.gov/gene/55147>\n",
    "<http://www.ncbi.nlm.nih.gov/gene/8242>\n",
    "<http://www.ncbi.nlm.nih.gov/gene/54830>\n",
    "<http://www.ncbi.nlm.nih.gov/gene/22976>\n",
    "<http://www.ncbi.nlm.nih.gov/gene/23193>\n",
    "<http://www.ncbi.nlm.nih.gov/gene/57623>\n",
    "<http://www.ncbi.nlm.nih.gov/gene/6093>\n",
    "<http://www.ncbi.nlm.nih.gov/gene/54929>\n",
    "<http://www.ncbi.nlm.nih.gov/gene/57577>\n",
    "<http://www.ncbi.nlm.nih.gov/gene/9131>\n",
    "<http://www.ncbi.nlm.nih.gov/gene/54955>\n",
    "<http://www.ncbi.nlm.nih.gov/gene/51645>\n",
    "<http://www.ncbi.nlm.nih.gov/gene/8659>\n",
    "<http://www.ncbi.nlm.nih.gov/gene/51645>\n",
    "<http://www.ncbi.nlm.nih.gov/gene/6093>\n",
    "<http://www.ncbi.nlm.nih.gov/gene/81551>\n",
    "<http://www.ncbi.nlm.nih.gov/gene/57623>\n",
    "<http://www.ncbi.nlm.nih.gov/gene/29028>\n",
    "<http://www.ncbi.nlm.nih.gov/gene/90957>\n",
    "<http://www.ncbi.nlm.nih.gov/gene/9517>\n",
    "<http://www.ncbi.nlm.nih.gov/gene/3376>\n",
    "<http://www.ncbi.nlm.nih.gov/gene/606495>\n",
    "<http://www.ncbi.nlm.nih.gov/gene/606495>\n",
    "<http://www.ncbi.nlm.nih.gov/gene/90957>\n",
    "<http://www.ncbi.nlm.nih.gov/gene/55147>\n",
    "<http://www.ncbi.nlm.nih.gov/gene/57577>\n",
    "<http://www.ncbi.nlm.nih.gov/gene/7568>\n",
    "<http://www.ncbi.nlm.nih.gov/gene/3376>\n",
    "<http://www.ncbi.nlm.nih.gov/gene/9517>\n",
    "<http://www.ncbi.nlm.nih.gov/gene/54756>\n",
    "<http://www.ncbi.nlm.nih.gov/gene/23193>\n",
    "<http://www.ncbi.nlm.nih.gov/gene/348995>\n",
    "<http://www.ncbi.nlm.nih.gov/gene/23155>\n",
    "<http://www.ncbi.nlm.nih.gov/gene/6604>\n",
    "<http://www.ncbi.nlm.nih.gov/gene/81551>\n",
    "<http://www.ncbi.nlm.nih.gov/gene/54785>\n",
    "<http://www.ncbi.nlm.nih.gov/gene/55171>\n",
    "<http://www.ncbi.nlm.nih.gov/gene/9928>\n",
    "<http://www.ncbi.nlm.nih.gov/gene/6566>\n",
    "<http://www.ncbi.nlm.nih.gov/gene/22976>\n",
    "<http://www.ncbi.nlm.nih.gov/gene/5232>\n",
    "<http://www.ncbi.nlm.nih.gov/gene/84650>\n",
    "<http://www.ncbi.nlm.nih.gov/gene/5166>\n",
    "<http://www.ncbi.nlm.nih.gov/gene/255426>\n",
    "```\n",
    "\n"
   ]
  },
  {
   "cell_type": "markdown",
   "metadata": {},
   "source": [
    "Next, move that behavior into this jupyter notebook"
   ]
  },
  {
   "cell_type": "code",
   "execution_count": 4,
   "metadata": {},
   "outputs": [
    {
     "name": "stdout",
     "output_type": "stream",
     "text": [
      "PREFIX OIO: <http://www.geneontology.org/formats/oboInOwl#>\n",
      "PREFIX RO: <http://purl.obolibrary.org/obo/RO_>\n",
      "PREFIX JASPAR: <http://fantom.gsc.riken.jp/5/sstar/JASPAR_motif:>\n",
      "PREFIX SO: <http://purl.obolibrary.org/obo/SO_>\n",
      "PREFIX GENO: <http://purl.obolibrary.org/obo/GENO_>\n",
      "PREFIX SWO: <http://www.ebi.ac.uk/efo/swo/SWO_>\n",
      "PREFIX rdf: <http://www.w3.org/1999/02/22-rdf-syntax-ns#>\n",
      "PREFIX rdfs: <http://www.w3.org/2000/01/rdf-schema#>\n",
      "PREFIX NCBIGene: <http://www.ncbi.nlm.nih.gov/gene/>\n",
      "\n"
     ]
    }
   ],
   "source": [
    "# Want to use existing translation tables when constructing SPARQL queries\n",
    "yamlurl='https://raw.githubusercontent.com/TomConlin/Jaspar_FA/master/translation_tables/curie_map.yaml'\n",
    "rsponse = requests.get(yamlurl)\n",
    "PREFIX = yaml.load(rsponse.text)\n",
    "# print(PREFIX)\n",
    "\n",
    "yamlurl='https://raw.githubusercontent.com/TomConlin/Jaspar_FA/master/translation_tables/translation_table.yaml'\n",
    "rsponse = requests.get(yamlurl)\n",
    "TT = yaml.load(rsponse.text)\n",
    "# print(TT)\n",
    "\n",
    "# redecorate the curie base IRI map \n",
    "# to look like a sparql prefix namespace map  \n",
    "# except the bnode: skolemIRI which is given a java \n",
    "#     \"org.openrdf.query.MalformedQueryException:\n",
    "# for no good reason\n",
    "\n",
    "prefixns = \"\"\n",
    "for p in PREFIX: \n",
    "    if len(p) > 1:\n",
    "       prefixns += 'PREFIX ' + p + ': <' + PREFIX[p] + '>\\n'\n",
    "\n",
    "print(prefixns)"
   ]
  },
  {
   "cell_type": "markdown",
   "metadata": {},
   "source": [
    "The Fanconi Anemia genes come as symbols/aliases in three sets [here](https://docs.google.com/spreadsheets/d/1yX-5sfrC3vrahf4_k7-5rl4Oqzm853ollIMmUo1PTc0)  \n",
    "I converted them to NCBI gene identifiers and current symbols [here](https://github.com/NCATS-Tangerine/cq-notebooks/tree/master/FA_gene_sets)"
   ]
  },
  {
   "cell_type": "code",
   "execution_count": 5,
   "metadata": {
    "collapsed": true
   },
   "outputs": [],
   "source": [
    "\n",
    "fagene=[]\n",
    "\n",
    "fa1 = '../FA_gene_sets/FA_1_core_complex.txt'\n",
    "core_complex = {}\n",
    "with open(fa1, 'r') as tabfile:\n",
    "    filereader = csv.reader(tabfile, delimiter='\\t')\n",
    "    for row in filereader:   \n",
    "        (fa_gene, fa_symbol) = row\n",
    "        fagene.append(fa_gene)\n",
    "        core_complex[fa_gene]=fa_symbol\n",
    "        \n",
    "fa2 = '../FA_gene_sets/FA_2_effector_proteins.txt'\n",
    "effector_proteins = {}\n",
    "with open(fa2, 'r') as tabfile:\n",
    "    filereader = csv.reader(tabfile, delimiter='\\t')\n",
    "    for row in filereader:   \n",
    "        (fa_gene, fa_symbol) = row\n",
    "        fagene.append(fa_gene)\n",
    "        effector_proteins[fa_gene]=fa_symbol\n",
    "        \n",
    "fa3 = '../FA_gene_sets/FA_3_associated_proteins.txt'\n",
    "associated_proteins = {} \n",
    "with open(fa3, 'r') as tabfile:\n",
    "    filereader = csv.reader(tabfile, delimiter='\\t')\n",
    "    for row in filereader:   \n",
    "        (fa_gene, fa_symbol) = row\n",
    "        fagene.append(fa_gene)\n",
    "        associated_proteins[fa_gene]=fa_symbol"
   ]
  },
  {
   "cell_type": "markdown",
   "metadata": {},
   "source": [
    "We can get all the triples patterns available in 'jaspar.nt'   \n",
    "from this [GraphViz dot file](https://github.com/TomConlin/Jaspar_FA/blob/master/jaspar_target_model.gv) since we used it to guide   \n",
    "generating the RDF data in the first place.  \n",
    "\n",
    "![](https://github.com/TomConlin/Jaspar_FA/blob/master/jaspar_target_model.png?raw=true)"
   ]
  },
  {
   "cell_type": "markdown",
   "metadata": {},
   "source": [
    "\n",
    "\n",
    "Composing the query by atomizing the GraphViz elements   \n",
    "and selectivly translating with the same tables   \n",
    "the data was generates with means  \n",
    "the SPARQL query remains free of semanticly obsolete clauses.\n",
    "\n",
    "I did this manually, but in general, the rules were roughly:\n",
    "  \n",
    "-    remove angle brackets\n",
    "-    add trailing dot \n",
    "-    replace BNODE: with __?__\n",
    "-    if the element (predicate) is a curie then wrap it in a TT lookup\n",
    "-    if the object is a LITERAL wrap it in quotes\n",
    "-    give the items of intrest specific __?names__\n",
    "-    formating to suit sensibilities"
   ]
  },
  {
   "cell_type": "markdown",
   "metadata": {},
   "source": [
    "In particular we want: \n",
    "    candidate genes which share motif similarity with FA genes\n",
    "    \n",
    "    <NCBIGene:fagene><SO:adjacent_to><BNODE:gene1_upstream_region>\n",
    "    <BNODE:gene1_upstream_region><RO:member of><BNODE:pairwise_similarity>\n",
    "    <BNODE:gene2_upstream_region><RO:member of><BNODE:pairwise_similarity>\n",
    "    <NCBIGene:xyz><SO:adjacent_to><BNODE:gene2_upstream_region> \n",
    "    \n",
    "    when <NCBIGene:xyz> is not <NCBIGene:fagene> \n",
    "    \n",
    "we may also be interested in limiting by region extent size   \n",
    "or Jaccard similarity score\n",
    "\n",
    "    <BNODE:pairwise_similarity><SWO:Similarity score><0.73>\n",
    "    <BNODE:gene1_upstream_region><GENO:has_extent><1k>\n",
    "    \n",
    "    "
   ]
  },
  {
   "cell_type": "markdown",
   "metadata": {},
   "source": [
    "Much of the effort to this point has been developing and maintaining a context  \n",
    "in which we are able to __write a readable query__.  \n",
    "\n",
    "Here, given a (fa) gene, we are looking for other genes   \n",
    "with optimal matches (similarity=1) within their 1k start regions."
   ]
  },
  {
   "cell_type": "code",
   "execution_count": 27,
   "metadata": {},
   "outputs": [
    {
     "name": "stdout",
     "output_type": "stream",
     "text": [
      "PREFIX OIO: <http://www.geneontology.org/formats/oboInOwl#>\n",
      "PREFIX RO: <http://purl.obolibrary.org/obo/RO_>\n",
      "PREFIX JASPAR: <http://fantom.gsc.riken.jp/5/sstar/JASPAR_motif:>\n",
      "PREFIX SO: <http://purl.obolibrary.org/obo/SO_>\n",
      "PREFIX GENO: <http://purl.obolibrary.org/obo/GENO_>\n",
      "PREFIX SWO: <http://www.ebi.ac.uk/efo/swo/SWO_>\n",
      "PREFIX rdf: <http://www.w3.org/1999/02/22-rdf-syntax-ns#>\n",
      "PREFIX rdfs: <http://www.w3.org/2000/01/rdf-schema#>\n",
      "PREFIX NCBIGene: <http://www.ncbi.nlm.nih.gov/gene/>\n",
      "\n",
      "SELECT ?fagene ?candidate\n",
      " WHERE{\n",
      " ?fagene SO:adjacent_to ?gene1_upstream_region .\n",
      " ?gene1_upstream_region RO:0002350 ?pairwise_similarity .\n",
      " ?gene2_upstream_region RO:0002350 ?pairwise_similarity .\n",
      " FILTER(?gene1_upstream_region != ?gene2_upstream_region) \n",
      " ?candidate SO:adjacent_to ?gene2_upstream_region .\n",
      " ?pairwise_similarity SWO:0000425 '1' .\n",
      " ?gene1_upstream_region GENO:0000678 '1k' .\n",
      " FILTER(?fagene != ?candidate)\n",
      "}\n"
     ]
    }
   ],
   "source": [
    "selectstr = ' '.join([\n",
    "    'SELECT ?fagene ?candidate\\n',\n",
    "    'WHERE{\\n',\n",
    "        '?fagene', 'SO:adjacent_to', '?gene1_upstream_region .\\n', \n",
    "        '?gene1_upstream_region',  TT['RO:member of'], '?pairwise_similarity .\\n',\n",
    "        '?gene2_upstream_region',  TT['RO:member of'], '?pairwise_similarity .\\n',\n",
    "        'FILTER(?gene1_upstream_region != ?gene2_upstream_region) \\n', \n",
    "        '?candidate', 'SO:adjacent_to', '?gene2_upstream_region .\\n',\n",
    "        '?pairwise_similarity', TT['SWO:Similarity score'], \"'1' .\\n\", \n",
    "        '?gene1_upstream_region', TT['GENO:has_extent'], \"'1k' .\\n\",\n",
    "    'FILTER(?fagene != ?candidate)\\n}'\n",
    "    ]) \n",
    "\n",
    "# note the abscence of opaque identifiers the query engine actually uses\n",
    "\n",
    "query = prefixns + \"\\n\" + selectstr\n",
    "print(query)"
   ]
  },
  {
   "cell_type": "code",
   "execution_count": 36,
   "metadata": {
    "scrolled": false
   },
   "outputs": [
    {
     "name": "stdout",
     "output_type": "stream",
     "text": [
      "UBE2T \t http://www.ncbi.nlm.nih.gov/gene/29089\n",
      "\t http://www.ncbi.nlm.nih.gov/gene/3608\n",
      "\t http://www.ncbi.nlm.nih.gov/gene/171392\n",
      "\t http://www.ncbi.nlm.nih.gov/gene/340252\n",
      "\t http://www.ncbi.nlm.nih.gov/gene/8125\n",
      "\t http://www.ncbi.nlm.nih.gov/gene/54958\n"
     ]
    }
   ],
   "source": [
    "# apply our query to each gene in the FA Core complex\n",
    "candidate_set = {}\n",
    "for fagene in core_complex:\n",
    "    payload = {\n",
    "        'format' : 'json', \n",
    "        # '$fagene':  fagene, \n",
    "        # BG is not accepting the curie. Wants IRI or LITERAL\n",
    "        '$fagene': '<' + re.sub('NCBIGene:',PREFIX['NCBIGene'],fagene) + '>',\n",
    "        'query': query\n",
    "    }\n",
    "    response = requests.post(bg_host + '/blazegraph/sparql', data=payload)\n",
    " \n",
    "    resp = json.loads(response.text)\n",
    "    if resp['results']['bindings'] != []:\n",
    "        print(core_complex[fagene], '\\t', \n",
    "              re.sub('NCBIGene:', PREFIX['NCBIGene'],fagene))\n",
    "        candidate_set[core_complex[fagene]]=[]\n",
    "        for hit in resp['results']['bindings']:\n",
    "            candidate_set[core_complex[fagene]].append(hit['candidate']['value'])\n",
    "            print('\\t', hit['candidate']['value']) "
   ]
  },
  {
   "cell_type": "markdown",
   "metadata": {},
   "source": [
    "UBE2T is the only gene in the Fancomi Anemia core complex  \n",
    "with optimal associations with other genes\n",
    "Briefly those associated genes are:   \n",
    "\n",
    "- ILF2 http://www.ncbi.nlm.nih.gov/gene/3608  \n",
    "    a transcription factor required for T-cell expression of the interleukin 2 gene\n",
    "\n",
    "- ZNF675 https://www.ncbi.nlm.nih.gov/gene/171392  \n",
    "    the novel zinc finger protein TIZ may play a role during osteoclast differentiation by modulating TRAF6 signaling activity.\n",
    "\n",
    "- ZNF680 http://www.ncbi.nlm.nih.gov/gene/340252  \n",
    "    obsevered expressed in thyroid but fairly uncharaterizied\n",
    "\n",
    "- ANP32A http://www.ncbi.nlm.nih.gov/gene/8125  \n",
    "    expressed lymph nodes & bone marrow \n",
    "    The tumor suppressor acidic nuclear phosphoprotein 32 family, member A \n",
    "\n",
    "- TMEM160 http://www.ncbi.nlm.nih.gov/gene/54958  \n",
    "    Not much to see here\n",
    "\n",
    "----\n",
    "Where to go next\n",
    "\n",
    "- We can look for ideal matches in larger upstream regions but counter intiutivly larger regions average fewer associations because the number of distinct motifs between the larger regions grows faster than the number of motifs the regions will have in common.(and I dropped any that dipped below 50% similar)\n",
    "- We can look for less ideal matches in the same 1k region \n",
    "- We can look for less ideal matches in larger regions"
   ]
  },
  {
   "cell_type": "code",
   "execution_count": null,
   "metadata": {
    "collapsed": true
   },
   "outputs": [],
   "source": []
  },
  {
   "cell_type": "markdown",
   "metadata": {},
   "source": []
  }
 ],
 "metadata": {
  "kernelspec": {
   "display_name": "Python 3",
   "language": "python",
   "name": "python3"
  },
  "language_info": {
   "codemirror_mode": {
    "name": "ipython",
    "version": 3
   },
   "file_extension": ".py",
   "mimetype": "text/x-python",
   "name": "python",
   "nbconvert_exporter": "python",
   "pygments_lexer": "ipython3",
   "version": "3.5.2"
  }
 },
 "nbformat": 4,
 "nbformat_minor": 2
}
