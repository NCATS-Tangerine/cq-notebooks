{
 "cells": [
  {
   "cell_type": "markdown",
   "metadata": {},
   "source": [
    "Q1.5 \n",
    "This query aims to expand the FA-ensemblage gene set based on upstream TF binding site motif patterns."
   ]
  },
  {
   "cell_type": "markdown",
   "metadata": {},
   "source": [
    "Data  \n",
    " - FA gene sets  'https://github.com/NCATS-Tangerine/cq-notebooks/tree/master/FA_gene_sets'\n",
    " - motif simalarity datastore 'jaspar.nt'\n"
   ]
  },
  {
   "cell_type": "code",
   "execution_count": 1,
   "metadata": {
    "collapsed": true
   },
   "outputs": [],
   "source": [
    "import csv\n",
    "import yaml\n",
    "import requests\n",
    "import json\n",
    "import re"
   ]
  },
  {
   "cell_type": "markdown",
   "metadata": {},
   "source": [
    "Untill the hackathon blazegraph instance is available    \n",
    "We are running a local instance [described here](http://localhost:8888/notebooks/LocalBlazeGraph.ipynb)\n",
    "\n",
    "Whoohoo ncats blazegraph is up! "
   ]
  },
  {
   "cell_type": "code",
   "execution_count": 2,
   "metadata": {
    "collapsed": true
   },
   "outputs": [],
   "source": [
    "#bg_host = 'http://localhost:9999'\n",
    "bg_host = 'https://tfbsmotif.ncats.io'\n",
    "bg = bg_host + '/blazegraph/sparql?format=json&query=' "
   ]
  },
  {
   "cell_type": "markdown",
   "metadata": {},
   "source": [
    "which offers:  \n",
    "\n",
    "    rdf:Description rdf:nodeID=\"service\"\n",
    "        rdf:type \n",
    "            rdf:resource=\"http://www.w3.org/ns/sparql-service-description#Service\"\n",
    "        endpoint \n",
    "            rdf:resource=\"http://localhost:9999/blazegraph/sparql\"\n",
    "        endpoint \n",
    "            rdf:resource=\"http://localhost:9999/bigdata/LBS/sparql\"\n",
    "            \n",
    "Trying the blazegraph/sparql endpoint yields"
   ]
  },
  {
   "cell_type": "code",
   "execution_count": 3,
   "metadata": {},
   "outputs": [
    {
     "name": "stdout",
     "output_type": "stream",
     "text": [
      "{\n",
      "  \"head\" : {\n",
      "    \"vars\" : [ \"g1\" ]\n",
      "  },\n",
      "  \"results\" : {\n",
      "    \"bindings\" : [ {\n",
      "      \"g1\" : {\n",
      "        \"type\" : \"uri\",\n",
      "        \"value\" : \"http://www.ncbi.nlm.nih.gov/gene/6309\"\n",
      "      }\n",
      "    } ]\n",
      "  }\n",
      "}\n"
     ]
    }
   ],
   "source": [
    "x = requests.get(bg + 'SELECT ?g1 WHERE{?g1 <http://purl.obolibrary.org/obo/SO_adjacent_to> ?o} LIMIT 1')\n",
    "print(x.text)"
   ]
  },
  {
   "cell_type": "markdown",
   "metadata": {},
   "source": [
    "Blazegraph is working localy and remotly,   \n",
    "there is a process in place to refresh it when I change the RDF\n",
    "Using the RDF stored in Blazegraph to address the FD TF-binding motif question  \n",
    "in this notebook follows."
   ]
  },
  {
   "cell_type": "code",
   "execution_count": 4,
   "metadata": {},
   "outputs": [
    {
     "name": "stdout",
     "output_type": "stream",
     "text": [
      "PREFIX rdf: <http://www.w3.org/1999/02/22-rdf-syntax-ns#>\n",
      "PREFIX SWO: <http://www.ebi.ac.uk/efo/swo/SWO_>\n",
      "PREFIX NCBIGene: <http://www.ncbi.nlm.nih.gov/gene/>\n",
      "PREFIX SO: <http://purl.obolibrary.org/obo/SO_>\n",
      "PREFIX OIO: <http://www.geneontology.org/formats/oboInOwl#>\n",
      "PREFIX RO: <http://purl.obolibrary.org/obo/RO_>\n",
      "PREFIX GENO: <http://purl.obolibrary.org/obo/GENO_>\n",
      "PREFIX JASPAR: <http://fantom.gsc.riken.jp/5/sstar/JASPAR_motif:>\n",
      "PREFIX rdfs: <http://www.w3.org/2000/01/rdf-schema#>\n",
      "\n"
     ]
    }
   ],
   "source": [
    "# Want to use existing translation tables when constructing SPARQL queries\n",
    "yamlurl='https://raw.githubusercontent.com/TomConlin/Jaspar_FA/master/translation_tables/curie_map.yaml'\n",
    "rsponse = requests.get(yamlurl)\n",
    "PREFIX = yaml.load(rsponse.text)\n",
    "# print(PREFIX)\n",
    "\n",
    "yamlurl='https://raw.githubusercontent.com/TomConlin/Jaspar_FA/master/translation_tables/translation_table.yaml'\n",
    "rsponse = requests.get(yamlurl)\n",
    "TT = yaml.load(rsponse.text)\n",
    "# print(TT)\n",
    "\n",
    "# redecorate the curie base IRI map \n",
    "# to look like a sparql prefix namespace map  \n",
    "# except the bnode: skolemIRI which is given a java \n",
    "#     \"org.openrdf.query.MalformedQueryException:\n",
    "# for no good reason\n",
    "\n",
    "prefixns = \"\"\n",
    "for p in PREFIX: \n",
    "    if len(p) > 1:\n",
    "       prefixns += 'PREFIX ' + p + ': <' + PREFIX[p] + '>\\n'\n",
    "\n",
    "print(prefixns)"
   ]
  },
  {
   "cell_type": "markdown",
   "metadata": {},
   "source": [
    "The Fanconi Anemia genes come as symbols/aliases in three sets [here](https://docs.google.com/spreadsheets/d/1yX-5sfrC3vrahf4_k7-5rl4Oqzm853ollIMmUo1PTc0)  \n",
    "I converted them to NCBI gene identifiers and current symbols [here](https://github.com/NCATS-Tangerine/cq-notebooks/tree/master/FA_gene_sets)"
   ]
  },
  {
   "cell_type": "markdown",
   "metadata": {},
   "source": [
    "If you need the FA gene sets from a different repo you can use   \n",
    " - \"https://raw.githubusercontent.com/NCATS-Tangerine/cq-notebooks/master/FA_gene_sets/FA_1_core_complex.txt\"\n",
    " - \"https://raw.githubusercontent.com/NCATS-Tangerine/cq-notebooks/master/FA_gene_sets/FA_2_effector_proteins.txt\"\n",
    " - \"https://raw.githubusercontent.com/NCATS-Tangerine/cq-notebooks/master/FA_gene_sets/FA_3_associated_proteins.txt\" \n",
    " \n",
    "but here they are just in a parent directory  \n",
    "(unless someone decides to reorganize the directories)"
   ]
  },
  {
   "cell_type": "code",
   "execution_count": 5,
   "metadata": {},
   "outputs": [
    {
     "name": "stdout",
     "output_type": "stream",
     "text": [
      "core_complex found  \t11 genes\n",
      "effector_proteins found  \t11 genes\n",
      "associated_proteins found \t6 genes\n"
     ]
    }
   ],
   "source": [
    "fagenes=[]\n",
    "\n",
    "fa1 = '../../FA_gene_sets/FA_1_core_complex.txt'\n",
    "core_complex = {}\n",
    "with open(fa1, 'r') as tabfile:\n",
    "    filereader = csv.reader(tabfile, delimiter='\\t')\n",
    "    for row in filereader:   \n",
    "        (fa_gene, fa_symbol) = row\n",
    "        fagenes.append(fa_gene)\n",
    "        core_complex[fa_gene]=fa_symbol\n",
    "print(\"core_complex found  \\t\" + str(len(core_complex)) + \" genes\")\n",
    "\n",
    "fa2 = '../../FA_gene_sets/FA_2_effector_proteins.txt'\n",
    "effector_proteins = {}\n",
    "with open(fa2, 'r') as tabfile:\n",
    "    filereader = csv.reader(tabfile, delimiter='\\t')\n",
    "    for row in filereader:   \n",
    "        (fa_gene, fa_symbol) = row\n",
    "        fagenes.append(fa_gene)\n",
    "        effector_proteins[fa_gene]=fa_symbol\n",
    "print(\"effector_proteins found  \\t\"  + str(len(effector_proteins)) + \" genes\")\n",
    "\n",
    "fa3 = '../../FA_gene_sets/FA_3_associated_proteins.txt'\n",
    "associated_proteins = {} \n",
    "with open(fa3, 'r') as tabfile:\n",
    "    filereader = csv.reader(tabfile, delimiter='\\t')\n",
    "    for row in filereader:   \n",
    "        (fa_gene, fa_symbol) = row\n",
    "        fagenes.append(fa_gene)\n",
    "        associated_proteins[fa_gene]=fa_symbol\n",
    "print(\"associated_proteins found \\t\"  + str(len(associated_proteins)) + \" genes\")        "
   ]
  },
  {
   "cell_type": "markdown",
   "metadata": {},
   "source": [
    "We can get all the triples patterns available in 'jaspar.nt'   \n",
    "from this [GraphViz dot file](https://github.com/TomConlin/Jaspar_FA/blob/master/jaspar_target_model.gv) since we used it to guide   \n",
    "generating the RDF data in the first place.  \n",
    "\n",
    "![](https://github.com/TomConlin/Jaspar_FA/blob/master/jaspar_target_model.png?raw=true)"
   ]
  },
  {
   "cell_type": "markdown",
   "metadata": {},
   "source": [
    "\n",
    "\n",
    "Composing the query by atomizing the GraphViz elements   \n",
    "and selectivly translating with the same tables   \n",
    "the data was generates with means  \n",
    "the SPARQL query remains free of semanticly obsolete clauses.\n",
    "\n",
    "I did this manually, but in general, the rules were roughly:\n",
    "  \n",
    "-    remove angle brackets\n",
    "-    add trailing dot \n",
    "-    replace BNODE: with __?__\n",
    "-    if the element (predicate) is a curie then wrap it in a TT lookup\n",
    "-    if the object is a LITERAL wrap it in quotes\n",
    "-    give the items of intrest specific __?names__\n",
    "-    formating to suit sensibilities"
   ]
  },
  {
   "cell_type": "markdown",
   "metadata": {},
   "source": [
    "In particular we want: \n",
    "    candidate genes which share motif similarity with FA genes\n",
    "    \n",
    "    <NCBIGene:fagene><SO:adjacent_to><BNODE:gene1_upstream_region>\n",
    "    <BNODE:gene1_upstream_region><RO:member of><BNODE:pairwise_similarity>\n",
    "    <BNODE:gene2_upstream_region><RO:member of><BNODE:pairwise_similarity>\n",
    "    <NCBIGene:xyz><SO:adjacent_to><BNODE:gene2_upstream_region> \n",
    "    \n",
    "    when <NCBIGene:xyz> is not <NCBIGene:fagene> \n",
    "    \n",
    "we may also be interested in limiting by region extent size   \n",
    "or Jaccard similarity score\n",
    "\n",
    "    <BNODE:pairwise_similarity><SWO:Similarity score><0.73>\n",
    "    <BNODE:gene1_upstream_region><GENO:has_extent><1k>\n",
    "    \n",
    "    "
   ]
  },
  {
   "cell_type": "markdown",
   "metadata": {},
   "source": [
    "Much of the effort to this point has been developing and maintaining a context  \n",
    "in which we are able to __write a readable query__.  \n",
    "\n",
    "Here, given a (fa) gene, we are looking for other genes   \n",
    "with optimal matches (similarity=1) within their 1k start regions."
   ]
  },
  {
   "cell_type": "code",
   "execution_count": 6,
   "metadata": {},
   "outputs": [
    {
     "name": "stdout",
     "output_type": "stream",
     "text": [
      "PREFIX rdf: <http://www.w3.org/1999/02/22-rdf-syntax-ns#>\n",
      "PREFIX SWO: <http://www.ebi.ac.uk/efo/swo/SWO_>\n",
      "PREFIX NCBIGene: <http://www.ncbi.nlm.nih.gov/gene/>\n",
      "PREFIX SO: <http://purl.obolibrary.org/obo/SO_>\n",
      "PREFIX OIO: <http://www.geneontology.org/formats/oboInOwl#>\n",
      "PREFIX RO: <http://purl.obolibrary.org/obo/RO_>\n",
      "PREFIX GENO: <http://purl.obolibrary.org/obo/GENO_>\n",
      "PREFIX JASPAR: <http://fantom.gsc.riken.jp/5/sstar/JASPAR_motif:>\n",
      "PREFIX rdfs: <http://www.w3.org/2000/01/rdf-schema#>\n",
      "\n",
      "SELECT ?fagene ?candidate\n",
      " WHERE{\n",
      " ?fagene SO:adjacent_to ?gene1_upstream_region .\n",
      " ?gene1_upstream_region RO:0002350 ?pairwise_similarity .\n",
      " ?gene2_upstream_region RO:0002350 ?pairwise_similarity .\n",
      " FILTER(?gene1_upstream_region != ?gene2_upstream_region) \n",
      " ?candidate SO:adjacent_to ?gene2_upstream_region .\n",
      " ?pairwise_similarity SWO:0000425 '1' .\n",
      " ?gene1_upstream_region GENO:0000678 '1k' .\n",
      " FILTER(?fagene != ?candidate)\n",
      "}\n"
     ]
    }
   ],
   "source": [
    "selectstr = ' '.join([\n",
    "    'SELECT ?fagene ?candidate\\n',\n",
    "    'WHERE{\\n',\n",
    "        '?fagene', 'SO:adjacent_to', '?gene1_upstream_region .\\n', \n",
    "        '?gene1_upstream_region',  TT['RO:member of'], '?pairwise_similarity .\\n',\n",
    "        '?gene2_upstream_region',  TT['RO:member of'], '?pairwise_similarity .\\n',\n",
    "        'FILTER(?gene1_upstream_region != ?gene2_upstream_region) \\n', \n",
    "        '?candidate', 'SO:adjacent_to', '?gene2_upstream_region .\\n',\n",
    "        '?pairwise_similarity', TT['SWO:Similarity score'], \"'1' .\\n\", \n",
    "        '?gene1_upstream_region', TT['GENO:has_extent'], \"'1k' .\\n\",\n",
    "    'FILTER(?fagene != ?candidate)\\n}'\n",
    "    ]) \n",
    "\n",
    "# note the absense of opaque identifiers the query engine actually uses\n",
    "\n",
    "query = prefixns + \"\\n\" + selectstr\n",
    "print(query)"
   ]
  },
  {
   "cell_type": "code",
   "execution_count": 7,
   "metadata": {
    "scrolled": false
   },
   "outputs": [
    {
     "name": "stdout",
     "output_type": "stream",
     "text": [
      "UBE2T \t http://www.ncbi.nlm.nih.gov/gene/29089\n",
      "\t http://www.ncbi.nlm.nih.gov/gene/3608\n",
      "\t http://www.ncbi.nlm.nih.gov/gene/171392\n",
      "\t http://www.ncbi.nlm.nih.gov/gene/340252\n",
      "\t http://www.ncbi.nlm.nih.gov/gene/8125\n",
      "\t http://www.ncbi.nlm.nih.gov/gene/54958\n"
     ]
    }
   ],
   "source": [
    "# apply our query to each gene in the FA Core complex\n",
    "candidate_set = {}\n",
    "for fagene in core_complex:\n",
    "    payload = {\n",
    "        'format' : 'json', \n",
    "        # '$fagene':  fagene, \n",
    "        # BG is not accepting the curie. Wants IRI or LITERAL\n",
    "        '$fagene': '<' + re.sub('NCBIGene:',PREFIX['NCBIGene'],fagene) + '>',\n",
    "        'query': query\n",
    "    }\n",
    "    response = requests.post(bg_host + '/blazegraph/sparql', data=payload)\n",
    " \n",
    "    resp = json.loads(response.text)\n",
    "    if resp['results']['bindings'] != []:\n",
    "        print(core_complex[fagene], '\\t', \n",
    "              re.sub('NCBIGene:', PREFIX['NCBIGene'],fagene))\n",
    "        candidate_set[core_complex[fagene]]=[]\n",
    "        for hit in resp['results']['bindings']:\n",
    "            candidate_set[core_complex[fagene]].append(hit['candidate']['value'])\n",
    "            print('\\t', hit['candidate']['value']) "
   ]
  },
  {
   "cell_type": "markdown",
   "metadata": {},
   "source": [
    "UBE2T is the only gene in the Fancomi Anemia core complex  \n",
    "with optimal associations with other genes\n",
    "Briefly those associated genes are:   \n",
    "\n",
    "- ILF2 http://www.ncbi.nlm.nih.gov/gene/3608  \n",
    "    a transcription factor required for T-cell expression of the interleukin 2 gene\n",
    "\n",
    "- ZNF675 https://www.ncbi.nlm.nih.gov/gene/171392  \n",
    "    the novel zinc finger protein TIZ may play a role during osteoclast differentiation by modulating TRAF6 signaling activity.\n",
    "\n",
    "- ZNF680 http://www.ncbi.nlm.nih.gov/gene/340252  \n",
    "    obsevered expressed in thyroid but fairly uncharaterizied\n",
    "\n",
    "- ANP32A http://www.ncbi.nlm.nih.gov/gene/8125  \n",
    "    expressed lymph nodes & bone marrow \n",
    "    The tumor suppressor acidic nuclear phosphoprotein 32 family, member A \n",
    "\n",
    "- TMEM160 http://www.ncbi.nlm.nih.gov/gene/54958  \n",
    "    Not much to see here\n",
    "\n",
    "----\n",
    "Where to go next\n",
    "\n",
    "- We can look for ideal similarity in larger upstream regions but counter intiutivly larger regions average fewer associations because the number of distinct motifs between the larger regions grows faster than the number of motifs the regions will have in common.  (and I dropped any that dipped below the negotiable threshold of one part in five)\n",
    "- We can look for less ideal similarity in the same 1k region \n",
    "- We can look for less ideal similarity in larger regions  \n",
    "\n",
    "For now I am going with looking for less similarity within the same 1k start regions  "
   ]
  },
  {
   "cell_type": "code",
   "execution_count": 8,
   "metadata": {},
   "outputs": [
    {
     "name": "stdout",
     "output_type": "stream",
     "text": [
      "SELECT ?fagene ?candidate ?score\n",
      " WHERE{\n",
      " ?fagene SO:adjacent_to ?gene1_upstream_region .\n",
      " ?gene1_upstream_region RO:0002350 ?pairwise_similarity .\n",
      " ?gene2_upstream_region RO:0002350 ?pairwise_similarity .\n",
      " FILTER(?gene1_upstream_region != ?gene2_upstream_region) \n",
      " ?candidate SO:adjacent_to ?gene2_upstream_region .\n",
      " ?pairwise_similarity SWO:0000425 ?score .\n",
      " ?gene1_upstream_region GENO:0000678 '1k' .\n",
      " FILTER(?fagene != ?candidate)\n",
      " }\n",
      " ORDER by DESC(?score)\n",
      "\n"
     ]
    }
   ],
   "source": [
    "# small changes to expose the similarity score\n",
    "selectstr = ' '.join([\n",
    "    'SELECT ?fagene ?candidate ?score\\n',\n",
    "    'WHERE{\\n',\n",
    "        '?fagene', 'SO:adjacent_to', '?gene1_upstream_region .\\n', \n",
    "        '?gene1_upstream_region',  TT['RO:member of'], '?pairwise_similarity .\\n',\n",
    "        '?gene2_upstream_region',  TT['RO:member of'], '?pairwise_similarity .\\n',\n",
    "        'FILTER(?gene1_upstream_region != ?gene2_upstream_region) \\n', \n",
    "        '?candidate', 'SO:adjacent_to', '?gene2_upstream_region .\\n',\n",
    "        '?pairwise_similarity', TT['SWO:Similarity score'], '?score .\\n', \n",
    "        '?gene1_upstream_region', TT['GENO:has_extent'], \"'1k' .\\n\",\n",
    "    'FILTER(?fagene != ?candidate)\\n',\n",
    "    #'FILTER(xsd:float(?score) >= 0.5)\\n',\n",
    "    '}\\n',\n",
    "    'ORDER by DESC(?score)\\n'\n",
    "    ])\n",
    "query = prefixns + \"\\n\" + selectstr\n",
    "print(selectstr)"
   ]
  },
  {
   "cell_type": "code",
   "execution_count": 9,
   "metadata": {
    "collapsed": true
   },
   "outputs": [],
   "source": [
    "# apply our query to each gene in the FA Core complex\n",
    "# lowering the association threshold to 1 part in 5 similar \n",
    "# keeping the score for consideration in later processing\n",
    "candidate_core_complex = {}\n",
    "for fagene in core_complex:\n",
    "    payload = {\n",
    "        'format' : 'json', \n",
    "        '$fagene': '<' + re.sub('NCBIGene:',PREFIX['NCBIGene'],fagene) + '>',\n",
    "        'query'  : query\n",
    "    }\n",
    "    response = requests.post(bg_host + '/blazegraph/sparql', data=payload)\n",
    "    # print(response)\n",
    "    resp = json.loads(response.text)\n",
    "    # print(response.text)\n",
    "    \n",
    "    if resp['results']['bindings'] != []:\n",
    "        # print(core_complex[fagene], '\\t', \n",
    "              # re.sub('NCBIGene:', PREFIX['NCBIGene'], fagene))\n",
    "        candidate_core_complex[core_complex[fagene]]={}\n",
    "        for hit in resp['results']['bindings']:\n",
    "            candidate_core_complex[core_complex[fagene]][\n",
    "                hit['candidate']['value']] = hit['score']['value']\n",
    "            # print('\\t', hit['candidate']['value'], hit['score']['value'])"
   ]
  },
  {
   "cell_type": "code",
   "execution_count": 10,
   "metadata": {
    "collapsed": true
   },
   "outputs": [],
   "source": [
    "# print(candidate_core_complex)"
   ]
  },
  {
   "cell_type": "code",
   "execution_count": 11,
   "metadata": {
    "collapsed": true
   },
   "outputs": [],
   "source": [
    "# the next FA geneset is effector_proteins\n",
    "candidate_effector_proteins = {}\n",
    "for fagene in effector_proteins:\n",
    "    payload = {\n",
    "        'format' : 'json', \n",
    "        '$fagene': '<' + re.sub('NCBIGene:',PREFIX['NCBIGene'],fagene) + '>',\n",
    "        'query'  : query\n",
    "    }\n",
    "    response = requests.post(bg_host + '/blazegraph/sparql', data=payload)\n",
    "    # print(response)\n",
    "    resp = json.loads(response.text)\n",
    "    # print(response.text)\n",
    "    \n",
    "    if resp['results']['bindings'] != []:\n",
    "        # print(effector_proteins[fagene], '\\t', \n",
    "              # re.sub('NCBIGene:', PREFIX['NCBIGene'],fagene))\n",
    "        candidate_effector_proteins[effector_proteins[fagene]]={}\n",
    "        for hit in resp['results']['bindings']:\n",
    "            candidate_effector_proteins[effector_proteins[fagene]][\n",
    "                    hit['candidate']['value']] = hit['score']['value']\n",
    "            # print('\\t', hit['candidate']['value'], hit['score']['value'])"
   ]
  },
  {
   "cell_type": "code",
   "execution_count": 12,
   "metadata": {
    "collapsed": true
   },
   "outputs": [],
   "source": [
    "# and finally associated_proteins\n",
    "candidate_associated_proteins = {}\n",
    "for fagene in associated_proteins:\n",
    "    payload = {\n",
    "        'format' : 'json', \n",
    "        '$fagene': '<' + re.sub('NCBIGene:',PREFIX['NCBIGene'],fagene) + '>',\n",
    "        'query'  : query\n",
    "    }\n",
    "    response = requests.post(bg_host + '/blazegraph/sparql', data=payload)\n",
    "    # print(response)\n",
    "    resp = json.loads(response.text)\n",
    "    # print(response.text)\n",
    "    \n",
    "    if resp['results']['bindings'] != []:\n",
    "        # print(associated_proteins[fagene], '\\t', \n",
    "              # re.sub('NCBIGene:', PREFIX['NCBIGene'],fagene))\n",
    "        candidate_associated_proteins[associated_proteins[fagene]]={}\n",
    "        for hit in resp['results']['bindings']:\n",
    "            candidate_associated_proteins[\n",
    "                associated_proteins[fagene]][\n",
    "                   hit['candidate']['value']] = hit['score']['value']\n",
    "            # print('\\t', hit['candidate']['value'], hit['score']['value'])"
   ]
  },
  {
   "cell_type": "code",
   "execution_count": 13,
   "metadata": {
    "collapsed": true
   },
   "outputs": [],
   "source": [
    "# Researchers would like to see gene symbols. \n",
    "# Here we are calling HGNC for only the freshest in gene fashion wear.\n",
    "# http://rest.genenames.org/search/entrez_id/673\n",
    "def entrez_symbol(ncbigene_uri):\n",
    "    api_uri = re.sub(\n",
    "        'http://www.ncbi.nlm.nih.gov/gene/',\n",
    "        'http://rest.genenames.org/search/entrez_id/', ncbigene_uri)\n",
    "    response = requests.get(api_uri, headers={'Accept': 'application/json'})\n",
    "    if str(response) == '<Response [200]>':\n",
    "        hgnc = json.loads(response.text)\n",
    "        if hgnc['response']['numFound'] > 0:\n",
    "            symbol = hgnc['response']['docs'][0]['symbol']\n",
    "        else:\n",
    "            symbol = \"\"  # none found    \n",
    "    else: # it will be ugly so someone will notice\n",
    "        symbol = 'ERROR ' + api_uri + ' ' + str(response)\n",
    "    return symbol"
   ]
  },
  {
   "cell_type": "markdown",
   "metadata": {},
   "source": [
    "    # quick tests\n",
    "    entrez_symbol('http://www.ncbi.nlm.nih.gov/gene/672')"
   ]
  },
  {
   "cell_type": "markdown",
   "metadata": {},
   "source": [
    "    entrez_symbol('http://www.ncbi.nlm.nih.gov/gene/-1')"
   ]
  },
  {
   "cell_type": "code",
   "execution_count": 14,
   "metadata": {},
   "outputs": [
    {
     "name": "stdout",
     "output_type": "stream",
     "text": [
      "candidate_effector_proteins set has (4) genes with hits\n",
      "   PALB2 (21) associations\n",
      "   SLX4 (67) associations\n",
      "   XRCC2 (9) associations\n",
      "   BRIP1 (7) associations\n",
      "candidate_associated_proteins set has (4) genes with hits\n",
      "   CENPX (31) associations\n",
      "   RFWD3 (11) associations\n",
      "   FAAP20 (30) associations\n",
      "   FAAP100 (30) associations\n",
      "candidate_core_complex set has (5) genes with hits\n",
      "   UBE2T (28) associations\n",
      "   FANCC (21) associations\n",
      "   FANCA (36) associations\n",
      "   FANCL (7) associations\n",
      "   FANCB (13) associations\n"
     ]
    }
   ],
   "source": [
    "# what have we got in the candidate sets?\n",
    "\n",
    "# homoiconic coders, avert your eyes\n",
    "fa_sets={\n",
    "    'candidate_core_complex' : candidate_core_complex,\n",
    "    'candidate_effector_proteins' : candidate_effector_proteins,\n",
    "    'candidate_associated_proteins' : candidate_associated_proteins\n",
    "}\n",
    "# keep a stash of gene symbols\n",
    "ncbigene_symbol = {}\n",
    "hits = []\n",
    "for fas in fa_sets:\n",
    "    print(fas +' set has', '(' + str(len(fa_sets[fas])) +') genes with hits')\n",
    "    for fa in fa_sets[fas]:\n",
    "        print('  ', fa, '(' + str(len(fa_sets[fas][fa])) +') associations')\n",
    "        \n",
    "        for c in fa_sets[fas][fa]:\n",
    "            # try to be nice to our friends at HGNC\n",
    "            if c not in ncbigene_symbol:\n",
    "                ncbigene_symbol[c] = entrez_symbol(c)\n",
    "            symbol = ncbigene_symbol[c]\n",
    "            #print(symbol,'\\t', c, fa_sets[fas][fa][c])\n",
    "            hits.append([fa_sets[fas][fa][c], symbol, c])\n",
    "    \n",
    "# reorder the set   \n",
    "hits.sort()       "
   ]
  },
  {
   "cell_type": "markdown",
   "metadata": {},
   "source": [
    "Currently 13 of the 28 faconi genes have TFBS motif similarity associations.   \n",
    "Do any of the hits occur more than once?    \n",
    "They may be better candidates or just genes with extra boring uprtream regions."
   ]
  },
  {
   "cell_type": "code",
   "execution_count": 15,
   "metadata": {},
   "outputs": [
    {
     "name": "stdout",
     "output_type": "stream",
     "text": [
      "2 \t CYB5RL\n",
      "2 \t PDK4\n",
      "2 \t PGAP3\n",
      "2 \t UNKL\n",
      "2 \t NUP43\n",
      "2 \t PGK2\n",
      "2 \t MCAT\n",
      "2 \t DPM3\n",
      "2 \t EMC7\n",
      "2 \t FBXW9\n",
      "2 \t RGL2\n",
      "2 \t TBCCD1\n",
      "2 \t WDR27\n",
      "2 \t HYI\n",
      "2 \t C16orf46\n",
      "2 \t LRRC41\n",
      "2 \t ZNF384\n",
      "2 \t TMEM230\n",
      "2 \t RBM23\n",
      "2 \t OTUD7B\n",
      "2 \t KIAA0825\n",
      "2 \t PPIL1\n",
      "2 \t MUT\n",
      "2 \t ALDH4A1\n",
      "2 \t NTHL1\n",
      "2 \t PPID\n",
      "2 \t C2orf68\n",
      "2 \t ZFAT\n",
      "2 \t LYSMD1\n",
      "2 \t ZNF20\n",
      "2 \t GOLGB1\n",
      "2 \t DHX57\n",
      "2 \t FBXW2\n",
      "2 \t IARS\n",
      "2 \t LRRC47\n"
     ]
    }
   ],
   "source": [
    "candidate_hit_count = {}\n",
    "for h in hits:\n",
    "    if h[1] in candidate_hit_count:\n",
    "        candidate_hit_count[h[1]]+=1\n",
    "    else: \n",
    "        candidate_hit_count[h[1]]=1 \n",
    "\n",
    "for g in  candidate_hit_count : \n",
    "    if candidate_hit_count[g] > 1:\n",
    "        print(candidate_hit_count[g], '\\t', g)"
   ]
  },
  {
   "cell_type": "markdown",
   "metadata": {},
   "source": [
    "---\n",
    "Are any of these hits also known FA genes?"
   ]
  },
  {
   "cell_type": "code",
   "execution_count": 17,
   "metadata": {},
   "outputs": [
    {
     "name": "stdout",
     "output_type": "stream",
     "text": [
      "['0.25', 'FAAP100', 'http://www.ncbi.nlm.nih.gov/gene/80233']\n",
      "['0.25', 'PALB2', 'http://www.ncbi.nlm.nih.gov/gene/79728']\n"
     ]
    }
   ],
   "source": [
    "#print(fagenes[1])\n",
    "fairi=[]\n",
    "for fagene in fagenes:\n",
    "    fairi.append(re.sub('NCBIGene:',PREFIX['NCBIGene'],fagene))\n",
    "#print(fairi[1])    \n",
    "#print(hits[1][2])\n",
    "\n",
    "for h in hits:\n",
    "    if  h[2] in fairi:\n",
    "        print(h)"
   ]
  },
  {
   "cell_type": "markdown",
   "metadata": {},
   "source": [
    "I would have been slightly dissapointed if there were not any.  \n",
    "note:\n",
    "both FAAP100 and PALB2 are also included in the 13 FA genes which did find associations. \n"
   ]
  },
  {
   "cell_type": "code",
   "execution_count": null,
   "metadata": {
    "collapsed": true
   },
   "outputs": [],
   "source": []
  }
 ],
 "metadata": {
  "kernelspec": {
   "display_name": "Python 3",
   "language": "python",
   "name": "python3"
  },
  "language_info": {
   "codemirror_mode": {
    "name": "ipython",
    "version": 3
   },
   "file_extension": ".py",
   "mimetype": "text/x-python",
   "name": "python",
   "nbconvert_exporter": "python",
   "pygments_lexer": "ipython3",
   "version": "3.5.2"
  }
 },
 "nbformat": 4,
 "nbformat_minor": 2
}
