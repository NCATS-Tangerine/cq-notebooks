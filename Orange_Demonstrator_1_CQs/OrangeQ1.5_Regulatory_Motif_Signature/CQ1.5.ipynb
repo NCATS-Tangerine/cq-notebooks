{
 "cells": [
  {
   "cell_type": "markdown",
   "metadata": {
    "deletable": true,
    "editable": true
   },
   "source": [
    "Q1.5 \n",
    "This query aims to expand the FA-ensemblage gene set based on upstream TF binding site motif patterns."
   ]
  },
  {
   "cell_type": "markdown",
   "metadata": {
    "deletable": true,
    "editable": true
   },
   "source": [
    "Data  \n",
    " - FA gene sets  'https://github.com/NCATS-Tangerine/cq-notebooks/tree/master/FA_gene_sets'\n",
    " - Jaspar motif simalarity sparql endpoint at https://tfbsmotif.ncats.io\n"
   ]
  },
  {
   "cell_type": "code",
   "execution_count": 1,
   "metadata": {
    "collapsed": true,
    "deletable": true,
    "editable": true
   },
   "outputs": [],
   "source": [
    "import csv\n",
    "import yaml\n",
    "import requests\n",
    "import json\n",
    "import re\n",
    "import os"
   ]
  },
  {
   "cell_type": "markdown",
   "metadata": {
    "deletable": true,
    "editable": true
   },
   "source": [
    "NCATS blazegraph instance is up.\n",
    "\n",
    "Untill the hackathon blazegraph instance was available    \n",
    "I ran a local instance [described here](https://github.com/NCATS-Tangerine/cq-notebooks/blob/master/Orange_Demonstrator_1_CQs/OrangeQ1.5_Regulatory_Motif_Signature/LocalBlazeGraph.ipynb)\n"
   ]
  },
  {
   "cell_type": "code",
   "execution_count": 2,
   "metadata": {
    "collapsed": true,
    "deletable": true,
    "editable": true
   },
   "outputs": [],
   "source": [
    "#bg_host = 'http://localhost:9999'\n",
    "bg_host = 'https://tfbsmotif.ncats.io'\n",
    "bg = bg_host + '/blazegraph/sparql?format=json&query=' "
   ]
  },
  {
   "cell_type": "markdown",
   "metadata": {
    "deletable": true,
    "editable": true
   },
   "source": [
    "which offers:  \n",
    "\n",
    "    rdf:Description rdf:nodeID=\"service\"\n",
    "        rdf:type \n",
    "            rdf:resource=\"http://www.w3.org/ns/sparql-service-description#Service\"\n",
    "        endpoint \n",
    "            rdf:resource=\"http://localhost:9999/blazegraph/sparql\"\n",
    "        endpoint \n",
    "            rdf:resource=\"http://localhost:9999/bigdata/LBS/sparql\"\n",
    "            \n",
    "Trying the blazegraph/sparql endpoint yields"
   ]
  },
  {
   "cell_type": "code",
   "execution_count": 3,
   "metadata": {
    "collapsed": false,
    "deletable": true,
    "editable": true
   },
   "outputs": [
    {
     "name": "stdout",
     "output_type": "stream",
     "text": [
      "{\n",
      "  \"head\" : {\n",
      "    \"vars\" : [ \"g1\" ]\n",
      "  },\n",
      "  \"results\" : {\n",
      "    \"bindings\" : [ {\n",
      "      \"g1\" : {\n",
      "        \"type\" : \"uri\",\n",
      "        \"value\" : \"http://www.ncbi.nlm.nih.gov/gene/6309\"\n",
      "      }\n",
      "    } ]\n",
      "  }\n",
      "}\n"
     ]
    }
   ],
   "source": [
    "x = requests.get(bg + 'SELECT ?g1 WHERE{?g1 <http://purl.obolibrary.org/obo/SO_adjacent_to> ?o} LIMIT 1')\n",
    "print(x.text)"
   ]
  },
  {
   "cell_type": "markdown",
   "metadata": {
    "deletable": true,
    "editable": true
   },
   "source": [
    "Blazegraph is working localy and remotly,   \n",
    "there is a process in place to refresh it \n",
    "when I update the Jaspar RDF.\n",
    "We are using the RDF stored in Blazegraph to address the \n",
    "Fanconi Anemia transcription factor binding site \n",
    "motif similarity question in this notebook."
   ]
  },
  {
   "cell_type": "code",
   "execution_count": 4,
   "metadata": {
    "collapsed": false,
    "deletable": true,
    "editable": true
   },
   "outputs": [
    {
     "name": "stdout",
     "output_type": "stream",
     "text": [
      "PREFIX GENO: <http://purl.obolibrary.org/obo/GENO_>\n",
      "PREFIX RO: <http://purl.obolibrary.org/obo/RO_>\n",
      "PREFIX SO: <http://purl.obolibrary.org/obo/SO_>\n",
      "PREFIX SWO: <http://www.ebi.ac.uk/efo/swo/SWO_>\n",
      "PREFIX rdf: <http://www.w3.org/1999/02/22-rdf-syntax-ns#>\n",
      "PREFIX rdfs: <http://www.w3.org/2000/01/rdf-schema#>\n",
      "PREFIX OIO: <http://www.geneontology.org/formats/oboInOwl#>\n",
      "PREFIX NCBIGene: <http://www.ncbi.nlm.nih.gov/gene/>\n",
      "PREFIX JASPAR: <http://fantom.gsc.riken.jp/5/sstar/JASPAR_motif:>\n",
      "\n"
     ]
    }
   ],
   "source": [
    "# We want to use existing Monarch Dipper translation tables when constructing SPARQL queries\n",
    "# \n",
    "yamlurl='https://raw.githubusercontent.com/TomConlin/Jaspar_FA/master/translation_tables/curie_map.yaml'\n",
    "rsponse = requests.get(yamlurl)\n",
    "PREFIX = yaml.load(rsponse.text)\n",
    "# print(PREFIX)\n",
    "\n",
    "yamlurl='https://raw.githubusercontent.com/TomConlin/Jaspar_FA/master/translation_tables/translation_table.yaml'\n",
    "rsponse = requests.get(yamlurl)\n",
    "TT = yaml.load(rsponse.text)\n",
    "# print(TT)\n",
    "\n",
    "# redecorate the curie base IRI map \n",
    "# to look like a sparql prefix namespace map  \n",
    "# except the bnode: skolemIRI which is given a java \n",
    "#     \"org.openrdf.query.MalformedQueryException:\n",
    "# for no good reason\n",
    "\n",
    "prefixns = \"\"\n",
    "for p in PREFIX: \n",
    "    if len(p) > 1:\n",
    "       prefixns += 'PREFIX ' + p + ': <' + PREFIX[p] + '>\\n'\n",
    "\n",
    "print(prefixns)"
   ]
  },
  {
   "cell_type": "markdown",
   "metadata": {
    "deletable": true,
    "editable": true
   },
   "source": [
    "The Fanconi Anemia genes come as symbols/aliases in three sets [here](https://docs.google.com/spreadsheets/d/1yX-5sfrC3vrahf4_k7-5rl4Oqzm853ollIMmUo1PTc0)  \n",
    "I converted them to NCBI gene identifiers and current symbols [here](https://github.com/NCATS-Tangerine/cq-notebooks/tree/master/FA_gene_sets)"
   ]
  },
  {
   "cell_type": "markdown",
   "metadata": {
    "deletable": true,
    "editable": true
   },
   "source": [
    "If you need the FA gene sets from a different repo you can use   \n",
    " - \"https://raw.githubusercontent.com/NCATS-Tangerine/cq-notebooks/master/FA_gene_sets/FA_1_core_complex.txt\"\n",
    " - \"https://raw.githubusercontent.com/NCATS-Tangerine/cq-notebooks/master/FA_gene_sets/FA_2_effector_proteins.txt\"\n",
    " - \"https://raw.githubusercontent.com/NCATS-Tangerine/cq-notebooks/master/FA_gene_sets/FA_3_associated_proteins.txt\" \n",
    " \n",
    "but here they are just in a parent directory  \n",
    "(unless someone decides to reorganize the directories)"
   ]
  },
  {
   "cell_type": "markdown",
   "metadata": {
    "deletable": true,
    "editable": true
   },
   "source": [
    "build a data structure to hold \n",
    " - the (three) sets of fa genes \n",
    " - the collection of hits for each fa gene   \n",
    "maybe something like:  \n",
    "    \n",
    "```\n",
    "fs_sets {\n",
    "    set_name: {\n",
    "        fa_curie: {\n",
    "            fa_symbol:,\n",
    "            hits: {\n",
    "                curie: {\n",
    "                    iri:,\n",
    "                    symbol:,\n",
    "                    score:\n",
    "                },\n",
    "                ...\n",
    "            }  \n",
    "        }, ...\n",
    "  }, ...\n",
    "}\n",
    "```"
   ]
  },
  {
   "cell_type": "code",
   "execution_count": 5,
   "metadata": {
    "collapsed": false,
    "deletable": true,
    "editable": true
   },
   "outputs": [
    {
     "name": "stdout",
     "output_type": "stream",
     "text": [
      "In the effector_proteins set we found  \t11 genes\n",
      "In the associated_proteins set we found  \t5 genes\n",
      "In the core_complex set we found  \t11 genes\n"
     ]
    }
   ],
   "source": [
    "# because I put numbers in the filenames to order them\n",
    "fa_sets={\n",
    "    'core_complex' : {'num': '1'},\n",
    "    'effector_proteins' :  {'num': '2'},\n",
    "    'associated_proteins' : {'num': '3'}\n",
    "}\n",
    "\n",
    "# keep a handy list too\n",
    "fagenes = []\n",
    "\n",
    "for fa_set in fa_sets:\n",
    "    path = '../../FA_gene_sets/FA_' + fa_sets[fa_set]['num'] + '_' + fa_set + '.txt'\n",
    "    with open(path, 'r') as tabfile:\n",
    "        filereader = csv.reader(tabfile, delimiter='\\t')\n",
    "        fa_sets[fa_set].pop('num') # was just there for file path\n",
    "        for row in filereader:   \n",
    "            (fa_curie, fa_symbol) = row\n",
    "            fagenes.append(fa_curie)\n",
    "            fa_sets[fa_set][fa_curie]= {\n",
    "                    'symbol': fa_symbol, \n",
    "                    'iri' :   re.sub('NCBIGene:',PREFIX['NCBIGene'],fa_curie),\n",
    "                    'hits' : {}\n",
    "            }\n",
    "    print('In the ' + fa_set + ' set we found  \\t' + str(len(fa_sets[fa_set])) + ' genes')\n"
   ]
  },
  {
   "cell_type": "code",
   "execution_count": 6,
   "metadata": {
    "collapsed": false,
    "deletable": true,
    "editable": true
   },
   "outputs": [
    {
     "name": "stdout",
     "output_type": "stream",
     "text": [
      "core_complex includes:\n",
      "\tFANCA\n",
      "\tFANCB\n",
      "\tFANCC\n",
      "\tFANCE\n",
      "\tFANCF\n",
      "\tFANCG\n",
      "\tFANCL\n",
      "\tFANCM\n",
      "\tFANCD2\n",
      "\tFANCI\n",
      "\tUBE2T\n",
      "effector_proteins includes:\n",
      "\tBRCA2\n",
      "\tBRIP1\n",
      "\tPALB2\n",
      "\tRAD51C\n",
      "\tSLX4\n",
      "\tERCC4\n",
      "\tRAD51\n",
      "\tBRCA1\n",
      "\tMAD2L2\n",
      "\tXRCC2\n",
      "\tRFWD3\n",
      "associated_proteins includes:\n",
      "\tFAAP100\n",
      "\tFAAP24\n",
      "\tFAAP20\n",
      "\tCENPS\n",
      "\tCENPX\n"
     ]
    }
   ],
   "source": [
    "# sanity check input\n",
    "for fas in fa_sets:\n",
    "    print(fas + \" includes:\")\n",
    "    for fa in fa_sets[fas]:\n",
    "        print(\"\\t\" + fa_sets[fas][fa]['symbol'] )"
   ]
  },
  {
   "cell_type": "markdown",
   "metadata": {
    "deletable": true,
    "editable": true
   },
   "source": [
    "We can get all the triples patterns which are available in 'jaspar.nt' from  \n",
    "this [GraphViz dot file](https://github.com/TomConlin/Jaspar_FA/blob/master/jaspar_target_model.gv) since we used it to guide generating the RDF data in the first place.  \n",
    "\n",
    "![](https://github.com/TomConlin/Jaspar_FA/blob/master/jaspar_target_model.png?raw=true)"
   ]
  },
  {
   "cell_type": "markdown",
   "metadata": {
    "deletable": true,
    "editable": true
   },
   "source": [
    "\n",
    "\n",
    "Composing the query by atomizing the GraphViz elements   \n",
    "and selectivly translating with the same tables   \n",
    "the data was generates with means  \n",
    "the SPARQL query remains free of semanticly obsolete clauses.\n",
    "\n",
    "I did this manually, but in general, the rules were roughly:\n",
    "  \n",
    "-    remove angle brackets\n",
    "-    add trailing dot \n",
    "-    replace BNODE: with __?__\n",
    "-    if the element (predicate) is a curie then wrap it in a TT lookup\n",
    "-    if the object is a LITERAL wrap it in quotes\n",
    "-    give the items of intrest specific __?names__\n",
    "-    formating to suit sensibilities"
   ]
  },
  {
   "cell_type": "markdown",
   "metadata": {
    "deletable": true,
    "editable": true
   },
   "source": [
    "In particular we want: \n",
    "    candidate genes which share motif similarity with FA genes\n",
    "    \n",
    "    <NCBIGene:fagene><SO:adjacent_to><BNODE:gene1_upstream_region>\n",
    "    <BNODE:gene1_upstream_region><RO:member of><BNODE:pairwise_similarity>\n",
    "    <BNODE:gene2_upstream_region><RO:member of><BNODE:pairwise_similarity>\n",
    "    <NCBIGene:xyz><SO:adjacent_to><BNODE:gene2_upstream_region> \n",
    "    \n",
    "    when <NCBIGene:xyz> is not <NCBIGene:fagene> \n",
    "    \n",
    "we may also be interested in limiting by region extent size   \n",
    "or Jaccard similarity score\n",
    "\n",
    "    <BNODE:pairwise_similarity><SWO:Similarity score><0.73>\n",
    "    <BNODE:gene1_upstream_region><GENO:has_extent><1k>\n",
    "    \n",
    "    "
   ]
  },
  {
   "cell_type": "markdown",
   "metadata": {
    "deletable": true,
    "editable": true
   },
   "source": [
    "Much of the effort to this point has been developing and maintaining a context  \n",
    "in which we are able to __write a readable query__.  \n",
    "\n",
    "Here, given a (fa) gene, we are looking for other genes   \n",
    "with optimal matches (similarity=1) within their 1k start regions."
   ]
  },
  {
   "cell_type": "code",
   "execution_count": 6,
   "metadata": {
    "collapsed": false,
    "deletable": true,
    "editable": true
   },
   "outputs": [
    {
     "name": "stdout",
     "output_type": "stream",
     "text": [
      "PREFIX GENO: <http://purl.obolibrary.org/obo/GENO_>\n",
      "PREFIX RO: <http://purl.obolibrary.org/obo/RO_>\n",
      "PREFIX SO: <http://purl.obolibrary.org/obo/SO_>\n",
      "PREFIX SWO: <http://www.ebi.ac.uk/efo/swo/SWO_>\n",
      "PREFIX rdf: <http://www.w3.org/1999/02/22-rdf-syntax-ns#>\n",
      "PREFIX rdfs: <http://www.w3.org/2000/01/rdf-schema#>\n",
      "PREFIX OIO: <http://www.geneontology.org/formats/oboInOwl#>\n",
      "PREFIX NCBIGene: <http://www.ncbi.nlm.nih.gov/gene/>\n",
      "PREFIX JASPAR: <http://fantom.gsc.riken.jp/5/sstar/JASPAR_motif:>\n",
      "\n",
      "SELECT ?fagene ?candidate\n",
      " WHERE{\n",
      " ?fagene SO:adjacent_to ?gene1_upstream_region .\n",
      " ?gene1_upstream_region RO:0002350 ?pairwise_similarity .\n",
      " ?gene2_upstream_region RO:0002350 ?pairwise_similarity .\n",
      " FILTER(?gene1_upstream_region != ?gene2_upstream_region) \n",
      " ?candidate SO:adjacent_to ?gene2_upstream_region .\n",
      " ?pairwise_similarity SWO:0000425 '1' .\n",
      " ?gene1_upstream_region GENO:0000678 '1k' .\n",
      " FILTER(?fagene != ?candidate)\n",
      "}\n"
     ]
    }
   ],
   "source": [
    "selectstr = ' '.join([\n",
    "    'SELECT ?fagene ?candidate\\n',\n",
    "    'WHERE{\\n',\n",
    "        '?fagene', 'SO:adjacent_to', '?gene1_upstream_region .\\n', \n",
    "        '?gene1_upstream_region',  TT['RO:member of'], '?pairwise_similarity .\\n',\n",
    "        '?gene2_upstream_region',  TT['RO:member of'], '?pairwise_similarity .\\n',\n",
    "        'FILTER(?gene1_upstream_region != ?gene2_upstream_region) \\n', \n",
    "        '?candidate', 'SO:adjacent_to', '?gene2_upstream_region .\\n',\n",
    "        '?pairwise_similarity', TT['SWO:Similarity score'], \"'1' .\\n\", \n",
    "        '?gene1_upstream_region', TT['GENO:has_extent'], \"'1k' .\\n\",\n",
    "    'FILTER(?fagene != ?candidate)\\n}'\n",
    "    ]) \n",
    "\n",
    "# note the absense of opaque identifiers the query engine actually uses\n",
    "\n",
    "query_1 = prefixns + \"\\n\" + selectstr\n",
    "print(query_1)"
   ]
  },
  {
   "cell_type": "code",
   "execution_count": 7,
   "metadata": {
    "collapsed": false,
    "deletable": true,
    "editable": true,
    "scrolled": false
   },
   "outputs": [
    {
     "name": "stdout",
     "output_type": "stream",
     "text": [
      "NCBIGene:29089 \n",
      " http://www.ncbi.nlm.nih.gov/gene/29089\n",
      "\t http://www.ncbi.nlm.nih.gov/gene/3608\n",
      "\t http://www.ncbi.nlm.nih.gov/gene/171392\n",
      "\t http://www.ncbi.nlm.nih.gov/gene/340252\n",
      "\t http://www.ncbi.nlm.nih.gov/gene/8125\n",
      "\t http://www.ncbi.nlm.nih.gov/gene/54958\n"
     ]
    }
   ],
   "source": [
    "# apply our query to each gene in just the FA Core complex\n",
    "candidate_set = {}\n",
    "core_complex = fa_sets['core_complex']\n",
    "for fagene in core_complex: \n",
    "    payload = {\n",
    "        'format' : 'json', \n",
    "        # '$fagene':  fagene, \n",
    "        # BlazeGraph is not accepting the curie. Wants IRI or LITERAL\n",
    "        '$fagene': '<' + re.sub('NCBIGene:',PREFIX['NCBIGene'],fagene) + '>',\n",
    "        'query': query_1\n",
    "    }\n",
    "    response = requests.post(bg_host + '/blazegraph/sparql', data=payload)\n",
    " \n",
    "    resp = json.loads(response.text)\n",
    "    if resp['results']['bindings'] != []:\n",
    "        print(fagene, '\\n', \n",
    "              re.sub('NCBIGene:', PREFIX['NCBIGene'],fagene))\n",
    "        candidate_set[fagene] = []\n",
    "        for hit in resp['results']['bindings']:\n",
    "            candidate_set[fagene].append(hit['candidate']['value'])\n",
    "            print('\\t', hit['candidate']['value']) "
   ]
  },
  {
   "cell_type": "markdown",
   "metadata": {
    "deletable": true,
    "editable": true
   },
   "source": [
    "UBE2T (NCBIGene:29089) is the only gene in the Fancomi Anemia core complex  \n",
    "with __optimal__ motif similarity with other human genes  \n",
    "Briefly those associated genes are:   \n",
    "\n",
    "- ILF2 http://www.ncbi.nlm.nih.gov/gene/3608  \n",
    "    a transcription factor required for T-cell expression of the interleukin 2 gene\n",
    "\n",
    "- ZNF675 https://www.ncbi.nlm.nih.gov/gene/171392  \n",
    "    the novel zinc finger protein TIZ may play a role during osteoclast differentiation by modulating TRAF6 signaling activity.\n",
    "\n",
    "- ZNF680 http://www.ncbi.nlm.nih.gov/gene/340252  \n",
    "    obsevered expressed in thyroid but fairly uncharaterizied\n",
    "\n",
    "- ANP32A http://www.ncbi.nlm.nih.gov/gene/8125  \n",
    "    expressed lymph nodes & bone marrow \n",
    "    The tumor suppressor acidic nuclear phosphoprotein 32 family, member A \n",
    "\n",
    "- TMEM160 http://www.ncbi.nlm.nih.gov/gene/54958  \n",
    "    Not much to see here\n",
    "\n",
    "----\n",
    "Where to go next\n",
    "\n",
    "- We can look for ideal similarity in larger upstream regions but counter intiutivly larger regions average fewer associations because the number of distinct motifs between the larger regions grows faster than the number of motifs the regions will have in common.  (and I dropped any that dipped below the negotiable threshold of, one part in five)\n",
    "- We can look for less ideal similarity in the same 1k region \n",
    "- We can look for less ideal similarity in larger regions  \n",
    "\n",
    "For now I am going with looking for some similarity within the same 1k start regions."
   ]
  },
  {
   "cell_type": "code",
   "execution_count": 8,
   "metadata": {
    "collapsed": false,
    "deletable": true,
    "editable": true
   },
   "outputs": [
    {
     "name": "stdout",
     "output_type": "stream",
     "text": [
      "SELECT ?fagene ?candidate ?score\n",
      " WHERE{\n",
      " ?fagene SO:adjacent_to ?gene1_upstream_region .\n",
      " ?gene1_upstream_region RO:0002350 ?pairwise_similarity .\n",
      " ?gene2_upstream_region RO:0002350 ?pairwise_similarity .\n",
      " FILTER(?gene1_upstream_region != ?gene2_upstream_region) \n",
      " ?candidate SO:adjacent_to ?gene2_upstream_region .\n",
      " ?pairwise_similarity SWO:0000425 ?score .\n",
      " ?gene1_upstream_region GENO:0000678 '1k' .\n",
      " FILTER(?fagene != ?candidate)\n",
      " }\n",
      " ORDER by DESC(?score)\n",
      "\n"
     ]
    }
   ],
   "source": [
    "# small changes to expose the similarity score\n",
    "selectstr = ' '.join([\n",
    "    'SELECT ?fagene ?candidate ?score\\n',\n",
    "    'WHERE{\\n',\n",
    "        '?fagene', 'SO:adjacent_to', '?gene1_upstream_region .\\n', \n",
    "        '?gene1_upstream_region',  TT['RO:member of'], '?pairwise_similarity .\\n',\n",
    "        '?gene2_upstream_region',  TT['RO:member of'], '?pairwise_similarity .\\n',\n",
    "        'FILTER(?gene1_upstream_region != ?gene2_upstream_region) \\n', \n",
    "        '?candidate', 'SO:adjacent_to', '?gene2_upstream_region .\\n',\n",
    "        '?pairwise_similarity', TT['SWO:Similarity score'], '?score .\\n', \n",
    "        '?gene1_upstream_region', TT['GENO:has_extent'], \"'1k' .\\n\",\n",
    "    'FILTER(?fagene != ?candidate)\\n',\n",
    "    #'FILTER(xsd:float(?score) >= 0.5)\\n',\n",
    "    '}\\n',\n",
    "    'ORDER by DESC(?score)\\n'\n",
    "    ])\n",
    "query = prefixns + \"\\n\" + selectstr\n",
    "print(selectstr)"
   ]
  },
  {
   "cell_type": "code",
   "execution_count": 9,
   "metadata": {
    "collapsed": true,
    "deletable": true,
    "editable": true
   },
   "outputs": [],
   "source": [
    "# query the sparql endpoint with each of the FA genes in all the sets\n",
    "# for other genes with similar motif patterns in their upstream regions \n",
    "for fa_set in fa_sets:\n",
    "    for fagene in fa_sets[fa_set]:\n",
    "        payload = {\n",
    "            'format' : 'json', \n",
    "            '$fagene': '<' + re.sub('NCBIGene:',PREFIX['NCBIGene'],fagene) + '>',\n",
    "            'query'  : query\n",
    "        }\n",
    "        response = requests.post(bg_host + '/blazegraph/sparql', data=payload)\n",
    "        # print(response)\n",
    "        resp = json.loads(response.text)\n",
    "        # print(response.text)\n",
    "    \n",
    "        if resp['results']['bindings'] != []:\n",
    "            # print(fa_sets[fa_set][fagene], '\\t', \n",
    "              # re.sub('NCBIGene:', PREFIX['NCBIGene'], fagene))\n",
    "            fa_sets[fa_set][fagene]['hits'] = {}\n",
    "        \n",
    "            for hit in resp['results']['bindings']:\n",
    "                fa_sets[fa_set][fagene]['hits'][ hit['candidate']['value'] ] = {\n",
    "                    'score': hit['score']['value']}\n",
    "                # print('\\t', hit['candidate']['value'], hit['score']['value'])"
   ]
  },
  {
   "cell_type": "code",
   "execution_count": 10,
   "metadata": {
    "collapsed": true,
    "deletable": true,
    "editable": true
   },
   "outputs": [],
   "source": [
    "# Researchers would rather to see gene symbols. \n",
    "# Here we are relying on HGNC \n",
    "# for up to date human gene nomenclature.\n",
    "\n",
    "def entrez_symbol(ncbigene_uri):\n",
    "    api_uri = re.sub(\n",
    "        'http://www.ncbi.nlm.nih.gov/gene/',\n",
    "        'http://rest.genenames.org/search/entrez_id/', ncbigene_uri)\n",
    "    response = requests.get(api_uri, headers={'Accept': 'application/json'})\n",
    "    if str(response) == '<Response [200]>':\n",
    "        hgnc = json.loads(response.text)\n",
    "        if hgnc['response']['numFound'] > 0:\n",
    "            symbol = hgnc['response']['docs'][0]['symbol']\n",
    "        else:\n",
    "            symbol = \"\"  # none found    \n",
    "    else: # it will be ugly so someone will notice\n",
    "        symbol = 'ERROR ' + api_uri + ' ' + str(response)\n",
    "    return symbol"
   ]
  },
  {
   "cell_type": "markdown",
   "metadata": {
    "deletable": true,
    "editable": true
   },
   "source": [
    "    # quick tests\n",
    "    entrez_symbol('http://www.ncbi.nlm.nih.gov/gene/672')"
   ]
  },
  {
   "cell_type": "markdown",
   "metadata": {
    "deletable": true,
    "editable": true
   },
   "source": [
    "    entrez_symbol('http://www.ncbi.nlm.nih.gov/gene/-1')"
   ]
  },
  {
   "cell_type": "code",
   "execution_count": 11,
   "metadata": {
    "collapsed": true,
    "deletable": true,
    "editable": true
   },
   "outputs": [],
   "source": [
    "# cache ncbi gene iri and symbol map\n",
    "iri_sym = {}"
   ]
  },
  {
   "cell_type": "code",
   "execution_count": 12,
   "metadata": {
    "collapsed": true,
    "deletable": true,
    "editable": true
   },
   "outputs": [],
   "source": [
    "# what do have for hits?\n",
    "# Make a graphziz of the fa genes and their hits \n",
    "# base  edge length (weight) on motif simlarity\n",
    "dot = []\n",
    "dot.append(\"digraph FA_motif_similarity{\")\n",
    "dot.append('rankdir=\"LR\"')\n",
    "cluster = -1\n",
    "for fas in fa_sets:\n",
    "    cluster+=1\n",
    "    # print(fas +' set has', '(' + str(len(fa_sets[fas])) +') genes')\n",
    "    dot.append('subgraph cluster_' + str(cluster) + ' {')\n",
    "    dot.append('label=\"' + fas +'\";') \n",
    "    for fa in fa_sets[fas]:\n",
    "        fa_iri = fa_sets[fas][fa]['iri']\n",
    "        iri_sym[fa_iri] = entrez_symbol(fa_iri)\n",
    "        \n",
    "        if 'hits' in fa_sets[fas][fa] and len(fa_sets[fas][fa]['hits']) > 0:\n",
    "            # print(\n",
    "            #   '  ', iri_sym[fa], \n",
    "            #   ' has(' + str(len(fa_sets[fas][fa]['hits'])) +') associations')\n",
    "        \n",
    "            for c in fa_sets[fas][fa]['hits']:\n",
    "                # try to be nice to our friends at HGNC\n",
    "                if c not in iri_sym:\n",
    "                    iri_sym[c] = entrez_symbol(c)\n",
    "                symbol = iri_sym[c]\n",
    "                dot.append('\"'+ iri_sym[fa_iri]+'\" -> \"'+symbol+'\" [weight=\"'+str(int(10*float(fa_sets[fas][fa]['hits'][c]['score'])+1))+'\"];')\n",
    "                fa_sets[fas][fa]['hits'][c]['symbol'] = symbol\n",
    "        # else: \n",
    "           #print( iri_sym[fa], '\\tNo hits found')\n",
    "    dot.append(\"}\")\n",
    "    \n",
    "dot.append(\"}\")    "
   ]
  },
  {
   "cell_type": "code",
   "execution_count": 13,
   "metadata": {
    "collapsed": true,
    "deletable": true,
    "editable": true
   },
   "outputs": [],
   "source": [
    "# output a graphviz dot file of the data structure\n",
    "dotout = open('FA_motif_similarity.gv', 'w')\n",
    "dotout.write( \"\\n\".join(dot))\n",
    "dotout.close()"
   ]
  },
  {
   "cell_type": "code",
   "execution_count": 15,
   "metadata": {
    "collapsed": true,
    "deletable": true,
    "editable": true
   },
   "outputs": [],
   "source": [
    "# and your giant bitmap too\n",
    "os.system('dot -Tpng FA_motif_similarity.gv > FA_motif_similarity.png');"
   ]
  },
  {
   "cell_type": "code",
   "execution_count": 14,
   "metadata": {
    "collapsed": true,
    "deletable": true,
    "editable": true
   },
   "outputs": [],
   "source": [
    "# and dump as json\n",
    "jsonout = open('fa_sets.json', 'w')\n",
    "json.dump(fa_sets, jsonout)\n",
    "jsonout.close()"
   ]
  },
  {
   "cell_type": "code",
   "execution_count": 15,
   "metadata": {
    "collapsed": true,
    "deletable": true,
    "editable": true
   },
   "outputs": [],
   "source": [
    "# and write out a flat tab file \n",
    "tab = []\n",
    "tab.append('\\t'.join(['#fa_symbol','hit_symbol','score','fa_set','fa_iri','hit_iri']))\n",
    "for fas in fa_sets:\n",
    "    for fa_curie in fa_sets[fas]:\n",
    "        for hit_iri in fa_sets[fas][fa_curie]['hits']:\n",
    "            tab.append('\\t'.join([\n",
    "                fa_sets[fas][fa_curie]['symbol'], \n",
    "                fa_sets[fas][fa_curie]['hits'][hit_iri]['symbol'],\n",
    "                fa_sets[fas][fa_curie]['hits'][hit_iri]['score'],\n",
    "                fas,\n",
    "                fa_sets[fas][fa_curie]['iri'],\n",
    "                hit_iri\n",
    "            ]))"
   ]
  },
  {
   "cell_type": "code",
   "execution_count": 16,
   "metadata": {
    "collapsed": true,
    "deletable": true,
    "editable": true
   },
   "outputs": [],
   "source": [
    "tabout = open('fa_sets.tab', 'w')\n",
    "tabout.write('\\n'.join(tab))\n",
    "tabout.close()"
   ]
  },
  {
   "cell_type": "markdown",
   "metadata": {
    "deletable": true,
    "editable": true
   },
   "source": [
    "Currently 13 of the 27 FA genes have TFBS motif similarity associations.   \n",
    "from the graph we can see which occur more than once and which are similar to other FA genes  \n",
    "The ones that occur more than once may be better candidates or just genes with extra boring uprtream regions.  \n",
    "I would have been slightly dissapointed if there were no hits between FA genes as it is I still whish there had been more. "
   ]
  }
 ],
 "metadata": {
  "kernelspec": {
   "display_name": "Python 3",
   "language": "python",
   "name": "python3"
  },
  "language_info": {
   "codemirror_mode": {
    "name": "ipython",
    "version": 3
   },
   "file_extension": ".py",
   "mimetype": "text/x-python",
   "name": "python",
   "nbconvert_exporter": "python",
   "pygments_lexer": "ipython3",
   "version": "3.4.2"
  }
 },
 "nbformat": 4,
 "nbformat_minor": 2
}
