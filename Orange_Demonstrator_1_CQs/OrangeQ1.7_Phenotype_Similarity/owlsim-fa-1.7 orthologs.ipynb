{
 "cells": [
  {
   "cell_type": "markdown",
   "metadata": {},
   "source": [
    "## Orange Team CQ#1.7\n",
    "\n",
    "### Query: \n",
    "What genes show high phenotypic similarity to the 11 Fanconi Anemia core complex genes (set FA-core)?\n",
    "\n",
    "### Services:\n",
    "BioLink API (Monarch) - https://api.monarchinitiative.org/api/\n",
    "\n",
    "Simsearch - https://monarchinitiative.org/simsearch\n",
    "\n",
    "### Approach:\n",
    "Take all 27 human FA genes. For each gene, retrieve the phenotypically similar genes from mouse, zebrafish, worm, and fly. The output is a list of genes and a score. Sum of the scores for each of the genes, across all 27 FA genes. Take the top X (10) phenotypically similar genes from each organism, and then get the human orthologs of those genes. \n",
    "\n",
    "### Author\n",
    "Gstupp"
   ]
  },
  {
   "cell_type": "code",
   "execution_count": 1,
   "metadata": {},
   "outputs": [],
   "source": [
    "import os, sys\n",
    "# change this path\n",
    "sys.path.insert(0, \"/home/gstupp/projects/NCATS-Tangerine/mvp-module-library/\")"
   ]
  },
  {
   "cell_type": "code",
   "execution_count": 14,
   "metadata": {},
   "outputs": [],
   "source": [
    "from BioLink import biolink_client\n",
    "from GeneStore.gene_store import FanconiGeneImporter\n",
    "import requests\n",
    "from itertools import chain\n",
    "import pandas as pd\n",
    "from pprint import pprint\n",
    "from tqdm import tqdm, tqdm_notebook\n",
    "from collections import defaultdict\n",
    "from IPython.display import display, HTML\n",
    "\n",
    "def pretty_print(df):\n",
    "    return display( HTML( df.to_html().replace(\"\\\\n\",\"<br>\") ) )\n",
    "\n",
    "pd.options.display.max_rows = 99\n",
    "pd.options.display.max_colwidth = 10000"
   ]
  },
  {
   "cell_type": "code",
   "execution_count": 3,
   "metadata": {},
   "outputs": [
    {
     "data": {
      "text/html": [
       "<div>\n",
       "<style scoped>\n",
       "    .dataframe tbody tr th:only-of-type {\n",
       "        vertical-align: middle;\n",
       "    }\n",
       "\n",
       "    .dataframe tbody tr th {\n",
       "        vertical-align: top;\n",
       "    }\n",
       "\n",
       "    .dataframe thead th {\n",
       "        text-align: right;\n",
       "    }\n",
       "</style>\n",
       "<table border=\"1\" class=\"dataframe\">\n",
       "  <thead>\n",
       "    <tr style=\"text-align: right;\">\n",
       "      <th></th>\n",
       "      <th>gene_curie</th>\n",
       "      <th>gene_symbol</th>\n",
       "    </tr>\n",
       "  </thead>\n",
       "  <tbody>\n",
       "    <tr>\n",
       "      <th>0</th>\n",
       "      <td>NCBIGene:2175</td>\n",
       "      <td>FANCA</td>\n",
       "    </tr>\n",
       "    <tr>\n",
       "      <th>1</th>\n",
       "      <td>NCBIGene:2187</td>\n",
       "      <td>FANCB</td>\n",
       "    </tr>\n",
       "    <tr>\n",
       "      <th>2</th>\n",
       "      <td>NCBIGene:2176</td>\n",
       "      <td>FANCC</td>\n",
       "    </tr>\n",
       "    <tr>\n",
       "      <th>3</th>\n",
       "      <td>NCBIGene:2178</td>\n",
       "      <td>FANCE</td>\n",
       "    </tr>\n",
       "    <tr>\n",
       "      <th>4</th>\n",
       "      <td>NCBIGene:2188</td>\n",
       "      <td>FANCF</td>\n",
       "    </tr>\n",
       "  </tbody>\n",
       "</table>\n",
       "</div>"
      ],
      "text/plain": [
       "      gene_curie gene_symbol\n",
       "0  NCBIGene:2175       FANCA\n",
       "1  NCBIGene:2187       FANCB\n",
       "2  NCBIGene:2176       FANCC\n",
       "3  NCBIGene:2178       FANCE\n",
       "4  NCBIGene:2188       FANCF"
      ]
     },
     "execution_count": 3,
     "metadata": {},
     "output_type": "execute_result"
    }
   ],
   "source": [
    "gene_df = FanconiGeneImporter(\"fa_all\").gene_set_df()\n",
    "\n",
    "b = biolink_client.BioLinkWrapper()\n",
    "gene_df.head()"
   ]
  },
  {
   "cell_type": "code",
   "execution_count": 4,
   "metadata": {},
   "outputs": [],
   "source": [
    "from Modules.phenotype_similarity import PhenotypicSimilarity\n",
    "ps = PhenotypicSimilarity(['NCBIGene:2175', 'NCBIGene:2187'], '10090')"
   ]
  },
  {
   "cell_type": "code",
   "execution_count": 6,
   "metadata": {},
   "outputs": [
    {
     "data": {
      "text/plain": [
       "id\n",
       "MGI:1347466    136\n",
       "MGI:88180      132\n",
       "MGI:88276      134\n",
       "MGI:109344     125\n",
       "MGI:1330810    128\n",
       "MGI:104671     127\n",
       "MGI:88039      133\n",
       "MGI:98297      127\n",
       "MGI:1920563    127\n",
       "MGI:95523      126\n",
       "dtype: int64"
      ]
     },
     "execution_count": 6,
     "metadata": {},
     "output_type": "execute_result"
    }
   ],
   "source": [
    "ps.phenogene_score[:10]"
   ]
  },
  {
   "cell_type": "code",
   "execution_count": 15,
   "metadata": {},
   "outputs": [
    {
     "data": {
      "text/html": [
       "<table border=\"1\" class=\"dataframe\">\n",
       "  <thead>\n",
       "    <tr style=\"text-align: right;\">\n",
       "      <th></th>\n",
       "      <th>id</th>\n",
       "      <th>score</th>\n",
       "      <th>label</th>\n",
       "      <th>explanation</th>\n",
       "      <th>input_gene</th>\n",
       "    </tr>\n",
       "  </thead>\n",
       "  <tbody>\n",
       "    <tr>\n",
       "      <th>14</th>\n",
       "      <td>MGI:105373</td>\n",
       "      <td>67</td>\n",
       "      <td>Ptch1</td>\n",
       "      <td>Breast carcinoma -&gt; carcinoma phenotype &lt;- Basal cell carcinoma<br>Abnormality of the fallopian tube -&gt; pelvic region of trunk phenotype &lt;- abnormal kidney pelvis morphology<br>Micrognathia -&gt; abnormal mandible morphology &lt;- mandibular cysts<br>Patent ductus arteriosus -&gt; abnormal vascular development &lt;- abnormal vascular development<br>Growth hormone deficiency -&gt; abnormal diencephalon morphology &lt;- abnormal diencephalon morphology<br>Decreased fertility in males -&gt; Decreased fertility in males &lt;- male infertility<br>Frontal bossing -&gt; Abnormality of calvarial morphology &lt;- shortened head<br>Ataxia -&gt; ataxia &lt;- ataxia<br>Spina bifida -&gt; open neural tube &lt;- open neural tube<br>Anal atresia -&gt; orifice phenotype &lt;- abnormal mandibular prominence morphology<br>Finger syndactyly -&gt; syndactyly &lt;- syndactyly<br>Pancytopenia -&gt; decreased leukocyte cell number &lt;- decreased transitional stage B cell number<br>Absent thumb -&gt; zone of long bone phenotype &lt;- abnormal long bone hypertrophic chondrocyte zone<br>Acute lymphoblastic leukemia -&gt; hematopoietic/lymphoid malignancies/disorder phenotype &lt;- Lymphoma<br>Abnormal lung lobation -&gt; abnormal respiratory system development &lt;- abnormal nasal placode morphology<br>Aganglionic megacolon -&gt; Abnormality of ganglion &lt;- abnormal geniculate ganglion morphology<br>Intrauterine growth retardation -&gt; abnormal prenatal growth/weight/body size &lt;- increased fetal size<br>Hypoplasia of the ulna -&gt; decreased length of long bones &lt;- Short long bone<br>Abnormality of the preputium -&gt; prepuce of penis phenotype &lt;- small male preputial glands<br>Hypertelorism -&gt; ocular hypertelorism &lt;- Hypertelorism<br>Hypoplasia of the premaxilla -&gt; skeleton of upper jaw phenotype &lt;- abnormal upper incisor morphology<br>Irregular hyperpigmentation -&gt; abnormal(ly) quality pigmentation &lt;- belly spot<br>Multiple cafe-au-lait spots -&gt; Localized skin lesion &lt;- dermal cysts<br>Increased hemoglobin -&gt; increased myeloid cell number &lt;- increased neutrophil cell number<br>Inguinal hernia -&gt; herniated abdominal wall &lt;- omphalocele</td>\n",
       "      <td>NCBIGene:2187</td>\n",
       "    </tr>\n",
       "    <tr>\n",
       "      <th>0</th>\n",
       "      <td>MGI:105373</td>\n",
       "      <td>66</td>\n",
       "      <td>Ptch1</td>\n",
       "      <td>Breast carcinoma -&gt; carcinoma phenotype &lt;- Basal cell carcinoma<br>Umbilical hernia -&gt; herniated abdominal wall &lt;- omphalocele<br>Facial asymmetry -&gt; abnormal head shape &lt;- shortened head<br>Micrognathia -&gt; abnormal mandible morphology &lt;- mandibular cysts<br>Horseshoe kidney -&gt; abnormal kidney morphology &lt;- abnormal kidney pelvis morphology<br>Patent ductus arteriosus -&gt; abnormal vascular development &lt;- abnormal vascular development<br>Azoospermia -&gt; abnormal(ly) process quality spermatogenesis &lt;- Abnormal spermatogenesis<br>Neutropenia -&gt; abnormal neutrophil cell number &lt;- increased neutrophil cell number<br>Ataxia -&gt; ataxia &lt;- ataxia<br>Amyotrophic lateral sclerosis -&gt; abnormal neuron morphology &lt;- abnormal neuronal precursor proliferation<br>Scoliosis -&gt; abnormal spine curvature &lt;- kyphosis<br>Finger syndactyly -&gt; syndactyly &lt;- syndactyly<br>Pancytopenia -&gt; decreased leukocyte cell number &lt;- decreased transitional stage B cell number<br>Absent thumb -&gt; zone of long bone phenotype &lt;- abnormal long bone hypertrophic chondrocyte zone<br>Anemic pallor -&gt; abnormal skin appearance &lt;- skin lesions<br>Acute lymphoblastic leukemia -&gt; hematopoietic/lymphoid malignancies/disorder phenotype &lt;- Lymphoma<br>Deficient excision of UV-induced pyrimidine dimers in DNA -&gt; cellular response to stimulus phenotype &lt;- smoothened signaling pathway involved in dorsal/ventral neural tube patterning phenotype<br>Anteverted nares -&gt; olfactory system phenotype &lt;- abnormal nasal placode morphology<br>Hypopigmented skin patches -&gt; Localized skin lesion &lt;- dermal cysts<br>Aganglionic megacolon -&gt; Abnormality of ganglion &lt;- abnormal geniculate ganglion morphology<br>Intrauterine growth retardation -&gt; abnormal prenatal growth/weight/body size &lt;- increased fetal size<br>Hypoplasia of the ulna -&gt; decreased length of long bones &lt;- Short long bone<br>Abnormality of the preputium -&gt; prepuce of penis phenotype &lt;- small male preputial glands<br>Hypertelorism -&gt; ocular hypertelorism &lt;- Hypertelorism<br>Nystagmus -&gt; Abnormal ear morphology &lt;- small otic vesicle<br>Metrorrhagia -&gt; abnormal female reproductive system physiology &lt;- female infertility<br>Hypoplasia of the premaxilla -&gt; skeleton of upper jaw phenotype &lt;- abnormal upper incisor morphology</td>\n",
       "      <td>NCBIGene:2175</td>\n",
       "    </tr>\n",
       "  </tbody>\n",
       "</table>"
      ],
      "text/plain": [
       "<IPython.core.display.HTML object>"
      ]
     },
     "metadata": {},
     "output_type": "display_data"
    }
   ],
   "source": [
    "pretty_print(ps.explain_phenotypically_similar_gene(\"MGI:105373\"))"
   ]
  },
  {
   "cell_type": "code",
   "execution_count": 16,
   "metadata": {},
   "outputs": [],
   "source": [
    "import pickle\n",
    "with open(\"gene_genes_1.7_orthologs.pkl\", \"wb\") as f:\n",
    "    pickle.dump(ps, f)"
   ]
  },
  {
   "cell_type": "code",
   "execution_count": null,
   "metadata": {},
   "outputs": [],
   "source": [
    "###### not done below here ######"
   ]
  },
  {
   "cell_type": "code",
   "execution_count": null,
   "metadata": {},
   "outputs": [],
   "source": []
  },
  {
   "cell_type": "code",
   "execution_count": null,
   "metadata": {},
   "outputs": [],
   "source": []
  },
  {
   "cell_type": "code",
   "execution_count": null,
   "metadata": {},
   "outputs": [],
   "source": []
  },
  {
   "cell_type": "code",
   "execution_count": 12,
   "metadata": {
    "collapsed": true
   },
   "outputs": [
    {
     "data": {
      "text/plain": [
       "[{'gene': 'MGI:88276', 'score': 1433},\n",
       " {'gene': 'MGI:1347466', 'score': 1403},\n",
       " {'gene': 'MGI:88039', 'score': 1396},\n",
       " {'gene': 'MGI:99851', 'score': 1387},\n",
       " {'gene': 'MGI:88064', 'score': 1370},\n",
       " {'gene': 'MGI:95729', 'score': 1366},\n",
       " {'gene': 'MGI:1330810', 'score': 1347},\n",
       " {'gene': 'MGI:105373', 'score': 1344},\n",
       " {'gene': 'MGI:98297', 'score': 1340},\n",
       " {'gene': 'MGI:104327', 'score': 1335},\n",
       " {'gene': 'MGI:96677', 'score': 1333},\n",
       " {'gene': 'MGI:97490', 'score': 1323},\n",
       " {'gene': 'MGI:95523', 'score': 1318},\n",
       " {'gene': 'MGI:98834', 'score': 1316},\n",
       " {'gene': 'MGI:108072', 'score': 1315},\n",
       " {'gene': 'MGI:88180', 'score': 1305},\n",
       " {'gene': 'MGI:1352467', 'score': 1297},\n",
       " {'gene': 'MGI:98726', 'score': 1296},\n",
       " {'gene': 'MGI:97902', 'score': 1295},\n",
       " {'gene': 'MGI:104993', 'score': 1294},\n",
       " {'gene': 'ZFIN:ZDB-GENE-011026-1', 'score': 1179},\n",
       " {'gene': 'ZFIN:ZDB-GENE-080405-1', 'score': 1172},\n",
       " {'gene': 'ZFIN:ZDB-GENE-040426-1716', 'score': 1169},\n",
       " {'gene': 'ZFIN:ZDB-GENE-030131-6378', 'score': 1124},\n",
       " {'gene': 'ZFIN:ZDB-GENE-000626-1', 'score': 1119},\n",
       " {'gene': 'ZFIN:ZDB-GENE-070327-2', 'score': 1118},\n",
       " {'gene': 'ZFIN:ZDB-GENE-990706-8', 'score': 1112},\n",
       " {'gene': 'ZFIN:ZDB-GENE-030404-2', 'score': 1112},\n",
       " {'gene': 'ZFIN:ZDB-GENE-021115-2', 'score': 1108},\n",
       " {'gene': 'ZFIN:ZDB-GENE-030131-8494', 'score': 1104},\n",
       " {'gene': 'ZFIN:ZDB-GENE-060125-1', 'score': 1096},\n",
       " {'gene': 'ZFIN:ZDB-GENE-040718-190', 'score': 1096},\n",
       " {'gene': 'ZFIN:ZDB-GENE-990415-171', 'score': 1086},\n",
       " {'gene': 'ZFIN:ZDB-GENE-990415-270', 'score': 1085},\n",
       " {'gene': 'ZFIN:ZDB-GENE-040426-1087', 'score': 1085},\n",
       " {'gene': 'ZFIN:ZDB-GENE-040827-3', 'score': 1084},\n",
       " {'gene': 'ZFIN:ZDB-GENE-031118-202', 'score': 1082},\n",
       " {'gene': 'ZFIN:ZDB-GENE-020507-3', 'score': 1079},\n",
       " {'gene': 'ZFIN:ZDB-GENE-011105-1', 'score': 1079},\n",
       " {'gene': 'ZFIN:ZDB-GENE-030131-9710', 'score': 1077},\n",
       " {'gene': 'FlyBase:FBgn0015799', 'score': 39},\n",
       " {'gene': 'FlyBase:FBgn0004367', 'score': 39},\n",
       " {'gene': 'FlyBase:FBgn0000404', 'score': 39},\n",
       " {'gene': 'FlyBase:FBgn0015218', 'score': 39},\n",
       " {'gene': 'FlyBase:FBgn0021760', 'score': 34},\n",
       " {'gene': 'FlyBase:FBgn0027066', 'score': 34},\n",
       " {'gene': 'FlyBase:FBgn0041147', 'score': 33},\n",
       " {'gene': 'FlyBase:FBgn0015296', 'score': 31},\n",
       " {'gene': 'FlyBase:FBgn0036004', 'score': 30},\n",
       " {'gene': 'FlyBase:FBgn0036005', 'score': 30},\n",
       " {'gene': 'FlyBase:FBgn0036040', 'score': 29},\n",
       " {'gene': 'FlyBase:FBgn0013625', 'score': 29},\n",
       " {'gene': 'FlyBase:FBgn0036063', 'score': 29},\n",
       " {'gene': 'FlyBase:FBgn0266124', 'score': 29},\n",
       " {'gene': 'FlyBase:FBgn0001228', 'score': 29},\n",
       " {'gene': 'FlyBase:FBgn0015618', 'score': 29},\n",
       " {'gene': 'FlyBase:FBgn0003612', 'score': 29},\n",
       " {'gene': 'FlyBase:FBgn0036000', 'score': 29},\n",
       " {'gene': 'FlyBase:FBgn0036066', 'score': 29},\n",
       " {'gene': 'FlyBase:FBgn0036028', 'score': 29},\n",
       " {'gene': 'WormBase:WBGene00010556', 'score': 772},\n",
       " {'gene': 'WormBase:WBGene00004077', 'score': 743},\n",
       " {'gene': 'WormBase:WBGene00016837', 'score': 737},\n",
       " {'gene': 'WormBase:WBGene00004392', 'score': 723},\n",
       " {'gene': 'WormBase:WBGene00004391', 'score': 721},\n",
       " {'gene': 'WormBase:WBGene00003829', 'score': 712},\n",
       " {'gene': 'WormBase:WBGene00000249', 'score': 711},\n",
       " {'gene': 'WormBase:WBGene00001005', 'score': 703},\n",
       " {'gene': 'WormBase:WBGene00000405', 'score': 702},\n",
       " {'gene': 'WormBase:WBGene00004208', 'score': 701},\n",
       " {'gene': 'WormBase:WBGene00000871', 'score': 700},\n",
       " {'gene': 'WormBase:WBGene00001840', 'score': 692},\n",
       " {'gene': 'WormBase:WBGene00004919', 'score': 691},\n",
       " {'gene': 'WormBase:WBGene00000962', 'score': 689},\n",
       " {'gene': 'WormBase:WBGene00002068', 'score': 685},\n",
       " {'gene': 'WormBase:WBGene00010015', 'score': 685},\n",
       " {'gene': 'WormBase:WBGene00001596', 'score': 683},\n",
       " {'gene': 'WormBase:WBGene00004914', 'score': 683},\n",
       " {'gene': 'WormBase:WBGene00006698', 'score': 677},\n",
       " {'gene': 'WormBase:WBGene00000182', 'score': 675}]"
      ]
     },
     "execution_count": 12,
     "metadata": {},
     "output_type": "execute_result"
    }
   ],
   "source": [
    "top10 = dict()\n",
    "for prefix in prefixes:\n",
    "    ss = {k:v for k,v in s.items() if k.startswith(prefix)}\n",
    "    top10[prefix] = sorted(ss.items(), key=lambda x:x[1], reverse=True)[:20]\n",
    "ss = list(chain(*top10.values()))\n",
    "ss = [{'gene': s[0], 'score': s[1]} for s in ss]\n",
    "ss"
   ]
  },
  {
   "cell_type": "code",
   "execution_count": 13,
   "metadata": {
    "scrolled": true
   },
   "outputs": [
    {
     "data": {
      "application/vnd.jupyter.widget-view+json": {
       "model_id": "46e1dc86240542708f9cc0adfb2f98f8",
       "version_major": 2,
       "version_minor": 0
      },
      "text/html": [
       "<p>Failed to display Jupyter Widget of type <code>HBox</code>.</p>\n",
       "<p>\n",
       "  If you're reading this message in the Jupyter Notebook or JupyterLab Notebook, it may mean\n",
       "  that the widgets JavaScript is still loading. If this message persists, it\n",
       "  likely means that the widgets JavaScript library is either not installed or\n",
       "  not enabled. See the <a href=\"https://ipywidgets.readthedocs.io/en/stable/user_install.html\">Jupyter\n",
       "  Widgets Documentation</a> for setup instructions.\n",
       "</p>\n",
       "<p>\n",
       "  If you're reading this message in another frontend (for example, a static\n",
       "  rendering on GitHub or <a href=\"https://nbviewer.jupyter.org/\">NBViewer</a>),\n",
       "  it may mean that your frontend doesn't currently support widgets.\n",
       "</p>\n"
      ],
      "text/plain": [
       "HBox(children=(IntProgress(value=0, max=80), HTML(value='')))"
      ]
     },
     "metadata": {},
     "output_type": "display_data"
    },
    {
     "name": "stdout",
     "output_type": "stream",
     "text": [
      "\n"
     ]
    },
    {
     "data": {
      "text/plain": [
       "[{'gene': 'MGI:88276', 'orthologs': ['HGNC:2514'], 'score': 1433},\n",
       " {'gene': 'MGI:1347466', 'orthologs': ['HGNC:3800'], 'score': 1403},\n",
       " {'gene': 'MGI:88039', 'orthologs': ['HGNC:583'], 'score': 1396},\n",
       " {'gene': 'MGI:99851', 'orthologs': ['HGNC:1539'], 'score': 1387},\n",
       " {'gene': 'MGI:88064', 'orthologs': ['HGNC:644'], 'score': 1370},\n",
       " {'gene': 'MGI:95729', 'orthologs': ['HGNC:4319'], 'score': 1366},\n",
       " {'gene': 'MGI:1330810', 'orthologs': ['HGNC:15979'], 'score': 1347},\n",
       " {'gene': 'MGI:105373', 'orthologs': ['HGNC:9585'], 'score': 1344},\n",
       " {'gene': 'MGI:98297', 'orthologs': ['HGNC:10848'], 'score': 1340},\n",
       " {'gene': 'MGI:104327', 'orthologs': ['HGNC:7866'], 'score': 1335},\n",
       " {'gene': 'MGI:96677', 'orthologs': ['HGNC:6342'], 'score': 1333},\n",
       " {'gene': 'MGI:97490', 'orthologs': ['HGNC:8620'], 'score': 1323},\n",
       " {'gene': 'MGI:95523', 'orthologs': ['HGNC:3689'], 'score': 1318},\n",
       " {'gene': 'MGI:98834', 'orthologs': ['HGNC:11998'], 'score': 1316},\n",
       " {'gene': 'MGI:108072', 'orthologs': ['HGNC:12036'], 'score': 1315},\n",
       " {'gene': 'MGI:88180', 'orthologs': ['HGNC:1071'], 'score': 1305},\n",
       " {'gene': 'MGI:1352467', 'orthologs': ['HGNC:3467'], 'score': 1297},\n",
       " {'gene': 'MGI:98726', 'orthologs': ['HGNC:11768'], 'score': 1296},\n",
       " {'gene': 'MGI:97902', 'orthologs': ['HGNC:9967'], 'score': 1295},\n",
       " {'gene': 'MGI:104993', 'orthologs': ['HGNC:6554'], 'score': 1294},\n",
       " {'gene': 'ZFIN:ZDB-GENE-011026-1',\n",
       "  'orthologs': ['HGNC:18196'],\n",
       "  'score': 1179},\n",
       " {'gene': 'ZFIN:ZDB-GENE-080405-1',\n",
       "  'orthologs': ['HGNC:11730'],\n",
       "  'score': 1172},\n",
       " {'gene': 'ZFIN:ZDB-GENE-040426-1716',\n",
       "  'orthologs': ['HGNC:10402'],\n",
       "  'score': 1169},\n",
       " {'gene': 'ZFIN:ZDB-GENE-030131-6378',\n",
       "  'orthologs': ['HGNC:25517'],\n",
       "  'score': 1124},\n",
       " {'gene': 'ZFIN:ZDB-GENE-000626-1',\n",
       "  'orthologs': ['HGNC:11949'],\n",
       "  'score': 1119},\n",
       " {'gene': 'ZFIN:ZDB-GENE-070327-2',\n",
       "  'orthologs': ['HGNC:10377'],\n",
       "  'score': 1118},\n",
       " {'gene': 'ZFIN:ZDB-GENE-990706-8', 'orthologs': ['HGNC:4318'], 'score': 1112},\n",
       " {'gene': 'ZFIN:ZDB-GENE-030404-2',\n",
       "  'orthologs': ['HGNC:21086'],\n",
       "  'score': 1112},\n",
       " {'gene': 'ZFIN:ZDB-GENE-021115-2',\n",
       "  'orthologs': ['HGNC:17994'],\n",
       "  'score': 1108},\n",
       " {'gene': 'ZFIN:ZDB-GENE-030131-8494',\n",
       "  'orthologs': ['HGNC:10420'],\n",
       "  'score': 1104},\n",
       " {'gene': 'ZFIN:ZDB-GENE-060125-1',\n",
       "  'orthologs': ['HGNC:16050', 'HGNC:11957'],\n",
       "  'score': 1096},\n",
       " {'gene': 'ZFIN:ZDB-GENE-040718-190',\n",
       "  'orthologs': ['HGNC:10345'],\n",
       "  'score': 1096},\n",
       " {'gene': 'ZFIN:ZDB-GENE-990415-171',\n",
       "  'orthologs': ['HGNC:1759'],\n",
       "  'score': 1086},\n",
       " {'gene': 'ZFIN:ZDB-GENE-990415-270',\n",
       "  'orthologs': ['HGNC:11998'],\n",
       "  'score': 1085},\n",
       " {'gene': 'ZFIN:ZDB-GENE-040426-1087',\n",
       "  'orthologs': ['ENSEMBL:ENSG00000260342', 'HGNC:697'],\n",
       "  'score': 1085},\n",
       " {'gene': 'ZFIN:ZDB-GENE-040827-3',\n",
       "  'orthologs': ['HGNC:10768'],\n",
       "  'score': 1084},\n",
       " {'gene': 'ZFIN:ZDB-GENE-031118-202',\n",
       "  'orthologs': ['HGNC:29786'],\n",
       "  'score': 1082},\n",
       " {'gene': 'ZFIN:ZDB-GENE-020507-3',\n",
       "  'orthologs': ['HGNC:15511'],\n",
       "  'score': 1079},\n",
       " {'gene': 'ZFIN:ZDB-GENE-011105-1', 'orthologs': ['HGNC:9404'], 'score': 1079},\n",
       " {'gene': 'ZFIN:ZDB-GENE-030131-9710',\n",
       "  'orthologs': ['HGNC:16262'],\n",
       "  'score': 1077},\n",
       " {'gene': 'FlyBase:FBgn0015799',\n",
       "  'orthologs': ['HGNC:9893', 'HGNC:9894'],\n",
       "  'score': 39},\n",
       " {'gene': 'FlyBase:FBgn0004367', 'orthologs': ['HGNC:882'], 'score': 39},\n",
       " {'gene': 'FlyBase:FBgn0000404',\n",
       "  'orthologs': ['HGNC:1578', 'HGNC:1577', 'HGNC:25805'],\n",
       "  'score': 39},\n",
       " {'gene': 'FlyBase:FBgn0015218',\n",
       "  'orthologs': ['HGNC:33179', 'HGNC:3287'],\n",
       "  'score': 39},\n",
       " {'gene': 'FlyBase:FBgn0021760',\n",
       "  'orthologs': ['HGNC:17088', 'HGNC:17078'],\n",
       "  'score': 34},\n",
       " {'gene': 'FlyBase:FBgn0027066',\n",
       "  'orthologs': ['HGNC:6891', 'HGNC:6890', 'HGNC:6892'],\n",
       "  'score': 34},\n",
       " {'gene': 'FlyBase:FBgn0041147', 'orthologs': ['HGNC:15713'], 'score': 33},\n",
       " {'gene': 'FlyBase:FBgn0015296',\n",
       "  'orthologs': ['HGNC:10840', 'HGNC:29869', 'HGNC:18181', 'HGNC:16743'],\n",
       "  'score': 31},\n",
       " {'gene': 'FlyBase:FBgn0036004', 'orthologs': ['HGNC:6196'], 'score': 30},\n",
       " {'gene': 'FlyBase:FBgn0036005', 'orthologs': ['HGNC:29046'], 'score': 30},\n",
       " {'gene': 'FlyBase:FBgn0036040', 'orthologs': [], 'score': 29},\n",
       " {'gene': 'FlyBase:FBgn0013625', 'orthologs': [], 'score': 29},\n",
       " {'gene': 'FlyBase:FBgn0036063', 'orthologs': ['HGNC:12386'], 'score': 29},\n",
       " {'gene': 'FlyBase:FBgn0266124', 'orthologs': [], 'score': 29},\n",
       " {'gene': 'FlyBase:FBgn0001228', 'orthologs': ['HGNC:40910'], 'score': 29},\n",
       " {'gene': 'FlyBase:FBgn0015618',\n",
       "  'orthologs': ['HGNC:1779', 'HGNC:19338'],\n",
       "  'score': 29},\n",
       " {'gene': 'FlyBase:FBgn0003612',\n",
       "  'orthologs': ['HGNC:2752', 'HGNC:17311', 'HGNC:17002', 'HGNC:16861'],\n",
       "  'score': 29},\n",
       " {'gene': 'FlyBase:FBgn0036000', 'orthologs': ['HGNC:25771'], 'score': 29},\n",
       " {'gene': 'FlyBase:FBgn0036066', 'orthologs': [], 'score': 29},\n",
       " {'gene': 'FlyBase:FBgn0036028',\n",
       "  'orthologs': ['HGNC:1180', 'HGNC:1306'],\n",
       "  'score': 29},\n",
       " {'gene': 'WormBase:WBGene00010556', 'orthologs': ['HGNC:4399'], 'score': 772},\n",
       " {'gene': 'WormBase:WBGene00004077',\n",
       "  'orthologs': ['HGNC:11639', 'HGNC:11641', 'HGNC:6551', 'HGNC:11640'],\n",
       "  'score': 743},\n",
       " {'gene': 'WormBase:WBGene00016837',\n",
       "  'orthologs': ['HGNC:14089'],\n",
       "  'score': 737},\n",
       " {'gene': 'WormBase:WBGene00004392',\n",
       "  'orthologs': ['HGNC:17296', 'HGNC:10452'],\n",
       "  'score': 723},\n",
       " {'gene': 'WormBase:WBGene00004391',\n",
       "  'orthologs': ['HGNC:10451'],\n",
       "  'score': 721},\n",
       " {'gene': 'WormBase:WBGene00003829', 'orthologs': ['HGNC:8045'], 'score': 712},\n",
       " {'gene': 'WormBase:WBGene00000249', 'orthologs': [], 'score': 711},\n",
       " {'gene': 'WormBase:WBGene00001005',\n",
       "  'orthologs': ['HGNC:24596'],\n",
       "  'score': 703},\n",
       " {'gene': 'WormBase:WBGene00000405', 'orthologs': ['HGNC:1722'], 'score': 702},\n",
       " {'gene': 'WormBase:WBGene00004208',\n",
       "  'orthologs': ['HGNC:9585', 'HGNC:9586'],\n",
       "  'score': 701},\n",
       " {'gene': 'WormBase:WBGene00000871',\n",
       "  'orthologs': ['HGNC:1590', 'HGNC:1589'],\n",
       "  'score': 700},\n",
       " {'gene': 'WormBase:WBGene00001840',\n",
       "  'orthologs': ['HGNC:17821'],\n",
       "  'score': 692},\n",
       " {'gene': 'WormBase:WBGene00004919',\n",
       "  'orthologs': ['HGNC:11161'],\n",
       "  'score': 691},\n",
       " {'gene': 'WormBase:WBGene00000962', 'orthologs': ['HGNC:2961'], 'score': 689},\n",
       " {'gene': 'WormBase:WBGene00002068', 'orthologs': [], 'score': 685},\n",
       " {'gene': 'WormBase:WBGene00010015',\n",
       "  'orthologs': ['HGNC:32151', 'HGNC:25567', 'HGNC:24007'],\n",
       "  'score': 685},\n",
       " {'gene': 'WormBase:WBGene00001596',\n",
       "  'orthologs': ['HGNC:26776'],\n",
       "  'score': 683},\n",
       " {'gene': 'WormBase:WBGene00004914',\n",
       "  'orthologs': ['HGNC:11160'],\n",
       "  'score': 683},\n",
       " {'gene': 'WormBase:WBGene00006698', 'orthologs': [], 'score': 677},\n",
       " {'gene': 'WormBase:WBGene00000182', 'orthologs': ['HGNC:652'], 'score': 675}]"
      ]
     },
     "execution_count": 13,
     "metadata": {},
     "output_type": "execute_result"
    }
   ],
   "source": [
    "for s in tqdm_notebook(ss):\n",
    "    s['orthologs'] = query_orthologs(s['gene'], \"NCBITaxon:9606\")\n",
    "ss"
   ]
  },
  {
   "cell_type": "code",
   "execution_count": 14,
   "metadata": {
    "scrolled": true
   },
   "outputs": [
    {
     "data": {
      "application/vnd.jupyter.widget-view+json": {
       "model_id": "d9acdecb02df459980688a903c459692",
       "version_major": 2,
       "version_minor": 0
      },
      "text/html": [
       "<p>Failed to display Jupyter Widget of type <code>HBox</code>.</p>\n",
       "<p>\n",
       "  If you're reading this message in the Jupyter Notebook or JupyterLab Notebook, it may mean\n",
       "  that the widgets JavaScript is still loading. If this message persists, it\n",
       "  likely means that the widgets JavaScript library is either not installed or\n",
       "  not enabled. See the <a href=\"https://ipywidgets.readthedocs.io/en/stable/user_install.html\">Jupyter\n",
       "  Widgets Documentation</a> for setup instructions.\n",
       "</p>\n",
       "<p>\n",
       "  If you're reading this message in another frontend (for example, a static\n",
       "  rendering on GitHub or <a href=\"https://nbviewer.jupyter.org/\">NBViewer</a>),\n",
       "  it may mean that your frontend doesn't currently support widgets.\n",
       "</p>\n"
      ],
      "text/plain": [
       "HBox(children=(IntProgress(value=0, max=80), HTML(value='')))"
      ]
     },
     "metadata": {},
     "output_type": "display_data"
    },
    {
     "name": "stdout",
     "output_type": "stream",
     "text": [
      "\n"
     ]
    }
   ],
   "source": [
    "for s in tqdm_notebook(ss):\n",
    "    s['label'] = get_obj(s['gene'])['label']\n",
    "    s['ortholog_labels'] = [get_obj(x)['label'] for x in s['orthologs']]"
   ]
  },
  {
   "cell_type": "markdown",
   "metadata": {},
   "source": [
    "## This is the output!!!"
   ]
  },
  {
   "cell_type": "code",
   "execution_count": 15,
   "metadata": {
    "scrolled": false
   },
   "outputs": [
    {
     "name": "stdout",
     "output_type": "stream",
     "text": [
      "HGNC:2514,CTNNB1,1433\n",
      "HGNC:3800,FOXC1,1403\n",
      "HGNC:583,APC,1396\n",
      "HGNC:1539,CBFB,1387\n",
      "HGNC:644,AR,1370\n",
      "HGNC:4319,GLI3,1366\n",
      "HGNC:15979,TP63,1347\n",
      "HGNC:9585,PTCH1,1344\n",
      "HGNC:10848,SHH,1340\n",
      "HGNC:7866,NOG,1335\n",
      "HGNC:6342,KIT,1333\n",
      "HGNC:8620,PAX6,1323\n",
      "HGNC:3689,FGFR2,1318\n",
      "HGNC:11998,TP53,1316\n",
      "HGNC:12036,TRAF6,1315\n",
      "HGNC:1071,BMP4,1305\n",
      "HGNC:3467,ESR1,1297\n",
      "HGNC:11768,TGFB2,1296\n",
      "HGNC:9967,RET,1295\n",
      "HGNC:6554,LEPR,1294\n"
     ]
    }
   ],
   "source": [
    "ss = sorted(ss, key=lambda x: x['score'], reverse=True)\n",
    "print(\"\\n\".join([\",\".join([x['orthologs'][0],x['ortholog_labels'][0], str(x['score'])]) for x in ss[:20]]))"
   ]
  },
  {
   "cell_type": "markdown",
   "metadata": {},
   "source": [
    "### Demo with one gene"
   ]
  },
  {
   "cell_type": "code",
   "execution_count": 16,
   "metadata": {
    "scrolled": true
   },
   "outputs": [
    {
     "data": {
      "text/plain": [
       "[('HP:0001677', 'Coronary artery atherosclerosis'),\n",
       " ('HP:0002107', 'Pneumothorax'),\n",
       " ('HP:0005162', 'Left ventricular failure'),\n",
       " ('HP:0001647', 'Bicuspid aortic valve'),\n",
       " ('HP:0002974', 'Radioulnar synostosis'),\n",
       " ('HP:0011106', 'Hypovolemia'),\n",
       " ('HP:0000965', 'Cutis marmorata'),\n",
       " ('HP:0002616', 'Aortic root aneurysm'),\n",
       " ('HP:0010772', 'Anomalous pulmonary venous return'),\n",
       " ('HP:0001643', 'Patent ductus arteriosus'),\n",
       " ('HP:0000494', 'Downslanted palpebral fissures'),\n",
       " ('HP:0004757', 'Paroxysmal atrial fibrillation'),\n",
       " ('HP:0002140', 'Ischemic stroke'),\n",
       " ('HP:0000525', 'Abnormality iris morphology'),\n",
       " ('HP:0000023', 'Inguinal hernia'),\n",
       " ('HP:0000218', 'High palate'),\n",
       " ('HP:0001629', 'Ventricular septal defect'),\n",
       " ('HP:0001199', 'Triphalangeal thumb'),\n",
       " ('HP:0002138', 'Subarachnoid hemorrhage'),\n",
       " ('HP:0001166', 'Arachnodactyly'),\n",
       " ('HP:0006695', 'Atrioventricular canal defect'),\n",
       " ('HP:0002943', 'Thoracic scoliosis'),\n",
       " ('HP:0001640', 'Cardiomegaly'),\n",
       " ('HP:0000822', 'Hypertension'),\n",
       " ('HP:0000772', 'Abnormality of the ribs'),\n",
       " ('HP:0004950', 'Peripheral arterial stenosis'),\n",
       " ('HP:0001191', 'Abnormality of the carpal bones'),\n",
       " ('HP:0200021', 'Down-sloping shoulders'),\n",
       " ('HP:0200146', 'Cystic medial necrosis of the aorta'),\n",
       " ('HP:0004944', 'Dilatation of the cerebral artery'),\n",
       " ('HP:0011304', 'Broad thumb'),\n",
       " ('HP:0001387', 'Joint stiffness'),\n",
       " ('HP:0005116', 'Arterial tortuosity'),\n",
       " ('HP:0002705', 'High, narrow palate'),\n",
       " ('HP:0003468', 'Abnormal vertebral morphology'),\n",
       " ('HP:0001631', 'Atrial septal defect'),\n",
       " ('HP:0011705', 'First degree atrioventricular block'),\n",
       " ('HP:0001163', 'Abnormality of the metacarpal bones'),\n",
       " ('HP:0000278', 'Retrognathia'),\n",
       " ('HP:0001171', 'Split hand'),\n",
       " ('HP:0100775', 'Dural ectasia'),\n",
       " ('HP:0000316', 'Hypertelorism'),\n",
       " ('HP:0012163', 'Carotid artery dilatation'),\n",
       " ('HP:0000912', 'Sprengel anomaly'),\n",
       " ('HP:0100749', 'Chest pain'),\n",
       " ('HP:0001679', 'Abnormal aortic morphology'),\n",
       " ('HP:0004933', 'Ascending aortic dissection'),\n",
       " ('HP:0002686', 'Prenatal maternal abnormality'),\n",
       " ('HP:0005112', 'Abdominal aortic aneurysm'),\n",
       " ('HP:0009751', 'Aplasia of the pectoralis major muscle'),\n",
       " ('HP:0002326', 'Transient ischemic attack'),\n",
       " ('HP:0000767', 'Pectus excavatum'),\n",
       " ('HP:0000098', 'Tall stature'),\n",
       " ('HP:0001634', 'Mitral valve prolapse'),\n",
       " ('HP:0006101', 'Finger syndactyly'),\n",
       " ('HP:0005692', 'Joint hyperflexibility'),\n",
       " ('HP:0009829', 'Phocomelia'),\n",
       " ('HP:0000766', 'Abnormality of the sternum'),\n",
       " ('HP:0002105', 'Hemoptysis'),\n",
       " ('HP:0003063', 'Abnormality of the humerus'),\n",
       " ('HP:0002875', 'Exertional dyspnea'),\n",
       " ('HP:0009944', 'Partial duplication of thumb phalanx'),\n",
       " ('HP:0002808', 'Kyphosis'),\n",
       " ('HP:0001762', 'Talipes equinovarus'),\n",
       " ('HP:0002097', 'Emphysema'),\n",
       " ('HP:0002650', 'Scoliosis'),\n",
       " ('HP:0012763', 'Paroxysmal dyspnea'),\n",
       " ('HP:0004383', 'Hypoplastic left heart'),\n",
       " ('HP:0000889', 'Abnormality of the clavicle'),\n",
       " ('HP:0001763', 'Pes planus'),\n",
       " ('HP:0012499', 'Descending aortic dissection'),\n",
       " ('HP:0003302', 'Spondylolisthesis'),\n",
       " ('HP:0000978', 'Bruising susceptibility'),\n",
       " ('HP:0006501', 'Aplasia/Hypoplasia of the radius'),\n",
       " ('HP:0004959', 'Descending thoracic aorta aneurysm'),\n",
       " ('HP:0009777', 'Absent thumb'),\n",
       " ('HP:0002647', 'Aortic dissection'),\n",
       " ('HP:0001659', 'Aortic regurgitation'),\n",
       " ('HP:0002984', 'Hypoplasia of the radius')]"
      ]
     },
     "execution_count": 16,
     "metadata": {},
     "output_type": "execute_result"
    }
   ],
   "source": [
    "## FANCC\n",
    "phenotypes = get_phenotype_from_gene_verbose(\"NCBIGene:7042\")\n",
    "phenotypes"
   ]
  },
  {
   "cell_type": "code",
   "execution_count": 17,
   "metadata": {},
   "outputs": [
    {
     "data": {
      "text/plain": [
       "[('MGI:96817', 68, 'Lox'),\n",
       " ('MGI:106923', 66, 'Tll1'),\n",
       " ('MGI:1913761', 66, 'Chtop'),\n",
       " ('MGI:1891209', 65, 'Efemp2'),\n",
       " ('MGI:3050795', 65, 'Mkl2'),\n",
       " ('MGI:5560774', 64, 'b2b2736Clo'),\n",
       " ('MGI:97531', 64, 'Pdgfrb'),\n",
       " ('MGI:95489', 64, 'Fbn1'),\n",
       " ('MGI:2446294', 64, 'Megf8'),\n",
       " ('MGI:109340', 63, 'Pitx2'),\n",
       " ('MGI:98726', 63, 'Tgfb2'),\n",
       " ('MGI:1920563', 62, 'Rpgrip1l'),\n",
       " ('MGI:1928901', 62, 'Pdzk1'),\n",
       " ('MGI:2154244', 62, 'Plxnd1'),\n",
       " ('MGI:1345643', 61, 'Sufu'),\n",
       " ('MGI:107718', 61, 'Dnah5'),\n",
       " ('MGI:1347466', 60, 'Foxc1'),\n",
       " ('MGI:1347465', 60, 'Foxh1'),\n",
       " ('MGI:95586', 60, 'Fst'),\n",
       " ('MGI:1919247', 60, 'Smg9'),\n",
       " ('MGI:109448', 59, 'Cfc1'),\n",
       " ('MGI:97788', 59, 'Psph'),\n",
       " ('MGI:5570107', 59, 'b2b2821Clo'),\n",
       " ('MGI:1927166', 59, 'Chst11'),\n",
       " ('MGI:5646601', 59, 'b2b3077Clo'),\n",
       " ('MGI:97350', 59, 'Nkx2-5'),\n",
       " ('MGI:98715', 59, 'Ift88'),\n",
       " ('MGI:98754', 59, 'Timp3'),\n",
       " ('MGI:1298393', 59, 'Sh3pxd2a'),\n",
       " ('MGI:1920145', 59, 'Setd5'),\n",
       " ('MGI:99604', 58, 'Fgf8'),\n",
       " ('MGI:88452', 58, 'Col2a1'),\n",
       " ('MGI:96257', 58, 'Hspg2'),\n",
       " ('MGI:95886', 58, 'H13'),\n",
       " ('MGI:1922941', 58, 'Anks6'),\n",
       " ('MGI:88192', 58, 'Smarca4'),\n",
       " ('MGI:1101357', 58, 'Ece1'),\n",
       " ('MGI:1920942', 57, '2410089E03Rik'),\n",
       " ('MGI:109151', 57, 'Ltbp1'),\n",
       " ('MGI:88467', 57, 'Col1a1'),\n",
       " ('MGI:97603', 57, 'Pkd1'),\n",
       " ('MGI:97712', 57, 'Prrx1'),\n",
       " ('MGI:97851', 57, 'Slc20a2'),\n",
       " ('MGI:97373', 57, 'Npr3'),\n",
       " ('MGI:1096335', 57, 'Adam17'),\n",
       " ('MGI:98729', 57, 'Tgfbr2'),\n",
       " ('MGI:98728', 57, 'Tgfbr1'),\n",
       " ('MGI:96828', 57, 'Lrp1'),\n",
       " ('MGI:95523', 57, 'Fgfr2'),\n",
       " ('MGI:103580', 57, 'Hand2'),\n",
       " ('MGI:96976', 57, 'Mgp'),\n",
       " ('MGI:98958', 56, 'Wnt5a'),\n",
       " ('MGI:96570', 56, 'Inhba'),\n",
       " ('MGI:3045353', 56, 'Adamts3'),\n",
       " ('MGI:97380', 56, 'Ntf3'),\n",
       " ('MGI:1929988', 56, 'Klf15'),\n",
       " ('MGI:1914027', 56, '4933434E20Rik'),\n",
       " ('MGI:105923', 56, 'Ednra'),\n",
       " ('MGI:95487', 56, 'Fbln1'),\n",
       " ('MGI:1913506', 56, 'Ssr2'),\n",
       " ('MGI:5311362', 56, 'b2b635Clo'),\n",
       " ('MGI:5311361', 56, 'b2b370Clo'),\n",
       " ('MGI:88181', 56, 'Bmp5'),\n",
       " ('MGI:1861689', 56, 'Is(In8B2-8B3.1;6C1)1Tshir'),\n",
       " ('MGI:2150920', 56, 'Fgfrl1'),\n",
       " ('MGI:98297', 55, 'Shh'),\n",
       " ('MGI:1342773', 55, 'Klf3'),\n",
       " ('MGI:1341884', 55, 'Hey2'),\n",
       " ('MGI:102541', 55, 'Tbx5'),\n",
       " ('MGI:95296', 55, 'Egr2'),\n",
       " ('MGI:97801', 55, 'Pth1r'),\n",
       " ('MGI:102780', 55, 'Six1'),\n",
       " ('MGI:1927243', 55, 'Rala'),\n",
       " ('MGI:5620178', 55, 'b2b2696Clo'),\n",
       " ('MGI:5620180', 55, 'b2b2696.1Clo'),\n",
       " ('MGI:87911', 55, 'Acvr1'),\n",
       " ('MGI:97487', 55, 'Pax3'),\n",
       " ('MGI:96175', 55, 'Hoxa3'),\n",
       " ('MGI:1914185', 55, 'Cir1'),\n",
       " ('MGI:97515', 55, 'Pcsk5'),\n",
       " ('MGI:2444465', 55, 'Frem2'),\n",
       " ('MGI:1923304', 55, 'Prrc2b'),\n",
       " ('MGI:103236', 55, 'Efna1'),\n",
       " ('MGI:94885', 55, 'Des'),\n",
       " ('MGI:106040', 55, 'Cyp51'),\n",
       " ('MGI:2446089', 55, 'Flnb'),\n",
       " ('MGI:1918187', 55, 'Trim45'),\n",
       " ('MGI:98214', 54, 'Rxra'),\n",
       " ('MGI:1918961', 54, 'Mus81'),\n",
       " ('MGI:109497', 54, 'Gata5'),\n",
       " ('MGI:1100864', 54, 'Dnah11'),\n",
       " ('MGI:96418', 54, 'Idua'),\n",
       " ('MGI:96571', 54, 'Inhbb'),\n",
       " ('MGI:102722', 54, 'Pcnt'),\n",
       " ('MGI:5646610', 54, 'b2b3077.2Clo'),\n",
       " ('MGI:2384768', 54, 'Hectd1'),\n",
       " ('MGI:2442062', 54, 'Sh3pxd2b'),\n",
       " ('MGI:95556', 54, 'Flna'),\n",
       " ('MGI:2146906', 54, 'Ift140'),\n",
       " ('MGI:95713', 54, 'Gja1')]"
      ]
     },
     "execution_count": 17,
     "metadata": {},
     "output_type": "execute_result"
    }
   ],
   "source": [
    "d = get_phenotypically_similar_genes([x[0] for x in phenotypes], \"10090\", return_all=True)\n",
    "genes = get_phenotypically_similar_genes([x[0] for x in phenotypes], \"10090\", return_all=False)\n",
    "genes"
   ]
  },
  {
   "cell_type": "code",
   "execution_count": 18,
   "metadata": {},
   "outputs": [
    {
     "data": {
      "text/plain": [
       "('MGI:96817', 'Lox')"
      ]
     },
     "execution_count": 18,
     "metadata": {},
     "output_type": "execute_result"
    }
   ],
   "source": [
    "match = d['b'][0]\n",
    "(match['id'],match['label'])"
   ]
  },
  {
   "cell_type": "code",
   "execution_count": 19,
   "metadata": {},
   "outputs": [
    {
     "data": {
      "text/plain": [
       "[{'a': {'IC': 9.717293049024157,\n",
       "   'id': 'HP:0004950',\n",
       "   'label': 'Peripheral arterial stenosis'},\n",
       "  'b': {'IC': 10.102227593739434,\n",
       "   'id': 'MP:0010457',\n",
       "   'label': 'pulmonary artery stenosis'},\n",
       "  'lcs': {'IC': 7.114954719349155,\n",
       "   'id': 'MP:0006135',\n",
       "   'label': 'artery stenosis'}},\n",
       " {'a': {'IC': 5.482052841731362, 'id': 'HP:0001640', 'label': 'Cardiomegaly'},\n",
       "  'b': {'IC': 8.084227593739431,\n",
       "   'id': 'MP:0000276',\n",
       "   'label': 'heart right ventricle hypertrophy'},\n",
       "  'lcs': {'IC': 5.482052841731362,\n",
       "   'id': 'MP:0000274',\n",
       "   'label': 'enlarged heart'}}]"
      ]
     },
     "execution_count": 19,
     "metadata": {},
     "output_type": "execute_result"
    }
   ],
   "source": [
    "match['matches'][:2]"
   ]
  },
  {
   "cell_type": "code",
   "execution_count": 20,
   "metadata": {
    "scrolled": false
   },
   "outputs": [
    {
     "data": {
      "text/plain": [
       "[('MP:0006135', 'artery stenosis'),\n",
       " ('MP:0000274', 'enlarged heart'),\n",
       " ('MP:0011572', 'abnormal aorta bulb morphology'),\n",
       " ('MP:0009868', 'abnormal descending thoracic aorta morphology'),\n",
       " ('MP:0006049', 'semilunar valve regurgitation'),\n",
       " ('HP:0009131', 'Abnormality of the musculature of the thorax'),\n",
       " ('MP:0001958', 'emphysema'),\n",
       " ('MP:0001634', 'internal hemorrhage')]"
      ]
     },
     "execution_count": 20,
     "metadata": {},
     "output_type": "execute_result"
    }
   ],
   "source": [
    "# FANCC and Gli3 are \"phenotypically similar\" because of these phenotypes in common\n",
    "[(x['lcs']['id'],x['lcs']['label']) for x in match['matches']]"
   ]
  },
  {
   "cell_type": "code",
   "execution_count": 21,
   "metadata": {},
   "outputs": [
    {
     "data": {
      "text/plain": [
       "['HGNC:6664']"
      ]
     },
     "execution_count": 21,
     "metadata": {},
     "output_type": "execute_result"
    }
   ],
   "source": [
    "human_orthologs = query_orthologs(match['id'], taxon=\"NCBITaxon:9606\")\n",
    "human_orthologs"
   ]
  },
  {
   "cell_type": "code",
   "execution_count": 22,
   "metadata": {},
   "outputs": [
    {
     "name": "stdout",
     "output_type": "stream",
     "text": [
      "NCBIGene:80233 FAAP100 []\n",
      "NCBIGene:79728 PALB2 [('MGI:98726', 61, 'Tgfb2')]\n",
      "NCBIGene:675 BRCA2 [('MGI:98726', 57, 'Tgfb2')]\n",
      "NCBIGene:2176 FANCC [('MGI:98726', 61, 'Tgfb2')]\n",
      "NCBIGene:2178 FANCE [('MGI:98726', 61, 'Tgfb2')]\n",
      "NCBIGene:378708 CENPS []\n",
      "NCBIGene:91442 FAAP24 []\n",
      "NCBIGene:2072 ERCC4 [('MGI:98726', 56, 'Tgfb2')]\n",
      "NCBIGene:84464 SLX4 [('MGI:98726', 62, 'Tgfb2')]\n",
      "NCBIGene:5888 RAD51 [('MGI:98726', 62, 'Tgfb2')]\n",
      "NCBIGene:55159 RFWD3 [('MGI:98726', 63, 'Tgfb2')]\n",
      "NCBIGene:2175 FANCA [('MGI:98726', 62, 'Tgfb2')]\n",
      "NCBIGene:2188 FANCF [('MGI:98726', 63, 'Tgfb2')]\n",
      "NCBIGene:10459 MAD2L2 [('MGI:98726', 63, 'Tgfb2')]\n",
      "NCBIGene:2187 FANCB [('MGI:98726', 63, 'Tgfb2')]\n",
      "NCBIGene:29089 UBE2T [('MGI:98726', 63, 'Tgfb2')]\n",
      "NCBIGene:57697 FANCM [('MGI:98726', 63, 'Tgfb2')]\n",
      "NCBIGene:7516 XRCC2 [('MGI:98726', 63, 'Tgfb2')]\n",
      "NCBIGene:55120 FANCL [('MGI:98726', 63, 'Tgfb2')]\n",
      "NCBIGene:199990 FAAP20 []\n",
      "NCBIGene:83990 BRIP1 [('MGI:98726', 61, 'Tgfb2')]\n",
      "NCBIGene:2177 FANCD2 [('MGI:98726', 62, 'Tgfb2')]\n",
      "NCBIGene:2189 FANCG [('MGI:98726', 63, 'Tgfb2')]\n",
      "NCBIGene:672 BRCA1 []\n",
      "NCBIGene:5889 RAD51C [('MGI:98726', 61, 'Tgfb2')]\n",
      "NCBIGene:201254 CENPX []\n",
      "NCBIGene:55215 FANCI [('MGI:98726', 63, 'Tgfb2')]\n"
     ]
    }
   ],
   "source": [
    "for human_gene, pgenes in gene_genes.items():\n",
    "    pgenes = [x for x in pgenes if \"MGI:98726\" == x[0]]\n",
    "    print(human_gene, get_obj(human_gene)['label'], pgenes)"
   ]
  },
  {
   "cell_type": "code",
   "execution_count": 23,
   "metadata": {
    "scrolled": false
   },
   "outputs": [
    {
     "data": {
      "text/plain": [
       "[('MONDO:0008112', 58, 'Goldenhar syndrome'),\n",
       " ('MONDO:0009046', 58, 'Fraser syndrome'),\n",
       " ('MONDO:0008965', 58, 'CHARGE syndrome'),\n",
       " ('MONDO:0009910', 57, 'Wiedemann-Rautenstrauch syndrome'),\n",
       " ('MONDO:0008678', 57, 'Williams syndrome'),\n",
       " ('MONDO:0010561', 57, 'Coffin-Lowry syndrome'),\n",
       " ('MONDO:0021002', 57, 'syndactyly (disease)'),\n",
       " ('MONDO:0019391', 56, 'Fanconi anemia'),\n",
       " ('MONDO:0002457', 56, 'Treacher-Collins syndrome'),\n",
       " ('MONDO:0009997', 56, 'Roberts syndrome'),\n",
       " ('MONDO:0002378', 56, 'dermoid cyst'),\n",
       " ('MONDO:0013099',\n",
       "  56,\n",
       "  'combined pituitary hormone deficiencies, genetic forms'),\n",
       " ('MONDO:0009736', 56, 'Neu-Laxova syndrome 1'),\n",
       " ('MONDO:0010731', 56, 'Simpson-Golabi-Behmel syndrome'),\n",
       " ('MONDO:0003119', 56, 'histiocytoid hemangioma'),\n",
       " ('MONDO:0002933', 56, 'osteosclerosis'),\n",
       " ('MONDO:0005096', 56, 'squamous cell carcinoma'),\n",
       " ('MONDO:0002601', 55, 'teratoma'),\n",
       " ('MONDO:0007534', 55, 'Beckwith-Wiedemann syndrome'),\n",
       " ('MONDO:0010802',\n",
       "  55,\n",
       "  'pancreatic hypoplasia-diabetes-congenital heart disease syndrome'),\n",
       " ('MONDO:0009821', 55, 'lethal osteosclerotic bone dysplasia'),\n",
       " ('MONDO:0009856', 55, 'Peters plus syndrome'),\n",
       " ('MONDO:0010651', 55, 'Menkes disease'),\n",
       " ('MONDO:0009254', 55, 'fucosidosis'),\n",
       " ('MONDO:0010002', 55, 'Rothmund-Thomson syndrome'),\n",
       " ('MONDO:0009039', 55, 'Baller-Gerold syndrome'),\n",
       " ('MONDO:0007804', 55, 'Pallister-hall syndrome'),\n",
       " ('MONDO:0006574', 55, 'lipomatosis'),\n",
       " ('MONDO:0002732', 55, 'lung benign neoplasm'),\n",
       " ('MONDO:0005015', 55, 'diabetes mellitus (disease)'),\n",
       " ('MONDO:0007473', 54, 'Duane retraction syndrome'),\n",
       " ('MONDO:0008608', 54, 'down syndrome'),\n",
       " ('MONDO:0002367', 54, 'kidney cancer'),\n",
       " ('MONDO:0010592', 54, 'focal dermal hypoplasia'),\n",
       " ('MONDO:0002123', 54, 'calcinosis'),\n",
       " ('MONDO:0010568', 54, 'Aicardi syndrome'),\n",
       " ('MONDO:0010121', 54, 'thrombocytopenia-absent radius syndrome'),\n",
       " ('MONDO:0009162', 54, 'Ellis-van Creveld syndrome'),\n",
       " ('MONDO:0010035', 54, 'Smith-Lemli-Opitz syndrome'),\n",
       " ('MONDO:0016296', 54, 'holoprosencephaly'),\n",
       " ('MONDO:0012563', 54, 'holoprosencephaly 9'),\n",
       " ('MONDO:0019933', 54, 'acromegaly'),\n",
       " ('MONDO:0001835', 54, 'facial paralysis'),\n",
       " ('MONDO:0002691', 53, 'liver cancer'),\n",
       " ('MONDO:0007520',\n",
       "  53,\n",
       "  'ectrodactyly, ectodermal dysplasia, and cleft lip-palate syndrome 1'),\n",
       " ('MONDO:0002546', 53, 'schwannoma'),\n",
       " ('MONDO:0019499', 53, 'Turner syndrome'),\n",
       " ('MONDO:0008642', 53, 'VACTERL/vater association'),\n",
       " ('MONDO:0016982', 53, 'angiosarcoma (disease)'),\n",
       " ('MONDO:0008274', 53, 'polyostotic fibrous dysplasia'),\n",
       " ('MONDO:0002129', 53, 'bone cancer'),\n",
       " ('MONDO:0011929', 53, 'chromosome 1p36 deletion syndrome'),\n",
       " ('MONDO:0010672', 53, 'microphthalmia with linear skin defects syndrome'),\n",
       " ('MONDO:0010572', 53, 'occipital horn syndrome'),\n",
       " ('MONDO:0000966', 53, 'pleomorphic lipoma'),\n",
       " ('MONDO:0008006', 53, 'Mobius syndrome'),\n",
       " ('MONDO:0008013', 53, 'chromosome 9p deletion syndrome'),\n",
       " ('MONDO:0011495', 53, 'Langerhans-cell histiocytosis'),\n",
       " ('MONDO:0010172', 53, 'VACTERL with hydrocephalus'),\n",
       " ('MONDO:0005606', 53, 'tubular adenocarcinoma'),\n",
       " ('MONDO:0010010', 53, 'Schinzel-Giedion syndrome'),\n",
       " ('MONDO:0009026', 53, 'Costello syndrome'),\n",
       " ('MONDO:0009061', 53, 'cystic fibrosis'),\n",
       " ('MONDO:0001896', 53, 'obstructive hydrocephalus'),\n",
       " ('MONDO:0005447', 53, 'testicular cancer'),\n",
       " ('MONDO:0007943', 53, 'Nager acrofacial dysostosis'),\n",
       " ('MONDO:0005301', 53, 'multiple sclerosis'),\n",
       " ('MONDO:0007838', 53, 'Jacobsen syndrome'),\n",
       " ('MONDO:0005246', 53, 'osteomyelitis (disease)'),\n",
       " ('MONDO:0005105', 53, 'melanoma (disease)'),\n",
       " ('MONDO:0002927', 53, 'spindle cell sarcoma'),\n",
       " ('MONDO:0002614', 52, 'bone inflammation disease'),\n",
       " ('MONDO:0002615', 52, 'xanthomatosis (disease)'),\n",
       " ('MONDO:0008876', 52, 'Bloom syndrome'),\n",
       " ('MONDO:0009999', 52, 'autosomal recessive Robinow syndrome'),\n",
       " ('MONDO:0019338', 52, 'sarcoidosis'),\n",
       " ('MONDO:0007187', 52, 'nevoid basal cell carcinoma syndrome'),\n",
       " ('MONDO:0009831', 52, 'malignant pancreatic neoplasm'),\n",
       " ('MONDO:0008393', 52, 'Rubinstein-Taybi syndrome due to CREBBP mutations'),\n",
       " ('MONDO:0016817', 52, 'Meier-Gorlin syndrome'),\n",
       " ('MONDO:0010702', 52, 'orofaciodigital syndrome I'),\n",
       " ('MONDO:0010584', 52, 'dyskeratosis congenita, X-linked'),\n",
       " ('MONDO:0010631', 52, 'Bloch-Sulzberger syndrome'),\n",
       " ('MONDO:0010645', 52, 'oculocerebrorenal syndrome'),\n",
       " ('MONDO:0019004', 52, 'kidney Wilms tumor'),\n",
       " ('MONDO:0005941', 52, 'retroperitoneal cancer'),\n",
       " ('MONDO:0011812', 52, 'Duane-radial ray syndrome'),\n",
       " ('MONDO:0004585', 52, 'polyhydramnios (disease)'),\n",
       " ('MONDO:0009318', 52, 'Hallermann-Streiff syndrome'),\n",
       " ('MONDO:0010310', 52, 'osteopathia striata with cranial sclerosis'),\n",
       " ('MONDO:0018905', 52, 'diffuse large B-cell lymphoma'),\n",
       " ('MONDO:0010196', 52, 'Werner syndrome'),\n",
       " ('MONDO:0003002', 52, 'dysgerminoma (disease)'),\n",
       " ('MONDO:0009047', 52, 'cryptorchidism (disease)'),\n",
       " ('MONDO:0011428',\n",
       "  52,\n",
       "  'ectrodactyly, ectodermal dysplasia, and cleft lip-palate syndrome 3'),\n",
       " ('MONDO:0005420', 52, 'hypothyroidism'),\n",
       " ('MONDO:0018612', 52, 'congenital hypothyroidism'),\n",
       " ('MONDO:0007999', 52, 'holoprosencephaly 2'),\n",
       " ('MONDO:0017314', 52, 'Ehlers-Danlos syndrome, vascular type'),\n",
       " ('MONDO:0012342', 52, '7q11.23 microduplication syndrome')]"
      ]
     },
     "execution_count": 23,
     "metadata": {},
     "output_type": "execute_result"
    }
   ],
   "source": [
    "## Version 2 : Get orthologs first\n",
    "phenotypes = get_phenotype_from_gene(\"MGI:88276\")\n",
    "get_phenotypically_similar_genes(phenotypes, \"9606\")"
   ]
  }
 ],
 "metadata": {
  "kernelspec": {
   "display_name": "Python 3",
   "language": "python",
   "name": "python3"
  },
  "language_info": {
   "codemirror_mode": {
    "name": "ipython",
    "version": 3
   },
   "file_extension": ".py",
   "mimetype": "text/x-python",
   "name": "python",
   "nbconvert_exporter": "python",
   "pygments_lexer": "ipython3",
   "version": "3.5.2"
  }
 },
 "nbformat": 4,
 "nbformat_minor": 2
}
