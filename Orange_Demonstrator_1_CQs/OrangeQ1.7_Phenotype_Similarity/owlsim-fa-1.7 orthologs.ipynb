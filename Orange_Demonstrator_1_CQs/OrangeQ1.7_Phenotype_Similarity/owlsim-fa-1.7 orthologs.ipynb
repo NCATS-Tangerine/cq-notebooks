{
 "cells": [
  {
   "cell_type": "markdown",
   "metadata": {
    "deletable": true,
    "editable": true
   },
   "source": [
    "## Orange Team CQ#1.7\n",
    "\n",
    "### Query: \n",
    "What genes show high phenotypic similarity to the 11 Fanconi Anemia core complex genes (set FA-core)?\n",
    "\n",
    "### Services:\n",
    "BioLink API (Monarch) - https://api.monarchinitiative.org/api/\n",
    "\n",
    "Simsearch - https://monarchinitiative.org/simsearch\n",
    "\n",
    "### Approach:\n",
    "Take all 27 human FA genes. For each gene, retrieve the phenotypically similar genes from mouse, zebrafish, worm, and fly. The output is a list of genes and a score. Sum of the scores for each of the genes, across all 27 FA genes. Take the top X (10) phenotypically similar genes from each organism, and then get the human orthologs of those genes. \n",
    "\n",
    "### Author\n",
    "Gstupp"
   ]
  },
  {
   "cell_type": "code",
   "execution_count": 1,
   "metadata": {
    "collapsed": true,
    "deletable": true,
    "editable": true
   },
   "outputs": [],
   "source": [
    "# autogenerate biolink_client\n",
    "# curl --insecure -X POST -H \"content-type:application/json\" -d '{\"swaggerUrl\":\"https://api.monarchinitiative.org/api/swagger.json\"}' https://generator.swagger.io/api/gen/clients/python\n",
    "# and rename it to biolink_client"
   ]
  },
  {
   "cell_type": "code",
   "execution_count": 2,
   "metadata": {
    "collapsed": true,
    "deletable": true,
    "editable": true
   },
   "outputs": [],
   "source": [
    "import os, sys\n",
    "# change this path\n",
    "sys.path.insert(0, \"/home/gstupp/projects/NCATS-Tangerine/biolink_client\")"
   ]
  },
  {
   "cell_type": "code",
   "execution_count": 19,
   "metadata": {
    "collapsed": true,
    "deletable": true,
    "editable": true
   },
   "outputs": [],
   "source": [
    "import biolink_client\n",
    "from biolink_client.api_client import ApiClient\n",
    "from biolink_client.rest import ApiException\n",
    "import requests\n",
    "from itertools import chain\n",
    "import pandas as pd\n",
    "from pprint import pprint\n",
    "from tqdm import tqdm, tqdm_notebook\n",
    "from collections import defaultdict\n",
    "\n",
    "pd.options.display.max_rows = 999\n",
    "\n",
    "MONARCH_API = \"https://api.monarchinitiative.org/api\"\n",
    "SIMSEARCH_API = \"https://monarchinitiative.org/simsearch/phenotype\"\n",
    "\n",
    "gene_list = \"https://raw.githubusercontent.com/NCATS-Tangerine/cq-notebooks/master/FA_gene_sets/FA_4_all_genes.txt\"\n",
    "\n",
    "client = ApiClient(host=MONARCH_API)\n",
    "client.set_default_header('Content-Type', 'text/plain')\n",
    "api_instance = biolink_client.BioentityApi(client)\n",
    "\n",
    "# Get the gene list from github\n",
    "dataframe = pd.read_csv(gene_list, sep='\\t', names=['gene_id', 'symbol'])\n",
    "df = dataframe.set_index('symbol')\n",
    "human_genes = set(df.gene_id)"
   ]
  },
  {
   "cell_type": "code",
   "execution_count": 32,
   "metadata": {
    "collapsed": true,
    "deletable": true,
    "editable": true
   },
   "outputs": [],
   "source": [
    "taxids = [10090, 7955, 7227, 6239]\n",
    "prefixes = ['MGI', 'ZFIN', 'WormBase', 'FlyBase']"
   ]
  },
  {
   "cell_type": "code",
   "execution_count": 5,
   "metadata": {
    "collapsed": false,
    "deletable": true,
    "editable": true
   },
   "outputs": [
    {
     "data": {
      "text/plain": [
       "'Homo sapiens'"
      ]
     },
     "execution_count": 5,
     "metadata": {},
     "output_type": "execute_result"
    }
   ],
   "source": [
    "def get_obj(obj_id):\n",
    "    url = \"https://api.monarchinitiative.org/api/bioentity/{}\".format(obj_id)\n",
    "    res = requests.get(url)\n",
    "    d = res.json()\n",
    "    return d\n",
    "def get_taxon_from_gene(gene):\n",
    "    return get_obj(gene)['taxon']['label']\n",
    "get_taxon_from_gene('NCBIGene:2176')"
   ]
  },
  {
   "cell_type": "code",
   "execution_count": null,
   "metadata": {
    "collapsed": true,
    "deletable": true,
    "editable": true
   },
   "outputs": [],
   "source": [
    "def query_orthologs(gene_id, taxon=None):\n",
    "    \"\"\"Query Monarch to determine the orthologs of a gene.\"\"\"\n",
    "    url = \"https://api.monarchinitiative.org/api/bioentity/gene/{}/homologs/\".format(gene_id)\n",
    "    if taxon:\n",
    "        res = requests.get(url, params={'homolog_taxon': taxon})\n",
    "    else:        \n",
    "        res = requests.get(url)\n",
    "    d = res.json()\n",
    "    return [x['object']['id'] for x in d['associations']]\n",
    "#query_orthologs('MGI:88276', taxon=\"NCBITaxon:9606\")"
   ]
  },
  {
   "cell_type": "code",
   "execution_count": 68,
   "metadata": {
    "collapsed": false,
    "deletable": true,
    "editable": true
   },
   "outputs": [],
   "source": [
    "def get_phenotype_from_gene(gene):\n",
    "    # https://monarchinitiative.org/gene/NCBIGene%3A2176/phenotype_list.json\n",
    "    url = \"https://monarchinitiative.org/gene/{}/phenotype_list.json\"\n",
    "    return [x['id'] for x in requests.get(url.format(gene)).json()['phenotype_list']]\n",
    "def get_phenotype_from_gene_verbose(gene):\n",
    "    # https://monarchinitiative.org/gene/NCBIGene%3A2176/phenotype_list.json\n",
    "    url = \"https://monarchinitiative.org/gene/{}/phenotype_list.json\"\n",
    "    return [(x['id'],x['label']) for x in requests.get(url.format(gene)).json()['phenotype_list']]\n",
    "#get_phenotype_from_gene(\"NCBIGene:2176\")"
   ]
  },
  {
   "cell_type": "code",
   "execution_count": 82,
   "metadata": {
    "collapsed": false,
    "deletable": true,
    "editable": true,
    "scrolled": true
   },
   "outputs": [],
   "source": [
    "def get_phenotypically_similar_genes(phenotypes, taxon, return_all=False):\n",
    "    headers = {\n",
    "        'Accept-Encoding': 'gzip, deflate, br',\n",
    "        'Accept-Language': 'en-US,en;q=0.8',\n",
    "        'Content-Type': 'application/x-www-form-urlencoded; charset=UTF-8',\n",
    "        'Accept': 'application/json, text/javascript, */*; q=0.01',\n",
    "    }\n",
    "    data = {'input_items': \" \".join(phenotypes), \"target_species\": taxon}\n",
    "    r = requests.post(SIMSEARCH_API, data=data, headers=headers)\n",
    "    d = r.json()\n",
    "    if return_all:\n",
    "        return d\n",
    "    if 'b' in d:\n",
    "        scores = [(x['id'],x['score']['score'], x['label']) for x in d['b']]\n",
    "    else:\n",
    "        scores = []\n",
    "    return scores\n",
    "#get_phenotypically_similar_genes(phenotypes, \"10090\")"
   ]
  },
  {
   "cell_type": "code",
   "execution_count": 21,
   "metadata": {
    "collapsed": false,
    "deletable": true,
    "editable": true,
    "scrolled": false
   },
   "outputs": [
    {
     "name": "stderr",
     "output_type": "stream",
     "text": [
      "The installed widget Javascript is the wrong version.\n",
      "The installed widget Javascript is the wrong version.\n",
      "The installed widget Javascript is the wrong version.\n",
      "The installed widget Javascript is the wrong version.\n",
      "The installed widget Javascript is the wrong version.\n"
     ]
    },
    {
     "name": "stdout",
     "output_type": "stream",
     "text": [
      "\n"
     ]
    }
   ],
   "source": [
    "# human_genes = [\"NCBIGene:2176\"]\n",
    "gene_genes = defaultdict(list)\n",
    "for taxid in tqdm_notebook(taxids):\n",
    "    for gene in tqdm_notebook(human_genes, leave=False):\n",
    "        phenotypes = get_phenotype_from_gene(gene)\n",
    "        gene_genes[gene].extend(get_phenotypically_similar_genes(phenotypes, taxid))"
   ]
  },
  {
   "cell_type": "code",
   "execution_count": 126,
   "metadata": {
    "collapsed": false,
    "deletable": true,
    "editable": true
   },
   "outputs": [],
   "source": [
    "s = defaultdict(int)\n",
    "gene_label = dict()\n",
    "for human_gene, ortho_genes in gene_genes.items():\n",
    "    for ortho_gene, score, label in ortho_genes:\n",
    "        gene_label[ortho_gene] = label\n",
    "        s[ortho_gene] += score"
   ]
  },
  {
   "cell_type": "code",
   "execution_count": 127,
   "metadata": {
    "collapsed": false,
    "deletable": true,
    "editable": true
   },
   "outputs": [
    {
     "data": {
      "text/plain": [
       "[{'gene': 'MGI:88276', 'score': 1359},\n",
       " {'gene': 'MGI:1347466', 'score': 1341},\n",
       " {'gene': 'MGI:88039', 'score': 1332},\n",
       " {'gene': 'MGI:99851', 'score': 1321},\n",
       " {'gene': 'MGI:105373', 'score': 1314},\n",
       " {'gene': 'MGI:88064', 'score': 1310},\n",
       " {'gene': 'MGI:95729', 'score': 1308},\n",
       " {'gene': 'MGI:1330810', 'score': 1301},\n",
       " {'gene': 'MGI:98726', 'score': 1286},\n",
       " {'gene': 'MGI:88180', 'score': 1282},\n",
       " {'gene': 'MGI:98297', 'score': 1280},\n",
       " {'gene': 'MGI:107656', 'score': 1273},\n",
       " {'gene': 'MGI:1298393', 'score': 1270},\n",
       " {'gene': 'MGI:2148793', 'score': 1267},\n",
       " {'gene': 'MGI:1913761', 'score': 1266},\n",
       " {'gene': 'MGI:95523', 'score': 1263},\n",
       " {'gene': 'MGI:96677', 'score': 1263},\n",
       " {'gene': 'MGI:98834', 'score': 1259},\n",
       " {'gene': 'MGI:104327', 'score': 1258},\n",
       " {'gene': 'MGI:109583', 'score': 1253},\n",
       " {'gene': 'WormBase:WBGene00010556', 'score': 747},\n",
       " {'gene': 'WormBase:WBGene00004077', 'score': 731},\n",
       " {'gene': 'WormBase:WBGene00016837', 'score': 726},\n",
       " {'gene': 'WormBase:WBGene00004392', 'score': 705},\n",
       " {'gene': 'WormBase:WBGene00003829', 'score': 701},\n",
       " {'gene': 'WormBase:WBGene00004391', 'score': 699},\n",
       " {'gene': 'WormBase:WBGene00000405', 'score': 693},\n",
       " {'gene': 'WormBase:WBGene00000871', 'score': 689},\n",
       " {'gene': 'WormBase:WBGene00001005', 'score': 689},\n",
       " {'gene': 'WormBase:WBGene00004208', 'score': 677},\n",
       " {'gene': 'WormBase:WBGene00003902', 'score': 675},\n",
       " {'gene': 'WormBase:WBGene00004914', 'score': 674},\n",
       " {'gene': 'WormBase:WBGene00000249', 'score': 674},\n",
       " {'gene': 'WormBase:WBGene00001596', 'score': 672},\n",
       " {'gene': 'WormBase:WBGene00022852', 'score': 661},\n",
       " {'gene': 'WormBase:WBGene00000516', 'score': 656},\n",
       " {'gene': 'WormBase:WBGene00001497', 'score': 653},\n",
       " {'gene': 'WormBase:WBGene00000182', 'score': 649},\n",
       " {'gene': 'WormBase:WBGene00000496', 'score': 648},\n",
       " {'gene': 'WormBase:WBGene00004459', 'score': 646},\n",
       " {'gene': 'ZFIN:ZDB-GENE-031114-4', 'score': 1185},\n",
       " {'gene': 'ZFIN:ZDB-GENE-040827-2', 'score': 1148},\n",
       " {'gene': 'ZFIN:ZDB-GENE-011026-1', 'score': 1124},\n",
       " {'gene': 'ZFIN:ZDB-GENE-080405-1', 'score': 1108},\n",
       " {'gene': 'ZFIN:ZDB-GENE-030131-5870', 'score': 1098},\n",
       " {'gene': 'ZFIN:ZDB-GENE-040426-1716', 'score': 1078},\n",
       " {'gene': 'ZFIN:ZDB-GENE-030404-2', 'score': 1062},\n",
       " {'gene': 'ZFIN:ZDB-GENE-990706-8', 'score': 1058},\n",
       " {'gene': 'ZFIN:ZDB-GENE-000626-1', 'score': 1054},\n",
       " {'gene': 'ZFIN:ZDB-GENE-030131-6378', 'score': 1053},\n",
       " {'gene': 'ZFIN:ZDB-GENE-070327-2', 'score': 1051},\n",
       " {'gene': 'ZFIN:ZDB-GENE-990415-270', 'score': 1048},\n",
       " {'gene': 'ZFIN:ZDB-GENE-030131-8494', 'score': 1047},\n",
       " {'gene': 'ZFIN:ZDB-GENE-021115-2', 'score': 1045},\n",
       " {'gene': 'ZFIN:ZDB-GENE-011010-3', 'score': 1041},\n",
       " {'gene': 'ZFIN:ZDB-GENE-070912-179', 'score': 1040},\n",
       " {'gene': 'ZFIN:ZDB-GENE-040718-190', 'score': 1037},\n",
       " {'gene': 'ZFIN:ZDB-GENE-060125-1', 'score': 1035},\n",
       " {'gene': 'ZFIN:ZDB-GENE-990415-171', 'score': 1035},\n",
       " {'gene': 'ZFIN:ZDB-GENE-040827-3', 'score': 1032},\n",
       " {'gene': 'FlyBase:FBgn0000202', 'score': 180},\n",
       " {'gene': 'FlyBase:FBgn0000379', 'score': 180},\n",
       " {'gene': 'FlyBase:FBgn0000366', 'score': 180},\n",
       " {'gene': 'FlyBase:FBgn0000501', 'score': 180},\n",
       " {'gene': 'FlyBase:FBgn0000219', 'score': 180},\n",
       " {'gene': 'FlyBase:FBgn0003367', 'score': 180},\n",
       " {'gene': 'FlyBase:FBgn0000200', 'score': 168},\n",
       " {'gene': 'FlyBase:FBgn0001670', 'score': 156},\n",
       " {'gene': 'FlyBase:FBgn0016123', 'score': 156},\n",
       " {'gene': 'FlyBase:FBgn0039840', 'score': 156},\n",
       " {'gene': 'FlyBase:FBgn0000205', 'score': 150},\n",
       " {'gene': 'FlyBase:FBgn0003069', 'score': 150},\n",
       " {'gene': 'FlyBase:FBgn0001671', 'score': 150},\n",
       " {'gene': 'FlyBase:FBgn0001672', 'score': 150},\n",
       " {'gene': 'FlyBase:FBgn0038221', 'score': 150},\n",
       " {'gene': 'FlyBase:FBgn0024321', 'score': 144},\n",
       " {'gene': 'FlyBase:FBgn0085417', 'score': 144},\n",
       " {'gene': 'FlyBase:FBgn0264645', 'score': 144},\n",
       " {'gene': 'FlyBase:FBgn0264664', 'score': 144},\n",
       " {'gene': 'FlyBase:FBgn0263986', 'score': 144}]"
      ]
     },
     "execution_count": 127,
     "metadata": {},
     "output_type": "execute_result"
    }
   ],
   "source": [
    "top10 = dict()\n",
    "for prefix in prefixes:\n",
    "    ss = {k:v for k,v in s.items() if k.startswith(prefix)}\n",
    "    top10[prefix] = sorted(ss.items(), key=lambda x:x[1], reverse=True)[:20]\n",
    "ss = list(chain(*top10.values()))\n",
    "ss = [{'gene': s[0], 'score': s[1]} for s in ss]\n",
    "ss"
   ]
  },
  {
   "cell_type": "code",
   "execution_count": 128,
   "metadata": {
    "collapsed": false,
    "deletable": true,
    "editable": true,
    "scrolled": false
   },
   "outputs": [
    {
     "name": "stderr",
     "output_type": "stream",
     "text": [
      "The installed widget Javascript is the wrong version.\n"
     ]
    },
    {
     "name": "stdout",
     "output_type": "stream",
     "text": [
      "\n"
     ]
    },
    {
     "data": {
      "text/plain": [
       "[{'gene': 'MGI:88276', 'orthologs': ['NCBIGene:1499'], 'score': 1359},\n",
       " {'gene': 'MGI:1347466', 'orthologs': ['NCBIGene:2296'], 'score': 1341},\n",
       " {'gene': 'MGI:88039', 'orthologs': ['NCBIGene:324'], 'score': 1332},\n",
       " {'gene': 'MGI:99851', 'orthologs': ['NCBIGene:865'], 'score': 1321},\n",
       " {'gene': 'MGI:105373', 'orthologs': ['NCBIGene:5727'], 'score': 1314},\n",
       " {'gene': 'MGI:88064', 'orthologs': ['NCBIGene:367'], 'score': 1310},\n",
       " {'gene': 'MGI:95729', 'orthologs': ['NCBIGene:2737'], 'score': 1308},\n",
       " {'gene': 'MGI:1330810', 'orthologs': ['NCBIGene:8626'], 'score': 1301},\n",
       " {'gene': 'MGI:98726', 'orthologs': ['NCBIGene:7042'], 'score': 1286},\n",
       " {'gene': 'MGI:88180', 'orthologs': ['NCBIGene:652'], 'score': 1282},\n",
       " {'gene': 'MGI:98297', 'orthologs': ['NCBIGene:6469'], 'score': 1280},\n",
       " {'gene': 'MGI:107656', 'orthologs': ['NCBIGene:3458'], 'score': 1273},\n",
       " {'gene': 'MGI:1298393', 'orthologs': ['NCBIGene:9644'], 'score': 1270},\n",
       " {'gene': 'MGI:2148793', 'orthologs': ['NCBIGene:84634'], 'score': 1267},\n",
       " {'gene': 'MGI:1913761', 'orthologs': ['NCBIGene:26097'], 'score': 1266},\n",
       " {'gene': 'MGI:95523', 'orthologs': ['NCBIGene:2263'], 'score': 1263},\n",
       " {'gene': 'MGI:96677', 'orthologs': ['NCBIGene:3815'], 'score': 1263},\n",
       " {'gene': 'MGI:98834', 'orthologs': ['NCBIGene:7157'], 'score': 1259},\n",
       " {'gene': 'MGI:104327', 'orthologs': ['NCBIGene:9241'], 'score': 1258},\n",
       " {'gene': 'MGI:109583', 'orthologs': ['NCBIGene:5728'], 'score': 1253},\n",
       " {'gene': 'WormBase:WBGene00010556',\n",
       "  'orthologs': ['NCBIGene:10399'],\n",
       "  'score': 747},\n",
       " {'gene': 'WormBase:WBGene00004077',\n",
       "  'orthologs': ['NCBIGene:6932',\n",
       "   'NCBIGene:83439',\n",
       "   'NCBIGene:6934',\n",
       "   'NCBIGene:51176'],\n",
       "  'score': 731},\n",
       " {'gene': 'WormBase:WBGene00016837',\n",
       "  'orthologs': ['NCBIGene:56949'],\n",
       "  'score': 726},\n",
       " {'gene': 'WormBase:WBGene00004392',\n",
       "  'orthologs': ['NCBIGene:50484', 'NCBIGene:6241'],\n",
       "  'score': 705},\n",
       " {'gene': 'WormBase:WBGene00003829',\n",
       "  'orthologs': ['NCBIGene:10726'],\n",
       "  'score': 701},\n",
       " {'gene': 'WormBase:WBGene00004391',\n",
       "  'orthologs': ['NCBIGene:6240'],\n",
       "  'score': 699},\n",
       " {'gene': 'WormBase:WBGene00000405',\n",
       "  'orthologs': ['NCBIGene:983'],\n",
       "  'score': 693},\n",
       " {'gene': 'WormBase:WBGene00000871',\n",
       "  'orthologs': ['NCBIGene:9134', 'NCBIGene:898'],\n",
       "  'score': 689},\n",
       " {'gene': 'WormBase:WBGene00001005',\n",
       "  'orthologs': ['NCBIGene:140735'],\n",
       "  'score': 689},\n",
       " {'gene': 'WormBase:WBGene00004208',\n",
       "  'orthologs': ['NCBIGene:8643', 'NCBIGene:5727'],\n",
       "  'score': 677},\n",
       " {'gene': 'WormBase:WBGene00003902',\n",
       "  'orthologs': ['NCBIGene:80336',\n",
       "   'NCBIGene:26986',\n",
       "   'NCBIGene:132430',\n",
       "   'NCBIGene:140886',\n",
       "   'NCBIGene:5042',\n",
       "   'NCBIGene:8761'],\n",
       "  'score': 675},\n",
       " {'gene': 'WormBase:WBGene00004914',\n",
       "  'orthologs': ['NCBIGene:6634'],\n",
       "  'score': 674},\n",
       " {'gene': 'WormBase:WBGene00000249', 'orthologs': [], 'score': 674},\n",
       " {'gene': 'WormBase:WBGene00001596',\n",
       "  'orthologs': ['NCBIGene:167153'],\n",
       "  'score': 672},\n",
       " {'gene': 'WormBase:WBGene00022852',\n",
       "  'orthologs': ['NCBIGene:10171'],\n",
       "  'score': 661},\n",
       " {'gene': 'WormBase:WBGene00000516',\n",
       "  'orthologs': ['NCBIGene:1028', 'NCBIGene:1026', 'NCBIGene:1027'],\n",
       "  'score': 656},\n",
       " {'gene': 'WormBase:WBGene00001497',\n",
       "  'orthologs': ['NCBIGene:2193'],\n",
       "  'score': 653},\n",
       " {'gene': 'WormBase:WBGene00000182',\n",
       "  'orthologs': ['NCBIGene:377',\n",
       "   'NCBIGene:80117',\n",
       "   'NCBIGene:115761',\n",
       "   'NCBIGene:375'],\n",
       "  'score': 649},\n",
       " {'gene': 'WormBase:WBGene00000496', 'orthologs': [], 'score': 648},\n",
       " {'gene': 'WormBase:WBGene00004459',\n",
       "  'orthologs': ['NCBIGene:5707'],\n",
       "  'score': 646},\n",
       " {'gene': 'ZFIN:ZDB-GENE-031114-4', 'orthologs': [], 'score': 1185},\n",
       " {'gene': 'ZFIN:ZDB-GENE-040827-2',\n",
       "  'orthologs': ['NCBIGene:23639'],\n",
       "  'score': 1148},\n",
       " {'gene': 'ZFIN:ZDB-GENE-011026-1',\n",
       "  'orthologs': ['NCBIGene:64321'],\n",
       "  'score': 1124},\n",
       " {'gene': 'ZFIN:ZDB-GENE-080405-1',\n",
       "  'orthologs': ['NCBIGene:7015'],\n",
       "  'score': 1108},\n",
       " {'gene': 'ZFIN:ZDB-GENE-030131-5870',\n",
       "  'orthologs': ['NCBIGene:4627'],\n",
       "  'score': 1098},\n",
       " {'gene': 'ZFIN:ZDB-GENE-040426-1716',\n",
       "  'orthologs': ['NCBIGene:6223'],\n",
       "  'score': 1078},\n",
       " {'gene': 'ZFIN:ZDB-GENE-030404-2',\n",
       "  'orthologs': ['NCBIGene:57534'],\n",
       "  'score': 1062},\n",
       " {'gene': 'ZFIN:ZDB-GENE-990706-8',\n",
       "  'orthologs': ['NCBIGene:2736'],\n",
       "  'score': 1058},\n",
       " {'gene': 'ZFIN:ZDB-GENE-000626-1',\n",
       "  'orthologs': ['NCBIGene:7139'],\n",
       "  'score': 1054},\n",
       " {'gene': 'ZFIN:ZDB-GENE-030131-6378',\n",
       "  'orthologs': ['NCBIGene:55127'],\n",
       "  'score': 1053},\n",
       " {'gene': 'ZFIN:ZDB-GENE-070327-2',\n",
       "  'orthologs': ['NCBIGene:6181'],\n",
       "  'score': 1051},\n",
       " {'gene': 'ZFIN:ZDB-GENE-990415-270',\n",
       "  'orthologs': ['NCBIGene:7157'],\n",
       "  'score': 1048},\n",
       " {'gene': 'ZFIN:ZDB-GENE-030131-8494',\n",
       "  'orthologs': ['NCBIGene:6188'],\n",
       "  'score': 1047},\n",
       " {'gene': 'ZFIN:ZDB-GENE-021115-2',\n",
       "  'orthologs': ['NCBIGene:29850'],\n",
       "  'score': 1045},\n",
       " {'gene': 'ZFIN:ZDB-GENE-011010-3',\n",
       "  'orthologs': ['NCBIGene:216', 'NCBIGene:8854', 'NCBIGene:126133'],\n",
       "  'score': 1041},\n",
       " {'gene': 'ZFIN:ZDB-GENE-070912-179',\n",
       "  'orthologs': ['NCBIGene:55636'],\n",
       "  'score': 1040},\n",
       " {'gene': 'ZFIN:ZDB-GENE-040718-190',\n",
       "  'orthologs': ['NCBIGene:6165'],\n",
       "  'score': 1037},\n",
       " {'gene': 'ZFIN:ZDB-GENE-060125-1',\n",
       "  'orthologs': ['NCBIGene:9968', 'NCBIGene:149934', 'NCBIGene:116931'],\n",
       "  'score': 1035},\n",
       " {'gene': 'ZFIN:ZDB-GENE-990415-171',\n",
       "  'orthologs': ['NCBIGene:1000'],\n",
       "  'score': 1035},\n",
       " {'gene': 'ZFIN:ZDB-GENE-040827-3',\n",
       "  'orthologs': ['NCBIGene:23451'],\n",
       "  'score': 1032},\n",
       " {'gene': 'FlyBase:FBgn0000202', 'orthologs': [], 'score': 180},\n",
       " {'gene': 'FlyBase:FBgn0000379', 'orthologs': [], 'score': 180},\n",
       " {'gene': 'FlyBase:FBgn0000366', 'orthologs': [], 'score': 180},\n",
       " {'gene': 'FlyBase:FBgn0000501', 'orthologs': [], 'score': 180},\n",
       " {'gene': 'FlyBase:FBgn0000219', 'orthologs': [], 'score': 180},\n",
       " {'gene': 'FlyBase:FBgn0003367', 'orthologs': [], 'score': 180},\n",
       " {'gene': 'FlyBase:FBgn0000200', 'orthologs': [], 'score': 168},\n",
       " {'gene': 'FlyBase:FBgn0001670', 'orthologs': [], 'score': 156},\n",
       " {'gene': 'FlyBase:FBgn0016123',\n",
       "  'orthologs': ['NCBIGene:248',\n",
       "   'NCBIGene:251',\n",
       "   'NCBIGene:249',\n",
       "   'NCBIGene:250'],\n",
       "  'score': 156},\n",
       " {'gene': 'FlyBase:FBgn0039840',\n",
       "  'orthologs': ['NCBIGene:2741',\n",
       "   'NCBIGene:2742',\n",
       "   'NCBIGene:441509',\n",
       "   'NCBIGene:8001',\n",
       "   'NCBIGene:2743'],\n",
       "  'score': 156},\n",
       " {'gene': 'FlyBase:FBgn0000205', 'orthologs': [], 'score': 150},\n",
       " {'gene': 'FlyBase:FBgn0003069', 'orthologs': [], 'score': 150},\n",
       " {'gene': 'FlyBase:FBgn0001671', 'orthologs': [], 'score': 150},\n",
       " {'gene': 'FlyBase:FBgn0001672', 'orthologs': [], 'score': 150},\n",
       " {'gene': 'FlyBase:FBgn0038221',\n",
       "  'orthologs': ['NCBIGene:26146'],\n",
       "  'score': 150},\n",
       " {'gene': 'FlyBase:FBgn0024321', 'orthologs': [], 'score': 144},\n",
       " {'gene': 'FlyBase:FBgn0085417', 'orthologs': [], 'score': 144},\n",
       " {'gene': 'FlyBase:FBgn0264645', 'orthologs': [], 'score': 144},\n",
       " {'gene': 'FlyBase:FBgn0264664', 'orthologs': [], 'score': 144},\n",
       " {'gene': 'FlyBase:FBgn0263986', 'orthologs': [], 'score': 144}]"
      ]
     },
     "execution_count": 128,
     "metadata": {},
     "output_type": "execute_result"
    }
   ],
   "source": [
    "for s in tqdm_notebook(ss):\n",
    "    s['orthologs'] = query_orthologs(s['gene'], \"NCBITaxon:9606\")\n",
    "ss"
   ]
  },
  {
   "cell_type": "code",
   "execution_count": 129,
   "metadata": {
    "collapsed": false,
    "deletable": true,
    "editable": true,
    "scrolled": true
   },
   "outputs": [
    {
     "name": "stderr",
     "output_type": "stream",
     "text": [
      "The installed widget Javascript is the wrong version.\n"
     ]
    },
    {
     "name": "stdout",
     "output_type": "stream",
     "text": [
      "\n"
     ]
    }
   ],
   "source": [
    "for s in tqdm_notebook(ss):\n",
    "    s['label'] = get_obj(s['gene'])['label']\n",
    "    s['ortholog_labels'] = [get_obj(x)['label'] for x in s['orthologs']]"
   ]
  },
  {
   "cell_type": "markdown",
   "metadata": {
    "deletable": true,
    "editable": true
   },
   "source": [
    "## This is the output!!!"
   ]
  },
  {
   "cell_type": "code",
   "execution_count": 153,
   "metadata": {
    "collapsed": false,
    "deletable": true,
    "editable": true,
    "scrolled": false
   },
   "outputs": [
    {
     "name": "stdout",
     "output_type": "stream",
     "text": [
      "NCBIGene:1499,CTNNB1,1359\n",
      "NCBIGene:2296,FOXC1,1341\n",
      "NCBIGene:324,APC,1332\n",
      "NCBIGene:865,CBFB,1321\n",
      "NCBIGene:5727,PTCH1,1314\n",
      "NCBIGene:367,AR,1310\n",
      "NCBIGene:2737,GLI3,1308\n",
      "NCBIGene:8626,TP63,1301\n",
      "NCBIGene:7042,TGFB2,1286\n",
      "NCBIGene:652,BMP4,1282\n",
      "NCBIGene:6469,SHH,1280\n",
      "NCBIGene:3458,IFNG,1273\n",
      "NCBIGene:9644,SH3PXD2A,1270\n",
      "NCBIGene:84634,KISS1R,1267\n",
      "NCBIGene:26097,CHTOP,1266\n",
      "NCBIGene:2263,FGFR2,1263\n",
      "NCBIGene:3815,KIT,1263\n",
      "NCBIGene:7157,TP53,1259\n",
      "NCBIGene:9241,NOG,1258\n",
      "NCBIGene:5728,PTEN,1253\n"
     ]
    }
   ],
   "source": [
    "ss = sorted(ss, key=lambda x: x['score'], reverse=True)\n",
    "print(\"\\n\".join([\",\".join([x['orthologs'][0],x['ortholog_labels'][0], str(x['score'])]) for x in ss[:20]]))"
   ]
  },
  {
   "cell_type": "markdown",
   "metadata": {
    "deletable": true,
    "editable": true
   },
   "source": [
    "### Demo with one gene"
   ]
  },
  {
   "cell_type": "code",
   "execution_count": 155,
   "metadata": {
    "collapsed": false,
    "deletable": true,
    "editable": true,
    "scrolled": true
   },
   "outputs": [
    {
     "data": {
      "text/plain": [
       "[('HP:0009751', 'Aplasia of the pectoralis major muscle'),\n",
       " ('HP:0000965', 'Cutis marmorata'),\n",
       " ('HP:0000316', 'Hypertelorism'),\n",
       " ('HP:0000218', 'High palate'),\n",
       " ('HP:0002686', 'Prenatal maternal abnormality'),\n",
       " ('HP:0002097', 'Emphysema'),\n",
       " ('HP:0002647', 'Aortic dissection'),\n",
       " ('HP:0200021', 'Down-sloping shoulders'),\n",
       " ('HP:0002138', 'Subarachnoid hemorrhage'),\n",
       " ('HP:0012163', 'Carotid artery dilatation'),\n",
       " ('HP:0002631', 'Dilatation of ascending aorta'),\n",
       " ('HP:0001763', 'Pes planus'),\n",
       " ('HP:0000822', 'Hypertension'),\n",
       " ('HP:0001634', 'Mitral valve prolapse'),\n",
       " ('HP:0000767', 'Pectus excavatum'),\n",
       " ('HP:0011304', 'Broad thumb'),\n",
       " ('HP:0000766', 'Abnormality of the sternum'),\n",
       " ('HP:0002105', 'Hemoptysis'),\n",
       " ('HP:0006101', 'Finger syndactyly'),\n",
       " ('HP:0001166', 'Arachnodactyly'),\n",
       " ('HP:0002705', 'High, narrow palate'),\n",
       " ('HP:0011106', 'Hypovolemia'),\n",
       " ('HP:0001679', 'Abnormal aortic morphology'),\n",
       " ('HP:0001171', 'Split hand'),\n",
       " ('HP:0003468', 'Abnormal vertebral morphology'),\n",
       " ('HP:0009777', 'Absent thumb'),\n",
       " ('HP:0001191', 'Abnormality of the carpal bones'),\n",
       " ('HP:0002140', 'Ischemic stroke'),\n",
       " ('HP:0001647', 'Bicuspid aortic valve'),\n",
       " ('HP:0000772', 'Abnormality of the ribs'),\n",
       " ('HP:0001163', 'Abnormality of the metacarpal bones'),\n",
       " ('HP:0002650', 'Scoliosis'),\n",
       " ('HP:0012763', 'Paroxysmal dyspnea'),\n",
       " ('HP:0006695', 'Atrioventricular canal defect'),\n",
       " ('HP:0009944', 'Partial duplication of thumb phalanx'),\n",
       " ('HP:0003302', 'Spondylolisthesis'),\n",
       " ('HP:0006501', 'Aplasia/Hypoplasia of the radius'),\n",
       " ('HP:0005692', 'Joint hyperflexibility'),\n",
       " ('HP:0003063', 'Abnormality of the humerus'),\n",
       " ('HP:0000023', 'Inguinal hernia'),\n",
       " ('HP:0012499', 'Descending aortic dissection'),\n",
       " ('HP:0002974', 'Radioulnar synostosis'),\n",
       " ('HP:0001762', 'Talipes equinovarus'),\n",
       " ('HP:0004953', 'Dilatation of abdominal aorta'),\n",
       " ('HP:0011705', 'First degree atrioventricular block'),\n",
       " ('HP:0000494', 'Downslanted palpebral fissures'),\n",
       " ('HP:0005116', 'Arterial tortuosity'),\n",
       " ('HP:0001387', 'Joint stiffness'),\n",
       " ('HP:0004933', 'Ascending aortic dissection'),\n",
       " ('HP:0002808', 'Kyphosis'),\n",
       " ('HP:0000889', 'Abnormality of the clavicle'),\n",
       " ('HP:0002943', 'Thoracic scoliosis'),\n",
       " ('HP:0002984', 'Hypoplasia of the radius'),\n",
       " ('HP:0004944', 'Dilatation of the cerebral artery'),\n",
       " ('HP:0001643', 'Patent ductus arteriosus'),\n",
       " ('HP:0100775', 'Dural ectasia'),\n",
       " ('HP:0100749', 'Chest pain'),\n",
       " ('HP:0002875', 'Exertional dyspnea'),\n",
       " ('HP:0002326', 'Transient ischemic attack'),\n",
       " ('HP:0000978', 'Bruising susceptibility'),\n",
       " ('HP:0000525', 'Abnormality of the iris'),\n",
       " ('HP:0004954', 'Dilatation of the descending aortic'),\n",
       " ('HP:0001677', 'Coronary artery disease'),\n",
       " ('HP:0001659', 'Aortic regurgitation'),\n",
       " ('HP:0009829', 'Phocomelia'),\n",
       " ('HP:0000912', 'Sprengel anomaly'),\n",
       " ('HP:0010772', 'Anomalous pulmonary venous return'),\n",
       " ('HP:0001629', 'Ventricular septal defect'),\n",
       " ('HP:0000098', 'Tall stature'),\n",
       " ('HP:0002107', 'Pneumothorax'),\n",
       " ('HP:0200146', 'Cystic medial necrosis of the aorta'),\n",
       " ('HP:0004757', 'Paroxysmal atrial fibrillation'),\n",
       " ('HP:0001631', 'Atrial septal defect'),\n",
       " ('HP:0005162', 'Left ventricular failure'),\n",
       " ('HP:0004383', 'Hypoplastic left heart'),\n",
       " ('HP:0001199', 'Triphalangeal thumb'),\n",
       " ('HP:0001640', 'Cardiomegaly'),\n",
       " ('HP:0004950', 'Peripheral arterial stenosis'),\n",
       " ('HP:0000278', 'Retrognathia')]"
      ]
     },
     "execution_count": 155,
     "metadata": {},
     "output_type": "execute_result"
    }
   ],
   "source": [
    "## FANCC\n",
    "phenotypes = get_phenotype_from_gene_verbose(\"NCBIGene:7042\")\n",
    "phenotypes"
   ]
  },
  {
   "cell_type": "code",
   "execution_count": 163,
   "metadata": {
    "collapsed": false,
    "deletable": true,
    "editable": true
   },
   "outputs": [
    {
     "data": {
      "text/plain": [
       "[('MGI:95489', 66, 'Fbn1'),\n",
       " ('MGI:1913761', 65, 'Chtop'),\n",
       " ('MGI:2446294', 64, 'Megf8'),\n",
       " ('MGI:109340', 63, 'Pitx2'),\n",
       " ('MGI:5560774', 63, 'b2b2736Clo'),\n",
       " ('MGI:96817', 63, 'Lox'),\n",
       " ('MGI:1928901', 62, 'Pdzk1'),\n",
       " ('MGI:1920563', 61, 'Rpgrip1l'),\n",
       " ('MGI:98726', 61, 'Tgfb2'),\n",
       " ('MGI:2154244', 61, 'Plxnd1'),\n",
       " ('MGI:106923', 61, 'Tll1'),\n",
       " ('MGI:95586', 61, 'Fst'),\n",
       " ('MGI:1919247', 61, 'Smg9'),\n",
       " ('MGI:107718', 61, 'Dnah5'),\n",
       " ('MGI:1891209', 60, 'Efemp2'),\n",
       " ('MGI:1347465', 60, 'Foxh1'),\n",
       " ('MGI:3050795', 60, 'Mkl2'),\n",
       " ('MGI:88452', 59, 'Col2a1'),\n",
       " ('MGI:5570107', 59, 'b2b2821Clo'),\n",
       " ('MGI:1927166', 59, 'Chst11'),\n",
       " ('MGI:5646601', 59, 'b2b3077Clo'),\n",
       " ('MGI:1920145', 59, 'Setd5'),\n",
       " ('MGI:109448', 58, 'Cfc1'),\n",
       " ('MGI:98715', 58, 'Ift88'),\n",
       " ('MGI:1298393', 58, 'Sh3pxd2a'),\n",
       " ('MGI:1922941', 58, 'Anks6'),\n",
       " ('MGI:1920942', 57, '2410089E03Rik'),\n",
       " ('MGI:97788', 57, 'Psph'),\n",
       " ('MGI:97712', 57, 'Prrx1'),\n",
       " ('MGI:97851', 57, 'Slc20a2'),\n",
       " ('MGI:96570', 57, 'Inhba'),\n",
       " ('MGI:97350', 57, 'Nkx2-5'),\n",
       " ('MGI:96257', 57, 'Hspg2'),\n",
       " ('MGI:1347466', 57, 'Foxc1'),\n",
       " ('MGI:103580', 57, 'Hand2'),\n",
       " ('MGI:96976', 57, 'Mgp'),\n",
       " ('MGI:2150920', 57, 'Fgfrl1'),\n",
       " ('MGI:1101357', 57, 'Ece1'),\n",
       " ('MGI:109151', 56, 'Ltbp1'),\n",
       " ('MGI:99604', 56, 'Fgf8'),\n",
       " ('MGI:98958', 56, 'Wnt5a'),\n",
       " ('MGI:97603', 56, 'Pkd1'),\n",
       " ('MGI:102780', 56, 'Six1'),\n",
       " ('MGI:97487', 56, 'Pax3'),\n",
       " ('MGI:1914027', 56, '4933434E20Rik'),\n",
       " ('MGI:97515', 56, 'Pcsk5'),\n",
       " ('MGI:97531', 56, 'Pdgfrb'),\n",
       " ('MGI:95886', 56, 'H13'),\n",
       " ('MGI:1913506', 56, 'Ssr2'),\n",
       " ('MGI:95523', 56, 'Fgfr2'),\n",
       " ('MGI:5311362', 56, 'b2b635Clo'),\n",
       " ('MGI:88192', 56, 'Smarca4'),\n",
       " ('MGI:1861689', 56, 'Is(In8B2-8B3.1;6C1)1Tshir'),\n",
       " ('MGI:88467', 55, 'Col1a1'),\n",
       " ('MGI:1341884', 55, 'Hey2'),\n",
       " ('MGI:102541', 55, 'Tbx5'),\n",
       " ('MGI:97801', 55, 'Pth1r'),\n",
       " ('MGI:5646610', 55, 'b2b3077.2Clo'),\n",
       " ('MGI:1927243', 55, 'Rala'),\n",
       " ('MGI:97380', 55, 'Ntf3'),\n",
       " ('MGI:5620178', 55, 'b2b2696Clo'),\n",
       " ('MGI:5620180', 55, 'b2b2696.1Clo'),\n",
       " ('MGI:87911', 55, 'Acvr1'),\n",
       " ('MGI:96175', 55, 'Hoxa3'),\n",
       " ('MGI:1914185', 55, 'Cir1'),\n",
       " ('MGI:2444465', 55, 'Frem2'),\n",
       " ('MGI:1923304', 55, 'Prrc2b'),\n",
       " ('MGI:94885', 55, 'Des'),\n",
       " ('MGI:105923', 55, 'Ednra'),\n",
       " ('MGI:2146906', 55, 'Ift140'),\n",
       " ('MGI:1345643', 55, 'Sufu'),\n",
       " ('MGI:106040', 55, 'Cyp51'),\n",
       " ('MGI:1918187', 55, 'Trim45'),\n",
       " ('MGI:98297', 54, 'Shh'),\n",
       " ('MGI:98214', 54, 'Rxra'),\n",
       " ('MGI:1100864', 54, 'Dnah11'),\n",
       " ('MGI:96418', 54, 'Idua'),\n",
       " ('MGI:96571', 54, 'Inhbb'),\n",
       " ('MGI:97373', 54, 'Npr3'),\n",
       " ('MGI:1096335', 54, 'Adam17'),\n",
       " ('MGI:2442062', 54, 'Sh3pxd2b'),\n",
       " ('MGI:98729', 54, 'Tgfbr2'),\n",
       " ('MGI:98728', 54, 'Tgfbr1'),\n",
       " ('MGI:95556', 54, 'Flna'),\n",
       " ('MGI:95729', 54, 'Gli3'),\n",
       " ('MGI:107374', 54, 'Pitx1'),\n",
       " ('MGI:5311361', 54, 'b2b370Clo'),\n",
       " ('MGI:106222', 54, 'Capza2'),\n",
       " ('MGI:1923760', 54, 'Trappc9'),\n",
       " ('MGI:3652048', 54, 'Gas2l2'),\n",
       " ('MGI:1922667', 54, 'Rspo2'),\n",
       " ('MGI:98371', 53, 'Sox9'),\n",
       " ('MGI:1342773', 53, 'Klf3'),\n",
       " ('MGI:109331', 53, 'Nxn'),\n",
       " ('MGI:2140945', 53, 'Pds5b'),\n",
       " ('MGI:1918961', 53, 'Mus81'),\n",
       " ('MGI:98495', 53, 'Tbx3'),\n",
       " ('MGI:1353611', 53, 'Sc5d'),\n",
       " ('MGI:1098239', 53, 'Kif7'),\n",
       " ('MGI:1914292', 53, 'Ift27')]"
      ]
     },
     "execution_count": 163,
     "metadata": {},
     "output_type": "execute_result"
    }
   ],
   "source": [
    "d = get_phenotypically_similar_genes([x[0] for x in phenotypes], \"10090\", return_all=True)\n",
    "genes = get_phenotypically_similar_genes([x[0] for x in phenotypes], \"10090\", return_all=False)\n",
    "genes"
   ]
  },
  {
   "cell_type": "code",
   "execution_count": 161,
   "metadata": {
    "collapsed": false,
    "deletable": true,
    "editable": true
   },
   "outputs": [
    {
     "data": {
      "text/plain": [
       "('MGI:95489', 'Fbn1')"
      ]
     },
     "execution_count": 161,
     "metadata": {},
     "output_type": "execute_result"
    }
   ],
   "source": [
    "match = d['b'][0]\n",
    "(match['id'],match['label'])"
   ]
  },
  {
   "cell_type": "code",
   "execution_count": 162,
   "metadata": {
    "collapsed": false,
    "deletable": true,
    "editable": true
   },
   "outputs": [
    {
     "data": {
      "text/plain": [
       "[{'a': {'IC': 9.394417586875415,\n",
       "   'id': 'HP:0004950',\n",
       "   'label': 'Peripheral arterial stenosis'},\n",
       "  'b': {'IC': 9.952015916687238,\n",
       "   'id': 'MP:0006133',\n",
       "   'label': 'calcified artery'},\n",
       "  'lcs': {'IC': 5.409377205511062,\n",
       "   'id': 'HP:0011004',\n",
       "   'label': 'Abnormal systemic arterial morphology'}},\n",
       " {'a': {'IC': 10.006932303574196,\n",
       "   'id': 'HP:0001199',\n",
       "   'label': 'Triphalangeal thumb'},\n",
       "  'b': {'IC': 7.882687770295942,\n",
       "   'id': 'HP:0009803',\n",
       "   'label': 'Short phalanx of finger'},\n",
       "  'lcs': {'IC': 6.879123036616339,\n",
       "   'id': 'MP:0005306',\n",
       "   'label': 'abnormal phalanx morphology'}}]"
      ]
     },
     "execution_count": 162,
     "metadata": {},
     "output_type": "execute_result"
    }
   ],
   "source": [
    "match['matches'][:2]"
   ]
  },
  {
   "cell_type": "code",
   "execution_count": 124,
   "metadata": {
    "collapsed": false,
    "deletable": true,
    "editable": true,
    "scrolled": false
   },
   "outputs": [
    {
     "data": {
      "text/plain": [
       "[('MP:0001126', 'abnormal ovary morphology'),\n",
       " ('MP:0001914', 'hemorrhage'),\n",
       " ('GO:0060348PHENOTYPE', 'bone development phenotype'),\n",
       " ('HP:0031093', 'Abnormal breast morphology'),\n",
       " ('MP:0000757', 'herniated abdominal wall'),\n",
       " ('UBERON:0012359PHENOTYPE', 'pedal digitopodium bone phenotype'),\n",
       " ('MP:0000559', 'abnormal femur morphology'),\n",
       " ('MP:0000520', 'absent kidney'),\n",
       " ('MP:0001216', 'abnormal epidermal layer morphology'),\n",
       " ('MP:0001891', 'hydroencephaly'),\n",
       " ('UBERON:0003296PHENOTYPE', 'gland of diencephalon phenotype'),\n",
       " ('HP:0008438', 'Vertebral arch anomaly'),\n",
       " ('MP:0002229', 'neurodegeneration'),\n",
       " ('MP:0004174', 'abnormal spine curvature'),\n",
       " ('MP:0003130', 'anal atresia'),\n",
       " ('MP:0000564', 'syndactyly'),\n",
       " ('MP:0000561', 'adactyly'),\n",
       " ('HP:0004349', 'Reduced bone mineral density'),\n",
       " ('MP:0009931', 'abnormal skin appearance'),\n",
       " ('MP:0009890', 'cleft secondary palate'),\n",
       " ('HP:0002648', 'Abnormality of calvarial morphology'),\n",
       " ('HP:0000164', 'Abnormality of the dentition'),\n",
       " ('MP:0001056', 'abnormal cranial nerve morphology'),\n",
       " ('UBERON:0005725PHENOTYPE', 'olfactory system phenotype'),\n",
       " ('UBERON:0001638PHENOTYPE', 'vein phenotype'),\n",
       " ('UBERON:0006048PHENOTYPE', 'digit 1 phenotype'),\n",
       " ('MP:0000822', 'abnormal brain ventricle morphology'),\n",
       " ('MP:0005408', 'hypopigmentation'),\n",
       " ('MP:0001784', 'abnormal fluid regulation'),\n",
       " ('MP:0000495', 'abnormal colon morphology'),\n",
       " ('ZP:0004241', 'abnormal(ly) decreased rate embryo development'),\n",
       " ('MP:0000553', 'absent radius'),\n",
       " ('MP:0004359', 'short ulna'),\n",
       " ('MP:0001322', 'abnormal iris morphology'),\n",
       " ('HP:0002087', 'Abnormality of the upper respiratory tract'),\n",
       " ('MP:0002177', 'abnormal outer ear morphology'),\n",
       " ('MP:0000266', 'abnormal heart morphology'),\n",
       " ('MP:0000455', 'abnormal maxilla morphology'),\n",
       " ('GO:0002521PHENOTYPE', 'leukocyte differentiation phenotype'),\n",
       " ('UBERON:0003037PHENOTYPE', 'septum phenotype'),\n",
       " ('UBERON:0001041PHENOTYPE', 'foregut phenotype'),\n",
       " ('UBERON:0016526PHENOTYPE', 'lobe of cerebral hemisphere phenotype')]"
      ]
     },
     "execution_count": 124,
     "metadata": {},
     "output_type": "execute_result"
    }
   ],
   "source": [
    "# FANCC and Gli3 are \"phenotypically similar\" because of these phenotypes in common\n",
    "[(x['lcs']['id'],x['lcs']['label']) for x in match['matches']]"
   ]
  },
  {
   "cell_type": "code",
   "execution_count": 89,
   "metadata": {
    "collapsed": false,
    "deletable": true,
    "editable": true
   },
   "outputs": [
    {
     "data": {
      "text/plain": [
       "['NCBIGene:2737']"
      ]
     },
     "execution_count": 89,
     "metadata": {},
     "output_type": "execute_result"
    }
   ],
   "source": [
    "human_orthologs = query_orthologs(match['id'], taxon=\"NCBITaxon:9606\")\n",
    "human_orthologs"
   ]
  },
  {
   "cell_type": "code",
   "execution_count": 164,
   "metadata": {
    "collapsed": false,
    "deletable": true,
    "editable": true
   },
   "outputs": [
    {
     "name": "stdout",
     "output_type": "stream",
     "text": [
      "NCBIGene:5888 RAD51 [('MGI:98726', 62, 'Tgfb2')]\n",
      "NCBIGene:80233 FAAP100 []\n",
      "NCBIGene:29089 UBE2T [('MGI:98726', 63, 'Tgfb2')]\n",
      "NCBIGene:55215 FANCI [('MGI:98726', 63, 'Tgfb2')]\n",
      "NCBIGene:83990 BRIP1 [('MGI:98726', 60, 'Tgfb2')]\n",
      "NCBIGene:2176 FANCC [('MGI:98726', 61, 'Tgfb2')]\n",
      "NCBIGene:10459 MAD2L2 [('MGI:98726', 63, 'Tgfb2')]\n",
      "NCBIGene:57697 FANCM [('MGI:98726', 63, 'Tgfb2')]\n",
      "NCBIGene:7516 XRCC2 [('MGI:98726', 61, 'Tgfb2')]\n",
      "NCBIGene:5889 RAD51C [('MGI:98726', 61, 'Tgfb2')]\n",
      "NCBIGene:199990 FAAP20 []\n",
      "NCBIGene:84464 SLX4 [('MGI:98726', 62, 'Tgfb2')]\n",
      "NCBIGene:55120 FANCL [('MGI:98726', 63, 'Tgfb2')]\n",
      "NCBIGene:201254 CENPX []\n",
      "NCBIGene:675 BRCA2 [('MGI:98726', 57, 'Tgfb2')]\n",
      "NCBIGene:378708 CENPS []\n",
      "NCBIGene:55159 RFWD3 []\n",
      "NCBIGene:91442 FAAP24 []\n",
      "NCBIGene:2175 FANCA [('MGI:98726', 62, 'Tgfb2')]\n",
      "NCBIGene:2072 ERCC4 [('MGI:98726', 58, 'Tgfb2')]\n",
      "NCBIGene:2188 FANCF [('MGI:98726', 63, 'Tgfb2')]\n",
      "NCBIGene:2178 FANCE [('MGI:98726', 61, 'Tgfb2')]\n",
      "NCBIGene:2189 FANCG [('MGI:98726', 63, 'Tgfb2')]\n",
      "NCBIGene:79728 PALB2 [('MGI:98726', 60, 'Tgfb2')]\n",
      "NCBIGene:672 BRCA1 [('MGI:98726', 55, 'Tgfb2')]\n",
      "NCBIGene:2177 FANCD2 [('MGI:98726', 62, 'Tgfb2')]\n",
      "NCBIGene:2187 FANCB [('MGI:98726', 63, 'Tgfb2')]\n"
     ]
    }
   ],
   "source": [
    "for human_gene, pgenes in gene_genes.items():\n",
    "    pgenes = [x for x in pgenes if \"MGI:98726\" == x[0]]\n",
    "    print(human_gene, get_obj(human_gene)['label'], pgenes)"
   ]
  },
  {
   "cell_type": "code",
   "execution_count": 119,
   "metadata": {
    "collapsed": false,
    "deletable": true,
    "editable": true,
    "scrolled": false
   },
   "outputs": [
    {
     "data": {
      "text/plain": [
       "[('OMIM:164210', 58, 'Goldenhar syndrome'),\n",
       " ('OMIM:256520', 57, 'Neu-Laxova syndrome 1'),\n",
       " ('OMIM:219000', 57, 'Fraser syndrome'),\n",
       " ('OMIM:214800', 57, 'CHARGE syndrome'),\n",
       " ('OMIM:268300', 56, 'Roberts syndrome'),\n",
       " ('OMIM:312870', 56, 'Simpson-Golabi-Behmel syndrome'),\n",
       " ('OMIM:613038', 56, 'Combined pituitary hormone deficiencies, genetic forms'),\n",
       " ('OMIM:264090', 56, 'Wiedemann-Rautenstrauch syndrome'),\n",
       " ('OMIM:194050', 56, 'Williams-Beuren syndrome'),\n",
       " ('OMIM:303600', 56, 'Coffin-Lowry syndrome'),\n",
       " ('OMIM:268400', 55, 'Rothmund-Thomson syndrome'),\n",
       " ('OMIM:600001',\n",
       "  55,\n",
       "  'Pancreatic hypoplasia-diabetes-congenital heart disease syndrome'),\n",
       " ('OMIM:261540', 55, 'Peters plus syndrome'),\n",
       " ('OMIM:218600', 55, 'Baller-Gerold syndrome'),\n",
       " ('OMIM:130650', 55, 'Beckwith-Wiedemann syndrome'),\n",
       " ('OMIM:230000', 55, 'fucosidosis'),\n",
       " ('OMIM:309400', 54, 'Menkes Disease'),\n",
       " ('OMIM:274000', 54, 'Radial aplasia-thrombocytopenia syndrome'),\n",
       " ('OMIM:610829', 54, 'holoprosencephaly 9'),\n",
       " ('OMIM:192350', 54, 'VACTERL association'),\n",
       " ('OMIM:259775', 54, 'Lethal osteosclerotic bone dysplasia'),\n",
       " ('OMIM:304050', 54, 'Aicardi syndrome'),\n",
       " ('OMIM:190685', 54, 'Down syndrome'),\n",
       " ('OMIM:154400', 53, 'Nager acrofacial dysostosis'),\n",
       " ('OMIM:276950', 53, 'VACTERL association with hydrocephalus'),\n",
       " ('OMIM:218040', 53, 'Costello Syndrome'),\n",
       " ('OMIM:305600', 53, 'focal dermal hypoplasia'),\n",
       " ('OMIM:270400', 53, 'Smith-Lemli-Opitz syndrome'),\n",
       " ('OMIM:311200', 53, 'Oral-facial-digital syndrome'),\n",
       " ('OMIM:269150', 53, 'Schinzel-Giedion syndrome'),\n",
       " ('OMIM:607872', 53, 'chromosome 1p36 deletion syndrome'),\n",
       " ('OMIM:129900',\n",
       "  53,\n",
       "  'ectrodactyly, ectodermal dysplasia, and cleft lip-palate syndrome 1'),\n",
       " ('OMIM:225500', 53, 'Ellis-Van Creveld syndrome'),\n",
       " ('OMIM:158170', 53, 'chromosome 9p deletion syndrome'),\n",
       " ('OMIM:219700', 53, 'cystic fibrosis'),\n",
       " ('OMIM:268310', 52, 'autosomal recessive Robinow syndrome'),\n",
       " ('OMIM:180849', 52, 'Rubinstein-Taybi syndrome due to CREBBP mutations'),\n",
       " ('OMIM:210900', 52, 'Bloom syndrome'),\n",
       " ('OMIM:604856', 52, 'Langerhans-cell histiocytosis'),\n",
       " ('OMIM:219050', 52, 'cryptorchidism'),\n",
       " ('OMIM:157900', 52, 'Mobius syndrome'),\n",
       " ('OMIM:609757', 52, 'Williams-Beuren Region Duplication Syndrome'),\n",
       " ('OMIM:304150', 52, 'Occipital Horn Syndrome'),\n",
       " ('OMIM:277700', 52, 'Werner Syndrome'),\n",
       " ('OMIM:234100', 52, 'Hallermann-Streiff syndrome'),\n",
       " ('OMIM:305000', 52, 'Dyskeratosis Congenita, X-Linked'),\n",
       " ('OMIM:109400', 52, 'nevoid basal cell carcinoma syndrome'),\n",
       " ('OMIM:194070', 52, 'nephroblastoma'),\n",
       " ('OMIM:309801', 52, 'Microphthalmia with linear skin defects syndrome'),\n",
       " ('OMIM:157170', 52, 'Holoprosencephaly 2'),\n",
       " ('OMIM:604292',\n",
       "  52,\n",
       "  'ectrodactyly, ectodermal dysplasia, and cleft lip-palate syndrome 3'),\n",
       " ('OMIM:308300', 52, 'Incontinentia pigmenti syndrome'),\n",
       " ('OMIM:137920', 51, 'Renal cysts and diabetes syndrome'),\n",
       " ('OMIM:150699', 51, 'uterine fibroid'),\n",
       " ('OMIM:249000', 51, 'Meckel Syndrome, Type 1'),\n",
       " ('OMIM:210710',\n",
       "  51,\n",
       "  'Microcephalic Osteodysplastic Primordial Dwarfism, Type 1'),\n",
       " ('OMIM:309000', 51, 'oculocerebrorenal syndrome'),\n",
       " ('OMIM:210720',\n",
       "  51,\n",
       "  'microcephalic osteodysplastic primordial dwarfism type II'),\n",
       " ('OMIM:304120', 51, 'Otopalatodigital syndrome type 2'),\n",
       " ('OMIM:251000',\n",
       "  51,\n",
       "  'methylmalonic aciduria due to methylmalonyl-CoA mutase deficiency'),\n",
       " ('OMIM:607323', 51, 'Duane-radial ray syndrome'),\n",
       " ('OMIM:211750', 51, 'C syndrome'),\n",
       " ('OMIM:300373', 51, 'osteopathia striata with cranial sclerosis'),\n",
       " ('OMIM:234200', 51, 'pantothenate kinase-associated neurodegeneration'),\n",
       " ('OMIM:176670', 51, 'progeria'),\n",
       " ('OMIM:300166', 51, 'Oculofaciocardiodental syndrome'),\n",
       " ('OMIM:206900', 51, 'Microphthalmia, Syndromic 3'),\n",
       " ('OMIM:605039', 51, 'Bohring-Opitz syndrome'),\n",
       " ('OMIM:164200', 51, 'Oculodentodigital dysplasia'),\n",
       " ('OMIM:609029', 51, 'Emanuel syndrome'),\n",
       " ('OMIM:226980', 51, 'Wolcott-Rallison dysplasia'),\n",
       " ('OMIM:180700', 50, 'autosomal dominant Robinow syndrome 1'),\n",
       " ('OMIM:309500', 50, 'Renpenning syndrome'),\n",
       " ('OMIM:154500', 50, 'Treacher-Collins syndrome'),\n",
       " ('OMIM:276820', 50, 'Phocomelia, Schinzel type'),\n",
       " ('OMIM:611867', 50, 'chromosome 22q11.2 deletion syndrome, distal'),\n",
       " ('OMIM:609640', 50, '14q22q23 microdeletion syndrome'),\n",
       " ('OMIM:106600', 50, 'anodontia'),\n",
       " ('OMIM:257300', 50, 'mosaic variegated aneuploidy syndrome 1'),\n",
       " ('OMIM:210600', 50, 'Seckel Syndrome 1'),\n",
       " ('OMIM:602535', 50, 'Marshall-Smith Syndrome'),\n",
       " ('OMIM:602782', 50, 'H syndrome'),\n",
       " ('OMIM:235510', 50, 'Hennekam Lymphangiectasia-Lymphedema Syndrome 1'),\n",
       " ('OMIM:176690', 50, 'Progeria-short stature-pigmented nevi syndrome'),\n",
       " ('OMIM:224690', 50, 'Meier-Gorlin Syndrome 1'),\n",
       " ('OMIM:182230', 50, 'septooptic dysplasia'),\n",
       " ('OMIM:145410', 50, 'Autosomal dominant Opitz G/BBB syndrome'),\n",
       " ('OMIM:278250', 50, 'Wrinkly Skin Syndrome'),\n",
       " ('OMIM:309900', 50, 'mucopolysaccharidosis II'),\n",
       " ('OMIM:146510', 50, 'Pallister-Hall Syndrome'),\n",
       " ('OMIM:309800', 50, 'Microphthalmia, Syndromic 1'),\n",
       " ('OMIM:612626', 50, 'chromosome 15q26-qter deletion syndrome'),\n",
       " ('OMIM:151050', 50, 'Lenz-Majewski hyperostotic dwarfism'),\n",
       " ('OMIM:147791', 50, 'Jacobsen syndrome'),\n",
       " ('OMIM:273395', 50, 'Tetraamelia-multiple malformations syndrome'),\n",
       " ('OMIM:123450', 50, 'Cri-Du-Chat syndrome'),\n",
       " ('OMIM:117650', 50, 'Cerebrocostomandibular syndrome'),\n",
       " ('OMIM:200110', 50, 'ablepharon macrostomia syndrome'),\n",
       " ('OMIM:200150', 50, 'chorea-acanthocytosis'),\n",
       " ('OMIM:308205', 50, 'Ichthyosis follicularis-alopecia-photophobia syndrome')]"
      ]
     },
     "execution_count": 119,
     "metadata": {},
     "output_type": "execute_result"
    }
   ],
   "source": [
    "## Version 2 : Get orthologs first\n",
    "phenotypes = get_phenotype_from_gene(\"MGI:88276\")\n",
    "get_phenotypically_similar_genes(phenotypes, \"9606\")"
   ]
  }
 ],
 "metadata": {
  "kernelspec": {
   "display_name": "Python 3",
   "language": "python",
   "name": "python3"
  },
  "language_info": {
   "codemirror_mode": {
    "name": "ipython",
    "version": 3
   },
   "file_extension": ".py",
   "mimetype": "text/x-python",
   "name": "python",
   "nbconvert_exporter": "python",
   "pygments_lexer": "ipython3",
   "version": "3.5.2"
  }
 },
 "nbformat": 4,
 "nbformat_minor": 2
}
