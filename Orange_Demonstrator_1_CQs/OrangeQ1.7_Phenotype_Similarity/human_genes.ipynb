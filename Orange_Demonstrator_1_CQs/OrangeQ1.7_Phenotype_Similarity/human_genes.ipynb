{
 "cells": [
  {
   "cell_type": "markdown",
   "metadata": {},
   "source": [
    "# Determine which genes are human"
   ]
  },
  {
   "cell_type": "code",
   "execution_count": 1,
   "metadata": {
    "collapsed": true
   },
   "outputs": [],
   "source": [
    "from itertools import islice\n",
    "from tqdm import tqdm"
   ]
  },
  {
   "cell_type": "code",
   "execution_count": 2,
   "metadata": {
    "collapsed": true
   },
   "outputs": [],
   "source": [
    "def extract_genes(floc, show_progress=False):\n",
    "    \"\"\"Extract all gene identifiers as a list.\"\"\"\n",
    "    \n",
    "    HUMAN_TAXON = 9606\n",
    "    \n",
    "    human_genes = []\n",
    "    with open(floc, \"r\") as fin:\n",
    "        fin = islice(fin, 1, None) # skip header\n",
    "        lines = tqdm(fin) if show_progress else fin\n",
    "        \n",
    "        for line in lines:\n",
    "            taxon, gene_id = line.split(\"\\t\")[:2]\n",
    "            \n",
    "            if int(taxon) == HUMAN_TAXON:\n",
    "                human_genes.append(gene_id)\n",
    "                \n",
    "    return human_genes"
   ]
  },
  {
   "cell_type": "code",
   "execution_count": 3,
   "metadata": {},
   "outputs": [
    {
     "name": "stderr",
     "output_type": "stream",
     "text": [
      "17919947it [00:36, 495826.43it/s]\n"
     ]
    }
   ],
   "source": [
    "human_genes = extract_genes(\n",
    "    \"data/ncbi_gene_info.tsv\",\n",
    "    show_progress=True\n",
    ")"
   ]
  },
  {
   "cell_type": "code",
   "execution_count": 4,
   "metadata": {},
   "outputs": [
    {
     "data": {
      "text/plain": [
       "60284"
      ]
     },
     "execution_count": 4,
     "metadata": {},
     "output_type": "execute_result"
    }
   ],
   "source": [
    "len(human_genes)"
   ]
  },
  {
   "cell_type": "markdown",
   "metadata": {
    "collapsed": true
   },
   "source": [
    "---"
   ]
  },
  {
   "cell_type": "code",
   "execution_count": 5,
   "metadata": {
    "collapsed": true
   },
   "outputs": [],
   "source": [
    "with open(\"human_genes.txt\", \"w\") as fout:\n",
    "    for geneid in human_genes:\n",
    "        fout.write(\"{}\\n\".format(geneid))"
   ]
  },
  {
   "cell_type": "code",
   "execution_count": null,
   "metadata": {
    "collapsed": true
   },
   "outputs": [],
   "source": []
  }
 ],
 "metadata": {
  "kernelspec": {
   "display_name": "Python 3",
   "language": "python",
   "name": "python3"
  },
  "language_info": {
   "codemirror_mode": {
    "name": "ipython",
    "version": 3
   },
   "file_extension": ".py",
   "mimetype": "text/x-python",
   "name": "python",
   "nbconvert_exporter": "python",
   "pygments_lexer": "ipython3",
   "version": "3.5.3"
  }
 },
 "nbformat": 4,
 "nbformat_minor": 2
}
