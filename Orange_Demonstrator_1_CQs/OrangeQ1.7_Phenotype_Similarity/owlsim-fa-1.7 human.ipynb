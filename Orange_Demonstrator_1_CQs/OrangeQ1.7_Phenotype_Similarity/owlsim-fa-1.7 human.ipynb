{
 "cells": [
  {
   "cell_type": "markdown",
   "metadata": {
    "deletable": true,
    "editable": true
   },
   "source": [
    "## Orange Team CQ#1.7\n",
    "\n",
    "### Query: \n",
    "What genes show high phenotypic similarity to the 11 Fanconi Anemia core complex genes (set FA-core)?\n",
    "\n",
    "### Services:\n",
    "BioLink API (Monarch) - https://api.monarchinitiative.org/api/\n",
    "\n",
    "Owlsim - http://owlsim3.monarchinitiative.org/api/docs/\n",
    "\n",
    "### Approach:\n",
    "Get closest human genes using phenotypic similarity approach, using owlsim3\n",
    "\n",
    "### Authors\n",
    "Kent Shefchek and Greg Stupp"
   ]
  },
  {
   "cell_type": "code",
   "execution_count": null,
   "metadata": {
    "collapsed": true
   },
   "outputs": [],
   "source": [
    "# autogenerate biolink_client\n",
    "# curl --insecure -X POST -H \"content-type:application/json\" -d '{\"swaggerUrl\":\"https://api.monarchinitiative.org/api/swagger.json\"}' https://generator.swagger.io/api/gen/clients/python\n",
    "# and rename it to biolink_client"
   ]
  },
  {
   "cell_type": "code",
   "execution_count": 1,
   "metadata": {
    "collapsed": true
   },
   "outputs": [],
   "source": [
    "import os, sys\n",
    "# change this path\n",
    "sys.path.insert(0, \"/home/gstupp/projects/NCATS-Tangerine/biolink_client\")"
   ]
  },
  {
   "cell_type": "code",
   "execution_count": 46,
   "metadata": {
    "collapsed": false,
    "deletable": true,
    "editable": true
   },
   "outputs": [],
   "source": [
    "import biolink_client\n",
    "from biolink_client.api_client import ApiClient\n",
    "from biolink_client.rest import ApiException\n",
    "import requests\n",
    "from itertools import chain\n",
    "import pandas as pd\n",
    "from pprint import pprint\n",
    "from tqdm import tqdm, tqdm_notebook\n",
    "from collections import defaultdict\n",
    "\n",
    "pd.options.display.max_rows = 999\n",
    "pd.options.display.max_columns = 12\n",
    "pd.set_option('display.width', 1000)\n",
    "\n",
    "MONARCH_API = \"https://api.monarchinitiative.org/api\"\n",
    "OWLSIM_API = \"http://owlsim3.monarchinitiative.org/api\"\n",
    "\n",
    "gene_list = \"https://raw.githubusercontent.com/NCATS-Tangerine/cq-notebooks/master/FA_gene_sets/FA_4_all_genes.txt\"\n",
    "\n",
    "client = ApiClient(host=MONARCH_API)\n",
    "client.set_default_header('Content-Type', 'text/plain')\n",
    "api_instance = biolink_client.BioentityApi(client)\n",
    "\n",
    "# Get the gene list from github\n",
    "dataframe = pd.read_csv(gene_list, sep='\\t', names=['gene_id', 'symbol'])\n",
    "df = dataframe.set_index('symbol')\n",
    "human_genes = set(df.gene_id)\n",
    "symbol_id = dict(zip(df.index, df.gene_id))\n",
    "id_symbol = {v:k for k,v in symbol_id.items()}"
   ]
  },
  {
   "cell_type": "code",
   "execution_count": 10,
   "metadata": {
    "collapsed": false,
    "scrolled": true
   },
   "outputs": [
    {
     "name": "stderr",
     "output_type": "stream",
     "text": [
      "The installed widget Javascript is the wrong version.\n"
     ]
    },
    {
     "name": "stdout",
     "output_type": "stream",
     "text": [
      "\n"
     ]
    },
    {
     "ename": "ApiException",
     "evalue": "(502)\nReason: Bad Gateway\nHTTP response headers: HTTPHeaderDict({'Connection': 'keep-alive', 'Content-Length': '182', 'Date': 'Mon, 13 Nov 2017 20:04:04 GMT', 'Server': 'nginx/1.10.3 (Ubuntu)', 'Content-Type': 'text/html'})\nHTTP response body: <html>\r\n<head><title>502 Bad Gateway</title></head>\r\n<body bgcolor=\"white\">\r\n<center><h1>502 Bad Gateway</h1></center>\r\n<hr><center>nginx/1.10.3 (Ubuntu)</center>\r\n</body>\r\n</html>\r\n\n",
     "output_type": "error",
     "traceback": [
      "\u001b[0;31m---------------------------------------------------------------------------\u001b[0m",
      "\u001b[0;31mApiException\u001b[0m                              Traceback (most recent call last)",
      "\u001b[0;32m<ipython-input-10-360970bc91f9>\u001b[0m in \u001b[0;36m<module>\u001b[0;34m()\u001b[0m\n\u001b[1;32m      1\u001b[0m \u001b[0mgene_hpo_map\u001b[0m \u001b[0;34m=\u001b[0m \u001b[0mdict\u001b[0m\u001b[0;34m(\u001b[0m\u001b[0;34m)\u001b[0m\u001b[0;34m\u001b[0m\u001b[0m\n\u001b[1;32m      2\u001b[0m \u001b[0;32mfor\u001b[0m \u001b[0mgene_id\u001b[0m \u001b[0;32min\u001b[0m \u001b[0mtqdm_notebook\u001b[0m\u001b[0;34m(\u001b[0m\u001b[0mset\u001b[0m\u001b[0;34m(\u001b[0m\u001b[0mdf\u001b[0m\u001b[0;34m.\u001b[0m\u001b[0mgene_id\u001b[0m\u001b[0;34m)\u001b[0m\u001b[0;34m)\u001b[0m\u001b[0;34m:\u001b[0m\u001b[0;34m\u001b[0m\u001b[0m\n\u001b[0;32m----> 3\u001b[0;31m     \u001b[0mapi_response\u001b[0m \u001b[0;34m=\u001b[0m \u001b[0mapi_instance\u001b[0m\u001b[0;34m.\u001b[0m\u001b[0mget_gene_phenotype_associations\u001b[0m\u001b[0;34m(\u001b[0m\u001b[0mgene_id\u001b[0m\u001b[0;34m,\u001b[0m \u001b[0mrows\u001b[0m\u001b[0;34m=\u001b[0m\u001b[0;36m500\u001b[0m\u001b[0;34m)\u001b[0m\u001b[0;34m\u001b[0m\u001b[0m\n\u001b[0m\u001b[1;32m      4\u001b[0m     \u001b[0;31m# TODO add facet_counts to AssociationResults model\u001b[0m\u001b[0;34m\u001b[0m\u001b[0;34m\u001b[0m\u001b[0m\n\u001b[1;32m      5\u001b[0m     \u001b[0;31m# TODO use facet_counts to check the gene does not have >500 phenotypes\u001b[0m\u001b[0;34m\u001b[0m\u001b[0;34m\u001b[0m\u001b[0m\n",
      "\u001b[0;32m/home/gstupp/projects/NCATS-Tangerine/biolink_client/biolink_client/apis/bioentity_api.py\u001b[0m in \u001b[0;36mget_gene_phenotype_associations\u001b[0;34m(self, id, **kwargs)\u001b[0m\n\u001b[1;32m   2906\u001b[0m             \u001b[0;32mreturn\u001b[0m \u001b[0mself\u001b[0m\u001b[0;34m.\u001b[0m\u001b[0mget_gene_phenotype_associations_with_http_info\u001b[0m\u001b[0;34m(\u001b[0m\u001b[0mid\u001b[0m\u001b[0;34m,\u001b[0m \u001b[0;34m**\u001b[0m\u001b[0mkwargs\u001b[0m\u001b[0;34m)\u001b[0m\u001b[0;34m\u001b[0m\u001b[0m\n\u001b[1;32m   2907\u001b[0m         \u001b[0;32melse\u001b[0m\u001b[0;34m:\u001b[0m\u001b[0;34m\u001b[0m\u001b[0m\n\u001b[0;32m-> 2908\u001b[0;31m             \u001b[0;34m(\u001b[0m\u001b[0mdata\u001b[0m\u001b[0;34m)\u001b[0m \u001b[0;34m=\u001b[0m \u001b[0mself\u001b[0m\u001b[0;34m.\u001b[0m\u001b[0mget_gene_phenotype_associations_with_http_info\u001b[0m\u001b[0;34m(\u001b[0m\u001b[0mid\u001b[0m\u001b[0;34m,\u001b[0m \u001b[0;34m**\u001b[0m\u001b[0mkwargs\u001b[0m\u001b[0;34m)\u001b[0m\u001b[0;34m\u001b[0m\u001b[0m\n\u001b[0m\u001b[1;32m   2909\u001b[0m             \u001b[0;32mreturn\u001b[0m \u001b[0mdata\u001b[0m\u001b[0;34m\u001b[0m\u001b[0m\n\u001b[1;32m   2910\u001b[0m \u001b[0;34m\u001b[0m\u001b[0m\n",
      "\u001b[0;32m/home/gstupp/projects/NCATS-Tangerine/biolink_client/biolink_client/apis/bioentity_api.py\u001b[0m in \u001b[0;36mget_gene_phenotype_associations_with_http_info\u001b[0;34m(self, id, **kwargs)\u001b[0m\n\u001b[1;32m   3008\u001b[0m                                         \u001b[0m_preload_content\u001b[0m\u001b[0;34m=\u001b[0m\u001b[0mparams\u001b[0m\u001b[0;34m.\u001b[0m\u001b[0mget\u001b[0m\u001b[0;34m(\u001b[0m\u001b[0;34m'_preload_content'\u001b[0m\u001b[0;34m,\u001b[0m \u001b[0;32mTrue\u001b[0m\u001b[0;34m)\u001b[0m\u001b[0;34m,\u001b[0m\u001b[0;34m\u001b[0m\u001b[0m\n\u001b[1;32m   3009\u001b[0m                                         \u001b[0m_request_timeout\u001b[0m\u001b[0;34m=\u001b[0m\u001b[0mparams\u001b[0m\u001b[0;34m.\u001b[0m\u001b[0mget\u001b[0m\u001b[0;34m(\u001b[0m\u001b[0;34m'_request_timeout'\u001b[0m\u001b[0;34m)\u001b[0m\u001b[0;34m,\u001b[0m\u001b[0;34m\u001b[0m\u001b[0m\n\u001b[0;32m-> 3010\u001b[0;31m                                         collection_formats=collection_formats)\n\u001b[0m\u001b[1;32m   3011\u001b[0m \u001b[0;34m\u001b[0m\u001b[0m\n\u001b[1;32m   3012\u001b[0m     \u001b[0;32mdef\u001b[0m \u001b[0mget_gene_publication_list\u001b[0m\u001b[0;34m(\u001b[0m\u001b[0mself\u001b[0m\u001b[0;34m,\u001b[0m \u001b[0mid\u001b[0m\u001b[0;34m,\u001b[0m \u001b[0;34m**\u001b[0m\u001b[0mkwargs\u001b[0m\u001b[0;34m)\u001b[0m\u001b[0;34m:\u001b[0m\u001b[0;34m\u001b[0m\u001b[0m\n",
      "\u001b[0;32m/home/gstupp/projects/NCATS-Tangerine/biolink_client/biolink_client/api_client.py\u001b[0m in \u001b[0;36mcall_api\u001b[0;34m(self, resource_path, method, path_params, query_params, header_params, body, post_params, files, response_type, auth_settings, callback, _return_http_data_only, collection_formats, _preload_content, _request_timeout)\u001b[0m\n\u001b[1;32m    324\u001b[0m                                    \u001b[0mbody\u001b[0m\u001b[0;34m,\u001b[0m \u001b[0mpost_params\u001b[0m\u001b[0;34m,\u001b[0m \u001b[0mfiles\u001b[0m\u001b[0;34m,\u001b[0m\u001b[0;34m\u001b[0m\u001b[0m\n\u001b[1;32m    325\u001b[0m                                    \u001b[0mresponse_type\u001b[0m\u001b[0;34m,\u001b[0m \u001b[0mauth_settings\u001b[0m\u001b[0;34m,\u001b[0m \u001b[0mcallback\u001b[0m\u001b[0;34m,\u001b[0m\u001b[0;34m\u001b[0m\u001b[0m\n\u001b[0;32m--> 326\u001b[0;31m                                    _return_http_data_only, collection_formats, _preload_content, _request_timeout)\n\u001b[0m\u001b[1;32m    327\u001b[0m         \u001b[0;32melse\u001b[0m\u001b[0;34m:\u001b[0m\u001b[0;34m\u001b[0m\u001b[0m\n\u001b[1;32m    328\u001b[0m             thread = threading.Thread(target=self.__call_api,\n",
      "\u001b[0;32m/home/gstupp/projects/NCATS-Tangerine/biolink_client/biolink_client/api_client.py\u001b[0m in \u001b[0;36m__call_api\u001b[0;34m(self, resource_path, method, path_params, query_params, header_params, body, post_params, files, response_type, auth_settings, callback, _return_http_data_only, collection_formats, _preload_content, _request_timeout)\u001b[0m\n\u001b[1;32m    151\u001b[0m                                      \u001b[0mpost_params\u001b[0m\u001b[0;34m=\u001b[0m\u001b[0mpost_params\u001b[0m\u001b[0;34m,\u001b[0m \u001b[0mbody\u001b[0m\u001b[0;34m=\u001b[0m\u001b[0mbody\u001b[0m\u001b[0;34m,\u001b[0m\u001b[0;34m\u001b[0m\u001b[0m\n\u001b[1;32m    152\u001b[0m                                      \u001b[0m_preload_content\u001b[0m\u001b[0;34m=\u001b[0m\u001b[0m_preload_content\u001b[0m\u001b[0;34m,\u001b[0m\u001b[0;34m\u001b[0m\u001b[0m\n\u001b[0;32m--> 153\u001b[0;31m                                      _request_timeout=_request_timeout)\n\u001b[0m\u001b[1;32m    154\u001b[0m \u001b[0;34m\u001b[0m\u001b[0m\n\u001b[1;32m    155\u001b[0m         \u001b[0mself\u001b[0m\u001b[0;34m.\u001b[0m\u001b[0mlast_response\u001b[0m \u001b[0;34m=\u001b[0m \u001b[0mresponse_data\u001b[0m\u001b[0;34m\u001b[0m\u001b[0m\n",
      "\u001b[0;32m/home/gstupp/projects/NCATS-Tangerine/biolink_client/biolink_client/api_client.py\u001b[0m in \u001b[0;36mrequest\u001b[0;34m(self, method, url, query_params, headers, post_params, body, _preload_content, _request_timeout)\u001b[0m\n\u001b[1;32m    347\u001b[0m                                         \u001b[0m_preload_content\u001b[0m\u001b[0;34m=\u001b[0m\u001b[0m_preload_content\u001b[0m\u001b[0;34m,\u001b[0m\u001b[0;34m\u001b[0m\u001b[0m\n\u001b[1;32m    348\u001b[0m                                         \u001b[0m_request_timeout\u001b[0m\u001b[0;34m=\u001b[0m\u001b[0m_request_timeout\u001b[0m\u001b[0;34m,\u001b[0m\u001b[0;34m\u001b[0m\u001b[0m\n\u001b[0;32m--> 349\u001b[0;31m                                         headers=headers)\n\u001b[0m\u001b[1;32m    350\u001b[0m         \u001b[0;32melif\u001b[0m \u001b[0mmethod\u001b[0m \u001b[0;34m==\u001b[0m \u001b[0;34m\"HEAD\"\u001b[0m\u001b[0;34m:\u001b[0m\u001b[0;34m\u001b[0m\u001b[0m\n\u001b[1;32m    351\u001b[0m             return self.rest_client.HEAD(url,\n",
      "\u001b[0;32m/home/gstupp/projects/NCATS-Tangerine/biolink_client/biolink_client/rest.py\u001b[0m in \u001b[0;36mGET\u001b[0;34m(self, url, headers, query_params, _preload_content, _request_timeout)\u001b[0m\n\u001b[1;32m    226\u001b[0m                             \u001b[0m_preload_content\u001b[0m\u001b[0;34m=\u001b[0m\u001b[0m_preload_content\u001b[0m\u001b[0;34m,\u001b[0m\u001b[0;34m\u001b[0m\u001b[0m\n\u001b[1;32m    227\u001b[0m                             \u001b[0m_request_timeout\u001b[0m\u001b[0;34m=\u001b[0m\u001b[0m_request_timeout\u001b[0m\u001b[0;34m,\u001b[0m\u001b[0;34m\u001b[0m\u001b[0m\n\u001b[0;32m--> 228\u001b[0;31m                             query_params=query_params)\n\u001b[0m\u001b[1;32m    229\u001b[0m \u001b[0;34m\u001b[0m\u001b[0m\n\u001b[1;32m    230\u001b[0m     \u001b[0;32mdef\u001b[0m \u001b[0mHEAD\u001b[0m\u001b[0;34m(\u001b[0m\u001b[0mself\u001b[0m\u001b[0;34m,\u001b[0m \u001b[0murl\u001b[0m\u001b[0;34m,\u001b[0m \u001b[0mheaders\u001b[0m\u001b[0;34m=\u001b[0m\u001b[0;32mNone\u001b[0m\u001b[0;34m,\u001b[0m \u001b[0mquery_params\u001b[0m\u001b[0;34m=\u001b[0m\u001b[0;32mNone\u001b[0m\u001b[0;34m,\u001b[0m \u001b[0m_preload_content\u001b[0m\u001b[0;34m=\u001b[0m\u001b[0;32mTrue\u001b[0m\u001b[0;34m,\u001b[0m \u001b[0m_request_timeout\u001b[0m\u001b[0;34m=\u001b[0m\u001b[0;32mNone\u001b[0m\u001b[0;34m)\u001b[0m\u001b[0;34m:\u001b[0m\u001b[0;34m\u001b[0m\u001b[0m\n",
      "\u001b[0;32m/home/gstupp/projects/NCATS-Tangerine/biolink_client/biolink_client/rest.py\u001b[0m in \u001b[0;36mrequest\u001b[0;34m(self, method, url, query_params, headers, body, post_params, _preload_content, _request_timeout)\u001b[0m\n\u001b[1;32m    217\u001b[0m \u001b[0;34m\u001b[0m\u001b[0m\n\u001b[1;32m    218\u001b[0m         \u001b[0;32mif\u001b[0m \u001b[0;32mnot\u001b[0m \u001b[0;36m200\u001b[0m \u001b[0;34m<=\u001b[0m \u001b[0mr\u001b[0m\u001b[0;34m.\u001b[0m\u001b[0mstatus\u001b[0m \u001b[0;34m<=\u001b[0m \u001b[0;36m299\u001b[0m\u001b[0;34m:\u001b[0m\u001b[0;34m\u001b[0m\u001b[0m\n\u001b[0;32m--> 219\u001b[0;31m             \u001b[0;32mraise\u001b[0m \u001b[0mApiException\u001b[0m\u001b[0;34m(\u001b[0m\u001b[0mhttp_resp\u001b[0m\u001b[0;34m=\u001b[0m\u001b[0mr\u001b[0m\u001b[0;34m)\u001b[0m\u001b[0;34m\u001b[0m\u001b[0m\n\u001b[0m\u001b[1;32m    220\u001b[0m \u001b[0;34m\u001b[0m\u001b[0m\n\u001b[1;32m    221\u001b[0m         \u001b[0;32mreturn\u001b[0m \u001b[0mr\u001b[0m\u001b[0;34m\u001b[0m\u001b[0m\n",
      "\u001b[0;31mApiException\u001b[0m: (502)\nReason: Bad Gateway\nHTTP response headers: HTTPHeaderDict({'Connection': 'keep-alive', 'Content-Length': '182', 'Date': 'Mon, 13 Nov 2017 20:04:04 GMT', 'Server': 'nginx/1.10.3 (Ubuntu)', 'Content-Type': 'text/html'})\nHTTP response body: <html>\r\n<head><title>502 Bad Gateway</title></head>\r\n<body bgcolor=\"white\">\r\n<center><h1>502 Bad Gateway</h1></center>\r\n<hr><center>nginx/1.10.3 (Ubuntu)</center>\r\n</body>\r\n</html>\r\n\n"
     ]
    }
   ],
   "source": [
    "gene_hpo_map = dict()\n",
    "for gene_id in tqdm_notebook(set(df.gene_id)):\n",
    "    api_response = api_instance.get_gene_phenotype_associations(gene_id, rows=500)\n",
    "    # TODO add facet_counts to AssociationResults model\n",
    "    # TODO use facet_counts to check the gene does not have >500 phenotypes\n",
    "    # TODO or better, add pagination\n",
    "    gene_hpo_map[gene_id] = api_response.objects"
   ]
  },
  {
   "cell_type": "code",
   "execution_count": 12,
   "metadata": {
    "collapsed": false
   },
   "outputs": [
    {
     "name": "stdout",
     "output_type": "stream",
     "text": [
      "['EFO:0003924', 'EFO:0003963', 'HP:0000010', 'HP:0000027', 'HP:0000028']\n"
     ]
    }
   ],
   "source": [
    "# Get the first five phenotypes for FANCA\n",
    "pprint(gene_hpo_map[df.at['FANCA', 'gene_id']][0:5])"
   ]
  },
  {
   "cell_type": "code",
   "execution_count": 35,
   "metadata": {
    "collapsed": false,
    "deletable": true,
    "editable": true
   },
   "outputs": [
    {
     "name": "stderr",
     "output_type": "stream",
     "text": [
      "The installed widget Javascript is the wrong version.\n"
     ]
    },
    {
     "name": "stdout",
     "output_type": "stream",
     "text": [
      "\n"
     ]
    },
    {
     "ename": "KeyboardInterrupt",
     "evalue": "",
     "output_type": "error",
     "traceback": [
      "\u001b[0;31m---------------------------------------------------------------------------\u001b[0m",
      "\u001b[0;31mTypeError\u001b[0m                                 Traceback (most recent call last)",
      "\u001b[0;32m/home/gstupp/.local/lib/python3.5/site-packages/requests/packages/urllib3/connectionpool.py\u001b[0m in \u001b[0;36m_make_request\u001b[0;34m(self, conn, method, url, timeout, chunked, **httplib_request_kw)\u001b[0m\n\u001b[1;32m    378\u001b[0m             \u001b[0;32mtry\u001b[0m\u001b[0;34m:\u001b[0m  \u001b[0;31m# Python 2.7, use buffering of HTTP responses\u001b[0m\u001b[0;34m\u001b[0m\u001b[0m\n\u001b[0;32m--> 379\u001b[0;31m                 \u001b[0mhttplib_response\u001b[0m \u001b[0;34m=\u001b[0m \u001b[0mconn\u001b[0m\u001b[0;34m.\u001b[0m\u001b[0mgetresponse\u001b[0m\u001b[0;34m(\u001b[0m\u001b[0mbuffering\u001b[0m\u001b[0;34m=\u001b[0m\u001b[0;32mTrue\u001b[0m\u001b[0;34m)\u001b[0m\u001b[0;34m\u001b[0m\u001b[0m\n\u001b[0m\u001b[1;32m    380\u001b[0m             \u001b[0;32mexcept\u001b[0m \u001b[0mTypeError\u001b[0m\u001b[0;34m:\u001b[0m  \u001b[0;31m# Python 2.6 and older, Python 3\u001b[0m\u001b[0;34m\u001b[0m\u001b[0m\n",
      "\u001b[0;31mTypeError\u001b[0m: getresponse() got an unexpected keyword argument 'buffering'",
      "\nDuring handling of the above exception, another exception occurred:\n",
      "\u001b[0;31mKeyboardInterrupt\u001b[0m                         Traceback (most recent call last)",
      "\u001b[0;32m<ipython-input-35-f08811fef4d7>\u001b[0m in \u001b[0;36m<module>\u001b[0;34m()\u001b[0m\n\u001b[1;32m     12\u001b[0m     \u001b[0mparams\u001b[0m \u001b[0;34m=\u001b[0m \u001b[0;34m{\u001b[0m \u001b[0;34m'id'\u001b[0m\u001b[0;34m:\u001b[0m \u001b[0mphenotypes\u001b[0m \u001b[0;34m}\u001b[0m\u001b[0;34m\u001b[0m\u001b[0m\n\u001b[1;32m     13\u001b[0m     \u001b[0murl\u001b[0m \u001b[0;34m=\u001b[0m \u001b[0;34m\"{}/match/{}\"\u001b[0m\u001b[0;34m.\u001b[0m\u001b[0mformat\u001b[0m\u001b[0;34m(\u001b[0m\u001b[0mOWLSIM_API\u001b[0m\u001b[0;34m,\u001b[0m \u001b[0mmatcher\u001b[0m\u001b[0;34m)\u001b[0m\u001b[0;34m\u001b[0m\u001b[0m\n\u001b[0;32m---> 14\u001b[0;31m     \u001b[0mreq\u001b[0m \u001b[0;34m=\u001b[0m \u001b[0mrequests\u001b[0m\u001b[0;34m.\u001b[0m\u001b[0mget\u001b[0m\u001b[0;34m(\u001b[0m\u001b[0murl\u001b[0m\u001b[0;34m,\u001b[0m \u001b[0mparams\u001b[0m\u001b[0;34m=\u001b[0m\u001b[0mparams\u001b[0m\u001b[0;34m)\u001b[0m\u001b[0;34m\u001b[0m\u001b[0m\n\u001b[0m\u001b[1;32m     15\u001b[0m     \u001b[0mowlsim_results\u001b[0m \u001b[0;34m=\u001b[0m \u001b[0mreq\u001b[0m\u001b[0;34m.\u001b[0m\u001b[0mjson\u001b[0m\u001b[0;34m(\u001b[0m\u001b[0;34m)\u001b[0m\u001b[0;34m\u001b[0m\u001b[0m\n\u001b[1;32m     16\u001b[0m     \u001b[0;32mfor\u001b[0m \u001b[0mmatch\u001b[0m \u001b[0;32min\u001b[0m \u001b[0mowlsim_results\u001b[0m\u001b[0;34m[\u001b[0m\u001b[0;34m'matches'\u001b[0m\u001b[0;34m]\u001b[0m\u001b[0;34m:\u001b[0m\u001b[0;34m\u001b[0m\u001b[0m\n",
      "\u001b[0;32m/home/gstupp/.local/lib/python3.5/site-packages/requests/api.py\u001b[0m in \u001b[0;36mget\u001b[0;34m(url, params, **kwargs)\u001b[0m\n\u001b[1;32m     68\u001b[0m \u001b[0;34m\u001b[0m\u001b[0m\n\u001b[1;32m     69\u001b[0m     \u001b[0mkwargs\u001b[0m\u001b[0;34m.\u001b[0m\u001b[0msetdefault\u001b[0m\u001b[0;34m(\u001b[0m\u001b[0;34m'allow_redirects'\u001b[0m\u001b[0;34m,\u001b[0m \u001b[0;32mTrue\u001b[0m\u001b[0;34m)\u001b[0m\u001b[0;34m\u001b[0m\u001b[0m\n\u001b[0;32m---> 70\u001b[0;31m     \u001b[0;32mreturn\u001b[0m \u001b[0mrequest\u001b[0m\u001b[0;34m(\u001b[0m\u001b[0;34m'get'\u001b[0m\u001b[0;34m,\u001b[0m \u001b[0murl\u001b[0m\u001b[0;34m,\u001b[0m \u001b[0mparams\u001b[0m\u001b[0;34m=\u001b[0m\u001b[0mparams\u001b[0m\u001b[0;34m,\u001b[0m \u001b[0;34m**\u001b[0m\u001b[0mkwargs\u001b[0m\u001b[0;34m)\u001b[0m\u001b[0;34m\u001b[0m\u001b[0m\n\u001b[0m\u001b[1;32m     71\u001b[0m \u001b[0;34m\u001b[0m\u001b[0m\n\u001b[1;32m     72\u001b[0m \u001b[0;34m\u001b[0m\u001b[0m\n",
      "\u001b[0;32m/home/gstupp/.local/lib/python3.5/site-packages/requests/api.py\u001b[0m in \u001b[0;36mrequest\u001b[0;34m(method, url, **kwargs)\u001b[0m\n\u001b[1;32m     54\u001b[0m     \u001b[0;31m# cases, and look like a memory leak in others.\u001b[0m\u001b[0;34m\u001b[0m\u001b[0;34m\u001b[0m\u001b[0m\n\u001b[1;32m     55\u001b[0m     \u001b[0;32mwith\u001b[0m \u001b[0msessions\u001b[0m\u001b[0;34m.\u001b[0m\u001b[0mSession\u001b[0m\u001b[0;34m(\u001b[0m\u001b[0;34m)\u001b[0m \u001b[0;32mas\u001b[0m \u001b[0msession\u001b[0m\u001b[0;34m:\u001b[0m\u001b[0;34m\u001b[0m\u001b[0m\n\u001b[0;32m---> 56\u001b[0;31m         \u001b[0;32mreturn\u001b[0m \u001b[0msession\u001b[0m\u001b[0;34m.\u001b[0m\u001b[0mrequest\u001b[0m\u001b[0;34m(\u001b[0m\u001b[0mmethod\u001b[0m\u001b[0;34m=\u001b[0m\u001b[0mmethod\u001b[0m\u001b[0;34m,\u001b[0m \u001b[0murl\u001b[0m\u001b[0;34m=\u001b[0m\u001b[0murl\u001b[0m\u001b[0;34m,\u001b[0m \u001b[0;34m**\u001b[0m\u001b[0mkwargs\u001b[0m\u001b[0;34m)\u001b[0m\u001b[0;34m\u001b[0m\u001b[0m\n\u001b[0m\u001b[1;32m     57\u001b[0m \u001b[0;34m\u001b[0m\u001b[0m\n\u001b[1;32m     58\u001b[0m \u001b[0;34m\u001b[0m\u001b[0m\n",
      "\u001b[0;32m/home/gstupp/.local/lib/python3.5/site-packages/requests/sessions.py\u001b[0m in \u001b[0;36mrequest\u001b[0;34m(self, method, url, params, data, headers, cookies, files, auth, timeout, allow_redirects, proxies, hooks, stream, verify, cert, json)\u001b[0m\n\u001b[1;32m    486\u001b[0m         }\n\u001b[1;32m    487\u001b[0m         \u001b[0msend_kwargs\u001b[0m\u001b[0;34m.\u001b[0m\u001b[0mupdate\u001b[0m\u001b[0;34m(\u001b[0m\u001b[0msettings\u001b[0m\u001b[0;34m)\u001b[0m\u001b[0;34m\u001b[0m\u001b[0m\n\u001b[0;32m--> 488\u001b[0;31m         \u001b[0mresp\u001b[0m \u001b[0;34m=\u001b[0m \u001b[0mself\u001b[0m\u001b[0;34m.\u001b[0m\u001b[0msend\u001b[0m\u001b[0;34m(\u001b[0m\u001b[0mprep\u001b[0m\u001b[0;34m,\u001b[0m \u001b[0;34m**\u001b[0m\u001b[0msend_kwargs\u001b[0m\u001b[0;34m)\u001b[0m\u001b[0;34m\u001b[0m\u001b[0m\n\u001b[0m\u001b[1;32m    489\u001b[0m \u001b[0;34m\u001b[0m\u001b[0m\n\u001b[1;32m    490\u001b[0m         \u001b[0;32mreturn\u001b[0m \u001b[0mresp\u001b[0m\u001b[0;34m\u001b[0m\u001b[0m\n",
      "\u001b[0;32m/home/gstupp/.local/lib/python3.5/site-packages/requests/sessions.py\u001b[0m in \u001b[0;36msend\u001b[0;34m(self, request, **kwargs)\u001b[0m\n\u001b[1;32m    607\u001b[0m \u001b[0;34m\u001b[0m\u001b[0m\n\u001b[1;32m    608\u001b[0m         \u001b[0;31m# Send the request\u001b[0m\u001b[0;34m\u001b[0m\u001b[0;34m\u001b[0m\u001b[0m\n\u001b[0;32m--> 609\u001b[0;31m         \u001b[0mr\u001b[0m \u001b[0;34m=\u001b[0m \u001b[0madapter\u001b[0m\u001b[0;34m.\u001b[0m\u001b[0msend\u001b[0m\u001b[0;34m(\u001b[0m\u001b[0mrequest\u001b[0m\u001b[0;34m,\u001b[0m \u001b[0;34m**\u001b[0m\u001b[0mkwargs\u001b[0m\u001b[0;34m)\u001b[0m\u001b[0;34m\u001b[0m\u001b[0m\n\u001b[0m\u001b[1;32m    610\u001b[0m \u001b[0;34m\u001b[0m\u001b[0m\n\u001b[1;32m    611\u001b[0m         \u001b[0;31m# Total elapsed time of the request (approximately)\u001b[0m\u001b[0;34m\u001b[0m\u001b[0;34m\u001b[0m\u001b[0m\n",
      "\u001b[0;32m/home/gstupp/.local/lib/python3.5/site-packages/requests/adapters.py\u001b[0m in \u001b[0;36msend\u001b[0;34m(self, request, stream, timeout, verify, cert, proxies)\u001b[0m\n\u001b[1;32m    421\u001b[0m                     \u001b[0mdecode_content\u001b[0m\u001b[0;34m=\u001b[0m\u001b[0;32mFalse\u001b[0m\u001b[0;34m,\u001b[0m\u001b[0;34m\u001b[0m\u001b[0m\n\u001b[1;32m    422\u001b[0m                     \u001b[0mretries\u001b[0m\u001b[0;34m=\u001b[0m\u001b[0mself\u001b[0m\u001b[0;34m.\u001b[0m\u001b[0mmax_retries\u001b[0m\u001b[0;34m,\u001b[0m\u001b[0;34m\u001b[0m\u001b[0m\n\u001b[0;32m--> 423\u001b[0;31m                     \u001b[0mtimeout\u001b[0m\u001b[0;34m=\u001b[0m\u001b[0mtimeout\u001b[0m\u001b[0;34m\u001b[0m\u001b[0m\n\u001b[0m\u001b[1;32m    424\u001b[0m                 )\n\u001b[1;32m    425\u001b[0m \u001b[0;34m\u001b[0m\u001b[0m\n",
      "\u001b[0;32m/home/gstupp/.local/lib/python3.5/site-packages/requests/packages/urllib3/connectionpool.py\u001b[0m in \u001b[0;36murlopen\u001b[0;34m(self, method, url, body, headers, retries, redirect, assert_same_host, timeout, pool_timeout, release_conn, chunked, body_pos, **response_kw)\u001b[0m\n\u001b[1;32m    598\u001b[0m                                                   \u001b[0mtimeout\u001b[0m\u001b[0;34m=\u001b[0m\u001b[0mtimeout_obj\u001b[0m\u001b[0;34m,\u001b[0m\u001b[0;34m\u001b[0m\u001b[0m\n\u001b[1;32m    599\u001b[0m                                                   \u001b[0mbody\u001b[0m\u001b[0;34m=\u001b[0m\u001b[0mbody\u001b[0m\u001b[0;34m,\u001b[0m \u001b[0mheaders\u001b[0m\u001b[0;34m=\u001b[0m\u001b[0mheaders\u001b[0m\u001b[0;34m,\u001b[0m\u001b[0;34m\u001b[0m\u001b[0m\n\u001b[0;32m--> 600\u001b[0;31m                                                   chunked=chunked)\n\u001b[0m\u001b[1;32m    601\u001b[0m \u001b[0;34m\u001b[0m\u001b[0m\n\u001b[1;32m    602\u001b[0m             \u001b[0;31m# If we're going to release the connection in ``finally:``, then\u001b[0m\u001b[0;34m\u001b[0m\u001b[0;34m\u001b[0m\u001b[0m\n",
      "\u001b[0;32m/home/gstupp/.local/lib/python3.5/site-packages/requests/packages/urllib3/connectionpool.py\u001b[0m in \u001b[0;36m_make_request\u001b[0;34m(self, conn, method, url, timeout, chunked, **httplib_request_kw)\u001b[0m\n\u001b[1;32m    380\u001b[0m             \u001b[0;32mexcept\u001b[0m \u001b[0mTypeError\u001b[0m\u001b[0;34m:\u001b[0m  \u001b[0;31m# Python 2.6 and older, Python 3\u001b[0m\u001b[0;34m\u001b[0m\u001b[0m\n\u001b[1;32m    381\u001b[0m                 \u001b[0;32mtry\u001b[0m\u001b[0;34m:\u001b[0m\u001b[0;34m\u001b[0m\u001b[0m\n\u001b[0;32m--> 382\u001b[0;31m                     \u001b[0mhttplib_response\u001b[0m \u001b[0;34m=\u001b[0m \u001b[0mconn\u001b[0m\u001b[0;34m.\u001b[0m\u001b[0mgetresponse\u001b[0m\u001b[0;34m(\u001b[0m\u001b[0;34m)\u001b[0m\u001b[0;34m\u001b[0m\u001b[0m\n\u001b[0m\u001b[1;32m    383\u001b[0m                 \u001b[0;32mexcept\u001b[0m \u001b[0mException\u001b[0m \u001b[0;32mas\u001b[0m \u001b[0me\u001b[0m\u001b[0;34m:\u001b[0m\u001b[0;34m\u001b[0m\u001b[0m\n\u001b[1;32m    384\u001b[0m                     \u001b[0;31m# Remove the TypeError from the exception chain in Python 3;\u001b[0m\u001b[0;34m\u001b[0m\u001b[0;34m\u001b[0m\u001b[0m\n",
      "\u001b[0;32m/usr/lib/python3.5/http/client.py\u001b[0m in \u001b[0;36mgetresponse\u001b[0;34m(self)\u001b[0m\n\u001b[1;32m   1195\u001b[0m         \u001b[0;32mtry\u001b[0m\u001b[0;34m:\u001b[0m\u001b[0;34m\u001b[0m\u001b[0m\n\u001b[1;32m   1196\u001b[0m             \u001b[0;32mtry\u001b[0m\u001b[0;34m:\u001b[0m\u001b[0;34m\u001b[0m\u001b[0m\n\u001b[0;32m-> 1197\u001b[0;31m                 \u001b[0mresponse\u001b[0m\u001b[0;34m.\u001b[0m\u001b[0mbegin\u001b[0m\u001b[0;34m(\u001b[0m\u001b[0;34m)\u001b[0m\u001b[0;34m\u001b[0m\u001b[0m\n\u001b[0m\u001b[1;32m   1198\u001b[0m             \u001b[0;32mexcept\u001b[0m \u001b[0mConnectionError\u001b[0m\u001b[0;34m:\u001b[0m\u001b[0;34m\u001b[0m\u001b[0m\n\u001b[1;32m   1199\u001b[0m                 \u001b[0mself\u001b[0m\u001b[0;34m.\u001b[0m\u001b[0mclose\u001b[0m\u001b[0;34m(\u001b[0m\u001b[0;34m)\u001b[0m\u001b[0;34m\u001b[0m\u001b[0m\n",
      "\u001b[0;32m/usr/lib/python3.5/http/client.py\u001b[0m in \u001b[0;36mbegin\u001b[0;34m(self)\u001b[0m\n\u001b[1;32m    295\u001b[0m         \u001b[0;31m# read until we get a non-100 response\u001b[0m\u001b[0;34m\u001b[0m\u001b[0;34m\u001b[0m\u001b[0m\n\u001b[1;32m    296\u001b[0m         \u001b[0;32mwhile\u001b[0m \u001b[0;32mTrue\u001b[0m\u001b[0;34m:\u001b[0m\u001b[0;34m\u001b[0m\u001b[0m\n\u001b[0;32m--> 297\u001b[0;31m             \u001b[0mversion\u001b[0m\u001b[0;34m,\u001b[0m \u001b[0mstatus\u001b[0m\u001b[0;34m,\u001b[0m \u001b[0mreason\u001b[0m \u001b[0;34m=\u001b[0m \u001b[0mself\u001b[0m\u001b[0;34m.\u001b[0m\u001b[0m_read_status\u001b[0m\u001b[0;34m(\u001b[0m\u001b[0;34m)\u001b[0m\u001b[0;34m\u001b[0m\u001b[0m\n\u001b[0m\u001b[1;32m    298\u001b[0m             \u001b[0;32mif\u001b[0m \u001b[0mstatus\u001b[0m \u001b[0;34m!=\u001b[0m \u001b[0mCONTINUE\u001b[0m\u001b[0;34m:\u001b[0m\u001b[0;34m\u001b[0m\u001b[0m\n\u001b[1;32m    299\u001b[0m                 \u001b[0;32mbreak\u001b[0m\u001b[0;34m\u001b[0m\u001b[0m\n",
      "\u001b[0;32m/usr/lib/python3.5/http/client.py\u001b[0m in \u001b[0;36m_read_status\u001b[0;34m(self)\u001b[0m\n\u001b[1;32m    256\u001b[0m \u001b[0;34m\u001b[0m\u001b[0m\n\u001b[1;32m    257\u001b[0m     \u001b[0;32mdef\u001b[0m \u001b[0m_read_status\u001b[0m\u001b[0;34m(\u001b[0m\u001b[0mself\u001b[0m\u001b[0;34m)\u001b[0m\u001b[0;34m:\u001b[0m\u001b[0;34m\u001b[0m\u001b[0m\n\u001b[0;32m--> 258\u001b[0;31m         \u001b[0mline\u001b[0m \u001b[0;34m=\u001b[0m \u001b[0mstr\u001b[0m\u001b[0;34m(\u001b[0m\u001b[0mself\u001b[0m\u001b[0;34m.\u001b[0m\u001b[0mfp\u001b[0m\u001b[0;34m.\u001b[0m\u001b[0mreadline\u001b[0m\u001b[0;34m(\u001b[0m\u001b[0m_MAXLINE\u001b[0m \u001b[0;34m+\u001b[0m \u001b[0;36m1\u001b[0m\u001b[0;34m)\u001b[0m\u001b[0;34m,\u001b[0m \u001b[0;34m\"iso-8859-1\"\u001b[0m\u001b[0;34m)\u001b[0m\u001b[0;34m\u001b[0m\u001b[0m\n\u001b[0m\u001b[1;32m    259\u001b[0m         \u001b[0;32mif\u001b[0m \u001b[0mlen\u001b[0m\u001b[0;34m(\u001b[0m\u001b[0mline\u001b[0m\u001b[0;34m)\u001b[0m \u001b[0;34m>\u001b[0m \u001b[0m_MAXLINE\u001b[0m\u001b[0;34m:\u001b[0m\u001b[0;34m\u001b[0m\u001b[0m\n\u001b[1;32m    260\u001b[0m             \u001b[0;32mraise\u001b[0m \u001b[0mLineTooLong\u001b[0m\u001b[0;34m(\u001b[0m\u001b[0;34m\"status line\"\u001b[0m\u001b[0;34m)\u001b[0m\u001b[0;34m\u001b[0m\u001b[0m\n",
      "\u001b[0;32m/usr/lib/python3.5/socket.py\u001b[0m in \u001b[0;36mreadinto\u001b[0;34m(self, b)\u001b[0m\n\u001b[1;32m    573\u001b[0m         \u001b[0;32mwhile\u001b[0m \u001b[0;32mTrue\u001b[0m\u001b[0;34m:\u001b[0m\u001b[0;34m\u001b[0m\u001b[0m\n\u001b[1;32m    574\u001b[0m             \u001b[0;32mtry\u001b[0m\u001b[0;34m:\u001b[0m\u001b[0;34m\u001b[0m\u001b[0m\n\u001b[0;32m--> 575\u001b[0;31m                 \u001b[0;32mreturn\u001b[0m \u001b[0mself\u001b[0m\u001b[0;34m.\u001b[0m\u001b[0m_sock\u001b[0m\u001b[0;34m.\u001b[0m\u001b[0mrecv_into\u001b[0m\u001b[0;34m(\u001b[0m\u001b[0mb\u001b[0m\u001b[0;34m)\u001b[0m\u001b[0;34m\u001b[0m\u001b[0m\n\u001b[0m\u001b[1;32m    576\u001b[0m             \u001b[0;32mexcept\u001b[0m \u001b[0mtimeout\u001b[0m\u001b[0;34m:\u001b[0m\u001b[0;34m\u001b[0m\u001b[0m\n\u001b[1;32m    577\u001b[0m                 \u001b[0mself\u001b[0m\u001b[0;34m.\u001b[0m\u001b[0m_timeout_occurred\u001b[0m \u001b[0;34m=\u001b[0m \u001b[0;32mTrue\u001b[0m\u001b[0;34m\u001b[0m\u001b[0m\n",
      "\u001b[0;31mKeyboardInterrupt\u001b[0m: "
     ]
    }
   ],
   "source": [
    "# Search for top human genes\n",
    "# TODO implement prefix or taxon+type filters in owlsim\n",
    "# TODO fix cutoff filter\n",
    "\n",
    "# Note that this notebook takes a few minutes to run\n",
    "\n",
    "# Use phenodigm algorithm\n",
    "matcher = 'phenodigm'\n",
    "results = []\n",
    "\n",
    "for ncbi_id, phenotypes in tqdm_notebook(gene_hpo_map.items()):\n",
    "    params = { 'id': phenotypes }\n",
    "    url = \"{}/match/{}\".format(OWLSIM_API, matcher)\n",
    "    req = requests.get(url, params=params)\n",
    "    owlsim_results = req.json()\n",
    "    for match in owlsim_results['matches']:\n",
    "        results.append([ncbi_id, id_symbol[ncbi_id], match['matchId'], match['matchLabel'], match['rawScore']])"
   ]
  },
  {
   "cell_type": "code",
   "execution_count": 36,
   "metadata": {
    "collapsed": false
   },
   "outputs": [
    {
     "data": {
      "text/plain": [
       "['NCBIGene:2072', 'ERCC4', 'NCBIGene:2072', 'ERCC4', 99.49491789772425]"
      ]
     },
     "execution_count": 36,
     "metadata": {},
     "output_type": "execute_result"
    }
   ],
   "source": [
    "results[0]"
   ]
  },
  {
   "cell_type": "code",
   "execution_count": 97,
   "metadata": {
    "collapsed": false
   },
   "outputs": [],
   "source": [
    "# Create a table of query gene, matched gene, and sim score\n",
    "column_names = ['query_gene', 'query_symbol', 'match_gene', 'match_symbol', 'sim_score']\n",
    "df = pd.DataFrame(data=results, columns=column_names)\n",
    "df = df.replace('NaN', pd.np.NaN).dropna().reindex()"
   ]
  },
  {
   "cell_type": "code",
   "execution_count": 98,
   "metadata": {
    "collapsed": false
   },
   "outputs": [
    {
     "name": "stdout",
     "output_type": "stream",
     "text": [
      "       query_gene query_symbol       match_gene                                     match_symbol  sim_score\n",
      "0   NCBIGene:2072        ERCC4    NCBIGene:2072                                            ERCC4  99.494918\n",
      "1   NCBIGene:2072        ERCC4   NCBIGene:10459                                           MAD2L2  80.791164\n",
      "2   NCBIGene:2072        ERCC4   NCBIGene:57697                                            FANCM  80.791164\n",
      "3   NCBIGene:2072        ERCC4    NCBIGene:2188                                            FANCF  80.791164\n",
      "4   NCBIGene:2072        ERCC4    NCBIGene:2189                                            FANCG  80.791164\n",
      "5   NCBIGene:2072        ERCC4    NCBIGene:7516                                            XRCC2  80.791164\n",
      "6   NCBIGene:2072        ERCC4       DOID:13636                                   Fanconi anemia  80.791164\n",
      "7   NCBIGene:2072        ERCC4    NCBIGene:5888                                            RAD51  80.692858\n",
      "8   NCBIGene:2072        ERCC4   NCBIGene:29089                                            UBE2T  80.692858\n",
      "9   NCBIGene:2072        ERCC4   NCBIGene:55215                                            FANCI  80.497801\n",
      "10  NCBIGene:2072        ERCC4   NCBIGene:55120                                            FANCL  80.458300\n",
      "11  NCBIGene:2072        ERCC4    NCBIGene:5889                                           RAD51C  80.443244\n",
      "12  NCBIGene:2072        ERCC4   NCBIGene:84464                                             SLX4  80.347636\n",
      "13  NCBIGene:2072        ERCC4    NCBIGene:2187                                            FANCB  80.263305\n",
      "14  NCBIGene:2072        ERCC4   NCBIGene:83990                                            BRIP1  79.956896\n",
      "15  NCBIGene:2072        ERCC4    NCBIGene:2177                                           FANCD2  79.509058\n",
      "16  NCBIGene:2072        ERCC4   NCBIGene:79728                                            PALB2  79.493633\n",
      "17  NCBIGene:2072        ERCC4    NCBIGene:2175                                            FANCA  79.327896\n",
      "18  NCBIGene:2072        ERCC4    NCBIGene:2176                                            FANCC  79.059568\n",
      "19  NCBIGene:2072        ERCC4    NCBIGene:2178                                            FANCE  79.059568\n",
      "20  NCBIGene:2072        ERCC4    NCBIGene:2073                                            ERCC5  77.349963\n",
      "21  NCBIGene:2072        ERCC4    NCBIGene:2071                                            ERCC3  77.015192\n",
      "22  NCBIGene:2072        ERCC4    NCBIGene:2068                                            ERCC2  75.396065\n",
      "23  NCBIGene:2072        ERCC4    NCBIGene:1643                                             DDB2  74.143082\n",
      "24  NCBIGene:2072        ERCC4    NCBIGene:7508                                              XPC  73.742835\n",
      "25  NCBIGene:2072        ERCC4    NCBIGene:7507                                              XPA  73.613378\n",
      "26  NCBIGene:2072        ERCC4     DOID:0050427                            xeroderma pigmentosum  73.554212\n",
      "27  NCBIGene:2072        ERCC4     NCBIGene:675                                            BRCA2  72.112250\n",
      "28  NCBIGene:2072        ERCC4  Orphanet:220295  Xeroderma pigmentosum-Cockayne syndrome complex  57.822249\n",
      "29  NCBIGene:2072        ERCC4      OMIM:278760                   Xeroderma pigmentosum, group F  56.670374\n",
      "30  NCBIGene:2072        ERCC4    NCBIGene:1029                                           CDKN2A  56.432422\n",
      "31  NCBIGene:2072        ERCC4    NCBIGene:2074                                            ERCC6  56.172971\n",
      "32  NCBIGene:2072        ERCC4        DOID:2962                                Cockayne syndrome  56.074182\n",
      "33  NCBIGene:2072        ERCC4    NCBIGene:5727                                            PTCH1  55.557519\n",
      "34  NCBIGene:2072        ERCC4        DOID:2174                                    ocular cancer  54.982595\n",
      "35  NCBIGene:2072        ERCC4    NCBIGene:3265                                             HRAS  53.901917\n",
      "36  NCBIGene:2072        ERCC4    NCBIGene:2623                                            GATA1  53.811559\n",
      "37  NCBIGene:2072        ERCC4    NCBIGene:5290                                           PIK3CA  53.641452\n",
      "38  NCBIGene:2072        ERCC4    NCBIGene:9401                                           RECQL4  53.577946\n",
      "39  NCBIGene:2072        ERCC4    NCBIGene:5728                                             PTEN  53.473604\n"
     ]
    }
   ],
   "source": [
    "# Get sim scores for ERCC4\n",
    "df_ercc4 = df.query(\"query_symbol == 'ERCC4'\")\n",
    "print(df_ercc4.head(40))"
   ]
  },
  {
   "cell_type": "code",
   "execution_count": 99,
   "metadata": {
    "collapsed": true
   },
   "outputs": [],
   "source": [
    "# Filter out Non-Genes\n",
    "df = df[df.match_gene.str.startswith(\"NCBIGene\")]"
   ]
  },
  {
   "cell_type": "code",
   "execution_count": 100,
   "metadata": {
    "collapsed": false
   },
   "outputs": [
    {
     "name": "stdout",
     "output_type": "stream",
     "text": [
      "       query_gene query_symbol      match_gene match_symbol  sim_score\n",
      "0   NCBIGene:2072        ERCC4   NCBIGene:2072        ERCC4  99.494918\n",
      "1   NCBIGene:2072        ERCC4  NCBIGene:10459       MAD2L2  80.791164\n",
      "2   NCBIGene:2072        ERCC4  NCBIGene:57697        FANCM  80.791164\n",
      "3   NCBIGene:2072        ERCC4   NCBIGene:2188        FANCF  80.791164\n",
      "4   NCBIGene:2072        ERCC4   NCBIGene:2189        FANCG  80.791164\n",
      "5   NCBIGene:2072        ERCC4   NCBIGene:7516        XRCC2  80.791164\n",
      "7   NCBIGene:2072        ERCC4   NCBIGene:5888        RAD51  80.692858\n",
      "8   NCBIGene:2072        ERCC4  NCBIGene:29089        UBE2T  80.692858\n",
      "9   NCBIGene:2072        ERCC4  NCBIGene:55215        FANCI  80.497801\n",
      "10  NCBIGene:2072        ERCC4  NCBIGene:55120        FANCL  80.458300\n",
      "11  NCBIGene:2072        ERCC4   NCBIGene:5889       RAD51C  80.443244\n",
      "12  NCBIGene:2072        ERCC4  NCBIGene:84464         SLX4  80.347636\n",
      "13  NCBIGene:2072        ERCC4   NCBIGene:2187        FANCB  80.263305\n",
      "14  NCBIGene:2072        ERCC4  NCBIGene:83990        BRIP1  79.956896\n",
      "15  NCBIGene:2072        ERCC4   NCBIGene:2177       FANCD2  79.509058\n",
      "16  NCBIGene:2072        ERCC4  NCBIGene:79728        PALB2  79.493633\n",
      "17  NCBIGene:2072        ERCC4   NCBIGene:2175        FANCA  79.327896\n",
      "18  NCBIGene:2072        ERCC4   NCBIGene:2176        FANCC  79.059568\n",
      "19  NCBIGene:2072        ERCC4   NCBIGene:2178        FANCE  79.059568\n",
      "20  NCBIGene:2072        ERCC4   NCBIGene:2073        ERCC5  77.349963\n",
      "21  NCBIGene:2072        ERCC4   NCBIGene:2071        ERCC3  77.015192\n",
      "22  NCBIGene:2072        ERCC4   NCBIGene:2068        ERCC2  75.396065\n",
      "23  NCBIGene:2072        ERCC4   NCBIGene:1643         DDB2  74.143082\n",
      "24  NCBIGene:2072        ERCC4   NCBIGene:7508          XPC  73.742835\n",
      "25  NCBIGene:2072        ERCC4   NCBIGene:7507          XPA  73.613378\n",
      "27  NCBIGene:2072        ERCC4    NCBIGene:675        BRCA2  72.112250\n",
      "30  NCBIGene:2072        ERCC4   NCBIGene:1029       CDKN2A  56.432422\n",
      "31  NCBIGene:2072        ERCC4   NCBIGene:2074        ERCC6  56.172971\n",
      "33  NCBIGene:2072        ERCC4   NCBIGene:5727        PTCH1  55.557519\n",
      "35  NCBIGene:2072        ERCC4   NCBIGene:3265         HRAS  53.901917\n",
      "36  NCBIGene:2072        ERCC4   NCBIGene:2623        GATA1  53.811559\n",
      "37  NCBIGene:2072        ERCC4   NCBIGene:5290       PIK3CA  53.641452\n",
      "38  NCBIGene:2072        ERCC4   NCBIGene:9401       RECQL4  53.577946\n",
      "39  NCBIGene:2072        ERCC4   NCBIGene:5728         PTEN  53.473604\n",
      "40  NCBIGene:2072        ERCC4   NCBIGene:4693          NDP  53.442030\n",
      "41  NCBIGene:2072        ERCC4    NCBIGene:207         AKT1  53.227241\n",
      "43  NCBIGene:2072        ERCC4  NCBIGene:64840        PORCN  52.792970\n",
      "48  NCBIGene:2072        ERCC4  NCBIGene:23554      TSPAN12  52.217783\n",
      "49  NCBIGene:2072        ERCC4    NCBIGene:673         BRAF  51.943766\n",
      "50  NCBIGene:2072        ERCC4    NCBIGene:472          ATM  51.927571\n"
     ]
    }
   ],
   "source": [
    "# Get sim scores for ERCC4\n",
    "df_ercc4 = df.query(\"query_symbol == 'ERCC4'\")\n",
    "print(df_ercc4.head(40))"
   ]
  },
  {
   "cell_type": "code",
   "execution_count": 101,
   "metadata": {
    "collapsed": false
   },
   "outputs": [],
   "source": [
    "# remove self matches\n",
    "df = df[df.query_gene != df.match_gene]"
   ]
  },
  {
   "cell_type": "code",
   "execution_count": 132,
   "metadata": {
    "collapsed": false
   },
   "outputs": [
    {
     "data": {
      "text/plain": [
       "match_symbol\n",
       "FANCD2    645.872798\n",
       "FANCA     643.888836\n",
       "FANCI     640.039973\n",
       "XRCC2     638.543443\n",
       "FANCM     638.543443\n",
       "MAD2L2    638.543443\n",
       "FANCF     638.543443\n",
       "RAD51     637.482770\n",
       "RAD51C    633.733749\n",
       "FANCL     631.168424\n",
       "FANCB     630.888143\n",
       "PALB2     630.403085\n",
       "BRIP1     551.687171\n",
       "BRCA2     551.024568\n",
       "FANCE     546.233946\n",
       "FANCC     546.233946\n",
       "UBE2T     544.324993\n",
       "FANCG     538.543443\n",
       "SLX4      535.817756\n",
       "ERCC4     494.228326\n",
       "Name: sim_score, dtype: float64"
      ]
     },
     "execution_count": 132,
     "metadata": {},
     "output_type": "execute_result"
    }
   ],
   "source": [
    "# sum scores for each matched gene\n",
    "sim_score = df.groupby(\"match_symbol\").agg({\"sim_score\": sum}).sim_score\n",
    "sim_score = sim_score.sort_values(ascending=False)\n",
    "sim_score[:20]"
   ]
  },
  {
   "cell_type": "code",
   "execution_count": 133,
   "metadata": {
    "collapsed": false
   },
   "outputs": [
    {
     "data": {
      "text/plain": [
       "match_symbol\n",
       "FANCD2    645.872798\n",
       "FANCA     643.888836\n",
       "FANCI     640.039973\n",
       "XRCC2     638.543443\n",
       "FANCM     638.543443\n",
       "MAD2L2    638.543443\n",
       "FANCF     638.543443\n",
       "RAD51     637.482770\n",
       "RAD51C    633.733749\n",
       "FANCL     631.168424\n",
       "FANCB     630.888143\n",
       "PALB2     630.403085\n",
       "BRIP1     551.687171\n",
       "BRCA2     551.024568\n",
       "FANCE     546.233946\n",
       "FANCC     546.233946\n",
       "UBE2T     544.324993\n",
       "FANCG     538.543443\n",
       "SLX4      535.817756\n",
       "ERCC4     494.228326\n",
       "BRCA1     291.560420\n",
       "Name: sim_score, dtype: float64"
      ]
     },
     "execution_count": 133,
     "metadata": {},
     "output_type": "execute_result"
    }
   ],
   "source": [
    "## Sanity check. Only show the FA genes\n",
    "sim_score[sim_score.index.isin(symbol_id)]"
   ]
  },
  {
   "cell_type": "code",
   "execution_count": 135,
   "metadata": {
    "collapsed": false,
    "deletable": true,
    "editable": true
   },
   "outputs": [
    {
     "data": {
      "text/plain": [
       "match_symbol\n",
       "ERCC5     388.214663\n",
       "ERCC3     384.741851\n",
       "ERCC2     380.767802\n",
       "DDB2      378.441790\n",
       "XPA       377.492515\n",
       "XPC       377.005496\n",
       "GATA1     375.973420\n",
       "RPS19     374.372384\n",
       "FLI1      371.583715\n",
       "ATM       365.580848\n",
       "BLM       363.770373\n",
       "RPL35A    361.500421\n",
       "RPS26     361.051479\n",
       "RECQL4    360.921232\n",
       "RPL5      360.579315\n",
       "CEP57     360.460385\n",
       "RPL11     360.276507\n",
       "RPL26     359.769532\n",
       "BUB1      358.562051\n",
       "BUB1B     358.562051\n",
       "Name: sim_score, dtype: float64"
      ]
     },
     "execution_count": 135,
     "metadata": {},
     "output_type": "execute_result"
    }
   ],
   "source": [
    "# Filter out all genes from the input set (FA)\n",
    "sim_score_nofa = sim_score[~sim_score.index.isin(symbol_id)]\n",
    "sim_score_nofa[:20]"
   ]
  },
  {
   "cell_type": "code",
   "execution_count": 137,
   "metadata": {
    "collapsed": false
   },
   "outputs": [
    {
     "data": {
      "text/html": [
       "<div>\n",
       "<table border=\"1\" class=\"dataframe\">\n",
       "  <thead>\n",
       "    <tr style=\"text-align: right;\">\n",
       "      <th></th>\n",
       "      <th>query_gene</th>\n",
       "      <th>query_symbol</th>\n",
       "      <th>match_gene</th>\n",
       "      <th>match_symbol</th>\n",
       "      <th>sim_score</th>\n",
       "    </tr>\n",
       "  </thead>\n",
       "  <tbody>\n",
       "    <tr>\n",
       "      <th>20</th>\n",
       "      <td>NCBIGene:2072</td>\n",
       "      <td>ERCC4</td>\n",
       "      <td>NCBIGene:2073</td>\n",
       "      <td>ERCC5</td>\n",
       "      <td>77.349963</td>\n",
       "    </tr>\n",
       "    <tr>\n",
       "      <th>451</th>\n",
       "      <td>NCBIGene:2176</td>\n",
       "      <td>FANCC</td>\n",
       "      <td>NCBIGene:2073</td>\n",
       "      <td>ERCC5</td>\n",
       "      <td>51.424090</td>\n",
       "    </tr>\n",
       "    <tr>\n",
       "      <th>654</th>\n",
       "      <td>NCBIGene:83990</td>\n",
       "      <td>BRIP1</td>\n",
       "      <td>NCBIGene:2073</td>\n",
       "      <td>ERCC5</td>\n",
       "      <td>45.360208</td>\n",
       "    </tr>\n",
       "    <tr>\n",
       "      <th>1035</th>\n",
       "      <td>NCBIGene:2189</td>\n",
       "      <td>FANCG</td>\n",
       "      <td>NCBIGene:2073</td>\n",
       "      <td>ERCC5</td>\n",
       "      <td>56.306953</td>\n",
       "    </tr>\n",
       "    <tr>\n",
       "      <th>1451</th>\n",
       "      <td>NCBIGene:2178</td>\n",
       "      <td>FANCE</td>\n",
       "      <td>NCBIGene:2073</td>\n",
       "      <td>ERCC5</td>\n",
       "      <td>51.424090</td>\n",
       "    </tr>\n",
       "    <tr>\n",
       "      <th>1638</th>\n",
       "      <td>NCBIGene:84464</td>\n",
       "      <td>SLX4</td>\n",
       "      <td>NCBIGene:2073</td>\n",
       "      <td>ERCC5</td>\n",
       "      <td>55.943945</td>\n",
       "    </tr>\n",
       "    <tr>\n",
       "      <th>1842</th>\n",
       "      <td>NCBIGene:29089</td>\n",
       "      <td>UBE2T</td>\n",
       "      <td>NCBIGene:2073</td>\n",
       "      <td>ERCC5</td>\n",
       "      <td>50.405415</td>\n",
       "    </tr>\n",
       "  </tbody>\n",
       "</table>\n",
       "</div>"
      ],
      "text/plain": [
       "          query_gene query_symbol     match_gene match_symbol  sim_score\n",
       "20     NCBIGene:2072        ERCC4  NCBIGene:2073        ERCC5  77.349963\n",
       "451    NCBIGene:2176        FANCC  NCBIGene:2073        ERCC5  51.424090\n",
       "654   NCBIGene:83990        BRIP1  NCBIGene:2073        ERCC5  45.360208\n",
       "1035   NCBIGene:2189        FANCG  NCBIGene:2073        ERCC5  56.306953\n",
       "1451   NCBIGene:2178        FANCE  NCBIGene:2073        ERCC5  51.424090\n",
       "1638  NCBIGene:84464         SLX4  NCBIGene:2073        ERCC5  55.943945\n",
       "1842  NCBIGene:29089        UBE2T  NCBIGene:2073        ERCC5  50.405415"
      ]
     },
     "execution_count": 137,
     "metadata": {},
     "output_type": "execute_result"
    }
   ],
   "source": [
    "# which genes matched to ERCC5?\n",
    "df.query(\"match_symbol == 'ERCC5'\")"
   ]
  },
  {
   "cell_type": "code",
   "execution_count": 143,
   "metadata": {
    "collapsed": false,
    "deletable": true,
    "editable": true,
    "scrolled": true
   },
   "outputs": [
    {
     "data": {
      "text/plain": [
       "FANCD2                                                    7\n",
       "WIPF1                                                     7\n",
       "BUB3                                                      7\n",
       "PTPN11                                                    7\n",
       "PEX14                                                     7\n",
       "PEX26                                                     7\n",
       "MAD2L2                                                    7\n",
       "ELN                                                       7\n",
       "RPL35A                                                    7\n",
       "RPL11                                                     7\n",
       "LIMK1                                                     7\n",
       "XPC                                                       7\n",
       "RAD51                                                     7\n",
       "MKS1                                                      7\n",
       "BUB1B                                                     7\n",
       "BLM                                                       7\n",
       "MPL                                                       7\n",
       "PEX12                                                     7\n",
       "FERMT1                                                    7\n",
       "CEP57                                                     7\n",
       "PEX19                                                     7\n",
       "C11orf65                                                  7\n",
       "NSDHL                                                     7\n",
       "ERCC5                                                     7\n",
       "FANCA                                                     7\n",
       "TMEM67                                                    7\n",
       "PEX13                                                     7\n",
       "APOE                                                      7\n",
       "PALB2                                                     7\n",
       "PEX10                                                     7\n",
       "TSR2                                                      7\n",
       "PEX11B                                                    7\n",
       "DDB2                                                      7\n",
       "CEP290                                                    7\n",
       "BRCA2                                                     7\n",
       "FLI1                                                      7\n",
       "RAF1                                                      7\n",
       "DHCR7                                                     7\n",
       "RAD51C                                                    7\n",
       "BAZ1B                                                     7\n",
       "ERCC3                                                     7\n",
       "PEX1                                                      7\n",
       "CHD7                                                      7\n",
       "GATA1                                                     7\n",
       "RFC2                                                      7\n",
       "NDN                                                       7\n",
       "PEX5                                                      7\n",
       "GDF6                                                      7\n",
       "XRCC2                                                     7\n",
       "BRAF                                                      7\n",
       "SNRPN                                                     7\n",
       "PEX6                                                      7\n",
       "ATM                                                       7\n",
       "RPS26                                                     7\n",
       "K05747 Wiskott-Aldrich syndrome protein | (RefSeq) WAS    7\n",
       "GTF2IRD1                                                  7\n",
       "PEX3                                                      7\n",
       "RPS28                                                     7\n",
       "ERCC2                                                     7\n",
       "SH2B3                                                     7\n",
       "FANCM                                                     7\n",
       "RECQL4                                                    7\n",
       "PEX16                                                     7\n",
       "BUB1                                                      7\n",
       "GTF2I                                                     7\n",
       "RPS19                                                     7\n",
       "PEX2                                                      7\n",
       "FANCB                                                     7\n",
       "RPL26                                                     7\n",
       "CLIP2                                                     7\n",
       "FANCL                                                     7\n",
       "FANCI                                                     7\n",
       "MYC                                                       7\n",
       "XPA                                                       7\n",
       "RPL5                                                      7\n",
       "RPL15                                                     7\n",
       "JAK2                                                      7\n",
       "NRAS                                                      7\n",
       "FANCF                                                     7\n",
       "CALR                                                      6\n",
       "RPS10                                                     6\n",
       "FOXF1                                                     6\n",
       "ERCC4                                                     6\n",
       "HIRA                                                      6\n",
       "RPS17                                                     6\n",
       "CC2D2A                                                    6\n",
       "UFD1                                                      6\n",
       "RPS7                                                      6\n",
       "SEMA3E                                                    6\n",
       "GP1BB                                                     6\n",
       "WT1                                                       6\n",
       "ARVCF                                                     6\n",
       "FANCC                                                     6\n",
       "BCR                                                       6\n",
       "SEC24C                                                    6\n",
       "JMJD1C                                                    6\n",
       "MECOM                                                     6\n",
       "UBE2T                                                     6\n",
       "RREB1                                                     6\n",
       "RPS24                                                     6\n",
       "Name: match_symbol, dtype: int64"
      ]
     },
     "execution_count": 143,
     "metadata": {},
     "output_type": "execute_result"
    }
   ],
   "source": [
    "# Across the list of gene pairs, which genes show up the most?\n",
    "df['match_symbol'].value_counts()[:100]"
   ]
  },
  {
   "cell_type": "code",
   "execution_count": 149,
   "metadata": {
    "collapsed": false,
    "deletable": true,
    "editable": true
   },
   "outputs": [
    {
     "data": {
      "text/plain": [
       "match_symbol\n",
       "ERCC5    77.349963\n",
       "ERCC3    77.015192\n",
       "ERCC2    75.396065\n",
       "DDB2     74.143082\n",
       "XPC      73.742835\n",
       "XPA      73.613378\n",
       "Name: sim_score, dtype: float64"
      ]
     },
     "execution_count": 149,
     "metadata": {},
     "output_type": "execute_result"
    }
   ],
   "source": [
    "## Run same summation, but removing all scores lower than 70 beforehand\n",
    "sim_score = df.query(\"sim_score>70\").groupby(\"match_symbol\").agg({\"sim_score\": sum}).sim_score\n",
    "sim_score = sim_score.sort_values(ascending=False)\n",
    "sim_score = sim_score[~sim_score.index.isin(symbol_id)]\n",
    "sim_score[:20]"
   ]
  },
  {
   "cell_type": "markdown",
   "metadata": {
    "deletable": true,
    "editable": true
   },
   "source": [
    "###### Next steps\n",
    "1. Run on model organisms\n",
    "2. Improvements to owlsim service layer: https://github.com/monarch-initiative/owlsim-v3/issues/87\n",
    "3. Add pagination to owlsim services\n",
    "\n",
    "It is possible we are missing gene pairs from pulling sim scores across all types (diseases, model genes)\n"
   ]
  }
 ],
 "metadata": {
  "kernelspec": {
   "display_name": "Python 3",
   "language": "python",
   "name": "python3"
  },
  "language_info": {
   "codemirror_mode": {
    "name": "ipython",
    "version": 3
   },
   "file_extension": ".py",
   "mimetype": "text/x-python",
   "name": "python",
   "nbconvert_exporter": "python",
   "pygments_lexer": "ipython3",
   "version": "3.5.2"
  }
 },
 "nbformat": 4,
 "nbformat_minor": 2
}
