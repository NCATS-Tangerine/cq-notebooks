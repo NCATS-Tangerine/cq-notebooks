{
 "cells": [
  {
   "cell_type": "markdown",
   "metadata": {
    "deletable": true,
    "editable": true
   },
   "source": [
    "## Orange Team CQ#1.7\n",
    "\n",
    "### Query: \n",
    "What genes show high phenotypic similarity to the 11 Fanconi Anemia core complex genes (set FA-core)?\n",
    "\n",
    "### Services:\n",
    "BioLink API (Monarch) - https://api.monarchinitiative.org/api/\n",
    "\n",
    "Owlsim - http://owlsim3.monarchinitiative.org/api/docs/\n",
    "\n",
    "### Approach:\n",
    "Get closest human genes using phenotypic similarity approach, using owlsim3\n",
    "\n",
    "### Authors\n",
    "Kent Shefchek and Greg Stupp"
   ]
  },
  {
   "cell_type": "code",
   "execution_count": 151,
   "metadata": {
    "collapsed": true
   },
   "outputs": [],
   "source": [
    "# autogenerate biolink_client\n",
    "# curl --insecure -X POST -H \"content-type:application/json\" -d '{\"swaggerUrl\":\"https://api.monarchinitiative.org/api/swagger.json\"}' https://generator.swagger.io/api/gen/clients/python\n",
    "# and rename it to biolink_client"
   ]
  },
  {
   "cell_type": "code",
   "execution_count": 152,
   "metadata": {
    "collapsed": true
   },
   "outputs": [],
   "source": [
    "import os, sys\n",
    "# change this path\n",
    "sys.path.insert(0, \"/home/gstupp/projects/NCATS-Tangerine/biolink_client\")"
   ]
  },
  {
   "cell_type": "code",
   "execution_count": 153,
   "metadata": {
    "collapsed": false,
    "deletable": true,
    "editable": true
   },
   "outputs": [],
   "source": [
    "import biolink_client\n",
    "from biolink_client.api_client import ApiClient\n",
    "from biolink_client.rest import ApiException\n",
    "import requests\n",
    "from itertools import chain\n",
    "import pandas as pd\n",
    "from pprint import pprint\n",
    "from tqdm import tqdm, tqdm_notebook\n",
    "from collections import defaultdict\n",
    "\n",
    "pd.options.display.max_rows = 999\n",
    "pd.options.display.max_columns = 12\n",
    "pd.set_option('display.width', 1000)\n",
    "\n",
    "MONARCH_API = \"https://api.monarchinitiative.org/api\"\n",
    "OWLSIM_API = \"http://owlsim3.monarchinitiative.org/api\"\n",
    "\n",
    "gene_list = \"https://raw.githubusercontent.com/NCATS-Tangerine/cq-notebooks/master/FA_gene_sets/FA_4_all_genes.txt\"\n",
    "\n",
    "client = ApiClient(host=MONARCH_API)\n",
    "client.set_default_header('Content-Type', 'text/plain')\n",
    "api_instance = biolink_client.BioentityApi(client)\n",
    "\n",
    "# Get the gene list from github\n",
    "dataframe = pd.read_csv(gene_list, sep='\\t', names=['gene_id', 'symbol'])\n",
    "df = dataframe.set_index('symbol')\n",
    "human_genes = set(df.gene_id)\n",
    "symbol_id = dict(zip(df.index, df.gene_id))\n",
    "id_symbol = {v:k for k,v in symbol_id.items()}"
   ]
  },
  {
   "cell_type": "code",
   "execution_count": 154,
   "metadata": {
    "collapsed": false,
    "scrolled": true
   },
   "outputs": [
    {
     "name": "stderr",
     "output_type": "stream",
     "text": [
      "The installed widget Javascript is the wrong version.\n"
     ]
    },
    {
     "name": "stdout",
     "output_type": "stream",
     "text": [
      "\n",
      "\n"
     ]
    }
   ],
   "source": [
    "gene_hpo_map = dict()\n",
    "for gene_id in tqdm_notebook(set(df.gene_id)):\n",
    "    api_response = api_instance.get_gene_phenotype_associations(gene_id, rows=500)\n",
    "    # TODO add facet_counts to AssociationResults model\n",
    "    # TODO use facet_counts to check the gene does not have >500 phenotypes\n",
    "    # TODO or better, add pagination\n",
    "    gene_hpo_map[gene_id] = api_response.objects"
   ]
  },
  {
   "cell_type": "code",
   "execution_count": 155,
   "metadata": {
    "collapsed": false
   },
   "outputs": [
    {
     "name": "stdout",
     "output_type": "stream",
     "text": [
      "['EFO:0003924', 'EFO:0003963', 'HP:0000010', 'HP:0000027', 'HP:0000028']\n"
     ]
    }
   ],
   "source": [
    "# Get the first five phenotypes for FANCA\n",
    "pprint(gene_hpo_map[df.at['FANCA', 'gene_id']][0:5])"
   ]
  },
  {
   "cell_type": "code",
   "execution_count": 159,
   "metadata": {
    "collapsed": false,
    "deletable": true,
    "editable": true
   },
   "outputs": [
    {
     "name": "stderr",
     "output_type": "stream",
     "text": [
      "The installed widget Javascript is the wrong version.\n"
     ]
    },
    {
     "name": "stdout",
     "output_type": "stream",
     "text": [
      "\n",
      "NCBIGene:5889 {'message': 'There was an error processing your request. It has been logged (ID def490adc1579464).'}\n",
      "NCBIGene:675 {'message': 'There was an error processing your request. It has been logged (ID 9346cce7faf3a2b2).'}\n",
      "\n"
     ]
    }
   ],
   "source": [
    "# Search for top human genes\n",
    "# TODO implement prefix or taxon+type filters in owlsim\n",
    "# TODO fix cutoff filter\n",
    "\n",
    "# Note that this notebook takes a few minutes to run\n",
    "\n",
    "# Use phenodigm algorithm\n",
    "matcher = 'phenodigm'\n",
    "results = []\n",
    "\n",
    "for ncbi_id, phenotypes in tqdm_notebook(gene_hpo_map.items()):\n",
    "    params = { 'id': phenotypes }\n",
    "    url = \"{}/match/{}\".format(OWLSIM_API, matcher)\n",
    "    req = requests.get(url, params=params)\n",
    "    owlsim_results = req.json()\n",
    "    if \"matches\" not in owlsim_results:\n",
    "        print(ncbi_id, owlsim_results)\n",
    "        continue\n",
    "    for match in owlsim_results['matches']:\n",
    "        results.append([ncbi_id, id_symbol[ncbi_id], match['matchId'], match['matchLabel'], match['rawScore']])"
   ]
  },
  {
   "cell_type": "code",
   "execution_count": 160,
   "metadata": {
    "collapsed": false
   },
   "outputs": [
    {
     "data": {
      "text/plain": [
       "['NCBIGene:2072', 'ERCC4', 'NCBIGene:2072', 'ERCC4', 99.49491789772425]"
      ]
     },
     "execution_count": 160,
     "metadata": {},
     "output_type": "execute_result"
    }
   ],
   "source": [
    "results[0]"
   ]
  },
  {
   "cell_type": "code",
   "execution_count": 161,
   "metadata": {
    "collapsed": false
   },
   "outputs": [],
   "source": [
    "# Create a table of query gene, matched gene, and sim score\n",
    "column_names = ['query_gene', 'query_symbol', 'match_gene', 'match_symbol', 'sim_score']\n",
    "df = pd.DataFrame(data=results, columns=column_names)\n",
    "df = df.replace('NaN', pd.np.NaN).dropna().reindex()"
   ]
  },
  {
   "cell_type": "code",
   "execution_count": 162,
   "metadata": {
    "collapsed": false
   },
   "outputs": [
    {
     "name": "stdout",
     "output_type": "stream",
     "text": [
      "       query_gene query_symbol       match_gene                                     match_symbol  sim_score\n",
      "0   NCBIGene:2072        ERCC4    NCBIGene:2072                                            ERCC4  99.494918\n",
      "1   NCBIGene:2072        ERCC4   NCBIGene:10459                                           MAD2L2  80.791164\n",
      "2   NCBIGene:2072        ERCC4   NCBIGene:57697                                            FANCM  80.791164\n",
      "3   NCBIGene:2072        ERCC4    NCBIGene:2188                                            FANCF  80.791164\n",
      "4   NCBIGene:2072        ERCC4    NCBIGene:2189                                            FANCG  80.791164\n",
      "5   NCBIGene:2072        ERCC4    NCBIGene:7516                                            XRCC2  80.791164\n",
      "6   NCBIGene:2072        ERCC4       DOID:13636                                   Fanconi anemia  80.791164\n",
      "7   NCBIGene:2072        ERCC4    NCBIGene:5888                                            RAD51  80.692858\n",
      "8   NCBIGene:2072        ERCC4   NCBIGene:29089                                            UBE2T  80.692858\n",
      "9   NCBIGene:2072        ERCC4   NCBIGene:55215                                            FANCI  80.497801\n",
      "10  NCBIGene:2072        ERCC4   NCBIGene:55120                                            FANCL  80.458300\n",
      "11  NCBIGene:2072        ERCC4    NCBIGene:5889                                           RAD51C  80.443244\n",
      "12  NCBIGene:2072        ERCC4   NCBIGene:84464                                             SLX4  80.347636\n",
      "13  NCBIGene:2072        ERCC4    NCBIGene:2187                                            FANCB  80.263305\n",
      "14  NCBIGene:2072        ERCC4   NCBIGene:83990                                            BRIP1  79.956896\n",
      "15  NCBIGene:2072        ERCC4    NCBIGene:2177                                           FANCD2  79.509058\n",
      "16  NCBIGene:2072        ERCC4   NCBIGene:79728                                            PALB2  79.493633\n",
      "17  NCBIGene:2072        ERCC4    NCBIGene:2175                                            FANCA  79.327896\n",
      "18  NCBIGene:2072        ERCC4    NCBIGene:2176                                            FANCC  79.059568\n",
      "19  NCBIGene:2072        ERCC4    NCBIGene:2178                                            FANCE  79.059568\n",
      "20  NCBIGene:2072        ERCC4    NCBIGene:2073                                            ERCC5  77.349963\n",
      "21  NCBIGene:2072        ERCC4    NCBIGene:2071                                            ERCC3  77.015192\n",
      "22  NCBIGene:2072        ERCC4    NCBIGene:2068                                            ERCC2  75.396065\n",
      "23  NCBIGene:2072        ERCC4    NCBIGene:1643                                             DDB2  74.143082\n",
      "24  NCBIGene:2072        ERCC4    NCBIGene:7508                                              XPC  73.742835\n",
      "25  NCBIGene:2072        ERCC4    NCBIGene:7507                                              XPA  73.613378\n",
      "26  NCBIGene:2072        ERCC4     DOID:0050427                            xeroderma pigmentosum  73.554212\n",
      "27  NCBIGene:2072        ERCC4     NCBIGene:675                                            BRCA2  72.112250\n",
      "28  NCBIGene:2072        ERCC4  Orphanet:220295  Xeroderma pigmentosum-Cockayne syndrome complex  57.822249\n",
      "29  NCBIGene:2072        ERCC4      OMIM:278760                   Xeroderma pigmentosum, group F  56.670374\n",
      "30  NCBIGene:2072        ERCC4    NCBIGene:1029                                           CDKN2A  56.432422\n",
      "31  NCBIGene:2072        ERCC4    NCBIGene:2074                                            ERCC6  56.172971\n",
      "32  NCBIGene:2072        ERCC4        DOID:2962                                Cockayne syndrome  56.074182\n",
      "33  NCBIGene:2072        ERCC4    NCBIGene:5727                                            PTCH1  55.557519\n",
      "34  NCBIGene:2072        ERCC4        DOID:2174                                    ocular cancer  54.982595\n",
      "35  NCBIGene:2072        ERCC4    NCBIGene:3265                                             HRAS  53.901917\n",
      "36  NCBIGene:2072        ERCC4    NCBIGene:2623                                            GATA1  53.811559\n",
      "37  NCBIGene:2072        ERCC4    NCBIGene:5290                                           PIK3CA  53.641452\n",
      "38  NCBIGene:2072        ERCC4    NCBIGene:9401                                           RECQL4  53.577946\n",
      "39  NCBIGene:2072        ERCC4    NCBIGene:5728                                             PTEN  53.473604\n"
     ]
    }
   ],
   "source": [
    "# Get sim scores for ERCC4\n",
    "df_ercc4 = df.query(\"query_symbol == 'ERCC4'\")\n",
    "print(df_ercc4.head(40))"
   ]
  },
  {
   "cell_type": "code",
   "execution_count": 163,
   "metadata": {
    "collapsed": true
   },
   "outputs": [],
   "source": [
    "# Filter out Non-Genes\n",
    "df = df[df.match_gene.str.startswith(\"NCBIGene\")]"
   ]
  },
  {
   "cell_type": "code",
   "execution_count": 164,
   "metadata": {
    "collapsed": false
   },
   "outputs": [
    {
     "name": "stdout",
     "output_type": "stream",
     "text": [
      "       query_gene query_symbol      match_gene match_symbol  sim_score\n",
      "0   NCBIGene:2072        ERCC4   NCBIGene:2072        ERCC4  99.494918\n",
      "1   NCBIGene:2072        ERCC4  NCBIGene:10459       MAD2L2  80.791164\n",
      "2   NCBIGene:2072        ERCC4  NCBIGene:57697        FANCM  80.791164\n",
      "3   NCBIGene:2072        ERCC4   NCBIGene:2188        FANCF  80.791164\n",
      "4   NCBIGene:2072        ERCC4   NCBIGene:2189        FANCG  80.791164\n",
      "5   NCBIGene:2072        ERCC4   NCBIGene:7516        XRCC2  80.791164\n",
      "7   NCBIGene:2072        ERCC4   NCBIGene:5888        RAD51  80.692858\n",
      "8   NCBIGene:2072        ERCC4  NCBIGene:29089        UBE2T  80.692858\n",
      "9   NCBIGene:2072        ERCC4  NCBIGene:55215        FANCI  80.497801\n",
      "10  NCBIGene:2072        ERCC4  NCBIGene:55120        FANCL  80.458300\n",
      "11  NCBIGene:2072        ERCC4   NCBIGene:5889       RAD51C  80.443244\n",
      "12  NCBIGene:2072        ERCC4  NCBIGene:84464         SLX4  80.347636\n",
      "13  NCBIGene:2072        ERCC4   NCBIGene:2187        FANCB  80.263305\n",
      "14  NCBIGene:2072        ERCC4  NCBIGene:83990        BRIP1  79.956896\n",
      "15  NCBIGene:2072        ERCC4   NCBIGene:2177       FANCD2  79.509058\n",
      "16  NCBIGene:2072        ERCC4  NCBIGene:79728        PALB2  79.493633\n",
      "17  NCBIGene:2072        ERCC4   NCBIGene:2175        FANCA  79.327896\n",
      "18  NCBIGene:2072        ERCC4   NCBIGene:2176        FANCC  79.059568\n",
      "19  NCBIGene:2072        ERCC4   NCBIGene:2178        FANCE  79.059568\n",
      "20  NCBIGene:2072        ERCC4   NCBIGene:2073        ERCC5  77.349963\n",
      "21  NCBIGene:2072        ERCC4   NCBIGene:2071        ERCC3  77.015192\n",
      "22  NCBIGene:2072        ERCC4   NCBIGene:2068        ERCC2  75.396065\n",
      "23  NCBIGene:2072        ERCC4   NCBIGene:1643         DDB2  74.143082\n",
      "24  NCBIGene:2072        ERCC4   NCBIGene:7508          XPC  73.742835\n",
      "25  NCBIGene:2072        ERCC4   NCBIGene:7507          XPA  73.613378\n",
      "27  NCBIGene:2072        ERCC4    NCBIGene:675        BRCA2  72.112250\n",
      "30  NCBIGene:2072        ERCC4   NCBIGene:1029       CDKN2A  56.432422\n",
      "31  NCBIGene:2072        ERCC4   NCBIGene:2074        ERCC6  56.172971\n",
      "33  NCBIGene:2072        ERCC4   NCBIGene:5727        PTCH1  55.557519\n",
      "35  NCBIGene:2072        ERCC4   NCBIGene:3265         HRAS  53.901917\n",
      "36  NCBIGene:2072        ERCC4   NCBIGene:2623        GATA1  53.811559\n",
      "37  NCBIGene:2072        ERCC4   NCBIGene:5290       PIK3CA  53.641452\n",
      "38  NCBIGene:2072        ERCC4   NCBIGene:9401       RECQL4  53.577946\n",
      "39  NCBIGene:2072        ERCC4   NCBIGene:5728         PTEN  53.473604\n",
      "40  NCBIGene:2072        ERCC4   NCBIGene:4693          NDP  53.442030\n",
      "41  NCBIGene:2072        ERCC4    NCBIGene:207         AKT1  53.227241\n",
      "43  NCBIGene:2072        ERCC4  NCBIGene:64840        PORCN  52.792970\n",
      "48  NCBIGene:2072        ERCC4  NCBIGene:23554      TSPAN12  52.217783\n",
      "49  NCBIGene:2072        ERCC4    NCBIGene:673         BRAF  51.943766\n",
      "50  NCBIGene:2072        ERCC4    NCBIGene:472          ATM  51.927571\n"
     ]
    }
   ],
   "source": [
    "# Get sim scores for ERCC4\n",
    "df_ercc4 = df.query(\"query_symbol == 'ERCC4'\")\n",
    "print(df_ercc4.head(40))"
   ]
  },
  {
   "cell_type": "code",
   "execution_count": 165,
   "metadata": {
    "collapsed": false
   },
   "outputs": [],
   "source": [
    "# remove self matches\n",
    "df = df[df.query_gene != df.match_gene]"
   ]
  },
  {
   "cell_type": "code",
   "execution_count": 167,
   "metadata": {
    "collapsed": false
   },
   "outputs": [
    {
     "data": {
      "text/plain": [
       "match_symbol\n",
       "RAD51C    1694.115818\n",
       "FANCD2    1627.693050\n",
       "FANCA     1624.479407\n",
       "FANCC     1620.373007\n",
       "FANCE     1620.373007\n",
       "BRIP1     1616.937313\n",
       "FANCI     1616.563142\n",
       "PALB2     1605.086634\n",
       "FANCB     1605.079036\n",
       "SLX4      1596.326291\n",
       "FANCL     1590.386976\n",
       "XRCC2     1582.069088\n",
       "UBE2T     1571.582898\n",
       "MAD2L2    1567.853780\n",
       "FANCG     1567.597860\n",
       "FANCF     1567.597860\n",
       "FANCM     1567.597860\n",
       "RAD51     1565.194425\n",
       "BRCA2     1485.466534\n",
       "ERCC4     1404.844667\n",
       "Name: sim_score, dtype: float64"
      ]
     },
     "execution_count": 167,
     "metadata": {},
     "output_type": "execute_result"
    }
   ],
   "source": [
    "# sum scores for each matched gene\n",
    "sim_score = df.groupby(\"match_symbol\").agg({\"sim_score\": sum}).sim_score\n",
    "sim_score = sim_score.sort_values(ascending=False)\n",
    "sim_score[:20]"
   ]
  },
  {
   "cell_type": "code",
   "execution_count": 168,
   "metadata": {
    "collapsed": false
   },
   "outputs": [
    {
     "data": {
      "text/plain": [
       "match_symbol\n",
       "RAD51C    1694.115818\n",
       "FANCD2    1627.693050\n",
       "FANCA     1624.479407\n",
       "FANCC     1620.373007\n",
       "FANCE     1620.373007\n",
       "BRIP1     1616.937313\n",
       "FANCI     1616.563142\n",
       "PALB2     1605.086634\n",
       "FANCB     1605.079036\n",
       "SLX4      1596.326291\n",
       "FANCL     1590.386976\n",
       "XRCC2     1582.069088\n",
       "UBE2T     1571.582898\n",
       "MAD2L2    1567.853780\n",
       "FANCG     1567.597860\n",
       "FANCF     1567.597860\n",
       "FANCM     1567.597860\n",
       "RAD51     1565.194425\n",
       "BRCA2     1485.466534\n",
       "ERCC4     1404.844667\n",
       "BRCA1      636.373464\n",
       "Name: sim_score, dtype: float64"
      ]
     },
     "execution_count": 168,
     "metadata": {},
     "output_type": "execute_result"
    }
   ],
   "source": [
    "## Sanity check. Only show the FA genes\n",
    "sim_score[sim_score.index.isin(symbol_id)]"
   ]
  },
  {
   "cell_type": "code",
   "execution_count": 169,
   "metadata": {
    "collapsed": false,
    "deletable": true,
    "editable": true
   },
   "outputs": [
    {
     "data": {
      "text/plain": [
       "match_symbol\n",
       "ERCC3     993.385510\n",
       "XPC       977.266561\n",
       "RPS19     971.663947\n",
       "GATA1     969.407885\n",
       "FLI1      964.228144\n",
       "NRAS      960.537220\n",
       "ERCC5     960.248320\n",
       "ERCC2     942.011987\n",
       "ATM       941.945292\n",
       "RPL35A    938.912265\n",
       "MYC       938.727405\n",
       "BLM       938.108438\n",
       "DDB2      937.711570\n",
       "RPS26     937.213249\n",
       "RPL5      936.197777\n",
       "XPA       935.980590\n",
       "CEP57     934.706647\n",
       "RPL11     933.713539\n",
       "RPL26     931.878519\n",
       "RPS28     925.210044\n",
       "Name: sim_score, dtype: float64"
      ]
     },
     "execution_count": 169,
     "metadata": {},
     "output_type": "execute_result"
    }
   ],
   "source": [
    "# Filter out all genes from the input set (FA)\n",
    "sim_score_nofa = sim_score[~sim_score.index.isin(symbol_id)]\n",
    "sim_score_nofa[:20]"
   ]
  },
  {
   "cell_type": "code",
   "execution_count": 172,
   "metadata": {
    "collapsed": false
   },
   "outputs": [
    {
     "data": {
      "text/html": [
       "<div>\n",
       "<table border=\"1\" class=\"dataframe\">\n",
       "  <thead>\n",
       "    <tr style=\"text-align: right;\">\n",
       "      <th></th>\n",
       "      <th>query_gene</th>\n",
       "      <th>query_symbol</th>\n",
       "      <th>match_gene</th>\n",
       "      <th>match_symbol</th>\n",
       "      <th>sim_score</th>\n",
       "    </tr>\n",
       "  </thead>\n",
       "  <tbody>\n",
       "    <tr>\n",
       "      <th>20</th>\n",
       "      <td>NCBIGene:2072</td>\n",
       "      <td>ERCC4</td>\n",
       "      <td>NCBIGene:2073</td>\n",
       "      <td>ERCC5</td>\n",
       "      <td>77.349963</td>\n",
       "    </tr>\n",
       "    <tr>\n",
       "      <th>451</th>\n",
       "      <td>NCBIGene:2176</td>\n",
       "      <td>FANCC</td>\n",
       "      <td>NCBIGene:2073</td>\n",
       "      <td>ERCC5</td>\n",
       "      <td>51.424090</td>\n",
       "    </tr>\n",
       "    <tr>\n",
       "      <th>654</th>\n",
       "      <td>NCBIGene:83990</td>\n",
       "      <td>BRIP1</td>\n",
       "      <td>NCBIGene:2073</td>\n",
       "      <td>ERCC5</td>\n",
       "      <td>45.360208</td>\n",
       "    </tr>\n",
       "    <tr>\n",
       "      <th>1035</th>\n",
       "      <td>NCBIGene:2189</td>\n",
       "      <td>FANCG</td>\n",
       "      <td>NCBIGene:2073</td>\n",
       "      <td>ERCC5</td>\n",
       "      <td>56.306953</td>\n",
       "    </tr>\n",
       "    <tr>\n",
       "      <th>1451</th>\n",
       "      <td>NCBIGene:2178</td>\n",
       "      <td>FANCE</td>\n",
       "      <td>NCBIGene:2073</td>\n",
       "      <td>ERCC5</td>\n",
       "      <td>51.424090</td>\n",
       "    </tr>\n",
       "    <tr>\n",
       "      <th>1638</th>\n",
       "      <td>NCBIGene:84464</td>\n",
       "      <td>SLX4</td>\n",
       "      <td>NCBIGene:2073</td>\n",
       "      <td>ERCC5</td>\n",
       "      <td>55.943945</td>\n",
       "    </tr>\n",
       "    <tr>\n",
       "      <th>1842</th>\n",
       "      <td>NCBIGene:29089</td>\n",
       "      <td>UBE2T</td>\n",
       "      <td>NCBIGene:2073</td>\n",
       "      <td>ERCC5</td>\n",
       "      <td>50.405415</td>\n",
       "    </tr>\n",
       "    <tr>\n",
       "      <th>2041</th>\n",
       "      <td>NCBIGene:55215</td>\n",
       "      <td>FANCI</td>\n",
       "      <td>NCBIGene:2073</td>\n",
       "      <td>ERCC5</td>\n",
       "      <td>55.020788</td>\n",
       "    </tr>\n",
       "    <tr>\n",
       "      <th>2435</th>\n",
       "      <td>NCBIGene:57697</td>\n",
       "      <td>FANCM</td>\n",
       "      <td>NCBIGene:2073</td>\n",
       "      <td>ERCC5</td>\n",
       "      <td>56.306953</td>\n",
       "    </tr>\n",
       "    <tr>\n",
       "      <th>2648</th>\n",
       "      <td>NCBIGene:2177</td>\n",
       "      <td>FANCD2</td>\n",
       "      <td>NCBIGene:2073</td>\n",
       "      <td>ERCC5</td>\n",
       "      <td>51.626397</td>\n",
       "    </tr>\n",
       "    <tr>\n",
       "      <th>2835</th>\n",
       "      <td>NCBIGene:2188</td>\n",
       "      <td>FANCF</td>\n",
       "      <td>NCBIGene:2073</td>\n",
       "      <td>ERCC5</td>\n",
       "      <td>56.306953</td>\n",
       "    </tr>\n",
       "    <tr>\n",
       "      <th>3061</th>\n",
       "      <td>NCBIGene:79728</td>\n",
       "      <td>PALB2</td>\n",
       "      <td>NCBIGene:2073</td>\n",
       "      <td>ERCC5</td>\n",
       "      <td>45.490306</td>\n",
       "    </tr>\n",
       "    <tr>\n",
       "      <th>3233</th>\n",
       "      <td>NCBIGene:55120</td>\n",
       "      <td>FANCL</td>\n",
       "      <td>NCBIGene:2073</td>\n",
       "      <td>ERCC5</td>\n",
       "      <td>56.495331</td>\n",
       "    </tr>\n",
       "    <tr>\n",
       "      <th>3635</th>\n",
       "      <td>NCBIGene:10459</td>\n",
       "      <td>MAD2L2</td>\n",
       "      <td>NCBIGene:2073</td>\n",
       "      <td>ERCC5</td>\n",
       "      <td>56.254400</td>\n",
       "    </tr>\n",
       "    <tr>\n",
       "      <th>3835</th>\n",
       "      <td>NCBIGene:5888</td>\n",
       "      <td>RAD51</td>\n",
       "      <td>NCBIGene:2073</td>\n",
       "      <td>ERCC5</td>\n",
       "      <td>56.249656</td>\n",
       "    </tr>\n",
       "    <tr>\n",
       "      <th>4083</th>\n",
       "      <td>NCBIGene:2187</td>\n",
       "      <td>FANCB</td>\n",
       "      <td>NCBIGene:2073</td>\n",
       "      <td>ERCC5</td>\n",
       "      <td>44.577950</td>\n",
       "    </tr>\n",
       "    <tr>\n",
       "      <th>4240</th>\n",
       "      <td>NCBIGene:7516</td>\n",
       "      <td>XRCC2</td>\n",
       "      <td>NCBIGene:2073</td>\n",
       "      <td>ERCC5</td>\n",
       "      <td>43.250429</td>\n",
       "    </tr>\n",
       "    <tr>\n",
       "      <th>4655</th>\n",
       "      <td>NCBIGene:2175</td>\n",
       "      <td>FANCA</td>\n",
       "      <td>NCBIGene:2073</td>\n",
       "      <td>ERCC5</td>\n",
       "      <td>50.454495</td>\n",
       "    </tr>\n",
       "  </tbody>\n",
       "</table>\n",
       "</div>"
      ],
      "text/plain": [
       "          query_gene query_symbol     match_gene match_symbol  sim_score\n",
       "20     NCBIGene:2072        ERCC4  NCBIGene:2073        ERCC5  77.349963\n",
       "451    NCBIGene:2176        FANCC  NCBIGene:2073        ERCC5  51.424090\n",
       "654   NCBIGene:83990        BRIP1  NCBIGene:2073        ERCC5  45.360208\n",
       "1035   NCBIGene:2189        FANCG  NCBIGene:2073        ERCC5  56.306953\n",
       "1451   NCBIGene:2178        FANCE  NCBIGene:2073        ERCC5  51.424090\n",
       "1638  NCBIGene:84464         SLX4  NCBIGene:2073        ERCC5  55.943945\n",
       "1842  NCBIGene:29089        UBE2T  NCBIGene:2073        ERCC5  50.405415\n",
       "2041  NCBIGene:55215        FANCI  NCBIGene:2073        ERCC5  55.020788\n",
       "2435  NCBIGene:57697        FANCM  NCBIGene:2073        ERCC5  56.306953\n",
       "2648   NCBIGene:2177       FANCD2  NCBIGene:2073        ERCC5  51.626397\n",
       "2835   NCBIGene:2188        FANCF  NCBIGene:2073        ERCC5  56.306953\n",
       "3061  NCBIGene:79728        PALB2  NCBIGene:2073        ERCC5  45.490306\n",
       "3233  NCBIGene:55120        FANCL  NCBIGene:2073        ERCC5  56.495331\n",
       "3635  NCBIGene:10459       MAD2L2  NCBIGene:2073        ERCC5  56.254400\n",
       "3835   NCBIGene:5888        RAD51  NCBIGene:2073        ERCC5  56.249656\n",
       "4083   NCBIGene:2187        FANCB  NCBIGene:2073        ERCC5  44.577950\n",
       "4240   NCBIGene:7516        XRCC2  NCBIGene:2073        ERCC5  43.250429\n",
       "4655   NCBIGene:2175        FANCA  NCBIGene:2073        ERCC5  50.454495"
      ]
     },
     "execution_count": 172,
     "metadata": {},
     "output_type": "execute_result"
    }
   ],
   "source": [
    "# which genes matched to ERCC5?\n",
    "df.query(\"match_symbol == 'ERCC5'\")"
   ]
  },
  {
   "cell_type": "code",
   "execution_count": 173,
   "metadata": {
    "collapsed": false,
    "deletable": true,
    "editable": true,
    "scrolled": true
   },
   "outputs": [
    {
     "data": {
      "text/plain": [
       "XPC         19\n",
       "NRAS        19\n",
       "BRCA2       19\n",
       "RAD51C      19\n",
       "MYC         19\n",
       "ERCC3       19\n",
       "NDN         18\n",
       "NSDHL       18\n",
       "BUB1B       18\n",
       "RAF1        18\n",
       "MPL         18\n",
       "GATA1       18\n",
       "BAZ1B       18\n",
       "PEX3        18\n",
       "GDF6        18\n",
       "RPS26       18\n",
       "MKS1        18\n",
       "RPL15       18\n",
       "FANCE       18\n",
       "BRIP1       18\n",
       "SLX4        18\n",
       "CLIP2       18\n",
       "PEX14       18\n",
       "PEX26       18\n",
       "CHD7        18\n",
       "FANCB       18\n",
       "FERMT1      18\n",
       "DHCR7       18\n",
       "CEP290      18\n",
       "DDB2        18\n",
       "FANCA       18\n",
       "PEX11B      18\n",
       "TSR2        18\n",
       "ATM         18\n",
       "PALB2       18\n",
       "TMEM67      18\n",
       "RPL5        18\n",
       "PTPN11      18\n",
       "XPA         18\n",
       "RPL35A      18\n",
       "RPL11       18\n",
       "FANCL       18\n",
       "CEP57       18\n",
       "FANCD2      18\n",
       "PEX19       18\n",
       "PEX2        18\n",
       "ERCC2       18\n",
       "JAK2        18\n",
       "ELN         18\n",
       "BUB1        18\n",
       "FLI1        18\n",
       "RPS19       18\n",
       "SNRPN       18\n",
       "LIMK1       18\n",
       "BRAF        18\n",
       "PEX6        18\n",
       "RPS28       18\n",
       "PEX16       18\n",
       "GTF2IRD1    18\n",
       "RPL26       18\n",
       "SH2B3       18\n",
       "APOE        18\n",
       "C11orf65    18\n",
       "FANCC       18\n",
       "RECQL4      18\n",
       "PEX5        18\n",
       "FANCI       18\n",
       "GTF2I       18\n",
       "ERCC5       18\n",
       "RFC2        18\n",
       "BUB3        18\n",
       "BLM         18\n",
       "FANCM       17\n",
       "WT1         17\n",
       "TMEM216     17\n",
       "FOXF1       17\n",
       "MAD2L2      17\n",
       "ANK1        17\n",
       "RPS24       17\n",
       "TBX1        17\n",
       "RPS29       17\n",
       "JMJD1C      17\n",
       "PEX13       17\n",
       "RPS7        17\n",
       "RAD51       17\n",
       "PEX1        17\n",
       "UBE2T       17\n",
       "HIRA        17\n",
       "SEC24C      17\n",
       "FANCF       17\n",
       "UFD1        17\n",
       "RPS17       17\n",
       "PEX10       17\n",
       "FANCG       17\n",
       "XRCC2       17\n",
       "CALR        17\n",
       "PEX12       17\n",
       "ERCC4       17\n",
       "RPS10       17\n",
       "ARVCF       17\n",
       "Name: match_symbol, dtype: int64"
      ]
     },
     "execution_count": 173,
     "metadata": {},
     "output_type": "execute_result"
    }
   ],
   "source": [
    "# Across the list of gene pairs, which genes show up the most?\n",
    "df['match_symbol'].value_counts()[:100]"
   ]
  },
  {
   "cell_type": "code",
   "execution_count": 174,
   "metadata": {
    "collapsed": false,
    "deletable": true,
    "editable": true
   },
   "outputs": [
    {
     "data": {
      "text/plain": [
       "match_symbol\n",
       "ERCC5     77.349963\n",
       "ERCC3     77.015192\n",
       "ERCC2     75.396065\n",
       "DDB2      74.143082\n",
       "XPC       73.742835\n",
       "RNASEL    73.653639\n",
       "XPA       73.613378\n",
       "HOXB13    73.368494\n",
       "MSMB      73.368494\n",
       "EPHB2     73.187186\n",
       "ELAC2     72.571169\n",
       "MSR1      70.818853\n",
       "Name: sim_score, dtype: float64"
      ]
     },
     "execution_count": 174,
     "metadata": {},
     "output_type": "execute_result"
    }
   ],
   "source": [
    "## Run same summation, but removing all scores lower than 70 beforehand\n",
    "sim_score = df.query(\"sim_score>70\").groupby(\"match_symbol\").agg({\"sim_score\": sum}).sim_score\n",
    "sim_score = sim_score.sort_values(ascending=False)\n",
    "sim_score = sim_score[~sim_score.index.isin(symbol_id)]\n",
    "sim_score[:20]"
   ]
  },
  {
   "cell_type": "markdown",
   "metadata": {
    "deletable": true,
    "editable": true
   },
   "source": [
    "###### Next steps\n",
    "1. Run on model organisms\n",
    "2. Improvements to owlsim service layer: https://github.com/monarch-initiative/owlsim-v3/issues/87\n",
    "3. Add pagination to owlsim services\n",
    "\n",
    "It is possible we are missing gene pairs from pulling sim scores across all types (diseases, model genes)\n"
   ]
  }
 ],
 "metadata": {
  "kernelspec": {
   "display_name": "Python 3",
   "language": "python",
   "name": "python3"
  },
  "language_info": {
   "codemirror_mode": {
    "name": "ipython",
    "version": 3
   },
   "file_extension": ".py",
   "mimetype": "text/x-python",
   "name": "python",
   "nbconvert_exporter": "python",
   "pygments_lexer": "ipython3",
   "version": "3.5.2"
  }
 },
 "nbformat": 4,
 "nbformat_minor": 2
}
