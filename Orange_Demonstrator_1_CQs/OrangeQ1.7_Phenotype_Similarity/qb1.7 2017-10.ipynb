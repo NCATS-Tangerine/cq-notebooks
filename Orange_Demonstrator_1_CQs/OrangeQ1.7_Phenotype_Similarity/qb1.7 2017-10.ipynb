{
 "cells": [
  {
   "cell_type": "markdown",
   "metadata": {
    "deletable": true,
    "editable": true
   },
   "source": [
    "## Orange Team CQ#1.7\n",
    "\n",
    "### Query: \n",
    "What genes show high phenotypic similarity to the 11 Fanconi Anemia core complex genes (set FA-core)?\n",
    "\n",
    "### Services:\n",
    "BioLink API (Monarch) - https://api.monarchinitiative.org/api/\n",
    "Simsearch - https://monarchinitiative.org/simsearch\n",
    "\n",
    "### Approach:\n",
    "\n",
    "### Author\n",
    "Gstupp"
   ]
  },
  {
   "cell_type": "markdown",
   "metadata": {},
   "source": [
    "Method:\n",
    "Take all 27 human FA genes. For each gene, retrieve the phenotypically similar genes from mouse, zebrafish, worm, and fly. The output is a list of genes and a score. Sum of the scores for each of the genes, across all 27 FA genes. Take the top X (10) phenotypically similar genes from each organism, and then get the human orthologs of those genes. "
   ]
  },
  {
   "cell_type": "code",
   "execution_count": 1,
   "metadata": {
    "collapsed": true,
    "deletable": true,
    "editable": true
   },
   "outputs": [],
   "source": [
    "# autogenerate biolink_client\n",
    "# curl --insecure -X POST -H \"content-type:application/json\" -d '{\"swaggerUrl\":\"https://api.monarchinitiative.org/api/swagger.json\"}' https://generator.swagger.io/api/gen/clients/python\n",
    "# and rename it to biolink_client"
   ]
  },
  {
   "cell_type": "code",
   "execution_count": 2,
   "metadata": {
    "collapsed": true,
    "deletable": true,
    "editable": true
   },
   "outputs": [],
   "source": [
    "import os, sys\n",
    "# change this path\n",
    "sys.path.insert(0, \"/home/gstupp/projects/NCATS-Tangerine/biolink_client\")"
   ]
  },
  {
   "cell_type": "code",
   "execution_count": 19,
   "metadata": {
    "collapsed": true,
    "deletable": true,
    "editable": true
   },
   "outputs": [],
   "source": [
    "import biolink_client\n",
    "from biolink_client.api_client import ApiClient\n",
    "from biolink_client.rest import ApiException\n",
    "import requests\n",
    "from itertools import chain\n",
    "import pandas as pd\n",
    "from pprint import pprint\n",
    "from tqdm import tqdm, tqdm_notebook\n",
    "from collections import defaultdict\n",
    "\n",
    "pd.options.display.max_rows = 999\n",
    "\n",
    "MONARCH_API = \"https://api.monarchinitiative.org/api\"\n",
    "SIMSEARCH_API = \"https://monarchinitiative.org/simsearch/phenotype\"\n",
    "\n",
    "gene_list = \"https://raw.githubusercontent.com/NCATS-Tangerine/cq-notebooks/master/FA_gene_sets/FA_4_all_genes.txt\"\n",
    "\n",
    "client = ApiClient(host=MONARCH_API)\n",
    "client.set_default_header('Content-Type', 'text/plain')\n",
    "api_instance = biolink_client.BioentityApi(client)\n",
    "\n",
    "# Get the gene list from github\n",
    "dataframe = pd.read_csv(gene_list, sep='\\t', names=['gene_id', 'symbol'])\n",
    "df = dataframe.set_index('symbol')\n",
    "human_genes = set(df.gene_id)"
   ]
  },
  {
   "cell_type": "code",
   "execution_count": 32,
   "metadata": {
    "collapsed": true,
    "deletable": true,
    "editable": true
   },
   "outputs": [],
   "source": [
    "taxids = [10090, 7955, 7227, 6239]\n",
    "prefixes = ['MGI', 'ZFIN', 'WormBase', 'FlyBase']"
   ]
  },
  {
   "cell_type": "code",
   "execution_count": 5,
   "metadata": {
    "collapsed": false,
    "deletable": true,
    "editable": true
   },
   "outputs": [
    {
     "data": {
      "text/plain": [
       "'Homo sapiens'"
      ]
     },
     "execution_count": 5,
     "metadata": {},
     "output_type": "execute_result"
    }
   ],
   "source": [
    "def get_obj(obj_id):\n",
    "    url = \"https://api.monarchinitiative.org/api/bioentity/{}\".format(obj_id)\n",
    "    res = requests.get(url)\n",
    "    d = res.json()\n",
    "    return d\n",
    "def get_taxon_from_gene(gene):\n",
    "    return get_obj(gene)['taxon']['label']\n",
    "get_taxon_from_gene('NCBIGene:2176')"
   ]
  },
  {
   "cell_type": "code",
   "execution_count": null,
   "metadata": {
    "collapsed": true
   },
   "outputs": [],
   "source": [
    "def query_orthologs(gene_id, taxon=None):\n",
    "    \"\"\"Query Monarch to determine the orthologs of a gene.\"\"\"\n",
    "    url = \"https://api.monarchinitiative.org/api/bioentity/gene/{}/homologs/\".format(gene_id)\n",
    "    if taxon:\n",
    "        res = requests.get(url, params={'homolog_taxon': taxon})\n",
    "    else:        \n",
    "        res = requests.get(url)\n",
    "    d = res.json()\n",
    "    return [x['object']['id'] for x in d['associations']]\n",
    "#query_orthologs('MGI:88276', taxon=\"NCBITaxon:9606\")"
   ]
  },
  {
   "cell_type": "code",
   "execution_count": 68,
   "metadata": {
    "collapsed": false,
    "deletable": true,
    "editable": true
   },
   "outputs": [],
   "source": [
    "def get_phenotype_from_gene(gene):\n",
    "    # https://monarchinitiative.org/gene/NCBIGene%3A2176/phenotype_list.json\n",
    "    url = \"https://monarchinitiative.org/gene/{}/phenotype_list.json\"\n",
    "    return [x['id'] for x in requests.get(url.format(gene)).json()['phenotype_list']]\n",
    "def get_phenotype_from_gene_verbose(gene):\n",
    "    # https://monarchinitiative.org/gene/NCBIGene%3A2176/phenotype_list.json\n",
    "    url = \"https://monarchinitiative.org/gene/{}/phenotype_list.json\"\n",
    "    return [(x['id'],x['label']) for x in requests.get(url.format(gene)).json()['phenotype_list']]\n",
    "#get_phenotype_from_gene(\"NCBIGene:2176\")"
   ]
  },
  {
   "cell_type": "code",
   "execution_count": 82,
   "metadata": {
    "collapsed": false,
    "deletable": true,
    "editable": true,
    "scrolled": true
   },
   "outputs": [],
   "source": [
    "def get_phenotypically_similar_genes(phenotypes, taxon, return_all=False):\n",
    "    headers = {\n",
    "        'Accept-Encoding': 'gzip, deflate, br',\n",
    "        'Accept-Language': 'en-US,en;q=0.8',\n",
    "        'Content-Type': 'application/x-www-form-urlencoded; charset=UTF-8',\n",
    "        'Accept': 'application/json, text/javascript, */*; q=0.01',\n",
    "    }\n",
    "    data = {'input_items': \" \".join(phenotypes), \"target_species\": taxon}\n",
    "    r = requests.post(SIMSEARCH_API, data=data, headers=headers)\n",
    "    d = r.json()\n",
    "    if return_all:\n",
    "        return d\n",
    "    if 'b' in d:\n",
    "        scores = [(x['id'],x['score']['score'], x['label']) for x in d['b']]\n",
    "    else:\n",
    "        scores = []\n",
    "    return scores\n",
    "#get_phenotypically_similar_genes(phenotypes, \"10090\")"
   ]
  },
  {
   "cell_type": "code",
   "execution_count": 21,
   "metadata": {
    "collapsed": false,
    "deletable": true,
    "editable": true,
    "scrolled": false
   },
   "outputs": [
    {
     "name": "stderr",
     "output_type": "stream",
     "text": [
      "The installed widget Javascript is the wrong version.\n",
      "The installed widget Javascript is the wrong version.\n",
      "The installed widget Javascript is the wrong version.\n",
      "The installed widget Javascript is the wrong version.\n",
      "The installed widget Javascript is the wrong version.\n"
     ]
    },
    {
     "name": "stdout",
     "output_type": "stream",
     "text": [
      "\n"
     ]
    }
   ],
   "source": [
    "# human_genes = [\"NCBIGene:2176\"]\n",
    "gene_genes = defaultdict(list)\n",
    "for taxid in tqdm_notebook(taxids):\n",
    "    for gene in tqdm_notebook(human_genes, leave=False):\n",
    "        phenotypes = get_phenotype_from_gene(gene)\n",
    "        gene_genes[gene].extend(get_phenotypically_similar_genes(phenotypes, taxid))"
   ]
  },
  {
   "cell_type": "code",
   "execution_count": 98,
   "metadata": {
    "collapsed": false,
    "deletable": true,
    "editable": true
   },
   "outputs": [],
   "source": [
    "s = defaultdict(int)\n",
    "gene_label = dict()\n",
    "for human_gene, ortho_genes in gene_genes.items():\n",
    "    for ortho_gene, score, label in ortho_genes:\n",
    "        gene_label[ortho_gene] = label\n",
    "        s[ortho_gene] += score"
   ]
  },
  {
   "cell_type": "code",
   "execution_count": 101,
   "metadata": {
    "collapsed": false
   },
   "outputs": [
    {
     "data": {
      "text/plain": [
       "[{'gene': 'MGI:88276', 'score': 1359},\n",
       " {'gene': 'MGI:1347466', 'score': 1341},\n",
       " {'gene': 'MGI:88039', 'score': 1332},\n",
       " {'gene': 'MGI:99851', 'score': 1321},\n",
       " {'gene': 'MGI:105373', 'score': 1314},\n",
       " {'gene': 'MGI:88064', 'score': 1310},\n",
       " {'gene': 'MGI:95729', 'score': 1308},\n",
       " {'gene': 'MGI:1330810', 'score': 1301},\n",
       " {'gene': 'MGI:98726', 'score': 1286},\n",
       " {'gene': 'MGI:88180', 'score': 1282},\n",
       " {'gene': 'WormBase:WBGene00010556', 'score': 747},\n",
       " {'gene': 'WormBase:WBGene00004077', 'score': 731},\n",
       " {'gene': 'WormBase:WBGene00016837', 'score': 726},\n",
       " {'gene': 'WormBase:WBGene00004392', 'score': 705},\n",
       " {'gene': 'WormBase:WBGene00003829', 'score': 701},\n",
       " {'gene': 'WormBase:WBGene00004391', 'score': 699},\n",
       " {'gene': 'WormBase:WBGene00000405', 'score': 693},\n",
       " {'gene': 'WormBase:WBGene00000871', 'score': 689},\n",
       " {'gene': 'WormBase:WBGene00001005', 'score': 689},\n",
       " {'gene': 'WormBase:WBGene00004208', 'score': 677},\n",
       " {'gene': 'ZFIN:ZDB-GENE-031114-4', 'score': 1185},\n",
       " {'gene': 'ZFIN:ZDB-GENE-040827-2', 'score': 1148},\n",
       " {'gene': 'ZFIN:ZDB-GENE-011026-1', 'score': 1124},\n",
       " {'gene': 'ZFIN:ZDB-GENE-080405-1', 'score': 1108},\n",
       " {'gene': 'ZFIN:ZDB-GENE-030131-5870', 'score': 1098},\n",
       " {'gene': 'ZFIN:ZDB-GENE-040426-1716', 'score': 1078},\n",
       " {'gene': 'ZFIN:ZDB-GENE-030404-2', 'score': 1062},\n",
       " {'gene': 'ZFIN:ZDB-GENE-990706-8', 'score': 1058},\n",
       " {'gene': 'ZFIN:ZDB-GENE-000626-1', 'score': 1054},\n",
       " {'gene': 'ZFIN:ZDB-GENE-030131-6378', 'score': 1053},\n",
       " {'gene': 'FlyBase:FBgn0000202', 'score': 180},\n",
       " {'gene': 'FlyBase:FBgn0000379', 'score': 180},\n",
       " {'gene': 'FlyBase:FBgn0000366', 'score': 180},\n",
       " {'gene': 'FlyBase:FBgn0000501', 'score': 180},\n",
       " {'gene': 'FlyBase:FBgn0000219', 'score': 180},\n",
       " {'gene': 'FlyBase:FBgn0003367', 'score': 180},\n",
       " {'gene': 'FlyBase:FBgn0000200', 'score': 168},\n",
       " {'gene': 'FlyBase:FBgn0001670', 'score': 156},\n",
       " {'gene': 'FlyBase:FBgn0016123', 'score': 156},\n",
       " {'gene': 'FlyBase:FBgn0039840', 'score': 156}]"
      ]
     },
     "execution_count": 101,
     "metadata": {},
     "output_type": "execute_result"
    }
   ],
   "source": [
    "top10 = dict()\n",
    "for prefix in prefixes:\n",
    "    ss = {k:v for k,v in s.items() if k.startswith(prefix)}\n",
    "    top10[prefix] = sorted(ss.items(), key=lambda x:x[1], reverse=True)[:10]\n",
    "ss = list(chain(*top10.values()))\n",
    "ss = [{'gene': s[0], 'score': s[1]} for s in ss]\n",
    "ss"
   ]
  },
  {
   "cell_type": "code",
   "execution_count": 102,
   "metadata": {
    "collapsed": false
   },
   "outputs": [
    {
     "name": "stderr",
     "output_type": "stream",
     "text": [
      "The installed widget Javascript is the wrong version.\n"
     ]
    },
    {
     "name": "stdout",
     "output_type": "stream",
     "text": [
      "\n"
     ]
    },
    {
     "data": {
      "text/plain": [
       "[{'gene': 'MGI:88276', 'orthologs': ['NCBIGene:1499'], 'score': 1359},\n",
       " {'gene': 'MGI:1347466', 'orthologs': ['NCBIGene:2296'], 'score': 1341},\n",
       " {'gene': 'MGI:88039', 'orthologs': ['NCBIGene:324'], 'score': 1332},\n",
       " {'gene': 'MGI:99851', 'orthologs': ['NCBIGene:865'], 'score': 1321},\n",
       " {'gene': 'MGI:105373', 'orthologs': ['NCBIGene:5727'], 'score': 1314},\n",
       " {'gene': 'MGI:88064', 'orthologs': ['NCBIGene:367'], 'score': 1310},\n",
       " {'gene': 'MGI:95729', 'orthologs': ['NCBIGene:2737'], 'score': 1308},\n",
       " {'gene': 'MGI:1330810', 'orthologs': ['NCBIGene:8626'], 'score': 1301},\n",
       " {'gene': 'MGI:98726', 'orthologs': ['NCBIGene:7042'], 'score': 1286},\n",
       " {'gene': 'MGI:88180', 'orthologs': ['NCBIGene:652'], 'score': 1282},\n",
       " {'gene': 'WormBase:WBGene00010556',\n",
       "  'orthologs': ['NCBIGene:10399'],\n",
       "  'score': 747},\n",
       " {'gene': 'WormBase:WBGene00004077',\n",
       "  'orthologs': ['NCBIGene:6932',\n",
       "   'NCBIGene:83439',\n",
       "   'NCBIGene:6934',\n",
       "   'NCBIGene:51176'],\n",
       "  'score': 731},\n",
       " {'gene': 'WormBase:WBGene00016837',\n",
       "  'orthologs': ['NCBIGene:56949'],\n",
       "  'score': 726},\n",
       " {'gene': 'WormBase:WBGene00004392',\n",
       "  'orthologs': ['NCBIGene:50484', 'NCBIGene:6241'],\n",
       "  'score': 705},\n",
       " {'gene': 'WormBase:WBGene00003829',\n",
       "  'orthologs': ['NCBIGene:10726'],\n",
       "  'score': 701},\n",
       " {'gene': 'WormBase:WBGene00004391',\n",
       "  'orthologs': ['NCBIGene:6240'],\n",
       "  'score': 699},\n",
       " {'gene': 'WormBase:WBGene00000405',\n",
       "  'orthologs': ['NCBIGene:983'],\n",
       "  'score': 693},\n",
       " {'gene': 'WormBase:WBGene00000871',\n",
       "  'orthologs': ['NCBIGene:9134', 'NCBIGene:898'],\n",
       "  'score': 689},\n",
       " {'gene': 'WormBase:WBGene00001005',\n",
       "  'orthologs': ['NCBIGene:140735'],\n",
       "  'score': 689},\n",
       " {'gene': 'WormBase:WBGene00004208',\n",
       "  'orthologs': ['NCBIGene:8643', 'NCBIGene:5727'],\n",
       "  'score': 677},\n",
       " {'gene': 'ZFIN:ZDB-GENE-031114-4', 'orthologs': [], 'score': 1185},\n",
       " {'gene': 'ZFIN:ZDB-GENE-040827-2',\n",
       "  'orthologs': ['NCBIGene:23639'],\n",
       "  'score': 1148},\n",
       " {'gene': 'ZFIN:ZDB-GENE-011026-1',\n",
       "  'orthologs': ['NCBIGene:64321'],\n",
       "  'score': 1124},\n",
       " {'gene': 'ZFIN:ZDB-GENE-080405-1',\n",
       "  'orthologs': ['NCBIGene:7015'],\n",
       "  'score': 1108},\n",
       " {'gene': 'ZFIN:ZDB-GENE-030131-5870',\n",
       "  'orthologs': ['NCBIGene:4627'],\n",
       "  'score': 1098},\n",
       " {'gene': 'ZFIN:ZDB-GENE-040426-1716',\n",
       "  'orthologs': ['NCBIGene:6223'],\n",
       "  'score': 1078},\n",
       " {'gene': 'ZFIN:ZDB-GENE-030404-2',\n",
       "  'orthologs': ['NCBIGene:57534'],\n",
       "  'score': 1062},\n",
       " {'gene': 'ZFIN:ZDB-GENE-990706-8',\n",
       "  'orthologs': ['NCBIGene:2736'],\n",
       "  'score': 1058},\n",
       " {'gene': 'ZFIN:ZDB-GENE-000626-1',\n",
       "  'orthologs': ['NCBIGene:7139'],\n",
       "  'score': 1054},\n",
       " {'gene': 'ZFIN:ZDB-GENE-030131-6378',\n",
       "  'orthologs': ['NCBIGene:55127'],\n",
       "  'score': 1053},\n",
       " {'gene': 'FlyBase:FBgn0000202', 'orthologs': [], 'score': 180},\n",
       " {'gene': 'FlyBase:FBgn0000379', 'orthologs': [], 'score': 180},\n",
       " {'gene': 'FlyBase:FBgn0000366', 'orthologs': [], 'score': 180},\n",
       " {'gene': 'FlyBase:FBgn0000501', 'orthologs': [], 'score': 180},\n",
       " {'gene': 'FlyBase:FBgn0000219', 'orthologs': [], 'score': 180},\n",
       " {'gene': 'FlyBase:FBgn0003367', 'orthologs': [], 'score': 180},\n",
       " {'gene': 'FlyBase:FBgn0000200', 'orthologs': [], 'score': 168},\n",
       " {'gene': 'FlyBase:FBgn0001670', 'orthologs': [], 'score': 156},\n",
       " {'gene': 'FlyBase:FBgn0016123',\n",
       "  'orthologs': ['NCBIGene:248',\n",
       "   'NCBIGene:251',\n",
       "   'NCBIGene:249',\n",
       "   'NCBIGene:250'],\n",
       "  'score': 156},\n",
       " {'gene': 'FlyBase:FBgn0039840',\n",
       "  'orthologs': ['NCBIGene:2741',\n",
       "   'NCBIGene:2742',\n",
       "   'NCBIGene:441509',\n",
       "   'NCBIGene:8001',\n",
       "   'NCBIGene:2743'],\n",
       "  'score': 156}]"
      ]
     },
     "execution_count": 102,
     "metadata": {},
     "output_type": "execute_result"
    }
   ],
   "source": [
    "for s in tqdm_notebook(ss):\n",
    "    s['orthologs'] = query_orthologs(s['gene'], \"NCBITaxon:9606\")\n",
    "ss"
   ]
  },
  {
   "cell_type": "code",
   "execution_count": 109,
   "metadata": {
    "collapsed": false,
    "scrolled": true
   },
   "outputs": [
    {
     "name": "stderr",
     "output_type": "stream",
     "text": [
      "The installed widget Javascript is the wrong version.\n"
     ]
    },
    {
     "name": "stdout",
     "output_type": "stream",
     "text": [
      "\n"
     ]
    }
   ],
   "source": [
    "for s in tqdm_notebook(ss):\n",
    "    s['label'] = get_obj(s['gene'])['label']\n",
    "    s['ortholog_labels'] = [get_obj(x)['label'] for x in s['orthologs']]"
   ]
  },
  {
   "cell_type": "markdown",
   "metadata": {},
   "source": [
    "## This is the output!!!"
   ]
  },
  {
   "cell_type": "code",
   "execution_count": 112,
   "metadata": {
    "collapsed": false,
    "scrolled": false
   },
   "outputs": [
    {
     "data": {
      "text/plain": [
       "[{'gene': 'MGI:88276',\n",
       "  'label': 'Ctnnb1',\n",
       "  'ortholog_labels': ['CTNNB1'],\n",
       "  'orthologs': ['NCBIGene:1499'],\n",
       "  'score': 1359},\n",
       " {'gene': 'MGI:1347466',\n",
       "  'label': 'Foxc1',\n",
       "  'ortholog_labels': ['FOXC1'],\n",
       "  'orthologs': ['NCBIGene:2296'],\n",
       "  'score': 1341},\n",
       " {'gene': 'MGI:88039',\n",
       "  'label': 'Apc',\n",
       "  'ortholog_labels': ['APC'],\n",
       "  'orthologs': ['NCBIGene:324'],\n",
       "  'score': 1332},\n",
       " {'gene': 'MGI:99851',\n",
       "  'label': 'Cbfb',\n",
       "  'ortholog_labels': ['CBFB'],\n",
       "  'orthologs': ['NCBIGene:865'],\n",
       "  'score': 1321},\n",
       " {'gene': 'MGI:105373',\n",
       "  'label': 'Ptch1',\n",
       "  'ortholog_labels': ['PTCH1'],\n",
       "  'orthologs': ['NCBIGene:5727'],\n",
       "  'score': 1314},\n",
       " {'gene': 'MGI:88064',\n",
       "  'label': 'Ar',\n",
       "  'ortholog_labels': ['AR'],\n",
       "  'orthologs': ['NCBIGene:367'],\n",
       "  'score': 1310},\n",
       " {'gene': 'MGI:95729',\n",
       "  'label': 'Gli3',\n",
       "  'ortholog_labels': ['GLI3'],\n",
       "  'orthologs': ['NCBIGene:2737'],\n",
       "  'score': 1308},\n",
       " {'gene': 'MGI:1330810',\n",
       "  'label': 'Trp63',\n",
       "  'ortholog_labels': ['TP63'],\n",
       "  'orthologs': ['NCBIGene:8626'],\n",
       "  'score': 1301},\n",
       " {'gene': 'MGI:98726',\n",
       "  'label': 'Tgfb2',\n",
       "  'ortholog_labels': ['TGFB2'],\n",
       "  'orthologs': ['NCBIGene:7042'],\n",
       "  'score': 1286},\n",
       " {'gene': 'MGI:88180',\n",
       "  'label': 'Bmp4',\n",
       "  'ortholog_labels': ['BMP4'],\n",
       "  'orthologs': ['NCBIGene:652'],\n",
       "  'score': 1282},\n",
       " {'gene': 'ZFIN:ZDB-GENE-031114-4',\n",
       "  'label': 'dnaaf1',\n",
       "  'ortholog_labels': [],\n",
       "  'orthologs': [],\n",
       "  'score': 1185},\n",
       " {'gene': 'ZFIN:ZDB-GENE-040827-2',\n",
       "  'label': 'lrrc6',\n",
       "  'ortholog_labels': ['LRRC6'],\n",
       "  'orthologs': ['NCBIGene:23639'],\n",
       "  'score': 1148},\n",
       " {'gene': 'ZFIN:ZDB-GENE-011026-1',\n",
       "  'label': 'sox32',\n",
       "  'ortholog_labels': ['SOX17'],\n",
       "  'orthologs': ['NCBIGene:64321'],\n",
       "  'score': 1124},\n",
       " {'gene': 'ZFIN:ZDB-GENE-080405-1',\n",
       "  'label': 'tert',\n",
       "  'ortholog_labels': ['TERT'],\n",
       "  'orthologs': ['NCBIGene:7015'],\n",
       "  'score': 1108},\n",
       " {'gene': 'ZFIN:ZDB-GENE-030131-5870',\n",
       "  'label': 'myh9a',\n",
       "  'ortholog_labels': ['MYH9'],\n",
       "  'orthologs': ['NCBIGene:4627'],\n",
       "  'score': 1098},\n",
       " {'gene': 'ZFIN:ZDB-GENE-040426-1716',\n",
       "  'label': 'rps19',\n",
       "  'ortholog_labels': ['RPS19'],\n",
       "  'orthologs': ['NCBIGene:6223'],\n",
       "  'score': 1078},\n",
       " {'gene': 'ZFIN:ZDB-GENE-030404-2',\n",
       "  'label': 'mib1',\n",
       "  'ortholog_labels': ['MIB1'],\n",
       "  'orthologs': ['NCBIGene:57534'],\n",
       "  'score': 1062},\n",
       " {'gene': 'ZFIN:ZDB-GENE-990706-8',\n",
       "  'label': 'gli2a',\n",
       "  'ortholog_labels': ['GLI2'],\n",
       "  'orthologs': ['NCBIGene:2736'],\n",
       "  'score': 1058},\n",
       " {'gene': 'ZFIN:ZDB-GENE-000626-1',\n",
       "  'label': 'tnnt2a',\n",
       "  'ortholog_labels': ['TNNT2'],\n",
       "  'orthologs': ['NCBIGene:7139'],\n",
       "  'score': 1054},\n",
       " {'gene': 'ZFIN:ZDB-GENE-030131-6378',\n",
       "  'label': 'heatr1',\n",
       "  'ortholog_labels': ['HEATR1'],\n",
       "  'orthologs': ['NCBIGene:55127'],\n",
       "  'score': 1053},\n",
       " {'gene': 'WormBase:WBGene00010556',\n",
       "  'label': 'rack-1',\n",
       "  'ortholog_labels': ['RACK1'],\n",
       "  'orthologs': ['NCBIGene:10399'],\n",
       "  'score': 747},\n",
       " {'gene': 'WormBase:WBGene00004077',\n",
       "  'label': 'pop-1',\n",
       "  'ortholog_labels': ['TCF7', 'TCF7L1', 'TCF7L2', 'LEF1'],\n",
       "  'orthologs': ['NCBIGene:6932',\n",
       "   'NCBIGene:83439',\n",
       "   'NCBIGene:6934',\n",
       "   'NCBIGene:51176'],\n",
       "  'score': 731},\n",
       " {'gene': 'WormBase:WBGene00016837',\n",
       "  'label': 'C50F2.3',\n",
       "  'ortholog_labels': ['XAB2'],\n",
       "  'orthologs': ['NCBIGene:56949'],\n",
       "  'score': 726},\n",
       " {'gene': 'WormBase:WBGene00004392',\n",
       "  'label': 'rnr-2',\n",
       "  'ortholog_labels': ['RRM2B', 'RRM2'],\n",
       "  'orthologs': ['NCBIGene:50484', 'NCBIGene:6241'],\n",
       "  'score': 705},\n",
       " {'gene': 'WormBase:WBGene00003829',\n",
       "  'label': 'nud-1',\n",
       "  'ortholog_labels': ['NUDC'],\n",
       "  'orthologs': ['NCBIGene:10726'],\n",
       "  'score': 701},\n",
       " {'gene': 'WormBase:WBGene00004391',\n",
       "  'label': 'rnr-1',\n",
       "  'ortholog_labels': ['RRM1'],\n",
       "  'orthologs': ['NCBIGene:6240'],\n",
       "  'score': 699},\n",
       " {'gene': 'WormBase:WBGene00000405',\n",
       "  'label': 'cdk-1',\n",
       "  'ortholog_labels': ['CDK1'],\n",
       "  'orthologs': ['NCBIGene:983'],\n",
       "  'score': 693},\n",
       " {'gene': 'WormBase:WBGene00000871',\n",
       "  'label': 'cye-1',\n",
       "  'ortholog_labels': ['CCNE2', 'CCNE1'],\n",
       "  'orthologs': ['NCBIGene:9134', 'NCBIGene:898'],\n",
       "  'score': 689},\n",
       " {'gene': 'WormBase:WBGene00001005',\n",
       "  'label': 'dlc-1',\n",
       "  'ortholog_labels': ['DYNLL2'],\n",
       "  'orthologs': ['NCBIGene:140735'],\n",
       "  'score': 689},\n",
       " {'gene': 'WormBase:WBGene00004208',\n",
       "  'label': 'ptc-1',\n",
       "  'ortholog_labels': ['PTCH2', 'PTCH1'],\n",
       "  'orthologs': ['NCBIGene:8643', 'NCBIGene:5727'],\n",
       "  'score': 677},\n",
       " {'gene': 'FlyBase:FBgn0000202',\n",
       "  'label': 'bo',\n",
       "  'ortholog_labels': [],\n",
       "  'orthologs': [],\n",
       "  'score': 180},\n",
       " {'gene': 'FlyBase:FBgn0000379',\n",
       "  'label': 'cru',\n",
       "  'ortholog_labels': [],\n",
       "  'orthologs': [],\n",
       "  'score': 180},\n",
       " {'gene': 'FlyBase:FBgn0000366',\n",
       "  'label': 'cr-3',\n",
       "  'ortholog_labels': [],\n",
       "  'orthologs': [],\n",
       "  'score': 180},\n",
       " {'gene': 'FlyBase:FBgn0000501',\n",
       "  'label': 'dsp',\n",
       "  'ortholog_labels': [],\n",
       "  'orthologs': [],\n",
       "  'score': 180},\n",
       " {'gene': 'FlyBase:FBgn0000219',\n",
       "  'label': 'bright',\n",
       "  'ortholog_labels': [],\n",
       "  'orthologs': [],\n",
       "  'score': 180},\n",
       " {'gene': 'FlyBase:FBgn0003367',\n",
       "  'label': 'sf',\n",
       "  'ortholog_labels': [],\n",
       "  'orthologs': [],\n",
       "  'score': 180},\n",
       " {'gene': 'FlyBase:FBgn0000200',\n",
       "  'label': 'bly',\n",
       "  'ortholog_labels': [],\n",
       "  'orthologs': [],\n",
       "  'score': 168},\n",
       " {'gene': 'FlyBase:FBgn0001670',\n",
       "  'label': 'l(1)EN6',\n",
       "  'ortholog_labels': [],\n",
       "  'orthologs': [],\n",
       "  'score': 156},\n",
       " {'gene': 'FlyBase:FBgn0016123',\n",
       "  'label': 'Alp4',\n",
       "  'ortholog_labels': ['ALPI', 'ALPPL2', 'ALPL', 'ALPP'],\n",
       "  'orthologs': ['NCBIGene:248',\n",
       "   'NCBIGene:251',\n",
       "   'NCBIGene:249',\n",
       "   'NCBIGene:250'],\n",
       "  'score': 156},\n",
       " {'gene': 'FlyBase:FBgn0039840',\n",
       "  'label': 'pHCl-2',\n",
       "  'ortholog_labels': ['GLRA1', 'GLRA2', 'GLRA4', 'GLRA3', 'GLRB'],\n",
       "  'orthologs': ['NCBIGene:2741',\n",
       "   'NCBIGene:2742',\n",
       "   'NCBIGene:441509',\n",
       "   'NCBIGene:8001',\n",
       "   'NCBIGene:2743'],\n",
       "  'score': 156}]"
      ]
     },
     "execution_count": 112,
     "metadata": {},
     "output_type": "execute_result"
    }
   ],
   "source": [
    "sorted(ss, key=lambda x: x['score'], reverse=True)"
   ]
  },
  {
   "cell_type": "markdown",
   "metadata": {},
   "source": [
    "### Demo with one gene"
   ]
  },
  {
   "cell_type": "code",
   "execution_count": 69,
   "metadata": {
    "collapsed": false
   },
   "outputs": [
    {
     "data": {
      "text/plain": [
       "[('HP:0000601', 'Hypotelorism'),\n",
       " ('HP:0008572', 'External ear malformation'),\n",
       " ('HP:0011133', 'Increased sensitivity to ionizing radiation'),\n",
       " ('HP:0005584', 'Renal cell carcinoma'),\n",
       " ('HP:0001000', 'Abnormality of skin pigmentation'),\n",
       " ('HP:0001249', 'Intellectual disability'),\n",
       " ('HP:0001347', 'Hyperreflexia'),\n",
       " ('HP:0000978', 'Bruising susceptibility'),\n",
       " ('HP:0001562', 'Oligohydramnios'),\n",
       " ('HP:0008064', 'Ichthyosis'),\n",
       " ('HP:0001631', 'Atrial septal defect'),\n",
       " ('HP:0007874', 'Almond-shaped palpebral fissure'),\n",
       " ('HP:0002827', 'Hip dislocation'),\n",
       " ('HP:0006740', 'Transitional cell carcinoma of the bladder'),\n",
       " ('HP:0000218', 'High palate'),\n",
       " ('HP:0004209', 'Clinodactyly of the 5th finger'),\n",
       " ('HP:0000316', 'Hypertelorism'),\n",
       " ('HP:0000453', 'Choanal atresia'),\n",
       " ('HP:0100587', 'Abnormality of the preputium'),\n",
       " ('HP:0002245', 'Meckel diverticulum'),\n",
       " ('HP:0000463', 'Anteverted nares'),\n",
       " ('HP:0004820', 'Acute myelomonocytic leukemia'),\n",
       " ('HP:0000568', 'Microphthalmia'),\n",
       " ('HP:0001639', 'Hypertrophic cardiomyopathy'),\n",
       " ('HP:0000081', 'Duplicated collecting system'),\n",
       " ('HP:0001873', 'Thrombocytopenia'),\n",
       " ('HP:0001251', 'Ataxia'),\n",
       " ('HP:0005510', 'Transient erythroblastopenia'),\n",
       " ('HP:0100760', 'Clubbing of toes'),\n",
       " ('HP:0100608', 'Metrorrhagia'),\n",
       " ('HP:0006501', 'Aplasia/Hypoplasia of the radius'),\n",
       " ('HP:0003125', 'Reduced factor VIII activity'),\n",
       " ('HP:0001882', 'Leukopenia'),\n",
       " ('HP:0001017', 'Anemic pallor'),\n",
       " ('HP:0007400', 'Irregular hyperpigmentation'),\n",
       " ('HP:0003213', 'Deficient excision of UV-induced pyrimidine dimers in DNA'),\n",
       " ('HP:0000815', 'Hypergonadotropic hypogonadism'),\n",
       " ('HP:0000518', 'Cataract'),\n",
       " ('HP:0002650', 'Scoliosis'),\n",
       " ('HP:0003220', 'Abnormality of chromosome stability'),\n",
       " ('HP:0000486', 'Strabismus'),\n",
       " ('HP:0001636', 'Tetralogy of Fallot'),\n",
       " ('HP:0000520', 'Proptosis'),\n",
       " ('HP:0007354', 'Amyotrophic lateral sclerosis'),\n",
       " ('HP:0001896', 'Reticulocytopenia'),\n",
       " ('HP:0000085', 'Horseshoe kidney'),\n",
       " ('HP:0004430', 'Severe combined immunodeficiency'),\n",
       " ('HP:0002891', 'Uterine leiomyosarcoma'),\n",
       " ('HP:0000028', 'Cryptorchidism'),\n",
       " ('HP:0001876', 'Pancytopenia'),\n",
       " ('HP:0000047', 'Hypospadias'),\n",
       " ('HP:0000252', 'Microcephaly'),\n",
       " ('HP:0001908', 'Hypoplastic anemia'),\n",
       " ('HP:0001895', 'Normochromic anemia'),\n",
       " ('HP:0001511', 'Intrauterine growth retardation'),\n",
       " ('HP:0004322', 'Short stature'),\n",
       " ('HP:0002007', 'Frontal bossing'),\n",
       " ('HP:0000135', 'Hypogonadism'),\n",
       " ('HP:0005505', 'Refractory anemia'),\n",
       " ('HP:0000164', 'Abnormality of the dentition'),\n",
       " ('HP:0002251', 'Aganglionic megacolon'),\n",
       " ('HP:0001909', 'Leukemia'),\n",
       " ('HP:0004810', 'Congenital hypoplastic anemia'),\n",
       " ('HP:0006872', 'Cerebral hypoplasia'),\n",
       " ('HP:0002721', 'Immunodeficiency'),\n",
       " ('HP:0012041', 'Decreased fertility in males'),\n",
       " ('HP:0001915', 'Aplastic anemia'),\n",
       " ('HP:0002023', 'Anal atresia'),\n",
       " ('HP:0001172', 'Abnormality of the thumb'),\n",
       " ('HP:0001905', 'Congenital thrombocytopenia'),\n",
       " ('HP:0005344', 'Abnormal carotid artery morphology'),\n",
       " ('HP:0000072', 'Hydroureter'),\n",
       " ('HP:0000639', 'Nystagmus'),\n",
       " ('HP:0002575', 'Tracheoesophageal fistula'),\n",
       " ('HP:0003214', 'Prolonged G2 phase of cell cycle'),\n",
       " ('HP:0000104', 'Renal agenesis'),\n",
       " ('HP:0008678', 'Renal hypoplasia/aplasia'),\n",
       " ('HP:0100026', 'Arteriovenous malformation'),\n",
       " ('HP:0001679', 'Abnormal aortic morphology'),\n",
       " ('HP:0005522', 'Pyridoxine-responsive sideroblastic anemia'),\n",
       " ('HP:0012745', 'Short palpebral fissure'),\n",
       " ('HP:0001009', 'Telangiectasia'),\n",
       " ('HP:0001972', 'Macrocytic anemia'),\n",
       " ('HP:0010469', 'Absent testis'),\n",
       " ('HP:0001646', 'Abnormality of the aortic valve'),\n",
       " ('HP:0007565', 'Multiple cafe-au-lait spots'),\n",
       " ('HP:0000813', 'Bicornuate uterus'),\n",
       " ('HP:0001763', 'Pes planus'),\n",
       " ('HP:0006824', 'Cranial nerve paralysis'),\n",
       " ('HP:0000824', 'Growth hormone deficiency'),\n",
       " ('HP:0004349', 'Reduced bone mineral density'),\n",
       " ('HP:0001770', 'Toe syndactyly'),\n",
       " ('HP:0000297', 'Facial hypotonia'),\n",
       " ('HP:0000010', 'Recurrent urinary tract infections'),\n",
       " ('HP:0006753', 'Neoplasm of the stomach'),\n",
       " ('HP:0001900', 'Increased hemoglobin'),\n",
       " ('HP:0100806', 'Sepsis'),\n",
       " ('HP:0004859', 'Amegakaryocytic thrombocytopenia'),\n",
       " ('HP:0000582', 'Upslanted palpebral fissure'),\n",
       " ('HP:0006265', 'Aplasia/Hypoplasia of fingers'),\n",
       " ('HP:0003221', 'Chromosomal breakage induced by crosslinking agents'),\n",
       " ('HP:0001053', 'Hypopigmented skin patches'),\n",
       " ('HP:0001903', 'Anemia'),\n",
       " ('HP:0000508', 'Ptosis'),\n",
       " ('HP:0004377', 'Hematological neoplasm'),\n",
       " ('HP:0001537', 'Umbilical hernia'),\n",
       " ('HP:0006716', 'Hereditary nonpolyposis colorectal carcinoma'),\n",
       " ('HP:0001518', 'Small for gestational age'),\n",
       " ('HP:0001627', 'Abnormal heart morphology'),\n",
       " ('HP:0001824', 'Weight loss'),\n",
       " ('HP:0000340', 'Sloping forehead'),\n",
       " ('HP:0001402', 'Hepatocellular carcinoma'),\n",
       " ('HP:0011018', 'Abnormality of the cell cycle'),\n",
       " ('HP:0006101', 'Finger syndactyly'),\n",
       " ('HP:0001973', 'Autoimmune thrombocytopenia'),\n",
       " ('HP:0001875', 'Neutropenia'),\n",
       " ('HP:0002860', 'Squamous cell carcinoma'),\n",
       " ('HP:0000083', 'Renal insufficiency'),\n",
       " ('HP:0010972', 'Anemia of inadequate production'),\n",
       " ('HP:0005560', 'Imbalanced hemoglobin synthesis'),\n",
       " ('HP:0002488', 'Acute leukemia'),\n",
       " ('HP:0001263', 'Global developmental delay'),\n",
       " ('HP:0002823', 'Abnormality of femur morphology'),\n",
       " ('HP:0001510', 'Growth delay'),\n",
       " ('HP:0000027', 'Azoospermia'),\n",
       " ('HP:0003254', 'Abnormality of DNA repair'),\n",
       " ('HP:0000864', 'Abnormality of the hypothalamus-pituitary axis'),\n",
       " ('HP:0100615', 'Ovarian neoplasm'),\n",
       " ('HP:0000953', 'Hyperpigmentation of the skin'),\n",
       " ('HP:0010650', 'Hypoplasia of the premaxilla'),\n",
       " ('HP:0004431', 'Complement deficiency'),\n",
       " ('HP:0000077', 'Abnormality of the kidney'),\n",
       " ('HP:0000789', 'Infertility'),\n",
       " ('HP:0000957', 'Cafe-au-lait spot'),\n",
       " ('HP:0004808', 'Acute myeloid leukemia'),\n",
       " ('HP:0003974', 'Absent radius'),\n",
       " ('HP:0001878', 'Hemolytic anemia'),\n",
       " ('HP:0000086', 'Ectopic kidney'),\n",
       " ('HP:0002863', 'Myelodysplasia'),\n",
       " ('HP:0008053', 'Aplasia/Hypoplasia of the iris'),\n",
       " ('HP:0000175', 'Cleft palate'),\n",
       " ('HP:0001392', 'Abnormality of the liver'),\n",
       " ('HP:0100542', 'Abnormal localization of kidney'),\n",
       " ('HP:0000324', 'Facial asymmetry'),\n",
       " ('HP:0100867', 'Duodenal stenosis'),\n",
       " ('HP:0006721', 'Acute lymphoblastic leukemia'),\n",
       " ('HP:0009778', 'Short thumb'),\n",
       " ('HP:0009943', 'Complete duplication of thumb phalanx'),\n",
       " ('HP:0003022', 'Hypoplasia of the ulna'),\n",
       " ('HP:0000347', 'Micrognathia'),\n",
       " ('HP:0000483', 'Astigmatism'),\n",
       " ('HP:0010293', 'Aplasia/Hypoplasia of the uvula'),\n",
       " ('HP:0000268', 'Dolichocephaly'),\n",
       " ('HP:0001643', 'Patent ductus arteriosus'),\n",
       " ('HP:0002414', 'Spina bifida'),\n",
       " ('HP:0000238', 'Hydrocephalus'),\n",
       " ('HP:0002119', 'Ventriculomegaly'),\n",
       " ('HP:0005528', 'Bone marrow hypocellularity'),\n",
       " ('HP:0009777', 'Absent thumb'),\n",
       " ('HP:0000286', 'Epicanthus'),\n",
       " ('HP:0000365', 'Hearing impairment'),\n",
       " ('HP:0003002', 'Breast carcinoma'),\n",
       " ('HP:0001199', 'Triphalangeal thumb'),\n",
       " ('HP:0000505', 'Visual impairment')]"
      ]
     },
     "execution_count": 69,
     "metadata": {},
     "output_type": "execute_result"
    }
   ],
   "source": [
    "## FANCC\n",
    "phenotypes = get_phenotype_from_gene_verbose(\"NCBIGene:2176\")\n",
    "phenotypes"
   ]
  },
  {
   "cell_type": "code",
   "execution_count": 84,
   "metadata": {
    "collapsed": true,
    "deletable": true,
    "editable": true
   },
   "outputs": [],
   "source": [
    "d = get_phenotypically_similar_genes([x[0] for x in phenotypes], \"10090\", return_all=True)"
   ]
  },
  {
   "cell_type": "code",
   "execution_count": 87,
   "metadata": {
    "collapsed": false
   },
   "outputs": [
    {
     "data": {
      "text/plain": [
       "('MGI:95729', 'Gli3')"
      ]
     },
     "execution_count": 87,
     "metadata": {},
     "output_type": "execute_result"
    }
   ],
   "source": [
    "match = d['b'][0]\n",
    "(match['id'],match['label'])"
   ]
  },
  {
   "cell_type": "code",
   "execution_count": 91,
   "metadata": {
    "collapsed": false
   },
   "outputs": [
    {
     "data": {
      "text/plain": [
       "[{'a': {'IC': 8.248732127568665,\n",
       "   'id': 'HP:0100615',\n",
       "   'label': 'Ovarian neoplasm'},\n",
       "  'b': {'IC': 12.741287225631801,\n",
       "   'id': 'MP:0011727',\n",
       "   'label': 'ectopic ovary'},\n",
       "  'lcs': {'IC': 6.461063581698676,\n",
       "   'id': 'MP:0001126',\n",
       "   'label': 'abnormal ovary morphology'}},\n",
       " {'a': {'IC': 8.751303137059177,\n",
       "   'id': 'HP:0000978',\n",
       "   'label': 'Bruising susceptibility'},\n",
       "  'b': {'IC': 5.125135097538753,\n",
       "   'id': 'HP:0001892',\n",
       "   'label': 'Abnormal bleeding'},\n",
       "  'lcs': {'IC': 5.125135097538753, 'id': 'MP:0001914', 'label': 'hemorrhage'}}]"
      ]
     },
     "execution_count": 91,
     "metadata": {},
     "output_type": "execute_result"
    }
   ],
   "source": [
    "match['matches'][:2]"
   ]
  },
  {
   "cell_type": "code",
   "execution_count": 89,
   "metadata": {
    "collapsed": false,
    "deletable": true,
    "editable": true
   },
   "outputs": [
    {
     "data": {
      "text/plain": [
       "['NCBIGene:2737']"
      ]
     },
     "execution_count": 89,
     "metadata": {},
     "output_type": "execute_result"
    }
   ],
   "source": [
    "human_orthologs = query_orthologs(match['id'], taxon=\"NCBITaxon:9606\")\n",
    "human_orthologs"
   ]
  },
  {
   "cell_type": "code",
   "execution_count": 108,
   "metadata": {
    "collapsed": false
   },
   "outputs": [
    {
     "name": "stdout",
     "output_type": "stream",
     "text": [
      "NCBIGene:5888 [('MGI:88276', 65, 'Ctnnb1')]\n",
      "NCBIGene:80233 []\n",
      "NCBIGene:29089 [('MGI:88276', 65, 'Ctnnb1')]\n",
      "NCBIGene:55215 [('MGI:88276', 65, 'Ctnnb1')]\n",
      "NCBIGene:83990 [('MGI:88276', 64, 'Ctnnb1')]\n",
      "NCBIGene:2176 [('MGI:88276', 66, 'Ctnnb1')]\n",
      "NCBIGene:10459 [('MGI:88276', 65, 'Ctnnb1')]\n",
      "NCBIGene:57697 [('MGI:88276', 65, 'Ctnnb1')]\n",
      "NCBIGene:7516 [('MGI:88276', 64, 'Ctnnb1')]\n",
      "NCBIGene:5889 [('MGI:88276', 64, 'Ctnnb1')]\n",
      "NCBIGene:199990 []\n",
      "NCBIGene:84464 [('MGI:88276', 65, 'Ctnnb1')]\n",
      "NCBIGene:55120 [('MGI:88276', 66, 'Ctnnb1')]\n",
      "NCBIGene:201254 []\n",
      "NCBIGene:675 [('MGI:88276', 62, 'Ctnnb1')]\n",
      "NCBIGene:378708 []\n",
      "NCBIGene:55159 []\n",
      "NCBIGene:91442 []\n",
      "NCBIGene:2175 [('MGI:88276', 66, 'Ctnnb1')]\n",
      "NCBIGene:2072 [('MGI:88276', 63, 'Ctnnb1')]\n",
      "NCBIGene:2188 [('MGI:88276', 65, 'Ctnnb1')]\n",
      "NCBIGene:2178 [('MGI:88276', 66, 'Ctnnb1')]\n",
      "NCBIGene:2189 [('MGI:88276', 65, 'Ctnnb1')]\n",
      "NCBIGene:79728 [('MGI:88276', 64, 'Ctnnb1')]\n",
      "NCBIGene:672 [('MGI:88276', 60, 'Ctnnb1')]\n",
      "NCBIGene:2177 [('MGI:88276', 66, 'Ctnnb1')]\n",
      "NCBIGene:2187 [('MGI:88276', 68, 'Ctnnb1')]\n"
     ]
    }
   ],
   "source": [
    "for human_gene, pgenes in gene_genes.items():\n",
    "    pgenes = [x for x in pgenes if \"MGI:88276\" == x[0]]\n",
    "    print(human_gene, pgenes)"
   ]
  }
 ],
 "metadata": {
  "kernelspec": {
   "display_name": "Python 3",
   "language": "python",
   "name": "python3"
  },
  "language_info": {
   "codemirror_mode": {
    "name": "ipython",
    "version": 3
   },
   "file_extension": ".py",
   "mimetype": "text/x-python",
   "name": "python",
   "nbconvert_exporter": "python",
   "pygments_lexer": "ipython3",
   "version": "3.5.2"
  }
 },
 "nbformat": 4,
 "nbformat_minor": 2
}
