{
 "cells": [
  {
   "cell_type": "markdown",
   "metadata": {},
   "source": [
    "# Orange Team CQ#1.7\n",
    "\n",
    "**Query:** What genes show high phenotypic similarity to the 11 Fanconi Anemia core complex genes (set FA-core)?\n",
    "\n",
    "## Workflow:\n",
    "\n",
    "\n",
    "**Input:** NCBIGene identifiers for 11 human FA-core genes\n",
    "\n",
    "1. Retrieve orthologs of FA-core genes and add to human FA-core set\n",
    "2. Retrieve phenotype terms associated genes in this set\n",
    "3. Execute PhenoSim analysis to return ranked list of phenotypically similar genes\n",
    "4. Select subset of genes meeting some defined threshhold\n",
    "5. Retrieve human orthologs of all non-human genes in this set\n",
    "\n",
    "**Output:** GeneSetQ7 (phenotypically similar human genes based on cross-species PhenoSim analysis)\n",
    "\n",
    "### Contributors:\n",
    "\n",
    "- Greg Stupp\n",
    "- Tong Shu Li\n",
    "- Michael Yu"
   ]
  },
  {
   "cell_type": "markdown",
   "metadata": {},
   "source": [
    "## Part 1\n",
    "\n",
    "Retrieve orthologs of FA-core genes and add to human FA-core set."
   ]
  },
  {
   "cell_type": "code",
   "execution_count": 1,
   "metadata": {
    "collapsed": true
   },
   "outputs": [],
   "source": [
    "import requests\n",
    "from itertools import chain\n",
    "\n",
    "from tqdm import tqdm\n",
    "import numpy as np\n",
    "\n",
    "from scipy.sparse import coo_matrix\n",
    "import seaborn as sns\n",
    "\n",
    "%matplotlib inline"
   ]
  },
  {
   "cell_type": "markdown",
   "metadata": {},
   "source": [
    "### Start with the HGNC symbols for the FA-core genes"
   ]
  },
  {
   "cell_type": "code",
   "execution_count": 2,
   "metadata": {},
   "outputs": [
    {
     "data": {
      "text/plain": [
       "22"
      ]
     },
     "execution_count": 2,
     "metadata": {},
     "output_type": "execute_result"
    }
   ],
   "source": [
    "fa_genes = [\n",
    "    'FANCA', 'FANCB', 'FANCC', 'FANCE', 'FANCF',\n",
    "    'FANCG', 'FANCL', 'FANCM', 'FANCD2', 'FANCI',\n",
    "    'UBE2T', 'FANCD1', 'BRCA2', 'FANCJ', 'FANCN',\n",
    "    'FANCO', 'FANCP', 'FANCQ', 'FANCR', 'FANCS',\n",
    "    'FANCV', 'FANCU'\n",
    "]\n",
    "\n",
    "len(fa_genes)"
   ]
  },
  {
   "cell_type": "markdown",
   "metadata": {},
   "source": [
    "### Get Wikidata ids for these HGNC symbols from wikidata using garbanzo"
   ]
  },
  {
   "cell_type": "code",
   "execution_count": 3,
   "metadata": {},
   "outputs": [],
   "source": [
    "api_url = \"http://ec2-52-15-200-208.us-east-2.compute.amazonaws.com/\"\n",
    "\n",
    "c = ' '.join([\"HGNCS:\" + x for x in fa_genes])\n",
    "endpoint = \"translator/exactMatches/\"\n",
    "params = {'c': c}\n",
    "r = requests.get(api_url + endpoint, params=params)\n",
    "qids = [x for x in r.json() if \"wd\" in x]"
   ]
  },
  {
   "cell_type": "code",
   "execution_count": 4,
   "metadata": {},
   "outputs": [
    {
     "data": {
      "text/plain": [
       "['wd:Q17853272',\n",
       " 'wd:Q18039587',\n",
       " 'wd:Q17927069',\n",
       " 'wd:Q17927056',\n",
       " 'wd:Q17927077',\n",
       " 'wd:Q18041663',\n",
       " 'wd:Q18044458',\n",
       " 'wd:Q18250517',\n",
       " 'wd:Q17927524',\n",
       " 'wd:Q17927502',\n",
       " 'wd:Q18041564',\n",
       " 'wd:Q17927471']"
      ]
     },
     "execution_count": 4,
     "metadata": {},
     "output_type": "execute_result"
    }
   ],
   "source": [
    "qids"
   ]
  },
  {
   "cell_type": "markdown",
   "metadata": {},
   "source": [
    "### Get all orthologs from wikidata using garbanzo"
   ]
  },
  {
   "cell_type": "code",
   "execution_count": 5,
   "metadata": {},
   "outputs": [
    {
     "name": "stdout",
     "output_type": "stream",
     "text": [
      "http://ec2-52-15-200-208.us-east-2.compute.amazonaws.com/translator/statements?c=wd%3AQ17853272&c=wd%3AQ18039587&c=wd%3AQ17927069&c=wd%3AQ17927056&c=wd%3AQ17927077&c=wd%3AQ18041663&c=wd%3AQ18044458&c=wd%3AQ18250517&c=wd%3AQ17927524&c=wd%3AQ17927502&c=wd%3AQ18041564&c=wd%3AQ17927471\n"
     ]
    }
   ],
   "source": [
    "endpoint = 'translator/statements'\n",
    "params = {'c': qids}\n",
    "r = requests.get(api_url + endpoint, params=params)\n",
    "print(r.url)"
   ]
  },
  {
   "cell_type": "code",
   "execution_count": 6,
   "metadata": {},
   "outputs": [
    {
     "name": "stdout",
     "output_type": "stream",
     "text": [
      "35\n"
     ]
    }
   ],
   "source": [
    "ortholog_statements = [x for x in r.json() if x['predicate']['name'] == \"ortholog\"]\n",
    "ortholog_qids = set(chain(*[(x['object']['id'], x['subject']['id']) for x in ortholog_statements]))\n",
    "print(len(ortholog_qids))"
   ]
  },
  {
   "cell_type": "markdown",
   "metadata": {},
   "source": [
    "### Convert to NCBI gene ids"
   ]
  },
  {
   "cell_type": "code",
   "execution_count": 7,
   "metadata": {
    "collapsed": true
   },
   "outputs": [],
   "source": [
    "endpoint = \"translator/exactMatches/\"\n",
    "params = {'c': ' '.join(ortholog_qids)}\n",
    "r = requests.get(api_url + endpoint, params=params)\n",
    "ncbi = [x for x in r.json() if \"NCBI\" in x]"
   ]
  },
  {
   "cell_type": "code",
   "execution_count": 8,
   "metadata": {},
   "outputs": [
    {
     "data": {
      "text/plain": [
       "['NCBIGene:29089',\n",
       " 'NCBIGene:361435',\n",
       " 'NCBIGene:104806',\n",
       " 'NCBIGene:72775',\n",
       " 'NCBIGene:100360594',\n",
       " 'NCBIGene:60534',\n",
       " 'NCBIGene:100040608',\n",
       " 'NCBIGene:67030',\n",
       " 'NCBIGene:2187',\n",
       " 'NCBIGene:211651',\n",
       " 'NCBIGene:691105',\n",
       " 'NCBIGene:2177',\n",
       " 'NCBIGene:208836',\n",
       " 'NCBIGene:501552',\n",
       " 'NCBIGene:499155',\n",
       " 'NCBIGene:675',\n",
       " 'NCBIGene:2189',\n",
       " 'NCBIGene:305600',\n",
       " 'NCBIGene:312641',\n",
       " 'NCBIGene:14087',\n",
       " 'NCBIGene:309643',\n",
       " 'NCBIGene:2176',\n",
       " 'NCBIGene:67196',\n",
       " 'NCBIGene:2188',\n",
       " 'NCBIGene:55120',\n",
       " 'NCBIGene:2178',\n",
       " 'NCBIGene:2175',\n",
       " 'NCBIGene:57697',\n",
       " 'NCBIGene:55215',\n",
       " 'NCBIGene:360254',\n",
       " 'NCBIGene:360847',\n",
       " 'NCBIGene:14088',\n",
       " 'NCBIGene:24361',\n",
       " 'NCBIGene:12190',\n",
       " 'NCBIGene:237211']"
      ]
     },
     "execution_count": 8,
     "metadata": {},
     "output_type": "execute_result"
    }
   ],
   "source": [
    "ncbi"
   ]
  },
  {
   "cell_type": "markdown",
   "metadata": {},
   "source": [
    "## Part 2: Retrieve phenotype terms associated genes in this set"
   ]
  },
  {
   "cell_type": "code",
   "execution_count": 9,
   "metadata": {
    "collapsed": true
   },
   "outputs": [],
   "source": [
    "def query(gene_id):\n",
    "    \"\"\"Query Monarch to determine the phenotypes associated with a\n",
    "    NCBI gene id.\"\"\"\n",
    "    \n",
    "    url = \"https://api.monarchinitiative.org/api/bioentity/gene/{}/phenotypes/\".format(gene_id)\n",
    "    \n",
    "    res = requests.get(url)\n",
    "    \n",
    "    # assumes that the \"objects\" response object contains the phenotypes\n",
    "    return res.json()[\"objects\"]"
   ]
  },
  {
   "cell_type": "code",
   "execution_count": 10,
   "metadata": {},
   "outputs": [
    {
     "name": "stderr",
     "output_type": "stream",
     "text": [
      "100%|██████████| 35/35 [00:31<00:00,  1.47it/s]\n"
     ]
    }
   ],
   "source": [
    "phenos = {}\n",
    "for gene_id in tqdm(ncbi):\n",
    "    res = query(gene_id)\n",
    "    phenos[gene_id] = res"
   ]
  },
  {
   "cell_type": "markdown",
   "metadata": {},
   "source": [
    "## Part 3: Execute PhenoSim analysis to return ranked list of phenotypically similar genes"
   ]
  },
  {
   "cell_type": "markdown",
   "metadata": {},
   "source": [
    "### Get list of all human genes (NCBI Gene ids)"
   ]
  },
  {
   "cell_type": "code",
   "execution_count": 11,
   "metadata": {
    "collapsed": true
   },
   "outputs": [],
   "source": [
    "with open('human_genes.txt') as f:\n",
    "    all_human_genes = set(f.read().splitlines())"
   ]
  },
  {
   "cell_type": "code",
   "execution_count": 12,
   "metadata": {},
   "outputs": [
    {
     "data": {
      "text/plain": [
       "60284"
      ]
     },
     "execution_count": 12,
     "metadata": {},
     "output_type": "execute_result"
    }
   ],
   "source": [
    "len(all_human_genes)"
   ]
  },
  {
   "cell_type": "markdown",
   "metadata": {},
   "source": [
    "### Create a similarity matrix of human_genes by non_human_genes, based on a Jaccard similarity of the associated phenotype sets"
   ]
  },
  {
   "cell_type": "code",
   "execution_count": 13,
   "metadata": {
    "collapsed": true
   },
   "outputs": [],
   "source": [
    "all_phenotype = sorted(np.unique(list(chain(*phenos.values()))))\n",
    "\n",
    "phenotype_idx = {b : a for a, b in enumerate(all_phenotype)}\n",
    "all_gene = sorted(phenos.keys())\n",
    "gene_idx = {b : a for a, b in enumerate(all_gene)}"
   ]
  },
  {
   "cell_type": "code",
   "execution_count": 14,
   "metadata": {
    "collapsed": true
   },
   "outputs": [],
   "source": [
    "human_genes = sorted([x for x in phenos.keys() if x.split('NCBIGene:')[1] in all_human_genes])\n",
    "human_genes_idx = {b : a for a, b in enumerate(human_genes)}\n",
    "non_human_genes = [x for x in phenos.keys() if x.split('NCBIGene:')[1] not in all_human_genes]\n",
    "non_human_genes_idx = {b : a for a, b in enumerate(non_human_genes)}"
   ]
  },
  {
   "cell_type": "code",
   "execution_count": 15,
   "metadata": {},
   "outputs": [],
   "source": [
    "phenos_set = {a : set(b) for a, b in phenos.items()}\n",
    "def get_similarity(x,y):\n",
    "    x_set = phenos_set[x]\n",
    "    y_set = phenos_set[y]\n",
    "    return len(x_set & y_set) / float(len(x_set | y_set))\n",
    "\n",
    "data_ij = [(get_similarity(x,y), human_genes_idx[x], non_human_genes_idx[y]) for x in human_genes for y in non_human_genes]\n",
    "data, i_list, j_list = zip(*data_ij)\n",
    "data, i_list, j_list = np.array(data), np.array(i_list), np.array(j_list)\n",
    "g2g = coo_matrix((data, (i_list, j_list)),\n",
    "                  shape=(len(human_genes), len(non_human_genes)))\n",
    "g2g = g2g.toarray()"
   ]
  },
  {
   "cell_type": "code",
   "execution_count": 16,
   "metadata": {},
   "outputs": [
    {
     "data": {
      "text/plain": [
       "array([ 0.        ,  0.        ,  0.        ,  0.        ,  0.        ,\n",
       "        0.00409836,  0.01098901,  0.01485149,  0.        ,  0.        ,\n",
       "        0.        ,  0.        ,  0.        ,  0.00420168,  0.        ,\n",
       "        0.        ,  0.        ,  0.        ,  0.00381679,  0.        ,\n",
       "        0.        ,  0.        ,  0.01153846])"
      ]
     },
     "execution_count": 16,
     "metadata": {},
     "output_type": "execute_result"
    }
   ],
   "source": [
    "g2g.min(0)"
   ]
  },
  {
   "cell_type": "code",
   "execution_count": 17,
   "metadata": {},
   "outputs": [
    {
     "data": {
      "text/plain": [
       "<matplotlib.axes._subplots.AxesSubplot at 0x7fcb95ff2e80>"
      ]
     },
     "execution_count": 17,
     "metadata": {},
     "output_type": "execute_result"
    },
    {
     "data": {
      "image/png": "[encoded data removed]",
      "text/plain": [
       "<matplotlib.figure.Figure at 0x7fcb954be4e0>"
      ]
     },
     "metadata": {},
     "output_type": "display_data"
    }
   ],
   "source": [
    "sns.distplot(g2g.min(0))"
   ]
  },
  {
   "cell_type": "markdown",
   "metadata": {},
   "source": [
    "### Identify all non-human-genes that have a non-zero Jaccard similarity with at least one of the FA human genes"
   ]
  },
  {
   "cell_type": "code",
   "execution_count": 18,
   "metadata": {},
   "outputs": [
    {
     "data": {
      "text/plain": [
       "array(['NCBIGene:60534', 'NCBIGene:211651', 'NCBIGene:14087',\n",
       "       'NCBIGene:104806', 'NCBIGene:14088', 'NCBIGene:12190'], \n",
       "      dtype='<U18')"
      ]
     },
     "execution_count": 18,
     "metadata": {},
     "output_type": "execute_result"
    }
   ],
   "source": [
    "np.array(non_human_genes)[g2g.min(0) > 0]"
   ]
  },
  {
   "cell_type": "markdown",
   "metadata": {},
   "source": [
    "## Step 5: Retrieve human orthologs of all non-human genes in this set"
   ]
  },
  {
   "cell_type": "code",
   "execution_count": 19,
   "metadata": {},
   "outputs": [],
   "source": [
    "nonhuman = list(np.array(non_human_genes)[g2g.min(0) > 0])"
   ]
  },
  {
   "cell_type": "code",
   "execution_count": 20,
   "metadata": {
    "collapsed": true
   },
   "outputs": [],
   "source": [
    "def query_nonhuman(gene_id):\n",
    "    \"\"\"Query Monarch to determine the human orthologs of a gene.\"\"\"\n",
    "    \n",
    "    url = \"https://api.monarchinitiative.org/api/bioentity/gene/{}/homologs/\".format(gene_id)\n",
    "    params = {\n",
    "        \"fetch_objects\": True,\n",
    "        \"rows\": 20,\n",
    "        \"homolog_taxon\": \"NCBITaxon:9606\" # humans\n",
    "    }\n",
    "    res = requests.get(url, params=params)\n",
    "    \n",
    "    return res.json()[\"objects\"]"
   ]
  },
  {
   "cell_type": "code",
   "execution_count": 21,
   "metadata": {},
   "outputs": [
    {
     "name": "stderr",
     "output_type": "stream",
     "text": [
      "100%|██████████| 6/6 [00:03<00:00,  1.89it/s]\n"
     ]
    }
   ],
   "source": [
    "orthologs = {\n",
    "    gene_id: query_nonhuman(gene_id)\n",
    "    for gene_id in tqdm(nonhuman)\n",
    "}"
   ]
  },
  {
   "cell_type": "code",
   "execution_count": 22,
   "metadata": {},
   "outputs": [
    {
     "data": {
      "text/plain": [
       "{'NCBIGene:104806': ['NCBIGene:57697'],\n",
       " 'NCBIGene:12190': ['NCBIGene:675'],\n",
       " 'NCBIGene:14087': ['NCBIGene:2175'],\n",
       " 'NCBIGene:14088': ['NCBIGene:2176'],\n",
       " 'NCBIGene:211651': ['NCBIGene:2177'],\n",
       " 'NCBIGene:60534': ['NCBIGene:2189']}"
      ]
     },
     "execution_count": 22,
     "metadata": {},
     "output_type": "execute_result"
    }
   ],
   "source": [
    "orthologs"
   ]
  },
  {
   "cell_type": "markdown",
   "metadata": {},
   "source": [
    "## Output: GeneSetQ7 (phenotypically similar human genes based on cross-species PhenoSim analysis)"
   ]
  },
  {
   "cell_type": "code",
   "execution_count": 23,
   "metadata": {
    "collapsed": true
   },
   "outputs": [],
   "source": [
    "final_genes = [\n",
    "    v[0]\n",
    "    for k, v in orthologs.items()\n",
    "]"
   ]
  },
  {
   "cell_type": "code",
   "execution_count": 24,
   "metadata": {},
   "outputs": [
    {
     "data": {
      "text/plain": [
       "['NCBIGene:2189',\n",
       " 'NCBIGene:2176',\n",
       " 'NCBIGene:2177',\n",
       " 'NCBIGene:2175',\n",
       " 'NCBIGene:675',\n",
       " 'NCBIGene:57697']"
      ]
     },
     "execution_count": 24,
     "metadata": {},
     "output_type": "execute_result"
    }
   ],
   "source": [
    "final_genes"
   ]
  }
 ],
 "metadata": {
  "kernelspec": {
   "display_name": "Python 3",
   "language": "python",
   "name": "python3"
  },
  "language_info": {
   "codemirror_mode": {
    "name": "ipython",
    "version": 3
   },
   "file_extension": ".py",
   "mimetype": "text/x-python",
   "name": "python",
   "nbconvert_exporter": "python",
   "pygments_lexer": "ipython3",
   "version": "3.5.3"
  }
 },
 "nbformat": 4,
 "nbformat_minor": 2
}
