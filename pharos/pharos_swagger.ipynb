{
 "cells": [
  {
   "cell_type": "markdown",
   "metadata": {},
   "source": [
    "# Goal\n",
    "\n",
    "Make a swagger api for pharos api."
   ]
  },
  {
   "cell_type": "markdown",
   "metadata": {},
   "source": [
    "id format:\n",
    "\n",
    "pharos + {target/ligand/disease/assay} + pharos original id"
   ]
  },
  {
   "cell_type": "code",
   "execution_count": 1,
   "metadata": {
    "collapsed": true
   },
   "outputs": [],
   "source": [
    "import requests\n",
    "import json"
   ]
  },
  {
   "cell_type": "code",
   "execution_count": 2,
   "metadata": {
    "collapsed": true
   },
   "outputs": [],
   "source": [
    "def query(endpoint, uid):\n",
    "    url = \"https://pharos.nih.gov/idg/api/v1/{}({})?view=full\".format(endpoint, uid)\n",
    "    \n",
    "    return requests.get(url).json()"
   ]
  },
  {
   "cell_type": "code",
   "execution_count": 3,
   "metadata": {},
   "outputs": [],
   "source": [
    "def concepts(conceptid):\n",
    "    \n",
    "    # parse into pharos id space\n",
    "    # pharos.{}:#\n",
    "    \n",
    "    def good_id(conceptid):\n",
    "        pref, num = conceptid.split(\":\")\n",
    "        \n",
    "        try:\n",
    "            val = int(num)\n",
    "        except:\n",
    "            return False\n",
    "        \n",
    "        return pref in {\n",
    "            \"pharos.target\",\n",
    "            \"pharos.ligand\",\n",
    "            \"pharos.disease\",\n",
    "            \"pharos.assay\"\n",
    "        }\n",
    "    \n",
    "    def get_endpoint(conceptid):\n",
    "        pref, num = conceptid.split(\":\")\n",
    "        \n",
    "        num = int(num)\n",
    "        pref = pref.split(\".\")[1] + \"s\"\n",
    "        return (pref, num)\n",
    "    \n",
    "    def parse_syns(synonym_list):\n",
    "        return [\n",
    "            val[\"term\"]\n",
    "            for val in synonym_list\n",
    "        ]\n",
    "            \n",
    "    \n",
    "    assert good_id(conceptid), \"Bad id\"\n",
    "    \n",
    "    # scrape from pharos\n",
    "    endpoint, uid = get_endpoint(conceptid)\n",
    "    resp = query(endpoint, uid)\n",
    "    \n",
    "    \n",
    "    \n",
    "    # data for the final json\n",
    "    data = {}\n",
    "    data[\"id\"] = conceptid\n",
    "    data[\"name\"] = resp[\"name\"]\n",
    "    data[\"definition\"] = resp[\"description\"]\n",
    "    data[\"semanticGroup\"] = endpoint[:-1]\n",
    "    \n",
    "    data[\"synonyms\"] = parse_syns(resp[\"synonyms\"])\n",
    "    \n",
    "    return data"
   ]
  },
  {
   "cell_type": "markdown",
   "metadata": {},
   "source": [
    "---"
   ]
  },
  {
   "cell_type": "code",
   "execution_count": 4,
   "metadata": {},
   "outputs": [
    {
     "data": {
      "text/plain": [
       "{'definition': None,\n",
       " 'id': 'pharos.disease:5',\n",
       " 'name': 'medulloblastoma, large-cell',\n",
       " 'semanticGroup': 'disease',\n",
       " 'synonyms': ['DOID:3857']}"
      ]
     },
     "execution_count": 4,
     "metadata": {},
     "output_type": "execute_result"
    }
   ],
   "source": [
    "concepts(\"pharos.disease:5\")"
   ]
  },
  {
   "cell_type": "code",
   "execution_count": 5,
   "metadata": {},
   "outputs": [
    {
     "data": {
      "text/plain": [
       "{'definition': 'Plays a role in apical endocytosis/recycling. May be implicated in transport between the plasma membrane and early endosomes. Plays a key role in eye and brain development and neurodegeneration.',\n",
       " 'id': 'pharos.target:14521',\n",
       " 'name': 'Ras-related protein Rab-18',\n",
       " 'semanticGroup': 'target',\n",
       " 'synonyms': ['1X3S',\n",
       "  'Q9NP72',\n",
       "  'ENSP00000349415',\n",
       "  'RAB18_HUMAN',\n",
       "  'RAB18',\n",
       "  '22931',\n",
       "  None,\n",
       "  'B3KMC7',\n",
       "  'B7Z333',\n",
       "  'D3DRW1',\n",
       "  'Q53FX8',\n",
       "  'Q56UN9',\n",
       "  'Q6FIH1',\n",
       "  'WARBM3',\n",
       "  'RAB18LI1',\n",
       "  'TCRD:13969',\n",
       "  '614222',\n",
       "  'AJ277145',\n",
       "  'AJ277146',\n",
       "  'AJ277147',\n",
       "  'AJ277148',\n",
       "  'AJ277149',\n",
       "  'AF137372',\n",
       "  'AY574034',\n",
       "  'AF087860',\n",
       "  'AF498950',\n",
       "  'AF136974',\n",
       "  'AL136734',\n",
       "  'BT009840',\n",
       "  'CR533455',\n",
       "  'AK001555',\n",
       "  'AK295443',\n",
       "  'AK223153',\n",
       "  'AL138920',\n",
       "  'CH471072',\n",
       "  'BC015014',\n",
       "  'BC029350',\n",
       "  'CCDS58073.1',\n",
       "  'CCDS7155.1',\n",
       "  'CCDS73081.1',\n",
       "  'NP_001243339.1',\n",
       "  'NP_001243340.1',\n",
       "  'NP_001243341.1',\n",
       "  'NP_001243344.1',\n",
       "  'NP_067075.1',\n",
       "  'Hs.406799',\n",
       "  '1X3S',\n",
       "  'Q9NP72',\n",
       "  'Q9NP72',\n",
       "  '116591',\n",
       "  'DIP-60514N',\n",
       "  'Q9NP72',\n",
       "  'MINT-5003598',\n",
       "  '9606.ENSP00000349415',\n",
       "  '12230528',\n",
       "  'Q9NP72',\n",
       "  'Q9NP72',\n",
       "  'Q9NP72',\n",
       "  '22931',\n",
       "  'ENST00000356940',\n",
       "  'ENSP00000349415',\n",
       "  'ENSG00000099246',\n",
       "  'ENST00000535776',\n",
       "  'ENSP00000439321',\n",
       "  'ENST00000621805',\n",
       "  'ENSP00000478479',\n",
       "  'hsa:22931',\n",
       "  'uc001itv.5',\n",
       "  '22931',\n",
       "  'RAB18',\n",
       "  'HGNC:14244',\n",
       "  'HPA025928',\n",
       "  '602207',\n",
       "  'NX_Q9NP72',\n",
       "  '2510',\n",
       "  'PA34106',\n",
       "  'KOG0080',\n",
       "  'ENOG410XPD0',\n",
       "  'HOG000233968',\n",
       "  'HBG009351',\n",
       "  'Q9NP72',\n",
       "  'K07910',\n",
       "  'RKIMETD',\n",
       "  'Q9NP72',\n",
       "  'TF313448',\n",
       "  'ZFISH:ENSG00000099246-MONOMER',\n",
       "  'R-HSA-6811436',\n",
       "  'RAB18',\n",
       "  'Q9NP72',\n",
       "  'RAB18',\n",
       "  '22931',\n",
       "  'PR:Q9NP72',\n",
       "  'UP000005640',\n",
       "  'ENSG00000099246',\n",
       "  'HS_RAB18',\n",
       "  'Q9NP72',\n",
       "  '3.40.50.300',\n",
       "  'IPR027417',\n",
       "  'IPR025662',\n",
       "  'IPR005225',\n",
       "  'IPR001806',\n",
       "  'PF00071',\n",
       "  'SSF52540',\n",
       "  'TIGR00231',\n",
       "  'PS51419',\n",
       "  '20379076',\n",
       "  '12239330',\n",
       "  '20809384',\n",
       "  '7531023',\n",
       "  '374081861',\n",
       "  '119606461',\n",
       "  '193786050',\n",
       "  '15929113',\n",
       "  '374081858',\n",
       "  '40031718',\n",
       "  '33150584',\n",
       "  '119606460',\n",
       "  '7381201',\n",
       "  '374081854',\n",
       "  '32880023',\n",
       "  '10880989',\n",
       "  '12052987',\n",
       "  '62897867',\n",
       "  '374081856',\n",
       "  '221040784',\n",
       "  '83753568',\n",
       "  '49065336',\n",
       "  '12230528',\n",
       "  '51599149',\n",
       "  'MGI:102790',\n",
       "  'UCSC',\n",
       "  'Rab18']}"
      ]
     },
     "execution_count": 5,
     "metadata": {},
     "output_type": "execute_result"
    }
   ],
   "source": [
    "concepts(\"pharos.target:14521\")"
   ]
  },
  {
   "cell_type": "code",
   "execution_count": 6,
   "metadata": {},
   "outputs": [
    {
     "data": {
      "text/plain": [
       "{'definition': None,\n",
       " 'id': 'pharos.ligand:2435',\n",
       " 'name': 'CHEMBL3677529',\n",
       " 'semanticGroup': 'ligand',\n",
       " 'synonyms': ['CHEMBL3677529']}"
      ]
     },
     "execution_count": 6,
     "metadata": {},
     "output_type": "execute_result"
    }
   ],
   "source": [
    "concepts(\"pharos.ligand:2435\")"
   ]
  },
  {
   "cell_type": "code",
   "execution_count": 7,
   "metadata": {},
   "outputs": [
    {
     "data": {
      "text/plain": [
       "{'definition': None,\n",
       " 'id': 'pharos.assay:281',\n",
       " 'name': 'Late-stage counterscreen panel assay for GPR7 antagonists: Ricerca HitProfilingScreen + CYP450',\n",
       " 'semanticGroup': 'assay',\n",
       " 'synonyms': []}"
      ]
     },
     "execution_count": 7,
     "metadata": {},
     "output_type": "execute_result"
    }
   ],
   "source": [
    "concepts(\"pharos.assay:281\")"
   ]
  },
  {
   "cell_type": "code",
   "execution_count": null,
   "metadata": {
    "collapsed": true
   },
   "outputs": [],
   "source": []
  }
 ],
 "metadata": {
  "kernelspec": {
   "display_name": "Python 3",
   "language": "python",
   "name": "python3"
  },
  "language_info": {
   "codemirror_mode": {
    "name": "ipython",
    "version": 3
   },
   "file_extension": ".py",
   "mimetype": "text/x-python",
   "name": "python",
   "nbconvert_exporter": "python",
   "pygments_lexer": "ipython3",
   "version": "3.5.3"
  }
 },
 "nbformat": 4,
 "nbformat_minor": 2
}
