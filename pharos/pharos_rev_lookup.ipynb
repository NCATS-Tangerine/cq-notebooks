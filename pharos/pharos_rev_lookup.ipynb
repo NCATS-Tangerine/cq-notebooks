{
 "cells": [
  {
   "cell_type": "markdown",
   "metadata": {},
   "source": [
    "# Goal\n",
    "\n",
    "Provide reverse lookup for the Pharos API."
   ]
  },
  {
   "cell_type": "code",
   "execution_count": 1,
   "metadata": {
    "collapsed": true
   },
   "outputs": [],
   "source": [
    "import requests"
   ]
  },
  {
   "cell_type": "code",
   "execution_count": 2,
   "metadata": {
    "collapsed": true
   },
   "outputs": [],
   "source": [
    "def lookup(concept_type, identifier):\n",
    "    def query():\n",
    "        url = \"https://pharos.nih.gov/idg/api/v1/{}?filter=synonyms.term=\\\"{}\\\"\".format(concept_type, identifier)\n",
    "\n",
    "        resp = requests.get(url)\n",
    "        return resp.json()\n",
    "        \n",
    "    assert concept_type in {\"targets\", \"diseases\", \"ligands\", \"assays\"}\n",
    "    \n",
    "    resp = query()\n",
    "    \n",
    "    # content is in resp[\"content\"]\n",
    "    return [\n",
    "        val[\"self\"]\n",
    "        for val in resp[\"content\"]\n",
    "    ]"
   ]
  },
  {
   "cell_type": "code",
   "execution_count": 3,
   "metadata": {},
   "outputs": [
    {
     "data": {
      "text/plain": [
       "['https://pharos.nih.gov/idg/api/v1/targets(2)?view=full']"
      ]
     },
     "execution_count": 3,
     "metadata": {},
     "output_type": "execute_result"
    }
   ],
   "source": [
    "lookup(\"targets\", \"HGNC:7121\")"
   ]
  },
  {
   "cell_type": "code",
   "execution_count": 4,
   "metadata": {},
   "outputs": [
    {
     "data": {
      "text/plain": [
       "['https://pharos.nih.gov/idg/api/v1/diseases(5)?view=full',\n",
       " 'https://pharos.nih.gov/idg/api/v1/diseases(9237)?view=full']"
      ]
     },
     "execution_count": 4,
     "metadata": {},
     "output_type": "execute_result"
    }
   ],
   "source": [
    "lookup(\"diseases\", \"DOID:3857\")"
   ]
  },
  {
   "cell_type": "markdown",
   "metadata": {},
   "source": [
    "---"
   ]
  },
  {
   "cell_type": "code",
   "execution_count": null,
   "metadata": {
    "collapsed": true
   },
   "outputs": [],
   "source": []
  }
 ],
 "metadata": {
  "kernelspec": {
   "display_name": "Python 3",
   "language": "python",
   "name": "python3"
  },
  "language_info": {
   "codemirror_mode": {
    "name": "ipython",
    "version": 3
   },
   "file_extension": ".py",
   "mimetype": "text/x-python",
   "name": "python",
   "nbconvert_exporter": "python",
   "pygments_lexer": "ipython3",
   "version": "3.5.3"
  }
 },
 "nbformat": 4,
 "nbformat_minor": 2
}
