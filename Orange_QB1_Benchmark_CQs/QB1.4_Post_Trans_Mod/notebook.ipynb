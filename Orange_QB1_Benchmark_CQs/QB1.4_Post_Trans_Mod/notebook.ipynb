{
 "cells": [
  {
   "cell_type": "markdown",
   "metadata": {},
   "source": [
    "## Uniprot Rest API"
   ]
  },
  {
   "cell_type": "code",
   "execution_count": 1,
   "metadata": {
    "collapsed": true
   },
   "outputs": [],
   "source": [
    "import requests\n",
    "\n",
    "accession = \"P51587\"\n",
    "url = \"https://www.ebi.ac.uk/proteins/api/features?offset=0&size=100&accession={}&categories=PTM\".format(accession)"
   ]
  },
  {
   "cell_type": "code",
   "execution_count": 2,
   "metadata": {
    "scrolled": true
   },
   "outputs": [
    {
     "data": {
      "text/plain": [
       "{'begin': '70',\n",
       " 'category': 'PTM',\n",
       " 'description': 'Phosphoserine',\n",
       " 'end': '70',\n",
       " 'evidences': [{'code': 'ECO:0000244',\n",
       "   'source': {'alternativeUrl': 'http://europepmc.org/abstract/MED/23186163',\n",
       "    'id': '23186163',\n",
       "    'name': 'PubMed',\n",
       "    'url': 'http://www.ncbi.nlm.nih.gov/pubmed/23186163'}}],\n",
       " 'type': 'MOD_RES'}"
      ]
     },
     "execution_count": 2,
     "metadata": {},
     "output_type": "execute_result"
    }
   ],
   "source": [
    "d = requests.get(url).json()[0]\n",
    "d['features'][0]"
   ]
  },
  {
   "cell_type": "markdown",
   "metadata": {
    "collapsed": true
   },
   "source": [
    "## Uniprot SPARQL Endpoint"
   ]
  },
  {
   "cell_type": "code",
   "execution_count": 2,
   "metadata": {
    "collapsed": true
   },
   "outputs": [],
   "source": [
    "import requests\n",
    "import pandas as pd\n",
    "pd.options.display.max_colwidth=100"
   ]
  },
  {
   "cell_type": "code",
   "execution_count": 36,
   "metadata": {
    "collapsed": true
   },
   "outputs": [],
   "source": [
    "def query_and_format_result(query):\n",
    "    params = {'query': query, 'format': 'json'}\n",
    "    response = requests.get('http://sparql.uniprot.org/sparql/', params=params)\n",
    "    d = response.json()\n",
    "    results = d['results']['bindings']\n",
    "    return pd.DataFrame([{k:v['value'] for k,v in item.items()} for item in results])"
   ]
  },
  {
   "cell_type": "code",
   "execution_count": 37,
   "metadata": {},
   "outputs": [],
   "source": [
    "query = \"\"\"PREFIX up:<http://purl.uniprot.org/core/> \n",
    "SELECT ?a ?comment ?begin_pos ?end_pos ?evidence ?source_purl WHERE { \n",
    "  <http://purl.uniprot.org/uniprot/P51587> ?p ?a .\n",
    "  ?a a up:Modified_Residue_Annotation .\n",
    "  ?a <http://purl.uniprot.org/core/range> ?range .\n",
    "  ?a <http://www.w3.org/2000/01/rdf-schema#comment> ?comment .\n",
    "  ?range <http://biohackathon.org/resource/faldo#begin> ?begin .\n",
    "  ?begin <http://biohackathon.org/resource/faldo#position> ?begin_pos .\n",
    "  ?range <http://biohackathon.org/resource/faldo#end> ?end .\n",
    "  ?end <http://biohackathon.org/resource/faldo#position> ?end_pos .\n",
    "  ?annotation_mapping <http://www.w3.org/1999/02/22-rdf-syntax-ns#object> ?a .\n",
    "  ?annotation_mapping <http://purl.uniprot.org/core/attribution> ?attribution .\n",
    "  ?attribution <http://purl.uniprot.org/core/evidence> ?evidence .\n",
    "  ?attribution <http://purl.uniprot.org/core/source> ?source .\n",
    "  ?source <http://www.w3.org/2004/02/skos/core#exactMatch> ?source_purl\n",
    "}\"\"\""
   ]
  },
  {
   "cell_type": "code",
   "execution_count": 38,
   "metadata": {},
   "outputs": [
    {
     "data": {
      "text/html": [
       "<div>\n",
       "<table border=\"1\" class=\"dataframe\">\n",
       "  <thead>\n",
       "    <tr style=\"text-align: right;\">\n",
       "      <th></th>\n",
       "      <th>a</th>\n",
       "      <th>begin_pos</th>\n",
       "      <th>comment</th>\n",
       "      <th>end_pos</th>\n",
       "      <th>evidence</th>\n",
       "      <th>source_purl</th>\n",
       "    </tr>\n",
       "  </thead>\n",
       "  <tbody>\n",
       "    <tr>\n",
       "      <th>0</th>\n",
       "      <td>http://purl.uniprot.org/uniprot/P51587#SIP30447287FCFFDCD7</td>\n",
       "      <td>3291</td>\n",
       "      <td>Phosphoserine; by CDK1 and CDK2</td>\n",
       "      <td>3291</td>\n",
       "      <td>http://purl.obolibrary.org/obo/ECO_0000269</td>\n",
       "      <td>http://purl.uniprot.org/pubmed/15800615</td>\n",
       "    </tr>\n",
       "    <tr>\n",
       "      <th>1</th>\n",
       "      <td>http://purl.uniprot.org/uniprot/P51587#SIPC5F4F2766958A3D4</td>\n",
       "      <td>3387</td>\n",
       "      <td>Phosphothreonine; by CHEK1 and CHEK2</td>\n",
       "      <td>3387</td>\n",
       "      <td>http://purl.obolibrary.org/obo/ECO_0000269</td>\n",
       "      <td>http://purl.uniprot.org/pubmed/18317453</td>\n",
       "    </tr>\n",
       "    <tr>\n",
       "      <th>2</th>\n",
       "      <td>http://purl.uniprot.org/uniprot/P51587#SIPEABAEB076B84FA7D</td>\n",
       "      <td>755</td>\n",
       "      <td>Phosphoserine</td>\n",
       "      <td>755</td>\n",
       "      <td>http://purl.obolibrary.org/obo/ECO_0000244</td>\n",
       "      <td>http://purl.uniprot.org/pubmed/17525332</td>\n",
       "    </tr>\n",
       "    <tr>\n",
       "      <th>3</th>\n",
       "      <td>http://purl.uniprot.org/uniprot/P51587#SIP79817CCD1C9106EA</td>\n",
       "      <td>1970</td>\n",
       "      <td>Phosphoserine</td>\n",
       "      <td>1970</td>\n",
       "      <td>http://purl.obolibrary.org/obo/ECO_0000244</td>\n",
       "      <td>http://purl.uniprot.org/pubmed/23186163</td>\n",
       "    </tr>\n",
       "    <tr>\n",
       "      <th>4</th>\n",
       "      <td>http://purl.uniprot.org/uniprot/P51587#SIP04CD137C06E493AF</td>\n",
       "      <td>445</td>\n",
       "      <td>Phosphoserine</td>\n",
       "      <td>445</td>\n",
       "      <td>http://purl.obolibrary.org/obo/ECO_0000244</td>\n",
       "      <td>http://purl.uniprot.org/pubmed/23186163</td>\n",
       "    </tr>\n",
       "    <tr>\n",
       "      <th>5</th>\n",
       "      <td>http://purl.uniprot.org/uniprot/P51587#SIP63612A266DAA26DB</td>\n",
       "      <td>2095</td>\n",
       "      <td>Phosphoserine</td>\n",
       "      <td>2095</td>\n",
       "      <td>http://purl.obolibrary.org/obo/ECO_0000244</td>\n",
       "      <td>http://purl.uniprot.org/pubmed/23186163</td>\n",
       "    </tr>\n",
       "    <tr>\n",
       "      <th>6</th>\n",
       "      <td>http://purl.uniprot.org/uniprot/P51587#SIP6C46E933111E02AD</td>\n",
       "      <td>70</td>\n",
       "      <td>Phosphoserine</td>\n",
       "      <td>70</td>\n",
       "      <td>http://purl.obolibrary.org/obo/ECO_0000244</td>\n",
       "      <td>http://purl.uniprot.org/pubmed/23186163</td>\n",
       "    </tr>\n",
       "    <tr>\n",
       "      <th>7</th>\n",
       "      <td>http://purl.uniprot.org/uniprot/P51587#SIPEC571D5000857528</td>\n",
       "      <td>3319</td>\n",
       "      <td>Phosphoserine</td>\n",
       "      <td>3319</td>\n",
       "      <td>http://purl.obolibrary.org/obo/ECO_0000244</td>\n",
       "      <td>http://purl.uniprot.org/pubmed/23186163</td>\n",
       "    </tr>\n",
       "    <tr>\n",
       "      <th>8</th>\n",
       "      <td>http://purl.uniprot.org/uniprot/P51587#SIP7454ACDC643F5245</td>\n",
       "      <td>2035</td>\n",
       "      <td>Phosphothreonine</td>\n",
       "      <td>2035</td>\n",
       "      <td>http://purl.obolibrary.org/obo/ECO_0000244</td>\n",
       "      <td>http://purl.uniprot.org/pubmed/23186163</td>\n",
       "    </tr>\n",
       "    <tr>\n",
       "      <th>9</th>\n",
       "      <td>http://purl.uniprot.org/uniprot/P51587#SIP9809970D1E81AE22</td>\n",
       "      <td>492</td>\n",
       "      <td>Phosphoserine</td>\n",
       "      <td>492</td>\n",
       "      <td>http://purl.obolibrary.org/obo/ECO_0000244</td>\n",
       "      <td>http://purl.uniprot.org/pubmed/23186163</td>\n",
       "    </tr>\n",
       "  </tbody>\n",
       "</table>\n",
       "</div>"
      ],
      "text/plain": [
       "                                                            a begin_pos  \\\n",
       "0  http://purl.uniprot.org/uniprot/P51587#SIP30447287FCFFDCD7      3291   \n",
       "1  http://purl.uniprot.org/uniprot/P51587#SIPC5F4F2766958A3D4      3387   \n",
       "2  http://purl.uniprot.org/uniprot/P51587#SIPEABAEB076B84FA7D       755   \n",
       "3  http://purl.uniprot.org/uniprot/P51587#SIP79817CCD1C9106EA      1970   \n",
       "4  http://purl.uniprot.org/uniprot/P51587#SIP04CD137C06E493AF       445   \n",
       "5  http://purl.uniprot.org/uniprot/P51587#SIP63612A266DAA26DB      2095   \n",
       "6  http://purl.uniprot.org/uniprot/P51587#SIP6C46E933111E02AD        70   \n",
       "7  http://purl.uniprot.org/uniprot/P51587#SIPEC571D5000857528      3319   \n",
       "8  http://purl.uniprot.org/uniprot/P51587#SIP7454ACDC643F5245      2035   \n",
       "9  http://purl.uniprot.org/uniprot/P51587#SIP9809970D1E81AE22       492   \n",
       "\n",
       "                                comment end_pos  \\\n",
       "0       Phosphoserine; by CDK1 and CDK2    3291   \n",
       "1  Phosphothreonine; by CHEK1 and CHEK2    3387   \n",
       "2                         Phosphoserine     755   \n",
       "3                         Phosphoserine    1970   \n",
       "4                         Phosphoserine     445   \n",
       "5                         Phosphoserine    2095   \n",
       "6                         Phosphoserine      70   \n",
       "7                         Phosphoserine    3319   \n",
       "8                      Phosphothreonine    2035   \n",
       "9                         Phosphoserine     492   \n",
       "\n",
       "                                     evidence  \\\n",
       "0  http://purl.obolibrary.org/obo/ECO_0000269   \n",
       "1  http://purl.obolibrary.org/obo/ECO_0000269   \n",
       "2  http://purl.obolibrary.org/obo/ECO_0000244   \n",
       "3  http://purl.obolibrary.org/obo/ECO_0000244   \n",
       "4  http://purl.obolibrary.org/obo/ECO_0000244   \n",
       "5  http://purl.obolibrary.org/obo/ECO_0000244   \n",
       "6  http://purl.obolibrary.org/obo/ECO_0000244   \n",
       "7  http://purl.obolibrary.org/obo/ECO_0000244   \n",
       "8  http://purl.obolibrary.org/obo/ECO_0000244   \n",
       "9  http://purl.obolibrary.org/obo/ECO_0000244   \n",
       "\n",
       "                               source_purl  \n",
       "0  http://purl.uniprot.org/pubmed/15800615  \n",
       "1  http://purl.uniprot.org/pubmed/18317453  \n",
       "2  http://purl.uniprot.org/pubmed/17525332  \n",
       "3  http://purl.uniprot.org/pubmed/23186163  \n",
       "4  http://purl.uniprot.org/pubmed/23186163  \n",
       "5  http://purl.uniprot.org/pubmed/23186163  \n",
       "6  http://purl.uniprot.org/pubmed/23186163  \n",
       "7  http://purl.uniprot.org/pubmed/23186163  \n",
       "8  http://purl.uniprot.org/pubmed/23186163  \n",
       "9  http://purl.uniprot.org/pubmed/23186163  "
      ]
     },
     "execution_count": 38,
     "metadata": {},
     "output_type": "execute_result"
    }
   ],
   "source": [
    "query_and_format_result(query)"
   ]
  },
  {
   "cell_type": "code",
   "execution_count": null,
   "metadata": {
    "collapsed": true
   },
   "outputs": [],
   "source": []
  },
  {
   "cell_type": "code",
   "execution_count": null,
   "metadata": {
    "collapsed": true
   },
   "outputs": [],
   "source": []
  }
 ],
 "metadata": {
  "kernelspec": {
   "display_name": "Python 3",
   "language": "python",
   "name": "python3"
  },
  "language_info": {
   "codemirror_mode": {
    "name": "ipython",
    "version": 3
   },
   "file_extension": ".py",
   "mimetype": "text/x-python",
   "name": "python",
   "nbconvert_exporter": "python",
   "pygments_lexer": "ipython3",
   "version": "3.5.2"
  }
 },
 "nbformat": 4,
 "nbformat_minor": 2
}
