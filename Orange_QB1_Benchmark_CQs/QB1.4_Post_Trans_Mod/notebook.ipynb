{
 "cells": [
  {
   "cell_type": "markdown",
   "metadata": {},
   "source": [
    "## Uniprot"
   ]
  },
  {
   "cell_type": "code",
   "execution_count": 2,
   "metadata": {
    "collapsed": true
   },
   "outputs": [],
   "source": [
    "import requests\n",
    "\n",
    "accession = \"P51587\"\n",
    "url = \"https://www.ebi.ac.uk/proteins/api/features?offset=0&size=100&accession={}&categories=PTM\".format(accession)"
   ]
  },
  {
   "cell_type": "code",
   "execution_count": 5,
   "metadata": {
    "collapsed": false
   },
   "outputs": [
    {
     "data": {
      "text/plain": [
       "[{'begin': '70',\n",
       "  'category': 'PTM',\n",
       "  'description': 'Phosphoserine',\n",
       "  'end': '70',\n",
       "  'evidences': [{'code': 'ECO:0000244',\n",
       "    'source': {'alternativeUrl': 'http://europepmc.org/abstract/MED/23186163',\n",
       "     'id': '23186163',\n",
       "     'name': 'PubMed',\n",
       "     'url': 'http://www.ncbi.nlm.nih.gov/pubmed/23186163'}}],\n",
       "  'type': 'MOD_RES'},\n",
       " {'begin': '445',\n",
       "  'category': 'PTM',\n",
       "  'description': 'Phosphoserine',\n",
       "  'end': '445',\n",
       "  'evidences': [{'code': 'ECO:0000244',\n",
       "    'source': {'alternativeUrl': 'http://europepmc.org/abstract/MED/23186163',\n",
       "     'id': '23186163',\n",
       "     'name': 'PubMed',\n",
       "     'url': 'http://www.ncbi.nlm.nih.gov/pubmed/23186163'}}],\n",
       "  'type': 'MOD_RES'},\n",
       " {'begin': '492',\n",
       "  'category': 'PTM',\n",
       "  'description': 'Phosphoserine',\n",
       "  'end': '492',\n",
       "  'evidences': [{'code': 'ECO:0000244',\n",
       "    'source': {'alternativeUrl': 'http://europepmc.org/abstract/MED/23186163',\n",
       "     'id': '23186163',\n",
       "     'name': 'PubMed',\n",
       "     'url': 'http://www.ncbi.nlm.nih.gov/pubmed/23186163'}}],\n",
       "  'type': 'MOD_RES'},\n",
       " {'begin': '755',\n",
       "  'category': 'PTM',\n",
       "  'description': 'Phosphoserine',\n",
       "  'end': '755',\n",
       "  'evidences': [{'code': 'ECO:0000244',\n",
       "    'source': {'alternativeUrl': 'http://europepmc.org/abstract/MED/17525332',\n",
       "     'id': '17525332',\n",
       "     'name': 'PubMed',\n",
       "     'url': 'http://www.ncbi.nlm.nih.gov/pubmed/17525332'}}],\n",
       "  'type': 'MOD_RES'},\n",
       " {'begin': '1970',\n",
       "  'category': 'PTM',\n",
       "  'description': 'Phosphoserine',\n",
       "  'end': '1970',\n",
       "  'evidences': [{'code': 'ECO:0000244',\n",
       "    'source': {'alternativeUrl': 'http://europepmc.org/abstract/MED/23186163',\n",
       "     'id': '23186163',\n",
       "     'name': 'PubMed',\n",
       "     'url': 'http://www.ncbi.nlm.nih.gov/pubmed/23186163'}}],\n",
       "  'type': 'MOD_RES'},\n",
       " {'begin': '2035',\n",
       "  'category': 'PTM',\n",
       "  'description': 'Phosphothreonine',\n",
       "  'end': '2035',\n",
       "  'evidences': [{'code': 'ECO:0000244',\n",
       "    'source': {'alternativeUrl': 'http://europepmc.org/abstract/MED/23186163',\n",
       "     'id': '23186163',\n",
       "     'name': 'PubMed',\n",
       "     'url': 'http://www.ncbi.nlm.nih.gov/pubmed/23186163'}}],\n",
       "  'type': 'MOD_RES'},\n",
       " {'begin': '2095',\n",
       "  'category': 'PTM',\n",
       "  'description': 'Phosphoserine',\n",
       "  'end': '2095',\n",
       "  'evidences': [{'code': 'ECO:0000244',\n",
       "    'source': {'alternativeUrl': 'http://europepmc.org/abstract/MED/23186163',\n",
       "     'id': '23186163',\n",
       "     'name': 'PubMed',\n",
       "     'url': 'http://www.ncbi.nlm.nih.gov/pubmed/23186163'}}],\n",
       "  'type': 'MOD_RES'},\n",
       " {'begin': '3291',\n",
       "  'category': 'PTM',\n",
       "  'description': 'Phosphoserine; by CDK1 and CDK2',\n",
       "  'end': '3291',\n",
       "  'evidences': [{'code': 'ECO:0000269',\n",
       "    'source': {'alternativeUrl': 'http://europepmc.org/abstract/MED/15800615',\n",
       "     'id': '15800615',\n",
       "     'name': 'PubMed',\n",
       "     'url': 'http://www.ncbi.nlm.nih.gov/pubmed/15800615'}}],\n",
       "  'type': 'MOD_RES'},\n",
       " {'begin': '3319',\n",
       "  'category': 'PTM',\n",
       "  'description': 'Phosphoserine',\n",
       "  'end': '3319',\n",
       "  'evidences': [{'code': 'ECO:0000244',\n",
       "    'source': {'alternativeUrl': 'http://europepmc.org/abstract/MED/23186163',\n",
       "     'id': '23186163',\n",
       "     'name': 'PubMed',\n",
       "     'url': 'http://www.ncbi.nlm.nih.gov/pubmed/23186163'}}],\n",
       "  'type': 'MOD_RES'},\n",
       " {'begin': '3387',\n",
       "  'category': 'PTM',\n",
       "  'description': 'Phosphothreonine; by CHEK1 and CHEK2',\n",
       "  'end': '3387',\n",
       "  'evidences': [{'code': 'ECO:0000269',\n",
       "    'source': {'alternativeUrl': 'http://europepmc.org/abstract/MED/18317453',\n",
       "     'id': '18317453',\n",
       "     'name': 'PubMed',\n",
       "     'url': 'http://www.ncbi.nlm.nih.gov/pubmed/18317453'}}],\n",
       "  'type': 'MOD_RES'}]"
      ]
     },
     "execution_count": 5,
     "metadata": {},
     "output_type": "execute_result"
    }
   ],
   "source": [
    "d = requests.get(url).json()[0]\n",
    "d['features']"
   ]
  }
 ],
 "metadata": {
  "kernelspec": {
   "display_name": "Python 3",
   "language": "python",
   "name": "python3"
  },
  "language_info": {
   "codemirror_mode": {
    "name": "ipython",
    "version": 3
   },
   "file_extension": ".py",
   "mimetype": "text/x-python",
   "name": "python",
   "nbconvert_exporter": "python",
   "pygments_lexer": "ipython3",
   "version": "3.5.2"
  }
 },
 "nbformat": 4,
 "nbformat_minor": 2
}
