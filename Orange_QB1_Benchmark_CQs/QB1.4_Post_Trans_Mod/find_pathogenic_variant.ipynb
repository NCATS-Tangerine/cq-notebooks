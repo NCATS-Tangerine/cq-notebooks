{
 "cells": [
  {
   "cell_type": "code",
   "execution_count": 1,
   "metadata": {
    "collapsed": true
   },
   "outputs": [],
   "source": [
    "# import biothings client\n",
    "import biothings_client\n",
    "mv = biothings_client.get_client('variant')"
   ]
  },
  {
   "cell_type": "code",
   "execution_count": 7,
   "metadata": {
    "collapsed": false
   },
   "outputs": [],
   "source": [
    "# QUERY CLINVAR FOR ALL pathogenic variants for a specific gene symbol\n",
    "def find_pathogenic_variant(genesymbol):\n",
    "    result = mv.query(\"clinvar.gene.symbol:\" + genesymbol + \" AND clinvar.rcv.clinical_significance:pathogenic\", fields='_id', fetch_all=True)\n",
    "    hgvs_ids = [_item['_id'] for _item in result]\n",
    "    if hgvs_ids:\n",
    "        return hgvs_ids\n"
   ]
  },
  {
   "cell_type": "code",
   "execution_count": 8,
   "metadata": {
    "collapsed": false
   },
   "outputs": [
    {
     "name": "stdout",
     "output_type": "stream",
     "text": [
      "Fetching 6 variant(s) . . .\n",
      "No results to return\n"
     ]
    },
    {
     "data": {
      "text/plain": [
       "['chr2:(?_136803050)_(143602728_?)dup',\n",
       " 'chr2:g.136872471C>A',\n",
       " 'chr2:g.136872481_136872482del',\n",
       " 'chr2:g.136872485G>C',\n",
       " 'chr2:g.136872498G>A',\n",
       " 'chr2:g.136872495C>T']"
      ]
     },
     "execution_count": 8,
     "metadata": {},
     "output_type": "execute_result"
    }
   ],
   "source": [
    "# using CXCR4 as an example\n",
    "find_pathogenic_variant('CXCR4')"
   ]
  }
 ],
 "metadata": {
  "kernelspec": {
   "display_name": "Python 3",
   "language": "python",
   "name": "python3"
  },
  "language_info": {
   "codemirror_mode": {
    "name": "ipython",
    "version": 3
   },
   "file_extension": ".py",
   "mimetype": "text/x-python",
   "name": "python",
   "nbconvert_exporter": "python",
   "pygments_lexer": "ipython3",
   "version": "3.5.0"
  }
 },
 "nbformat": 4,
 "nbformat_minor": 2
}
