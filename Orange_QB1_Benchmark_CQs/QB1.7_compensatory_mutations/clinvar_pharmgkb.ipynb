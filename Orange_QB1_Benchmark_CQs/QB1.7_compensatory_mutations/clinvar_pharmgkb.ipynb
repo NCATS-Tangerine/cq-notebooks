{
 "cells": [
  {
   "cell_type": "code",
   "execution_count": 1,
   "metadata": {
    "collapsed": true
   },
   "outputs": [],
   "source": [
    "## Clinvar, pharmgkb, chebi"
   ]
  },
  {
   "cell_type": "markdown",
   "metadata": {},
   "source": [
    "## Load FA genes"
   ]
  },
  {
   "cell_type": "code",
   "execution_count": 32,
   "metadata": {
    "collapsed": false
   },
   "outputs": [
    {
     "name": "stdout",
     "output_type": "stream",
     "text": [
      "['FANCA', 'FANCB', 'FANCC', 'FANCE', 'FANCF', 'FANCG', 'FANCL', 'FANCM', 'FANCD2', 'FANCI', 'UBE2T', 'BRCA2', 'BRIP1', 'PALB2', 'RAD51C', 'SLX4', 'ERCC4', 'RAD51', 'BRCA1', 'MAD2L2', 'XRCC2', 'RFWD3', 'FAAP100', 'FAAP24', 'FAAP20', 'CENPS', 'CENPX']\n"
     ]
    }
   ],
   "source": [
    "url = \"https://raw.githubusercontent.com/NCATS-Tangerine/cq-notebooks/master/FA_gene_sets/FA_4_all_genes.txt\"\n",
    "fa_genes = list(pd.DataFrame.from_csv(url, sep=\"\\t\", header=None)[1])\n",
    "print(fa_genes)"
   ]
  },
  {
   "cell_type": "markdown",
   "metadata": {},
   "source": [
    "## Use Chebi to get a list of all neoplastic agents\n",
    "### https://www.ebi.ac.uk/chebi/searchId.do?chebiId=CHEBI%3A35610"
   ]
  },
  {
   "cell_type": "code",
   "execution_count": 35,
   "metadata": {
    "collapsed": true
   },
   "outputs": [],
   "source": [
    "import requests\n",
    "from tqdm import tqdm\n",
    "from itertools import chain"
   ]
  },
  {
   "cell_type": "code",
   "execution_count": 3,
   "metadata": {
    "collapsed": true
   },
   "outputs": [],
   "source": [
    "d = requests.get(\"https://www.ebi.ac.uk/ols/api/ontologies/chebi/terms/http%253A%252F%252Fpurl.obolibrary.org%252Fobo%252FCHEBI_35610/graph\").json()"
   ]
  },
  {
   "cell_type": "code",
   "execution_count": 4,
   "metadata": {
    "collapsed": false
   },
   "outputs": [
    {
     "name": "stdout",
     "output_type": "stream",
     "text": [
      "['http://purl.obolibrary.org/obo/CHEBI_73716', 'http://purl.obolibrary.org/obo/CHEBI_34154', 'http://purl.obolibrary.org/obo/CHEBI_73512']\n",
      "198\n"
     ]
    }
   ],
   "source": [
    "chebi_drugs = [x['source'] for x in d['edges'] if x['label'] == \"has role\"]\n",
    "print(chebi_drugs[:3])\n",
    "print(len(chebi_drugs))"
   ]
  },
  {
   "cell_type": "code",
   "execution_count": 5,
   "metadata": {
    "collapsed": true
   },
   "outputs": [],
   "source": [
    "def get_chebi_synonyms(iri):\n",
    "    # get the label and synonyms from chebi\n",
    "    url = \"https://www.ebi.ac.uk/ols/api/ontologies/chebi/terms?iri={}\"\n",
    "    d = requests.get(url.format(iri)).json()['_embedded']['terms'][0]\n",
    "    try:\n",
    "        s = set([d['label']]) | set(d['synonyms'])\n",
    "        return set(list(map(str.lower, s)))\n",
    "    except Exception:\n",
    "        return set([d['label'].lower()])"
   ]
  },
  {
   "cell_type": "code",
   "execution_count": 6,
   "metadata": {
    "collapsed": false
   },
   "outputs": [
    {
     "name": "stderr",
     "output_type": "stream",
     "text": [
      "100%|██████████| 198/198 [03:02<00:00,  1.19it/s]\n"
     ]
    }
   ],
   "source": [
    "chebi_names = {chebi: get_chebi_synonyms(chebi) for chebi in tqdm(chebi_drugs)}"
   ]
  },
  {
   "cell_type": "code",
   "execution_count": 43,
   "metadata": {
    "collapsed": false,
    "scrolled": true
   },
   "outputs": [
    {
     "name": "stdout",
     "output_type": "stream",
     "text": [
      "['9h-purine-2,6-diamine', 'pierreione b', '(sp-4-2)-diamminedichloroplatinum', '(3r,4e,15z,26e,28r)-triaconta-4,15,26-triene-1,29-diyne-3,28-diol', '(1s,3s)-3,5,12-trihydroxy-3-(hydroxyacetyl)-10-methoxy-6,11-dioxo-1,2,3,4,6,11-hexahydrotetracen-1-yl 3-amino-2,3,6-trideoxy-alpha-l-arabino-hexopyranoside', '8-[(2-chloro-3,4,5-trimethoxyphenyl)methyl]-2-fluoro-9-(pent-4-yn-1-yl)-9h-purin-6-amine', 'daidzein', 'ttt-3002', '(4r,7r,10s,13s,15e,17r,19s)-7-[(2,6-dibromo-1h-indol-3-yl)methyl]-4-(4-hydroxyphenyl)-8,10,13,15,17,19-hexamethyl-1-oxa-5,8,11-triazacyclononadec-15-ene-2,6,9,12-tetrone', 'azelaic acid']\n",
      "392\n"
     ]
    }
   ],
   "source": [
    "chemo_drugs = set(list(chain(*chebi_names.values())))\n",
    "print(list(chemo_drugs)[:10])\n",
    "print(len(chemo_drugs))"
   ]
  },
  {
   "cell_type": "markdown",
   "metadata": {},
   "source": [
    "## PharmGKB\n",
    "contains Clinical Variant Data  \n",
    "Cannot download full information (details, references) without a licensing agreement  \n",
    "\n",
    "https://www.pharmgkb.org/downloads \n",
    "https://s3.pgkb.org/data/clinicalVariants.zip"
   ]
  },
  {
   "cell_type": "code",
   "execution_count": 44,
   "metadata": {
    "collapsed": false
   },
   "outputs": [
    {
     "data": {
      "text/html": [
       "<div>\n",
       "<table border=\"1\" class=\"dataframe\">\n",
       "  <thead>\n",
       "    <tr style=\"text-align: right;\">\n",
       "      <th></th>\n",
       "      <th>variant</th>\n",
       "      <th>gene</th>\n",
       "      <th>type</th>\n",
       "      <th>level of evidence</th>\n",
       "      <th>chemicals</th>\n",
       "      <th>diseases</th>\n",
       "      <th>url</th>\n",
       "    </tr>\n",
       "  </thead>\n",
       "  <tbody>\n",
       "    <tr>\n",
       "      <th>0</th>\n",
       "      <td>rs121908755</td>\n",
       "      <td>CFTR</td>\n",
       "      <td>Efficacy</td>\n",
       "      <td>1A</td>\n",
       "      <td>ivacaftor</td>\n",
       "      <td>Cystic Fibrosis</td>\n",
       "      <td>https://www.pharmgkb.org/rsid/rs121908755</td>\n",
       "    </tr>\n",
       "    <tr>\n",
       "      <th>1</th>\n",
       "      <td>rs80282562</td>\n",
       "      <td>CFTR</td>\n",
       "      <td>Efficacy</td>\n",
       "      <td>1A</td>\n",
       "      <td>ivacaftor</td>\n",
       "      <td>Cystic Fibrosis</td>\n",
       "      <td>https://www.pharmgkb.org/rsid/rs80282562</td>\n",
       "    </tr>\n",
       "    <tr>\n",
       "      <th>2</th>\n",
       "      <td>rs121908757</td>\n",
       "      <td>CFTR</td>\n",
       "      <td>Efficacy</td>\n",
       "      <td>1A</td>\n",
       "      <td>ivacaftor</td>\n",
       "      <td>Cystic Fibrosis</td>\n",
       "      <td>https://www.pharmgkb.org/rsid/rs121908757</td>\n",
       "    </tr>\n",
       "    <tr>\n",
       "      <th>3</th>\n",
       "      <td>rs121909005</td>\n",
       "      <td>CFTR</td>\n",
       "      <td>Efficacy</td>\n",
       "      <td>1A</td>\n",
       "      <td>ivacaftor</td>\n",
       "      <td>Cystic Fibrosis</td>\n",
       "      <td>https://www.pharmgkb.org/rsid/rs121909005</td>\n",
       "    </tr>\n",
       "    <tr>\n",
       "      <th>4</th>\n",
       "      <td>rs121909013</td>\n",
       "      <td>CFTR</td>\n",
       "      <td>Efficacy</td>\n",
       "      <td>1A</td>\n",
       "      <td>ivacaftor</td>\n",
       "      <td>Cystic Fibrosis</td>\n",
       "      <td>https://www.pharmgkb.org/rsid/rs121909013</td>\n",
       "    </tr>\n",
       "  </tbody>\n",
       "</table>\n",
       "</div>"
      ],
      "text/plain": [
       "       variant  gene      type level of evidence  chemicals         diseases  \\\n",
       "0  rs121908755  CFTR  Efficacy                1A  ivacaftor  Cystic Fibrosis   \n",
       "1   rs80282562  CFTR  Efficacy                1A  ivacaftor  Cystic Fibrosis   \n",
       "2  rs121908757  CFTR  Efficacy                1A  ivacaftor  Cystic Fibrosis   \n",
       "3  rs121909005  CFTR  Efficacy                1A  ivacaftor  Cystic Fibrosis   \n",
       "4  rs121909013  CFTR  Efficacy                1A  ivacaftor  Cystic Fibrosis   \n",
       "\n",
       "                                         url  \n",
       "0  https://www.pharmgkb.org/rsid/rs121908755  \n",
       "1   https://www.pharmgkb.org/rsid/rs80282562  \n",
       "2  https://www.pharmgkb.org/rsid/rs121908757  \n",
       "3  https://www.pharmgkb.org/rsid/rs121909005  \n",
       "4  https://www.pharmgkb.org/rsid/rs121909013  "
      ]
     },
     "execution_count": 44,
     "metadata": {},
     "output_type": "execute_result"
    }
   ],
   "source": [
    "import pandas as pd\n",
    "ph = pd.read_csv(\"clinicalVariants.tsv\", sep=\"\\t\")\n",
    "ph['url'] = ph.variant.map(lambda x: \"https://www.pharmgkb.org/rsid/\" + x)\n",
    "ph.head()"
   ]
  },
  {
   "cell_type": "code",
   "execution_count": 45,
   "metadata": {
    "collapsed": false
   },
   "outputs": [
    {
     "data": {
      "text/html": [
       "<div>\n",
       "<table border=\"1\" class=\"dataframe\">\n",
       "  <thead>\n",
       "    <tr style=\"text-align: right;\">\n",
       "      <th></th>\n",
       "      <th>variant</th>\n",
       "      <th>gene</th>\n",
       "      <th>type</th>\n",
       "      <th>level of evidence</th>\n",
       "      <th>chemicals</th>\n",
       "      <th>diseases</th>\n",
       "      <th>url</th>\n",
       "    </tr>\n",
       "  </thead>\n",
       "  <tbody>\n",
       "    <tr>\n",
       "      <th>1348</th>\n",
       "      <td>rs1799801</td>\n",
       "      <td>ERCC4</td>\n",
       "      <td>Efficacy</td>\n",
       "      <td>3</td>\n",
       "      <td>Platinum compounds</td>\n",
       "      <td>Carcinoma, Non-Small-Cell Lung</td>\n",
       "      <td>https://www.pharmgkb.org/rsid/rs1799801</td>\n",
       "    </tr>\n",
       "  </tbody>\n",
       "</table>\n",
       "</div>"
      ],
      "text/plain": [
       "        variant   gene      type level of evidence           chemicals  \\\n",
       "1348  rs1799801  ERCC4  Efficacy                 3  Platinum compounds   \n",
       "\n",
       "                            diseases                                      url  \n",
       "1348  Carcinoma, Non-Small-Cell Lung  https://www.pharmgkb.org/rsid/rs1799801  "
      ]
     },
     "execution_count": 45,
     "metadata": {},
     "output_type": "execute_result"
    }
   ],
   "source": [
    "# filter to include only FA genes\n",
    "ph[ph.gene.isin(fa_genes)]"
   ]
  },
  {
   "cell_type": "code",
   "execution_count": 46,
   "metadata": {
    "collapsed": true
   },
   "outputs": [],
   "source": [
    "# https://www.pharmgkb.org/variant/PA166155016/clinicalAnnotation/1444666608"
   ]
  },
  {
   "cell_type": "markdown",
   "metadata": {},
   "source": [
    "## Clinvar"
   ]
  },
  {
   "cell_type": "code",
   "execution_count": 49,
   "metadata": {
    "collapsed": true
   },
   "outputs": [],
   "source": [
    "# Download is an xml that I don't want to parse. I found someone who already did that here:\n",
    "# https://github.com/macarthur-lab/clinvar/blob/master/output/b38/single/clinvar_alleles.single.b38.tsv.gz"
   ]
  },
  {
   "cell_type": "code",
   "execution_count": 190,
   "metadata": {
    "collapsed": false
   },
   "outputs": [],
   "source": [
    "pd.set_option('display.max_columns', None)\n",
    "pd.options.display.max_colwidth = 999"
   ]
  },
  {
   "cell_type": "code",
   "execution_count": 191,
   "metadata": {
    "collapsed": false
   },
   "outputs": [
    {
     "name": "stdout",
     "output_type": "stream",
     "text": [
      "293882\n"
     ]
    }
   ],
   "source": [
    "clinvar = pd.read_csv(\"clinvar_alleles.single.b38.tsv\", sep='\\t', low_memory=False)\n",
    "print(len(clinvar))"
   ]
  },
  {
   "cell_type": "code",
   "execution_count": 192,
   "metadata": {
    "collapsed": false
   },
   "outputs": [
    {
     "data": {
      "text/plain": [
       "55373    drug response\n",
       "Name: clinical_significance, dtype: object"
      ]
     },
     "execution_count": 192,
     "metadata": {},
     "output_type": "execute_result"
    }
   ],
   "source": [
    "# example trait. not structured at all....\n",
    "clinvar[clinvar.hgvs_c == \"NM_004628.4:c.2815C>A\"].clinical_significance"
   ]
  },
  {
   "cell_type": "code",
   "execution_count": 193,
   "metadata": {
    "collapsed": false
   },
   "outputs": [
    {
     "data": {
      "text/html": [
       "<div>\n",
       "<table border=\"1\" class=\"dataframe\">\n",
       "  <thead>\n",
       "    <tr style=\"text-align: right;\">\n",
       "      <th></th>\n",
       "      <th>chrom</th>\n",
       "      <th>pos</th>\n",
       "      <th>ref</th>\n",
       "      <th>alt</th>\n",
       "      <th>start</th>\n",
       "      <th>stop</th>\n",
       "      <th>strand</th>\n",
       "      <th>variation_type</th>\n",
       "      <th>variation_id</th>\n",
       "      <th>rcv</th>\n",
       "      <th>scv</th>\n",
       "      <th>allele_id</th>\n",
       "      <th>symbol</th>\n",
       "      <th>hgvs_c</th>\n",
       "      <th>hgvs_p</th>\n",
       "      <th>molecular_consequence</th>\n",
       "      <th>clinical_significance</th>\n",
       "      <th>clinical_significance_ordered</th>\n",
       "      <th>pathogenic</th>\n",
       "      <th>likely_pathogenic</th>\n",
       "      <th>uncertain_significance</th>\n",
       "      <th>likely_benign</th>\n",
       "      <th>benign</th>\n",
       "      <th>review_status</th>\n",
       "      <th>review_status_ordered</th>\n",
       "      <th>last_evaluated</th>\n",
       "      <th>all_submitters</th>\n",
       "      <th>submitters_ordered</th>\n",
       "      <th>all_traits</th>\n",
       "      <th>all_pmids</th>\n",
       "      <th>inheritance_modes</th>\n",
       "      <th>age_of_onset</th>\n",
       "      <th>prevalence</th>\n",
       "      <th>disease_mechanism</th>\n",
       "      <th>origin</th>\n",
       "      <th>xrefs</th>\n",
       "      <th>dates_ordered</th>\n",
       "      <th>gold_stars</th>\n",
       "      <th>conflicted</th>\n",
       "    </tr>\n",
       "  </thead>\n",
       "  <tbody>\n",
       "    <tr>\n",
       "      <th>0</th>\n",
       "      <td>1</td>\n",
       "      <td>1014143</td>\n",
       "      <td>C</td>\n",
       "      <td>T</td>\n",
       "      <td>1014143</td>\n",
       "      <td>1014143</td>\n",
       "      <td>+</td>\n",
       "      <td>Variant</td>\n",
       "      <td>183381</td>\n",
       "      <td>RCV000162196</td>\n",
       "      <td>SCV000212156</td>\n",
       "      <td>181485</td>\n",
       "      <td>ISG15</td>\n",
       "      <td>NM_005101.3:c.163C&gt;T</td>\n",
       "      <td>NP_005092.1:p.Gln55Ter</td>\n",
       "      <td>NM_005101.3:c.163C&gt;T:nonsense</td>\n",
       "      <td>Pathogenic</td>\n",
       "      <td>pathogenic</td>\n",
       "      <td>1</td>\n",
       "      <td>0</td>\n",
       "      <td>0</td>\n",
       "      <td>0</td>\n",
       "      <td>0</td>\n",
       "      <td>no assertion criteria provided</td>\n",
       "      <td>no assertion criteria provided</td>\n",
       "      <td>Jan 01, 2015</td>\n",
       "      <td>OMIM</td>\n",
       "      <td>OMIM</td>\n",
       "      <td>Immunodeficiency 38 with basal ganglia calcification;IMMUNODEFICIENCY 38 WITH BASAL GANGLIA CALCIFICATION</td>\n",
       "      <td>25307056</td>\n",
       "      <td>NaN</td>\n",
       "      <td>Childhood</td>\n",
       "      <td>&lt;1 / 1 000 000</td>\n",
       "      <td>NaN</td>\n",
       "      <td>germline</td>\n",
       "      <td>MedGen:C4015293;OMIM:616126;Orphanet:319563</td>\n",
       "      <td>2015-01-01</td>\n",
       "      <td>0</td>\n",
       "      <td>0</td>\n",
       "    </tr>\n",
       "  </tbody>\n",
       "</table>\n",
       "</div>"
      ],
      "text/plain": [
       "  chrom      pos ref alt    start     stop strand variation_type  \\\n",
       "0     1  1014143   C   T  1014143  1014143      +        Variant   \n",
       "\n",
       "   variation_id           rcv           scv  allele_id symbol  \\\n",
       "0        183381  RCV000162196  SCV000212156     181485  ISG15   \n",
       "\n",
       "                 hgvs_c                  hgvs_p  \\\n",
       "0  NM_005101.3:c.163C>T  NP_005092.1:p.Gln55Ter   \n",
       "\n",
       "           molecular_consequence clinical_significance  \\\n",
       "0  NM_005101.3:c.163C>T:nonsense            Pathogenic   \n",
       "\n",
       "  clinical_significance_ordered  pathogenic  likely_pathogenic  \\\n",
       "0                    pathogenic           1                  0   \n",
       "\n",
       "   uncertain_significance  likely_benign  benign  \\\n",
       "0                       0              0       0   \n",
       "\n",
       "                    review_status           review_status_ordered  \\\n",
       "0  no assertion criteria provided  no assertion criteria provided   \n",
       "\n",
       "  last_evaluated all_submitters submitters_ordered  \\\n",
       "0   Jan 01, 2015           OMIM               OMIM   \n",
       "\n",
       "                                                                                                  all_traits  \\\n",
       "0  Immunodeficiency 38 with basal ganglia calcification;IMMUNODEFICIENCY 38 WITH BASAL GANGLIA CALCIFICATION   \n",
       "\n",
       "  all_pmids inheritance_modes age_of_onset      prevalence disease_mechanism  \\\n",
       "0  25307056               NaN    Childhood  <1 / 1 000 000               NaN   \n",
       "\n",
       "     origin                                        xrefs dates_ordered  \\\n",
       "0  germline  MedGen:C4015293;OMIM:616126;Orphanet:319563    2015-01-01   \n",
       "\n",
       "  gold_stars  conflicted  \n",
       "0          0           0  "
      ]
     },
     "execution_count": 193,
     "metadata": {},
     "output_type": "execute_result"
    }
   ],
   "source": [
    "clinvar.head(1)"
   ]
  },
  {
   "cell_type": "code",
   "execution_count": 194,
   "metadata": {
    "collapsed": false
   },
   "outputs": [
    {
     "data": {
      "text/plain": [
       "Index(['chrom', 'pos', 'ref', 'alt', 'start', 'stop', 'strand',\n",
       "       'variation_type', 'variation_id', 'rcv', 'scv', 'allele_id', 'symbol',\n",
       "       'hgvs_c', 'hgvs_p', 'molecular_consequence', 'clinical_significance',\n",
       "       'clinical_significance_ordered', 'pathogenic', 'likely_pathogenic',\n",
       "       'uncertain_significance', 'likely_benign', 'benign', 'review_status',\n",
       "       'review_status_ordered', 'last_evaluated', 'all_submitters',\n",
       "       'submitters_ordered', 'all_traits', 'all_pmids', 'inheritance_modes',\n",
       "       'age_of_onset', 'prevalence', 'disease_mechanism', 'origin', 'xrefs',\n",
       "       'dates_ordered', 'gold_stars', 'conflicted'],\n",
       "      dtype='object')"
      ]
     },
     "execution_count": 194,
     "metadata": {},
     "output_type": "execute_result"
    }
   ],
   "source": [
    "clinvar.columns"
   ]
  },
  {
   "cell_type": "code",
   "execution_count": 197,
   "metadata": {
    "collapsed": false
   },
   "outputs": [
    {
     "name": "stdout",
     "output_type": "stream",
     "text": [
      "332\n"
     ]
    },
    {
     "data": {
      "text/html": [
       "<div>\n",
       "<table border=\"1\" class=\"dataframe\">\n",
       "  <thead>\n",
       "    <tr style=\"text-align: right;\">\n",
       "      <th></th>\n",
       "      <th>chrom</th>\n",
       "      <th>pos</th>\n",
       "      <th>ref</th>\n",
       "      <th>alt</th>\n",
       "      <th>start</th>\n",
       "      <th>stop</th>\n",
       "      <th>strand</th>\n",
       "      <th>variation_type</th>\n",
       "      <th>variation_id</th>\n",
       "      <th>rcv</th>\n",
       "      <th>scv</th>\n",
       "      <th>allele_id</th>\n",
       "      <th>symbol</th>\n",
       "      <th>hgvs_c</th>\n",
       "      <th>hgvs_p</th>\n",
       "      <th>molecular_consequence</th>\n",
       "      <th>clinical_significance</th>\n",
       "      <th>clinical_significance_ordered</th>\n",
       "      <th>pathogenic</th>\n",
       "      <th>likely_pathogenic</th>\n",
       "      <th>uncertain_significance</th>\n",
       "      <th>likely_benign</th>\n",
       "      <th>benign</th>\n",
       "      <th>review_status</th>\n",
       "      <th>review_status_ordered</th>\n",
       "      <th>last_evaluated</th>\n",
       "      <th>all_submitters</th>\n",
       "      <th>submitters_ordered</th>\n",
       "      <th>all_traits</th>\n",
       "      <th>all_pmids</th>\n",
       "      <th>inheritance_modes</th>\n",
       "      <th>age_of_onset</th>\n",
       "      <th>prevalence</th>\n",
       "      <th>disease_mechanism</th>\n",
       "      <th>origin</th>\n",
       "      <th>xrefs</th>\n",
       "      <th>dates_ordered</th>\n",
       "      <th>gold_stars</th>\n",
       "      <th>conflicted</th>\n",
       "    </tr>\n",
       "  </thead>\n",
       "  <tbody>\n",
       "    <tr>\n",
       "      <th>1772</th>\n",
       "      <td>1</td>\n",
       "      <td>11794419</td>\n",
       "      <td>T</td>\n",
       "      <td>G</td>\n",
       "      <td>11794419</td>\n",
       "      <td>11794419</td>\n",
       "      <td>-</td>\n",
       "      <td>Variant</td>\n",
       "      <td>3521</td>\n",
       "      <td>RCV000003698;RCV000003699;RCV000144922;RCV000153515;RCV000211350;RCV000350590;RCV000430863</td>\n",
       "      <td>SCV000023861;SCV000023862;SCV000187679;SCV000203039;SCV000268235;SCV000347797;SCV000519507</td>\n",
       "      <td>18560</td>\n",
       "      <td>MTHFR</td>\n",
       "      <td>NM_005957.4:c.1286A&gt;C</td>\n",
       "      <td>NP_005948.3:p.Glu429Ala</td>\n",
       "      <td>NM_005957.4:c.1286A&gt;C:missense variant</td>\n",
       "      <td>drug response</td>\n",
       "      <td>benign;risk factor;uncertain significance;other;drug response;likely benign</td>\n",
       "      <td>0</td>\n",
       "      <td>0</td>\n",
       "      <td>1</td>\n",
       "      <td>1</td>\n",
       "      <td>2</td>\n",
       "      <td>reviewed by expert panel</td>\n",
       "      <td>no assertion criteria provided;criteria provided, single submitter;reviewed by expert panel</td>\n",
       "      <td>Jun 14, 2016</td>\n",
       "      <td>OMIM;Department of Pharmacy and Biotechnology,University of Bologna;EGL Genetic Diagnostics,Eurofins Clinical Diagnostics;PharmGKB;Illumina Clinical Services Laboratory,Illumina;GeneDx</td>\n",
       "      <td>OMIM;Department of Pharmacy and Biotechnology,University of Bologna;EGL Genetic Diagnostics,Eurofins Clinical Diagnostics;PharmGKB;Illumina Clinical Services Laboratory,Illumina;GeneDx</td>\n",
       "      <td>MTHFR deficiency, thermolabile type;MTHFR THERMOLABILE POLYMORPHISM;Schizophrenia, susceptibility to;Gastrointestinal stromal tumor;Gastrointestinal Stromal Tumors;not provided;fluorouracil, leucovorin, and oxaliplatin response - Efficacy;Colorectal Neoplasms;Neural tube defects, folate-sensitive;Neural Tube Defects, Folate-Sensitive;not specified</td>\n",
       "      <td>10677336;10958762;11590551;11742092;11752418;11938441;12560871;15103709;15951337;16244782;17898028;18583979;23288205;25227144;9545395;22685257;23852704;25394175;20078613;20385995;22992668</td>\n",
       "      <td>Autosomal dominant inheritance;Autosomal unknown</td>\n",
       "      <td>Adolescent;Infancy</td>\n",
       "      <td>1-5 / 10 000</td>\n",
       "      <td>NaN</td>\n",
       "      <td>germline</td>\n",
       "      <td>Genetic Alliance:MTHFR+deficiency%2C+thermolabile+type/8909;Genetic Testing Registry (GTR):GTR000174335;Genetic Testing Registry (GTR):GTR000263075;Genetic Testing Registry (GTR):GTR000326434;Genetic Testing Registry (GTR):GTR000327733;Genetic Testing Registry (GTR):GTR000500311;Genetic Testing Registry (GTR):GTR000500678;Genetic Testing Registry (GTR):GTR000501123;Genetic Testing Registry (GTR):GTR000509249;Genetic Testing Registry (GTR):GTR000511144;Genetic Testing Registry (GTR):GTR000512222;Genetic Testing Registry (GTR):GTR000520021;Genetic Testing Registry (GTR):GTR000520078;Genetic Testing Registry (GTR):GTR000521336;Genetic Testing Registry (GTR):GTR000522333;Genetic Testing Registry (GTR):GTR000530207;Genetic Testing Registry (GTR):GTR000531268;Genetic Testing Registry (GTR):GTR000552460;Genetic Testing Registry (GTR):GTR000552466;MedGen:C1856059;Medical Genetics Summaries:NBK66131;OMIM:607093.0003;OMIM:607093.0004;Genetic Alliance:Gastrointestinal+Stromal+Tumors/2997;MeS...</td>\n",
       "      <td>2008-07-01;0000-00-00;2015-07-23;2016-06-14;2016-04-25</td>\n",
       "      <td>3</td>\n",
       "      <td>0</td>\n",
       "    </tr>\n",
       "    <tr>\n",
       "      <th>1805</th>\n",
       "      <td>1</td>\n",
       "      <td>11796321</td>\n",
       "      <td>G</td>\n",
       "      <td>A</td>\n",
       "      <td>11796321</td>\n",
       "      <td>11796321</td>\n",
       "      <td>-</td>\n",
       "      <td>Variant</td>\n",
       "      <td>3520</td>\n",
       "      <td>RCV000003697;RCV000144921;RCV000153516;RCV000211133;RCV000211336;RCV000259890;RCV000417131;RCV000427078;RCV000428048</td>\n",
       "      <td>SCV000023860;SCV000106043;SCV000187678;SCV000203040;SCV000268236;SCV000268238;SCV000347807;SCV000494694;SCV000505736;SCV000519504</td>\n",
       "      <td>18559</td>\n",
       "      <td>MTHFR</td>\n",
       "      <td>NM_005957.4:c.665C&gt;T</td>\n",
       "      <td>NP_005948.3:p.Ala222Val</td>\n",
       "      <td>NM_005957.4:c.665C&gt;T:missense variant</td>\n",
       "      <td>drug response</td>\n",
       "      <td>benign;pathogenic;uncertain significance;other;drug response;likely benign;not provided</td>\n",
       "      <td>1</td>\n",
       "      <td>0</td>\n",
       "      <td>1</td>\n",
       "      <td>1</td>\n",
       "      <td>2</td>\n",
       "      <td>reviewed by expert panel</td>\n",
       "      <td>no assertion criteria provided;criteria provided, single submitter;reviewed by expert panel;no assertion provided</td>\n",
       "      <td>Feb 28, 2017</td>\n",
       "      <td>OMIM;FirmaLab;Department of Pharmacy and Biotechnology,University of Bologna;EGL Genetic Diagnostics,Eurofins Clinical Diagnostics;PharmGKB;Illumina Clinical Services Laboratory,Illumina;Database of Curated Mutations (DoCM);GeneDx</td>\n",
       "      <td>OMIM;FirmaLab;Department of Pharmacy and Biotechnology,University of Bologna;EGL Genetic Diagnostics,Eurofins Clinical Diagnostics;PharmGKB;Illumina Clinical Services Laboratory,Illumina;Database of Curated Mutations (DoCM);GeneDx</td>\n",
       "      <td>MTHFR deficiency, thermolabile type;MTHFR THERMOLABILE POLYMORPHISM;Gastrointestinal stromal tumor;Gastrointestinal Stromal Tumors;not provided;cyclophosphamide response - Toxicity/ADR;carboplatin response - Efficacy;Carcinoma, Non-Small-Cell Lung;Neural tube defects, folate-sensitive;Neural Tube Defects, Folate-Sensitive;methotrexate response - Dosage, Efficacy, Toxicity/ADR;Neoplasms;Neoplasm of stomach;not specified</td>\n",
       "      <td>10196703;10323741;10440833;10732818;10869114;10930360;11121176;11140843;11781870;11807890;11863127;11888585;11929966;12080391;12095808;12154064;12165282;12196644;12221667;12356947;12383688;12384649;12387655;12400059;12406076;12428084;12529699;12560871;12796225;15054400;15103709;15154859;15173232;1522835;15534175;15565101;15704130;15729744;15806605;15808177;16172608;16365871;16402130;16470725;16712703;16800002;17284634;17350979;17436239;17543893;17726486;17898028;18583979;20154341;21042222;23288205;25227144;7564788;7647779;7741859;8542260;8554053;8554066;8616944;8771990;8826441;8837319;8892013;8903338;8981967;8994411;9133512;9192280;9244205;9341863;9372726;9453374;9545406;9737770;9789068;9798595;9843036;9863598;22685257;23852704;25394175;15051775;19159907;20638924;22992668;19307503;21605004;11418485;12453860;12915598;14647408;15781665;16013960;16019535;16462575;16463153;16501586;16870553;17180579;17323057;17488658;17512587;18458567;18987660;19648163;21644011;21747412;22143415;22838...</td>\n",
       "      <td>Autosomal dominant inheritance;Autosomal unknown</td>\n",
       "      <td>Adolescent;Infancy</td>\n",
       "      <td>1-5 / 10 000;Gastric cancer is the 4th most frequently diagnosed cancer and the 2nd leading cause of death from cancer, with an estimated 990000 new cases and 738000 deaths registered.</td>\n",
       "      <td>gain of function</td>\n",
       "      <td>germline;somatic</td>\n",
       "      <td>Genetic Alliance:MTHFR+deficiency%2C+thermolabile+type/8909;Genetic Testing Registry (GTR):GTR000174335;Genetic Testing Registry (GTR):GTR000263075;Genetic Testing Registry (GTR):GTR000326434;Genetic Testing Registry (GTR):GTR000327733;Genetic Testing Registry (GTR):GTR000500311;Genetic Testing Registry (GTR):GTR000500678;Genetic Testing Registry (GTR):GTR000501123;Genetic Testing Registry (GTR):GTR000509249;Genetic Testing Registry (GTR):GTR000511144;Genetic Testing Registry (GTR):GTR000512222;Genetic Testing Registry (GTR):GTR000520021;Genetic Testing Registry (GTR):GTR000520078;Genetic Testing Registry (GTR):GTR000521336;Genetic Testing Registry (GTR):GTR000522333;Genetic Testing Registry (GTR):GTR000530207;Genetic Testing Registry (GTR):GTR000531268;Genetic Testing Registry (GTR):GTR000552460;Genetic Testing Registry (GTR):GTR000552466;MedGen:C1856059;Medical Genetics Summaries:NBK66131;OMIM:607093.0003;OMIM:607093.0004;Genetic Alliance:Gastrointestinal+Stromal+Tumors/2997;MeS...</td>\n",
       "      <td>2017-02-28;0000-00-00;2015-05-12;2016-06-14;2016-03-10;2016-04-25</td>\n",
       "      <td>3</td>\n",
       "      <td>0</td>\n",
       "    </tr>\n",
       "  </tbody>\n",
       "</table>\n",
       "</div>"
      ],
      "text/plain": [
       "     chrom       pos ref alt     start      stop strand variation_type  \\\n",
       "1772     1  11794419   T   G  11794419  11794419      -        Variant   \n",
       "1805     1  11796321   G   A  11796321  11796321      -        Variant   \n",
       "\n",
       "      variation_id  \\\n",
       "1772          3521   \n",
       "1805          3520   \n",
       "\n",
       "                                                                                                                       rcv  \\\n",
       "1772                            RCV000003698;RCV000003699;RCV000144922;RCV000153515;RCV000211350;RCV000350590;RCV000430863   \n",
       "1805  RCV000003697;RCV000144921;RCV000153516;RCV000211133;RCV000211336;RCV000259890;RCV000417131;RCV000427078;RCV000428048   \n",
       "\n",
       "                                                                                                                                    scv  \\\n",
       "1772                                         SCV000023861;SCV000023862;SCV000187679;SCV000203039;SCV000268235;SCV000347797;SCV000519507   \n",
       "1805  SCV000023860;SCV000106043;SCV000187678;SCV000203040;SCV000268236;SCV000268238;SCV000347807;SCV000494694;SCV000505736;SCV000519504   \n",
       "\n",
       "      allele_id symbol                 hgvs_c                   hgvs_p  \\\n",
       "1772      18560  MTHFR  NM_005957.4:c.1286A>C  NP_005948.3:p.Glu429Ala   \n",
       "1805      18559  MTHFR   NM_005957.4:c.665C>T  NP_005948.3:p.Ala222Val   \n",
       "\n",
       "                       molecular_consequence clinical_significance  \\\n",
       "1772  NM_005957.4:c.1286A>C:missense variant         drug response   \n",
       "1805   NM_005957.4:c.665C>T:missense variant         drug response   \n",
       "\n",
       "                                                                clinical_significance_ordered  \\\n",
       "1772              benign;risk factor;uncertain significance;other;drug response;likely benign   \n",
       "1805  benign;pathogenic;uncertain significance;other;drug response;likely benign;not provided   \n",
       "\n",
       "      pathogenic  likely_pathogenic  uncertain_significance  likely_benign  \\\n",
       "1772           0                  0                       1              1   \n",
       "1805           1                  0                       1              1   \n",
       "\n",
       "      benign             review_status  \\\n",
       "1772       2  reviewed by expert panel   \n",
       "1805       2  reviewed by expert panel   \n",
       "\n",
       "                                                                                                  review_status_ordered  \\\n",
       "1772                        no assertion criteria provided;criteria provided, single submitter;reviewed by expert panel   \n",
       "1805  no assertion criteria provided;criteria provided, single submitter;reviewed by expert panel;no assertion provided   \n",
       "\n",
       "     last_evaluated  \\\n",
       "1772   Jun 14, 2016   \n",
       "1805   Feb 28, 2017   \n",
       "\n",
       "                                                                                                                                                                                                                              all_submitters  \\\n",
       "1772                                                OMIM;Department of Pharmacy and Biotechnology,University of Bologna;EGL Genetic Diagnostics,Eurofins Clinical Diagnostics;PharmGKB;Illumina Clinical Services Laboratory,Illumina;GeneDx   \n",
       "1805  OMIM;FirmaLab;Department of Pharmacy and Biotechnology,University of Bologna;EGL Genetic Diagnostics,Eurofins Clinical Diagnostics;PharmGKB;Illumina Clinical Services Laboratory,Illumina;Database of Curated Mutations (DoCM);GeneDx   \n",
       "\n",
       "                                                                                                                                                                                                                          submitters_ordered  \\\n",
       "1772                                                OMIM;Department of Pharmacy and Biotechnology,University of Bologna;EGL Genetic Diagnostics,Eurofins Clinical Diagnostics;PharmGKB;Illumina Clinical Services Laboratory,Illumina;GeneDx   \n",
       "1805  OMIM;FirmaLab;Department of Pharmacy and Biotechnology,University of Bologna;EGL Genetic Diagnostics,Eurofins Clinical Diagnostics;PharmGKB;Illumina Clinical Services Laboratory,Illumina;Database of Curated Mutations (DoCM);GeneDx   \n",
       "\n",
       "                                                                                                                                                                                                                                                                                                                                                                                                                                  all_traits  \\\n",
       "1772                                                                           MTHFR deficiency, thermolabile type;MTHFR THERMOLABILE POLYMORPHISM;Schizophrenia, susceptibility to;Gastrointestinal stromal tumor;Gastrointestinal Stromal Tumors;not provided;fluorouracil, leucovorin, and oxaliplatin response - Efficacy;Colorectal Neoplasms;Neural tube defects, folate-sensitive;Neural Tube Defects, Folate-Sensitive;not specified   \n",
       "1805  MTHFR deficiency, thermolabile type;MTHFR THERMOLABILE POLYMORPHISM;Gastrointestinal stromal tumor;Gastrointestinal Stromal Tumors;not provided;cyclophosphamide response - Toxicity/ADR;carboplatin response - Efficacy;Carcinoma, Non-Small-Cell Lung;Neural tube defects, folate-sensitive;Neural Tube Defects, Folate-Sensitive;methotrexate response - Dosage, Efficacy, Toxicity/ADR;Neoplasms;Neoplasm of stomach;not specified   \n",
       "\n",
       "                                                                                                                                                                                                                                                                                                                                                                                                                                                                                                                                                                                                                                                                                                                                                                                                                                                                                                                                                                                                                                   all_pmids  \\\n",
       "1772                                                                                                                                                                                                                                                                                                                                                                                                                                                                                                                                                                                                                                                                                                                                                                                                                                             10677336;10958762;11590551;11742092;11752418;11938441;12560871;15103709;15951337;16244782;17898028;18583979;23288205;25227144;9545395;22685257;23852704;25394175;20078613;20385995;22992668   \n",
       "1805  10196703;10323741;10440833;10732818;10869114;10930360;11121176;11140843;11781870;11807890;11863127;11888585;11929966;12080391;12095808;12154064;12165282;12196644;12221667;12356947;12383688;12384649;12387655;12400059;12406076;12428084;12529699;12560871;12796225;15054400;15103709;15154859;15173232;1522835;15534175;15565101;15704130;15729744;15806605;15808177;16172608;16365871;16402130;16470725;16712703;16800002;17284634;17350979;17436239;17543893;17726486;17898028;18583979;20154341;21042222;23288205;25227144;7564788;7647779;7741859;8542260;8554053;8554066;8616944;8771990;8826441;8837319;8892013;8903338;8981967;8994411;9133512;9192280;9244205;9341863;9372726;9453374;9545406;9737770;9789068;9798595;9843036;9863598;22685257;23852704;25394175;15051775;19159907;20638924;22992668;19307503;21605004;11418485;12453860;12915598;14647408;15781665;16013960;16019535;16462575;16463153;16501586;16870553;17180579;17323057;17488658;17512587;18458567;18987660;19648163;21644011;21747412;22143415;22838...   \n",
       "\n",
       "                                     inheritance_modes        age_of_onset  \\\n",
       "1772  Autosomal dominant inheritance;Autosomal unknown  Adolescent;Infancy   \n",
       "1805  Autosomal dominant inheritance;Autosomal unknown  Adolescent;Infancy   \n",
       "\n",
       "                                                                                                                                                                                    prevalence  \\\n",
       "1772                                                                                                                                                                              1-5 / 10 000   \n",
       "1805  1-5 / 10 000;Gastric cancer is the 4th most frequently diagnosed cancer and the 2nd leading cause of death from cancer, with an estimated 990000 new cases and 738000 deaths registered.   \n",
       "\n",
       "     disease_mechanism            origin  \\\n",
       "1772               NaN          germline   \n",
       "1805  gain of function  germline;somatic   \n",
       "\n",
       "                                                                                                                                                                                                                                                                                                                                                                                                                                                                                                                                                                                                                                                                                                                                                                                                                                                                                                                                                                                                                                       xrefs  \\\n",
       "1772  Genetic Alliance:MTHFR+deficiency%2C+thermolabile+type/8909;Genetic Testing Registry (GTR):GTR000174335;Genetic Testing Registry (GTR):GTR000263075;Genetic Testing Registry (GTR):GTR000326434;Genetic Testing Registry (GTR):GTR000327733;Genetic Testing Registry (GTR):GTR000500311;Genetic Testing Registry (GTR):GTR000500678;Genetic Testing Registry (GTR):GTR000501123;Genetic Testing Registry (GTR):GTR000509249;Genetic Testing Registry (GTR):GTR000511144;Genetic Testing Registry (GTR):GTR000512222;Genetic Testing Registry (GTR):GTR000520021;Genetic Testing Registry (GTR):GTR000520078;Genetic Testing Registry (GTR):GTR000521336;Genetic Testing Registry (GTR):GTR000522333;Genetic Testing Registry (GTR):GTR000530207;Genetic Testing Registry (GTR):GTR000531268;Genetic Testing Registry (GTR):GTR000552460;Genetic Testing Registry (GTR):GTR000552466;MedGen:C1856059;Medical Genetics Summaries:NBK66131;OMIM:607093.0003;OMIM:607093.0004;Genetic Alliance:Gastrointestinal+Stromal+Tumors/2997;MeS...   \n",
       "1805  Genetic Alliance:MTHFR+deficiency%2C+thermolabile+type/8909;Genetic Testing Registry (GTR):GTR000174335;Genetic Testing Registry (GTR):GTR000263075;Genetic Testing Registry (GTR):GTR000326434;Genetic Testing Registry (GTR):GTR000327733;Genetic Testing Registry (GTR):GTR000500311;Genetic Testing Registry (GTR):GTR000500678;Genetic Testing Registry (GTR):GTR000501123;Genetic Testing Registry (GTR):GTR000509249;Genetic Testing Registry (GTR):GTR000511144;Genetic Testing Registry (GTR):GTR000512222;Genetic Testing Registry (GTR):GTR000520021;Genetic Testing Registry (GTR):GTR000520078;Genetic Testing Registry (GTR):GTR000521336;Genetic Testing Registry (GTR):GTR000522333;Genetic Testing Registry (GTR):GTR000530207;Genetic Testing Registry (GTR):GTR000531268;Genetic Testing Registry (GTR):GTR000552460;Genetic Testing Registry (GTR):GTR000552466;MedGen:C1856059;Medical Genetics Summaries:NBK66131;OMIM:607093.0003;OMIM:607093.0004;Genetic Alliance:Gastrointestinal+Stromal+Tumors/2997;MeS...   \n",
       "\n",
       "                                                          dates_ordered  \\\n",
       "1772             2008-07-01;0000-00-00;2015-07-23;2016-06-14;2016-04-25   \n",
       "1805  2017-02-28;0000-00-00;2015-05-12;2016-06-14;2016-03-10;2016-04-25   \n",
       "\n",
       "     gold_stars  conflicted  \n",
       "1772          3           0  \n",
       "1805          3           0  "
      ]
     },
     "execution_count": 197,
     "metadata": {},
     "output_type": "execute_result"
    }
   ],
   "source": [
    "# filter to only include those with a drug response phenotype\n",
    "clinvar = clinvar[clinvar.clinical_significance.str.lower().str.count(\"drug\")>0]\n",
    "print(len(clinvar))\n",
    "clinvar.head(2)"
   ]
  },
  {
   "cell_type": "code",
   "execution_count": 198,
   "metadata": {
    "collapsed": false
   },
   "outputs": [
    {
     "name": "stdout",
     "output_type": "stream",
     "text": [
      "0\n"
     ]
    },
    {
     "data": {
      "text/html": [
       "<div>\n",
       "<table border=\"1\" class=\"dataframe\">\n",
       "  <thead>\n",
       "    <tr style=\"text-align: right;\">\n",
       "      <th></th>\n",
       "      <th>chrom</th>\n",
       "      <th>pos</th>\n",
       "      <th>ref</th>\n",
       "      <th>alt</th>\n",
       "      <th>start</th>\n",
       "      <th>stop</th>\n",
       "      <th>strand</th>\n",
       "      <th>variation_type</th>\n",
       "      <th>variation_id</th>\n",
       "      <th>rcv</th>\n",
       "      <th>scv</th>\n",
       "      <th>allele_id</th>\n",
       "      <th>symbol</th>\n",
       "      <th>hgvs_c</th>\n",
       "      <th>hgvs_p</th>\n",
       "      <th>molecular_consequence</th>\n",
       "      <th>clinical_significance</th>\n",
       "      <th>clinical_significance_ordered</th>\n",
       "      <th>pathogenic</th>\n",
       "      <th>likely_pathogenic</th>\n",
       "      <th>uncertain_significance</th>\n",
       "      <th>likely_benign</th>\n",
       "      <th>benign</th>\n",
       "      <th>review_status</th>\n",
       "      <th>review_status_ordered</th>\n",
       "      <th>last_evaluated</th>\n",
       "      <th>all_submitters</th>\n",
       "      <th>submitters_ordered</th>\n",
       "      <th>all_traits</th>\n",
       "      <th>all_pmids</th>\n",
       "      <th>inheritance_modes</th>\n",
       "      <th>age_of_onset</th>\n",
       "      <th>prevalence</th>\n",
       "      <th>disease_mechanism</th>\n",
       "      <th>origin</th>\n",
       "      <th>xrefs</th>\n",
       "      <th>dates_ordered</th>\n",
       "      <th>gold_stars</th>\n",
       "      <th>conflicted</th>\n",
       "    </tr>\n",
       "  </thead>\n",
       "  <tbody>\n",
       "  </tbody>\n",
       "</table>\n",
       "</div>"
      ],
      "text/plain": [
       "Empty DataFrame\n",
       "Columns: [chrom, pos, ref, alt, start, stop, strand, variation_type, variation_id, rcv, scv, allele_id, symbol, hgvs_c, hgvs_p, molecular_consequence, clinical_significance, clinical_significance_ordered, pathogenic, likely_pathogenic, uncertain_significance, likely_benign, benign, review_status, review_status_ordered, last_evaluated, all_submitters, submitters_ordered, all_traits, all_pmids, inheritance_modes, age_of_onset, prevalence, disease_mechanism, origin, xrefs, dates_ordered, gold_stars, conflicted]\n",
       "Index: []"
      ]
     },
     "execution_count": 198,
     "metadata": {},
     "output_type": "execute_result"
    }
   ],
   "source": [
    "# filter to only include variants in fa genes\n",
    "clinvar = clinvar[clinvar.symbol.isin(fa_genes)]\n",
    "print(len(clinvar))\n",
    "clinvar.head(1)"
   ]
  },
  {
   "cell_type": "code",
   "execution_count": null,
   "metadata": {
    "collapsed": true
   },
   "outputs": [],
   "source": []
  }
 ],
 "metadata": {
  "kernelspec": {
   "display_name": "Python 3",
   "language": "python",
   "name": "python3"
  },
  "language_info": {
   "codemirror_mode": {
    "name": "ipython",
    "version": 3
   },
   "file_extension": ".py",
   "mimetype": "text/x-python",
   "name": "python",
   "nbconvert_exporter": "python",
   "pygments_lexer": "ipython3",
   "version": "3.5.2"
  }
 },
 "nbformat": 4,
 "nbformat_minor": 2
}
