{
 "cells": [
  {
   "cell_type": "code",
   "execution_count": 2,
   "metadata": {},
   "outputs": [],
   "source": [
    "import requests\n",
    "import pandas as pd\n",
    "from pprint import pprint\n",
    "pd.set_option('display.max_columns', None)\n",
    "pd.options.display.max_colwidth = 999"
   ]
  },
  {
   "cell_type": "markdown",
   "metadata": {},
   "source": [
    "### Load FA genes"
   ]
  },
  {
   "cell_type": "code",
   "execution_count": 5,
   "metadata": {},
   "outputs": [
    {
     "data": {
      "text/html": [
       "<div>\n",
       "<table border=\"1\" class=\"dataframe\">\n",
       "  <thead>\n",
       "    <tr style=\"text-align: right;\">\n",
       "      <th></th>\n",
       "      <th>ncbi</th>\n",
       "      <th>hgnc</th>\n",
       "    </tr>\n",
       "  </thead>\n",
       "  <tbody>\n",
       "    <tr>\n",
       "      <th>0</th>\n",
       "      <td>NCBIGene:2175</td>\n",
       "      <td>FANCA</td>\n",
       "    </tr>\n",
       "    <tr>\n",
       "      <th>1</th>\n",
       "      <td>NCBIGene:2187</td>\n",
       "      <td>FANCB</td>\n",
       "    </tr>\n",
       "    <tr>\n",
       "      <th>2</th>\n",
       "      <td>NCBIGene:2176</td>\n",
       "      <td>FANCC</td>\n",
       "    </tr>\n",
       "    <tr>\n",
       "      <th>3</th>\n",
       "      <td>NCBIGene:2178</td>\n",
       "      <td>FANCE</td>\n",
       "    </tr>\n",
       "    <tr>\n",
       "      <th>4</th>\n",
       "      <td>NCBIGene:2188</td>\n",
       "      <td>FANCF</td>\n",
       "    </tr>\n",
       "  </tbody>\n",
       "</table>\n",
       "</div>"
      ],
      "text/plain": [
       "            ncbi   hgnc\n",
       "0  NCBIGene:2175  FANCA\n",
       "1  NCBIGene:2187  FANCB\n",
       "2  NCBIGene:2176  FANCC\n",
       "3  NCBIGene:2178  FANCE\n",
       "4  NCBIGene:2188  FANCF"
      ]
     },
     "execution_count": 5,
     "metadata": {},
     "output_type": "execute_result"
    }
   ],
   "source": [
    "# get gene sets from github\n",
    "url = \"https://raw.githubusercontent.com/NCATS-Tangerine/cq-notebooks/master/FA_gene_sets/FA_4_all_genes.txt\"\n",
    "fa_genes = pd.read_csv(url, sep='\\t', names=['ncbi', 'hgnc'])\n",
    "fa_genes.head()"
   ]
  },
  {
   "cell_type": "raw",
   "metadata": {},
   "source": [
    "As an example, looking for variants that have a drug response phenotype.\n",
    "\n",
    "Here is one: https://www.ncbi.nlm.nih.gov/clinvar/variation/3521/\n",
    "NM_005957.4(MTHFR):c.1286A>C (p.Glu429Ala)\n",
    "Clinical significance: drug response\n",
    "The RCV: https://www.ncbi.nlm.nih.gov/clinvar/RCV000211350/\n",
    "The phenotype is \"fluorouracil, leucovorin, and oxaliplatin response - Efficacy\", which is a medgen term: https://www.ncbi.nlm.nih.gov/medgen/CN236474\n",
    "This annotation comes from pharmgkb, which has lots more additional info:\n",
    "https://www.pharmgkb.org/variant/PA166153643/overview"
   ]
  },
  {
   "cell_type": "raw",
   "metadata": {},
   "source": [
    "Spot checking a couple more, they all seem to come from PharmGKB. So we'll use that"
   ]
  },
  {
   "cell_type": "code",
   "execution_count": 6,
   "metadata": {},
   "outputs": [],
   "source": [
    "# For the sake of completeness, we'll look and see if clinvar has anything interesting on the FA genes anyways"
   ]
  },
  {
   "cell_type": "code",
   "execution_count": 7,
   "metadata": {},
   "outputs": [],
   "source": [
    "# Download is an xml that I don't want to parse. I found someone who already did that here:\n",
    "# https://github.com/macarthur-lab/clinvar/blob/master/output/b38/single/clinvar_alleles.single.b38.tsv.gz"
   ]
  },
  {
   "cell_type": "code",
   "execution_count": 32,
   "metadata": {},
   "outputs": [
    {
     "name": "stdout",
     "output_type": "stream",
     "text": [
      "number of records: 293882\n"
     ]
    }
   ],
   "source": [
    "clinvar = pd.read_csv(\"clinvar_alleles.single.b38.tsv\", sep='\\t', low_memory=False)\n",
    "print(\"number of records: {}\".format(len(clinvar)))"
   ]
  },
  {
   "cell_type": "code",
   "execution_count": 33,
   "metadata": {},
   "outputs": [
    {
     "data": {
      "text/plain": [
       "1772    drug response\n",
       "Name: clinical_significance, dtype: object"
      ]
     },
     "execution_count": 33,
     "metadata": {},
     "output_type": "execute_result"
    }
   ],
   "source": [
    "# example trait from above. get the \"clinical significance\"\n",
    "clinvar[clinvar.hgvs_c == \"NM_005957.4:c.1286A>C\"].clinical_significance"
   ]
  },
  {
   "cell_type": "code",
   "execution_count": 34,
   "metadata": {},
   "outputs": [
    {
     "name": "stdout",
     "output_type": "stream",
     "text": [
      "17511\n"
     ]
    }
   ],
   "source": [
    "# sanity check to get variants in fa genes (not drug response, just, any)\n",
    "print(len(clinvar[clinvar.symbol.isin(set(fa_genes.hgnc))]))"
   ]
  },
  {
   "cell_type": "code",
   "execution_count": 35,
   "metadata": {},
   "outputs": [
    {
     "name": "stdout",
     "output_type": "stream",
     "text": [
      "332\n"
     ]
    },
    {
     "data": {
      "text/html": [
       "<div>\n",
       "<table border=\"1\" class=\"dataframe\">\n",
       "  <thead>\n",
       "    <tr style=\"text-align: right;\">\n",
       "      <th></th>\n",
       "      <th>chrom</th>\n",
       "      <th>pos</th>\n",
       "      <th>ref</th>\n",
       "      <th>alt</th>\n",
       "      <th>start</th>\n",
       "      <th>stop</th>\n",
       "      <th>strand</th>\n",
       "      <th>variation_type</th>\n",
       "      <th>variation_id</th>\n",
       "      <th>rcv</th>\n",
       "      <th>...</th>\n",
       "      <th>all_pmids</th>\n",
       "      <th>inheritance_modes</th>\n",
       "      <th>age_of_onset</th>\n",
       "      <th>prevalence</th>\n",
       "      <th>disease_mechanism</th>\n",
       "      <th>origin</th>\n",
       "      <th>xrefs</th>\n",
       "      <th>dates_ordered</th>\n",
       "      <th>gold_stars</th>\n",
       "      <th>conflicted</th>\n",
       "    </tr>\n",
       "  </thead>\n",
       "  <tbody>\n",
       "    <tr>\n",
       "      <th>1772</th>\n",
       "      <td>1</td>\n",
       "      <td>11794419</td>\n",
       "      <td>T</td>\n",
       "      <td>G</td>\n",
       "      <td>11794419</td>\n",
       "      <td>11794419</td>\n",
       "      <td>-</td>\n",
       "      <td>Variant</td>\n",
       "      <td>3521</td>\n",
       "      <td>RCV000003698;RCV000003699;RCV000144922;RCV0001...</td>\n",
       "      <td>...</td>\n",
       "      <td>10677336;10958762;11590551;11742092;11752418;1...</td>\n",
       "      <td>Autosomal dominant inheritance;Autosomal unknown</td>\n",
       "      <td>Adolescent;Infancy</td>\n",
       "      <td>1-5 / 10 000</td>\n",
       "      <td>NaN</td>\n",
       "      <td>germline</td>\n",
       "      <td>Genetic Alliance:MTHFR+deficiency%2C+thermolab...</td>\n",
       "      <td>2008-07-01;0000-00-00;2015-07-23;2016-06-14;20...</td>\n",
       "      <td>3</td>\n",
       "      <td>0</td>\n",
       "    </tr>\n",
       "    <tr>\n",
       "      <th>1805</th>\n",
       "      <td>1</td>\n",
       "      <td>11796321</td>\n",
       "      <td>G</td>\n",
       "      <td>A</td>\n",
       "      <td>11796321</td>\n",
       "      <td>11796321</td>\n",
       "      <td>-</td>\n",
       "      <td>Variant</td>\n",
       "      <td>3520</td>\n",
       "      <td>RCV000003697;RCV000144921;RCV000153516;RCV0002...</td>\n",
       "      <td>...</td>\n",
       "      <td>10196703;10323741;10440833;10732818;10869114;1...</td>\n",
       "      <td>Autosomal dominant inheritance;Autosomal unknown</td>\n",
       "      <td>Adolescent;Infancy</td>\n",
       "      <td>1-5 / 10 000;Gastric cancer is the 4th most fr...</td>\n",
       "      <td>gain of function</td>\n",
       "      <td>germline;somatic</td>\n",
       "      <td>Genetic Alliance:MTHFR+deficiency%2C+thermolab...</td>\n",
       "      <td>2017-02-28;0000-00-00;2015-05-12;2016-06-14;20...</td>\n",
       "      <td>3</td>\n",
       "      <td>0</td>\n",
       "    </tr>\n",
       "  </tbody>\n",
       "</table>\n",
       "<p>2 rows × 39 columns</p>\n",
       "</div>"
      ],
      "text/plain": [
       "     chrom       pos ref alt     start      stop strand variation_type  \\\n",
       "1772     1  11794419   T   G  11794419  11794419      -        Variant   \n",
       "1805     1  11796321   G   A  11796321  11796321      -        Variant   \n",
       "\n",
       "      variation_id                                                rcv  \\\n",
       "1772          3521  RCV000003698;RCV000003699;RCV000144922;RCV0001...   \n",
       "1805          3520  RCV000003697;RCV000144921;RCV000153516;RCV0002...   \n",
       "\n",
       "         ...                                              all_pmids  \\\n",
       "1772     ...      10677336;10958762;11590551;11742092;11752418;1...   \n",
       "1805     ...      10196703;10323741;10440833;10732818;10869114;1...   \n",
       "\n",
       "                                     inheritance_modes        age_of_onset  \\\n",
       "1772  Autosomal dominant inheritance;Autosomal unknown  Adolescent;Infancy   \n",
       "1805  Autosomal dominant inheritance;Autosomal unknown  Adolescent;Infancy   \n",
       "\n",
       "                                             prevalence disease_mechanism  \\\n",
       "1772                                       1-5 / 10 000               NaN   \n",
       "1805  1-5 / 10 000;Gastric cancer is the 4th most fr...  gain of function   \n",
       "\n",
       "                origin                                              xrefs  \\\n",
       "1772          germline  Genetic Alliance:MTHFR+deficiency%2C+thermolab...   \n",
       "1805  germline;somatic  Genetic Alliance:MTHFR+deficiency%2C+thermolab...   \n",
       "\n",
       "                                          dates_ordered  gold_stars  \\\n",
       "1772  2008-07-01;0000-00-00;2015-07-23;2016-06-14;20...           3   \n",
       "1805  2017-02-28;0000-00-00;2015-05-12;2016-06-14;20...           3   \n",
       "\n",
       "      conflicted  \n",
       "1772           0  \n",
       "1805           0  \n",
       "\n",
       "[2 rows x 39 columns]"
      ]
     },
     "execution_count": 35,
     "metadata": {},
     "output_type": "execute_result"
    }
   ],
   "source": [
    "# filter to only include those with a phenotype that contains the string \"drug\"\n",
    "clinvar_drug = clinvar[clinvar.clinical_significance.str.lower().str.count(\"drug\")>0]\n",
    "print(len(clinvar_drug))\n",
    "clinvar_drug.head(2)"
   ]
  },
  {
   "cell_type": "code",
   "execution_count": 36,
   "metadata": {},
   "outputs": [
    {
     "data": {
      "text/plain": [
       "drug response                                                  261\n",
       "Pathogenic, drug response                                       26\n",
       "Uncertain significance, drug response                           16\n",
       "Likely pathogenic, drug response                                11\n",
       "Pathogenic/Likely pathogenic, drug response                      5\n",
       "drug response, other                                             4\n",
       "Conflicting interpretations of pathogenicity, drug response      4\n",
       "Benign, drug response                                            1\n",
       "Benign, drug response, risk factor                               1\n",
       "Likely benign, drug response                                     1\n",
       "Benign/Likely benign, drug response, risk factor                 1\n",
       "Benign/Likely benign, drug response                              1\n",
       "Name: clinical_significance, dtype: int64"
      ]
     },
     "execution_count": 36,
     "metadata": {},
     "output_type": "execute_result"
    }
   ],
   "source": [
    "clinvar_drug.clinical_significance.value_counts()"
   ]
  },
  {
   "cell_type": "code",
   "execution_count": 37,
   "metadata": {},
   "outputs": [
    {
     "name": "stdout",
     "output_type": "stream",
     "text": [
      "0\n"
     ]
    }
   ],
   "source": [
    "# filter to only include variants in fa genes\n",
    "clinvar_drug_fa = clinvar_drug[clinvar_drug.symbol.isin(set(fa_genes.hgnc))]\n",
    "print(len(clinvar_drug_fa))"
   ]
  }
 ],
 "metadata": {
  "kernelspec": {
   "display_name": "Python 3",
   "language": "python",
   "name": "python3"
  },
  "language_info": {
   "codemirror_mode": {
    "name": "ipython",
    "version": 3
   },
   "file_extension": ".py",
   "mimetype": "text/x-python",
   "name": "python",
   "nbconvert_exporter": "python",
   "pygments_lexer": "ipython3",
   "version": "3.5.2"
  }
 },
 "nbformat": 4,
 "nbformat_minor": 2
}
