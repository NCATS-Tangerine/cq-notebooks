{
 "cells": [
  {
   "cell_type": "code",
   "execution_count": 1,
   "metadata": {
    "collapsed": true
   },
   "outputs": [],
   "source": [
    "import requests\n",
    "import pandas as pd"
   ]
  },
  {
   "cell_type": "code",
   "execution_count": 2,
   "metadata": {},
   "outputs": [
    {
     "name": "stdout",
     "output_type": "stream",
     "text": [
      "\"FANCA\" \"FANCB\" \"FANCC\" \"FANCE\" \"FANCF\" \"FANCG\" \"FANCL\" \"FANCM\" \"FANCD2\" \"FANCI\" \"UBE2T\"\nFANCA,FANCB,FANCC,FANCE,FANCF,FANCG,FANCL,FANCM,FANCD2,FANCI,UBE2T\n"
     ]
    }
   ],
   "source": [
    "url = \"https://raw.githubusercontent.com/NCATS-Tangerine/cq-notebooks/master/FA_gene_sets/FA_1_core_complex.txt\"\n",
    "core_genes = list(pd.DataFrame.from_csv(url, sep=\"\\t\", header=None)[1])\n",
    "core_genes_quotes = '\"' + '\" \"'.join(core_genes) + '\"'\n",
    "print(core_genes_quotes)\n",
    "print(\",\".join(core_genes))"
   ]
  },
  {
   "cell_type": "code",
   "execution_count": 3,
   "metadata": {},
   "outputs": [
    {
     "data": {
      "text/plain": [
       "[{'FANCA': []},\n {'FANCC': [{'evidence_items': {'accepted_count': 1,\n     'rejected_count': 0,\n     'submitted_count': 0},\n    'id': 534,\n    'name': 'LOSS-OF-FUNCTION'}]},\n {'FANCD2': []},\n {'FANCE': []},\n {'FANCB': []},\n {'FANCF': []},\n {'FANCG': []},\n {'UBE2T': []},\n {'FANCL': []},\n {'FANCI': []},\n {'FANCM': []}]"
      ]
     },
     "execution_count": 3,
     "metadata": {},
     "output_type": "execute_result"
    }
   ],
   "source": [
    "# civic url: \n",
    "url = \"https://civic.genome.wustl.edu/api/genes/{}?identifier_type=entrez_symbol\".format(\",\".join(core_genes))\n",
    "d = requests.get(url).json()\n",
    "[{x['name']:x['variants']} for x in d]"
   ]
  },
  {
   "cell_type": "code",
   "execution_count": null,
   "metadata": {},
   "outputs": [],
   "source": [
    "## only ONE variant in civic for these genes\n",
    "# (this is a sanity check on wikidata, because we get no results below)"
   ]
  },
  {
   "cell_type": "code",
   "execution_count": 7,
   "metadata": {},
   "outputs": [],
   "source": [
    "query = \"\"\"select ?geneLabel ?variantLabel ?variant ?drugLabel ?cid ?diseaseLabel ?ref where {\n",
    "  values ?hgnc {**hgnc**}\n",
    "  ?gene wdt:P353 ?hgnc .\n",
    "  ?variant wdt:P3433 ?gene .\n",
    "  ?variant p:P3355 ?s .\n",
    "  ?s ps:P3355 ?drug .\n",
    "  ?s prov:wasDerivedFrom/pr:P854 ?ref .\n",
    "  ?drug wdt:P662 ?cid .\n",
    "  ?s pq:P2175 ?disease .\n",
    "  ?disease wdt:P279* wd:Q12078 .\n",
    "  SERVICE wikibase:label {  bd:serviceParam wikibase:language \"en\" }\n",
    "}\n",
    "\"\"\""
   ]
  },
  {
   "cell_type": "code",
   "execution_count": 8,
   "metadata": {},
   "outputs": [
    {
     "data": {
      "text/plain": [
       "[]"
      ]
     },
     "execution_count": 8,
     "metadata": {},
     "output_type": "execute_result"
    }
   ],
   "source": [
    "params = { 'query': query.replace(\"**hgnc**\", core_genes_quotes), 'format': 'json'}\n",
    "results = requests.get('https://query.wikidata.org/sparql', params=params).json()['results']['bindings']\n",
    "[{k:v['value'] for k,v in item.items()} for item in results]"
   ]
  },
  {
   "cell_type": "code",
   "execution_count": 9,
   "metadata": {},
   "outputs": [
    {
     "data": {
      "text/plain": [
       "[{'cid': '23725625',\n  'diseaseLabel': 'breast cancer',\n  'drugLabel': 'olaparib',\n  'geneLabel': 'BRCA1',\n  'ref': 'https://civic.genome.wustl.edu/links/evidence/1775',\n  'variant': 'http://www.wikidata.org/entity/Q28444960',\n  'variantLabel': 'BRCA1 MUTATION'},\n {'cid': '23725625',\n  'diseaseLabel': 'breast cancer',\n  'drugLabel': 'olaparib',\n  'geneLabel': 'BRCA2',\n  'ref': 'https://civic.genome.wustl.edu/links/evidence/1776',\n  'variant': 'http://www.wikidata.org/entity/Q28444961',\n  'variantLabel': 'BRCA2 MUTATION'}]"
      ]
     },
     "execution_count": 9,
     "metadata": {},
     "output_type": "execute_result"
    }
   ],
   "source": [
    "### include effector proteins as well\n",
    "url = \"https://raw.githubusercontent.com/NCATS-Tangerine/cq-notebooks/master/FA_gene_sets/FA_2_effector_proteins.txt\"\n",
    "effector_genes = core_genes + list(pd.DataFrame.from_csv(url, sep=\"\\t\", header=None)[1])\n",
    "effector_genes_quotes = '\"' + '\" \"'.join(effector_genes) + '\"'\n",
    "params = { 'query': query.replace(\"**hgnc**\", effector_genes_quotes), 'format': 'json'}\n",
    "results = requests.get('https://query.wikidata.org/sparql', params=params).json()['results']['bindings']\n",
    "[{k:v['value'] for k,v in item.items()} for item in results]"
   ]
  },
  {
   "cell_type": "code",
   "execution_count": null,
   "metadata": {},
   "outputs": [],
   "source": [
    ""
   ]
  }
 ],
 "metadata": {
  "kernelspec": {
   "display_name": "Python 2",
   "language": "python",
   "name": "python2"
  },
  "language_info": {
   "codemirror_mode": {
    "name": "ipython",
    "version": 2.0
   },
   "file_extension": ".py",
   "mimetype": "text/x-python",
   "name": "python",
   "nbconvert_exporter": "python",
   "pygments_lexer": "ipython2",
   "version": "2.7.6"
  }
 },
 "nbformat": 4,
 "nbformat_minor": 0
}