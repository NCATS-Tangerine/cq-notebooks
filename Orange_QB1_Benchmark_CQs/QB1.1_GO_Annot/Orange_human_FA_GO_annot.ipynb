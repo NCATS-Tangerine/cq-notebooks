{
 "cells": [
  {
   "cell_type": "code",
   "execution_count": 29,
   "metadata": {
    "collapsed": true
   },
   "outputs": [],
   "source": [
    "#setup\n",
    "\n",
    "import urllib.request\n",
    "import json \n",
    "import datetime\n",
    "import pandas as pd\n",
    "import numpy as np\n",
    "import array\n",
    "import matplotlib\n",
    "import seaborn\n",
    "\n",
    "from IPython.core.display import display, HTML"
   ]
  },
  {
   "cell_type": "markdown",
   "metadata": {},
   "source": [
    "# The MONARCH mart bulk call to retrieve all gene annotations for all human genes.\n",
    "\n",
    "Note: this call may give server errors from time to time, rerunning usually resolves."
   ]
  },
  {
   "cell_type": "code",
   "execution_count": 4,
   "metadata": {},
   "outputs": [
    {
     "name": "stdout",
     "output_type": "stream",
     "text": [
      "14:43:50.148908\n",
      "14:43:59.326184\n"
     ]
    }
   ],
   "source": [
    "print(datetime.datetime.now().time())\n",
    "\n",
    "GO_data = []\n",
    "with urllib.request.urlopen(\"https://api.monarchinitiative.org/api/mart/gene/function/NCBITaxon:9606\") as url:\n",
    "    GO_data.append(json.loads(url.read().decode()))\n",
    "\n",
    "print(datetime.datetime.now().time())"
   ]
  },
  {
   "cell_type": "code",
   "execution_count": 40,
   "metadata": {},
   "outputs": [
    {
     "data": {
      "text/plain": [
       "{'objects': ['GO:0016020',\n",
       "  'GO:0005811',\n",
       "  'GO:0016192',\n",
       "  'GO:0005794',\n",
       "  'GO:0005515',\n",
       "  'GO:0005768',\n",
       "  'GO:0005737',\n",
       "  'GO:0030133',\n",
       "  'GO:0010008',\n",
       "  'GO:0045296',\n",
       "  'GO:0005829'],\n",
       " 'relation': None,\n",
       " 'subject': 'UniProtKB:O60664',\n",
       " 'subject_label': 'PLIN3'}"
      ]
     },
     "execution_count": 40,
     "metadata": {},
     "output_type": "execute_result"
    }
   ],
   "source": [
    "GO_data[0][0]"
   ]
  },
  {
   "cell_type": "markdown",
   "metadata": {},
   "source": [
    "# Retrieving the core, effector, associated, and all FA gene sets from github."
   ]
  },
  {
   "cell_type": "code",
   "execution_count": 11,
   "metadata": {},
   "outputs": [
    {
     "name": "stdout",
     "output_type": "stream",
     "text": [
      "14:47:55.393451\n",
      "14:47:55.693251\n",
      "14:47:55.693410\n",
      "14:47:55.990861\n",
      "14:47:55.991013\n",
      "14:47:56.293340\n",
      "14:47:56.293490\n",
      "14:47:56.583171\n"
     ]
    }
   ],
   "source": [
    "print(datetime.datetime.now().time())\n",
    "FA_core = []\n",
    "with urllib.request.urlopen(\"https://raw.githubusercontent.com/NCATS-Tangerine/cq-notebooks/master/FA_gene_sets/FA_1_core_complex.txt\") as url:\n",
    "    FA_core.append(url.read())\n",
    "print(datetime.datetime.now().time())\n",
    "\n",
    "print(datetime.datetime.now().time())\n",
    "FA_effector = []\n",
    "with urllib.request.urlopen(\"https://raw.githubusercontent.com/NCATS-Tangerine/cq-notebooks/master/FA_gene_sets/FA_2_effector_proteins.txt\") as url:\n",
    "    FA_effector.append(url.read())\n",
    "print(datetime.datetime.now().time())\n",
    "\n",
    "print(datetime.datetime.now().time())\n",
    "FA_assoc = []\n",
    "with urllib.request.urlopen(\"https://raw.githubusercontent.com/NCATS-Tangerine/cq-notebooks/master/FA_gene_sets/FA_3_associated_proteins.txt\") as url:\n",
    "    FA_assoc.append(url.read())\n",
    "print(datetime.datetime.now().time())\n",
    "\n",
    "print(datetime.datetime.now().time())\n",
    "FA_all = []\n",
    "with urllib.request.urlopen(\"https://raw.githubusercontent.com/NCATS-Tangerine/cq-notebooks/master/FA_gene_sets/FA_4_all_genes.txt\") as url:\n",
    "    FA_all.append(url.read())\n",
    "print(datetime.datetime.now().time())"
   ]
  },
  {
   "cell_type": "markdown",
   "metadata": {},
   "source": [
    "# Collecting GO annotations for core FA genes"
   ]
  },
  {
   "cell_type": "code",
   "execution_count": 43,
   "metadata": {},
   "outputs": [
    {
     "name": "stdout",
     "output_type": "stream",
     "text": [
      "NCBIGene:2175\n",
      "https://api.monarchinitiative.org/api/bioentity/gene/NCBIGene:2175/function/\n",
      "NCBIGene:2187\n",
      "https://api.monarchinitiative.org/api/bioentity/gene/NCBIGene:2187/function/\n",
      "NCBIGene:2176\n",
      "https://api.monarchinitiative.org/api/bioentity/gene/NCBIGene:2176/function/\n",
      "NCBIGene:2178\n",
      "https://api.monarchinitiative.org/api/bioentity/gene/NCBIGene:2178/function/\n",
      "NCBIGene:2188\n",
      "https://api.monarchinitiative.org/api/bioentity/gene/NCBIGene:2188/function/\n",
      "NCBIGene:2189\n",
      "https://api.monarchinitiative.org/api/bioentity/gene/NCBIGene:2189/function/\n",
      "NCBIGene:55120\n",
      "https://api.monarchinitiative.org/api/bioentity/gene/NCBIGene:55120/function/\n",
      "NCBIGene:57697\n",
      "https://api.monarchinitiative.org/api/bioentity/gene/NCBIGene:57697/function/\n",
      "NCBIGene:2177\n",
      "https://api.monarchinitiative.org/api/bioentity/gene/NCBIGene:2177/function/\n",
      "NCBIGene:55215\n",
      "https://api.monarchinitiative.org/api/bioentity/gene/NCBIGene:55215/function/\n",
      "NCBIGene:29089\n",
      "https://api.monarchinitiative.org/api/bioentity/gene/NCBIGene:29089/function/\n"
     ]
    }
   ],
   "source": [
    "FA_core_list= FA_core[0].splitlines()\n",
    "#print( len(FA_core_list))\n",
    "\n",
    "gene_GO_dict = dict()\n",
    "\n",
    "for i in range(0, len(FA_core_list)):\n",
    "    curlist = FA_core_list[i].split()\n",
    "    curid = curlist[0].decode(\"utf-8\") \n",
    "    print(curid)\n",
    "    #for j in range(0, len(GO_data[0])):\n",
    "        #print(GO_data[0][j]['subject_label'] )\n",
    "        \n",
    "    qurl = \"https://api.monarchinitiative.org/api/bioentity/gene/\"+curid+\"/function/\"\n",
    "    print(qurl)\n",
    "    with urllib.request.urlopen(qurl) as thisurl:\n",
    "        getdata = json.loads(thisurl.read().decode())\n",
    "\n",
    "        for j in range(0, len(getdata['associations'])):\n",
    "            #print(getdata['associations'][j]['object']['id'])\n",
    "            if curlist[1] not in gene_GO_dict:\n",
    "                gene_GO_dict[curlist[1]] = getdata['associations'][j]['object']['label']\n",
    "            else:\n",
    "                curdata = gene_GO_dict[curlist[1]] \n",
    "                if curdata.find(getdata['associations'][j]['object']['label']) == -1:\n",
    "                    gene_GO_dict[curlist[1]] = curdata+\", \"+getdata['associations'][j]['object']['label']\n",
    " \n"
   ]
  },
  {
   "cell_type": "markdown",
   "metadata": {},
   "source": [
    "# Display GO annotations for core FA genes"
   ]
  },
  {
   "cell_type": "code",
   "execution_count": 45,
   "metadata": {},
   "outputs": [
    {
     "data": {
      "text/html": [
       "<table><thead><tr><th>Gene name</th><th>GO term</th></tr></thead><tbody><tr><td>FANCA</td><td>protein binding, nucleus, nucleoplasm</td></tr><tr><td>FANCB</td><td>protein binding, nucleoplasm, interstrand cross-link repair, Fanconi anaemia nuclear complex</td></tr><tr><td>FANCC</td><td>myeloid cell homeostasis, protein binding, nucleus, nucleoplasm, cytoplasm, cytosol, DNA repair, nucleotide-excision repair, protein complex assembly</td></tr><tr><td>FANCE</td><td>molecular_function, nucleus, nucleoplasm, interstrand cross-link repair, Fanconi anaemia nuclear complex</td></tr><tr><td>FANCF</td><td>ovarian follicle development, molecular_function, protein binding, nucleoplasm, spermatogenesis, biological_process, protein ubiquitination, interstrand cross-link repair</td></tr><tr><td>FANCG</td><td>cell cycle checkpoint, ovarian follicle development, damaged DNA binding, protein binding, nucleoplasm</td></tr><tr><td>FANCL</td><td>ubiquitin-protein transferase activity, protein binding, nuclear envelope, nucleoplasm</td></tr><tr><td>FANCM</td><td>resolution of meiotic recombination intermediates, DNA binding, chromatin binding, helicase activity, nuclease activity, protein binding, ATP binding, nucleoplasm</td></tr><tr><td>FANCD2</td><td>condensed chromosome, protein binding, nucleus, nucleoplasm</td></tr><tr><td>FANCI</td><td>DNA binding, protein binding, nucleoplasm, cytosol, mitotic G2 DNA damage checkpoint, membrane, positive regulation of protein ubiquitination</td></tr><tr><td>UBE2T</td><td>chromatin binding, ubiquitin-protein transferase activity, protein binding, ATP binding, nucleus, nucleoplasm, nucleolus, cytoplasm, DNA repair, protein monoubiquitination</td></tr></tbody></table>"
      ],
      "text/plain": [
       "<IPython.core.display.HTML object>"
      ]
     },
     "metadata": {},
     "output_type": "display_data"
    }
   ],
   "source": [
    "my_html = '<table><thead><tr><th>Gene name</th><th>GO term</th></tr></thead><tbody>{}</tbody></table>'\n",
    "rows = []\n",
    "\n",
    "for k, v in gene_GO_dict.items():\n",
    "    rows.append('<tr><td>{}</td><td>{}</td></tr>'.format(k.decode(\"utf-8\") , v))\n",
    "result = my_html.format(''.join(rows))\n",
    "display(HTML(result))"
   ]
  },
  {
   "cell_type": "markdown",
   "metadata": {},
   "source": [
    "# Collecting GO annotations for effector FA genes"
   ]
  },
  {
   "cell_type": "code",
   "execution_count": 46,
   "metadata": {},
   "outputs": [
    {
     "name": "stdout",
     "output_type": "stream",
     "text": [
      "NCBIGene:675\n",
      "https://api.monarchinitiative.org/api/bioentity/gene/NCBIGene:675/function/\n",
      "NCBIGene:83990\n",
      "https://api.monarchinitiative.org/api/bioentity/gene/NCBIGene:83990/function/\n",
      "NCBIGene:79728\n",
      "https://api.monarchinitiative.org/api/bioentity/gene/NCBIGene:79728/function/\n",
      "NCBIGene:5889\n",
      "https://api.monarchinitiative.org/api/bioentity/gene/NCBIGene:5889/function/\n",
      "NCBIGene:84464\n",
      "https://api.monarchinitiative.org/api/bioentity/gene/NCBIGene:84464/function/\n",
      "NCBIGene:2072\n",
      "https://api.monarchinitiative.org/api/bioentity/gene/NCBIGene:2072/function/\n",
      "NCBIGene:5888\n",
      "https://api.monarchinitiative.org/api/bioentity/gene/NCBIGene:5888/function/\n",
      "NCBIGene:672\n",
      "https://api.monarchinitiative.org/api/bioentity/gene/NCBIGene:672/function/\n",
      "NCBIGene:10459\n",
      "https://api.monarchinitiative.org/api/bioentity/gene/NCBIGene:10459/function/\n",
      "NCBIGene:7516\n",
      "https://api.monarchinitiative.org/api/bioentity/gene/NCBIGene:7516/function/\n",
      "NCBIGene:55159\n",
      "https://api.monarchinitiative.org/api/bioentity/gene/NCBIGene:55159/function/\n"
     ]
    }
   ],
   "source": [
    "FA_effector_list= FA_effector[0].splitlines()\n",
    "#print( len(FA_core_list))\n",
    "\n",
    "gene_GO_dict_effectors = dict()\n",
    "\n",
    "for i in range(0, len(FA_effector_list)):\n",
    "    curlist = FA_effector_list[i].split()\n",
    "    curid = curlist[0].decode(\"utf-8\") \n",
    "    print(curid)\n",
    "        \n",
    "    qurl = \"https://api.monarchinitiative.org/api/bioentity/gene/\"+curid+\"/function/\"\n",
    "    print(qurl)\n",
    "    with urllib.request.urlopen(qurl) as thisurl:\n",
    "        getdata = json.loads(thisurl.read().decode())\n",
    "\n",
    "        for j in range(0, len(getdata['associations'])):\n",
    "            #print(getdata['associations'][j]['object']['id'])\n",
    "            if curlist[1] not in gene_GO_dict:\n",
    "                gene_GO_dict_effectors[curlist[1]] = getdata['associations'][j]['object']['label']\n",
    "            else:\n",
    "                curdata = gene_GO_dict_effectors[curlist[1]] \n",
    "                if curdata.find(getdata['associations'][j]['object']['label']) == -1:\n",
    "                    gene_GO_dict_effectors[curlist[1]] = curdata+\", \"+getdata['associations'][j]['object']['label']\n"
   ]
  },
  {
   "cell_type": "markdown",
   "metadata": {},
   "source": [
    "# Display GO annotations for effector FA genes"
   ]
  },
  {
   "cell_type": "code",
   "execution_count": 47,
   "metadata": {},
   "outputs": [
    {
     "data": {
      "text/html": [
       "<table><thead><tr><th>Gene name</th><th>GO term</th></tr></thead><tbody><tr><td>BRCA2</td><td>protein binding</td></tr><tr><td>BRIP1</td><td>nucleoplasm</td></tr><tr><td>PALB2</td><td>protein binding</td></tr><tr><td>RAD51C</td><td>protein binding</td></tr><tr><td>SLX4</td><td>protein binding</td></tr><tr><td>ERCC4</td><td>protein binding</td></tr><tr><td>RAD51</td><td>chromatin binding</td></tr><tr><td>BRCA1</td><td>protein binding</td></tr><tr><td>MAD2L2</td><td>protein binding</td></tr><tr><td>XRCC2</td><td>protein binding</td></tr><tr><td>RFWD3</td><td>cytoplasm</td></tr></tbody></table>"
      ],
      "text/plain": [
       "<IPython.core.display.HTML object>"
      ]
     },
     "metadata": {},
     "output_type": "display_data"
    }
   ],
   "source": [
    "my_html = '<table><thead><tr><th>Gene name</th><th>GO term</th></tr></thead><tbody>{}</tbody></table>'\n",
    "rows = []\n",
    "\n",
    "for k, v in gene_GO_dict_effectors.items():\n",
    "    rows.append('<tr><td>{}</td><td>{}</td></tr>'.format(k.decode(\"utf-8\") , v))\n",
    "result = my_html.format(''.join(rows))\n",
    "display(HTML(result))"
   ]
  },
  {
   "cell_type": "markdown",
   "metadata": {},
   "source": [
    "# Collecting GO annotations for associated FA genes"
   ]
  },
  {
   "cell_type": "code",
   "execution_count": 49,
   "metadata": {},
   "outputs": [
    {
     "name": "stdout",
     "output_type": "stream",
     "text": [
      "NCBIGene:80233\n",
      "https://api.monarchinitiative.org/api/bioentity/gene/NCBIGene:80233/function/\n",
      "NCBIGene:91442\n",
      "https://api.monarchinitiative.org/api/bioentity/gene/NCBIGene:91442/function/\n",
      "NCBIGene:199990\n",
      "https://api.monarchinitiative.org/api/bioentity/gene/NCBIGene:199990/function/\n",
      "NCBIGene:378708\n",
      "https://api.monarchinitiative.org/api/bioentity/gene/NCBIGene:378708/function/\n",
      "NCBIGene:201254\n",
      "https://api.monarchinitiative.org/api/bioentity/gene/NCBIGene:201254/function/\n"
     ]
    }
   ],
   "source": [
    "FA_associated_list= FA_assoc[0].splitlines()\n",
    "#print( len(FA_core_list))\n",
    "\n",
    "gene_GO_dict_associated = dict()\n",
    "\n",
    "for i in range(0, len(FA_associated_list)):\n",
    "    curlist = FA_associated_list[i].split()\n",
    "    curid = curlist[0].decode(\"utf-8\") \n",
    "    print(curid)\n",
    "        \n",
    "    qurl = \"https://api.monarchinitiative.org/api/bioentity/gene/\"+curid+\"/function/\"\n",
    "    print(qurl)\n",
    "    with urllib.request.urlopen(qurl) as thisurl:\n",
    "        getdata = json.loads(thisurl.read().decode())\n",
    "\n",
    "        for j in range(0, len(getdata['associations'])):\n",
    "            #print(getdata['associations'][j]['object']['id'])\n",
    "            if curlist[1] not in gene_GO_dict:\n",
    "                gene_GO_dict_associated[curlist[1]] = getdata['associations'][j]['object']['label']\n",
    "            else:\n",
    "                curdata = gene_GO_dict_associated[curlist[1]] \n",
    "                if curdata.find(getdata['associations'][j]['object']['label']) == -1:\n",
    "                    gene_GO_dict_associated[curlist[1]] = curdata+\", \"+getdata['associations'][j]['object']['label']\n"
   ]
  },
  {
   "cell_type": "markdown",
   "metadata": {},
   "source": [
    "# Display GO annotations for associated FA genes"
   ]
  },
  {
   "cell_type": "code",
   "execution_count": 50,
   "metadata": {},
   "outputs": [
    {
     "data": {
      "text/html": [
       "<table><thead><tr><th>Gene name</th><th>GO term</th></tr></thead><tbody><tr><td>FAAP100</td><td>intermediate filament cytoskeleton</td></tr><tr><td>FAAP24</td><td>Fanconi anaemia nuclear complex</td></tr><tr><td>FAAP20</td><td>cellular response to DNA damage stimulus</td></tr><tr><td>CENPS</td><td>nucleoplasm</td></tr><tr><td>CENPX</td><td>nucleoplasm</td></tr></tbody></table>"
      ],
      "text/plain": [
       "<IPython.core.display.HTML object>"
      ]
     },
     "metadata": {},
     "output_type": "display_data"
    }
   ],
   "source": [
    "my_html = '<table><thead><tr><th>Gene name</th><th>GO term</th></tr></thead><tbody>{}</tbody></table>'\n",
    "rows = []\n",
    "\n",
    "for k, v in gene_GO_dict_associated.items():\n",
    "    rows.append('<tr><td>{}</td><td>{}</td></tr>'.format(k.decode(\"utf-8\") , v))\n",
    "result = my_html.format(''.join(rows))\n",
    "display(HTML(result))"
   ]
  }
 ],
 "metadata": {
  "kernelspec": {
   "display_name": "Python 3",
   "language": "python",
   "name": "python3"
  },
  "language_info": {
   "codemirror_mode": {
    "name": "ipython",
    "version": 3
   },
   "file_extension": ".py",
   "mimetype": "text/x-python",
   "name": "python",
   "nbconvert_exporter": "python",
   "pygments_lexer": "ipython3",
   "version": "3.6.1"
  }
 },
 "nbformat": 4,
 "nbformat_minor": 2
}
