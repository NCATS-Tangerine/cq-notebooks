{
 "cells": [
  {
   "cell_type": "code",
   "execution_count": 73,
   "metadata": {},
   "outputs": [],
   "source": [
    "###setup\n",
    "\n",
    "import urllib.request\n",
    "import json \n",
    "import datetime\n",
    "import pandas as pd\n",
    "import numpy as np\n",
    "import array\n",
    "import matplotlib\n",
    "import seaborn\n",
    "\n",
    "from IPython.core.display import display, HTML\n"
   ]
  },
  {
   "cell_type": "code",
   "execution_count": 6,
   "metadata": {},
   "outputs": [
    {
     "name": "stdout",
     "output_type": "stream",
     "text": [
      "13:20:02.486038\n",
      "13:20:12.613107\n"
     ]
    }
   ],
   "source": [
    "print(datetime.datetime.now().time())\n",
    "\n",
    "GO_data = []\n",
    "with urllib.request.urlopen(\"https://api.monarchinitiative.org/api/mart/gene/function/NCBITaxon:9606\") as url:\n",
    "    GO_data.append(json.loads(url.read().decode()))\n",
    "\n",
    "print(datetime.datetime.now().time())"
   ]
  },
  {
   "cell_type": "code",
   "execution_count": 10,
   "metadata": {},
   "outputs": [
    {
     "name": "stdout",
     "output_type": "stream",
     "text": [
      "13:22:26.419157\n",
      "13:22:26.763431\n",
      "13:22:26.763585\n",
      "13:22:26.983123\n",
      "13:22:26.983262\n",
      "13:22:27.194185\n"
     ]
    }
   ],
   "source": [
    "print(datetime.datetime.now().time())\n",
    "FA_core = []\n",
    "with urllib.request.urlopen(\"https://raw.githubusercontent.com/NCATS-Tangerine/cq-notebooks/master/FA_gene_sets/FA_1_core_complex.txt\") as url:\n",
    "    FA_core.append(url.read())\n",
    "print(datetime.datetime.now().time())\n",
    "\n",
    "\n",
    "print(datetime.datetime.now().time())\n",
    "FA_effector = []\n",
    "with urllib.request.urlopen(\"https://raw.githubusercontent.com/NCATS-Tangerine/cq-notebooks/master/FA_gene_sets/FA_1_core_complex.txt\") as url:\n",
    "    FA_effector.append(url.read())\n",
    "print(datetime.datetime.now().time())\n",
    "\n",
    "print(datetime.datetime.now().time())\n",
    "FA_assoc = []\n",
    "with urllib.request.urlopen(\"https://raw.githubusercontent.com/NCATS-Tangerine/cq-notebooks/master/FA_gene_sets/FA_1_core_complex.txt\") as url:\n",
    "    FA_assoc.append(url.read())\n",
    "print(datetime.datetime.now().time())\n"
   ]
  },
  {
   "cell_type": "code",
   "execution_count": 35,
   "metadata": {},
   "outputs": [
    {
     "data": {
      "text/plain": [
       "[b'NCBIGene:2175\\tFANCA\\nNCBIGene:2187\\tFANCB\\nNCBIGene:2176\\tFANCC\\nNCBIGene:2178\\tFANCE\\nNCBIGene:2188\\tFANCF\\nNCBIGene:2189\\tFANCG\\nNCBIGene:55120\\tFANCL\\nNCBIGene:57697\\tFANCM\\nNCBIGene:2177\\tFANCD2\\nNCBIGene:55215\\tFANCI\\nNCBIGene:29089\\tUBE2T\\n']"
      ]
     },
     "execution_count": 35,
     "metadata": {},
     "output_type": "execute_result"
    }
   ],
   "source": [
    "FA_core"
   ]
  },
  {
   "cell_type": "code",
   "execution_count": 84,
   "metadata": {},
   "outputs": [
    {
     "name": "stdout",
     "output_type": "stream",
     "text": [
      "NCBIGene:2175\n",
      "https://api.monarchinitiative.org/api/bioentity/gene/NCBIGene:2175/function/\n",
      "NCBIGene:2187\n",
      "https://api.monarchinitiative.org/api/bioentity/gene/NCBIGene:2187/function/\n",
      "NCBIGene:2176\n",
      "https://api.monarchinitiative.org/api/bioentity/gene/NCBIGene:2176/function/\n",
      "NCBIGene:2178\n",
      "https://api.monarchinitiative.org/api/bioentity/gene/NCBIGene:2178/function/\n",
      "NCBIGene:2188\n",
      "https://api.monarchinitiative.org/api/bioentity/gene/NCBIGene:2188/function/\n",
      "NCBIGene:2189\n",
      "https://api.monarchinitiative.org/api/bioentity/gene/NCBIGene:2189/function/\n",
      "NCBIGene:55120\n",
      "https://api.monarchinitiative.org/api/bioentity/gene/NCBIGene:55120/function/\n",
      "NCBIGene:57697\n",
      "https://api.monarchinitiative.org/api/bioentity/gene/NCBIGene:57697/function/\n",
      "NCBIGene:2177\n",
      "https://api.monarchinitiative.org/api/bioentity/gene/NCBIGene:2177/function/\n",
      "NCBIGene:55215\n",
      "https://api.monarchinitiative.org/api/bioentity/gene/NCBIGene:55215/function/\n",
      "NCBIGene:29089\n",
      "https://api.monarchinitiative.org/api/bioentity/gene/NCBIGene:29089/function/\n"
     ]
    }
   ],
   "source": [
    "FA_core_list= FA_core[0].splitlines()\n",
    "#print( len(FA_core_list))\n",
    "\n",
    "gene_GO_dict = dict()\n",
    "\n",
    "for i in range(0, len(FA_core_list)):\n",
    "    curlist = FA_core_list[i].split()\n",
    "    curid = curlist[0].decode(\"utf-8\") \n",
    "    print(curid)\n",
    "    #for j in range(0, len(GO_data[0])):\n",
    "        #print(GO_data[0][j]['subject_label'] )\n",
    "        \n",
    "    qurl = \"https://api.monarchinitiative.org/api/bioentity/gene/\"+curid+\"/function/\"\n",
    "    print(qurl)\n",
    "    with urllib.request.urlopen(qurl) as url:\n",
    "        getdata = json.loads(url.read().decode())\n",
    "\n",
    "        for j in range(0, len(getdata['associations'])):\n",
    "            #print(getdata['associations'][j]['object']['id'])\n",
    "            if curlist[1] not in gene_GO_dict:\n",
    "                gene_GO_dict[curlist[1]] = getdata['associations'][j]['object']['label']\n",
    "            else:\n",
    "                curdata = gene_GO_dict[curlist[1]] \n",
    "                if curdata.find(getdata['associations'][j]['object']['label']) == -1:\n",
    "                    gene_GO_dict[curlist[1]] = curdata+\", \"+getdata['associations'][j]['object']['label']\n",
    " \n"
   ]
  },
  {
   "cell_type": "code",
   "execution_count": 85,
   "metadata": {},
   "outputs": [
    {
     "data": {
      "text/html": [
       "<table><thead><tr><th>Gene name</th><th>GO term</th></tr></thead><tbody><tr><td>FANCA</td><td>protein binding</td></tr><tr><td>FANCB</td><td>protein binding, nucleoplasm, interstrand cross-link repair, Fanconi anaemia nuclear complex</td></tr><tr><td>FANCC</td><td>myeloid cell homeostasis, protein binding, nucleus, nucleoplasm</td></tr><tr><td>FANCE</td><td>molecular_function, protein binding, nucleus, nucleoplasm, interstrand cross-link repair, Fanconi anaemia nuclear complex</td></tr><tr><td>FANCF</td><td>ovarian follicle development, molecular_function, protein binding, nucleoplasm, spermatogenesis, biological_process, protein ubiquitination</td></tr><tr><td>FANCG</td><td>cell cycle checkpoint, ovarian follicle development, damaged DNA binding, protein binding, nucleoplasm</td></tr><tr><td>FANCL</td><td>ubiquitin-protein transferase activity, protein binding, nuclear envelope, nucleoplasm</td></tr><tr><td>FANCM</td><td>resolution of meiotic recombination intermediates, DNA binding, chromatin binding, helicase activity, nuclease activity, protein binding, ATP binding, nucleoplasm</td></tr><tr><td>FANCD2</td><td>condensed chromosome, protein binding, nucleus, nucleoplasm</td></tr><tr><td>FANCI</td><td>DNA binding, protein binding, nucleoplasm, cytosol, mitotic G2 DNA damage checkpoint</td></tr><tr><td>UBE2T</td><td>chromatin binding, ubiquitin-protein transferase activity, protein binding, ATP binding, nucleus, nucleoplasm, nucleolus, cytoplasm, DNA repair, protein monoubiquitination</td></tr></tbody></table>"
      ],
      "text/plain": [
       "<IPython.core.display.HTML object>"
      ]
     },
     "metadata": {},
     "output_type": "display_data"
    }
   ],
   "source": [
    "my_html = '<table><thead><tr><th>Gene name</th><th>GO term</th></tr></thead><tbody>{}</tbody></table>'\n",
    "rows = []\n",
    "\n",
    "for k, v in gene_GO_dict.items():\n",
    "    rows.append('<tr><td>{}</td><td>{}</td></tr>'.format(k.decode(\"utf-8\") , v))\n",
    "result = my_html.format(''.join(rows))\n",
    "display(HTML(result))"
   ]
  }
 ],
 "metadata": {
  "kernelspec": {
   "display_name": "Python 3",
   "language": "python",
   "name": "python3"
  },
  "language_info": {
   "codemirror_mode": {
    "name": "ipython",
    "version": 3
   },
   "file_extension": ".py",
   "mimetype": "text/x-python",
   "name": "python",
   "nbconvert_exporter": "python",
   "pygments_lexer": "ipython3",
   "version": "3.6.1"
  }
 },
 "nbformat": 4,
 "nbformat_minor": 2
}
