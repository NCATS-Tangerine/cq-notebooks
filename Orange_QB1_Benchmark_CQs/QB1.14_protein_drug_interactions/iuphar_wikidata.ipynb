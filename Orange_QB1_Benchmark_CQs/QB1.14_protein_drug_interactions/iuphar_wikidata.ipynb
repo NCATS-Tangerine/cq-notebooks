{
 "cells": [
  {
   "cell_type": "markdown",
   "metadata": {},
   "source": [
    "## Using Wikidata (data from IUPHAR), find protein-drug interactions with FA genes"
   ]
  },
  {
   "cell_type": "code",
   "execution_count": 1,
   "metadata": {
    "collapsed": true
   },
   "outputs": [],
   "source": [
    "import requests\n",
    "import pandas as pd\n",
    "pd.options.display.max_colwidth=100"
   ]
  },
  {
   "cell_type": "code",
   "execution_count": 7,
   "metadata": {
    "collapsed": true
   },
   "outputs": [],
   "source": [
    "def query_and_format_result(query):\n",
    "    params = {'query': query, 'format': 'json'}\n",
    "    results = requests.get('https://query.wikidata.org/sparql', params=params).json()['results']['bindings']\n",
    "    return pd.DataFrame([{k:v['value'] for k,v in item.items()} for item in results])"
   ]
  },
  {
   "cell_type": "markdown",
   "metadata": {},
   "source": [
    "### Load FA genes"
   ]
  },
  {
   "cell_type": "code",
   "execution_count": 11,
   "metadata": {
    "collapsed": false
   },
   "outputs": [
    {
     "name": "stdout",
     "output_type": "stream",
     "text": [
      "['FANCA', 'FANCB', 'FANCC', 'FANCE', 'FANCF', 'FANCG', 'FANCL', 'FANCM', 'FANCD2', 'FANCI', 'UBE2T', 'BRCA2', 'BRIP1', 'PALB2', 'RAD51C', 'SLX4', 'ERCC4', 'RAD51', 'BRCA1', 'MAD2L2', 'XRCC2', 'RFWD3', 'FAAP100', 'FAAP24', 'FAAP20', 'CENPS', 'CENPX']\n",
      "\"FANCA\" \"FANCB\" \"FANCC\" \"FANCE\" \"FANCF\" \"FANCG\" \"FANCL\" \"FANCM\" \"FANCD2\" \"FANCI\" \"UBE2T\" \"BRCA2\" \"BRIP1\" \"PALB2\" \"RAD51C\" \"SLX4\" \"ERCC4\" \"RAD51\" \"BRCA1\" \"MAD2L2\" \"XRCC2\" \"RFWD3\" \"FAAP100\" \"FAAP24\" \"FAAP20\" \"CENPS\" \"CENPX\"\n"
     ]
    }
   ],
   "source": [
    "url = \"https://raw.githubusercontent.com/NCATS-Tangerine/cq-notebooks/master/FA_gene_sets/FA_4_all_genes.txt\"\n",
    "fa_genes = list(pd.DataFrame.from_csv(url, sep=\"\\t\", header=None)[1])\n",
    "print(fa_genes)\n",
    "genes_quotes = '\"' + '\" \"'.join(fa_genes) + '\"'\n",
    "print(genes_quotes)"
   ]
  },
  {
   "cell_type": "markdown",
   "metadata": {},
   "source": [
    "### As an example, find all drugs that physically interact with HTR3A"
   ]
  },
  {
   "cell_type": "code",
   "execution_count": 12,
   "metadata": {
    "collapsed": false
   },
   "outputs": [
    {
     "data": {
      "text/html": [
       "<div>\n",
       "<table border=\"1\" class=\"dataframe\">\n",
       "  <thead>\n",
       "    <tr style=\"text-align: right;\">\n",
       "      <th></th>\n",
       "      <th>drug</th>\n",
       "      <th>drugLabel</th>\n",
       "      <th>prot</th>\n",
       "      <th>protLabel</th>\n",
       "    </tr>\n",
       "  </thead>\n",
       "  <tbody>\n",
       "    <tr>\n",
       "      <th>0</th>\n",
       "      <td>http://www.wikidata.org/entity/Q41576</td>\n",
       "      <td>cocaine</td>\n",
       "      <td>http://www.wikidata.org/entity/Q21108125</td>\n",
       "      <td>5-hydroxytryptamine receptor 3A</td>\n",
       "    </tr>\n",
       "    <tr>\n",
       "      <th>1</th>\n",
       "      <td>http://www.wikidata.org/entity/Q167934</td>\n",
       "      <td>pathogen</td>\n",
       "      <td>http://www.wikidata.org/entity/Q21108125</td>\n",
       "      <td>5-hydroxytryptamine receptor 3A</td>\n",
       "    </tr>\n",
       "    <tr>\n",
       "      <th>2</th>\n",
       "      <td>http://www.wikidata.org/entity/Q410011</td>\n",
       "      <td>ondansetron</td>\n",
       "      <td>http://www.wikidata.org/entity/Q21108125</td>\n",
       "      <td>5-hydroxytryptamine receptor 3A</td>\n",
       "    </tr>\n",
       "    <tr>\n",
       "      <th>3</th>\n",
       "      <td>http://www.wikidata.org/entity/Q416463</td>\n",
       "      <td>alosetron</td>\n",
       "      <td>http://www.wikidata.org/entity/Q21108125</td>\n",
       "      <td>5-hydroxytryptamine receptor 3A</td>\n",
       "    </tr>\n",
       "    <tr>\n",
       "      <th>4</th>\n",
       "      <td>http://www.wikidata.org/entity/Q418459</td>\n",
       "      <td>bilobalide</td>\n",
       "      <td>http://www.wikidata.org/entity/Q21108125</td>\n",
       "      <td>5-hydroxytryptamine receptor 3A</td>\n",
       "    </tr>\n",
       "    <tr>\n",
       "      <th>5</th>\n",
       "      <td>http://www.wikidata.org/entity/Q421095</td>\n",
       "      <td>metoclopramide</td>\n",
       "      <td>http://www.wikidata.org/entity/Q21108125</td>\n",
       "      <td>5-hydroxytryptamine receptor 3A</td>\n",
       "    </tr>\n",
       "    <tr>\n",
       "      <th>6</th>\n",
       "      <td>http://www.wikidata.org/entity/Q421268</td>\n",
       "      <td>tubocurarine</td>\n",
       "      <td>http://www.wikidata.org/entity/Q21108125</td>\n",
       "      <td>5-hydroxytryptamine receptor 3A</td>\n",
       "    </tr>\n",
       "    <tr>\n",
       "      <th>7</th>\n",
       "      <td>http://www.wikidata.org/entity/Q422229</td>\n",
       "      <td>diltiazem</td>\n",
       "      <td>http://www.wikidata.org/entity/Q21108125</td>\n",
       "      <td>5-hydroxytryptamine receptor 3A</td>\n",
       "    </tr>\n",
       "    <tr>\n",
       "      <th>8</th>\n",
       "      <td>http://www.wikidata.org/entity/Q2979523</td>\n",
       "      <td>ramosetron</td>\n",
       "      <td>http://www.wikidata.org/entity/Q21108125</td>\n",
       "      <td>5-hydroxytryptamine receptor 3A</td>\n",
       "    </tr>\n",
       "    <tr>\n",
       "      <th>9</th>\n",
       "      <td>http://www.wikidata.org/entity/Q3563148</td>\n",
       "      <td>vortioxetine</td>\n",
       "      <td>http://www.wikidata.org/entity/Q21108125</td>\n",
       "      <td>5-hydroxytryptamine receptor 3A</td>\n",
       "    </tr>\n",
       "    <tr>\n",
       "      <th>10</th>\n",
       "      <td>http://www.wikidata.org/entity/Q4596904</td>\n",
       "      <td>2-methyl-5-HT</td>\n",
       "      <td>http://www.wikidata.org/entity/Q21108125</td>\n",
       "      <td>5-hydroxytryptamine receptor 3A</td>\n",
       "    </tr>\n",
       "    <tr>\n",
       "      <th>11</th>\n",
       "      <td>http://www.wikidata.org/entity/Q4832285</td>\n",
       "      <td>azasetron</td>\n",
       "      <td>http://www.wikidata.org/entity/Q21108125</td>\n",
       "      <td>5-hydroxytryptamine receptor 3A</td>\n",
       "    </tr>\n",
       "    <tr>\n",
       "      <th>12</th>\n",
       "      <td>http://www.wikidata.org/entity/Q5119931</td>\n",
       "      <td>cilansetron</td>\n",
       "      <td>http://www.wikidata.org/entity/Q21108125</td>\n",
       "      <td>5-hydroxytryptamine receptor 3A</td>\n",
       "    </tr>\n",
       "    <tr>\n",
       "      <th>13</th>\n",
       "      <td>http://www.wikidata.org/entity/Q7272557</td>\n",
       "      <td>quipazine</td>\n",
       "      <td>http://www.wikidata.org/entity/Q21108125</td>\n",
       "      <td>5-hydroxytryptamine receptor 3A</td>\n",
       "    </tr>\n",
       "  </tbody>\n",
       "</table>\n",
       "</div>"
      ],
      "text/plain": [
       "                                       drug       drugLabel  \\\n",
       "0     http://www.wikidata.org/entity/Q41576         cocaine   \n",
       "1    http://www.wikidata.org/entity/Q167934        pathogen   \n",
       "2    http://www.wikidata.org/entity/Q410011     ondansetron   \n",
       "3    http://www.wikidata.org/entity/Q416463       alosetron   \n",
       "4    http://www.wikidata.org/entity/Q418459      bilobalide   \n",
       "5    http://www.wikidata.org/entity/Q421095  metoclopramide   \n",
       "6    http://www.wikidata.org/entity/Q421268    tubocurarine   \n",
       "7    http://www.wikidata.org/entity/Q422229       diltiazem   \n",
       "8   http://www.wikidata.org/entity/Q2979523      ramosetron   \n",
       "9   http://www.wikidata.org/entity/Q3563148    vortioxetine   \n",
       "10  http://www.wikidata.org/entity/Q4596904   2-methyl-5-HT   \n",
       "11  http://www.wikidata.org/entity/Q4832285       azasetron   \n",
       "12  http://www.wikidata.org/entity/Q5119931     cilansetron   \n",
       "13  http://www.wikidata.org/entity/Q7272557       quipazine   \n",
       "\n",
       "                                        prot                        protLabel  \n",
       "0   http://www.wikidata.org/entity/Q21108125  5-hydroxytryptamine receptor 3A  \n",
       "1   http://www.wikidata.org/entity/Q21108125  5-hydroxytryptamine receptor 3A  \n",
       "2   http://www.wikidata.org/entity/Q21108125  5-hydroxytryptamine receptor 3A  \n",
       "3   http://www.wikidata.org/entity/Q21108125  5-hydroxytryptamine receptor 3A  \n",
       "4   http://www.wikidata.org/entity/Q21108125  5-hydroxytryptamine receptor 3A  \n",
       "5   http://www.wikidata.org/entity/Q21108125  5-hydroxytryptamine receptor 3A  \n",
       "6   http://www.wikidata.org/entity/Q21108125  5-hydroxytryptamine receptor 3A  \n",
       "7   http://www.wikidata.org/entity/Q21108125  5-hydroxytryptamine receptor 3A  \n",
       "8   http://www.wikidata.org/entity/Q21108125  5-hydroxytryptamine receptor 3A  \n",
       "9   http://www.wikidata.org/entity/Q21108125  5-hydroxytryptamine receptor 3A  \n",
       "10  http://www.wikidata.org/entity/Q21108125  5-hydroxytryptamine receptor 3A  \n",
       "11  http://www.wikidata.org/entity/Q21108125  5-hydroxytryptamine receptor 3A  \n",
       "12  http://www.wikidata.org/entity/Q21108125  5-hydroxytryptamine receptor 3A  \n",
       "13  http://www.wikidata.org/entity/Q21108125  5-hydroxytryptamine receptor 3A  "
      ]
     },
     "execution_count": 12,
     "metadata": {},
     "output_type": "execute_result"
    }
   ],
   "source": [
    "query = \"\"\"SELECT ?drug ?drugLabel ?prot ?protLabel WHERE {\n",
    "  values ?hgnc {\"HTR3A\"}\n",
    "  ?gene wdt:P353 ?hgnc .\n",
    "  ?gene wdt:P688 ?prot .\n",
    "  ?drug wdt:P129 ?prot .\n",
    "  SERVICE wikibase:label { bd:serviceParam wikibase:language \"[AUTO_LANGUAGE],en\". }\n",
    "}\"\"\"\n",
    "query_and_format_result(query)"
   ]
  },
  {
   "cell_type": "code",
   "execution_count": 13,
   "metadata": {
    "collapsed": true
   },
   "outputs": [],
   "source": [
    "## same query but for FA genes"
   ]
  },
  {
   "cell_type": "code",
   "execution_count": 14,
   "metadata": {
    "collapsed": false
   },
   "outputs": [
    {
     "data": {
      "text/html": [
       "<div>\n",
       "<table border=\"1\" class=\"dataframe\">\n",
       "  <thead>\n",
       "    <tr style=\"text-align: right;\">\n",
       "      <th></th>\n",
       "    </tr>\n",
       "  </thead>\n",
       "  <tbody>\n",
       "  </tbody>\n",
       "</table>\n",
       "</div>"
      ],
      "text/plain": [
       "Empty DataFrame\n",
       "Columns: []\n",
       "Index: []"
      ]
     },
     "execution_count": 14,
     "metadata": {},
     "output_type": "execute_result"
    }
   ],
   "source": [
    "query = \"\"\"SELECT ?drug ?drugLabel ?prot ?protLabel WHERE {\n",
    "  values ?hgnc {****}\n",
    "  ?gene wdt:P353 ?hgnc .\n",
    "  ?gene wdt:P688 ?prot .\n",
    "  ?drug wdt:P129 ?prot .\n",
    "  SERVICE wikibase:label { bd:serviceParam wikibase:language \"[AUTO_LANGUAGE],en\". }\n",
    "}\"\"\".replace(\"****\", genes_quotes)\n",
    "query_and_format_result(query)"
   ]
  },
  {
   "cell_type": "code",
   "execution_count": null,
   "metadata": {
    "collapsed": true
   },
   "outputs": [],
   "source": [
    "## no results.... :("
   ]
  }
 ],
 "metadata": {
  "kernelspec": {
   "display_name": "Python 3",
   "language": "python",
   "name": "python3"
  },
  "language_info": {
   "codemirror_mode": {
    "name": "ipython",
    "version": 3
   },
   "file_extension": ".py",
   "mimetype": "text/x-python",
   "name": "python",
   "nbconvert_exporter": "python",
   "pygments_lexer": "ipython3",
   "version": "3.5.2"
  }
 },
 "nbformat": 4,
 "nbformat_minor": 2
}
