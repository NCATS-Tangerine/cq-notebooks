{
 "cells": [
  {
   "cell_type": "code",
   "execution_count": 1,
   "metadata": {},
   "outputs": [],
   "source": [
    "# import urllib2\n",
    "import requests\n",
    "import json\n",
    "import requests\n",
    "import csv\n",
    "import pandas"
   ]
  },
  {
   "cell_type": "markdown",
   "metadata": {},
   "source": [
    "# Small example\n",
    "\n",
    "Big GIM (Gene Interaction Miner) is a Translator Knowledge Source that contains function interaction data for all pairs of genes. Functional interaction data are available from four different sources: \n",
    "\n",
    "1. tissue-specific gene expression correlations from healthy tissue samples (GTEx), \n",
    "2. tissue-specific gene expression correlations from cancer samples (TCGA), \n",
    "3. tissue-specific probabilities of function interaction (GIANT), and \n",
    "4. direct interactions (BioGRID). \n",
    "   \n",
    "The data is stored as a Google BigQuery table enabling fast access.\n",
    "\n",
    "## Swagger api specification\n",
    "\n",
    "http://biggim.ncats.io/api/\n",
    "\n",
    "* 1.0 [Query Examples](#query_examples)\n",
    "    * 1.1 [Simple predefined query](#query_simple)\n",
    "    * 1.2 [Check the status of the simple predefined query](#query_status)\n",
    "    * 1.3 [Get the results as dataframe](#query_results)\n"
   ]
  },
  {
   "cell_type": "code",
   "execution_count": 2,
   "metadata": {
    "collapsed": true
   },
   "outputs": [],
   "source": [
    "base_url = 'http://biggim.ncats.io/api'"
   ]
  },
  {
   "cell_type": "code",
   "execution_count": 3,
   "metadata": {},
   "outputs": [],
   "source": [
    "#a couple of simple helper functions\n",
    "def post(endpoint, data={}, base_url=base_url):\n",
    "    req = requests.post('%s/%s' % (base_url,endpoint), data=data)\n",
    "    req.raise_for_status()\n",
    "    return req.json()\n",
    "\n",
    "def get(endpoint, data={}, base_url=base_url):\n",
    "    req = requests.get('%s/%s' % (base_url,endpoint), data=data)\n",
    "    req.raise_for_status()\n",
    "    return req.json()\n",
    "    \n",
    "\n",
    "def jprint(dct):\n",
    "    print(json.dumps(dct, indent=2))"
   ]
  },
  {
   "cell_type": "code",
   "execution_count": 4,
   "metadata": {},
   "outputs": [
    {
     "name": "stdout",
     "output_type": "stream",
     "text": [
      "Default table name: BigGIM_70_v1\n"
     ]
    }
   ],
   "source": [
    "try:\n",
    "    tables = get('/metadata/table')\n",
    "    #jprint(tables)\n",
    "except requests.HTTPError as e:\n",
    "    print(e)\n",
    "    print(\"#returned message\")\n",
    "    print(jprint(e.response.json()))\n",
    "\n",
    "default_table = [t for t in tables if t['default'] == True][0]['name']\n",
    "print(\"Default table name: %s\" % default_table)"
   ]
  },
  {
   "cell_type": "markdown",
   "metadata": {},
   "source": [
    "<a id=\"query_examples\"></a>\n",
    "## Query examples"
   ]
  },
  {
   "cell_type": "markdown",
   "metadata": {},
   "source": [
    "<a id=\"query_simple\"></a>\n",
    "### Simple predefined query"
   ]
  },
  {
   "cell_type": "code",
   "execution_count": 5,
   "metadata": {},
   "outputs": [],
   "source": [
    "ids1 = []\n",
    "ids2 = []\n",
    "with open('theo_dump.tab') as fh:\n",
    "    reader = csv.reader(fh, delimiter='\\t')\n",
    "    next(reader, None) # header\n",
    "    for line in reader:\n",
    "        (g1,g2,j) = line\n",
    "        ids1.append(g1)\n",
    "        ids2.append(g2)    "
   ]
  },
  {
   "cell_type": "code",
   "execution_count": 6,
   "metadata": {
    "collapsed": true
   },
   "outputs": [],
   "source": [
    "ids1 = \",\".join(ids1)  \n",
    "ids2 = \",\".join(ids2) "
   ]
  },
  {
   "cell_type": "code",
   "execution_count": null,
   "metadata": {},
   "outputs": [],
   "source": []
  },
  {
   "cell_type": "code",
   "execution_count": 7,
   "metadata": {},
   "outputs": [],
   "source": [
    "#tt = "
   ]
  },
  {
   "cell_type": "code",
   "execution_count": 8,
   "metadata": {},
   "outputs": [
    {
     "name": "stdout",
     "output_type": "stream",
     "text": [
      "Query request:\n",
      "{\n",
      "  \"ids2\": \"5111,6996,57697,6815,889,7112,2176,1019,5888,5706,3333,1111,112,3333\",\n",
      "  \"restriction_join\": \"intersect\",\n",
      "  \"ids1\": \"5111,6996,57697,6815,889,7112,2176,1019,5888,5706,5722,1111,112,3333\",\n",
      "  \"limit\": 100,\n",
      "  \"columns\": \"TCGA_GBM_Correlation,TCGA_GBM_Pvalue,GTEx_Brain_Correlation,GTEx_Brain_Pvalue\",\n",
      "  \"table\": \"BigGIM_70_v1\",\n",
      "  \"restriction_gt\": \"TCGA_GBM_Correlation,.8, GTEx_Brain_Correlation,.8\"\n",
      "}\n",
      "{\n",
      "  \"status\": \"submitted\",\n",
      "  \"request_id\": \"e52d7030-579f-4bb3-bb72-174bb6fa9e19\"\n",
      "}\n"
     ]
    }
   ],
   "source": [
    "\n",
    "\n",
    "example_query = {\n",
    "      # The table to select from.\n",
    "      \"table\": default_table, \n",
    "      # A comma delimited list of column names to return.\n",
    "      \"columns\": \"TCGA_GBM_Correlation,TCGA_GBM_Pvalue,GTEx_Brain_Correlation,GTEx_Brain_Pvalue\", \n",
    "      # A comma delimited list of Entrez gene ids to select.\n",
    "      \"ids1\": \"5111,6996,57697,6815,889,7112,2176,1019,5888,5706,5722,1111,112,3333\",\n",
    "      # Entrez gene ids to select. If not given, the query selects any gene related to a gene in ids 1. \n",
    "      # If given, the query only selects relations that contain a gene in ids1 and a gene in ids2.\n",
    "      \"ids2\": \"5111,6996,57697,6815,889,7112,2176,1019,5888,5706,3333,1111,112,3333\", \n",
    "      # The type of join made on restrictions. Either intersect or union\n",
    "      \"restriction_join\": \"intersect\", \n",
    "      # A list of pairs of values column name,value with which to restrict\n",
    "      \"restriction_gt\": \"TCGA_GBM_Correlation,.8, GTEx_Brain_Correlation,.8\", \n",
    "      # the results of the query to rows where the value of the column is greater than the given value.\n",
    "      #\"restriction_lt\": \"TCGA_GBM_Pvalue,.05, GTEx_Brain_Pvalue,.01\",\n",
    "      # The maximum number of rows to return.\n",
    "      \"limit\": 100 \n",
    "}\n",
    "print(\"Query request:\")\n",
    "jprint(example_query)\n",
    "try:\n",
    "    query_submit = get('interactions/query', data=example_query)\n",
    "    jprint(query_submit)\n",
    "except requests.HTTPError as e:\n",
    "    print(e)\n",
    "    print (\"#returned message\")\n",
    "    print( jprint(e.response.json()))"
   ]
  },
  {
   "cell_type": "markdown",
   "metadata": {},
   "source": [
    "<a id=\"query_status\"></a>\n",
    "### Check the status of the simple predefined query"
   ]
  },
  {
   "cell_type": "code",
   "execution_count": 9,
   "metadata": {},
   "outputs": [
    {
     "name": "stdout",
     "output_type": "stream",
     "text": [
      "{\n",
      "  \"status\": \"running\",\n",
      "  \"message\": \"Extraction job is running.\",\n",
      "  \"request_id\": \"e52d7030-579f-4bb3-bb72-174bb6fa9e19\"\n",
      "}\n",
      "Checking again\n",
      "{\n",
      "  \"status\": \"complete\",\n",
      "  \"size\": \"95.0 B\",\n",
      "  \"rows\": 0,\n",
      "  \"request_uri\": [\n",
      "    \"https://storage.googleapis.com/ncats_bigquery_results/e52d7030-579f-4bb3-bb72-174bb6fa9e19000000000000.csv\"\n",
      "  ],\n",
      "  \"processed_data\": \"0B\",\n",
      "  \"request_id\": \"e52d7030-579f-4bb3-bb72-174bb6fa9e19\"\n",
      "}\n"
     ]
    }
   ],
   "source": [
    "import time\n",
    "try:\n",
    "    while True:\n",
    "        query_status = get('interactions/query/status/%s'% (query_submit['request_id'],))\n",
    "        jprint(query_status)\n",
    "        if query_status['status'] !='running':\n",
    "            # query has finished\n",
    "            break\n",
    "        else:\n",
    "            time.sleep(1)\n",
    "            print(\"Checking again\")\n",
    "except requests.HTTPError as e:\n",
    "    print(e)\n",
    "    print(\"#returned message\")\n",
    "    print(jprint(e.response.json()))"
   ]
  },
  {
   "cell_type": "markdown",
   "metadata": {},
   "source": [
    "<a id=\"query_results\"></a>\n",
    "### Get the results as dataframe"
   ]
  },
  {
   "cell_type": "code",
   "execution_count": 10,
   "metadata": {},
   "outputs": [
    {
     "ename": "NameError",
     "evalue": "name 'substudies' is not defined",
     "output_type": "error",
     "traceback": [
      "\u001b[0;31m---------------------------------------------------------------------------\u001b[0m",
      "\u001b[0;31mNameError\u001b[0m                                 Traceback (most recent call last)",
      "\u001b[0;32m<ipython-input-10-a8fcde61e6e9>\u001b[0m in \u001b[0;36m<module>\u001b[0;34m()\u001b[0m\n\u001b[1;32m      4\u001b[0m \u001b[0mpvalue_columns\u001b[0m \u001b[0;34m=\u001b[0m \u001b[0;34m[\u001b[0m\u001b[0;34m]\u001b[0m\u001b[0;34m\u001b[0m\u001b[0m\n\u001b[1;32m      5\u001b[0m \u001b[0mcolumn_names\u001b[0m \u001b[0;34m=\u001b[0m \u001b[0;34m[\u001b[0m\u001b[0;34m]\u001b[0m\u001b[0;34m\u001b[0m\u001b[0m\n\u001b[0;32m----> 6\u001b[0;31m \u001b[0;32mfor\u001b[0m \u001b[0mss\u001b[0m \u001b[0;32min\u001b[0m \u001b[0msubstudies\u001b[0m\u001b[0;34m[\u001b[0m\u001b[0;34m'substudies'\u001b[0m\u001b[0;34m]\u001b[0m\u001b[0;34m:\u001b[0m\u001b[0;34m\u001b[0m\u001b[0m\n\u001b[0m\u001b[1;32m      7\u001b[0m     \u001b[0mprint\u001b[0m\u001b[0;34m(\u001b[0m\u001b[0mss\u001b[0m\u001b[0;34m)\u001b[0m\u001b[0;34m\u001b[0m\u001b[0m\n",
      "\u001b[0;31mNameError\u001b[0m: name 'substudies' is not defined"
     ]
    }
   ],
   "source": [
    "result = pandas.concat(map(pandas.read_csv, query_status['request_uri']))\n",
    "#result\n",
    "\n",
    "pvalue_columns = []\n",
    "column_names = []\n",
    "for ss in substudies['substudies']:\n",
    "    print(ss)\n"
   ]
  },
  {
   "cell_type": "markdown",
   "metadata": {},
   "source": [
    "<a id=\"full_example\"></a>\n",
    "# Full example\n",
    "\n",
    "Lets get relationships for a certain tissue where any tissue related correlation has a pvalue < .05\n",
    "\n",
    " Assume we are interested in issues in lymphoid tissues"
   ]
  },
  {
   "cell_type": "code",
   "execution_count": null,
   "metadata": {},
   "outputs": [],
   "source": [
    "# get lymphoid substudies\n",
    "import numpy as np\n",
    "query_status = None\n",
    "# get lymphoid substudies\n",
    "substudies = get('metadata/tissue/%s' % (\"lymphoid_tissue\",))\n",
    "\n",
    "# we only want things in a specific table, we'll use the default\n",
    "table = get('/metadata/table/%s' %  (default_table,))\n",
    "\n",
    "print(\"Using table %s\\n%s\" % (table['name'], table['description']))\n",
    "\n",
    "# grab pvalue columns\n",
    "pvalue_columns = []\n",
    "column_names = []\n",
    "for ss in substudies['substudies']:\n",
    "    for column in ss['columns']:\n",
    "        # only if column is from our table\n",
    "        if column['table']['name'] == table['name']:\n",
    "            # add column to select\n",
    "            column_names.append(column['name'])\n",
    "            if column['interactions_type'] == 'P-value (-log10)':\n",
    "                #add pvalue to where\n",
    "                pvalue_columns.append(column['name'])\n",
    " \n",
    "# grab columns with lower pvalues\n",
    "pv = []\n",
    "for p in pvalue_columns:\n",
    "    pv.append(p)\n",
    "    pv.append(str(abs(np.log10(.05))))\n",
    "query_arg = {}\n",
    "query_arg['table'] = table['name']\n",
    "query_arg['columns'] = ','.join(sorted(column_names))\n",
    "if len(pv):\n",
    "    query_arg['restriction_gt'] = ','.join(pv)\n",
    "# get if any of the lymphoid columns have \n",
    "query_arg['restriction_join'] = 'union'\n",
    "query_arg['limit'] = 1000000\n",
    "print \"The constructed query.\"\n",
    "jprint(query_arg)\n",
    "\n",
    "print(\"Submitting query request.\")\n",
    "try:\n",
    "    query_submit = get('interactions/query', data=query_arg)\n",
    "    print(\"Query request response.\")\n",
    "    jprint(query_submit)\n",
    "except requests.HTTPError as e:\n",
    "    print e\n",
    "    print #returned message\n",
    "    print jprint(e.response.json())\n",
    "\n",
    "print(\"Check query status\")\n",
    "try:\n",
    "    ctr = 1\n",
    "    while True:\n",
    "        \n",
    "        query_status = get('interactions/query/status/%s'% (query_submit['request_id'],))\n",
    "        jprint(query_status)\n",
    "        if query_status['status'] !='running':\n",
    "            # query has finished\n",
    "            break\n",
    "        else:\n",
    "            time.sleep(ctr)\n",
    "            ctr += 1\n",
    "            #linear backoff\n",
    "            print \"Checking again\"\n",
    "except requests.HTTPError as e:\n",
    "    print e\n",
    "    print #returned message\n",
    "    print jprint(e.response.json())\n",
    "\n",
    "\n",
    "if query_status and query_status['request_uri']:\n",
    "    print(\"Query successful. Getting result.\")\n",
    "    result = pandas.concat(map(pandas.read_csv, query_status['request_uri']))\n",
    "else:\n",
    "    print \"Error see above\""
   ]
  },
  {
   "cell_type": "code",
   "execution_count": null,
   "metadata": {},
   "outputs": [],
   "source": [
    "#Full example result\n",
    "result.head()"
   ]
  },
  {
   "cell_type": "code",
   "execution_count": null,
   "metadata": {
    "collapsed": true
   },
   "outputs": [],
   "source": []
  }
 ],
 "metadata": {
  "kernelspec": {
   "display_name": "Python 3",
   "language": "python",
   "name": "python3"
  },
  "language_info": {
   "codemirror_mode": {
    "name": "ipython",
    "version": 3
   },
   "file_extension": ".py",
   "mimetype": "text/x-python",
   "name": "python",
   "nbconvert_exporter": "python",
   "pygments_lexer": "ipython3",
   "version": "3.5.2"
  }
 },
 "nbformat": 4,
 "nbformat_minor": 2
}
