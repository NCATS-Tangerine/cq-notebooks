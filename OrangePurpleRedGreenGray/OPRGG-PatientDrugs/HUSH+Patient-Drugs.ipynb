{
 "cells": [
  {
   "cell_type": "markdown",
   "metadata": {},
   "source": [
    "*This notebook is an artifact from the [Biomedical Translator Project](https://ncats.nih.gov/translator/about) hackathon hosted by NIH NCATS on May 9-11th, 2017 (followed by minimal post-hackathon activities through May 25th, 2017)*\n",
    "\n",
    "### Clinical query workflow question: Can we identify novel off-label use for early-onset and late-onset disease respectively?\n",
    "\n",
    "**Contributors**\n",
    "* Kenneth Roe, Richard Zhu, Casey Overby (Hopkins)\n",
    "* Rajarshi Guha (NCATS)\n",
    "* Chunhua Weng, Chi Yuan (Columbia)\n",
    "* James Champion (UNC)\n",
    "* Marcin von Grotthuss, Oliver Ruebanacker (Broad)\n",
    "\n",
    "**Overview of steps**\n",
    "* Find age of diagosis for Asthma patients\n",
    "* Find medications (and RxNorm codes for meds) taken by Asthma patients\n",
    "* Compute drug status for drugs taken by Astma patients\n",
    "* (Compare on-/off- label status of drugs taken by patients diagosed with Asthma during childhood vs during adulthood)\n",
    "\n",
    "**Data Sources**\n",
    "* [HUSH+ synthetic data resource](https://github.com/NCATS-Tangerine/cq-notebooks/tree/master/GreenTeam_Data_Documentation)\n",
    "* [NCBO annotator](https://www.bioontology.org/)\n",
    "* [NDK (NCATS Disease Knowledgebase)](https://tripod.nih.gov/)"
   ]
  },
  {
   "cell_type": "code",
   "execution_count": 1,
   "metadata": {
    "collapsed": true
   },
   "outputs": [],
   "source": [
    "## All the imports we need\n",
    "from urllib2 import Request, urlopen, URLError\n",
    "from urllib import quote_plus\n",
    "\n",
    "import mysql.connector\n",
    "\n",
    "import pprint, json, requests\n",
    "\n",
    "from datetime import datetime, timedelta\n",
    "from dateutil.parser import parse as parse_date\n",
    "from greentranslator.api import GreenTranslator\n",
    "\n",
    "import dateutil"
   ]
  },
  {
   "cell_type": "markdown",
   "metadata": {},
   "source": [
    "### (1) Find age of diagosis for Asthma patients\n",
    "\n",
    "* NOTE: given the current query API specifications we specify demographics that return a small number of patients\n",
    "\n",
    "**Find patients diagnosed with Asthma as a child (Group 1)**"
   ]
  },
  {
   "cell_type": "code",
   "execution_count": 12,
   "metadata": {
    "collapsed": true,
    "scrolled": true
   },
   "outputs": [],
   "source": [
    "## Find HUSH+ patients matching a list of ICD codes as children\n",
    "\n",
    "query = GreenTranslator ().get_query ()\n",
    "\n",
    "HUSHplusChildren = query.clinical_get_patients (age='15', sex='male', \n",
    "                                        race='white', location='EMERGENCY')\n",
    "#pprint.pprint (HUSHplusChildren)"
   ]
  },
  {
   "cell_type": "markdown",
   "metadata": {},
   "source": [
    "** Find patients diagnosed with Asthma as an adult (Group 2)**"
   ]
  },
  {
   "cell_type": "code",
   "execution_count": 15,
   "metadata": {
    "collapsed": true
   },
   "outputs": [],
   "source": [
    "## Find HUSH+ patients matching a list of ICD codes as adults\n",
    "\n",
    "query = GreenTranslator ().get_query ()\n",
    "\n",
    "HUSHplusAdults = query.clinical_get_patients (age='50', sex='male', \n",
    "                                        race='white', location='EMERGENCY')\n",
    "#pprint.pprint (HUSHplusAdults)"
   ]
  },
  {
   "cell_type": "markdown",
   "metadata": {},
   "source": [
    "### (2) Find medications (and RxNorm codes for meds) taken by Asthma patients\n",
    "\n",
    "** Find medications for patients in children **"
   ]
  },
  {
   "cell_type": "code",
   "execution_count": 17,
   "metadata": {
    "collapsed": true
   },
   "outputs": [],
   "source": [
    "## Pull meds for HUSH+ patients\n",
    "meds = {}\n",
    "for x in HUSHplusChildren:\n",
    "    medList = x['medList']\n",
    "    # Collect the unique meds\n",
    "    for m in medList.keys():\n",
    "        found = False\n",
    "        try:\n",
    "            meds[medList[m]] = meds[medList[m]]+1\n",
    "        except KeyError:\n",
    "            meds[medList[m]] = 1\n",
    "#pprint.pprint(meds)"
   ]
  },
  {
   "cell_type": "markdown",
   "metadata": {},
   "source": [
    "** Find RxNorm codes for meds prescribed in children **"
   ]
  },
  {
   "cell_type": "code",
   "execution_count": 18,
   "metadata": {
    "collapsed": true
   },
   "outputs": [],
   "source": [
    "## For a given medication string get NCBO annotations\n",
    "## We let NCBO match any ontology since just using RxNORM doesn't\n",
    "## always give us just the drug name (e.g., \"CLINDAMYCIN 15 MG/ML ORAL SOLUTION\" is\n",
    "## a valid RxNORM term)\n",
    "def med2rxnorm(txt):\n",
    "    url = 'http://data.bioontology.org/annotator?text=%s&apikey=b792dd1b-cdc2-4cc8-aaf2-4fa4fbf47e4e'\n",
    "    txt = urlopen(url % quote_plus(txt)).read()\n",
    "    resp = json.loads(txt)\n",
    "    if len(resp) == 0: return([])\n",
    "    annos = []\n",
    "    for aresp in resp:\n",
    "        annos.extend([ x['text'] for x in aresp['annotations'] ])\n",
    "    ##annos = filter(lambda x: not any(d in x for d in'0123456789'), annos)\n",
    "    return(annos)\n",
    "#print med2rxnorm(\"CLINDAMYCIN 15 MG/ML ORAL SOLUTION\")        "
   ]
  },
  {
   "cell_type": "code",
   "execution_count": 22,
   "metadata": {},
   "outputs": [
    {
     "name": "stdout",
     "output_type": "stream",
     "text": [
      "Processing Aspirin 81 MG Delayed Release Oral Tablet and found 5 annotations\n",
      "Processing FENTANYL 12 MCG/HR TRANSDERMAL PATCH and found 1 annotations\n",
      "Processing ALBUTEROL SULFATE HFA 90 MCG/ACTUATION AEROSOL INHALER and found 3 annotations\n",
      "Processing METHYLPHENIDATE ER 36 MG TABLET,EXTENDED RELEASE 24 HR and found 1 annotations\n",
      "Processing AZITHROMYCIN 500 MG TABLET and found 2 annotations\n",
      "Processing FLUTICASONE 50 MCG/ACTUATION NASAL SPRAY,SUSPENSION and found 2 annotations\n",
      "Processing Magnesium Oxide 400 MG Oral Tablet and found 5 annotations\n",
      "Processing PREDNISONE 20 MG TABLET and found 2 annotations\n",
      "Processing Cyclobenzaprine hydrochloride 5 MG Oral Tablet and found 5 annotations\n",
      "Processing Morphine Sulfate and found 2 annotations\n",
      "Processing METHYLPHENIDATE ER 54 MG TABLET,EXTENDED RELEASE 24 HR and found 1 annotations\n",
      "Processing benzonatate 200 MG Oral Capsule and found 4 annotations\n",
      "Processing prednisolone 3 MG/ML Oral Solution and found 4 annotations\n",
      "Processing Oxycodone Hydrochloride 5 MG Oral Tablet and found 5 annotations\n",
      "Processing MELOXICAM 7.5 MG TABLET and found 2 annotations\n",
      "Processing Lisinopril 2.5 MG Oral Tablet and found 4 annotations\n",
      "Processing Promethazine Hydrochloride 12.5 MG Oral Tablet and found 5 annotations\n",
      "Processing Amoxicillin 80 MG/ML Oral Suspension and found 4 annotations\n",
      "Processing COENZYME Q10 200 MG CAPSULE and found 2 annotations\n",
      "Processing ONDANSETRON 4 MG DISINTEGRATING TABLET and found 2 annotations\n",
      "Processing cetirizine hydrochloride 10 MG Oral Tablet and found 5 annotations\n",
      "Processing Atenolol 25 MG Oral Tablet and found 4 annotations\n",
      "Processing CHOLECALCIFEROL (VITAMIN D3) 1,000 UNIT TABLET and found 3 annotations\n",
      "Processing oxcarbazepine 300 MG Oral Tablet and found 4 annotations\n",
      "Processing ZANTAC 15 MG/ML SYRUP and found 1 annotations\n",
      "Processing HYDROCODONE 7.5 MG-ACETAMINOPHEN 500 MG/15 ML ORAL SOLUTION and found 4 annotations\n",
      "Processing PROAIR HFA 90 MCG/ACTUATION AEROSOL INHALER and found 2 annotations\n",
      "Processing AZITHROMYCIN 250 MG TABLET and found 2 annotations\n",
      "Processing Glucose 50 MG/ML / Sodium Chloride 0.154 MEQ/ML Injectable Solution and found 7 annotations\n",
      "Processing TRILEPTAL 300 MG/5 ML SUSP and found 1 annotations\n",
      "Processing MONTELUKAST 10 MG TABLET and found 2 annotations\n",
      "Processing SODIUM CHLORIDE 0.9 % INJECTION SYRINGE and found 3 annotations\n",
      "Processing Acetaminophen 325 MG Oral Tablet and found 4 annotations\n"
     ]
    }
   ],
   "source": [
    "## Get RxNORM codes for medication strings\n",
    "medrxnorm = {}\n",
    "for med in meds.keys():\n",
    "    if med is None: continue    \n",
    "    annos = med2rxnorm(med)\n",
    "    print 'Processing %s and found %d annotations' % (med, len(annos))\n",
    "    medrxnorm[med] = {'count':meds[med], 'annos':annos}    "
   ]
  },
  {
   "cell_type": "markdown",
   "metadata": {},
   "source": [
    "### (3) Compute drug status for drugs taken by Astma patients\n",
    "\n",
    "** Find all indications (as ICD-10 codes) for any of the drugs prescribed in children **"
   ]
  },
  {
   "cell_type": "code",
   "execution_count": 23,
   "metadata": {
    "collapsed": true
   },
   "outputs": [],
   "source": [
    "## Given a drug (identified by RXNORM), get conditions that the drug has a \n",
    "## status (approved, phase 3) for, via NDK API\n",
    "def drug2conditions(drug):\n",
    "    import urllib\n",
    "    url = \"https://tripod.nih.gov/ndk/treatment/%s/conditions\" % (drug)\n",
    "    page = urllib.urlopen(url).read().strip()\n",
    "    if page == \"\":\n",
    "        return None\n",
    "    #print page\n",
    "    try:\n",
    "        resp = json.loads(page)\n",
    "    except ValueError, HTTPError:\n",
    "        return None\n",
    "    conds = []\n",
    "    for aresp in resp:\n",
    "        condname = aresp['name']\n",
    "        if 'ICD10' in aresp.keys():\n",
    "            condicd10 = aresp['ICD10']\n",
    "        else: condicd10 = []\n",
    "        conds.append( (aresp['status'], condname, condicd10) )\n",
    "    return(conds)\n",
    "\n",
    "# Given a medication try all annotations to find conditions\n",
    "def med2conditions(m):\n",
    "    annos = medrxnorm[m]['annos']\n",
    "    for a in annos:\n",
    "        r = drug2conditions(a)\n",
    "        if (r != None):\n",
    "            return r\n",
    "    return None"
   ]
  },
  {
   "cell_type": "code",
   "execution_count": 45,
   "metadata": {},
   "outputs": [
    {
     "name": "stdout",
     "output_type": "stream",
     "text": [
      "[u'Aspirin 81 MG Delayed Release Oral Tablet', u'FENTANYL 12 MCG/HR TRANSDERMAL PATCH', u'ALBUTEROL SULFATE HFA 90 MCG/ACTUATION AEROSOL INHALER', u'METHYLPHENIDATE ER 36 MG TABLET,EXTENDED RELEASE 24 HR', u'AZITHROMYCIN 500 MG TABLET', u'FLUTICASONE 50 MCG/ACTUATION NASAL SPRAY,SUSPENSION', u'Magnesium Oxide 400 MG Oral Tablet', u'PREDNISONE 20 MG TABLET', u'Cyclobenzaprine hydrochloride 5 MG Oral Tablet', u'Morphine Sulfate', u'ONDANSETRON 4 MG DISINTEGRATING TABLET', u'benzonatate 200 MG Oral Capsule', u'prednisolone 3 MG/ML Oral Solution', u'Oxycodone Hydrochloride 5 MG Oral Tablet', u'MELOXICAM 7.5 MG TABLET', u'Lisinopril 2.5 MG Oral Tablet', u'Promethazine Hydrochloride 12.5 MG Oral Tablet', u'Amoxicillin 80 MG/ML Oral Suspension', u'COENZYME Q10 200 MG CAPSULE', u'METHYLPHENIDATE ER 54 MG TABLET,EXTENDED RELEASE 24 HR', u'cetirizine hydrochloride 10 MG Oral Tablet', u'Atenolol 25 MG Oral Tablet', u'CHOLECALCIFEROL (VITAMIN D3) 1,000 UNIT TABLET', u'oxcarbazepine 300 MG Oral Tablet', u'ZANTAC 15 MG/ML SYRUP', u'HYDROCODONE 7.5 MG-ACETAMINOPHEN 500 MG/15 ML ORAL SOLUTION', u'PROAIR HFA 90 MCG/ACTUATION AEROSOL INHALER', u'AZITHROMYCIN 250 MG TABLET', u'Glucose 50 MG/ML / Sodium Chloride 0.154 MEQ/ML Injectable Solution', u'TRILEPTAL 300 MG/5 ML SUSP', u'MONTELUKAST 10 MG TABLET', u'SODIUM CHLORIDE 0.9 % INJECTION SYRINGE', u'Acetaminophen 325 MG Oral Tablet']\n"
     ]
    },
    {
     "data": {
      "text/plain": [
       "'\\nn = 10\\nannos = medrxnorm[keys[n]][\\'annos\\']\\nconds = []\\nfor anno in annos:\\n    conds.extend(drug2conditions(anno))\\nprint \"##\", keys[n], \"##\", conds\\n'"
      ]
     },
     "execution_count": 45,
     "metadata": {},
     "output_type": "execute_result"
    }
   ],
   "source": [
    "keys = list(medrxnorm.keys())\n",
    "print keys\n",
    "'''\n",
    "n = 10\n",
    "annos = medrxnorm[keys[n]]['annos']\n",
    "conds = []\n",
    "for anno in annos:\n",
    "    conds.extend(drug2conditions(anno))\n",
    "print \"##\", keys[n], \"##\", conds\n",
    "'''"
   ]
  },
  {
   "cell_type": "markdown",
   "metadata": {},
   "source": []
  },
  {
   "cell_type": "code",
   "execution_count": 34,
   "metadata": {
    "collapsed": true
   },
   "outputs": [],
   "source": [
    "## Get approval status for each medication in a list--Generate a dictionary that contains a dictionary for each\n",
    "## medication with the approval status for each condition (by ICD10 code)\n",
    "def approvalStatus(meds):\n",
    "    approved = {}\n",
    "    phase4 = {}\n",
    "    phase3 = {}\n",
    "    phase2 = {}\n",
    "    phase1 = {}\n",
    "    unknownMeds = []\n",
    "    for m in meds:\n",
    "        if not(m==None):\n",
    "            x = med2conditions(m)\n",
    "            #print \"drug conditions\"\n",
    "            #print x\n",
    "            if x==None:\n",
    "                print \"Unknown mediction conditions for \"+m\n",
    "                print medrxnorm[m]['annos']\n",
    "                unknownMeds.append(m)\n",
    "            else:\n",
    "                for d in x:\n",
    "                    #print \"Med info\"\n",
    "                    #print d\n",
    "                    if d[0]==\"Approved\":\n",
    "                        for c in d[2]:\n",
    "                            try:\n",
    "                                approved[m].append(c)\n",
    "                            except KeyError:\n",
    "                                approved[m] = [c]\n",
    "                    if d[0]==\"Phase 4\":\n",
    "                        for c in d[2]:\n",
    "                            try:\n",
    "                                phase4[m].append(c)\n",
    "                            except KeyError:\n",
    "                                phase4[m] = [c]\n",
    "                    if d[0]==\"Phase 3\":\n",
    "                        for c in d[2]:\n",
    "                            try:\n",
    "                                phase3[m].append(c)\n",
    "                            except KeyError:\n",
    "                                phase3[m] = [c]\n",
    "                    if d[0]==\"Phase 2\":\n",
    "                        for c in d[2]:\n",
    "                            try:\n",
    "                                phase2[m].append(c)\n",
    "                            except KeyError:\n",
    "                                phase2[m] = [c]\n",
    "                    if d[0]==\"Phase 1\":\n",
    "                        for c in d[2]:\n",
    "                            try:\n",
    "                                phase1[m].append(c)\n",
    "                            except KeyError:\n",
    "                                phase1[m] = [c]\n",
    "\n",
    "    return (approved,phase4,phase3,phase2,phase1,unknownMeds)\n"
   ]
  },
  {
   "cell_type": "code",
   "execution_count": 35,
   "metadata": {
    "collapsed": true
   },
   "outputs": [],
   "source": [
    "## For a given patient record (HUSH+ format), return the the approval status for each of the patient's medications\n",
    "def patientMedicationStatus(p):\n",
    "    diags = []\n",
    "    #print \"Diag codes\"\n",
    "    for d in p['diag']:\n",
    "        if d[0:6]==\"ICD10:\":\n",
    "            #print d\n",
    "            diags.append(d[6:])\n",
    "    med = []\n",
    "    for m in p['medList'].keys():\n",
    "        med.append(p['medList'][m])\n",
    "    #print \"Meds\"\n",
    "    #print med\n",
    "    (approved,phase4,phase3,phase2,phase1,unknownMeds) = approvalStatus(med)\n",
    "\n",
    "    drugStatus = {}\n",
    "    for m in p['medList'].keys():\n",
    "        if m in unknownMeds:\n",
    "            status = \"Unknown\"\n",
    "        else:\n",
    "            x = p['medList'][m]\n",
    "            #print x\n",
    "            try:\n",
    "                a = approved[x]\n",
    "            except KeyError:\n",
    "                a = []\n",
    "            try:\n",
    "                p4 = phase4[x]\n",
    "            except KeyError:\n",
    "                p4 = []\n",
    "            try:\n",
    "                p3 = phase3[x]\n",
    "            except KeyError:\n",
    "                p3 = []\n",
    "            try:\n",
    "                p2 = phase2[x]\n",
    "            except KeyError:\n",
    "                p2 = []\n",
    "            try:\n",
    "                p1 = phase1[x]\n",
    "            except KeyError:\n",
    "                p1 = []\n",
    "\n",
    "            if len(annos)==0:\n",
    "                status = \"Unknown\"\n",
    "            else:\n",
    "                status = \"offLabel\"\n",
    "            for d in diags:\n",
    "                if d in p1:\n",
    "                    status = \"Phase1\"\n",
    "                if d in p2:\n",
    "                    status = \"Phase2\"\n",
    "                if d in p3:\n",
    "                    status = \"Phase3\"\n",
    "                if d in p4:\n",
    "                    status = \"Phase4\"\n",
    "                if d in a:\n",
    "                    status = \"Approved\"\n",
    "        drugStatus[x] = status\n",
    "    return drugStatus\n"
   ]
  },
  {
   "cell_type": "markdown",
   "metadata": {},
   "source": [
    "**For each patient, compute drug status for drugs on their medication list**"
   ]
  },
  {
   "cell_type": "code",
   "execution_count": 43,
   "metadata": {},
   "outputs": [
    {
     "name": "stdout",
     "output_type": "stream",
     "text": [
      "Processing 174943566\n",
      "Processing 178871520\n",
      "Processing 181065648\n",
      "Processing 181799472\n",
      "{u'174943566': {u'AZITHROMYCIN 500 MG TABLET': 'offLabel',\n",
      "                u'Amoxicillin 80 MG/ML Oral Suspension': 'offLabel',\n",
      "                u'Cyclobenzaprine hydrochloride 5 MG Oral Tablet': 'offLabel',\n",
      "                u'FLUTICASONE 50 MCG/ACTUATION NASAL SPRAY,SUSPENSION': 'offLabel',\n",
      "                u'HYDROCODONE 7.5 MG-ACETAMINOPHEN 500 MG/15 ML ORAL SOLUTION': 'Approved',\n",
      "                u'MELOXICAM 7.5 MG TABLET': 'offLabel',\n",
      "                u'ONDANSETRON 4 MG DISINTEGRATING TABLET': 'Approved',\n",
      "                u'Promethazine Hydrochloride 12.5 MG Oral Tablet': 'offLabel'},\n",
      " u'178871520': {u'Acetaminophen 325 MG Oral Tablet': 'Approved',\n",
      "                u'Aspirin 81 MG Delayed Release Oral Tablet': 'Approved',\n",
      "                u'Atenolol 25 MG Oral Tablet': 'offLabel',\n",
      "                u'CHOLECALCIFEROL (VITAMIN D3) 1,000 UNIT TABLET': 'offLabel',\n",
      "                u'COENZYME Q10 200 MG CAPSULE': 'offLabel',\n",
      "                u'FENTANYL 12 MCG/HR TRANSDERMAL PATCH': 'offLabel',\n",
      "                u'Glucose 50 MG/ML / Sodium Chloride 0.154 MEQ/ML Injectable Solution': 'offLabel',\n",
      "                u'Lisinopril 2.5 MG Oral Tablet': 'offLabel',\n",
      "                u'Magnesium Oxide 400 MG Oral Tablet': 'offLabel',\n",
      "                u'Morphine Sulfate': 'offLabel',\n",
      "                u'Oxycodone Hydrochloride 5 MG Oral Tablet': 'offLabel',\n",
      "                u'SODIUM CHLORIDE 0.9 % INJECTION SYRINGE': 'offLabel',\n",
      "                u'TRILEPTAL 300 MG/5 ML SUSP': 'offLabel',\n",
      "                u'ZANTAC 15 MG/ML SYRUP': 'offLabel',\n",
      "                u'oxcarbazepine 300 MG Oral Tablet': 'offLabel',\n",
      "                u'prednisolone 3 MG/ML Oral Solution': 'offLabel'},\n",
      " u'181065648': {u'AZITHROMYCIN 250 MG TABLET': 'offLabel',\n",
      "                u'PREDNISONE 20 MG TABLET': 'offLabel',\n",
      "                u'benzonatate 200 MG Oral Capsule': 'offLabel'},\n",
      " u'181799472': {u'ALBUTEROL SULFATE HFA 90 MCG/ACTUATION AEROSOL INHALER': 'offLabel',\n",
      "                u'METHYLPHENIDATE ER 36 MG TABLET,EXTENDED RELEASE 24 HR': 'offLabel',\n",
      "                u'METHYLPHENIDATE ER 54 MG TABLET,EXTENDED RELEASE 24 HR': 'offLabel',\n",
      "                u'MONTELUKAST 10 MG TABLET': 'offLabel',\n",
      "                u'PROAIR HFA 90 MCG/ACTUATION AEROSOL INHALER': 'offLabel',\n",
      "                u'cetirizine hydrochloride 10 MG Oral Tablet': 'offLabel'}}\n"
     ]
    }
   ],
   "source": [
    "#compute drug status info for all child patients\n",
    "patientDrugInfo = {}\n",
    "for p in HUSHplusChildren:\n",
    "    #print p\n",
    "    print \"Processing \"+p['patient_id']\n",
    "    patientDrugInfo[p['patient_id']] = patientMedicationStatus(p)\n",
    "\n",
    "pprint.pprint(patientDrugInfo)"
   ]
  },
  {
   "cell_type": "markdown",
   "metadata": {},
   "source": [
    "A next step could be to compare the on-/off- label status of drugs taken by patients diagosed with Asthma during childhood vs during adulthood"
   ]
  }
 ],
 "metadata": {
  "kernelspec": {
   "display_name": "Python 2",
   "language": "python",
   "name": "python2"
  },
  "language_info": {
   "codemirror_mode": {
    "name": "ipython",
    "version": 2
   },
   "file_extension": ".py",
   "mimetype": "text/x-python",
   "name": "python",
   "nbconvert_exporter": "python",
   "pygments_lexer": "ipython2",
   "version": "2.7.9"
  }
 },
 "nbformat": 4,
 "nbformat_minor": 2
}
