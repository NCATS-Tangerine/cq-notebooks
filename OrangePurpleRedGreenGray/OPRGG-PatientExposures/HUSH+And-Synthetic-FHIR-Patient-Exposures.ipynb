{
 "cells": [
  {
   "cell_type": "markdown",
   "metadata": {},
   "source": [
    "*This notebook is an artifact from the [Biomedical Translator Project](https://ncats.nih.gov/translator/about) hackathon hosted by NIH NCATS on May 9-11th, 2017 (followed by minimal post-hackathon activities through May 25th, 2017)*\n",
    "\n",
    "### Clinical query workflow question: Are there differences in environmental exposure among patients with early-onset vs late-onset disease?\n",
    "\n",
    "**Contributors**\n",
    "* Kenneth Roe, Richard Zhu, Casey Overby (Hopkins)\n",
    "* Rajarshi Guha (NCATS)\n",
    "* Chunhua Weng, Chi Yuan (Columbia)\n",
    "* James Champion (UNC)\n",
    "* Marcin von Grotthuss, Oliver Ruebanacker (Broad)\n",
    "\n",
    "**Overview of steps**\n",
    "* Find patients diagnosed with Asthma\n",
    "* Find age of diagnosis for Asthma patients\n",
    "* Find location for Asthma patients\n",
    "* Find exposures by location for Asthma patients\n",
    "* (Compare exposures of patients diagnosed with Asthma during childhood vs during adulthood)\n",
    "\n",
    "**Data Sources**\n",
    "* [HUSH+ synthetic data resource](https://github.com/NCATS-Tangerine/cq-notebooks/tree/master/GreenTeam_Data_Documentation)\n",
    "* [FHIR synthetic data resource](http://ictrweb.johnshopkins.edu/ictr/synthetic/)\n",
    "* [UMLS](https://www.nlm.nih.gov/research/umls/), NOTE: there is a Web API [here](https://documentation.uts.nlm.nih.gov/rest/home.html) \n",
    "* [OHDSI Web API](http://www.ohdsi.org/web/wiki/doku.php?id=documentation:software:webapi)\n",
    "* [Open AQ Platform API](https://docs.openaq.org), An API for open air quality data (pm25)\n",
    "* [Green Translator Exposures API](https://exposures.renci.org/v1/ui), An API for pm25 and o3 measures"
   ]
  },
  {
   "cell_type": "markdown",
   "metadata": {},
   "source": [
    "## Function and dataset definitions"
   ]
  },
  {
   "cell_type": "code",
   "execution_count": 1,
   "metadata": {
    "collapsed": true
   },
   "outputs": [],
   "source": [
    "## All the imports we need\n",
    "import urllib2\n",
    "from urllib2 import Request, urlopen, URLError\n",
    "from urllib import quote_plus\n",
    "\n",
    "import mysql.connector\n",
    "\n",
    "import pprint, json, requests\n",
    "\n",
    "from datetime import datetime, timedelta\n",
    "from dateutil.parser import parse as parse_date\n",
    "from greentranslator.api import GreenTranslator\n",
    "query = GreenTranslator ().get_query ()\n",
    "\n",
    "import dateutil\n",
    "\n",
    "import zipcode\n",
    "\n",
    "import string\n",
    "\n",
    "%matplotlib inline\n",
    "import numpy as np\n",
    "import pandas as pd\n",
    "import seaborn as sns"
   ]
  },
  {
   "cell_type": "code",
   "execution_count": 2,
   "metadata": {},
   "outputs": [
    {
     "name": "stdout",
     "output_type": "stream",
     "text": [
      "\n"
     ]
    }
   ],
   "source": [
    "#connect to UMLS\n",
    "try:\n",
    "    cnx = mysql.connector.connect(user='tadmin',\n",
    "                                password='ncats_translator!',\n",
    "                                database='umls',\n",
    "                                host='translator.ceyknq0yekb3.us-east-1.rds.amazonaws.com')\n",
    "except mysql.connector.Error as err:\n",
    "    if err.errno == errorcode.ER_ACCESS_DENIED_ERROR:\n",
    "        print(\"Something is wrong with your user name or password\")\n",
    "    elif err.errno == errorcode.ER_BAD_DB_ERROR:\n",
    "        print(\"Database does not exist\")\n",
    "    else:\n",
    "        print(err)\n",
    "else:\n",
    "    print\n",
    "    #cnx.close()"
   ]
  },
  {
   "cell_type": "markdown",
   "metadata": {},
   "source": [
    "### UMLS and OHDSI functions"
   ]
  },
  {
   "cell_type": "code",
   "execution_count": 3,
   "metadata": {},
   "outputs": [
    {
     "name": "stdout",
     "output_type": "stream",
     "text": [
      "[u'E945.7', u'493', u'493.9', u'493.90', u'493.92', u'493.91', u'493.2', u'493.20', u'493.22', u'493.21', u'493.82', u'493.0', u'493.00', u'493.02', u'493.01', u'V17.5', u'493.1', u'493.10', u'493.12', u'493.11', u'493.8', u'975.7']\n",
      "[u'J45', u'J45.9']\n"
     ]
    }
   ],
   "source": [
    "## Given disease/condition term, get back ICD codes from OHDSI\n",
    "def findICD_ohdsi(txt, icd_version = 9):\n",
    "    if icd_version == 9:\n",
    "        icd_type = 'ICD9CM'\n",
    "    elif icd_version == 10:\n",
    "        icd_type = 'ICD10'\n",
    "    else: raise Exception(\"Invalid ICD version specified\")    \n",
    "    url_con = \"http://api.ohdsi.org/WebAPI/vocabulary/search\"\n",
    "    headers = {'content-type': 'application/json'}\n",
    "    params = {\"QUERY\": txt,\n",
    "              \"VOCABULARY_ID\": [icd_type]}\n",
    "    response = requests.post(url_con, data=json.dumps(params), headers=headers)\n",
    "    data= json.loads(response.text.decode('utf-8'))\n",
    "    return [d[\"CONCEPT_CODE\"] for d in data]\n",
    "print findICD_ohdsi('asthma')\n",
    "\n",
    "# Get ICD10/ICD9 code for a given string from UMLS. By default we get back ICD10.\n",
    "def findICD_umls(name, icd_version = 10):\n",
    "    if icd_version == 9:\n",
    "        icd_type = 'ICD9CM'\n",
    "    elif icd_version == 10:\n",
    "        icd_type = 'ICD10'\n",
    "    else: raise Exception(\"Invalid ICD version specified\")\n",
    "\n",
    "    cursor = cnx.cursor()\n",
    "    query = (\"SELECT CUI FROM umls.MRCONSO WHERE STR='\"+name+\"'\")\n",
    "    cursor.execute(query, ())\n",
    "    res = \"Undef\"\n",
    "    for code in cursor:\n",
    "        if res==\"Undef\":\n",
    "            res = code\n",
    "    if res != \"Undef\":\n",
    "        query = (\"SELECT CODE FROM umls.MRCONSO WHERE SAB='\"+icd_type+\"' AND CUI='\"+res[0]+\"'\")\n",
    "        cursor.execute(query, ())\n",
    "        icd10 = []\n",
    "        for code in cursor:\n",
    "            icd10.append(code[0])\n",
    "        return (icd10)\n",
    "    return (\"Undef\")\n",
    "print findICD_umls(\"asthma\")"
   ]
  },
  {
   "cell_type": "markdown",
   "metadata": {},
   "source": [
    "### Exposure data source founctions"
   ]
  },
  {
   "cell_type": "code",
   "execution_count": 4,
   "metadata": {
    "collapsed": true
   },
   "outputs": [],
   "source": [
    "#Function takes date of diagnosis, and location as input and returns degree of exposure \n",
    "\n",
    "def findExposureAtDateOfDx(dxdate,lon,lat):\n",
    "    #dxnextdate = dateutil.parser.parse(dxdate) + timedelta(days=1)\n",
    "    #dxnextdate = datetime.date(dxnextdate)\n",
    "    pm25score = query.expo_get_scores (exposure_type = 'pm25',\n",
    "                            start_date = dxdate,\n",
    "                            end_date = dxdate,\n",
    "                            exposure_point = ''+lon+','+lat+'')\n",
    "    return(pm25score) \n",
    "\n",
    "def findAirQualityAtDateOfDx(dxdate,lat,lon):\n",
    "    try:\n",
    "        url = \"https://api.openaq.org/v1/measurements?coordinates=\"+str(lat)+','+str(lon)+\"&date=\"+str(dxdate)+\"&parameter=pm25\"\n",
    "        #print url\n",
    "        txt = urlopen(url).read()\n",
    "        #print txt\n",
    "    except Exception, e:\n",
    "        return {\"meta\":{\"found\":0}}\n",
    "        #raise Exception(e)\n",
    "    #exps= json.loads(txt)\n",
    "    #pprint.pprint(exps)\n",
    "    try:\n",
    "        o = eval(txt)\n",
    "    except:\n",
    "        return {\"meta\":{\"found\":0}}\n",
    "    return(o)"
   ]
  },
  {
   "cell_type": "markdown",
   "metadata": {},
   "source": [
    "### HUSH+ and FHIR synthetic data source functions"
   ]
  },
  {
   "cell_type": "code",
   "execution_count": 5,
   "metadata": {
    "collapsed": true
   },
   "outputs": [],
   "source": [
    "## Functions to retreive patients from different sources - HUSH+ & FHIR synthetic\n",
    "def findPatients_fhir(code):\n",
    "    try:\n",
    "        url =\"http://ictrweb.johnshopkins.edu/rest/synthetic/Condition?icd_10=\"+code+\"&_count=999\"\n",
    "        txt = urlopen(url).read()\n",
    "    except Exception, e:\n",
    "        raise Exception(e)\n",
    "    stuff = json.loads(txt)\n",
    "    #print stuff\n",
    "    return(stuff)\n",
    "\n",
    "def findPatients_unc(age='8', sex='male', race='white', location='OUTPATIENT'):\n",
    "    query = GreenTranslator ().get_query()\n",
    "    return query.clinical_get_patients(age, sex, race, location)"
   ]
  },
  {
   "cell_type": "markdown",
   "metadata": {},
   "source": [
    "**Note that the following steps are primarily performed with the FHIR synthetic data resource.**"
   ]
  },
  {
   "cell_type": "code",
   "execution_count": 16,
   "metadata": {
    "collapsed": true
   },
   "outputs": [],
   "source": [
    "#Function to retrieve age at diagnosis & location for patients from FHIR synthetic\n",
    "def findDxAgeLocation_fhir(stuff):\n",
    "    #pprint.pprint(stuff)\n",
    "    res = []\n",
    "    if stuff==[]:\n",
    "        return []\n",
    "    for p in stuff['entry']:\n",
    "        #pprint.pprint(p)\n",
    "        d1 = p['assertedDate']\n",
    "        id = p['subject']['reference'][8:]\n",
    "        try:\n",
    "            url = 'http://ictrweb.johnshopkins.edu/rest/synthetic/Patient/'+id\n",
    "            txt = urlopen(url).read()\n",
    "        except:\n",
    "            print \"ictr api doesn't work\"\n",
    "        st = json.loads(txt)\n",
    "        #pprint.pprint(st)\n",
    "        d2 = st['birthDate']\n",
    "        z = st['address'][0]['postalCode']\n",
    "        datedx = d2 #e.g. 1925-12-08 00:00:00\n",
    "        d1 = dateutil.parser.parse(d1)\n",
    "        d2 = dateutil.parser.parse(d2)\n",
    "        #print d1\n",
    "        #print d2\n",
    "        diff = d1 - d2\n",
    "        #print diff\n",
    "             \n",
    "        obj = zipcode.isequal(z.encode(\"ascii\", \"ignore\"))\n",
    "        if obj is not None:\n",
    "            d = obj.to_dict()\n",
    "            lat = d['lat']\n",
    "            lon = d['lon']\n",
    "        else:\n",
    "            lat = None\n",
    "            lon = None\n",
    "        t = (id,diff.days,datedx,lat,lon)         \n",
    "        res.append(t)\n",
    "    return(res)"
   ]
  },
  {
   "cell_type": "markdown",
   "metadata": {},
   "source": [
    "### \"What is the age range of Asthma diagnoses, grouped by location?\"\n",
    "\n",
    "Given a set of asthma diagnoses, we identify patients matching these diagnoses. For each patient, we identify their age of diagnosis, and location.\n",
    "\n",
    "Next, we generate some summary statistics on age of diagnosis across all asthma patients. We then generate boxplots, grouped by latitude and longitude coordinates."
   ]
  },
  {
   "cell_type": "code",
   "execution_count": 7,
   "metadata": {
    "scrolled": true
   },
   "outputs": [
    {
     "name": "stdout",
     "output_type": "stream",
     "text": [
      "count      806.000000\n",
      "mean      8254.647643\n",
      "std       6054.258947\n",
      "min        151.000000\n",
      "25%       3566.500000\n",
      "50%       6988.500000\n",
      "75%      11537.000000\n",
      "max      31215.000000\n",
      "Name: ageOfDxInDays, dtype: float64\n"
     ]
    },
    {
     "data": {
      "text/plain": [
       "<seaborn.axisgrid.FacetGrid at 0x7f419f233ed0>"
      ]
     },
     "execution_count": 7,
     "metadata": {},
     "output_type": "execute_result"
    },
    {
     "data": {
      "image/png": "[encoded data removed]",
      "text/plain": [
       "<matplotlib.figure.Figure at 0x7f419f233c90>"
      ]
     },
     "metadata": {},
     "output_type": "display_data"
    }
   ],
   "source": [
    "asthmaCodes = findICD_umls(\"asthma\") # We go with ICD10 codes\n",
    "\n",
    "## Get age of diagnosis & locations for FHIR synthetic patients.\n",
    "p_agelocs = []\n",
    "\n",
    "#print \"Codes\"\n",
    "#print len(asthmaCodes)\n",
    "#print asthmaCodes\n",
    "p = []\n",
    "\n",
    "for icd in asthmaCodes:\n",
    "    try:\n",
    "        pp = findPatients_fhir(icd)\n",
    "        #print pp\n",
    "        if len(pp)>0:\n",
    "            #print \"HERE\"\n",
    "            p = pp\n",
    "        # patients with icd exist\n",
    "    except:\n",
    "        print \"no patients with icd\"\n",
    "        exit()\n",
    "\n",
    "#print \"Patients\"\n",
    "#pprint.pprint(p)\n",
    "\n",
    "p_ageloc = findDxAgeLocation_fhir(p)\n",
    "#pprint.pprint(p_ageloc)\n",
    "    \n",
    "for dx in p_ageloc:\n",
    "    num = int(dx[0])\n",
    "    ageOfDxInDays = int(dx[1])\n",
    "    dateAtDx = str(dx[2])\n",
    "    lat = dx[3]\n",
    "    lon = dx[4]\n",
    "    coordinates=''+str(lat)+','+str(lon)+''\n",
    "    #print coordinates\n",
    "    p_agelocs.append((num, ageOfDxInDays,dateAtDx,lat,lon,coordinates))\n",
    "    #p_agelocs.append(dx)\n",
    "#print p_agelocs[1]\n",
    "p_agelocs_df = pd.DataFrame(p_agelocs, columns=['id', 'ageOfDxInDays', 'dateAtDx', 'lat', 'lon','coordinates'])\n",
    "#print  p_agelocs_df\n",
    "    \n",
    "s = p_agelocs_df['ageOfDxInDays']\n",
    "print s.describe()\n",
    "    \n",
    "g = sns.factorplot(x=\"coordinates\", y=\"ageOfDxInDays\", data=p_agelocs_df, kind=\"box\", size=3, aspect=2)\n",
    "g.set_xticklabels(rotation=50)\n",
    "\n",
    "##pprint.pprint(p_agelocs) # age at dx and coordinates\n",
    "##pprint.pprint(p_agelocs_df) # age at dx and coordinates"
   ]
  },
  {
   "cell_type": "markdown",
   "metadata": {
    "collapsed": true
   },
   "source": [
    "### \"What is the age range of Asthma diagnoses, grouped by air quality value?\"\n",
    "\n",
    "Note that we use PM2.5 values from  Open AQ Platform in order to identify air quality values from the greater Washington DC area.\n",
    "\n",
    "The limitations we encountered are that either: (a) no information is returned, or (b) air quality of the greater Washington DC area for the last couple of weeks is returned.\n",
    "\n",
    "We plot these data, but ultimately we would want more complete data and air quality values near the time of diagnosis."
   ]
  },
  {
   "cell_type": "code",
   "execution_count": 15,
   "metadata": {
    "scrolled": false
   },
   "outputs": [
    {
     "data": {
      "text/plain": [
       "<seaborn.axisgrid.FacetGrid at 0x7f419ce2a3d0>"
      ]
     },
     "execution_count": 15,
     "metadata": {},
     "output_type": "execute_result"
    },
    {
     "data": {
      "image/png": "[encoded data removed]",
      "text/plain": [
       "<matplotlib.figure.Figure at 0x7f419ce2a490>"
      ]
     },
     "metadata": {},
     "output_type": "display_data"
    }
   ],
   "source": [
    "##For date of diagnosis and location, what is air quality (pm25)?\n",
    "\n",
    "p_agelocspm25 = []\n",
    "\n",
    "#print \"##### CSV CUT HERE #####\"\n",
    "for item, p in p_agelocs_df.iterrows():\n",
    "    #print \"item, p\"\n",
    "    \n",
    "    #print item\n",
    "    #print p\n",
    "    dateDx = p['dateAtDx']\n",
    "    lat = p['lat']\n",
    "    lon = p['lon']\n",
    "    #print dateDx\n",
    "    #print lat\n",
    "    try:\n",
    "        p_exp = findAirQualityAtDateOfDx(dateDx,lat,lon)\n",
    "        #pprint.pprint(txt)\n",
    "        #findExposureAtDateOfDx(dateDx,lon,lat)\n",
    "    except:\n",
    "        print \"location not found\"\n",
    "        exit()\n",
    "    n = p_exp['meta']['found'];\n",
    "    #print p_exp['meta']\n",
    "    #print p_exp\n",
    "    if n > 0:\n",
    "        pm25 = p_exp['results'][0]['value']\n",
    "    else:\n",
    "        pm25 = \"\\\"Unknown\\\"\"\n",
    "    # ****** UNCOMMENT THIS LINE TO GENERATE CSV ENTITIES ******\n",
    "    # You will need to comment this line and rerun this sectioh to save changes.  Otherwise, you will\n",
    "    # get an 'entity too large' error\n",
    "    ##print str(p['id'])+\",\"+str(p['ageOfDxInDays'])+\",\\\"\"+str(p['dateAtDx'])+\"\\\",\"+str(p['lat'])+\",\"+str(p['lon'])+\",\"+str(pm25)+\"\"\n",
    "    p_agelocspm25.append((p['id'], p['ageOfDxInDays'],p['dateAtDx'],p['coordinates'],pm25))\n",
    "    \n",
    "    #print pm25\n",
    "#print \"##### CSV CUT HERE #####\"\n",
    "\n",
    "#print p_agelocspm25\n",
    "p_agelocspm25_df = pd.DataFrame(p_agelocspm25, columns=['id', 'ageOfDxInDays', 'dateAtDx', 'coordinates','pm25'])\n",
    "\n",
    "g = sns.factorplot(x=\"pm25\", y=\"ageOfDxInDays\", data=p_agelocspm25_df, kind=\"box\", size=3, aspect=2)\n",
    "g.set_xticklabels(rotation=50)\n",
    "\n"
   ]
  }
 ],
 "metadata": {
  "kernelspec": {
   "display_name": "Python 2",
   "language": "python",
   "name": "python2"
  },
  "language_info": {
   "codemirror_mode": {
    "name": "ipython",
    "version": 2
   },
   "file_extension": ".py",
   "mimetype": "text/x-python",
   "name": "python",
   "nbconvert_exporter": "python",
   "pygments_lexer": "ipython2",
   "version": "2.7.9"
  }
 },
 "nbformat": 4,
 "nbformat_minor": 2
}
