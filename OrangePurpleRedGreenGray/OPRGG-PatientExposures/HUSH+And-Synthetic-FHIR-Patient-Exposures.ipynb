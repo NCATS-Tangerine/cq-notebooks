{
 "cells": [
  {
   "cell_type": "markdown",
   "metadata": {},
   "source": [
    "**Question: Are there differences in environmental exposure among patients with early-onset vs late-onset Asthma?**\n",
    "* Find patients diagnosed with Asthma\n",
    "* Find age of diagnosis for Asthma patients\n",
    "* Find location for Asthma patients\n",
    "* Find exposures by location for Asthma patients\n",
    "* Compare exposures of patients diagnosed with Asthma during childhood vs during adulthood"
   ]
  },
  {
   "cell_type": "markdown",
   "metadata": {},
   "source": [
    "### Function and dataset definitions"
   ]
  },
  {
   "cell_type": "code",
   "execution_count": 12,
   "metadata": {},
   "outputs": [],
   "source": [
    "## All the imports we need\n",
    "import urllib2\n",
    "from urllib2 import Request, urlopen, URLError\n",
    "from urllib import quote_plus\n",
    "\n",
    "import mysql.connector\n",
    "\n",
    "import pprint, json, requests\n",
    "\n",
    "from datetime import datetime, timedelta\n",
    "from dateutil.parser import parse as parse_date\n",
    "from greentranslator.api import GreenTranslator\n",
    "query = GreenTranslator ().get_query ()\n",
    "\n",
    "import dateutil"
   ]
  },
  {
   "cell_type": "code",
   "execution_count": 13,
   "metadata": {},
   "outputs": [
    {
     "name": "stdout",
     "output_type": "stream",
     "text": [
      "\n"
     ]
    }
   ],
   "source": [
    "#connect to UMLS\n",
    "try:\n",
    "    cnx = mysql.connector.connect(user='tadmin',\n",
    "                                password='ncats_translator!',\n",
    "                                database='umls',\n",
    "                                host='translator.ceyknq0yekb3.us-east-1.rds.amazonaws.com')\n",
    "except mysql.connector.Error as err:\n",
    "    if err.errno == errorcode.ER_ACCESS_DENIED_ERROR:\n",
    "        print(\"Something is wrong with your user name or password\")\n",
    "    elif err.errno == errorcode.ER_BAD_DB_ERROR:\n",
    "        print(\"Database does not exist\")\n",
    "    else:\n",
    "        print(err)\n",
    "else:\n",
    "    print\n",
    "    #cnx.close()"
   ]
  },
  {
   "cell_type": "markdown",
   "metadata": {},
   "source": [
    "#### UMLS and OHDSI functions"
   ]
  },
  {
   "cell_type": "code",
   "execution_count": 14,
   "metadata": {},
   "outputs": [
    {
     "name": "stdout",
     "output_type": "stream",
     "text": [
      "[u'E945.7', u'493', u'493.9', u'493.90', u'493.92', u'493.91', u'493.2', u'493.20', u'493.22', u'493.21', u'493.82', u'493.0', u'493.00', u'493.02', u'493.01', u'V17.5', u'493.1', u'493.10', u'493.12', u'493.11', u'493.8', u'975.7']\n"
     ]
    }
   ],
   "source": [
    "## Given disease/condition term, get back ICD codes from OHDSI\n",
    "def findICD_ohdsi(txt, icd_version = 9):\n",
    "    if icd_version == 9:\n",
    "        icd_type = 'ICD9CM'\n",
    "    elif icd_version == 10:\n",
    "        icd_type = 'ICD10'\n",
    "    else: raise Exception(\"Invalid ICD version specified\")    \n",
    "    url_con = \"http://api.ohdsi.org/WebAPI/vocabulary/search\"\n",
    "    headers = {'content-type': 'application/json'}\n",
    "    params = {\"QUERY\": txt,\n",
    "              \"VOCABULARY_ID\": [icd_type]}\n",
    "    response = requests.post(url_con, data=json.dumps(params), headers=headers)\n",
    "    data= json.loads(response.text.decode('utf-8'))\n",
    "    return [d[\"CONCEPT_CODE\"] for d in data]\n",
    "print findICD_ohdsi('asthma')\n",
    "\n",
    "# Get ICD10/ICD9 code for a given string from UMLS. By default we get back ICD10.\n",
    "def findICD_umls(name, icd_version = 10):\n",
    "    if icd_version == 9:\n",
    "        icd_type = 'ICD9CM'\n",
    "    elif icd_version == 10:\n",
    "        icd_type = 'ICD10'\n",
    "    else: raise Exception(\"Invalid ICD version specified\")\n",
    "\n",
    "    cursor = cnx.cursor()\n",
    "    query = (\"SELECT CUI FROM umls.MRCONSO WHERE STR='\"+name+\"'\")\n",
    "    cursor.execute(query, ())\n",
    "    res = \"Undef\"\n",
    "    for code in cursor:\n",
    "        if res==\"Undef\":\n",
    "            res = code\n",
    "    if res != \"Undef\":\n",
    "        query = (\"SELECT CODE FROM umls.MRCONSO WHERE SAB='\"+icd_type+\"' AND CUI='\"+res[0]+\"'\")\n",
    "        cursor.execute(query, ())\n",
    "        icd10 = \"Undef\"\n",
    "        for code in cursor:\n",
    "            icd10 = code\n",
    "        return (icd10[0])\n",
    "    return (\"Undef\")"
   ]
  },
  {
   "cell_type": "markdown",
   "metadata": {},
   "source": [
    "#### Exposure data source founctions"
   ]
  },
  {
   "cell_type": "code",
   "execution_count": 58,
   "metadata": {},
   "outputs": [],
   "source": [
    "#Function takes date of diagnosis, and location as input and returns degree of exposure \n",
    "\n",
    "def findExposureAtDateOfDx(dxdate,lon,lat):\n",
    "    #dxnextdate = dateutil.parser.parse(dxdate) + timedelta(days=1)\n",
    "    #dxnextdate = datetime.date(dxnextdate)\n",
    "    pm25score = query.expo_get_scores (exposure_type = 'pm25',\n",
    "                            start_date = dxdate,\n",
    "                            end_date = dxdate,\n",
    "                            exposure_point = ''+lon+','+lat+'')\n",
    "    return(pm25score) "
   ]
  },
  {
   "cell_type": "markdown",
   "metadata": {},
   "source": [
    "#### HUSH+ and FHIR synthetic data source functions"
   ]
  },
  {
   "cell_type": "code",
   "execution_count": 16,
   "metadata": {
    "collapsed": true
   },
   "outputs": [],
   "source": [
    "## Functions to retreive patients from different sources - HUSH+ & FHIR synthetic\n",
    "def findPatients_fhir(code):\n",
    "    try:\n",
    "        url =\"http://ictrweb.johnshopkins.edu/rest/synthetic/Condition?icd_10=\"+code+\"&_count=%d\"\n",
    "        txt = urlopen(url).read()\n",
    "    except Exception, e:\n",
    "        raise Exception(e)\n",
    "    stuff = json.loads(txt)\n",
    "    #print stuff\n",
    "    return(stuff)\n",
    "\n",
    "def findPatients_unc(age='8', sex='male', race='white', location='OUTPATIENT'):\n",
    "    query = GreenTranslator ().get_query()\n",
    "    return query.clinical_get_patients(age, sex, race, location)"
   ]
  },
  {
   "cell_type": "code",
   "execution_count": 17,
   "metadata": {},
   "outputs": [],
   "source": [
    "#Function to retrieve age at diagnosis & location for patients from FHIR synthetic\n",
    "def findDxAgeLocation_fhir(stuff):\n",
    "    res = []\n",
    "    for p in stuff['entry']:\n",
    "        d1 = p['assertedDate']\n",
    "        id = p['subject']['reference'][8:]\n",
    "        try:\n",
    "            url = 'http://ictrweb.johnshopkins.edu/rest/synthetic/Patient/'+id\n",
    "            txt = urlopen(url).read()\n",
    "        except:\n",
    "            print \"ictr api doesn't work\"\n",
    "        st = json.loads(txt)\n",
    "        #pprint.pprint(st)\n",
    "        d2 = st['birthDate']\n",
    "        zip = st['address'][0]['postalCode']\n",
    "        datedx = d2 #e.g. 1925-12-08 00:00:00\n",
    "        d1 = dateutil.parser.parse(d1)\n",
    "        d2 = dateutil.parser.parse(d2)\n",
    "        #print d1\n",
    "        #print d2\n",
    "        diff = d1 - d2\n",
    "        #print diff\n",
    "        \n",
    "        '''\n",
    "        try:\n",
    "            url = 'https://www.zipcodeapi.com/rest/ZWUyBbk9SFKpTkLhEZOn7qc3REA6QtyPqto2EJcxoWWihIzWInkPNwSFatL1XjRo/multi-info.json/'+zip+'/degrees'\n",
    "            txt = urlopen(url).read()\n",
    "        except:\n",
    "            print \"zipcode api doesn't work - NOTE: there limits to # of requests\"\n",
    "        st = json.loads(txt)\n",
    "        #pprint.pprint(st)\n",
    "        lat = st[zip]['lat']\n",
    "        lng = st[zip]['lng']\n",
    "        #print lat\n",
    "        #print lng\n",
    "        '''\n",
    "        \n",
    "        #print diff.days #age at dx in days\n",
    "        #t = (id,diff.days,datedx,lat,lng) \n",
    "        t = (id,diff.days,datedx)\n",
    "        res.append(t)\n",
    "    return(res)\n",
    "\n",
    "#Add function to retrieve age at diagnosis & location for patients from HUSH+"
   ]
  },
  {
   "cell_type": "markdown",
   "metadata": {},
   "source": [
    "### \"What is age of diagnosis and location of Asthma patients ?\""
   ]
  },
  {
   "cell_type": "code",
   "execution_count": 18,
   "metadata": {},
   "outputs": [
    {
     "name": "stdout",
     "output_type": "stream",
     "text": [
      "['id', 'ageOfDxInDays', 'dateAtDx', 'long', 'lat']\n",
      "(u'575332489', 14304, u'1977-07-15')\n",
      "(u'609471264', 4547, u'1977-02-25')\n",
      "(u'619439090', 4976, u'1971-11-07')\n",
      "(u'300873820', 5441, u'1984-03-04')\n",
      "(u'940690009', 4922, u'1998-03-01')\n",
      "(u'269388123', 7899, u'1989-03-07')\n",
      "(u'965563989', 16927, u'1959-09-01')\n",
      "(u'346295461', 6409, u'1981-03-31')\n",
      "(u'709160279', 4491, u'1979-04-02')\n",
      "(u'208000292', 11673, u'1975-02-19')\n",
      "(u'282146129', 6456, u'1981-06-28')\n",
      "(u'784802759', 5219, u'1990-10-20')\n",
      "(u'487232107', 3937, u'1996-02-26')\n",
      "(u'959595579', 17903, u'1954-11-28')\n",
      "(u'838359407', 947, u'1986-10-29')\n",
      "(u'561513328', 17677, u'1952-10-05')\n",
      "(u'864852900', 16718, u'1921-06-01')\n",
      "(u'728461139', 8114, u'1989-09-14')\n",
      "(u'256304058', 3968, u'1996-04-24')\n",
      "(u'416246442', 7305, u'1986-06-04')\n",
      "(u'846285533', 6015, u'1951-03-13')\n",
      "(u'888034824', 11754, u'1968-04-23')\n",
      "(u'387556927', 18564, u'1946-05-18')\n",
      "(u'910942718', 812, u'1997-08-25')\n",
      "(u'975849373', 10688, u'1972-11-01')\n",
      "(u'263994918', 6780, u'1954-10-28')\n",
      "(u'549249716', 3417, u'1986-04-22')\n",
      "(u'739265286', 4692, u'1979-06-07')\n",
      "(u'223541279', 7586, u'1970-08-20')\n",
      "(u'331277554', 3677, u'1931-10-14')\n",
      "(u'607081924', 2694, u'1996-06-18')\n",
      "(u'878110188', 4601, u'1984-10-09')\n",
      "(u'746202841', 18250, u'1940-05-02')\n",
      "(u'532529543', 5753, u'1981-07-28')\n",
      "(u'490245137', 20926, u'1956-11-04')\n",
      "(u'568111080', 3776, u'2004-01-12')\n",
      "(u'831636695', 3959, u'1970-07-07')\n",
      "(u'392782286', 18653, u'1936-12-20')\n",
      "(u'456878674', 10617, u'1980-07-19')\n",
      "(u'922610824', 6037, u'1973-07-18')\n",
      "(u'776072504', 722, u'2001-08-09')\n",
      "(u'372709959', 13878, u'1957-01-23')\n",
      "(u'158095289', 1735, u'1951-05-06')\n",
      "(u'941986615', 8867, u'1986-12-03')\n",
      "(u'977448120', 3280, u'1988-04-02')\n",
      "(u'618976413', 31215, u'1918-04-27')\n",
      "(u'387370916', 9508, u'1967-04-19')\n",
      "(u'694332044', 3443, u'1981-05-25')\n",
      "(u'407138052', 14666, u'1947-07-27')\n",
      "(u'942155677', 4654, u'1997-08-06')\n"
     ]
    },
    {
     "ename": "TypeError",
     "evalue": "list indices must be integers, not str",
     "output_type": "error",
     "traceback": [
      "\u001b[0;31m\u001b[0m",
      "\u001b[0;31mTypeError\u001b[0mTraceback (most recent call last)",
      "\u001b[0;32m<ipython-input-18-2df5c21f369f>\u001b[0m in \u001b[0;36m<module>\u001b[0;34m()\u001b[0m\n\u001b[1;32m      9\u001b[0m         \u001b[0;32mprint\u001b[0m \u001b[0;34m\"no patients with icd\"\u001b[0m\u001b[0;34m\u001b[0m\u001b[0m\n\u001b[1;32m     10\u001b[0m         \u001b[0mexit\u001b[0m\u001b[0;34m(\u001b[0m\u001b[0;34m)\u001b[0m\u001b[0;34m\u001b[0m\u001b[0m\n\u001b[0;32m---> 11\u001b[0;31m     \u001b[0mp_ageloc\u001b[0m \u001b[0;34m=\u001b[0m \u001b[0mfindDxAgeLocation_fhir\u001b[0m\u001b[0;34m(\u001b[0m\u001b[0mp\u001b[0m\u001b[0;34m)\u001b[0m\u001b[0;34m\u001b[0m\u001b[0m\n\u001b[0m\u001b[1;32m     12\u001b[0m     \u001b[0;31m#pprint.pprint(p_ageloc)\u001b[0m\u001b[0;34m\u001b[0m\u001b[0;34m\u001b[0m\u001b[0m\n\u001b[1;32m     13\u001b[0m     \u001b[0mdxlist\u001b[0m \u001b[0;34m=\u001b[0m \u001b[0;34m[\u001b[0m\u001b[0;34m\"id\"\u001b[0m\u001b[0;34m,\u001b[0m\u001b[0;34m\"ageOfDxInDays\"\u001b[0m\u001b[0;34m,\u001b[0m \u001b[0;34m\"dateAtDx\"\u001b[0m\u001b[0;34m,\u001b[0m \u001b[0;34m\"long\"\u001b[0m\u001b[0;34m,\u001b[0m\u001b[0;34m\"lat\"\u001b[0m\u001b[0;34m]\u001b[0m\u001b[0;34m\u001b[0m\u001b[0m\n",
      "\u001b[0;32m<ipython-input-17-c499e9518565>\u001b[0m in \u001b[0;36mfindDxAgeLocation_fhir\u001b[0;34m(stuff)\u001b[0m\n\u001b[1;32m      2\u001b[0m \u001b[0;32mdef\u001b[0m \u001b[0mfindDxAgeLocation_fhir\u001b[0m\u001b[0;34m(\u001b[0m\u001b[0mstuff\u001b[0m\u001b[0;34m)\u001b[0m\u001b[0;34m:\u001b[0m\u001b[0;34m\u001b[0m\u001b[0m\n\u001b[1;32m      3\u001b[0m     \u001b[0mres\u001b[0m \u001b[0;34m=\u001b[0m \u001b[0;34m[\u001b[0m\u001b[0;34m]\u001b[0m\u001b[0;34m\u001b[0m\u001b[0m\n\u001b[0;32m----> 4\u001b[0;31m     \u001b[0;32mfor\u001b[0m \u001b[0mp\u001b[0m \u001b[0;32min\u001b[0m \u001b[0mstuff\u001b[0m\u001b[0;34m[\u001b[0m\u001b[0;34m'entry'\u001b[0m\u001b[0;34m]\u001b[0m\u001b[0;34m:\u001b[0m\u001b[0;34m\u001b[0m\u001b[0m\n\u001b[0m\u001b[1;32m      5\u001b[0m         \u001b[0md1\u001b[0m \u001b[0;34m=\u001b[0m \u001b[0mp\u001b[0m\u001b[0;34m[\u001b[0m\u001b[0;34m'assertedDate'\u001b[0m\u001b[0;34m]\u001b[0m\u001b[0;34m\u001b[0m\u001b[0m\n\u001b[1;32m      6\u001b[0m         \u001b[0mid\u001b[0m \u001b[0;34m=\u001b[0m \u001b[0mp\u001b[0m\u001b[0;34m[\u001b[0m\u001b[0;34m'subject'\u001b[0m\u001b[0;34m]\u001b[0m\u001b[0;34m[\u001b[0m\u001b[0;34m'reference'\u001b[0m\u001b[0;34m]\u001b[0m\u001b[0;34m[\u001b[0m\u001b[0;36m8\u001b[0m\u001b[0;34m:\u001b[0m\u001b[0;34m]\u001b[0m\u001b[0;34m\u001b[0m\u001b[0m\n",
      "\u001b[0;31mTypeError\u001b[0m: list indices must be integers, not str"
     ]
    }
   ],
   "source": [
    "asthmaCodes = findICD_umls(\"asthma\") # We go with ICD10 codes\n",
    "\n",
    "## Get age of diagnosis & locations for FHIR synthetic patients.\n",
    "for icd in asthmaCodes:\n",
    "    try:\n",
    "        p = findPatients_fhir(icd)\n",
    "        # patients with icd exist\n",
    "    except:\n",
    "        print \"no patients with icd\"\n",
    "        exit()\n",
    "    p_ageloc = findDxAgeLocation_fhir(p)\n",
    "    #pprint.pprint(p_ageloc)\n",
    "    dxlist = [\"id\",\"ageOfDxInDays\", \"dateAtDx\", \"long\",\"lat\"]\n",
    "    print dxlist\n",
    "    for dx in p_ageloc:\n",
    "        print dx\n",
    "        \n",
    "## Add code to get age of diagnosis & locations for HUSH+ patients."
   ]
  },
  {
   "cell_type": "markdown",
   "metadata": {
    "collapsed": true
   },
   "source": [
    "### \"What are exposures at date of diagnosis for each patient?\""
   ]
  },
  {
   "cell_type": "code",
   "execution_count": 59,
   "metadata": {},
   "outputs": [
    {
     "data": {
      "text/plain": [
       "[{'end_time': datetime.datetime(2010, 1, 7, 23, 0, tzinfo=tzlocal()),\n",
       "  'exposure_type': 'pm25',\n",
       "  'latitude': '35.9131996',\n",
       "  'longitude': '-79.0558445',\n",
       "  'start_time': datetime.datetime(2010, 1, 7, 0, 0, tzinfo=tzlocal()),\n",
       "  'units': '7dayrisk',\n",
       "  'value': ''}]"
      ]
     },
     "execution_count": 59,
     "metadata": {},
     "output_type": "execute_result"
    }
   ],
   "source": [
    "findExposureAtDateOfDx('2010-01-07','35.9131996','-79.0558445')\n",
    "\n",
    "#for p in p_ageloc:\n",
    "    #findExposureAtDateOfDx(p[2],p[3],p[4])\n"
   ]
  },
  {
   "cell_type": "code",
   "execution_count": null,
   "metadata": {
    "collapsed": true
   },
   "outputs": [],
   "source": []
  },
  {
   "cell_type": "code",
   "execution_count": null,
   "metadata": {
    "collapsed": true
   },
   "outputs": [],
   "source": []
  }
 ],
 "metadata": {
  "kernelspec": {
   "display_name": "Python 2",
   "language": "python",
   "name": "python2"
  },
  "language_info": {
   "codemirror_mode": {
    "name": "ipython",
    "version": 2
   },
   "file_extension": ".py",
   "mimetype": "text/x-python",
   "name": "python",
   "nbconvert_exporter": "python",
   "pygments_lexer": "ipython2",
   "version": "2.7.9"
  }
 },
 "nbformat": 4,
 "nbformat_minor": 2
}
