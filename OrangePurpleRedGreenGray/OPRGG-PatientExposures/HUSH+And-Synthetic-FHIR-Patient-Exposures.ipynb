{
 "cells": [
  {
   "cell_type": "markdown",
   "metadata": {},
   "source": [
    "**Question: Are there differences in environmental exposure among patients with early-onset vs late-onset Asthma?**\n",
    "* Find patients diagnosed with Asthma\n",
    "* Find age of diagnosis for Asthma patients\n",
    "* Find location for Asthma patients\n",
    "* Find exposures by location for Asthma patients\n",
    "* Compare exposures of patients diagnosed with Asthma during childhood vs during adulthood\n",
    "\n",
    "**Data Sources**\n",
    "* HUSH+ synthetic data resource\n",
    "* [FHIR synthetic data resource](http://ictrweb.johnshopkins.edu/ictr/synthetic/)\n",
    "* [UMLS](https://www.nlm.nih.gov/research/umls/), NOTE: there is a Web API [here](https://documentation.uts.nlm.nih.gov/rest/home.html) \n",
    "* [OHDSI Web API](http://www.ohdsi.org/web/wiki/doku.php?id=documentation:software:webapi)\n",
    "* [Open AQ Platform API](https://docs.openaq.org), An API for open air quality data (pm25)\n",
    "* [Green Translator Exposures API](https://exposures.renci.org/v1/ui), An API for pm25 and o3 measures"
   ]
  },
  {
   "cell_type": "markdown",
   "metadata": {},
   "source": [
    "### Function and dataset definitions"
   ]
  },
  {
   "cell_type": "code",
   "execution_count": 2,
   "metadata": {},
   "outputs": [],
   "source": [
    "## All the imports we need\n",
    "import urllib2\n",
    "from urllib2 import Request, urlopen, URLError\n",
    "from urllib import quote_plus\n",
    "\n",
    "import mysql.connector\n",
    "\n",
    "import pprint, json, requests\n",
    "\n",
    "from datetime import datetime, timedelta\n",
    "from dateutil.parser import parse as parse_date\n",
    "from greentranslator.api import GreenTranslator\n",
    "query = GreenTranslator ().get_query ()\n",
    "\n",
    "import dateutil\n",
    "\n",
    "import zipcode\n",
    "\n",
    "import string\n",
    "\n",
    "%matplotlib inline\n",
    "import numpy as np\n",
    "import pandas as pd\n",
    "import seaborn as sns"
   ]
  },
  {
   "cell_type": "code",
   "execution_count": 3,
   "metadata": {},
   "outputs": [
    {
     "name": "stdout",
     "output_type": "stream",
     "text": [
      "\n"
     ]
    }
   ],
   "source": [
    "#connect to UMLS\n",
    "try:\n",
    "    cnx = mysql.connector.connect(user='tadmin',\n",
    "                                password='ncats_translator!',\n",
    "                                database='umls',\n",
    "                                host='translator.ceyknq0yekb3.us-east-1.rds.amazonaws.com')\n",
    "except mysql.connector.Error as err:\n",
    "    if err.errno == errorcode.ER_ACCESS_DENIED_ERROR:\n",
    "        print(\"Something is wrong with your user name or password\")\n",
    "    elif err.errno == errorcode.ER_BAD_DB_ERROR:\n",
    "        print(\"Database does not exist\")\n",
    "    else:\n",
    "        print(err)\n",
    "else:\n",
    "    print\n",
    "    #cnx.close()"
   ]
  },
  {
   "cell_type": "markdown",
   "metadata": {},
   "source": [
    "#### UMLS and OHDSI functions"
   ]
  },
  {
   "cell_type": "code",
   "execution_count": 4,
   "metadata": {},
   "outputs": [
    {
     "name": "stdout",
     "output_type": "stream",
     "text": [
      "[u'E945.7', u'493', u'493.9', u'493.90', u'493.92', u'493.91', u'493.2', u'493.20', u'493.22', u'493.21', u'493.82', u'493.0', u'493.00', u'493.02', u'493.01', u'V17.5', u'493.1', u'493.10', u'493.12', u'493.11', u'493.8', u'975.7']\n"
     ]
    }
   ],
   "source": [
    "## Given disease/condition term, get back ICD codes from OHDSI\n",
    "def findICD_ohdsi(txt, icd_version = 9):\n",
    "    if icd_version == 9:\n",
    "        icd_type = 'ICD9CM'\n",
    "    elif icd_version == 10:\n",
    "        icd_type = 'ICD10'\n",
    "    else: raise Exception(\"Invalid ICD version specified\")    \n",
    "    url_con = \"http://api.ohdsi.org/WebAPI/vocabulary/search\"\n",
    "    headers = {'content-type': 'application/json'}\n",
    "    params = {\"QUERY\": txt,\n",
    "              \"VOCABULARY_ID\": [icd_type]}\n",
    "    response = requests.post(url_con, data=json.dumps(params), headers=headers)\n",
    "    data= json.loads(response.text.decode('utf-8'))\n",
    "    return [d[\"CONCEPT_CODE\"] for d in data]\n",
    "print findICD_ohdsi('asthma')\n",
    "\n",
    "# Get ICD10/ICD9 code for a given string from UMLS. By default we get back ICD10.\n",
    "def findICD_umls(name, icd_version = 10):\n",
    "    if icd_version == 9:\n",
    "        icd_type = 'ICD9CM'\n",
    "    elif icd_version == 10:\n",
    "        icd_type = 'ICD10'\n",
    "    else: raise Exception(\"Invalid ICD version specified\")\n",
    "\n",
    "    cursor = cnx.cursor()\n",
    "    query = (\"SELECT CUI FROM umls.MRCONSO WHERE STR='\"+name+\"'\")\n",
    "    cursor.execute(query, ())\n",
    "    res = \"Undef\"\n",
    "    for code in cursor:\n",
    "        if res==\"Undef\":\n",
    "            res = code\n",
    "    if res != \"Undef\":\n",
    "        query = (\"SELECT CODE FROM umls.MRCONSO WHERE SAB='\"+icd_type+\"' AND CUI='\"+res[0]+\"'\")\n",
    "        cursor.execute(query, ())\n",
    "        icd10 = \"Undef\"\n",
    "        for code in cursor:\n",
    "            icd10 = code\n",
    "        return (icd10[0])\n",
    "    return (\"Undef\")"
   ]
  },
  {
   "cell_type": "markdown",
   "metadata": {},
   "source": [
    "#### Exposure data source founctions"
   ]
  },
  {
   "cell_type": "code",
   "execution_count": 5,
   "metadata": {},
   "outputs": [],
   "source": [
    "#Function takes date of diagnosis, and location as input and returns degree of exposure \n",
    "\n",
    "def findExposureAtDateOfDx(dxdate,lon,lat):\n",
    "    #dxnextdate = dateutil.parser.parse(dxdate) + timedelta(days=1)\n",
    "    #dxnextdate = datetime.date(dxnextdate)\n",
    "    pm25score = query.expo_get_scores (exposure_type = 'pm25',\n",
    "                            start_date = dxdate,\n",
    "                            end_date = dxdate,\n",
    "                            exposure_point = ''+lon+','+lat+'')\n",
    "    return(pm25score) \n",
    "\n",
    "def findAirQualityAtDateOfDx(dxdate,lat,lon):\n",
    "    try:\n",
    "        url = \"https://api.openaq.org/v1/measurements?coordinates=\"+lat+','+lon+\"&date=\"+dxdate+\"&parameter=pm25\"\n",
    "        txt = urlopen(url).read()\n",
    "    except Exception, e:\n",
    "        raise Exception(e)\n",
    "    exps= json.loads(txt)\n",
    "    pprint.pprint(exps)\n",
    "    return(exps)"
   ]
  },
  {
   "cell_type": "markdown",
   "metadata": {},
   "source": [
    "#### HUSH+ and FHIR synthetic data source functions"
   ]
  },
  {
   "cell_type": "code",
   "execution_count": 6,
   "metadata": {
    "collapsed": true
   },
   "outputs": [],
   "source": [
    "## Functions to retreive patients from different sources - HUSH+ & FHIR synthetic\n",
    "def findPatients_fhir(code):\n",
    "    try:\n",
    "        url =\"http://ictrweb.johnshopkins.edu/rest/synthetic/Condition?icd_10=\"+code+\"&_count=%d\"\n",
    "        txt = urlopen(url).read()\n",
    "    except Exception, e:\n",
    "        raise Exception(e)\n",
    "    stuff = json.loads(txt)\n",
    "    #print stuff\n",
    "    return(stuff)\n",
    "\n",
    "def findPatients_unc(age='8', sex='male', race='white', location='OUTPATIENT'):\n",
    "    query = GreenTranslator ().get_query()\n",
    "    return query.clinical_get_patients(age, sex, race, location)"
   ]
  },
  {
   "cell_type": "code",
   "execution_count": 7,
   "metadata": {
    "collapsed": true
   },
   "outputs": [],
   "source": [
    "#Function to retrieve age at diagnosis & location for patients from FHIR synthetic\n",
    "def findDxAgeLocation_fhir(stuff):\n",
    "    #print stuff\n",
    "    res = []\n",
    "    for p in stuff['entry']:\n",
    "        d1 = p['assertedDate']\n",
    "        id = p['subject']['reference'][8:]\n",
    "        try:\n",
    "            url = 'http://ictrweb.johnshopkins.edu/rest/synthetic/Patient/'+id\n",
    "            txt = urlopen(url).read()\n",
    "        except:\n",
    "            print \"ictr api doesn't work\"\n",
    "        st = json.loads(txt)\n",
    "        #pprint.pprint(st)\n",
    "        d2 = st['birthDate']\n",
    "        z = st['address'][0]['postalCode']\n",
    "        datedx = d2 #e.g. 1925-12-08 00:00:00\n",
    "        d1 = dateutil.parser.parse(d1)\n",
    "        d2 = dateutil.parser.parse(d2)\n",
    "        #print d1\n",
    "        #print d2\n",
    "        diff = d1 - d2\n",
    "        #print diff\n",
    "             \n",
    "        obj = zipcode.isequal(z.encode(\"ascii\", \"ignore\"))\n",
    "        if obj is not None:\n",
    "            d = obj.to_dict()\n",
    "            lat = d['lat']\n",
    "            lon = d['lon']\n",
    "        else:\n",
    "            lat = None\n",
    "            lon = None\n",
    "        t = (id,diff.days,datedx,lat,lon)         \n",
    "        res.append(t)\n",
    "    return(res)\n",
    "\n",
    "#Add function to retrieve age at diagnosis & location for patients from HUSH+"
   ]
  },
  {
   "cell_type": "markdown",
   "metadata": {},
   "source": [
    "### \"What is the age range of Asthma diagnoses, grouped by location?\""
   ]
  },
  {
   "cell_type": "code",
   "execution_count": 8,
   "metadata": {},
   "outputs": [
    {
     "name": "stdout",
     "output_type": "stream",
     "text": [
      "count       50.000000\n",
      "mean      8806.260000\n",
      "std       5974.857412\n",
      "min        503.000000\n",
      "25%       4336.750000\n",
      "50%       7661.000000\n",
      "75%      12223.250000\n",
      "max      29056.000000\n",
      "Name: ageOfDxInDays, dtype: float64\n"
     ]
    },
    {
     "ename": "TypeError",
     "evalue": "list indices must be integers, not str",
     "output_type": "error",
     "traceback": [
      "\u001b[0;31m\u001b[0m",
      "\u001b[0;31mTypeError\u001b[0mTraceback (most recent call last)",
      "\u001b[0;32m<ipython-input-8-7e3c24d495d4>\u001b[0m in \u001b[0;36m<module>\u001b[0;34m()\u001b[0m\n\u001b[1;32m     10\u001b[0m         \u001b[0;32mprint\u001b[0m \u001b[0;34m\"no patients with icd\"\u001b[0m\u001b[0;34m\u001b[0m\u001b[0m\n\u001b[1;32m     11\u001b[0m         \u001b[0mexit\u001b[0m\u001b[0;34m(\u001b[0m\u001b[0;34m)\u001b[0m\u001b[0;34m\u001b[0m\u001b[0m\n\u001b[0;32m---> 12\u001b[0;31m     \u001b[0mp_ageloc\u001b[0m \u001b[0;34m=\u001b[0m \u001b[0mfindDxAgeLocation_fhir\u001b[0m\u001b[0;34m(\u001b[0m\u001b[0mp\u001b[0m\u001b[0;34m)\u001b[0m\u001b[0;34m\u001b[0m\u001b[0m\n\u001b[0m\u001b[1;32m     13\u001b[0m     \u001b[0;31m#pprint.pprint(p_ageloc)\u001b[0m\u001b[0;34m\u001b[0m\u001b[0;34m\u001b[0m\u001b[0m\n\u001b[1;32m     14\u001b[0m \u001b[0;34m\u001b[0m\u001b[0m\n",
      "\u001b[0;32m<ipython-input-7-e7f1a61d9de6>\u001b[0m in \u001b[0;36mfindDxAgeLocation_fhir\u001b[0;34m(stuff)\u001b[0m\n\u001b[1;32m      3\u001b[0m     \u001b[0;31m#print stuff\u001b[0m\u001b[0;34m\u001b[0m\u001b[0;34m\u001b[0m\u001b[0m\n\u001b[1;32m      4\u001b[0m     \u001b[0mres\u001b[0m \u001b[0;34m=\u001b[0m \u001b[0;34m[\u001b[0m\u001b[0;34m]\u001b[0m\u001b[0;34m\u001b[0m\u001b[0m\n\u001b[0;32m----> 5\u001b[0;31m     \u001b[0;32mfor\u001b[0m \u001b[0mp\u001b[0m \u001b[0;32min\u001b[0m \u001b[0mstuff\u001b[0m\u001b[0;34m[\u001b[0m\u001b[0;34m'entry'\u001b[0m\u001b[0;34m]\u001b[0m\u001b[0;34m:\u001b[0m\u001b[0;34m\u001b[0m\u001b[0m\n\u001b[0m\u001b[1;32m      6\u001b[0m         \u001b[0md1\u001b[0m \u001b[0;34m=\u001b[0m \u001b[0mp\u001b[0m\u001b[0;34m[\u001b[0m\u001b[0;34m'assertedDate'\u001b[0m\u001b[0;34m]\u001b[0m\u001b[0;34m\u001b[0m\u001b[0m\n\u001b[1;32m      7\u001b[0m         \u001b[0mid\u001b[0m \u001b[0;34m=\u001b[0m \u001b[0mp\u001b[0m\u001b[0;34m[\u001b[0m\u001b[0;34m'subject'\u001b[0m\u001b[0;34m]\u001b[0m\u001b[0;34m[\u001b[0m\u001b[0;34m'reference'\u001b[0m\u001b[0;34m]\u001b[0m\u001b[0;34m[\u001b[0m\u001b[0;36m8\u001b[0m\u001b[0;34m:\u001b[0m\u001b[0;34m]\u001b[0m\u001b[0;34m\u001b[0m\u001b[0m\n",
      "\u001b[0;31mTypeError\u001b[0m: list indices must be integers, not str"
     ]
    },
    {
     "data": {
      "image/png": "[encoded data removed]",
      "text/plain": [
       "<matplotlib.figure.Figure at 0x7f82343d0810>"
      ]
     },
     "metadata": {},
     "output_type": "display_data"
    }
   ],
   "source": [
    "asthmaCodes = findICD_umls(\"asthma\") # We go with ICD10 codes\n",
    "\n",
    "## Get age of diagnosis & locations for FHIR synthetic patients.\n",
    "p_agelocs = []\n",
    "for icd in asthmaCodes:\n",
    "    try:\n",
    "        p = findPatients_fhir(icd)\n",
    "        # patients with icd exist\n",
    "    except:\n",
    "        print \"no patients with icd\"\n",
    "        exit()\n",
    "    p_ageloc = findDxAgeLocation_fhir(p)\n",
    "    #pprint.pprint(p_ageloc)\n",
    "    \n",
    "    for dx in p_ageloc:\n",
    "        num = int(dx[0])\n",
    "        ageOfDxInDays = int(dx[1])\n",
    "        dateAtDx = str(dx[2])\n",
    "        lat = dx[3]\n",
    "        lon = dx[4]\n",
    "        coordinates=''+str(lat)+','+str(lon)+''\n",
    "        #print coordinates\n",
    "        p_agelocs.append((num, ageOfDxInDays,dateAtDx,lat,lon,coordinates))\n",
    "        #p_agelocs.append(dx)\n",
    "    #print p_agelocs[1]\n",
    "    p_agelocs_df = pd.DataFrame(p_agelocs, columns=['id', 'ageOfDxInDays', 'dateAtDx', 'lat', 'lon','coordinates'])\n",
    "    #print  p_agelocs_df\n",
    "    \n",
    "    s = p_agelocs_df['ageOfDxInDays']\n",
    "    print s.describe()\n",
    "    \n",
    "    g = sns.factorplot(x=\"coordinates\", y=\"ageOfDxInDays\", data=p_agelocs_df, kind=\"box\", size=3, aspect=2)\n",
    "    g.set_xticklabels(rotation=50)\n",
    "\n",
    "\n",
    "## Add code to get age of diagnosis & locations for HUSH+ patients."
   ]
  },
  {
   "cell_type": "markdown",
   "metadata": {
    "collapsed": true
   },
   "source": [
    "### \"What is the age range of Asthma diagnoses, grouped by air quality threshold?\"\n",
    "NOTE: will need to find literature-based thresholds for high & low air quality"
   ]
  },
  {
   "cell_type": "code",
   "execution_count": null,
   "metadata": {},
   "outputs": [],
   "source": [
    "##For date of diagnosis and location, what is air quality (pm25)?\n",
    "\n",
    "#findExposureAtDateOfDx(\"2010-01-07\",\"35.9131996\",\"-79.0558445\")\n",
    "#findAirQualityAtDateOfDx(\"2010-01-07\",\"35.91\",\"-79.05\")\n",
    "\n",
    "for item, p in p_agelocs_df.iterrows():\n",
    "    dateDx = p['dateAtDx']\n",
    "    lat = p['lat']\n",
    "    lon = p['lon']\n",
    "    print dateDx\n",
    "    print lat\n",
    "    txt =''\n",
    "    try:\n",
    "        txt = findAirQualityAtDateOfDx(dateDx,lat,lon)\n",
    "        #findExposureAtDateOfDx(dateDx,lon,lat)\n",
    "    except:\n",
    "        print \"location not found\"\n",
    "        exit()\n",
    "    p_exp = json.loads(txt)\n",
    "    #pm25 = p_exp['value']\n",
    "    #print pm25\n"
   ]
  },
  {
   "cell_type": "code",
   "execution_count": null,
   "metadata": {
    "collapsed": true
   },
   "outputs": [],
   "source": []
  },
  {
   "cell_type": "code",
   "execution_count": null,
   "metadata": {
    "collapsed": true
   },
   "outputs": [],
   "source": []
  }
 ],
 "metadata": {
  "kernelspec": {
   "display_name": "Python 2",
   "language": "python",
   "name": "python2"
  },
  "language_info": {
   "codemirror_mode": {
    "name": "ipython",
    "version": 2
   },
   "file_extension": ".py",
   "mimetype": "text/x-python",
   "name": "python",
   "nbconvert_exporter": "python",
   "pygments_lexer": "ipython2",
   "version": "2.7.9"
  }
 },
 "nbformat": 4,
 "nbformat_minor": 2
}
