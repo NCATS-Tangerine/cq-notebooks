{
 "cells": [
  {
   "cell_type": "markdown",
   "metadata": {},
   "source": [
    "**Question: Are there differences in environmental exposure among patients with early-onset vs late-onset Asthma?**\n",
    "* Find age of diagosis for Asthma patients\n",
    "* Find location for Asthma patients\n",
    "* Find exposures by location for Asthma patients\n",
    "* Compare exposures of patients diagnosed with Asthma during childhood vs during adulthood"
   ]
  },
  {
   "cell_type": "code",
   "execution_count": null,
   "metadata": {
    "collapsed": true
   },
   "outputs": [],
   "source": []
  }
 ],
 "metadata": {
  "kernelspec": {
   "display_name": "Python 2",
   "language": "python",
   "name": "python2"
  },
  "language_info": {
   "codemirror_mode": {
    "name": "ipython",
    "version": 2
   },
   "file_extension": ".py",
   "mimetype": "text/x-python",
   "name": "python",
   "nbconvert_exporter": "python",
   "pygments_lexer": "ipython2",
   "version": "2.7.9"
  }
 },
 "nbformat": 4,
 "nbformat_minor": 2
}
