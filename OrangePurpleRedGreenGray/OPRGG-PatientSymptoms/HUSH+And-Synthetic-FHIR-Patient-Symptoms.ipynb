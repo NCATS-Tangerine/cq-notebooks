{
 "cells": [
  {
   "cell_type": "markdown",
   "metadata": {},
   "source": [
    "**Question: What are symptoms of Asthma subtypes? **\n",
    "* Find patients diagnosed with Asthma\n",
    "* Find symptoms for Asthma\n",
    "* Find occurences of symptoms in Asthma patients\n",
    "* Find symptom clusters among Asthma patients and also patient clusters among symptoms\n",
    "* Compare symptom clusters of patients diagnosed with Asthma without COPD vs Asthma with COPD \n",
    "* For future consideration: If feasible identify another diease and compute symptom clusters and align to the cluster generated for Asthma. Depending on the relatedness of the new disease, it may align closely or not. It will be interesting to see if a disease unrelated to Asthma on the surface does align to the Asthma symptom clustering, suggesting underlying similarities. Can this be generalized to map diseases to one another via symptoms?\n",
    "\n",
    "**Data Sources **\n",
    "* HUSH+ synthetic data resource\n",
    "* [FHIR synthetic data resource](http://ictrweb.johnshopkins.edu/ictr/synthetic/)\n",
    "* [DE-SynPUF synthetic data resource](https://www.cms.gov/Research-Statistics-Data-and-Systems/Downloadable-Public-Use-Files/SynPUFs/DE_Syn_PUF.html)\n",
    "* [UMLS](https://www.nlm.nih.gov/research/umls/), NOTE: there is a Web API [here](https://documentation.uts.nlm.nih.gov/rest/home.html)\n",
    "* [OHDSI Web API](http://www.ohdsi.org/web/wiki/doku.php?id=documentation:software:webapi)\n",
    "* [Biolink API](https://api.monarchinitiative.org/api/#!/bioentity/get_disease_phenotype_associations), for Disease-Phenotype Associations"
   ]
  },
  {
   "cell_type": "markdown",
   "metadata": {},
   "source": [
    "### Function and dataset definitions"
   ]
  },
  {
   "cell_type": "code",
   "execution_count": 15,
   "metadata": {},
   "outputs": [],
   "source": [
    "\n",
    "\n",
    "import urllib, urllib2\n",
    "import pprint, json, requests, mysql.connector\n",
    "from greentranslator.api import GreenTranslator\n",
    "\n",
    "import matplotlib\n",
    "matplotlib.use('Agg')\n",
    "import pandas as pd\n",
    "import numpy as np\n",
    "import matplotlib.pyplot as plt\n",
    "\n",
    "\n",
    "flatten = lambda l: [item for sublist in l for item in sublist]\n",
    "\n",
    "try:\n",
    "    cnx = mysql.connector.connect(user='tadmin',\n",
    "                                password='ncats_translator!',\n",
    "                                database='umls',\n",
    "                                host='umls.ncats.io')\n",
    "except mysql.connector.Error as err:\n",
    "    if err.errno == errorcode.ER_ACCESS_DENIED_ERROR:\n",
    "        print(\"Something is wrong with your user name or password\")\n",
    "    elif err.errno == errorcode.ER_BAD_DB_ERROR:\n",
    "        print(\"Database does not exist\")\n",
    "    else:\n",
    "        print(err)"
   ]
  },
  {
   "cell_type": "code",
   "execution_count": 2,
   "metadata": {},
   "outputs": [],
   "source": [
    "## Pull in disease to symptom mappings taken from the SI of\n",
    "## https://www.nature.com/articles/ncomms5212. Takes a bit of time to pull down\n",
    "DISEASE2SYMPTOMS = [x.split(\"\\t\") for x in urllib.urlopen(\"https://www.nature.com/article-assets/npg/ncomms/2014/140626/ncomms5212/extref/ncomms5212-s4.txt\").read().split(\"\\n\")]\n",
    "DISEASE2SYMPTOMS = filter(lambda x: len(x) == 4, DISEASE2SYMPTOMS)"
   ]
  },
  {
   "cell_type": "code",
   "execution_count": 3,
   "metadata": {},
   "outputs": [],
   "source": [
    "## Define patient classes for easier handling\n",
    "class Patient:\n",
    "    def __init__(self, obj):\n",
    "        self._obj = obj\n",
    "    def getPatientID(self):\n",
    "        raise NotImplementedError\n",
    "    def getSymptoms():\n",
    "        raise NotImplementedError\n",
    "    def __str__(self):\n",
    "        raise NotImplementedError\n",
    "        \n",
    "class PatientFHIR(Patient):\n",
    "    def __init__(self, obj):\n",
    "        Patient.__init__(self, obj)\n",
    "        self._symptoms = []\n",
    "    def getPatientID(self):\n",
    "        ret = self._obj['subject']['reference']\n",
    "        return ret.replace(\"Patient/\",\"\")\n",
    "    def getCodes(self):\n",
    "        ret = self._obj['code']['coding']\n",
    "        ret = ['%s#%s' % (x['code'],x['display']) for x in ret]\n",
    "        return ret\n",
    "    def getSymptoms(self):\n",
    "        if len(self._symptoms) == 0:\n",
    "            try:\n",
    "                url = \"http://ictrweb.johnshopkins.edu/rest/synthetic/Observation?patient=\"+self.getPatientID()\n",
    "                response = urllib2.urlopen(url)\n",
    "                text = response.read()\n",
    "            except Exceptiom, e:\n",
    "                return self._symptoms\n",
    "            obj = json.loads(text)\n",
    "            if isinstance(obj, dict) and 'symptom' in obj.keys():\n",
    "                symps = obj['symptom']['coding']\n",
    "                self._symptoms = [ (x['code'],x['display']) for x in symps ]\n",
    "        return self._symptoms\n",
    "\n",
    "    def __str__(self):\n",
    "        return \"%s [%s]\" % (self.getPatientID(), '/'.join(self.getCodes()))"
   ]
  },
  {
   "cell_type": "code",
   "execution_count": 4,
   "metadata": {},
   "outputs": [
    {
     "name": "stdout",
     "output_type": "stream",
     "text": [
      "[u'E945.7', u'493', u'493.9', u'493.90', u'493.92', u'493.91', u'493.2', u'493.20', u'493.22', u'493.21', u'493.82', u'493.0', u'493.00', u'493.02', u'493.01', u'V17.5', u'493.1', u'493.10', u'493.12', u'493.11', u'493.8', u'975.7']\n",
      "J45.9\n",
      "493.9\n"
     ]
    }
   ],
   "source": [
    "## Given disease/condition term, get back ICD codes from OHDSI\n",
    "def findICD_ohdsi(txt, icd_version = 9):\n",
    "    if icd_version == 9:\n",
    "        icd_type = 'ICD9CM'\n",
    "    elif icd_version == 10:\n",
    "        icd_type = 'ICD10'\n",
    "    else: raise Exception(\"Invalid ICD version specified\")    \n",
    "    url_con = \"http://api.ohdsi.org/WebAPI/vocabulary/search\"\n",
    "    headers = {'content-type': 'application/json'}\n",
    "    params = {\"QUERY\": txt,\n",
    "              \"VOCABULARY_ID\": [icd_type]}\n",
    "    response = requests.post(url_con, data=json.dumps(params), headers=headers)\n",
    "    data= json.loads(response.text.decode('utf-8'))\n",
    "    return [d[\"CONCEPT_CODE\"] for d in data]\n",
    "print findICD_ohdsi('asthma')\n",
    "\n",
    "# Get ICD10/ICD9 code for a given string from UMLS. By default we get back ICD10.\n",
    "def findICD_umls(name, icd_version = 10):\n",
    "    if icd_version == 9:\n",
    "        icd_type = 'ICD9CM'\n",
    "    elif icd_version == 10:\n",
    "        icd_type = 'ICD10'\n",
    "    else: raise Exception(\"Invalid ICD version specified\")\n",
    "\n",
    "    cursor = cnx.cursor()\n",
    "    query = (\"SELECT CUI FROM umls.MRCONSO WHERE STR='\"+name+\"'\")\n",
    "    cursor.execute(query, ())\n",
    "    res = \"Undef\"\n",
    "    for code in cursor:\n",
    "        if res==\"Undef\":\n",
    "            res = code\n",
    "    if res != \"Undef\":\n",
    "        query = (\"SELECT CODE FROM umls.MRCONSO WHERE SAB='\"+icd_type+\"' AND CUI='\"+res[0]+\"'\")\n",
    "        cursor.execute(query, ())\n",
    "        icd10 = \"Undef\"\n",
    "        for code in cursor:\n",
    "            icd10 = code\n",
    "        return (icd10[0])\n",
    "    return (\"Undef\")\n",
    "\n",
    "print(findICD_umls('Asthma'))\n",
    "print(findICD_umls('Asthma', 9))"
   ]
  },
  {
   "cell_type": "code",
   "execution_count": 5,
   "metadata": {},
   "outputs": [
    {
     "name": "stdout",
     "output_type": "stream",
     "text": [
      "Found 206 symptom MeSH terms for Asthma\n"
     ]
    }
   ],
   "source": [
    "## Given disease name, get back symptoms (defined using MeSH terms) along with TFIDF scores\n",
    "## Taken from https://www.nature.com/articles/ncomms5212\n",
    "def disease2symptoms(txt):\n",
    "    s = filter(lambda x: txt.lower() in x[1].lower(), DISEASE2SYMPTOMS)\n",
    "    return([(x[0], x[3]) for x in s])\n",
    "symps = disease2symptoms(\"Asthma\")\n",
    "print 'Found %s symptom MeSH terms for %s' % (len(symps), \"Asthma\")"
   ]
  },
  {
   "cell_type": "code",
   "execution_count": 6,
   "metadata": {
    "collapsed": true
   },
   "outputs": [],
   "source": [
    "## Functions to retreive patients from different sources - currently FHIR & UNC\n",
    "def findPatients_fhir(code, count=1000):\n",
    "    try:\n",
    "        response = urllib2.urlopen(\"http://ictrweb.johnshopkins.edu/rest/synthetic/Condition?icd_10=\"+code+\"&_count=%d\" % (count))\n",
    "        text = response.read()\n",
    "    except Exception, e:\n",
    "        raise Exception(e)\n",
    "    objs = json.loads(text)\n",
    "    if len(objs) > 0:\n",
    "        patients = [PatientFHIR(x) for x in objs['entry']]\n",
    "    else: patients = []\n",
    "    return patients\n",
    "\n",
    "def findPatients_unc(age='8', sex='male', race='white', location='OUTPATIENT'):\n",
    "    query = GreenTranslator ().get_query()\n",
    "    return query.clinical_get_patients(age, sex, race, location)            "
   ]
  },
  {
   "cell_type": "markdown",
   "metadata": {},
   "source": [
    "### Workflow for \"_What are symptoms of Asthma subtypes?_\""
   ]
  },
  {
   "cell_type": "markdown",
   "metadata": {},
   "source": [
    "#### Find patients diagnosed with Asthma"
   ]
  },
  {
   "cell_type": "code",
   "execution_count": 7,
   "metadata": {},
   "outputs": [],
   "source": [
    "asthmaCodes = findICD_umls(\"asthma\") # We go with ICD10 codes\n",
    "## get patients with asthma. First from FHIR, then with UNC\n",
    "p_fhir = flatten(filter(lambda x: len(x) > 0, [findPatients_fhir(icd) for icd in asthmaCodes]))\n",
    "##p_unc = findPatients_unc() # TODO needs to be updated to latest code"
   ]
  },
  {
   "cell_type": "markdown",
   "metadata": {},
   "source": [
    "#### Find symptoms for Asthma\n",
    "\n",
    "* Next we identify symptoms for asthma. Our starting point in a list of diseases and symptoms from (Zhou et al)[https://www.nature.com/articles/ncomms5212] derived based on co-occurence. The symptoms so obtained are MeSH terms which we then translate to ICD10 codes. For this translation we query both UMLS and OHDSI\n",
    "* We will transition to using [BioLink API](https://api.monarchinitiative.org/api/#!/bioentity/get_disease_phenotype_associations), for Disease-Phenotype Associations."
   ]
  },
  {
   "cell_type": "code",
   "execution_count": 8,
   "metadata": {},
   "outputs": [
    {
     "name": "stdout",
     "output_type": "stream",
     "text": [
      "Found 206 symptom MeSH terms for asthma\n",
      "Mapped to 518 unique ICD10 codes\n"
     ]
    }
   ],
   "source": [
    "asthmaSymptoms = disease2symptoms(\"asthma\")\n",
    "print 'Found %s symptom MeSH terms for %s' % (len(symps), \"asthma\")\n",
    "asthmaSymptomCodes = filter(lambda x: x != 'U', [findICD_umls(x[0], 10) for x in symps])\n",
    "\n",
    "\n",
    "tmp2 = flatten([findICD_ohdsi(x[0], 10) for x in symps])\n",
    "asthmaSymptomCodes.extend(tmp2)\n",
    "\n",
    "asthmaSymptomCodes = list(set(asthmaSymptomCodes))\n",
    "print 'Mapped to %d unique ICD10 codes' % (len(asthmaSymptomCodes))"
   ]
  },
  {
   "cell_type": "markdown",
   "metadata": {},
   "source": [
    "#### Find occurences of symptoms in Asthma patients\n",
    "\n",
    "Given the set of symptoms for the disease, we now identify patients matching these symptoms. Note that the lines between symptom, condition, diagnoses are not always well defined. \n",
    "\n",
    "First we retrieve symptoms for each patient as recorded in their visit. (For now, we don't filter by the \"reported\" symptoms for asthma, and just go with the \"observed\" symptoms. This is OK, because we queried for patients that specifically had asthma)"
   ]
  },
  {
   "cell_type": "code",
   "execution_count": 9,
   "metadata": {},
   "outputs": [],
   "source": [
    "asthmaPatients = [(x.getPatientID(), [y[1] for y in x.getSymptoms()]) for x in p_fhir]"
   ]
  },
  {
   "cell_type": "markdown",
   "metadata": {},
   "source": [
    "For Broads analysis method, we require a a dictionary of the form `{ \"patient1\": [\"symptom1\", \"symptom2\"], \"patient2\": ... }`. Since we have both code and description, we use the descriptions, and generate a JSON string which we then dump to a file."
   ]
  },
  {
   "cell_type": "code",
   "execution_count": 10,
   "metadata": {},
   "outputs": [],
   "source": [
    "forBroad = {key:value for (key, value) in asthmaPatients}\n",
    "jsonForClustering = json.dumps(forBroad)\n",
    "o = open('json-for-clustering.json', 'w')\n",
    "o.write(jsonForClustering)\n",
    "o.close()"
   ]
  },
  {
   "cell_type": "markdown",
   "metadata": {},
   "source": [
    "#### Find symptom clusters among Asthma patients and also patient clusters among symptoms\n",
    "\n",
    "Having gotten the symptoms for all patients we determine the unique set of all symptoms across all patients. This represents the universe of symptoms. Each patient is then represented by a binary vector, where the symptoms for that patient are set to 1."
   ]
  },
  {
   "cell_type": "code",
   "execution_count": 18,
   "metadata": {},
   "outputs": [
    {
     "data": {
      "text/plain": [
       "<seaborn.matrix.ClusterGrid at 0x7f9d43944a90>"
      ]
     },
     "execution_count": 18,
     "metadata": {},
     "output_type": "execute_result"
    },
    {
     "data": {
      "image/png": "[encoded data removed]",
      "text/plain": [
       "<matplotlib.figure.Figure at 0x7f9d455b1b10>"
      ]
     },
     "metadata": {},
     "output_type": "display_data"
    }
   ],
   "source": [
    "universe = list(set(flatten([x[1] for x in asthmaPatients])))\n",
    "universe.sort()\n",
    "data = []\n",
    "for pid,symptoms in asthmaPatients:\n",
    "    vec = [0 for x in range(0,len(universe)+1)]\n",
    "    vec[0] = pid\n",
    "    for i in range(0, len(universe)):\n",
    "        if universe[i] in symptoms:\n",
    "            vec[i+1] = 1\n",
    "    data.append(vec)\n",
    "\n",
    "header = ['PID']\n",
    "header.extend(universe)\n",
    "data = pd.DataFrame(data,columns=header).set_index('PID')\n",
    "\n",
    "import seaborn as sns\n",
    "%matplotlib inline\n",
    "cg = sns.clustermap(data, metric='hamming', z_score=None)\n",
    "for text in cg.ax_heatmap.get_yticklabels():\n",
    "    text.set_rotation('horizontal')\n",
    "cg    "
   ]
  },
  {
   "cell_type": "markdown",
   "metadata": {},
   "source": [
    "#### Compare symptom clusters of patients diagnosed with Asthma without COPD vs Asthma with COPD"
   ]
  }
 ],
 "metadata": {
  "kernelspec": {
   "display_name": "Python 2",
   "language": "python",
   "name": "python2"
  },
  "language_info": {
   "codemirror_mode": {
    "name": "ipython",
    "version": 2
   },
   "file_extension": ".py",
   "mimetype": "text/x-python",
   "name": "python",
   "nbconvert_exporter": "python",
   "pygments_lexer": "ipython2",
   "version": "2.7.9"
  }
 },
 "nbformat": 4,
 "nbformat_minor": 2
}
